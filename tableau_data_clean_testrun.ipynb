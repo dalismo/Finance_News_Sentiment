{
 "cells": [
  {
   "cell_type": "code",
   "execution_count": 1,
   "id": "a09394c7",
   "metadata": {},
   "outputs": [],
   "source": [
    "import pandas as pd"
   ]
  },
  {
   "cell_type": "code",
   "execution_count": 2,
   "id": "1266760c",
   "metadata": {},
   "outputs": [
    {
     "data": {
      "text/html": [
       "<div>\n",
       "<style scoped>\n",
       "    .dataframe tbody tr th:only-of-type {\n",
       "        vertical-align: middle;\n",
       "    }\n",
       "\n",
       "    .dataframe tbody tr th {\n",
       "        vertical-align: top;\n",
       "    }\n",
       "\n",
       "    .dataframe thead th {\n",
       "        text-align: right;\n",
       "    }\n",
       "</style>\n",
       "<table border=\"1\" class=\"dataframe\">\n",
       "  <thead>\n",
       "    <tr style=\"text-align: right;\">\n",
       "      <th></th>\n",
       "      <th>Unnamed: 0</th>\n",
       "      <th>predicted_label</th>\n",
       "      <th>text</th>\n",
       "      <th>words</th>\n",
       "    </tr>\n",
       "  </thead>\n",
       "  <tbody>\n",
       "    <tr>\n",
       "      <th>0</th>\n",
       "      <td>0</td>\n",
       "      <td>Positive</td>\n",
       "      <td>Moderna Coronavirus Vaccine Clinical Trials Ar...</td>\n",
       "      <td>['moderna', 'coronavirus', 'vaccine', 'clinica...</td>\n",
       "    </tr>\n",
       "    <tr>\n",
       "      <th>1</th>\n",
       "      <td>1</td>\n",
       "      <td>Positive</td>\n",
       "      <td>Tesla could help make lithium ion batteries fo...</td>\n",
       "      <td>['tesla', 'could', 'help', 'make', 'lithium', ...</td>\n",
       "    </tr>\n",
       "    <tr>\n",
       "      <th>2</th>\n",
       "      <td>2</td>\n",
       "      <td>Neutral</td>\n",
       "      <td>Chinese Airlines See Short-Term Virus Hit</td>\n",
       "      <td>['chinese', 'airlines', 'see', 'short-term', '...</td>\n",
       "    </tr>\n",
       "    <tr>\n",
       "      <th>3</th>\n",
       "      <td>3</td>\n",
       "      <td>Neutral</td>\n",
       "      <td>Why MercadoLibre Stock Lost 21% Last Month</td>\n",
       "      <td>['why', 'mercadolibre', 'stock', 'lost', '21%'...</td>\n",
       "    </tr>\n",
       "    <tr>\n",
       "      <th>4</th>\n",
       "      <td>4</td>\n",
       "      <td>Neutral</td>\n",
       "      <td>Cruise operator Carnival pays high price to ge...</td>\n",
       "      <td>['cruise', 'operator', 'carnival', 'pays', 'hi...</td>\n",
       "    </tr>\n",
       "  </tbody>\n",
       "</table>\n",
       "</div>"
      ],
      "text/plain": [
       "   Unnamed: 0 predicted_label  \\\n",
       "0           0        Positive   \n",
       "1           1        Positive   \n",
       "2           2         Neutral   \n",
       "3           3         Neutral   \n",
       "4           4         Neutral   \n",
       "\n",
       "                                                text  \\\n",
       "0  Moderna Coronavirus Vaccine Clinical Trials Ar...   \n",
       "1  Tesla could help make lithium ion batteries fo...   \n",
       "2          Chinese Airlines See Short-Term Virus Hit   \n",
       "3         Why MercadoLibre Stock Lost 21% Last Month   \n",
       "4  Cruise operator Carnival pays high price to ge...   \n",
       "\n",
       "                                               words  \n",
       "0  ['moderna', 'coronavirus', 'vaccine', 'clinica...  \n",
       "1  ['tesla', 'could', 'help', 'make', 'lithium', ...  \n",
       "2  ['chinese', 'airlines', 'see', 'short-term', '...  \n",
       "3  ['why', 'mercadolibre', 'stock', 'lost', '21%'...  \n",
       "4  ['cruise', 'operator', 'carnival', 'pays', 'hi...  "
      ]
     },
     "execution_count": 2,
     "metadata": {},
     "output_type": "execute_result"
    }
   ],
   "source": [
    "filepath = \"Resources/PREDICTIONS_pre_vaccine_lr_model.csv\"\n",
    "df = pd.read_csv(filepath)\n",
    "df.head()"
   ]
  },
  {
   "cell_type": "code",
   "execution_count": 3,
   "id": "317ce40b",
   "metadata": {},
   "outputs": [
    {
     "data": {
      "text/html": [
       "<div>\n",
       "<style scoped>\n",
       "    .dataframe tbody tr th:only-of-type {\n",
       "        vertical-align: middle;\n",
       "    }\n",
       "\n",
       "    .dataframe tbody tr th {\n",
       "        vertical-align: top;\n",
       "    }\n",
       "\n",
       "    .dataframe thead th {\n",
       "        text-align: right;\n",
       "    }\n",
       "</style>\n",
       "<table border=\"1\" class=\"dataframe\">\n",
       "  <thead>\n",
       "    <tr style=\"text-align: right;\">\n",
       "      <th></th>\n",
       "      <th>predicted_label</th>\n",
       "      <th>text</th>\n",
       "    </tr>\n",
       "  </thead>\n",
       "  <tbody>\n",
       "    <tr>\n",
       "      <th>0</th>\n",
       "      <td>Positive</td>\n",
       "      <td>Moderna Coronavirus Vaccine Clinical Trials Ar...</td>\n",
       "    </tr>\n",
       "    <tr>\n",
       "      <th>1</th>\n",
       "      <td>Positive</td>\n",
       "      <td>Tesla could help make lithium ion batteries fo...</td>\n",
       "    </tr>\n",
       "    <tr>\n",
       "      <th>2</th>\n",
       "      <td>Neutral</td>\n",
       "      <td>Chinese Airlines See Short-Term Virus Hit</td>\n",
       "    </tr>\n",
       "    <tr>\n",
       "      <th>3</th>\n",
       "      <td>Neutral</td>\n",
       "      <td>Why MercadoLibre Stock Lost 21% Last Month</td>\n",
       "    </tr>\n",
       "    <tr>\n",
       "      <th>4</th>\n",
       "      <td>Neutral</td>\n",
       "      <td>Cruise operator Carnival pays high price to ge...</td>\n",
       "    </tr>\n",
       "  </tbody>\n",
       "</table>\n",
       "</div>"
      ],
      "text/plain": [
       "  predicted_label                                               text\n",
       "0        Positive  Moderna Coronavirus Vaccine Clinical Trials Ar...\n",
       "1        Positive  Tesla could help make lithium ion batteries fo...\n",
       "2         Neutral          Chinese Airlines See Short-Term Virus Hit\n",
       "3         Neutral         Why MercadoLibre Stock Lost 21% Last Month\n",
       "4         Neutral  Cruise operator Carnival pays high price to ge..."
      ]
     },
     "execution_count": 3,
     "metadata": {},
     "output_type": "execute_result"
    }
   ],
   "source": [
    "df.drop([\"Unnamed: 0\", \"words\"], axis=1, inplace=True)\n",
    "df.head()"
   ]
  },
  {
   "cell_type": "code",
   "execution_count": 4,
   "id": "29250c51",
   "metadata": {},
   "outputs": [],
   "source": [
    "# Function for splitting text column into list of words\n",
    "def convert(lst):\n",
    "    return lst.split()"
   ]
  },
  {
   "cell_type": "code",
   "execution_count": 5,
   "id": "f54d2e48",
   "metadata": {},
   "outputs": [
    {
     "data": {
      "text/html": [
       "<div>\n",
       "<style scoped>\n",
       "    .dataframe tbody tr th:only-of-type {\n",
       "        vertical-align: middle;\n",
       "    }\n",
       "\n",
       "    .dataframe tbody tr th {\n",
       "        vertical-align: top;\n",
       "    }\n",
       "\n",
       "    .dataframe thead th {\n",
       "        text-align: right;\n",
       "    }\n",
       "</style>\n",
       "<table border=\"1\" class=\"dataframe\">\n",
       "  <thead>\n",
       "    <tr style=\"text-align: right;\">\n",
       "      <th></th>\n",
       "      <th>predicted_label</th>\n",
       "      <th>text</th>\n",
       "      <th>words</th>\n",
       "    </tr>\n",
       "  </thead>\n",
       "  <tbody>\n",
       "    <tr>\n",
       "      <th>0</th>\n",
       "      <td>Positive</td>\n",
       "      <td>Moderna Coronavirus Vaccine Clinical Trials Ar...</td>\n",
       "      <td>[Moderna, Coronavirus, Vaccine, Clinical, Tria...</td>\n",
       "    </tr>\n",
       "    <tr>\n",
       "      <th>1</th>\n",
       "      <td>Positive</td>\n",
       "      <td>Tesla could help make lithium ion batteries fo...</td>\n",
       "      <td>[Tesla, could, help, make, lithium, ion, batte...</td>\n",
       "    </tr>\n",
       "    <tr>\n",
       "      <th>2</th>\n",
       "      <td>Neutral</td>\n",
       "      <td>Chinese Airlines See Short-Term Virus Hit</td>\n",
       "      <td>[Chinese, Airlines, See, Short-Term, Virus, Hit]</td>\n",
       "    </tr>\n",
       "    <tr>\n",
       "      <th>3</th>\n",
       "      <td>Neutral</td>\n",
       "      <td>Why MercadoLibre Stock Lost 21% Last Month</td>\n",
       "      <td>[Why, MercadoLibre, Stock, Lost, 21%, Last, Mo...</td>\n",
       "    </tr>\n",
       "    <tr>\n",
       "      <th>4</th>\n",
       "      <td>Neutral</td>\n",
       "      <td>Cruise operator Carnival pays high price to ge...</td>\n",
       "      <td>[Cruise, operator, Carnival, pays, high, price...</td>\n",
       "    </tr>\n",
       "  </tbody>\n",
       "</table>\n",
       "</div>"
      ],
      "text/plain": [
       "  predicted_label                                               text  \\\n",
       "0        Positive  Moderna Coronavirus Vaccine Clinical Trials Ar...   \n",
       "1        Positive  Tesla could help make lithium ion batteries fo...   \n",
       "2         Neutral          Chinese Airlines See Short-Term Virus Hit   \n",
       "3         Neutral         Why MercadoLibre Stock Lost 21% Last Month   \n",
       "4         Neutral  Cruise operator Carnival pays high price to ge...   \n",
       "\n",
       "                                               words  \n",
       "0  [Moderna, Coronavirus, Vaccine, Clinical, Tria...  \n",
       "1  [Tesla, could, help, make, lithium, ion, batte...  \n",
       "2   [Chinese, Airlines, See, Short-Term, Virus, Hit]  \n",
       "3  [Why, MercadoLibre, Stock, Lost, 21%, Last, Mo...  \n",
       "4  [Cruise, operator, Carnival, pays, high, price...  "
      ]
     },
     "execution_count": 5,
     "metadata": {},
     "output_type": "execute_result"
    }
   ],
   "source": [
    "# Applying function to text row\n",
    "df[\"words\"] = df.apply(lambda row: convert(row[\"text\"]), axis=1)\n",
    "df.head()"
   ]
  },
  {
   "cell_type": "code",
   "execution_count": 6,
   "id": "df00c523",
   "metadata": {},
   "outputs": [
    {
     "data": {
      "text/html": [
       "<div>\n",
       "<style scoped>\n",
       "    .dataframe tbody tr th:only-of-type {\n",
       "        vertical-align: middle;\n",
       "    }\n",
       "\n",
       "    .dataframe tbody tr th {\n",
       "        vertical-align: top;\n",
       "    }\n",
       "\n",
       "    .dataframe thead th {\n",
       "        text-align: right;\n",
       "    }\n",
       "</style>\n",
       "<table border=\"1\" class=\"dataframe\">\n",
       "  <thead>\n",
       "    <tr style=\"text-align: right;\">\n",
       "      <th></th>\n",
       "      <th>text</th>\n",
       "      <th>date</th>\n",
       "    </tr>\n",
       "  </thead>\n",
       "  <tbody>\n",
       "    <tr>\n",
       "      <th>0</th>\n",
       "      <td>Kraton Corporation (KRA) CEO Kevin Fogarty on ...</td>\n",
       "      <td>08/01/2020</td>\n",
       "    </tr>\n",
       "    <tr>\n",
       "      <th>1</th>\n",
       "      <td>Carpenter Technology Corporation (CRS) CEO Ton...</td>\n",
       "      <td>08/01/2020</td>\n",
       "    </tr>\n",
       "    <tr>\n",
       "      <th>2</th>\n",
       "      <td>Mattel Mourns the Passing of Former Chairman a...</td>\n",
       "      <td>08/01/2020</td>\n",
       "    </tr>\n",
       "    <tr>\n",
       "      <th>3</th>\n",
       "      <td>Securitas AB (SCTBF) CEO Magnus Ahlqvist on Q2...</td>\n",
       "      <td>08/01/2020</td>\n",
       "    </tr>\n",
       "    <tr>\n",
       "      <th>4</th>\n",
       "      <td>Stocks This Week: Sell Short Altria And Cerner</td>\n",
       "      <td>08/01/2020</td>\n",
       "    </tr>\n",
       "  </tbody>\n",
       "</table>\n",
       "</div>"
      ],
      "text/plain": [
       "                                                text        date\n",
       "0  Kraton Corporation (KRA) CEO Kevin Fogarty on ...  08/01/2020\n",
       "1  Carpenter Technology Corporation (CRS) CEO Ton...  08/01/2020\n",
       "2  Mattel Mourns the Passing of Former Chairman a...  08/01/2020\n",
       "3  Securitas AB (SCTBF) CEO Magnus Ahlqvist on Q2...  08/01/2020\n",
       "4     Stocks This Week: Sell Short Altria And Cerner  08/01/2020"
      ]
     },
     "execution_count": 6,
     "metadata": {},
     "output_type": "execute_result"
    }
   ],
   "source": [
    "filepath2 = \"Resources/pre_vaccine_articles_dates.csv\"\n",
    "df1 = pd.read_csv(filepath2, header=None)\n",
    "df2 = df1.rename(columns={0:\"text\", 1:\"date\"})\n",
    "df2.head()"
   ]
  },
  {
   "cell_type": "code",
   "execution_count": 7,
   "id": "2ae2c294",
   "metadata": {},
   "outputs": [
    {
     "data": {
      "text/html": [
       "<div>\n",
       "<style scoped>\n",
       "    .dataframe tbody tr th:only-of-type {\n",
       "        vertical-align: middle;\n",
       "    }\n",
       "\n",
       "    .dataframe tbody tr th {\n",
       "        vertical-align: top;\n",
       "    }\n",
       "\n",
       "    .dataframe thead th {\n",
       "        text-align: right;\n",
       "    }\n",
       "</style>\n",
       "<table border=\"1\" class=\"dataframe\">\n",
       "  <thead>\n",
       "    <tr style=\"text-align: right;\">\n",
       "      <th></th>\n",
       "      <th>predicted_label</th>\n",
       "      <th>text</th>\n",
       "      <th>words</th>\n",
       "      <th>date</th>\n",
       "    </tr>\n",
       "  </thead>\n",
       "  <tbody>\n",
       "  </tbody>\n",
       "</table>\n",
       "</div>"
      ],
      "text/plain": [
       "Empty DataFrame\n",
       "Columns: [predicted_label, text, words, date]\n",
       "Index: []"
      ]
     },
     "execution_count": 7,
     "metadata": {},
     "output_type": "execute_result"
    }
   ],
   "source": [
    "merged_df = pd.merge(df, df2, on=\"text\", how=\"inner\")\n",
    "merged_df"
   ]
  },
  {
   "cell_type": "code",
   "execution_count": 8,
   "id": "834bc6c6",
   "metadata": {},
   "outputs": [
    {
     "data": {
      "text/html": [
       "<div>\n",
       "<style scoped>\n",
       "    .dataframe tbody tr th:only-of-type {\n",
       "        vertical-align: middle;\n",
       "    }\n",
       "\n",
       "    .dataframe tbody tr th {\n",
       "        vertical-align: top;\n",
       "    }\n",
       "\n",
       "    .dataframe thead th {\n",
       "        text-align: right;\n",
       "    }\n",
       "</style>\n",
       "<table border=\"1\" class=\"dataframe\">\n",
       "  <thead>\n",
       "    <tr style=\"text-align: right;\">\n",
       "      <th></th>\n",
       "      <th>predicted_label</th>\n",
       "      <th>date</th>\n",
       "      <th>words</th>\n",
       "    </tr>\n",
       "  </thead>\n",
       "  <tbody>\n",
       "  </tbody>\n",
       "</table>\n",
       "</div>"
      ],
      "text/plain": [
       "Empty DataFrame\n",
       "Columns: [predicted_label, date, words]\n",
       "Index: []"
      ]
     },
     "execution_count": 8,
     "metadata": {},
     "output_type": "execute_result"
    }
   ],
   "source": [
    "# Rearranging columns\n",
    "df_wordslist = merged_df[[\"predicted_label\", \"date\", \"words\"]]\n",
    "df_wordslist.head()"
   ]
  },
  {
   "cell_type": "code",
   "execution_count": 9,
   "id": "61c4dbd0",
   "metadata": {},
   "outputs": [
    {
     "data": {
      "text/html": [
       "<div>\n",
       "<style scoped>\n",
       "    .dataframe tbody tr th:only-of-type {\n",
       "        vertical-align: middle;\n",
       "    }\n",
       "\n",
       "    .dataframe tbody tr th {\n",
       "        vertical-align: top;\n",
       "    }\n",
       "\n",
       "    .dataframe thead th {\n",
       "        text-align: right;\n",
       "    }\n",
       "</style>\n",
       "<table border=\"1\" class=\"dataframe\">\n",
       "  <thead>\n",
       "    <tr style=\"text-align: right;\">\n",
       "      <th></th>\n",
       "    </tr>\n",
       "  </thead>\n",
       "  <tbody>\n",
       "  </tbody>\n",
       "</table>\n",
       "</div>"
      ],
      "text/plain": [
       "Empty DataFrame\n",
       "Columns: []\n",
       "Index: []"
      ]
     },
     "execution_count": 9,
     "metadata": {},
     "output_type": "execute_result"
    }
   ],
   "source": [
    "# Splitting words list into individual words\n",
    "out = []\n",
    "for index, row in df_wordslist.iterrows():\n",
    "    for item in row[\"words\"]:\n",
    "        row[\"keywords\"] = item\n",
    "        out += [row.copy()]\n",
    "        \n",
    "flattened_df = pd.DataFrame(out)\n",
    "flattened_df"
   ]
  },
  {
   "cell_type": "code",
   "execution_count": 10,
   "id": "e32c7ac9",
   "metadata": {},
   "outputs": [
    {
     "ename": "KeyError",
     "evalue": "'keywords'",
     "output_type": "error",
     "traceback": [
      "\u001b[0;31m---------------------------------------------------------------------------\u001b[0m",
      "\u001b[0;31mKeyError\u001b[0m                                  Traceback (most recent call last)",
      "\u001b[0;32m~/opt/anaconda3/lib/python3.8/site-packages/pandas/core/indexes/base.py\u001b[0m in \u001b[0;36mget_loc\u001b[0;34m(self, key, method, tolerance)\u001b[0m\n\u001b[1;32m   3079\u001b[0m             \u001b[0;32mtry\u001b[0m\u001b[0;34m:\u001b[0m\u001b[0;34m\u001b[0m\u001b[0;34m\u001b[0m\u001b[0m\n\u001b[0;32m-> 3080\u001b[0;31m                 \u001b[0;32mreturn\u001b[0m \u001b[0mself\u001b[0m\u001b[0;34m.\u001b[0m\u001b[0m_engine\u001b[0m\u001b[0;34m.\u001b[0m\u001b[0mget_loc\u001b[0m\u001b[0;34m(\u001b[0m\u001b[0mcasted_key\u001b[0m\u001b[0;34m)\u001b[0m\u001b[0;34m\u001b[0m\u001b[0;34m\u001b[0m\u001b[0m\n\u001b[0m\u001b[1;32m   3081\u001b[0m             \u001b[0;32mexcept\u001b[0m \u001b[0mKeyError\u001b[0m \u001b[0;32mas\u001b[0m \u001b[0merr\u001b[0m\u001b[0;34m:\u001b[0m\u001b[0;34m\u001b[0m\u001b[0;34m\u001b[0m\u001b[0m\n",
      "\u001b[0;32mpandas/_libs/index.pyx\u001b[0m in \u001b[0;36mpandas._libs.index.IndexEngine.get_loc\u001b[0;34m()\u001b[0m\n",
      "\u001b[0;32mpandas/_libs/index.pyx\u001b[0m in \u001b[0;36mpandas._libs.index.IndexEngine.get_loc\u001b[0;34m()\u001b[0m\n",
      "\u001b[0;32mpandas/_libs/hashtable_class_helper.pxi\u001b[0m in \u001b[0;36mpandas._libs.hashtable.PyObjectHashTable.get_item\u001b[0;34m()\u001b[0m\n",
      "\u001b[0;32mpandas/_libs/hashtable_class_helper.pxi\u001b[0m in \u001b[0;36mpandas._libs.hashtable.PyObjectHashTable.get_item\u001b[0;34m()\u001b[0m\n",
      "\u001b[0;31mKeyError\u001b[0m: 'keywords'",
      "\nThe above exception was the direct cause of the following exception:\n",
      "\u001b[0;31mKeyError\u001b[0m                                  Traceback (most recent call last)",
      "\u001b[0;32m<ipython-input-10-7b5aaabe1cb4>\u001b[0m in \u001b[0;36m<module>\u001b[0;34m\u001b[0m\n\u001b[1;32m      1\u001b[0m \u001b[0;31m# Removing Numeric Values from Keywords\u001b[0m\u001b[0;34m\u001b[0m\u001b[0;34m\u001b[0m\u001b[0;34m\u001b[0m\u001b[0m\n\u001b[0;32m----> 2\u001b[0;31m \u001b[0mflattened_df1\u001b[0m \u001b[0;34m=\u001b[0m \u001b[0mflattened_df\u001b[0m\u001b[0;34m[\u001b[0m\u001b[0;34m~\u001b[0m\u001b[0mflattened_df\u001b[0m\u001b[0;34m[\u001b[0m\u001b[0;34m\"keywords\"\u001b[0m\u001b[0;34m]\u001b[0m\u001b[0;34m.\u001b[0m\u001b[0mstr\u001b[0m\u001b[0;34m.\u001b[0m\u001b[0mcontains\u001b[0m\u001b[0;34m(\u001b[0m\u001b[0;34m\"^\\d+$\"\u001b[0m\u001b[0;34m)\u001b[0m\u001b[0;34m]\u001b[0m\u001b[0;34m\u001b[0m\u001b[0;34m\u001b[0m\u001b[0m\n\u001b[0m\u001b[1;32m      3\u001b[0m \u001b[0mflattened_df1\u001b[0m\u001b[0;34m\u001b[0m\u001b[0;34m\u001b[0m\u001b[0m\n",
      "\u001b[0;32m~/opt/anaconda3/lib/python3.8/site-packages/pandas/core/frame.py\u001b[0m in \u001b[0;36m__getitem__\u001b[0;34m(self, key)\u001b[0m\n\u001b[1;32m   3022\u001b[0m             \u001b[0;32mif\u001b[0m \u001b[0mself\u001b[0m\u001b[0;34m.\u001b[0m\u001b[0mcolumns\u001b[0m\u001b[0;34m.\u001b[0m\u001b[0mnlevels\u001b[0m \u001b[0;34m>\u001b[0m \u001b[0;36m1\u001b[0m\u001b[0;34m:\u001b[0m\u001b[0;34m\u001b[0m\u001b[0;34m\u001b[0m\u001b[0m\n\u001b[1;32m   3023\u001b[0m                 \u001b[0;32mreturn\u001b[0m \u001b[0mself\u001b[0m\u001b[0;34m.\u001b[0m\u001b[0m_getitem_multilevel\u001b[0m\u001b[0;34m(\u001b[0m\u001b[0mkey\u001b[0m\u001b[0;34m)\u001b[0m\u001b[0;34m\u001b[0m\u001b[0;34m\u001b[0m\u001b[0m\n\u001b[0;32m-> 3024\u001b[0;31m             \u001b[0mindexer\u001b[0m \u001b[0;34m=\u001b[0m \u001b[0mself\u001b[0m\u001b[0;34m.\u001b[0m\u001b[0mcolumns\u001b[0m\u001b[0;34m.\u001b[0m\u001b[0mget_loc\u001b[0m\u001b[0;34m(\u001b[0m\u001b[0mkey\u001b[0m\u001b[0;34m)\u001b[0m\u001b[0;34m\u001b[0m\u001b[0;34m\u001b[0m\u001b[0m\n\u001b[0m\u001b[1;32m   3025\u001b[0m             \u001b[0;32mif\u001b[0m \u001b[0mis_integer\u001b[0m\u001b[0;34m(\u001b[0m\u001b[0mindexer\u001b[0m\u001b[0;34m)\u001b[0m\u001b[0;34m:\u001b[0m\u001b[0;34m\u001b[0m\u001b[0;34m\u001b[0m\u001b[0m\n\u001b[1;32m   3026\u001b[0m                 \u001b[0mindexer\u001b[0m \u001b[0;34m=\u001b[0m \u001b[0;34m[\u001b[0m\u001b[0mindexer\u001b[0m\u001b[0;34m]\u001b[0m\u001b[0;34m\u001b[0m\u001b[0;34m\u001b[0m\u001b[0m\n",
      "\u001b[0;32m~/opt/anaconda3/lib/python3.8/site-packages/pandas/core/indexes/base.py\u001b[0m in \u001b[0;36mget_loc\u001b[0;34m(self, key, method, tolerance)\u001b[0m\n\u001b[1;32m   3080\u001b[0m                 \u001b[0;32mreturn\u001b[0m \u001b[0mself\u001b[0m\u001b[0;34m.\u001b[0m\u001b[0m_engine\u001b[0m\u001b[0;34m.\u001b[0m\u001b[0mget_loc\u001b[0m\u001b[0;34m(\u001b[0m\u001b[0mcasted_key\u001b[0m\u001b[0;34m)\u001b[0m\u001b[0;34m\u001b[0m\u001b[0;34m\u001b[0m\u001b[0m\n\u001b[1;32m   3081\u001b[0m             \u001b[0;32mexcept\u001b[0m \u001b[0mKeyError\u001b[0m \u001b[0;32mas\u001b[0m \u001b[0merr\u001b[0m\u001b[0;34m:\u001b[0m\u001b[0;34m\u001b[0m\u001b[0;34m\u001b[0m\u001b[0m\n\u001b[0;32m-> 3082\u001b[0;31m                 \u001b[0;32mraise\u001b[0m \u001b[0mKeyError\u001b[0m\u001b[0;34m(\u001b[0m\u001b[0mkey\u001b[0m\u001b[0;34m)\u001b[0m \u001b[0;32mfrom\u001b[0m \u001b[0merr\u001b[0m\u001b[0;34m\u001b[0m\u001b[0;34m\u001b[0m\u001b[0m\n\u001b[0m\u001b[1;32m   3083\u001b[0m \u001b[0;34m\u001b[0m\u001b[0m\n\u001b[1;32m   3084\u001b[0m         \u001b[0;32mif\u001b[0m \u001b[0mtolerance\u001b[0m \u001b[0;32mis\u001b[0m \u001b[0;32mnot\u001b[0m \u001b[0;32mNone\u001b[0m\u001b[0;34m:\u001b[0m\u001b[0;34m\u001b[0m\u001b[0;34m\u001b[0m\u001b[0m\n",
      "\u001b[0;31mKeyError\u001b[0m: 'keywords'"
     ]
    }
   ],
   "source": [
    "# Removing Numeric Values from Keywords\n",
    "flattened_df1 = flattened_df[~flattened_df[\"keywords\"].str.contains(\"^\\d+$\")]\n",
    "flattened_df1"
   ]
  },
  {
   "cell_type": "code",
   "execution_count": null,
   "id": "f671575f",
   "metadata": {},
   "outputs": [],
   "source": [
    "# Cleaning text with symbols\n",
    "import re\n",
    "flattened_df1[\"keywords_clean\"] = flattened_df1[\"keywords\"].map(lambda x: re.sub(r'\\W+', '', x))\n",
    "flattened_df1"
   ]
  },
  {
   "cell_type": "code",
   "execution_count": null,
   "id": "7a5cfc03",
   "metadata": {},
   "outputs": [],
   "source": [
    "# Check for empty rows\n",
    "import numpy as np\n",
    "np.where(pd.isnull(flattened_df1))"
   ]
  },
  {
   "cell_type": "code",
   "execution_count": null,
   "id": "3ea48a8a",
   "metadata": {},
   "outputs": [],
   "source": [
    "filepath3 = \"AI/Tickers_Nested_pre_vaccine_.csv\"\n",
    "df_tickers = pd.read_csv(filepath3, header=None)\n",
    "df_tickers1 = df_tickers.rename(columns={0:\"tickers\", 1:\"text\", 2:\"ticker_counts\"})\n",
    "df_tickers1"
   ]
  },
  {
   "cell_type": "code",
   "execution_count": null,
   "id": "ae2cbfde",
   "metadata": {},
   "outputs": [],
   "source": [
    "filepath4 = \"Resources/stock_list_tableau.csv\"\n",
    "df_stocklist = pd.read_csv(filepath4)\n",
    "df_stocklist"
   ]
  },
  {
   "cell_type": "code",
   "execution_count": null,
   "id": "4e7fcbf3",
   "metadata": {},
   "outputs": [],
   "source": [
    "df_stocklist1 = df_stocklist.rename(columns={\"Symbol\":\"tickers\"})\n",
    "df_stocklist1.head()"
   ]
  },
  {
   "cell_type": "code",
   "execution_count": null,
   "id": "51ceedd0",
   "metadata": {},
   "outputs": [],
   "source": [
    "df_merged_tickers = pd.merge(df_stocklist1, df_tickers1, on=\"tickers\")\n",
    "df_merged_tickers"
   ]
  },
  {
   "cell_type": "code",
   "execution_count": null,
   "id": "f67be1a5",
   "metadata": {},
   "outputs": [],
   "source": [
    "df_merged_x = pd.merge(df_merged_tickers, merged_df, on=\"text\")\n",
    "df_merged_x"
   ]
  },
  {
   "cell_type": "code",
   "execution_count": null,
   "id": "40cbcbe8",
   "metadata": {},
   "outputs": [],
   "source": [
    "# Splitting words list into individual words\n",
    "out1 = []\n",
    "for index, row in df_merged_x.iterrows():\n",
    "    for item in row[\"words\"]:\n",
    "        row[\"keywords\"] = item\n",
    "        out1 += [row.copy()]\n",
    "        \n",
    "flattened_df_ = pd.DataFrame(out1)\n",
    "flattened_df_"
   ]
  },
  {
   "cell_type": "code",
   "execution_count": null,
   "id": "54d58fb9",
   "metadata": {},
   "outputs": [],
   "source": [
    "precovid_tableau = flattened_df_.drop([\"ticker_counts\", \"words\"], axis=1)\n",
    "precovid_tableau"
   ]
  },
  {
   "cell_type": "code",
   "execution_count": null,
   "id": "d5057bb1",
   "metadata": {},
   "outputs": [],
   "source": [
    "precovid_tableau1 = precovid_tableau[~precovid_tableau[\"keywords\"].str.contains(\"^\\d+$\")]\n",
    "precovid_tableau1"
   ]
  },
  {
   "cell_type": "code",
   "execution_count": null,
   "id": "a149ffb2",
   "metadata": {},
   "outputs": [],
   "source": [
    "stopwords = [\"a\", \"about\", \"above\", \"above\", \"across\", \"after\", \"afterwards\",\n",
    "             \"again\", \"against\", \"all\", \"almost\", \"alone\", \"along\", \"already\", \n",
    "             \"also\",\"although\",\"always\",\"am\",\"among\", \"amongst\", \"amoungst\", \"amount\",  \n",
    "             \"an\", \"and\", \"another\", \"any\",\"anyhow\",\"anyone\",\"anything\",\"anyway\", \"anywhere\", \n",
    "             \"are\", \"around\", \"as\",  \"at\", \"back\",\"be\",\"became\", \"because\",\"become\",\"becomes\", \n",
    "             \"becoming\", \"been\", \"before\", \"beforehand\", \"behind\", \"being\", \"below\", \"beside\", \n",
    "             \"besides\", \"between\", \"beyond\", \"bill\", \"both\", \"bottom\",\"but\", \"by\", \"call\", \n",
    "             \"can\", \"cannot\", \"cant\", \"co\", \"con\", \"could\", \"couldnt\", \"cry\", \"de\", \n",
    "             \"describe\", \"detail\", \"do\", \"done\", \"down\", \"due\", \"during\", \"each\", \"eg\", \"eight\", \n",
    "             \"either\", \"eleven\",\"else\", \"elsewhere\", \"empty\", \"enough\", \"etc\", \"even\", \"ever\", \n",
    "             \"every\", \"everyone\", \"everything\", \"everywhere\", \"except\", \"few\", \"fifteen\", \"fify\", \n",
    "             \"fill\", \"find\", \"fire\", \"first\", \"five\", \"for\", \"former\", \"formerly\", \"forty\", \"found\", \n",
    "             \"four\", \"from\", \"front\", \"full\", \"further\", \"get\", \"give\", \"go\", \"had\", \"has\", \"hasnt\", \n",
    "             \"have\", \"he\", \"hence\", \"her\", \"here\", \"hereafter\", \"hereby\", \"herein\", \"hereupon\", \"hers\", \n",
    "             \"herself\", \"him\", \"himself\", \"his\", \"how\", \"however\", \"hundred\", \"ie\", \"if\", \"in\", \"inc\", \"indeed\", \"interest\", \"into\", \"is\", \"it\", \"its\", \"itself\", \"keep\", \"last\", \"latter\", \"latterly\", \"least\", \"less\", \"ltd\", \"made\", \"many\", \"may\", \"me\", \"meanwhile\", \"might\", \"mill\", \"mine\", \"more\", \"moreover\", \"most\", \"mostly\", \"move\", \"much\", \"must\", \"my\", \"myself\", \"name\", \"namely\", \"neither\", \"never\", \"nevertheless\", \"next\", \"nine\", \"no\", \"nobody\", \"none\", \"noone\", \"nor\", \"not\", \"nothing\", \"now\", \"nowhere\", \"of\", \"off\", \"often\", \"on\", \"once\", \"one\", \"only\", \"onto\", \"or\", \"other\", \"others\", \"otherwise\", \"our\", \"ours\", \"ourselves\", \"out\", \"over\", \"own\",\"part\", \"per\", \"perhaps\", \"please\", \"put\", \"rather\", \"re\", \"same\", \"see\", \"seem\", \"seemed\", \"seeming\", \"seems\", \"serious\", \"several\", \"she\", \"should\", \"show\", \"side\", \"since\", \"sincere\", \"six\", \"sixty\", \"so\", \"some\", \"somehow\", \"someone\", \"something\", \"sometime\", \"sometimes\", \"somewhere\", \"still\", \"such\", \"system\", \"take\", \"ten\", \"than\", \"that\", \"the\", \"their\", \"them\", \"themselves\", \"then\", \"thence\", \"there\", \"thereafter\", \"thereby\", \"therefore\", \"therein\", \"thereupon\", \"these\", \"they\", \"thick\", \"thin\", \"third\", \"this\", \"those\", \"though\", \"three\", \"through\", \"throughout\", \"thru\", \"thus\", \"to\", \"together\", \"too\", \"top\", \"toward\", \"towards\", \"twelve\", \"twenty\", \"two\", \"un\", \"under\", \"until\", \"up\", \"upon\", \"us\", \"very\", \"via\", \"was\", \"we\", \"well\", \"were\", \"what\", \"whatever\", \"when\", \"whence\", \"whenever\", \"where\", \"whereafter\", \"whereas\", \"whereby\", \"wherein\", \"whereupon\", \"wherever\", \"whether\", \"which\", \"while\", \"whither\", \"who\", \"whoever\", \"whole\", \"whom\", \"whose\", \"why\", \"will\", \"with\", \"within\", \"without\", \"would\", \"yet\", \"you\", \"your\", \"yours\", \"yourself\", \"yourselves\", \"the\"]"
   ]
  },
  {
   "cell_type": "code",
   "execution_count": null,
   "id": "8fe2ad79",
   "metadata": {},
   "outputs": [],
   "source": [
    "len(stopwords)"
   ]
  },
  {
   "cell_type": "code",
   "execution_count": null,
   "id": "e77b358c",
   "metadata": {},
   "outputs": [],
   "source": [
    "precovid_tableau1[\"keywords\"] = precovid_tableau1[\"keywords\"].str.lower()\n",
    "precovid_tableau1"
   ]
  },
  {
   "cell_type": "code",
   "execution_count": null,
   "id": "06506169",
   "metadata": {},
   "outputs": [],
   "source": [
    "xyz1 = precovid_tableau1[~precovid_tableau1['keywords'].isin(stopwords)]\n",
    "xyz1"
   ]
  },
  {
   "cell_type": "code",
   "execution_count": null,
   "id": "0c311d2f",
   "metadata": {
    "scrolled": false
   },
   "outputs": [],
   "source": [
    "# Neutral_Text = \"\"\n",
    "# Pos_Text = \"\"\n",
    "# Neg_Text = \"\"\n",
    "# for index, row in merged_df.iterrows():\n",
    "# #     print(row['predicted_label'])\n",
    "#     if row['predicted_label'] == \"Neutral\":\n",
    "#         Neutral_Text = Neutral_Text+row['text']+' '\n",
    "#     if row['predicted_label'] == \"Positive\":\n",
    "#         Pos_Text = Pos_Text+row['text']+' '\n",
    "#     if row['predicted_label'] == \"Negative\":\n",
    "#         Neg_Text = Neg_Text+row['text']+' '\n"
   ]
  },
  {
   "cell_type": "code",
   "execution_count": null,
   "id": "25637569",
   "metadata": {},
   "outputs": [],
   "source": [
    "# Neutral_Text"
   ]
  },
  {
   "cell_type": "code",
   "execution_count": null,
   "id": "c77b2989",
   "metadata": {},
   "outputs": [],
   "source": [
    "# # Cleaning text and lower casing all words\n",
    "# for char in ',$()-?&\\'.‘’%:':\n",
    "#     Neutral_Text=Neutral_Text.replace(char,' ')\n",
    "# Neutral_Text\n",
    "# Neutral_Text = Neutral_Text.lower()\n",
    "# # split returns a list of words delimited by sequences of whitespace (including tabs, newlines, etc, like re's \\s) \n",
    "# word_list_neutral = Neutral_Text.split()\n",
    "# neutral_common_words = Counter(word_list_neutral).most_common()\n",
    "# df_sentiment_neutral = pd.DataFrame(neutral_common_words)\n",
    "# df_sentiment_neutral['predicted_labels'] = \"Neutral\"\n",
    "# # neutral_common_words"
   ]
  },
  {
   "cell_type": "code",
   "execution_count": null,
   "id": "4a8ccd9e",
   "metadata": {},
   "outputs": [],
   "source": []
  },
  {
   "cell_type": "code",
   "execution_count": null,
   "id": "c6294c16",
   "metadata": {},
   "outputs": [],
   "source": [
    "# # Cleaning text and lower casing all words\n",
    "# for char in ',$()-?&\\'.‘’%:':\n",
    "#     Pos_Text=Pos_Text.replace(char,' ')\n",
    "# Pos_Text = Pos_Text.lower()\n",
    "# # split returns a list of words delimited by sequences of whitespace (including tabs, newlines, etc, like re's \\s) \n",
    "# word_list_Pos = Pos_Text.split()\n",
    "# pos_common_words = Counter(word_list_Pos).most_common()\n",
    "# df_sentiment_pos = pd.DataFrame(pos_common_words)\n",
    "# df_sentiment_pos['predicted_labels'] = \"Positive\"\n",
    "# df_sentiment_pos"
   ]
  },
  {
   "cell_type": "code",
   "execution_count": null,
   "id": "c72e62f6",
   "metadata": {},
   "outputs": [],
   "source": [
    "# # Cleaning text and lower casing all words\n",
    "# for char in ',$()-?&\\'.‘’%:':\n",
    "#     Neg_Text=Pos_Text.replace(char,' ')\n",
    "# Neg_Text = Neg_Text.lower()\n",
    "# # split returns a list of words delimited by sequences of whitespace (including tabs, newlines, etc, like re's \\s) \n",
    "# word_list_Neg = Neg_Text.split()\n",
    "# neg_common_words = Counter(word_list_Neg).most_common()\n",
    "# df_sentiment_neg = pd.DataFrame(neg_common_words)\n",
    "# df_sentiment_neg['predicted_labels'] = \"Negative\"\n",
    "# df_sentiment_neg"
   ]
  },
  {
   "cell_type": "code",
   "execution_count": null,
   "id": "8af13e27",
   "metadata": {},
   "outputs": [],
   "source": [
    "# df_sentiment_all = df_sentiment_pos.append(df_sentiment_neg)\n",
    "# df_sentiment_all = df_sentiment_all.append(df_sentiment_neutral)\n",
    "# df_sentiment_all"
   ]
  },
  {
   "cell_type": "code",
   "execution_count": null,
   "id": "c5224d43",
   "metadata": {},
   "outputs": [],
   "source": [
    "# df1 = pd.DataFrame(common_words)"
   ]
  },
  {
   "cell_type": "code",
   "execution_count": null,
   "id": "4a520654",
   "metadata": {},
   "outputs": [],
   "source": [
    "# df_sentiment_all.to_csv(\"Resources/Tableau_pre_covid_word_count_with_sentiment.csv\")"
   ]
  },
  {
   "cell_type": "code",
   "execution_count": null,
   "id": "99b5f84a",
   "metadata": {},
   "outputs": [],
   "source": []
  }
 ],
 "metadata": {
  "kernelspec": {
   "display_name": "Advanced Python",
   "language": "python",
   "name": "pythonadv"
  },
  "language_info": {
   "codemirror_mode": {
    "name": "ipython",
    "version": 3
   },
   "file_extension": ".py",
   "mimetype": "text/x-python",
   "name": "python",
   "nbconvert_exporter": "python",
   "pygments_lexer": "ipython3",
   "version": "3.8.8"
  }
 },
 "nbformat": 4,
 "nbformat_minor": 5
}
