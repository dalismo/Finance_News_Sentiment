{
  "nbformat": 4,
  "nbformat_minor": 0,
  "metadata": {
    "colab": {
      "name": "ab_ml_sentiment_analysis_test.ipynb",
      "provenance": [],
      "authorship_tag": "ABX9TyPkFvzrNFM/kCKe663M/ax/",
      "include_colab_link": true
    },
    "kernelspec": {
      "name": "python3",
      "display_name": "Python 3"
    },
    "language_info": {
      "name": "python"
    }
  },
  "cells": [
    {
      "cell_type": "markdown",
      "metadata": {
        "id": "view-in-github",
        "colab_type": "text"
      },
      "source": [
        "<a href=\"https://colab.research.google.com/github/dalismo/Finance_News_Sentiment/blob/ab%2Fml_sentiment_test/ab_ml_sentiment_analysis_test.ipynb\" target=\"_parent\"><img src=\"https://colab.research.google.com/assets/colab-badge.svg\" alt=\"Open In Colab\"/></a>"
      ]
    },
    {
      "cell_type": "code",
      "metadata": {
        "colab": {
          "base_uri": "https://localhost:8080/"
        },
        "id": "pwfdemcuhFo3",
        "outputId": "45260fba-d061-4904-f1b1-7ea461993f79"
      },
      "source": [
        "import pandas as pd\n",
        "\n",
        "import os\n",
        "# Find the latest version of spark 3.0  from http://www.apache.org/dist/spark/ and enter as the spark version\n",
        "# For example:\n",
        "# spark_version = 'spark-3.0.3'\n",
        "spark_version = 'spark-3.0.3'\n",
        "os.environ['SPARK_VERSION']=spark_version\n",
        "\n",
        "# Install Spark and Java\n",
        "!apt-get update\n",
        "!apt-get install openjdk-11-jdk-headless -qq > /dev/null\n",
        "!wget -q http://www.apache.org/dist/spark/$SPARK_VERSION/$SPARK_VERSION-bin-hadoop2.7.tgz\n",
        "!tar xf $SPARK_VERSION-bin-hadoop2.7.tgz\n",
        "!pip install -q findspark\n",
        "\n",
        "# Set Environment Variables\n",
        "os.environ[\"JAVA_HOME\"] = \"/usr/lib/jvm/java-11-openjdk-amd64\"\n",
        "os.environ[\"SPARK_HOME\"] = f\"/content/{spark_version}-bin-hadoop2.7\"\n",
        "\n",
        "# Start a SparkSession\n",
        "import findspark\n",
        "findspark.init()"
      ],
      "execution_count": 1,
      "outputs": [
        {
          "output_type": "stream",
          "name": "stdout",
          "text": [
            "Get:1 https://cloud.r-project.org/bin/linux/ubuntu bionic-cran40/ InRelease [3,626 B]\n",
            "Ign:2 https://developer.download.nvidia.com/compute/cuda/repos/ubuntu1804/x86_64  InRelease\n",
            "Get:3 http://security.ubuntu.com/ubuntu bionic-security InRelease [88.7 kB]\n",
            "Ign:4 https://developer.download.nvidia.com/compute/machine-learning/repos/ubuntu1804/x86_64  InRelease\n",
            "Get:5 https://developer.download.nvidia.com/compute/cuda/repos/ubuntu1804/x86_64  Release [696 B]\n",
            "Hit:6 https://developer.download.nvidia.com/compute/machine-learning/repos/ubuntu1804/x86_64  Release\n",
            "Hit:7 http://archive.ubuntu.com/ubuntu bionic InRelease\n",
            "Get:8 http://ppa.launchpad.net/c2d4u.team/c2d4u4.0+/ubuntu bionic InRelease [15.9 kB]\n",
            "Get:9 https://developer.download.nvidia.com/compute/cuda/repos/ubuntu1804/x86_64  Release.gpg [836 B]\n",
            "Get:10 http://archive.ubuntu.com/ubuntu bionic-updates InRelease [88.7 kB]\n",
            "Hit:12 http://ppa.launchpad.net/cran/libgit2/ubuntu bionic InRelease\n",
            "Get:13 https://developer.download.nvidia.com/compute/cuda/repos/ubuntu1804/x86_64  Packages [717 kB]\n",
            "Get:14 http://archive.ubuntu.com/ubuntu bionic-backports InRelease [74.6 kB]\n",
            "Get:15 http://ppa.launchpad.net/deadsnakes/ppa/ubuntu bionic InRelease [15.9 kB]\n",
            "Hit:16 http://ppa.launchpad.net/graphics-drivers/ppa/ubuntu bionic InRelease\n",
            "Get:17 http://security.ubuntu.com/ubuntu bionic-security/universe amd64 Packages [1,428 kB]\n",
            "Get:18 http://ppa.launchpad.net/c2d4u.team/c2d4u4.0+/ubuntu bionic/main Sources [1,799 kB]\n",
            "Get:19 http://archive.ubuntu.com/ubuntu bionic-updates/universe amd64 Packages [2,202 kB]\n",
            "Get:20 http://security.ubuntu.com/ubuntu bionic-security/restricted amd64 Packages [560 kB]\n",
            "Get:21 http://security.ubuntu.com/ubuntu bionic-security/main amd64 Packages [2,320 kB]\n",
            "Get:22 http://archive.ubuntu.com/ubuntu bionic-updates/main amd64 Packages [2,755 kB]\n",
            "Get:23 http://archive.ubuntu.com/ubuntu bionic-updates/restricted amd64 Packages [593 kB]\n",
            "Get:24 http://ppa.launchpad.net/c2d4u.team/c2d4u4.0+/ubuntu bionic/main amd64 Packages [921 kB]\n",
            "Get:25 http://ppa.launchpad.net/deadsnakes/ppa/ubuntu bionic/main amd64 Packages [40.8 kB]\n",
            "Fetched 13.6 MB in 7s (1,918 kB/s)\n",
            "Reading package lists... Done\n"
          ]
        }
      ]
    },
    {
      "cell_type": "code",
      "metadata": {
        "id": "JUt-DvqJh74m"
      },
      "source": [
        "from pyspark.sql import SparkSession\n",
        "spark = SparkSession.builder.appName(\"StopWords\").getOrCreate()"
      ],
      "execution_count": 2,
      "outputs": []
    },
    {
      "cell_type": "code",
      "metadata": {
        "id": "S5Ipd0lZh_7h"
      },
      "source": [
        "from pyspark.ml.feature import Tokenizer, StopWordsRemover"
      ],
      "execution_count": 3,
      "outputs": []
    },
    {
      "cell_type": "code",
      "metadata": {
        "colab": {
          "base_uri": "https://localhost:8080/"
        },
        "id": "xXwwFAh5iEpJ",
        "outputId": "06ed70d9-8d5b-4762-f384-7fe4ba6c4a34"
      },
      "source": [
        "from pyspark import SparkFiles\n",
        "\n",
        "url = 'https://raw.githubusercontent.com/dalismo/Finance_News_Sentiment/main/Resources/train-data.csv'\n",
        "\n",
        "spark.sparkContext.addFile(url)\n",
        "df = spark.read.csv(SparkFiles.get(\"train-data.csv\"), sep=\",\", header=None)\n",
        "\n",
        "df.show(truncate=False)"
      ],
      "execution_count": 5,
      "outputs": [
        {
          "output_type": "stream",
          "name": "stdout",
          "text": [
            "+--------+--------------------------------------------------------------------------------------------------------------------------------------------------------------------------------------------------------------------------------------------------------------+\n",
            "|_c0     |_c1                                                                                                                                                                                                                                                           |\n",
            "+--------+--------------------------------------------------------------------------------------------------------------------------------------------------------------------------------------------------------------------------------------------------------------+\n",
            "|neutral |According to Gran , the company has no plans to move all production to Russia , although that is where the company is growing .                                                                                                                               |\n",
            "|neutral |Technopolis plans to develop in stages an area of no less than 100,000 square meters in order to host companies working in computer technologies and telecommunications , the statement said .                                                                |\n",
            "|negative|The international electronic industry company Elcoteq has laid off tens of employees from its Tallinn facility ; contrary to earlier layoffs the company contracted the ranks of its office workers , the daily Postimees reported .                          |\n",
            "|positive|With the new production plant the company would increase its capacity to meet the expected increase in demand and would improve the use of raw materials and therefore increase the production profitability .                                                |\n",
            "|positive|According to the company 's updated strategy for the years 2009-2012 , Basware targets a long-term net sales growth in the range of 20 % -40 % with an operating profit margin of 10 % -20 % of net sales .                                                   |\n",
            "|positive|FINANCING OF ASPOCOMP 'S GROWTH Aspocomp is aggressively pursuing its growth strategy by increasingly focusing on technologically more demanding HDI printed circuit boards PCBs .                                                                            |\n",
            "|positive|For the last quarter of 2010 , Componenta 's net sales doubled to EUR131m from EUR76m for the same period a year earlier , while it moved to a zero pre-tax profit from a pre-tax loss of EUR7m .                                                             |\n",
            "|positive|In the third quarter of 2010 , net sales increased by 5.2 % to EUR 205.5 mn , and operating profit by 34.9 % to EUR 23.5 mn .                                                                                                                                 |\n",
            "|positive|Operating profit rose to EUR 13.1 mn from EUR 8.7 mn in the corresponding period in 2007 representing 7.7 % of net sales .                                                                                                                                    |\n",
            "|positive|Operating profit totalled EUR 21.1 mn , up from EUR 18.6 mn in 2007 , representing 9.7 % of net sales .                                                                                                                                                       |\n",
            "|positive|TeliaSonera TLSN said the offer is in line with its strategy to increase its ownership in core business holdings and would strengthen Eesti Telekom 's offering to its customers .                                                                            |\n",
            "|positive|STORA ENSO , NORSKE SKOG , M-REAL , UPM-KYMMENE Credit Suisse First Boston ( CFSB ) raised the fair value for shares in four of the largest Nordic forestry groups .                                                                                          |\n",
            "|positive|A purchase agreement for 7,200 tons of gasoline with delivery at the Hamina terminal , Finland , was signed with Neste Oil OYj at the average Platts index for this September plus eight US dollars per month .                                               |\n",
            "|positive|Finnish Talentum reports its operating profit increased to EUR 20.5 mn in 2005 from EUR 9.3 mn in 2004 , and net sales totaled EUR 103.3 mn , up from EUR 96.4 mn .                                                                                           |\n",
            "|positive|Clothing retail chain Sepp+�l+� 's sales increased by 8 % to EUR 155.2 mn , and operating profit rose to EUR 31.1 mn from EUR 17.1 mn in 2004 .                                                                                                               |\n",
            "|positive|Consolidated net sales increased 16 % to reach EUR74 .8 m , while operating profit amounted to EUR0 .9 m compared to a loss of EUR0 .7 m in the prior year period .                                                                                           |\n",
            "|positive|Foundries division reports its sales increased by 9.7 % to EUR 63.1 mn from EUR 57.5 mn in the corresponding period in 2006 , and sales of the Machine Shop division increased by 16.4 % to EUR 41.2 mn from EUR 35.4 mn in the corresponding period in 2006 .|\n",
            "|positive|HELSINKI ( AFX ) - Shares closed higher , led by Nokia after it announced plans to team up with Sanyo to manufacture 3G handsets , and by Nokian Tyres after its fourth-quarter earnings report beat analysts ' expectations , dealers said .                 |\n",
            "|positive|Incap Contract Manufacturing Services Pvt Ltd , a subsidiary of Incap Corporation of Finland , plans to double its revenues by 2007-2008 .                                                                                                                    |\n",
            "|positive|Its board of directors will propose a dividend of EUR0 .12 per share for 2010 , up from the EUR0 .08 per share paid in 2009 .                                                                                                                                 |\n",
            "+--------+--------------------------------------------------------------------------------------------------------------------------------------------------------------------------------------------------------------------------------------------------------------+\n",
            "only showing top 20 rows\n",
            "\n"
          ]
        }
      ]
    },
    {
      "cell_type": "code",
      "metadata": {
        "colab": {
          "base_uri": "https://localhost:8080/"
        },
        "id": "HUnthHxxiOYI",
        "outputId": "2555d9c5-c0ee-4f8e-d253-7e11fb7b7ddd"
      },
      "source": [
        "from pyspark.sql.functions import length\n",
        "data_df = df.withColumn('length', length(df['_c1']))\n",
        "data_df.show()"
      ],
      "execution_count": 6,
      "outputs": [
        {
          "output_type": "stream",
          "name": "stdout",
          "text": [
            "+--------+--------------------+------+\n",
            "|     _c0|                 _c1|length|\n",
            "+--------+--------------------+------+\n",
            "| neutral|According to Gran...|   127|\n",
            "| neutral|Technopolis plans...|   190|\n",
            "|negative|The international...|   228|\n",
            "|positive|With the new prod...|   206|\n",
            "|positive|According to the ...|   203|\n",
            "|positive|FINANCING OF ASPO...|   178|\n",
            "|positive|For the last quar...|   193|\n",
            "|positive|In the third quar...|   125|\n",
            "|positive|Operating profit ...|   122|\n",
            "|positive|Operating profit ...|   103|\n",
            "|positive|TeliaSonera TLSN ...|   178|\n",
            "|positive|STORA ENSO , NORS...|   164|\n",
            "|positive|A purchase agreem...|   207|\n",
            "|positive|Finnish Talentum ...|   163|\n",
            "|positive|Clothing retail c...|   143|\n",
            "|positive|Consolidated net ...|   163|\n",
            "|positive|Foundries divisio...|   254|\n",
            "|positive|HELSINKI ( AFX ) ...|   237|\n",
            "|positive|Incap Contract Ma...|   138|\n",
            "|positive|Its board of dire...|   125|\n",
            "+--------+--------------------+------+\n",
            "only showing top 20 rows\n",
            "\n"
          ]
        }
      ]
    },
    {
      "cell_type": "code",
      "metadata": {
        "colab": {
          "base_uri": "https://localhost:8080/"
        },
        "id": "8pGB-1SkiV3f",
        "outputId": "f49ca17f-812e-4f18-ea66-6edaacbd1f38"
      },
      "source": [
        "df2 = data_df.withColumnRenamed(\"_c0\", \"class\").withColumnRenamed(\"_c1\", \"text\")\n",
        "df2.printSchema()\n",
        "df2.show(truncate=False)"
      ],
      "execution_count": 19,
      "outputs": [
        {
          "output_type": "stream",
          "name": "stdout",
          "text": [
            "root\n",
            " |-- class: string (nullable = true)\n",
            " |-- text: string (nullable = true)\n",
            " |-- length: integer (nullable = true)\n",
            "\n",
            "+--------+--------------------------------------------------------------------------------------------------------------------------------------------------------------------------------------------------------------------------------------------------------------+------+\n",
            "|class   |text                                                                                                                                                                                                                                                          |length|\n",
            "+--------+--------------------------------------------------------------------------------------------------------------------------------------------------------------------------------------------------------------------------------------------------------------+------+\n",
            "|neutral |According to Gran , the company has no plans to move all production to Russia , although that is where the company is growing .                                                                                                                               |127   |\n",
            "|neutral |Technopolis plans to develop in stages an area of no less than 100,000 square meters in order to host companies working in computer technologies and telecommunications , the statement said .                                                                |190   |\n",
            "|negative|The international electronic industry company Elcoteq has laid off tens of employees from its Tallinn facility ; contrary to earlier layoffs the company contracted the ranks of its office workers , the daily Postimees reported .                          |228   |\n",
            "|positive|With the new production plant the company would increase its capacity to meet the expected increase in demand and would improve the use of raw materials and therefore increase the production profitability .                                                |206   |\n",
            "|positive|According to the company 's updated strategy for the years 2009-2012 , Basware targets a long-term net sales growth in the range of 20 % -40 % with an operating profit margin of 10 % -20 % of net sales .                                                   |203   |\n",
            "|positive|FINANCING OF ASPOCOMP 'S GROWTH Aspocomp is aggressively pursuing its growth strategy by increasingly focusing on technologically more demanding HDI printed circuit boards PCBs .                                                                            |178   |\n",
            "|positive|For the last quarter of 2010 , Componenta 's net sales doubled to EUR131m from EUR76m for the same period a year earlier , while it moved to a zero pre-tax profit from a pre-tax loss of EUR7m .                                                             |193   |\n",
            "|positive|In the third quarter of 2010 , net sales increased by 5.2 % to EUR 205.5 mn , and operating profit by 34.9 % to EUR 23.5 mn .                                                                                                                                 |125   |\n",
            "|positive|Operating profit rose to EUR 13.1 mn from EUR 8.7 mn in the corresponding period in 2007 representing 7.7 % of net sales .                                                                                                                                    |122   |\n",
            "|positive|Operating profit totalled EUR 21.1 mn , up from EUR 18.6 mn in 2007 , representing 9.7 % of net sales .                                                                                                                                                       |103   |\n",
            "|positive|TeliaSonera TLSN said the offer is in line with its strategy to increase its ownership in core business holdings and would strengthen Eesti Telekom 's offering to its customers .                                                                            |178   |\n",
            "|positive|STORA ENSO , NORSKE SKOG , M-REAL , UPM-KYMMENE Credit Suisse First Boston ( CFSB ) raised the fair value for shares in four of the largest Nordic forestry groups .                                                                                          |164   |\n",
            "|positive|A purchase agreement for 7,200 tons of gasoline with delivery at the Hamina terminal , Finland , was signed with Neste Oil OYj at the average Platts index for this September plus eight US dollars per month .                                               |207   |\n",
            "|positive|Finnish Talentum reports its operating profit increased to EUR 20.5 mn in 2005 from EUR 9.3 mn in 2004 , and net sales totaled EUR 103.3 mn , up from EUR 96.4 mn .                                                                                           |163   |\n",
            "|positive|Clothing retail chain Sepp+�l+� 's sales increased by 8 % to EUR 155.2 mn , and operating profit rose to EUR 31.1 mn from EUR 17.1 mn in 2004 .                                                                                                               |143   |\n",
            "|positive|Consolidated net sales increased 16 % to reach EUR74 .8 m , while operating profit amounted to EUR0 .9 m compared to a loss of EUR0 .7 m in the prior year period .                                                                                           |163   |\n",
            "|positive|Foundries division reports its sales increased by 9.7 % to EUR 63.1 mn from EUR 57.5 mn in the corresponding period in 2006 , and sales of the Machine Shop division increased by 16.4 % to EUR 41.2 mn from EUR 35.4 mn in the corresponding period in 2006 .|254   |\n",
            "|positive|HELSINKI ( AFX ) - Shares closed higher , led by Nokia after it announced plans to team up with Sanyo to manufacture 3G handsets , and by Nokian Tyres after its fourth-quarter earnings report beat analysts ' expectations , dealers said .                 |237   |\n",
            "|positive|Incap Contract Manufacturing Services Pvt Ltd , a subsidiary of Incap Corporation of Finland , plans to double its revenues by 2007-2008 .                                                                                                                    |138   |\n",
            "|positive|Its board of directors will propose a dividend of EUR0 .12 per share for 2010 , up from the EUR0 .08 per share paid in 2009 .                                                                                                                                 |125   |\n",
            "+--------+--------------------------------------------------------------------------------------------------------------------------------------------------------------------------------------------------------------------------------------------------------------+------+\n",
            "only showing top 20 rows\n",
            "\n"
          ]
        }
      ]
    },
    {
      "cell_type": "code",
      "metadata": {
        "colab": {
          "base_uri": "https://localhost:8080/"
        },
        "id": "ChzSZTNDkQMW",
        "outputId": "724b13b0-6ec1-4c1b-cb9d-89e9982962a5"
      },
      "source": [
        "from pyspark.sql.functions import *\n",
        "newDf = df2.withColumn(\"text\", regexp_replace(\"text\", \"[^A-Za-z0-9(),!?@\\'\\`\\\"\\_\\n.]\", \" \"))\n",
        "newDf.show(truncate=False)"
      ],
      "execution_count": 22,
      "outputs": [
        {
          "output_type": "stream",
          "name": "stdout",
          "text": [
            "+--------+--------------------------------------------------------------------------------------------------------------------------------------------------------------------------------------------------------------------------------------------------------------+------+\n",
            "|class   |text                                                                                                                                                                                                                                                          |length|\n",
            "+--------+--------------------------------------------------------------------------------------------------------------------------------------------------------------------------------------------------------------------------------------------------------------+------+\n",
            "|neutral |According to Gran , the company has no plans to move all production to Russia , although that is where the company is growing .                                                                                                                               |127   |\n",
            "|neutral |Technopolis plans to develop in stages an area of no less than 100,000 square meters in order to host companies working in computer technologies and telecommunications , the statement said .                                                                |190   |\n",
            "|negative|The international electronic industry company Elcoteq has laid off tens of employees from its Tallinn facility   contrary to earlier layoffs the company contracted the ranks of its office workers , the daily Postimees reported .                          |228   |\n",
            "|positive|With the new production plant the company would increase its capacity to meet the expected increase in demand and would improve the use of raw materials and therefore increase the production profitability .                                                |206   |\n",
            "|positive|According to the company 's updated strategy for the years 2009 2012 , Basware targets a long term net sales growth in the range of 20    40   with an operating profit margin of 10    20   of net sales .                                                   |203   |\n",
            "|positive|FINANCING OF ASPOCOMP 'S GROWTH Aspocomp is aggressively pursuing its growth strategy by increasingly focusing on technologically more demanding HDI printed circuit boards PCBs .                                                                            |178   |\n",
            "|positive|For the last quarter of 2010 , Componenta 's net sales doubled to EUR131m from EUR76m for the same period a year earlier , while it moved to a zero pre tax profit from a pre tax loss of EUR7m .                                                             |193   |\n",
            "|positive|In the third quarter of 2010 , net sales increased by 5.2   to EUR 205.5 mn , and operating profit by 34.9   to EUR 23.5 mn .                                                                                                                                 |125   |\n",
            "|positive|Operating profit rose to EUR 13.1 mn from EUR 8.7 mn in the corresponding period in 2007 representing 7.7   of net sales .                                                                                                                                    |122   |\n",
            "|positive|Operating profit totalled EUR 21.1 mn , up from EUR 18.6 mn in 2007 , representing 9.7   of net sales .                                                                                                                                                       |103   |\n",
            "|positive|TeliaSonera TLSN said the offer is in line with its strategy to increase its ownership in core business holdings and would strengthen Eesti Telekom 's offering to its customers .                                                                            |178   |\n",
            "|positive|STORA ENSO , NORSKE SKOG , M REAL , UPM KYMMENE Credit Suisse First Boston ( CFSB ) raised the fair value for shares in four of the largest Nordic forestry groups .                                                                                          |164   |\n",
            "|positive|A purchase agreement for 7,200 tons of gasoline with delivery at the Hamina terminal , Finland , was signed with Neste Oil OYj at the average Platts index for this September plus eight US dollars per month .                                               |207   |\n",
            "|positive|Finnish Talentum reports its operating profit increased to EUR 20.5 mn in 2005 from EUR 9.3 mn in 2004 , and net sales totaled EUR 103.3 mn , up from EUR 96.4 mn .                                                                                           |163   |\n",
            "|positive|Clothing retail chain Sepp  l   's sales increased by 8   to EUR 155.2 mn , and operating profit rose to EUR 31.1 mn from EUR 17.1 mn in 2004 .                                                                                                               |143   |\n",
            "|positive|Consolidated net sales increased 16   to reach EUR74 .8 m , while operating profit amounted to EUR0 .9 m compared to a loss of EUR0 .7 m in the prior year period .                                                                                           |163   |\n",
            "|positive|Foundries division reports its sales increased by 9.7   to EUR 63.1 mn from EUR 57.5 mn in the corresponding period in 2006 , and sales of the Machine Shop division increased by 16.4   to EUR 41.2 mn from EUR 35.4 mn in the corresponding period in 2006 .|254   |\n",
            "|positive|HELSINKI ( AFX )   Shares closed higher , led by Nokia after it announced plans to team up with Sanyo to manufacture 3G handsets , and by Nokian Tyres after its fourth quarter earnings report beat analysts ' expectations , dealers said .                 |237   |\n",
            "|positive|Incap Contract Manufacturing Services Pvt Ltd , a subsidiary of Incap Corporation of Finland , plans to double its revenues by 2007 2008 .                                                                                                                    |138   |\n",
            "|positive|Its board of directors will propose a dividend of EUR0 .12 per share for 2010 , up from the EUR0 .08 per share paid in 2009 .                                                                                                                                 |125   |\n",
            "+--------+--------------------------------------------------------------------------------------------------------------------------------------------------------------------------------------------------------------------------------------------------------------+------+\n",
            "only showing top 20 rows\n",
            "\n"
          ]
        }
      ]
    },
    {
      "cell_type": "code",
      "metadata": {
        "colab": {
          "base_uri": "https://localhost:8080/"
        },
        "id": "ld5WDdInqzzq",
        "outputId": "d097db2b-e2c1-4a28-edd1-a1f226c95f2e"
      },
      "source": [
        "import pyspark.sql.functions as f\n",
        "newDf2 = newDf.withColumn(\"text\",f.lower(f.col(\"text\")))\n",
        "newDf2.show()"
      ],
      "execution_count": 45,
      "outputs": [
        {
          "output_type": "stream",
          "name": "stdout",
          "text": [
            "+--------+--------------------+------+\n",
            "|   class|                text|length|\n",
            "+--------+--------------------+------+\n",
            "| neutral|according to gran...|   127|\n",
            "| neutral|technopolis plans...|   190|\n",
            "|negative|the international...|   228|\n",
            "|positive|with the new prod...|   206|\n",
            "|positive|according to the ...|   203|\n",
            "|positive|financing of aspo...|   178|\n",
            "|positive|for the last quar...|   193|\n",
            "|positive|in the third quar...|   125|\n",
            "|positive|operating profit ...|   122|\n",
            "|positive|operating profit ...|   103|\n",
            "|positive|teliasonera tlsn ...|   178|\n",
            "|positive|stora enso , nors...|   164|\n",
            "|positive|a purchase agreem...|   207|\n",
            "|positive|finnish talentum ...|   163|\n",
            "|positive|clothing retail c...|   143|\n",
            "|positive|consolidated net ...|   163|\n",
            "|positive|foundries divisio...|   254|\n",
            "|positive|helsinki ( afx ) ...|   237|\n",
            "|positive|incap contract ma...|   138|\n",
            "|positive|its board of dire...|   125|\n",
            "+--------+--------------------+------+\n",
            "only showing top 20 rows\n",
            "\n"
          ]
        }
      ]
    },
    {
      "cell_type": "code",
      "metadata": {
        "id": "-wcqB8Byif7k"
      },
      "source": [
        "tokenizer = Tokenizer(inputCol=\"text\", outputCol=\"Words\")"
      ],
      "execution_count": 46,
      "outputs": []
    },
    {
      "cell_type": "code",
      "metadata": {
        "colab": {
          "base_uri": "https://localhost:8080/"
        },
        "id": "OHYoY05qlPjT",
        "outputId": "47642c94-cf03-4272-f3ce-6dfe259997ea"
      },
      "source": [
        "reviewed = tokenizer.transform(newDf2)\n",
        "reviewed.show()"
      ],
      "execution_count": 47,
      "outputs": [
        {
          "output_type": "stream",
          "name": "stdout",
          "text": [
            "+--------+--------------------+------+--------------------+\n",
            "|   class|                text|length|               Words|\n",
            "+--------+--------------------+------+--------------------+\n",
            "| neutral|according to gran...|   127|[according, to, g...|\n",
            "| neutral|technopolis plans...|   190|[technopolis, pla...|\n",
            "|negative|the international...|   228|[the, internation...|\n",
            "|positive|with the new prod...|   206|[with, the, new, ...|\n",
            "|positive|according to the ...|   203|[according, to, t...|\n",
            "|positive|financing of aspo...|   178|[financing, of, a...|\n",
            "|positive|for the last quar...|   193|[for, the, last, ...|\n",
            "|positive|in the third quar...|   125|[in, the, third, ...|\n",
            "|positive|operating profit ...|   122|[operating, profi...|\n",
            "|positive|operating profit ...|   103|[operating, profi...|\n",
            "|positive|teliasonera tlsn ...|   178|[teliasonera, tls...|\n",
            "|positive|stora enso , nors...|   164|[stora, enso, ,, ...|\n",
            "|positive|a purchase agreem...|   207|[a, purchase, agr...|\n",
            "|positive|finnish talentum ...|   163|[finnish, talentu...|\n",
            "|positive|clothing retail c...|   143|[clothing, retail...|\n",
            "|positive|consolidated net ...|   163|[consolidated, ne...|\n",
            "|positive|foundries divisio...|   254|[foundries, divis...|\n",
            "|positive|helsinki ( afx ) ...|   237|[helsinki, (, afx...|\n",
            "|positive|incap contract ma...|   138|[incap, contract,...|\n",
            "|positive|its board of dire...|   125|[its, board, of, ...|\n",
            "+--------+--------------------+------+--------------------+\n",
            "only showing top 20 rows\n",
            "\n"
          ]
        }
      ]
    },
    {
      "cell_type": "code",
      "metadata": {
        "id": "eYF3uQyyl_Jn"
      },
      "source": [
        "stopremove = StopWordsRemover(inputCol=\"Words\", outputCol=\"filtered\")"
      ],
      "execution_count": 48,
      "outputs": []
    },
    {
      "cell_type": "code",
      "metadata": {
        "colab": {
          "base_uri": "https://localhost:8080/"
        },
        "id": "ycmr2URTmAvY",
        "outputId": "6a4bf00d-eb95-4ad2-aeb6-89338ffdf7a4"
      },
      "source": [
        "newFrame = stopremove.transform(reviewed)\n",
        "newFrame.show()"
      ],
      "execution_count": 49,
      "outputs": [
        {
          "output_type": "stream",
          "name": "stdout",
          "text": [
            "+--------+--------------------+------+--------------------+--------------------+\n",
            "|   class|                text|length|               Words|            filtered|\n",
            "+--------+--------------------+------+--------------------+--------------------+\n",
            "| neutral|according to gran...|   127|[according, to, g...|[according, gran,...|\n",
            "| neutral|technopolis plans...|   190|[technopolis, pla...|[technopolis, pla...|\n",
            "|negative|the international...|   228|[the, internation...|[international, e...|\n",
            "|positive|with the new prod...|   206|[with, the, new, ...|[new, production,...|\n",
            "|positive|according to the ...|   203|[according, to, t...|[according, compa...|\n",
            "|positive|financing of aspo...|   178|[financing, of, a...|[financing, aspoc...|\n",
            "|positive|for the last quar...|   193|[for, the, last, ...|[last, quarter, 2...|\n",
            "|positive|in the third quar...|   125|[in, the, third, ...|[third, quarter, ...|\n",
            "|positive|operating profit ...|   122|[operating, profi...|[operating, profi...|\n",
            "|positive|operating profit ...|   103|[operating, profi...|[operating, profi...|\n",
            "|positive|teliasonera tlsn ...|   178|[teliasonera, tls...|[teliasonera, tls...|\n",
            "|positive|stora enso , nors...|   164|[stora, enso, ,, ...|[stora, enso, ,, ...|\n",
            "|positive|a purchase agreem...|   207|[a, purchase, agr...|[purchase, agreem...|\n",
            "|positive|finnish talentum ...|   163|[finnish, talentu...|[finnish, talentu...|\n",
            "|positive|clothing retail c...|   143|[clothing, retail...|[clothing, retail...|\n",
            "|positive|consolidated net ...|   163|[consolidated, ne...|[consolidated, ne...|\n",
            "|positive|foundries divisio...|   254|[foundries, divis...|[foundries, divis...|\n",
            "|positive|helsinki ( afx ) ...|   237|[helsinki, (, afx...|[helsinki, (, afx...|\n",
            "|positive|incap contract ma...|   138|[incap, contract,...|[incap, contract,...|\n",
            "|positive|its board of dire...|   125|[its, board, of, ...|[board, directors...|\n",
            "+--------+--------------------+------+--------------------+--------------------+\n",
            "only showing top 20 rows\n",
            "\n"
          ]
        }
      ]
    },
    {
      "cell_type": "code",
      "metadata": {
        "colab": {
          "base_uri": "https://localhost:8080/",
          "height": 239
        },
        "id": "uuR64DHQmK1N",
        "outputId": "804bf2a1-781d-4fbf-ea70-80b67b47f238"
      },
      "source": [
        "filtered_df = newFrame.select('filtered')\n",
        "filtered_df.select(\"filtered\").write.save(\"filtered.json\",format=\"json\")"
      ],
      "execution_count": 51,
      "outputs": [
        {
          "output_type": "error",
          "ename": "AnalysisException",
          "evalue": "ignored",
          "traceback": [
            "\u001b[0;31m---------------------------------------------------------------------------\u001b[0m",
            "\u001b[0;31mAnalysisException\u001b[0m                         Traceback (most recent call last)",
            "\u001b[0;32m<ipython-input-51-9d6448bb9e22>\u001b[0m in \u001b[0;36m<module>\u001b[0;34m()\u001b[0m\n\u001b[1;32m      1\u001b[0m \u001b[0mfiltered_df\u001b[0m \u001b[0;34m=\u001b[0m \u001b[0mnewFrame\u001b[0m\u001b[0;34m.\u001b[0m\u001b[0mselect\u001b[0m\u001b[0;34m(\u001b[0m\u001b[0;34m'filtered'\u001b[0m\u001b[0;34m)\u001b[0m\u001b[0;34m\u001b[0m\u001b[0;34m\u001b[0m\u001b[0m\n\u001b[0;32m----> 2\u001b[0;31m \u001b[0mfiltered_df\u001b[0m\u001b[0;34m.\u001b[0m\u001b[0mselect\u001b[0m\u001b[0;34m(\u001b[0m\u001b[0;34m\"filtered\"\u001b[0m\u001b[0;34m)\u001b[0m\u001b[0;34m.\u001b[0m\u001b[0mwrite\u001b[0m\u001b[0;34m.\u001b[0m\u001b[0msave\u001b[0m\u001b[0;34m(\u001b[0m\u001b[0;34m\"filtered.json\"\u001b[0m\u001b[0;34m,\u001b[0m\u001b[0mformat\u001b[0m\u001b[0;34m=\u001b[0m\u001b[0;34m\"json\"\u001b[0m\u001b[0;34m)\u001b[0m\u001b[0;34m\u001b[0m\u001b[0;34m\u001b[0m\u001b[0m\n\u001b[0m",
            "\u001b[0;32m/content/spark-3.0.3-bin-hadoop2.7/python/pyspark/sql/readwriter.py\u001b[0m in \u001b[0;36msave\u001b[0;34m(self, path, format, mode, partitionBy, **options)\u001b[0m\n\u001b[1;32m    828\u001b[0m             \u001b[0mself\u001b[0m\u001b[0;34m.\u001b[0m\u001b[0m_jwrite\u001b[0m\u001b[0;34m.\u001b[0m\u001b[0msave\u001b[0m\u001b[0;34m(\u001b[0m\u001b[0;34m)\u001b[0m\u001b[0;34m\u001b[0m\u001b[0;34m\u001b[0m\u001b[0m\n\u001b[1;32m    829\u001b[0m         \u001b[0;32melse\u001b[0m\u001b[0;34m:\u001b[0m\u001b[0;34m\u001b[0m\u001b[0;34m\u001b[0m\u001b[0m\n\u001b[0;32m--> 830\u001b[0;31m             \u001b[0mself\u001b[0m\u001b[0;34m.\u001b[0m\u001b[0m_jwrite\u001b[0m\u001b[0;34m.\u001b[0m\u001b[0msave\u001b[0m\u001b[0;34m(\u001b[0m\u001b[0mpath\u001b[0m\u001b[0;34m)\u001b[0m\u001b[0;34m\u001b[0m\u001b[0;34m\u001b[0m\u001b[0m\n\u001b[0m\u001b[1;32m    831\u001b[0m \u001b[0;34m\u001b[0m\u001b[0m\n\u001b[1;32m    832\u001b[0m     \u001b[0;34m@\u001b[0m\u001b[0msince\u001b[0m\u001b[0;34m(\u001b[0m\u001b[0;36m1.4\u001b[0m\u001b[0;34m)\u001b[0m\u001b[0;34m\u001b[0m\u001b[0;34m\u001b[0m\u001b[0m\n",
            "\u001b[0;32m/content/spark-3.0.3-bin-hadoop2.7/python/lib/py4j-0.10.9-src.zip/py4j/java_gateway.py\u001b[0m in \u001b[0;36m__call__\u001b[0;34m(self, *args)\u001b[0m\n\u001b[1;32m   1303\u001b[0m         \u001b[0manswer\u001b[0m \u001b[0;34m=\u001b[0m \u001b[0mself\u001b[0m\u001b[0;34m.\u001b[0m\u001b[0mgateway_client\u001b[0m\u001b[0;34m.\u001b[0m\u001b[0msend_command\u001b[0m\u001b[0;34m(\u001b[0m\u001b[0mcommand\u001b[0m\u001b[0;34m)\u001b[0m\u001b[0;34m\u001b[0m\u001b[0;34m\u001b[0m\u001b[0m\n\u001b[1;32m   1304\u001b[0m         return_value = get_return_value(\n\u001b[0;32m-> 1305\u001b[0;31m             answer, self.gateway_client, self.target_id, self.name)\n\u001b[0m\u001b[1;32m   1306\u001b[0m \u001b[0;34m\u001b[0m\u001b[0m\n\u001b[1;32m   1307\u001b[0m         \u001b[0;32mfor\u001b[0m \u001b[0mtemp_arg\u001b[0m \u001b[0;32min\u001b[0m \u001b[0mtemp_args\u001b[0m\u001b[0;34m:\u001b[0m\u001b[0;34m\u001b[0m\u001b[0;34m\u001b[0m\u001b[0m\n",
            "\u001b[0;32m/content/spark-3.0.3-bin-hadoop2.7/python/pyspark/sql/utils.py\u001b[0m in \u001b[0;36mdeco\u001b[0;34m(*a, **kw)\u001b[0m\n\u001b[1;32m    132\u001b[0m                 \u001b[0;31m# Hide where the exception came from that shows a non-Pythonic\u001b[0m\u001b[0;34m\u001b[0m\u001b[0;34m\u001b[0m\u001b[0;34m\u001b[0m\u001b[0m\n\u001b[1;32m    133\u001b[0m                 \u001b[0;31m# JVM exception message.\u001b[0m\u001b[0;34m\u001b[0m\u001b[0;34m\u001b[0m\u001b[0;34m\u001b[0m\u001b[0m\n\u001b[0;32m--> 134\u001b[0;31m                 \u001b[0mraise_from\u001b[0m\u001b[0;34m(\u001b[0m\u001b[0mconverted\u001b[0m\u001b[0;34m)\u001b[0m\u001b[0;34m\u001b[0m\u001b[0;34m\u001b[0m\u001b[0m\n\u001b[0m\u001b[1;32m    135\u001b[0m             \u001b[0;32melse\u001b[0m\u001b[0;34m:\u001b[0m\u001b[0;34m\u001b[0m\u001b[0;34m\u001b[0m\u001b[0m\n\u001b[1;32m    136\u001b[0m                 \u001b[0;32mraise\u001b[0m\u001b[0;34m\u001b[0m\u001b[0;34m\u001b[0m\u001b[0m\n",
            "\u001b[0;32m/content/spark-3.0.3-bin-hadoop2.7/python/pyspark/sql/utils.py\u001b[0m in \u001b[0;36mraise_from\u001b[0;34m(e)\u001b[0m\n",
            "\u001b[0;31mAnalysisException\u001b[0m: path file:/content/filtered.json already exists.;"
          ]
        }
      ]
    },
    {
      "cell_type": "code",
      "metadata": {
        "id": "Jj4erVnzmM0p"
      },
      "source": [
        "from pyspark.ml.feature import Tokenizer, StopWordsRemover, HashingTF, IDF, StringIndexer\n",
        "# Create all the features to the data set\n",
        "pos_neg_to_num = StringIndexer(inputCol='class',outputCol='label')\n",
        "# tokenizer = Tokenizer(inputCol=\"text\", outputCol=\"token_text\")\n",
        "# stopremove = StopWordsRemover(inputCol='token_text',outputCol='stop_tokens')\n",
        "hashingTF = HashingTF(inputCol=\"filtered\", outputCol='hash_token')\n",
        "idf = IDF(inputCol='hash_token', outputCol='idf_token')"
      ],
      "execution_count": 52,
      "outputs": []
    },
    {
      "cell_type": "code",
      "metadata": {
        "id": "uoOd_3T5mRPf"
      },
      "source": [
        "from pyspark.ml.feature import VectorAssembler\n",
        "from pyspark.ml.linalg import Vector\n",
        "\n",
        "# Create feature vectors\n",
        "clean_up = VectorAssembler(inputCols=['idf_token', 'length'], outputCol='features')"
      ],
      "execution_count": 53,
      "outputs": []
    },
    {
      "cell_type": "code",
      "metadata": {
        "id": "rpp_TfmljGnz"
      },
      "source": [
        "# Create a and run a data processing Pipeline\n",
        "from pyspark.ml import Pipeline\n",
        "data_prep_pipeline = Pipeline(stages=[pos_neg_to_num, tokenizer, stopremove, hashingTF, idf, clean_up])"
      ],
      "execution_count": 54,
      "outputs": []
    },
    {
      "cell_type": "code",
      "metadata": {
        "id": "ZQhLgOS1mWp8"
      },
      "source": [
        "cleaner = data_prep_pipeline.fit(newDf2)\n",
        "cleaned = cleaner.transform(newDf2)"
      ],
      "execution_count": 55,
      "outputs": []
    },
    {
      "cell_type": "code",
      "metadata": {
        "colab": {
          "base_uri": "https://localhost:8080/"
        },
        "id": "g6KDOI1vmcxE",
        "outputId": "eadfe3f4-4a55-47e6-dc68-b685c389c0ad"
      },
      "source": [
        "cleaned.select(['label', 'features']).show()"
      ],
      "execution_count": 56,
      "outputs": [
        {
          "output_type": "stream",
          "name": "stdout",
          "text": [
            "+-----+--------------------+\n",
            "|label|            features|\n",
            "+-----+--------------------+\n",
            "|  0.0|(262145,[32817,33...|\n",
            "|  0.0|(262145,[20102,21...|\n",
            "|  2.0|(262145,[4333,939...|\n",
            "|  1.0|(262145,[29917,32...|\n",
            "|  1.0|(262145,[161,3968...|\n",
            "|  1.0|(262145,[3968,811...|\n",
            "|  1.0|(262145,[2409,538...|\n",
            "|  1.0|(262145,[33998,38...|\n",
            "|  1.0|(262145,[9972,339...|\n",
            "|  1.0|(262145,[33998,38...|\n",
            "|  1.0|(262145,[35529,45...|\n",
            "|  1.0|(262145,[9872,201...|\n",
            "|  1.0|(262145,[4978,126...|\n",
            "|  1.0|(262145,[33998,38...|\n",
            "|  1.0|(262145,[1303,531...|\n",
            "|  1.0|(262145,[11972,22...|\n",
            "|  1.0|(262145,[9144,997...|\n",
            "|  1.0|(262145,[2114,688...|\n",
            "|  1.0|(262145,[24692,45...|\n",
            "|  1.0|(262145,[12650,21...|\n",
            "+-----+--------------------+\n",
            "only showing top 20 rows\n",
            "\n"
          ]
        }
      ]
    },
    {
      "cell_type": "code",
      "metadata": {
        "id": "aj5qyYnmmghX"
      },
      "source": [
        "from pyspark.ml.classification import NaiveBayes\n",
        "# Break data down into a training set and a testing set\n",
        "training, testing = cleaned.randomSplit([0.7, 0.3])\n",
        "\n",
        "# Create a Naive Bayes model and fit training data\n",
        "nb = NaiveBayes()\n",
        "predictor = nb.fit(training)"
      ],
      "execution_count": 57,
      "outputs": []
    },
    {
      "cell_type": "code",
      "metadata": {
        "colab": {
          "base_uri": "https://localhost:8080/"
        },
        "id": "lTQn6pWInCY9",
        "outputId": "aafdaf7e-7624-412b-a27f-b749f82c48ca"
      },
      "source": [
        "# Tranform the model with the testing data\n",
        "test_results = predictor.transform(testing)\n",
        "test_results.show()"
      ],
      "execution_count": 58,
      "outputs": [
        {
          "output_type": "stream",
          "name": "stdout",
          "text": [
            "+--------+--------------------+------+-----+--------------------+--------------------+--------------------+--------------------+--------------------+--------------------+--------------------+----------+\n",
            "|   class|                text|length|label|               Words|            filtered|          hash_token|           idf_token|            features|       rawPrediction|         probability|prediction|\n",
            "+--------+--------------------+------+-----+--------------------+--------------------+--------------------+--------------------+--------------------+--------------------+--------------------+----------+\n",
            "|negative|  net sales for t...|   148|  2.0|[, , net, sales, ...|[, , net, sales, ...|(262144,[5381,105...|(262144,[5381,105...|(262145,[5381,105...|[-703.91074542485...|[1.0,9.7863104860...|       0.0|\n",
            "|negative|( adp news )   ja...|   177|  2.0|[(, adp, news, ),...|[(, adp, news, ),...|(262144,[43499,45...|(262144,[43499,45...|(262145,[43499,45...|[-1315.7167479499...|[1.0,4.9723757140...|       0.0|\n",
            "|negative|( adpnews )   dec...|   225|  2.0|[(, adpnews, ), ,...|[(, adpnews, ), ,...|(262144,[23845,39...|(262144,[23845,39...|(262145,[23845,39...|[-1696.6733915745...|[1.0,5.8228877834...|       0.0|\n",
            "|negative|( adpnews )   may...|   231|  2.0|[(, adpnews, ), ,...|[(, adpnews, ), ,...|(262144,[33998,39...|(262144,[33998,39...|(262145,[33998,39...|[-1761.4527824053...|[1.0,9.7988554809...|       0.0|\n",
            "|negative|( adpnews )   oct...|   231|  2.0|[(, adpnews, ), ,...|[(, adpnews, ), ,...|(262144,[493,1546...|(262144,[493,1546...|(262145,[493,1546...|[-1803.3496352518...|[1.0,6.9283887456...|       0.0|\n",
            "|negative|11 august 2010   ...|   210|  2.0|[11, august, 2010...|[11, august, 2010...|(262144,[9972,172...|(262144,[9972,172...|(262145,[9972,172...|[-1416.4588313803...|[0.99999999992784...|       0.0|\n",
            "|negative|18 march 2010 a l...|    86|  2.0|[18, march, 2010,...|[18, march, 2010,...|(262144,[24175,45...|(262144,[24175,45...|(262145,[24175,45...|[-773.25686243174...|[0.99998446192478...|       0.0|\n",
            "|negative|`` the considerab...|   123|  2.0|[``, the, conside...|[``, considerably...|(262144,[9872,179...|(262144,[9872,179...|(262145,[9872,179...|[-898.36666903143...|[1.0,2.6512629437...|       0.0|\n",
            "|negative|`` there 's the i...|    87|  2.0|[``, there, 's, t...|[``, 's, issue, t...|(262144,[45404,58...|(262144,[45404,58...|(262145,[45404,58...|[-660.22954537967...|[1.0,8.1658744321...|       0.0|\n",
            "|negative|`` those uncertai...|    55|  2.0|[``, those, uncer...|[``, uncertaintie...|(262144,[45404,72...|(262144,[45404,72...|(262145,[45404,72...|[-428.25829526384...|[0.10458825271741...|       1.0|\n",
            "|negative|`` uncommonly wea...|   138|  2.0|[``, uncommonly, ...|[``, uncommonly, ...|(262144,[4900,603...|(262144,[4900,603...|(262145,[4900,603...|[-1131.1991860001...|[1.0,9.7439118730...|       0.0|\n",
            "|negative|`` we see that th...|   133|  2.0|[``, we, see, tha...|[``, see, market,...|(262144,[8145,853...|(262144,[8145,853...|(262145,[8145,853...|[-790.60114890550...|[1.0,7.5305859110...|       0.0|\n",
            "|negative|according to arok...|   148|  2.0|[according, to, a...|[according, aroka...|(262144,[29035,33...|(262144,[29035,33...|(262145,[29035,33...|[-928.38968941772...|[1.0,4.9596263547...|       0.0|\n",
            "|negative|according to laav...|    88|  2.0|[according, to, l...|[according, laava...|(262144,[28326,33...|(262144,[28326,33...|(262145,[28326,33...|[-602.54667694919...|[1.0,4.9206117430...|       0.0|\n",
            "|negative|after chuck smith...|   226|  2.0|[after, chuck, sm...|[chuck, smith, la...|(262144,[4333,148...|(262144,[4333,148...|(262145,[4333,148...|[-1678.4407465031...|[1.0,2.6252862072...|       0.0|\n",
            "|negative|agricultural news...|    99|  2.0|[agricultural, ne...|[agricultural, ne...|(262144,[45404,56...|(262144,[45404,56...|(262145,[45404,56...|[-814.11132085635...|[1.0,2.6963854166...|       0.0|\n",
            "|negative|antti orkola , pr...|   215|  2.0|[antti, orkola, ,...|[antti, orkola, ,...|(262144,[8408,241...|(262144,[8408,241...|(262145,[8408,241...|[-1615.7554271014...|[1.0,6.6288950239...|       0.0|\n",
            "|negative|applying for summ...|    61|  2.0|[applying, for, s...|[applying, summer...|(262144,[10809,34...|(262144,[10809,34...|(262145,[10809,34...|[-530.30810659966...|[0.99992571166834...|       0.0|\n",
            "|negative|as a result , the...|    87|  2.0|[as, a, result, ,...|[result, ,, compa...|(262144,[20260,45...|(262144,[20260,45...|(262145,[20260,45...|[-504.36327235174...|[1.0,1.4158808948...|       0.0|\n",
            "|negative|as a result of th...|   127|  2.0|[as, a, result, o...|[result, negotiat...|(262144,[26301,45...|(262144,[26301,45...|(262145,[26301,45...|[-796.41285583896...|[1.0,3.5788024012...|       0.0|\n",
            "+--------+--------------------+------+-----+--------------------+--------------------+--------------------+--------------------+--------------------+--------------------+--------------------+----------+\n",
            "only showing top 20 rows\n",
            "\n"
          ]
        }
      ]
    },
    {
      "cell_type": "code",
      "metadata": {
        "colab": {
          "base_uri": "https://localhost:8080/"
        },
        "id": "krYAw3aVnMs0",
        "outputId": "9a8ece31-6b4a-477c-ccdf-33d41838c3ee"
      },
      "source": [
        "# Use the Class Evaluator for a cleaner description\n",
        "from pyspark.ml.evaluation import MulticlassClassificationEvaluator\n",
        "\n",
        "acc_eval = MulticlassClassificationEvaluator()\n",
        "acc = acc_eval.evaluate(test_results)\n",
        "print(\"Accuracy of model at predicting reviews was: %f\" % acc)"
      ],
      "execution_count": 59,
      "outputs": [
        {
          "output_type": "stream",
          "name": "stdout",
          "text": [
            "Accuracy of model at predicting reviews was: 0.549777\n"
          ]
        }
      ]
    }
  ]
}