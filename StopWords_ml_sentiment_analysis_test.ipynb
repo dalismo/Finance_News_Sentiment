{
  "nbformat": 4,
  "nbformat_minor": 5,
  "metadata": {
    "kernelspec": {
      "display_name": "Python 3",
      "language": "python",
      "name": "python3"
    },
    "language_info": {
      "codemirror_mode": {
        "name": "ipython",
        "version": 3
      },
      "file_extension": ".py",
      "mimetype": "text/x-python",
      "name": "python",
      "nbconvert_exporter": "python",
      "pygments_lexer": "ipython3",
      "version": "3.8.8"
    },
    "colab": {
      "name": "StopWords_ml_sentiment_analysis_test.ipynb",
      "provenance": [],
      "collapsed_sections": [],
      "include_colab_link": true
    }
  },
  "cells": [
    {
      "cell_type": "markdown",
      "metadata": {
        "id": "view-in-github",
        "colab_type": "text"
      },
      "source": [
        "<a href=\"https://colab.research.google.com/github/dalismo/Finance_News_Sentiment/blob/agonz%2Fworking_train_set/StopWords_ml_sentiment_analysis_test.ipynb\" target=\"_parent\"><img src=\"https://colab.research.google.com/assets/colab-badge.svg\" alt=\"Open In Colab\"/></a>"
      ]
    },
    {
      "cell_type": "code",
      "metadata": {
        "colab": {
          "base_uri": "https://localhost:8080/"
        },
        "id": "b7676daf",
        "outputId": "c1f0314d-efd6-4afe-fd6c-8abbc9995a8a"
      },
      "source": [
        "import pandas as pd\n",
        "\n",
        "import os\n",
        "# Find the latest version of spark 3.0  from http://www.apache.org/dist/spark/ and enter as the spark version\n",
        "# For example:\n",
        "# spark_version = 'spark-3.0.3'\n",
        "spark_version = 'spark-3.0.3'\n",
        "os.environ['SPARK_VERSION']=spark_version\n",
        "\n",
        "# Install Spark and Java\n",
        "!apt-get update\n",
        "!apt-get install openjdk-11-jdk-headless -qq > /dev/null\n",
        "!wget -q http://www.apache.org/dist/spark/$SPARK_VERSION/$SPARK_VERSION-bin-hadoop2.7.tgz\n",
        "!tar xf $SPARK_VERSION-bin-hadoop2.7.tgz\n",
        "!pip install -q findspark\n",
        "\n",
        "# Set Environment Variables\n",
        "os.environ[\"JAVA_HOME\"] = \"/usr/lib/jvm/java-11-openjdk-amd64\"\n",
        "os.environ[\"SPARK_HOME\"] = f\"/content/{spark_version}-bin-hadoop2.7\"\n",
        "\n",
        "# Start a SparkSession\n",
        "import findspark\n",
        "findspark.init()"
      ],
      "id": "b7676daf",
      "execution_count": 1,
      "outputs": [
        {
          "output_type": "stream",
          "name": "stdout",
          "text": [
            "\r0% [Working]\r            \rGet:1 http://security.ubuntu.com/ubuntu bionic-security InRelease [88.7 kB]\n",
            "\r0% [Connecting to archive.ubuntu.com (91.189.88.142)] [1 InRelease 0 B/88.7 kB \r                                                                               \rGet:2 https://cloud.r-project.org/bin/linux/ubuntu bionic-cran40/ InRelease [3,626 B]\n",
            "\r0% [Connecting to archive.ubuntu.com (91.189.88.142)] [1 InRelease 28.7 kB/88.7\r0% [Connecting to archive.ubuntu.com (91.189.88.142)] [1 InRelease 43.1 kB/88.7\r0% [2 InRelease gpgv 3,626 B] [Connecting to archive.ubuntu.com (91.189.88.142)\r0% [2 InRelease gpgv 3,626 B] [Waiting for headers] [Connecting to ppa.launchpa\r                                                                               \rIgn:3 https://developer.download.nvidia.com/compute/cuda/repos/ubuntu1804/x86_64  InRelease\n",
            "\r0% [2 InRelease gpgv 3,626 B] [Waiting for headers] [Connecting to ppa.launchpa\r                                                                               \rIgn:4 https://developer.download.nvidia.com/compute/machine-learning/repos/ubuntu1804/x86_64  InRelease\n",
            "\r                                                                               \r0% [2 InRelease gpgv 3,626 B] [Waiting for headers] [Waiting for headers]\r                                                                         \rGet:5 https://developer.download.nvidia.com/compute/cuda/repos/ubuntu1804/x86_64  Release [696 B]\n",
            "\r0% [2 InRelease gpgv 3,626 B] [Waiting for headers] [Waiting for headers] [5 Re\r                                                                               \r0% [2 InRelease gpgv 3,626 B] [Waiting for headers] [Waiting for headers]\r                                                                         \rHit:6 https://developer.download.nvidia.com/compute/machine-learning/repos/ubuntu1804/x86_64  Release\n",
            "\r0% [2 InRelease gpgv 3,626 B] [Waiting for headers] [Waiting for headers]\r                                                                         \rGet:7 https://developer.download.nvidia.com/compute/cuda/repos/ubuntu1804/x86_64  Release.gpg [836 B]\n",
            "Hit:8 http://archive.ubuntu.com/ubuntu bionic InRelease\n",
            "Get:9 http://ppa.launchpad.net/c2d4u.team/c2d4u4.0+/ubuntu bionic InRelease [15.9 kB]\n",
            "Get:10 http://archive.ubuntu.com/ubuntu bionic-updates InRelease [88.7 kB]\n",
            "Hit:11 http://ppa.launchpad.net/cran/libgit2/ubuntu bionic InRelease\n",
            "Get:12 http://archive.ubuntu.com/ubuntu bionic-backports InRelease [74.6 kB]\n",
            "Get:13 http://ppa.launchpad.net/deadsnakes/ppa/ubuntu bionic InRelease [15.9 kB]\n",
            "Get:14 http://security.ubuntu.com/ubuntu bionic-security/main amd64 Packages [2,320 kB]\n",
            "Hit:15 http://ppa.launchpad.net/graphics-drivers/ppa/ubuntu bionic InRelease\n",
            "Get:16 http://security.ubuntu.com/ubuntu bionic-security/restricted amd64 Packages [560 kB]\n",
            "Get:17 http://security.ubuntu.com/ubuntu bionic-security/universe amd64 Packages [1,428 kB]\n",
            "Get:19 https://developer.download.nvidia.com/compute/cuda/repos/ubuntu1804/x86_64  Packages [717 kB]\n",
            "Get:20 http://ppa.launchpad.net/c2d4u.team/c2d4u4.0+/ubuntu bionic/main Sources [1,799 kB]\n",
            "Get:21 http://archive.ubuntu.com/ubuntu bionic-updates/main amd64 Packages [2,755 kB]\n",
            "Get:22 http://ppa.launchpad.net/c2d4u.team/c2d4u4.0+/ubuntu bionic/main amd64 Packages [921 kB]\n",
            "Get:23 http://archive.ubuntu.com/ubuntu bionic-updates/universe amd64 Packages [2,202 kB]\n",
            "Get:24 http://archive.ubuntu.com/ubuntu bionic-updates/restricted amd64 Packages [593 kB]\n",
            "Get:25 http://ppa.launchpad.net/deadsnakes/ppa/ubuntu bionic/main amd64 Packages [40.8 kB]\n",
            "Fetched 13.6 MB in 5s (2,882 kB/s)\n",
            "Reading package lists... Done\n"
          ]
        }
      ]
    },
    {
      "cell_type": "code",
      "metadata": {
        "id": "CvoLwz9S0gwE"
      },
      "source": [
        "# Start Spark session\n",
        "from pyspark.sql import SparkSession\n",
        "# spark = SparkSession.builder.appName(\"StopWords\").getOrCreate()\n",
        "spark = SparkSession.builder.appName(\"NaiveBayes\").getOrCreate()"
      ],
      "id": "CvoLwz9S0gwE",
      "execution_count": 2,
      "outputs": []
    },
    {
      "cell_type": "code",
      "metadata": {
        "id": "69qSAC1R1EgS"
      },
      "source": [
        "from pyspark.ml.feature import Tokenizer, StopWordsRemover"
      ],
      "id": "69qSAC1R1EgS",
      "execution_count": 3,
      "outputs": []
    },
    {
      "cell_type": "code",
      "metadata": {
        "colab": {
          "base_uri": "https://localhost:8080/"
        },
        "id": "mODaD0re3ulm",
        "outputId": "916e0b10-eadc-4705-a450-6e072a86b8da"
      },
      "source": [
        "# Read in data from S3 Buckets\n",
        "from pyspark import SparkFiles\n",
        "\n",
        "url = 'https://raw.githubusercontent.com/dalismo/Finance_News_Sentiment/main/Resources/train-data.csv'\n",
        "# df = pd.read_csv(url,encoding='latin-1', header=None)\n",
        "# url =\"https://s3.amazonaws.com/dataviz-curriculum/day_2/yelp_reviews.csv\"\n",
        "spark.sparkContext.addFile(url)\n",
        "df = spark.read.csv(SparkFiles.get(\"train-data.csv\"), sep=\",\", header=None)\n",
        "\n",
        "# Show DataFrame\n",
        "df.show()"
      ],
      "id": "mODaD0re3ulm",
      "execution_count": 4,
      "outputs": [
        {
          "output_type": "stream",
          "name": "stdout",
          "text": [
            "+--------+--------------------+\n",
            "|     _c0|                 _c1|\n",
            "+--------+--------------------+\n",
            "| neutral|According to Gran...|\n",
            "| neutral|Technopolis plans...|\n",
            "|negative|The international...|\n",
            "|positive|With the new prod...|\n",
            "|positive|According to the ...|\n",
            "|positive|FINANCING OF ASPO...|\n",
            "|positive|For the last quar...|\n",
            "|positive|In the third quar...|\n",
            "|positive|Operating profit ...|\n",
            "|positive|Operating profit ...|\n",
            "|positive|TeliaSonera TLSN ...|\n",
            "|positive|STORA ENSO , NORS...|\n",
            "|positive|A purchase agreem...|\n",
            "|positive|Finnish Talentum ...|\n",
            "|positive|Clothing retail c...|\n",
            "|positive|Consolidated net ...|\n",
            "|positive|Foundries divisio...|\n",
            "|positive|HELSINKI ( AFX ) ...|\n",
            "|positive|Incap Contract Ma...|\n",
            "|positive|Its board of dire...|\n",
            "+--------+--------------------+\n",
            "only showing top 20 rows\n",
            "\n"
          ]
        }
      ]
    },
    {
      "cell_type": "code",
      "metadata": {
        "colab": {
          "base_uri": "https://localhost:8080/"
        },
        "id": "4BbzYExyNYCR",
        "outputId": "b6e1bf96-167c-4110-e3b1-c1d2cac35b8a"
      },
      "source": [
        "from pyspark.sql.functions import length\n",
        "# Create a length column to be used as a future feature \n",
        "data_df = df.withColumn('length', length(df['_c1']))\n",
        "data_df.show()"
      ],
      "id": "4BbzYExyNYCR",
      "execution_count": 5,
      "outputs": [
        {
          "output_type": "stream",
          "name": "stdout",
          "text": [
            "+--------+--------------------+------+\n",
            "|     _c0|                 _c1|length|\n",
            "+--------+--------------------+------+\n",
            "| neutral|According to Gran...|   127|\n",
            "| neutral|Technopolis plans...|   190|\n",
            "|negative|The international...|   228|\n",
            "|positive|With the new prod...|   206|\n",
            "|positive|According to the ...|   203|\n",
            "|positive|FINANCING OF ASPO...|   178|\n",
            "|positive|For the last quar...|   193|\n",
            "|positive|In the third quar...|   125|\n",
            "|positive|Operating profit ...|   122|\n",
            "|positive|Operating profit ...|   103|\n",
            "|positive|TeliaSonera TLSN ...|   178|\n",
            "|positive|STORA ENSO , NORS...|   164|\n",
            "|positive|A purchase agreem...|   207|\n",
            "|positive|Finnish Talentum ...|   163|\n",
            "|positive|Clothing retail c...|   143|\n",
            "|positive|Consolidated net ...|   163|\n",
            "|positive|Foundries divisio...|   254|\n",
            "|positive|HELSINKI ( AFX ) ...|   237|\n",
            "|positive|Incap Contract Ma...|   138|\n",
            "|positive|Its board of dire...|   125|\n",
            "+--------+--------------------+------+\n",
            "only showing top 20 rows\n",
            "\n"
          ]
        }
      ]
    },
    {
      "cell_type": "code",
      "metadata": {
        "colab": {
          "base_uri": "https://localhost:8080/"
        },
        "id": "HiCnjIddrflT",
        "outputId": "77cd4e27-3219-4278-9b13-484643d9bc1d"
      },
      "source": [
        "df2 = data_df.withColumnRenamed(\"_c0\", \"class\").withColumnRenamed(\"_c1\", \"text\")\n",
        "df2.printSchema()\n",
        "df2.show()\n"
      ],
      "id": "HiCnjIddrflT",
      "execution_count": 6,
      "outputs": [
        {
          "output_type": "stream",
          "name": "stdout",
          "text": [
            "root\n",
            " |-- class: string (nullable = true)\n",
            " |-- text: string (nullable = true)\n",
            " |-- length: integer (nullable = true)\n",
            "\n",
            "+--------+--------------------+------+\n",
            "|   class|                text|length|\n",
            "+--------+--------------------+------+\n",
            "| neutral|According to Gran...|   127|\n",
            "| neutral|Technopolis plans...|   190|\n",
            "|negative|The international...|   228|\n",
            "|positive|With the new prod...|   206|\n",
            "|positive|According to the ...|   203|\n",
            "|positive|FINANCING OF ASPO...|   178|\n",
            "|positive|For the last quar...|   193|\n",
            "|positive|In the third quar...|   125|\n",
            "|positive|Operating profit ...|   122|\n",
            "|positive|Operating profit ...|   103|\n",
            "|positive|TeliaSonera TLSN ...|   178|\n",
            "|positive|STORA ENSO , NORS...|   164|\n",
            "|positive|A purchase agreem...|   207|\n",
            "|positive|Finnish Talentum ...|   163|\n",
            "|positive|Clothing retail c...|   143|\n",
            "|positive|Consolidated net ...|   163|\n",
            "|positive|Foundries divisio...|   254|\n",
            "|positive|HELSINKI ( AFX ) ...|   237|\n",
            "|positive|Incap Contract Ma...|   138|\n",
            "|positive|Its board of dire...|   125|\n",
            "+--------+--------------------+------+\n",
            "only showing top 20 rows\n",
            "\n"
          ]
        }
      ]
    },
    {
      "cell_type": "code",
      "metadata": {
        "id": "0b_Bcnt2yZge"
      },
      "source": [
        "# Tokenize DataFrame\n",
        "tokenizer = Tokenizer(inputCol=\"text\", outputCol=\"Words\")"
      ],
      "id": "0b_Bcnt2yZge",
      "execution_count": 7,
      "outputs": []
    },
    {
      "cell_type": "code",
      "metadata": {
        "colab": {
          "base_uri": "https://localhost:8080/"
        },
        "id": "hprnksa5ygg3",
        "outputId": "e21c271a-7808-45a5-9675-f4a74a15d175"
      },
      "source": [
        "# Transform DataFrame\n",
        "reviewed = tokenizer.transform(df2)\n",
        "reviewed.show()"
      ],
      "id": "hprnksa5ygg3",
      "execution_count": 9,
      "outputs": [
        {
          "output_type": "stream",
          "name": "stdout",
          "text": [
            "+--------+--------------------+------+--------------------+\n",
            "|   class|                text|length|               Words|\n",
            "+--------+--------------------+------+--------------------+\n",
            "| neutral|According to Gran...|   127|[according, to, g...|\n",
            "| neutral|Technopolis plans...|   190|[technopolis, pla...|\n",
            "|negative|The international...|   228|[the, internation...|\n",
            "|positive|With the new prod...|   206|[with, the, new, ...|\n",
            "|positive|According to the ...|   203|[according, to, t...|\n",
            "|positive|FINANCING OF ASPO...|   178|[financing, of, a...|\n",
            "|positive|For the last quar...|   193|[for, the, last, ...|\n",
            "|positive|In the third quar...|   125|[in, the, third, ...|\n",
            "|positive|Operating profit ...|   122|[operating, profi...|\n",
            "|positive|Operating profit ...|   103|[operating, profi...|\n",
            "|positive|TeliaSonera TLSN ...|   178|[teliasonera, tls...|\n",
            "|positive|STORA ENSO , NORS...|   164|[stora, enso, ,, ...|\n",
            "|positive|A purchase agreem...|   207|[a, purchase, agr...|\n",
            "|positive|Finnish Talentum ...|   163|[finnish, talentu...|\n",
            "|positive|Clothing retail c...|   143|[clothing, retail...|\n",
            "|positive|Consolidated net ...|   163|[consolidated, ne...|\n",
            "|positive|Foundries divisio...|   254|[foundries, divis...|\n",
            "|positive|HELSINKI ( AFX ) ...|   237|[helsinki, (, afx...|\n",
            "|positive|Incap Contract Ma...|   138|[incap, contract,...|\n",
            "|positive|Its board of dire...|   125|[its, board, of, ...|\n",
            "+--------+--------------------+------+--------------------+\n",
            "only showing top 20 rows\n",
            "\n"
          ]
        }
      ]
    },
    {
      "cell_type": "code",
      "metadata": {
        "id": "OC0U0xzcyrOT"
      },
      "source": [
        "# Remove stop words\n",
        "stopremove = StopWordsRemover(inputCol=\"Words\", outputCol=\"filtered\")"
      ],
      "id": "OC0U0xzcyrOT",
      "execution_count": 10,
      "outputs": []
    },
    {
      "cell_type": "code",
      "metadata": {
        "colab": {
          "base_uri": "https://localhost:8080/"
        },
        "id": "e9kjg7Fvyvif",
        "outputId": "1ef42fa8-580d-4b09-eba1-9b66e71c42b1"
      },
      "source": [
        "# Transform new DataFrame\n",
        "newFrame = stopremove.transform(reviewed)\n",
        "newFrame.show()"
      ],
      "id": "e9kjg7Fvyvif",
      "execution_count": 12,
      "outputs": [
        {
          "output_type": "stream",
          "name": "stdout",
          "text": [
            "+--------+--------------------+------+--------------------+--------------------+\n",
            "|   class|                text|length|               Words|            filtered|\n",
            "+--------+--------------------+------+--------------------+--------------------+\n",
            "| neutral|According to Gran...|   127|[according, to, g...|[according, gran,...|\n",
            "| neutral|Technopolis plans...|   190|[technopolis, pla...|[technopolis, pla...|\n",
            "|negative|The international...|   228|[the, internation...|[international, e...|\n",
            "|positive|With the new prod...|   206|[with, the, new, ...|[new, production,...|\n",
            "|positive|According to the ...|   203|[according, to, t...|[according, compa...|\n",
            "|positive|FINANCING OF ASPO...|   178|[financing, of, a...|[financing, aspoc...|\n",
            "|positive|For the last quar...|   193|[for, the, last, ...|[last, quarter, 2...|\n",
            "|positive|In the third quar...|   125|[in, the, third, ...|[third, quarter, ...|\n",
            "|positive|Operating profit ...|   122|[operating, profi...|[operating, profi...|\n",
            "|positive|Operating profit ...|   103|[operating, profi...|[operating, profi...|\n",
            "|positive|TeliaSonera TLSN ...|   178|[teliasonera, tls...|[teliasonera, tls...|\n",
            "|positive|STORA ENSO , NORS...|   164|[stora, enso, ,, ...|[stora, enso, ,, ...|\n",
            "|positive|A purchase agreem...|   207|[a, purchase, agr...|[purchase, agreem...|\n",
            "|positive|Finnish Talentum ...|   163|[finnish, talentu...|[finnish, talentu...|\n",
            "|positive|Clothing retail c...|   143|[clothing, retail...|[clothing, retail...|\n",
            "|positive|Consolidated net ...|   163|[consolidated, ne...|[consolidated, ne...|\n",
            "|positive|Foundries divisio...|   254|[foundries, divis...|[foundries, divis...|\n",
            "|positive|HELSINKI ( AFX ) ...|   237|[helsinki, (, afx...|[helsinki, (, afx...|\n",
            "|positive|Incap Contract Ma...|   138|[incap, contract,...|[incap, contract,...|\n",
            "|positive|Its board of dire...|   125|[its, board, of, ...|[board, directors...|\n",
            "+--------+--------------------+------+--------------------+--------------------+\n",
            "only showing top 20 rows\n",
            "\n"
          ]
        }
      ]
    },
    {
      "cell_type": "code",
      "metadata": {
        "id": "59dwxefsNYCX"
      },
      "source": [
        "from pyspark.ml.feature import Tokenizer, StopWordsRemover, HashingTF, IDF, StringIndexer\n",
        "# Create all the features to the data set\n",
        "pos_neg_to_num = StringIndexer(inputCol='class',outputCol='label')\n",
        "# tokenizer = Tokenizer(inputCol=\"text\", outputCol=\"token_text\")\n",
        "# stopremove = StopWordsRemover(inputCol='token_text',outputCol='stop_tokens')\n",
        "hashingTF = HashingTF(inputCol=\"filtered\", outputCol='hash_token')\n",
        "idf = IDF(inputCol='hash_token', outputCol='idf_token')\n"
      ],
      "id": "59dwxefsNYCX",
      "execution_count": 13,
      "outputs": []
    },
    {
      "cell_type": "code",
      "metadata": {
        "id": "yssO0_Q5NYCb"
      },
      "source": [
        "from pyspark.ml.feature import VectorAssembler\n",
        "from pyspark.ml.linalg import Vector\n",
        "\n",
        "# Create feature vectors\n",
        "clean_up = VectorAssembler(inputCols=['idf_token', 'length'], outputCol='features')"
      ],
      "id": "yssO0_Q5NYCb",
      "execution_count": 14,
      "outputs": []
    },
    {
      "cell_type": "code",
      "metadata": {
        "id": "E_YyUpR3NYCf"
      },
      "source": [
        "# Create a and run a data processing Pipeline\n",
        "from pyspark.ml import Pipeline\n",
        "data_prep_pipeline = Pipeline(stages=[pos_neg_to_num, tokenizer, stopremove, hashingTF, idf, clean_up])"
      ],
      "id": "E_YyUpR3NYCf",
      "execution_count": 15,
      "outputs": []
    },
    {
      "cell_type": "code",
      "metadata": {
        "id": "AzpTj5z1tuu0"
      },
      "source": [
        "# Fit and transform the pipeline\n",
        "cleaner = data_prep_pipeline.fit(df2)\n",
        "cleaned = cleaner.transform(df2)"
      ],
      "id": "AzpTj5z1tuu0",
      "execution_count": 16,
      "outputs": []
    },
    {
      "cell_type": "code",
      "metadata": {
        "colab": {
          "base_uri": "https://localhost:8080/"
        },
        "id": "kDODyxF7NYCn",
        "outputId": "c49c38de-7567-4d56-b147-bdf035cbdba4"
      },
      "source": [
        "# Show label and resulting features\n",
        "cleaned.select(['label', 'features']).show()"
      ],
      "id": "kDODyxF7NYCn",
      "execution_count": 17,
      "outputs": [
        {
          "output_type": "stream",
          "name": "stdout",
          "text": [
            "+-----+--------------------+\n",
            "|label|            features|\n",
            "+-----+--------------------+\n",
            "|  0.0|(262145,[32817,33...|\n",
            "|  0.0|(262145,[20102,21...|\n",
            "|  2.0|(262145,[4333,939...|\n",
            "|  1.0|(262145,[29917,32...|\n",
            "|  1.0|(262145,[3968,440...|\n",
            "|  1.0|(262145,[3968,811...|\n",
            "|  1.0|(262145,[5381,928...|\n",
            "|  1.0|(262145,[33998,38...|\n",
            "|  1.0|(262145,[9972,339...|\n",
            "|  1.0|(262145,[33998,38...|\n",
            "|  1.0|(262145,[35529,45...|\n",
            "|  1.0|(262145,[20131,32...|\n",
            "|  1.0|(262145,[4978,126...|\n",
            "|  1.0|(262145,[33998,38...|\n",
            "|  1.0|(262145,[8254,166...|\n",
            "|  1.0|(262145,[11972,22...|\n",
            "|  1.0|(262145,[9144,997...|\n",
            "|  1.0|(262145,[2114,688...|\n",
            "|  1.0|(262145,[4371,246...|\n",
            "|  1.0|(262145,[12650,21...|\n",
            "+-----+--------------------+\n",
            "only showing top 20 rows\n",
            "\n"
          ]
        }
      ]
    },
    {
      "cell_type": "code",
      "metadata": {
        "id": "WzfCQmrVNYCr"
      },
      "source": [
        "from pyspark.ml.classification import NaiveBayes\n",
        "# Break data down into a training set and a testing set\n",
        "training, testing = cleaned.randomSplit([0.7, 0.3])\n",
        "\n",
        "# Create a Naive Bayes model and fit training data\n",
        "nb = NaiveBayes()\n",
        "predictor = nb.fit(training)"
      ],
      "id": "WzfCQmrVNYCr",
      "execution_count": 18,
      "outputs": []
    },
    {
      "cell_type": "code",
      "metadata": {
        "colab": {
          "base_uri": "https://localhost:8080/"
        },
        "id": "zeckHhg5NYCv",
        "outputId": "38c2b54b-4bae-464f-8dad-609afbd467c8"
      },
      "source": [
        "# Tranform the model with the testing data\n",
        "test_results = predictor.transform(testing)\n",
        "test_results.show()"
      ],
      "id": "zeckHhg5NYCv",
      "execution_count": 19,
      "outputs": [
        {
          "output_type": "stream",
          "name": "stdout",
          "text": [
            "+--------+--------------------+------+-----+--------------------+--------------------+--------------------+--------------------+--------------------+--------------------+--------------------+----------+\n",
            "|   class|                text|length|label|               Words|            filtered|          hash_token|           idf_token|            features|       rawPrediction|         probability|prediction|\n",
            "+--------+--------------------+------+-----+--------------------+--------------------+--------------------+--------------------+--------------------+--------------------+--------------------+----------+\n",
            "|negative|( ADP News ) - Fe...|   205|  2.0|[(, adp, news, ),...|[(, adp, news, ),...|(262144,[10391,33...|(262144,[10391,33...|(262145,[10391,33...|[-1467.2576319045...|[1.0,9.0615382076...|       0.0|\n",
            "|negative|- Net sales for t...|   148|  2.0|[-, net, sales, f...|[-, net, sales, p...|(262144,[5381,105...|(262144,[5381,105...|(262145,[5381,105...|[-673.71355557206...|[1.0,5.3587240306...|       0.0|\n",
            "|negative|- The Group -� s ...|    68|  2.0|[-, the, group, -...|[-, group, -�, re...|(262144,[7554,241...|(262144,[7554,241...|(262145,[7554,241...|[-544.51994957431...|[0.99999991510249...|       0.0|\n",
            "|negative|11 August 2010 - ...|   210|  2.0|[11, august, 2010...|[11, august, 2010...|(262144,[9972,172...|(262144,[9972,172...|(262145,[9972,172...|[-1427.7651809345...|[1.33882298945058...|       1.0|\n",
            "|negative|A total of 16.5 m...|   127|  2.0|[a, total, of, 16...|[total, 16.5, mn,...|(262144,[9882,411...|(262144,[9882,411...|(262145,[9882,411...|[-986.53853273618...|[1.0,8.5237454360...|       0.0|\n",
            "|negative|ADPnews - Feb 5 ,...|   200|  2.0|[adpnews, -, feb,...|[adpnews, -, feb,...|(262144,[33998,38...|(262144,[33998,38...|(262145,[33998,38...|[-1524.1756969215...|[0.03151651820087...|       1.0|\n",
            "|negative|According to Arok...|   148|  2.0|[according, to, a...|[according, aroka...|(262144,[29035,33...|(262144,[29035,33...|(262145,[29035,33...|[-927.54273954882...|[1.0,4.6675020355...|       0.0|\n",
            "|negative|According to Swed...|   167|  2.0|[according, to, s...|[according, swedi...|(262144,[8804,331...|(262144,[8804,331...|(262145,[8804,331...|[-1207.9370858286...|[1.0,3.9805340722...|       0.0|\n",
            "|negative|According to the ...|   157|  2.0|[according, to, t...|[according, latvi...|(262144,[10564,33...|(262144,[10564,33...|(262145,[10564,33...|[-1312.2876520266...|[1.0,6.0957566372...|       0.0|\n",
            "|negative|According to the ...|   124|  2.0|[according, to, t...|[according, compa...|(262144,[8145,331...|(262144,[8145,331...|(262145,[8145,331...|[-719.58650444522...|[1.0,4.3840388682...|       0.0|\n",
            "|negative|According to the ...|    78|  2.0|[according, to, t...|[according, compa...|(262144,[4333,331...|(262144,[4333,331...|(262145,[4333,331...|[-388.64700840599...|[1.0,5.7591186926...|       0.0|\n",
            "|negative|Additionally , th...|   120|  2.0|[additionally, ,,...|[additionally, ,,...|(262144,[26301,29...|(262144,[26301,29...|(262145,[26301,29...|[-781.74283390024...|[1.0,9.9420363207...|       0.0|\n",
            "|negative|After Chuck Smith...|   226|  2.0|[after, chuck, sm...|[chuck, smith, la...|(262144,[4333,148...|(262144,[4333,148...|(262145,[4333,148...|[-1716.4296744824...|[1.0,3.4945731278...|       0.0|\n",
            "|negative|All the ferries h...|   115|  2.0|[all, the, ferrie...|[ferries, run, tr...|(262144,[16680,45...|(262144,[16680,45...|(262145,[16680,45...|[-793.77199593336...|[1.0,8.9588129468...|       0.0|\n",
            "|negative|Also the city 's ...|    97|  2.0|[also, the, city,...|[also, city, 's, ...|(262144,[45404,51...|(262144,[45404,51...|(262145,[45404,51...|[-611.90558184538...|[1.0,7.9519954129...|       0.0|\n",
            "|negative|Applying for summ...|    61|  2.0|[applying, for, s...|[applying, summer...|(262144,[10809,34...|(262144,[10809,34...|(262145,[10809,34...|[-541.66439633534...|[1.51591176405439...|       1.0|\n",
            "|negative|As a result , 12 ...|    99|  2.0|[as, a, result, ,...|[result, ,, 12, p...|(262144,[4333,451...|(262144,[4333,451...|(262145,[4333,451...|[-657.91466458513...|[1.0,2.9869631082...|       0.0|\n",
            "|negative|As a result , the...|    87|  2.0|[as, a, result, ,...|[result, ,, compa...|(262144,[20260,45...|(262144,[20260,45...|(262145,[20260,45...|[-446.34946895796...|[1.0,2.5755236700...|       0.0|\n",
            "|negative|As a result , the...|   144|  2.0|[as, a, result, ,...|[result, ,, compa...|(262144,[45108,45...|(262144,[45108,45...|(262145,[45108,45...|[-973.54856663900...|[1.0,6.5701062854...|       0.0|\n",
            "|negative|As capacity was c...|    91|  2.0|[as, capacity, wa...|[capacity, cut, 1...|(262144,[29917,45...|(262144,[29917,45...|(262145,[29917,45...|[-732.58015006359...|[0.72550535179045...|       0.0|\n",
            "+--------+--------------------+------+-----+--------------------+--------------------+--------------------+--------------------+--------------------+--------------------+--------------------+----------+\n",
            "only showing top 20 rows\n",
            "\n"
          ]
        }
      ]
    },
    {
      "cell_type": "code",
      "metadata": {
        "colab": {
          "base_uri": "https://localhost:8080/"
        },
        "id": "OVFrWcHINYCz",
        "outputId": "f04ef701-4bf3-402c-f822-eadf3933e5eb"
      },
      "source": [
        "# Use the Class Evaluator for a cleaner description\n",
        "from pyspark.ml.evaluation import MulticlassClassificationEvaluator\n",
        "\n",
        "acc_eval = MulticlassClassificationEvaluator()\n",
        "acc = acc_eval.evaluate(test_results)\n",
        "print(\"Accuracy of model at predicting reviews was: %f\" % acc)"
      ],
      "id": "OVFrWcHINYCz",
      "execution_count": 20,
      "outputs": [
        {
          "output_type": "stream",
          "name": "stdout",
          "text": [
            "Accuracy of model at predicting reviews was: 0.550960\n"
          ]
        }
      ]
    },
    {
      "cell_type": "code",
      "metadata": {
        "id": "vcJDlyu1utyr"
      },
      "source": [
        ""
      ],
      "id": "vcJDlyu1utyr",
      "execution_count": null,
      "outputs": []
    }
  ]
}