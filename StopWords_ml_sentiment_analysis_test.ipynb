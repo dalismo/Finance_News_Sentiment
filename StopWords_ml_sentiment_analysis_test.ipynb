{
  "nbformat": 4,
  "nbformat_minor": 5,
  "metadata": {
    "kernelspec": {
      "display_name": "Python 3",
      "language": "python",
      "name": "python3"
    },
    "language_info": {
      "codemirror_mode": {
        "name": "ipython",
        "version": 3
      },
      "file_extension": ".py",
      "mimetype": "text/x-python",
      "name": "python",
      "nbconvert_exporter": "python",
      "pygments_lexer": "ipython3",
      "version": "3.8.8"
    },
    "colab": {
      "name": "Copy of ml_sentiment_analysis_test.ipynb",
      "provenance": [],
      "collapsed_sections": [],
      "include_colab_link": true
    }
  },
  "cells": [
    {
      "cell_type": "markdown",
      "metadata": {
        "id": "view-in-github",
        "colab_type": "text"
      },
      "source": [
        "<a href=\"https://colab.research.google.com/github/dalismo/Finance_News_Sentiment/blob/agonz%2Fworking_train_set/StopWords_ml_sentiment_analysis_test.ipynb\" target=\"_parent\"><img src=\"https://colab.research.google.com/assets/colab-badge.svg\" alt=\"Open In Colab\"/></a>"
      ]
    },
    {
      "cell_type": "code",
      "metadata": {
        "colab": {
          "base_uri": "https://localhost:8080/"
        },
        "id": "b7676daf",
        "outputId": "6313576d-0793-456d-dda1-907818de6813"
      },
      "source": [
        "import pandas as pd\n",
        "\n",
        "import os\n",
        "# Find the latest version of spark 3.0  from http://www.apache.org/dist/spark/ and enter as the spark version\n",
        "# For example:\n",
        "# spark_version = 'spark-3.0.3'\n",
        "spark_version = 'spark-3.0.3'\n",
        "os.environ['SPARK_VERSION']=spark_version\n",
        "\n",
        "# Install Spark and Java\n",
        "!apt-get update\n",
        "!apt-get install openjdk-11-jdk-headless -qq > /dev/null\n",
        "!wget -q http://www.apache.org/dist/spark/$SPARK_VERSION/$SPARK_VERSION-bin-hadoop2.7.tgz\n",
        "!tar xf $SPARK_VERSION-bin-hadoop2.7.tgz\n",
        "!pip install -q findspark\n",
        "\n",
        "# Set Environment Variables\n",
        "os.environ[\"JAVA_HOME\"] = \"/usr/lib/jvm/java-11-openjdk-amd64\"\n",
        "os.environ[\"SPARK_HOME\"] = f\"/content/{spark_version}-bin-hadoop2.7\"\n",
        "\n",
        "# Start a SparkSession\n",
        "import findspark\n",
        "findspark.init()"
      ],
      "id": "b7676daf",
      "execution_count": 1,
      "outputs": [
        {
          "output_type": "stream",
          "name": "stdout",
          "text": [
            "\r0% [Working]\r            \rGet:1 http://security.ubuntu.com/ubuntu bionic-security InRelease [88.7 kB]\n",
            "\r0% [Connecting to archive.ubuntu.com (91.189.88.142)] [1 InRelease 14.2 kB/88.7\r0% [Waiting for headers] [Connected to cloud.r-project.org (65.8.185.22)] [Wait\r0% [1 InRelease gpgv 88.7 kB] [Waiting for headers] [Waiting for headers] [Wait\r                                                                               \rIgn:2 https://developer.download.nvidia.com/compute/cuda/repos/ubuntu1804/x86_64  InRelease\n",
            "Get:3 https://cloud.r-project.org/bin/linux/ubuntu bionic-cran40/ InRelease [3,626 B]\n",
            "Hit:4 http://archive.ubuntu.com/ubuntu bionic InRelease\n",
            "Get:5 http://ppa.launchpad.net/c2d4u.team/c2d4u4.0+/ubuntu bionic InRelease [15.9 kB]\n",
            "Ign:6 https://developer.download.nvidia.com/compute/machine-learning/repos/ubuntu1804/x86_64  InRelease\n",
            "Get:7 https://developer.download.nvidia.com/compute/cuda/repos/ubuntu1804/x86_64  Release [696 B]\n",
            "Hit:8 https://developer.download.nvidia.com/compute/machine-learning/repos/ubuntu1804/x86_64  Release\n",
            "Get:9 https://developer.download.nvidia.com/compute/cuda/repos/ubuntu1804/x86_64  Release.gpg [836 B]\n",
            "Get:10 http://archive.ubuntu.com/ubuntu bionic-updates InRelease [88.7 kB]\n",
            "Hit:11 http://ppa.launchpad.net/cran/libgit2/ubuntu bionic InRelease\n",
            "Get:12 http://security.ubuntu.com/ubuntu bionic-security/main amd64 Packages [2,320 kB]\n",
            "Get:13 http://archive.ubuntu.com/ubuntu bionic-backports InRelease [74.6 kB]\n",
            "Get:14 http://ppa.launchpad.net/deadsnakes/ppa/ubuntu bionic InRelease [15.9 kB]\n",
            "Get:15 http://security.ubuntu.com/ubuntu bionic-security/universe amd64 Packages [1,428 kB]\n",
            "Get:16 http://security.ubuntu.com/ubuntu bionic-security/restricted amd64 Packages [560 kB]\n",
            "Hit:17 http://ppa.launchpad.net/graphics-drivers/ppa/ubuntu bionic InRelease\n",
            "Get:19 https://developer.download.nvidia.com/compute/cuda/repos/ubuntu1804/x86_64  Packages [717 kB]\n",
            "Get:20 http://ppa.launchpad.net/c2d4u.team/c2d4u4.0+/ubuntu bionic/main Sources [1,796 kB]\n",
            "Get:21 http://archive.ubuntu.com/ubuntu bionic-updates/restricted amd64 Packages [593 kB]\n",
            "Get:22 http://archive.ubuntu.com/ubuntu bionic-updates/main amd64 Packages [2,755 kB]\n",
            "Get:23 http://ppa.launchpad.net/c2d4u.team/c2d4u4.0+/ubuntu bionic/main amd64 Packages [919 kB]\n",
            "Get:24 http://archive.ubuntu.com/ubuntu bionic-updates/universe amd64 Packages [2,202 kB]\n",
            "Get:25 http://ppa.launchpad.net/deadsnakes/ppa/ubuntu bionic/main amd64 Packages [40.8 kB]\n",
            "Fetched 13.6 MB in 4s (3,038 kB/s)\n",
            "Reading package lists... Done\n"
          ]
        }
      ]
    },
    {
      "cell_type": "code",
      "metadata": {
        "id": "CvoLwz9S0gwE"
      },
      "source": [
        "# Start Spark session\n",
        "from pyspark.sql import SparkSession\n",
        "spark = SparkSession.builder.appName(\"StopWords\").getOrCreate()\n",
        "spark = SparkSession.builder.appName(\"NaiveBayes\").getOrCreate()"
      ],
      "id": "CvoLwz9S0gwE",
      "execution_count": 2,
      "outputs": []
    },
    {
      "cell_type": "code",
      "metadata": {
        "id": "69qSAC1R1EgS"
      },
      "source": [
        "from pyspark.ml.feature import Tokenizer, StopWordsRemover"
      ],
      "id": "69qSAC1R1EgS",
      "execution_count": 3,
      "outputs": []
    },
    {
      "cell_type": "code",
      "metadata": {
        "colab": {
          "base_uri": "https://localhost:8080/"
        },
        "id": "mODaD0re3ulm",
        "outputId": "8d3d17da-c3c7-4cd4-ed01-4fe47fac522f"
      },
      "source": [
        "# Read in data from S3 Buckets\n",
        "from pyspark import SparkFiles\n",
        "\n",
        "url = 'https://raw.githubusercontent.com/dalismo/Finance_News_Sentiment/main/Resources/train-data.csv'\n",
        "# df = pd.read_csv(url,encoding='latin-1', header=None)\n",
        "# url =\"https://s3.amazonaws.com/dataviz-curriculum/day_2/yelp_reviews.csv\"\n",
        "spark.sparkContext.addFile(url)\n",
        "df = spark.read.csv(SparkFiles.get(\"train-data.csv\"), sep=\",\", header=None)\n",
        "\n",
        "# Show DataFrame\n",
        "df.show()"
      ],
      "id": "mODaD0re3ulm",
      "execution_count": 6,
      "outputs": [
        {
          "output_type": "stream",
          "name": "stdout",
          "text": [
            "+--------+--------------------+\n",
            "|     _c0|                 _c1|\n",
            "+--------+--------------------+\n",
            "| neutral|According to Gran...|\n",
            "| neutral|Technopolis plans...|\n",
            "|negative|The international...|\n",
            "|positive|With the new prod...|\n",
            "|positive|According to the ...|\n",
            "|positive|FINANCING OF ASPO...|\n",
            "|positive|For the last quar...|\n",
            "|positive|In the third quar...|\n",
            "|positive|Operating profit ...|\n",
            "|positive|Operating profit ...|\n",
            "|positive|TeliaSonera TLSN ...|\n",
            "|positive|STORA ENSO , NORS...|\n",
            "|positive|A purchase agreem...|\n",
            "|positive|Finnish Talentum ...|\n",
            "|positive|Clothing retail c...|\n",
            "|positive|Consolidated net ...|\n",
            "|positive|Foundries divisio...|\n",
            "|positive|HELSINKI ( AFX ) ...|\n",
            "|positive|Incap Contract Ma...|\n",
            "|positive|Its board of dire...|\n",
            "+--------+--------------------+\n",
            "only showing top 20 rows\n",
            "\n"
          ]
        }
      ]
    },
    {
      "cell_type": "code",
      "metadata": {
        "colab": {
          "base_uri": "https://localhost:8080/"
        },
        "id": "4BbzYExyNYCR",
        "outputId": "4800785f-2e1c-42c2-885f-1205df944da5"
      },
      "source": [
        "from pyspark.sql.functions import length\n",
        "# Create a length column to be used as a future feature \n",
        "data_df = df.withColumn('length', length(df['_c1']))\n",
        "data_df.show()"
      ],
      "id": "4BbzYExyNYCR",
      "execution_count": 11,
      "outputs": [
        {
          "output_type": "stream",
          "name": "stdout",
          "text": [
            "+--------+--------------------+------+\n",
            "|     _c0|                 _c1|length|\n",
            "+--------+--------------------+------+\n",
            "| neutral|According to Gran...|   127|\n",
            "| neutral|Technopolis plans...|   190|\n",
            "|negative|The international...|   228|\n",
            "|positive|With the new prod...|   206|\n",
            "|positive|According to the ...|   203|\n",
            "|positive|FINANCING OF ASPO...|   178|\n",
            "|positive|For the last quar...|   193|\n",
            "|positive|In the third quar...|   125|\n",
            "|positive|Operating profit ...|   122|\n",
            "|positive|Operating profit ...|   103|\n",
            "|positive|TeliaSonera TLSN ...|   178|\n",
            "|positive|STORA ENSO , NORS...|   164|\n",
            "|positive|A purchase agreem...|   207|\n",
            "|positive|Finnish Talentum ...|   163|\n",
            "|positive|Clothing retail c...|   143|\n",
            "|positive|Consolidated net ...|   163|\n",
            "|positive|Foundries divisio...|   254|\n",
            "|positive|HELSINKI ( AFX ) ...|   237|\n",
            "|positive|Incap Contract Ma...|   138|\n",
            "|positive|Its board of dire...|   125|\n",
            "+--------+--------------------+------+\n",
            "only showing top 20 rows\n",
            "\n"
          ]
        }
      ]
    },
    {
      "cell_type": "code",
      "metadata": {
        "colab": {
          "base_uri": "https://localhost:8080/"
        },
        "id": "HiCnjIddrflT",
        "outputId": "7e7ef25d-fc1e-4d3c-d870-2bf07f3c8565"
      },
      "source": [
        "df2 = data_df.withColumnRenamed(\"_c0\", \"class\").withColumnRenamed(\"_c1\", \"text\")\n",
        "df2.printSchema()\n",
        "df2.show()\n"
      ],
      "id": "HiCnjIddrflT",
      "execution_count": 12,
      "outputs": [
        {
          "output_type": "stream",
          "name": "stdout",
          "text": [
            "root\n",
            " |-- class: string (nullable = true)\n",
            " |-- text: string (nullable = true)\n",
            " |-- length: integer (nullable = true)\n",
            "\n",
            "+--------+--------------------+------+\n",
            "|   class|                text|length|\n",
            "+--------+--------------------+------+\n",
            "| neutral|According to Gran...|   127|\n",
            "| neutral|Technopolis plans...|   190|\n",
            "|negative|The international...|   228|\n",
            "|positive|With the new prod...|   206|\n",
            "|positive|According to the ...|   203|\n",
            "|positive|FINANCING OF ASPO...|   178|\n",
            "|positive|For the last quar...|   193|\n",
            "|positive|In the third quar...|   125|\n",
            "|positive|Operating profit ...|   122|\n",
            "|positive|Operating profit ...|   103|\n",
            "|positive|TeliaSonera TLSN ...|   178|\n",
            "|positive|STORA ENSO , NORS...|   164|\n",
            "|positive|A purchase agreem...|   207|\n",
            "|positive|Finnish Talentum ...|   163|\n",
            "|positive|Clothing retail c...|   143|\n",
            "|positive|Consolidated net ...|   163|\n",
            "|positive|Foundries divisio...|   254|\n",
            "|positive|HELSINKI ( AFX ) ...|   237|\n",
            "|positive|Incap Contract Ma...|   138|\n",
            "|positive|Its board of dire...|   125|\n",
            "+--------+--------------------+------+\n",
            "only showing top 20 rows\n",
            "\n"
          ]
        }
      ]
    },
    {
      "cell_type": "code",
      "metadata": {
        "id": "0b_Bcnt2yZge"
      },
      "source": [
        "# Tokenize DataFrame\n",
        "tokenizer = Tokenizer(inputCol=\"text\", outputCol=\"Words\")"
      ],
      "id": "0b_Bcnt2yZge",
      "execution_count": 20,
      "outputs": []
    },
    {
      "cell_type": "code",
      "metadata": {
        "colab": {
          "base_uri": "https://localhost:8080/"
        },
        "id": "hprnksa5ygg3",
        "outputId": "2e1faf54-8139-41fa-bcb6-8239ab102f7b"
      },
      "source": [
        "# Transform DataFrame\n",
        "reviewed = review_data.transform(df2)\n",
        "reviewed.show()"
      ],
      "id": "hprnksa5ygg3",
      "execution_count": 21,
      "outputs": [
        {
          "output_type": "stream",
          "name": "stdout",
          "text": [
            "+--------+--------------------+------+--------------------+\n",
            "|   class|                text|length|               Words|\n",
            "+--------+--------------------+------+--------------------+\n",
            "| neutral|According to Gran...|   127|[according, to, g...|\n",
            "| neutral|Technopolis plans...|   190|[technopolis, pla...|\n",
            "|negative|The international...|   228|[the, internation...|\n",
            "|positive|With the new prod...|   206|[with, the, new, ...|\n",
            "|positive|According to the ...|   203|[according, to, t...|\n",
            "|positive|FINANCING OF ASPO...|   178|[financing, of, a...|\n",
            "|positive|For the last quar...|   193|[for, the, last, ...|\n",
            "|positive|In the third quar...|   125|[in, the, third, ...|\n",
            "|positive|Operating profit ...|   122|[operating, profi...|\n",
            "|positive|Operating profit ...|   103|[operating, profi...|\n",
            "|positive|TeliaSonera TLSN ...|   178|[teliasonera, tls...|\n",
            "|positive|STORA ENSO , NORS...|   164|[stora, enso, ,, ...|\n",
            "|positive|A purchase agreem...|   207|[a, purchase, agr...|\n",
            "|positive|Finnish Talentum ...|   163|[finnish, talentu...|\n",
            "|positive|Clothing retail c...|   143|[clothing, retail...|\n",
            "|positive|Consolidated net ...|   163|[consolidated, ne...|\n",
            "|positive|Foundries divisio...|   254|[foundries, divis...|\n",
            "|positive|HELSINKI ( AFX ) ...|   237|[helsinki, (, afx...|\n",
            "|positive|Incap Contract Ma...|   138|[incap, contract,...|\n",
            "|positive|Its board of dire...|   125|[its, board, of, ...|\n",
            "+--------+--------------------+------+--------------------+\n",
            "only showing top 20 rows\n",
            "\n"
          ]
        }
      ]
    },
    {
      "cell_type": "code",
      "metadata": {
        "id": "OC0U0xzcyrOT"
      },
      "source": [
        "# Remove stop words\n",
        "stopremove = StopWordsRemover(inputCol=\"Words\", outputCol=\"filtered\")"
      ],
      "id": "OC0U0xzcyrOT",
      "execution_count": 22,
      "outputs": []
    },
    {
      "cell_type": "code",
      "metadata": {
        "colab": {
          "base_uri": "https://localhost:8080/"
        },
        "id": "e9kjg7Fvyvif",
        "outputId": "740079df-953c-48b4-b694-a751381f61d1"
      },
      "source": [
        "# Transform new DataFrame\n",
        "newFrame = remover.transform(reviewed)\n",
        "newFrame.show()"
      ],
      "id": "e9kjg7Fvyvif",
      "execution_count": 23,
      "outputs": [
        {
          "output_type": "stream",
          "name": "stdout",
          "text": [
            "+--------+--------------------+------+--------------------+--------------------+\n",
            "|   class|                text|length|               Words|            filtered|\n",
            "+--------+--------------------+------+--------------------+--------------------+\n",
            "| neutral|According to Gran...|   127|[according, to, g...|[according, gran,...|\n",
            "| neutral|Technopolis plans...|   190|[technopolis, pla...|[technopolis, pla...|\n",
            "|negative|The international...|   228|[the, internation...|[international, e...|\n",
            "|positive|With the new prod...|   206|[with, the, new, ...|[new, production,...|\n",
            "|positive|According to the ...|   203|[according, to, t...|[according, compa...|\n",
            "|positive|FINANCING OF ASPO...|   178|[financing, of, a...|[financing, aspoc...|\n",
            "|positive|For the last quar...|   193|[for, the, last, ...|[last, quarter, 2...|\n",
            "|positive|In the third quar...|   125|[in, the, third, ...|[third, quarter, ...|\n",
            "|positive|Operating profit ...|   122|[operating, profi...|[operating, profi...|\n",
            "|positive|Operating profit ...|   103|[operating, profi...|[operating, profi...|\n",
            "|positive|TeliaSonera TLSN ...|   178|[teliasonera, tls...|[teliasonera, tls...|\n",
            "|positive|STORA ENSO , NORS...|   164|[stora, enso, ,, ...|[stora, enso, ,, ...|\n",
            "|positive|A purchase agreem...|   207|[a, purchase, agr...|[purchase, agreem...|\n",
            "|positive|Finnish Talentum ...|   163|[finnish, talentu...|[finnish, talentu...|\n",
            "|positive|Clothing retail c...|   143|[clothing, retail...|[clothing, retail...|\n",
            "|positive|Consolidated net ...|   163|[consolidated, ne...|[consolidated, ne...|\n",
            "|positive|Foundries divisio...|   254|[foundries, divis...|[foundries, divis...|\n",
            "|positive|HELSINKI ( AFX ) ...|   237|[helsinki, (, afx...|[helsinki, (, afx...|\n",
            "|positive|Incap Contract Ma...|   138|[incap, contract,...|[incap, contract,...|\n",
            "|positive|Its board of dire...|   125|[its, board, of, ...|[board, directors...|\n",
            "+--------+--------------------+------+--------------------+--------------------+\n",
            "only showing top 20 rows\n",
            "\n"
          ]
        }
      ]
    },
    {
      "cell_type": "code",
      "metadata": {
        "id": "59dwxefsNYCX"
      },
      "source": [
        "from pyspark.ml.feature import Tokenizer, StopWordsRemover, HashingTF, IDF, StringIndexer\n",
        "# Create all the features to the data set\n",
        "pos_neg_to_num = StringIndexer(inputCol='class',outputCol='label')\n",
        "# tokenizer = Tokenizer(inputCol=\"text\", outputCol=\"token_text\")\n",
        "# stopremove = StopWordsRemover(inputCol='token_text',outputCol='stop_tokens')\n",
        "hashingTF = HashingTF(inputCol=\"filtered\", outputCol='hash_token')\n",
        "idf = IDF(inputCol='hash_token', outputCol='idf_token')\n"
      ],
      "id": "59dwxefsNYCX",
      "execution_count": 24,
      "outputs": []
    },
    {
      "cell_type": "code",
      "metadata": {
        "id": "yssO0_Q5NYCb"
      },
      "source": [
        "from pyspark.ml.feature import VectorAssembler\n",
        "from pyspark.ml.linalg import Vector\n",
        "\n",
        "# Create feature vectors\n",
        "clean_up = VectorAssembler(inputCols=['idf_token', 'length'], outputCol='features')"
      ],
      "id": "yssO0_Q5NYCb",
      "execution_count": 25,
      "outputs": []
    },
    {
      "cell_type": "code",
      "metadata": {
        "id": "E_YyUpR3NYCf"
      },
      "source": [
        "# Create a and run a data processing Pipeline\n",
        "from pyspark.ml import Pipeline\n",
        "data_prep_pipeline = Pipeline(stages=[pos_neg_to_num, tokenizer, stopremove, hashingTF, idf, clean_up])"
      ],
      "id": "E_YyUpR3NYCf",
      "execution_count": 26,
      "outputs": []
    },
    {
      "cell_type": "code",
      "metadata": {
        "id": "AzpTj5z1tuu0"
      },
      "source": [
        "# Fit and transform the pipeline\n",
        "cleaner = data_prep_pipeline.fit(df2)\n",
        "cleaned = cleaner.transform(df2)"
      ],
      "id": "AzpTj5z1tuu0",
      "execution_count": 27,
      "outputs": []
    },
    {
      "cell_type": "code",
      "metadata": {
        "colab": {
          "base_uri": "https://localhost:8080/"
        },
        "id": "kDODyxF7NYCn",
        "outputId": "9d4f9c57-4547-47bb-a5a5-2aa6730bb3dc"
      },
      "source": [
        "# Show label and resulting features\n",
        "cleaned.select(['label', 'features']).show()"
      ],
      "id": "kDODyxF7NYCn",
      "execution_count": 28,
      "outputs": [
        {
          "output_type": "stream",
          "name": "stdout",
          "text": [
            "+-----+--------------------+\n",
            "|label|            features|\n",
            "+-----+--------------------+\n",
            "|  0.0|(262145,[32817,33...|\n",
            "|  0.0|(262145,[20102,21...|\n",
            "|  2.0|(262145,[4333,939...|\n",
            "|  1.0|(262145,[29917,32...|\n",
            "|  1.0|(262145,[3968,440...|\n",
            "|  1.0|(262145,[3968,811...|\n",
            "|  1.0|(262145,[5381,928...|\n",
            "|  1.0|(262145,[33998,38...|\n",
            "|  1.0|(262145,[9972,339...|\n",
            "|  1.0|(262145,[33998,38...|\n",
            "|  1.0|(262145,[35529,45...|\n",
            "|  1.0|(262145,[20131,32...|\n",
            "|  1.0|(262145,[4978,126...|\n",
            "|  1.0|(262145,[33998,38...|\n",
            "|  1.0|(262145,[8254,166...|\n",
            "|  1.0|(262145,[11972,22...|\n",
            "|  1.0|(262145,[9144,997...|\n",
            "|  1.0|(262145,[2114,688...|\n",
            "|  1.0|(262145,[4371,246...|\n",
            "|  1.0|(262145,[12650,21...|\n",
            "+-----+--------------------+\n",
            "only showing top 20 rows\n",
            "\n"
          ]
        }
      ]
    },
    {
      "cell_type": "code",
      "metadata": {
        "id": "WzfCQmrVNYCr"
      },
      "source": [
        "from pyspark.ml.classification import NaiveBayes\n",
        "# Break data down into a training set and a testing set\n",
        "training, testing = cleaned.randomSplit([0.7, 0.3])\n",
        "\n",
        "# Create a Naive Bayes model and fit training data\n",
        "nb = NaiveBayes()\n",
        "predictor = nb.fit(training)"
      ],
      "id": "WzfCQmrVNYCr",
      "execution_count": 29,
      "outputs": []
    },
    {
      "cell_type": "code",
      "metadata": {
        "colab": {
          "base_uri": "https://localhost:8080/"
        },
        "id": "zeckHhg5NYCv",
        "outputId": "b22ece4d-a460-434a-c582-175f5d6bb77b"
      },
      "source": [
        "# Tranform the model with the testing data\n",
        "test_results = predictor.transform(testing)\n",
        "test_results.show()"
      ],
      "id": "zeckHhg5NYCv",
      "execution_count": 30,
      "outputs": [
        {
          "output_type": "stream",
          "name": "stdout",
          "text": [
            "+--------+--------------------+------+-----+--------------------+--------------------+--------------------+--------------------+--------------------+--------------------+--------------------+----------+\n",
            "|   class|                text|length|label|               Words|            filtered|          hash_token|           idf_token|            features|       rawPrediction|         probability|prediction|\n",
            "+--------+--------------------+------+-----+--------------------+--------------------+--------------------+--------------------+--------------------+--------------------+--------------------+----------+\n",
            "|negative|( ADP News ) - Fe...|   231|  2.0|[(, adp, news, ),...|[(, adp, news, ),...|(262144,[15058,25...|(262144,[15058,25...|(262145,[15058,25...|[-1674.3440390629...|[0.99999978110268...|       0.0|\n",
            "|negative|11 August 2010 - ...|   210|  2.0|[11, august, 2010...|[11, august, 2010...|(262144,[9972,172...|(262144,[9972,172...|(262145,[9972,172...|[-1446.3168642672...|[5.66460633565361...|       1.0|\n",
            "|negative|25 March 2011 - F...|   235|  2.0|[25, march, 2011,...|[25, march, 2011,...|(262144,[896,1158...|(262144,[896,1158...|(262145,[896,1158...|[-1780.9782609859...|[1.0,1.7398617335...|       0.0|\n",
            "|negative|26 October 2010 -...|   244|  2.0|[26, october, 201...|[26, october, 201...|(262144,[1546,193...|(262144,[1546,193...|(262145,[1546,193...|[-1708.2814359041...|[0.99999999999991...|       0.0|\n",
            "|negative|A survey conducte...|   121|  2.0|[a, survey, condu...|[survey, conducte...|(262144,[29514,41...|(262144,[29514,41...|(262145,[29514,41...|[-1001.8704783649...|[1.0,8.4269513049...|       0.0|\n",
            "|negative|A total of 16.5 m...|   127|  2.0|[a, total, of, 16...|[total, 16.5, mn,...|(262144,[9882,411...|(262144,[9882,411...|(262145,[9882,411...|[-995.66377519128...|[1.0,1.6738537885...|       0.0|\n",
            "|negative|ADP News - Feb 13...|   207|  2.0|[adp, news, -, fe...|[adp, news, -, fe...|(262144,[4835,589...|(262144,[4835,589...|(262145,[4835,589...|[-1837.4719635486...|[0.99997500703049...|       0.0|\n",
            "|negative|ADPnews - Feb 5 ,...|   200|  2.0|[adpnews, -, feb,...|[adpnews, -, feb,...|(262144,[33998,38...|(262144,[33998,38...|(262145,[33998,38...|[-1535.0923746358...|[1.25248475353676...|       1.0|\n",
            "|negative|ADPnews - Sep 28 ...|   205|  2.0|[adpnews, -, sep,...|[adpnews, -, sep,...|(262144,[14313,15...|(262144,[14313,15...|(262145,[14313,15...|[-1456.6635380850...|[1.0,2.3902389241...|       0.0|\n",
            "|negative|According to CEO ...|   194|  2.0|[according, to, c...|[according, ceo, ...|(262144,[9972,124...|(262144,[9972,124...|(262145,[9972,124...|[-1006.6754909550...|[1.0,3.8384128133...|       0.0|\n",
            "|negative|According to the ...|   157|  2.0|[according, to, t...|[according, latvi...|(262144,[10564,33...|(262144,[10564,33...|(262145,[10564,33...|[-1313.1244692342...|[0.99999999999999...|       0.0|\n",
            "|negative|Also the city 's ...|    97|  2.0|[also, the, city,...|[also, city, 's, ...|(262144,[45404,51...|(262144,[45404,51...|(262145,[45404,51...|[-599.70272874058...|[1.0,1.5508220757...|       0.0|\n",
            "|negative|And U.S. energy e...|    85|  2.0|[and, u.s., energ...|[u.s., energy, ex...|(262144,[39204,45...|(262144,[39204,45...|(262145,[39204,45...|[-680.39364175949...|[1.0,4.3236730575...|       0.0|\n",
            "|negative|As a result , 12 ...|    99|  2.0|[as, a, result, ,...|[result, ,, 12, p...|(262144,[4333,451...|(262144,[4333,451...|(262145,[4333,451...|[-658.37110113360...|[1.0,4.9703696734...|       0.0|\n",
            "|negative|As a result , the...|    87|  2.0|[as, a, result, ,...|[result, ,, compa...|(262144,[20260,45...|(262144,[20260,45...|(262145,[20260,45...|[-438.68495730964...|[1.0,2.3638163045...|       0.0|\n",
            "|negative|As a result of th...|   127|  2.0|[as, a, result, o...|[result, negotiat...|(262144,[26301,38...|(262144,[26301,38...|(262145,[26301,38...|[-751.93526941099...|[1.0,2.2855166189...|       0.0|\n",
            "|negative|As capacity was c...|    91|  2.0|[as, capacity, wa...|[capacity, cut, 1...|(262144,[29917,45...|(262144,[29917,45...|(262145,[29917,45...|[-734.54374953072...|[4.14913885095330...|       1.0|\n",
            "|negative|As production of ...|   121|  2.0|[as, production, ...|[production, prod...|(262144,[12826,32...|(262144,[12826,32...|(262145,[12826,32...|[-628.88311699249...|[1.0,2.0136566970...|       0.0|\n",
            "|negative|Aspocomp has a la...|   121|  2.0|[aspocomp, has, a...|[aspocomp, large,...|(262144,[8114,897...|(262144,[8114,897...|(262145,[8114,897...|[-797.91742688736...|[0.99999999999999...|       0.0|\n",
            "|negative|At present , the ...|    90|  2.0|[at, present, ,, ...|[present, ,, trad...|(262144,[45404,45...|(262144,[45404,45...|(262145,[45404,45...|[-644.28400375520...|[1.0,3.3983504159...|       0.0|\n",
            "+--------+--------------------+------+-----+--------------------+--------------------+--------------------+--------------------+--------------------+--------------------+--------------------+----------+\n",
            "only showing top 20 rows\n",
            "\n"
          ]
        }
      ]
    },
    {
      "cell_type": "code",
      "metadata": {
        "colab": {
          "base_uri": "https://localhost:8080/"
        },
        "id": "OVFrWcHINYCz",
        "outputId": "ae6189c2-acdd-4d35-9e3f-3ec12e449156"
      },
      "source": [
        "# Use the Class Evaluator for a cleaner description\n",
        "from pyspark.ml.evaluation import MulticlassClassificationEvaluator\n",
        "\n",
        "acc_eval = MulticlassClassificationEvaluator()\n",
        "acc = acc_eval.evaluate(test_results)\n",
        "print(\"Accuracy of model at predicting reviews was: %f\" % acc)"
      ],
      "id": "OVFrWcHINYCz",
      "execution_count": 31,
      "outputs": [
        {
          "output_type": "stream",
          "name": "stdout",
          "text": [
            "Accuracy of model at predicting reviews was: 0.582872\n"
          ]
        }
      ]
    },
    {
      "cell_type": "code",
      "metadata": {
        "id": "vcJDlyu1utyr"
      },
      "source": [
        ""
      ],
      "id": "vcJDlyu1utyr",
      "execution_count": null,
      "outputs": []
    }
  ]
}