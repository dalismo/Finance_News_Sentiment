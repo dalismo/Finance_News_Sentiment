{
 "cells": [
  {
   "cell_type": "code",
   "execution_count": 1,
   "metadata": {},
   "outputs": [],
   "source": [
    "# Dependencies\n",
    "import requests\n",
    "from pprint import pprint\n",
    "# from config import api_key\n",
    "\n",
    "# url = \"https://stocknewsapi.com/api/v1/category?section=general&items=50&token=0mrpl4lmd8xwbtix2fbgtbtqtd8hlhaeraxxx4xr&date=last30days\"\n"
   ]
  },
  {
   "cell_type": "code",
   "execution_count": 2,
   "metadata": {},
   "outputs": [],
   "source": [
    "# query_url = url"
   ]
  },
  {
   "cell_type": "code",
   "execution_count": 3,
   "metadata": {},
   "outputs": [],
   "source": [
    "# # Request articles\n",
    "# articles = requests.get(query_url).json()\n",
    "\n",
    "# # The \"response\" property in articles contains the actual articles\n",
    "# # list comprehension.\n",
    "# articles_list = articles[\"data\"]\n",
    "# # [\"docs\"]\n",
    "# pprint(articles)"
   ]
  },
  {
   "cell_type": "code",
   "execution_count": 4,
   "metadata": {},
   "outputs": [],
   "source": [
    "# Print the web_url of each stored article\n",
    "# print(\"Your Reading List\")\n",
    "# for articles in articles_list:\n",
    "#     print(articles[\"title\"])"
   ]
  },
  {
   "cell_type": "code",
   "execution_count": 5,
   "metadata": {},
   "outputs": [],
   "source": [
    "# len(articles[\"title\"])"
   ]
  },
  {
   "cell_type": "code",
   "execution_count": 6,
   "metadata": {},
   "outputs": [
    {
     "name": "stdout",
     "output_type": "stream",
     "text": [
      "    January 2018\n",
      "Mo Tu We Th Fr Sa Su\n",
      " 1  2  3  4  5  6  7\n",
      " 8  9 10 11 12 13 14\n",
      "15 16 17 18 19 20 21\n",
      "22 23 24 25 26 27 28\n",
      "29 30 31\n",
      "\n"
     ]
    }
   ],
   "source": [
    "import calendar\n",
    "print(calendar.month(2018, 1))"
   ]
  },
  {
   "cell_type": "code",
   "execution_count": 61,
   "metadata": {},
   "outputs": [],
   "source": [
    "from datetime import date, timedelta, datetime"
   ]
  },
  {
   "cell_type": "code",
   "execution_count": 62,
   "metadata": {},
   "outputs": [
    {
     "name": "stdout",
     "output_type": "stream",
     "text": [
      "Enter Start Month (MM): 1\n",
      "Enter Start Day (DD): 1\n",
      "Enter Start Day (YYYY): 2020\n"
     ]
    }
   ],
   "source": [
    "start_month = int(input(\"Enter Start Month (MM): \"))\n",
    "start_day = int(input(\"Enter Start Day (DD): \"))\n",
    "start_year = int(input(\"Enter Start Day (YYYY): \"))\n",
    "start_date = date(start_year, start_month, start_day)\n",
    "# start_date"
   ]
  },
  {
   "cell_type": "code",
   "execution_count": 63,
   "metadata": {},
   "outputs": [
    {
     "name": "stdout",
     "output_type": "stream",
     "text": [
      "Enter End Month (MM): 2\n",
      "Enter End Day (DD): 1\n",
      "Enter End Year (YYYY): 2020\n"
     ]
    },
    {
     "data": {
      "text/plain": [
       "datetime.date(2020, 2, 1)"
      ]
     },
     "execution_count": 63,
     "metadata": {},
     "output_type": "execute_result"
    }
   ],
   "source": [
    "end_month = int(input(\"Enter End Month (MM): \"))\n",
    "end_day = int(input(\"Enter End Day (DD): \"))\n",
    "end_year = int(input(\"Enter End Year (YYYY): \"))\n",
    "end_date = date(end_year, end_month, end_day)\n",
    "end_date"
   ]
  },
  {
   "cell_type": "code",
   "execution_count": 11,
   "metadata": {},
   "outputs": [],
   "source": [
    "# date_diff = end_date - start_date\n",
    "\n",
    "# for i in range(date_diff.days + 1):\n",
    "#     day = start_date + timedelta(days=i)\n",
    "#     formated_dates = datetime.strftime(day, \"%m/%d/%Y\")"
   ]
  },
  {
   "cell_type": "code",
   "execution_count": 53,
   "metadata": {},
   "outputs": [],
   "source": [
    "import pandas as pd"
   ]
  },
  {
   "cell_type": "code",
   "execution_count": 54,
   "metadata": {},
   "outputs": [
    {
     "data": {
      "text/plain": [
       "Index(['01012021', '01022021', '01032021', '01042021', '01052021', '01062021',\n",
       "       '01072021', '01082021', '01092021', '01102021',\n",
       "       ...\n",
       "       '07232021', '07242021', '07252021', '07262021', '07272021', '07282021',\n",
       "       '07292021', '07302021', '07312021', '08012021'],\n",
       "      dtype='object', length=213)"
      ]
     },
     "execution_count": 54,
     "metadata": {},
     "output_type": "execute_result"
    }
   ],
   "source": [
    "date_s = pd.date_range(start=start_date,end=end_date)\n",
    "date_range = date_s.strftime(\"%m%d%Y\")\n",
    "date_range"
   ]
  },
  {
   "cell_type": "code",
   "execution_count": 55,
   "metadata": {},
   "outputs": [],
   "source": [
    "ranges = [i + \"-\" + i for i in  date_range]"
   ]
  },
  {
   "cell_type": "code",
   "execution_count": 56,
   "metadata": {},
   "outputs": [],
   "source": [
    "api_url = \"https://stocknewsapi.com/api/v1/category?section=alltickers&items=50&token=0mrpl4lmd8xwbtix2fbgtbtqtd8hlhaeraxxx4xr&date=\""
   ]
  },
  {
   "cell_type": "code",
   "execution_count": 57,
   "metadata": {},
   "outputs": [
    {
     "data": {
      "text/plain": [
       "['https://stocknewsapi.com/api/v1/category?section=alltickers&items=50&token=0mrpl4lmd8xwbtix2fbgtbtqtd8hlhaeraxxx4xr&date=01012021-01012021',\n",
       " 'https://stocknewsapi.com/api/v1/category?section=alltickers&items=50&token=0mrpl4lmd8xwbtix2fbgtbtqtd8hlhaeraxxx4xr&date=01022021-01022021',\n",
       " 'https://stocknewsapi.com/api/v1/category?section=alltickers&items=50&token=0mrpl4lmd8xwbtix2fbgtbtqtd8hlhaeraxxx4xr&date=01032021-01032021',\n",
       " 'https://stocknewsapi.com/api/v1/category?section=alltickers&items=50&token=0mrpl4lmd8xwbtix2fbgtbtqtd8hlhaeraxxx4xr&date=01042021-01042021',\n",
       " 'https://stocknewsapi.com/api/v1/category?section=alltickers&items=50&token=0mrpl4lmd8xwbtix2fbgtbtqtd8hlhaeraxxx4xr&date=01052021-01052021',\n",
       " 'https://stocknewsapi.com/api/v1/category?section=alltickers&items=50&token=0mrpl4lmd8xwbtix2fbgtbtqtd8hlhaeraxxx4xr&date=01062021-01062021',\n",
       " 'https://stocknewsapi.com/api/v1/category?section=alltickers&items=50&token=0mrpl4lmd8xwbtix2fbgtbtqtd8hlhaeraxxx4xr&date=01072021-01072021',\n",
       " 'https://stocknewsapi.com/api/v1/category?section=alltickers&items=50&token=0mrpl4lmd8xwbtix2fbgtbtqtd8hlhaeraxxx4xr&date=01082021-01082021',\n",
       " 'https://stocknewsapi.com/api/v1/category?section=alltickers&items=50&token=0mrpl4lmd8xwbtix2fbgtbtqtd8hlhaeraxxx4xr&date=01092021-01092021',\n",
       " 'https://stocknewsapi.com/api/v1/category?section=alltickers&items=50&token=0mrpl4lmd8xwbtix2fbgtbtqtd8hlhaeraxxx4xr&date=01102021-01102021',\n",
       " 'https://stocknewsapi.com/api/v1/category?section=alltickers&items=50&token=0mrpl4lmd8xwbtix2fbgtbtqtd8hlhaeraxxx4xr&date=01112021-01112021',\n",
       " 'https://stocknewsapi.com/api/v1/category?section=alltickers&items=50&token=0mrpl4lmd8xwbtix2fbgtbtqtd8hlhaeraxxx4xr&date=01122021-01122021',\n",
       " 'https://stocknewsapi.com/api/v1/category?section=alltickers&items=50&token=0mrpl4lmd8xwbtix2fbgtbtqtd8hlhaeraxxx4xr&date=01132021-01132021',\n",
       " 'https://stocknewsapi.com/api/v1/category?section=alltickers&items=50&token=0mrpl4lmd8xwbtix2fbgtbtqtd8hlhaeraxxx4xr&date=01142021-01142021',\n",
       " 'https://stocknewsapi.com/api/v1/category?section=alltickers&items=50&token=0mrpl4lmd8xwbtix2fbgtbtqtd8hlhaeraxxx4xr&date=01152021-01152021',\n",
       " 'https://stocknewsapi.com/api/v1/category?section=alltickers&items=50&token=0mrpl4lmd8xwbtix2fbgtbtqtd8hlhaeraxxx4xr&date=01162021-01162021',\n",
       " 'https://stocknewsapi.com/api/v1/category?section=alltickers&items=50&token=0mrpl4lmd8xwbtix2fbgtbtqtd8hlhaeraxxx4xr&date=01172021-01172021',\n",
       " 'https://stocknewsapi.com/api/v1/category?section=alltickers&items=50&token=0mrpl4lmd8xwbtix2fbgtbtqtd8hlhaeraxxx4xr&date=01182021-01182021',\n",
       " 'https://stocknewsapi.com/api/v1/category?section=alltickers&items=50&token=0mrpl4lmd8xwbtix2fbgtbtqtd8hlhaeraxxx4xr&date=01192021-01192021',\n",
       " 'https://stocknewsapi.com/api/v1/category?section=alltickers&items=50&token=0mrpl4lmd8xwbtix2fbgtbtqtd8hlhaeraxxx4xr&date=01202021-01202021',\n",
       " 'https://stocknewsapi.com/api/v1/category?section=alltickers&items=50&token=0mrpl4lmd8xwbtix2fbgtbtqtd8hlhaeraxxx4xr&date=01212021-01212021',\n",
       " 'https://stocknewsapi.com/api/v1/category?section=alltickers&items=50&token=0mrpl4lmd8xwbtix2fbgtbtqtd8hlhaeraxxx4xr&date=01222021-01222021',\n",
       " 'https://stocknewsapi.com/api/v1/category?section=alltickers&items=50&token=0mrpl4lmd8xwbtix2fbgtbtqtd8hlhaeraxxx4xr&date=01232021-01232021',\n",
       " 'https://stocknewsapi.com/api/v1/category?section=alltickers&items=50&token=0mrpl4lmd8xwbtix2fbgtbtqtd8hlhaeraxxx4xr&date=01242021-01242021',\n",
       " 'https://stocknewsapi.com/api/v1/category?section=alltickers&items=50&token=0mrpl4lmd8xwbtix2fbgtbtqtd8hlhaeraxxx4xr&date=01252021-01252021',\n",
       " 'https://stocknewsapi.com/api/v1/category?section=alltickers&items=50&token=0mrpl4lmd8xwbtix2fbgtbtqtd8hlhaeraxxx4xr&date=01262021-01262021',\n",
       " 'https://stocknewsapi.com/api/v1/category?section=alltickers&items=50&token=0mrpl4lmd8xwbtix2fbgtbtqtd8hlhaeraxxx4xr&date=01272021-01272021',\n",
       " 'https://stocknewsapi.com/api/v1/category?section=alltickers&items=50&token=0mrpl4lmd8xwbtix2fbgtbtqtd8hlhaeraxxx4xr&date=01282021-01282021',\n",
       " 'https://stocknewsapi.com/api/v1/category?section=alltickers&items=50&token=0mrpl4lmd8xwbtix2fbgtbtqtd8hlhaeraxxx4xr&date=01292021-01292021',\n",
       " 'https://stocknewsapi.com/api/v1/category?section=alltickers&items=50&token=0mrpl4lmd8xwbtix2fbgtbtqtd8hlhaeraxxx4xr&date=01302021-01302021',\n",
       " 'https://stocknewsapi.com/api/v1/category?section=alltickers&items=50&token=0mrpl4lmd8xwbtix2fbgtbtqtd8hlhaeraxxx4xr&date=01312021-01312021',\n",
       " 'https://stocknewsapi.com/api/v1/category?section=alltickers&items=50&token=0mrpl4lmd8xwbtix2fbgtbtqtd8hlhaeraxxx4xr&date=02012021-02012021',\n",
       " 'https://stocknewsapi.com/api/v1/category?section=alltickers&items=50&token=0mrpl4lmd8xwbtix2fbgtbtqtd8hlhaeraxxx4xr&date=02022021-02022021',\n",
       " 'https://stocknewsapi.com/api/v1/category?section=alltickers&items=50&token=0mrpl4lmd8xwbtix2fbgtbtqtd8hlhaeraxxx4xr&date=02032021-02032021',\n",
       " 'https://stocknewsapi.com/api/v1/category?section=alltickers&items=50&token=0mrpl4lmd8xwbtix2fbgtbtqtd8hlhaeraxxx4xr&date=02042021-02042021',\n",
       " 'https://stocknewsapi.com/api/v1/category?section=alltickers&items=50&token=0mrpl4lmd8xwbtix2fbgtbtqtd8hlhaeraxxx4xr&date=02052021-02052021',\n",
       " 'https://stocknewsapi.com/api/v1/category?section=alltickers&items=50&token=0mrpl4lmd8xwbtix2fbgtbtqtd8hlhaeraxxx4xr&date=02062021-02062021',\n",
       " 'https://stocknewsapi.com/api/v1/category?section=alltickers&items=50&token=0mrpl4lmd8xwbtix2fbgtbtqtd8hlhaeraxxx4xr&date=02072021-02072021',\n",
       " 'https://stocknewsapi.com/api/v1/category?section=alltickers&items=50&token=0mrpl4lmd8xwbtix2fbgtbtqtd8hlhaeraxxx4xr&date=02082021-02082021',\n",
       " 'https://stocknewsapi.com/api/v1/category?section=alltickers&items=50&token=0mrpl4lmd8xwbtix2fbgtbtqtd8hlhaeraxxx4xr&date=02092021-02092021',\n",
       " 'https://stocknewsapi.com/api/v1/category?section=alltickers&items=50&token=0mrpl4lmd8xwbtix2fbgtbtqtd8hlhaeraxxx4xr&date=02102021-02102021',\n",
       " 'https://stocknewsapi.com/api/v1/category?section=alltickers&items=50&token=0mrpl4lmd8xwbtix2fbgtbtqtd8hlhaeraxxx4xr&date=02112021-02112021',\n",
       " 'https://stocknewsapi.com/api/v1/category?section=alltickers&items=50&token=0mrpl4lmd8xwbtix2fbgtbtqtd8hlhaeraxxx4xr&date=02122021-02122021',\n",
       " 'https://stocknewsapi.com/api/v1/category?section=alltickers&items=50&token=0mrpl4lmd8xwbtix2fbgtbtqtd8hlhaeraxxx4xr&date=02132021-02132021',\n",
       " 'https://stocknewsapi.com/api/v1/category?section=alltickers&items=50&token=0mrpl4lmd8xwbtix2fbgtbtqtd8hlhaeraxxx4xr&date=02142021-02142021',\n",
       " 'https://stocknewsapi.com/api/v1/category?section=alltickers&items=50&token=0mrpl4lmd8xwbtix2fbgtbtqtd8hlhaeraxxx4xr&date=02152021-02152021',\n",
       " 'https://stocknewsapi.com/api/v1/category?section=alltickers&items=50&token=0mrpl4lmd8xwbtix2fbgtbtqtd8hlhaeraxxx4xr&date=02162021-02162021',\n",
       " 'https://stocknewsapi.com/api/v1/category?section=alltickers&items=50&token=0mrpl4lmd8xwbtix2fbgtbtqtd8hlhaeraxxx4xr&date=02172021-02172021',\n",
       " 'https://stocknewsapi.com/api/v1/category?section=alltickers&items=50&token=0mrpl4lmd8xwbtix2fbgtbtqtd8hlhaeraxxx4xr&date=02182021-02182021',\n",
       " 'https://stocknewsapi.com/api/v1/category?section=alltickers&items=50&token=0mrpl4lmd8xwbtix2fbgtbtqtd8hlhaeraxxx4xr&date=02192021-02192021',\n",
       " 'https://stocknewsapi.com/api/v1/category?section=alltickers&items=50&token=0mrpl4lmd8xwbtix2fbgtbtqtd8hlhaeraxxx4xr&date=02202021-02202021',\n",
       " 'https://stocknewsapi.com/api/v1/category?section=alltickers&items=50&token=0mrpl4lmd8xwbtix2fbgtbtqtd8hlhaeraxxx4xr&date=02212021-02212021',\n",
       " 'https://stocknewsapi.com/api/v1/category?section=alltickers&items=50&token=0mrpl4lmd8xwbtix2fbgtbtqtd8hlhaeraxxx4xr&date=02222021-02222021',\n",
       " 'https://stocknewsapi.com/api/v1/category?section=alltickers&items=50&token=0mrpl4lmd8xwbtix2fbgtbtqtd8hlhaeraxxx4xr&date=02232021-02232021',\n",
       " 'https://stocknewsapi.com/api/v1/category?section=alltickers&items=50&token=0mrpl4lmd8xwbtix2fbgtbtqtd8hlhaeraxxx4xr&date=02242021-02242021',\n",
       " 'https://stocknewsapi.com/api/v1/category?section=alltickers&items=50&token=0mrpl4lmd8xwbtix2fbgtbtqtd8hlhaeraxxx4xr&date=02252021-02252021',\n",
       " 'https://stocknewsapi.com/api/v1/category?section=alltickers&items=50&token=0mrpl4lmd8xwbtix2fbgtbtqtd8hlhaeraxxx4xr&date=02262021-02262021',\n",
       " 'https://stocknewsapi.com/api/v1/category?section=alltickers&items=50&token=0mrpl4lmd8xwbtix2fbgtbtqtd8hlhaeraxxx4xr&date=02272021-02272021',\n",
       " 'https://stocknewsapi.com/api/v1/category?section=alltickers&items=50&token=0mrpl4lmd8xwbtix2fbgtbtqtd8hlhaeraxxx4xr&date=02282021-02282021',\n",
       " 'https://stocknewsapi.com/api/v1/category?section=alltickers&items=50&token=0mrpl4lmd8xwbtix2fbgtbtqtd8hlhaeraxxx4xr&date=03012021-03012021',\n",
       " 'https://stocknewsapi.com/api/v1/category?section=alltickers&items=50&token=0mrpl4lmd8xwbtix2fbgtbtqtd8hlhaeraxxx4xr&date=03022021-03022021',\n",
       " 'https://stocknewsapi.com/api/v1/category?section=alltickers&items=50&token=0mrpl4lmd8xwbtix2fbgtbtqtd8hlhaeraxxx4xr&date=03032021-03032021',\n",
       " 'https://stocknewsapi.com/api/v1/category?section=alltickers&items=50&token=0mrpl4lmd8xwbtix2fbgtbtqtd8hlhaeraxxx4xr&date=03042021-03042021',\n",
       " 'https://stocknewsapi.com/api/v1/category?section=alltickers&items=50&token=0mrpl4lmd8xwbtix2fbgtbtqtd8hlhaeraxxx4xr&date=03052021-03052021',\n",
       " 'https://stocknewsapi.com/api/v1/category?section=alltickers&items=50&token=0mrpl4lmd8xwbtix2fbgtbtqtd8hlhaeraxxx4xr&date=03062021-03062021',\n",
       " 'https://stocknewsapi.com/api/v1/category?section=alltickers&items=50&token=0mrpl4lmd8xwbtix2fbgtbtqtd8hlhaeraxxx4xr&date=03072021-03072021',\n",
       " 'https://stocknewsapi.com/api/v1/category?section=alltickers&items=50&token=0mrpl4lmd8xwbtix2fbgtbtqtd8hlhaeraxxx4xr&date=03082021-03082021',\n",
       " 'https://stocknewsapi.com/api/v1/category?section=alltickers&items=50&token=0mrpl4lmd8xwbtix2fbgtbtqtd8hlhaeraxxx4xr&date=03092021-03092021',\n",
       " 'https://stocknewsapi.com/api/v1/category?section=alltickers&items=50&token=0mrpl4lmd8xwbtix2fbgtbtqtd8hlhaeraxxx4xr&date=03102021-03102021',\n",
       " 'https://stocknewsapi.com/api/v1/category?section=alltickers&items=50&token=0mrpl4lmd8xwbtix2fbgtbtqtd8hlhaeraxxx4xr&date=03112021-03112021',\n",
       " 'https://stocknewsapi.com/api/v1/category?section=alltickers&items=50&token=0mrpl4lmd8xwbtix2fbgtbtqtd8hlhaeraxxx4xr&date=03122021-03122021',\n",
       " 'https://stocknewsapi.com/api/v1/category?section=alltickers&items=50&token=0mrpl4lmd8xwbtix2fbgtbtqtd8hlhaeraxxx4xr&date=03132021-03132021',\n",
       " 'https://stocknewsapi.com/api/v1/category?section=alltickers&items=50&token=0mrpl4lmd8xwbtix2fbgtbtqtd8hlhaeraxxx4xr&date=03142021-03142021',\n",
       " 'https://stocknewsapi.com/api/v1/category?section=alltickers&items=50&token=0mrpl4lmd8xwbtix2fbgtbtqtd8hlhaeraxxx4xr&date=03152021-03152021',\n",
       " 'https://stocknewsapi.com/api/v1/category?section=alltickers&items=50&token=0mrpl4lmd8xwbtix2fbgtbtqtd8hlhaeraxxx4xr&date=03162021-03162021',\n",
       " 'https://stocknewsapi.com/api/v1/category?section=alltickers&items=50&token=0mrpl4lmd8xwbtix2fbgtbtqtd8hlhaeraxxx4xr&date=03172021-03172021',\n",
       " 'https://stocknewsapi.com/api/v1/category?section=alltickers&items=50&token=0mrpl4lmd8xwbtix2fbgtbtqtd8hlhaeraxxx4xr&date=03182021-03182021',\n",
       " 'https://stocknewsapi.com/api/v1/category?section=alltickers&items=50&token=0mrpl4lmd8xwbtix2fbgtbtqtd8hlhaeraxxx4xr&date=03192021-03192021',\n",
       " 'https://stocknewsapi.com/api/v1/category?section=alltickers&items=50&token=0mrpl4lmd8xwbtix2fbgtbtqtd8hlhaeraxxx4xr&date=03202021-03202021',\n",
       " 'https://stocknewsapi.com/api/v1/category?section=alltickers&items=50&token=0mrpl4lmd8xwbtix2fbgtbtqtd8hlhaeraxxx4xr&date=03212021-03212021',\n",
       " 'https://stocknewsapi.com/api/v1/category?section=alltickers&items=50&token=0mrpl4lmd8xwbtix2fbgtbtqtd8hlhaeraxxx4xr&date=03222021-03222021',\n",
       " 'https://stocknewsapi.com/api/v1/category?section=alltickers&items=50&token=0mrpl4lmd8xwbtix2fbgtbtqtd8hlhaeraxxx4xr&date=03232021-03232021',\n",
       " 'https://stocknewsapi.com/api/v1/category?section=alltickers&items=50&token=0mrpl4lmd8xwbtix2fbgtbtqtd8hlhaeraxxx4xr&date=03242021-03242021',\n",
       " 'https://stocknewsapi.com/api/v1/category?section=alltickers&items=50&token=0mrpl4lmd8xwbtix2fbgtbtqtd8hlhaeraxxx4xr&date=03252021-03252021',\n",
       " 'https://stocknewsapi.com/api/v1/category?section=alltickers&items=50&token=0mrpl4lmd8xwbtix2fbgtbtqtd8hlhaeraxxx4xr&date=03262021-03262021',\n",
       " 'https://stocknewsapi.com/api/v1/category?section=alltickers&items=50&token=0mrpl4lmd8xwbtix2fbgtbtqtd8hlhaeraxxx4xr&date=03272021-03272021',\n",
       " 'https://stocknewsapi.com/api/v1/category?section=alltickers&items=50&token=0mrpl4lmd8xwbtix2fbgtbtqtd8hlhaeraxxx4xr&date=03282021-03282021',\n",
       " 'https://stocknewsapi.com/api/v1/category?section=alltickers&items=50&token=0mrpl4lmd8xwbtix2fbgtbtqtd8hlhaeraxxx4xr&date=03292021-03292021',\n",
       " 'https://stocknewsapi.com/api/v1/category?section=alltickers&items=50&token=0mrpl4lmd8xwbtix2fbgtbtqtd8hlhaeraxxx4xr&date=03302021-03302021',\n",
       " 'https://stocknewsapi.com/api/v1/category?section=alltickers&items=50&token=0mrpl4lmd8xwbtix2fbgtbtqtd8hlhaeraxxx4xr&date=03312021-03312021',\n",
       " 'https://stocknewsapi.com/api/v1/category?section=alltickers&items=50&token=0mrpl4lmd8xwbtix2fbgtbtqtd8hlhaeraxxx4xr&date=04012021-04012021',\n",
       " 'https://stocknewsapi.com/api/v1/category?section=alltickers&items=50&token=0mrpl4lmd8xwbtix2fbgtbtqtd8hlhaeraxxx4xr&date=04022021-04022021',\n",
       " 'https://stocknewsapi.com/api/v1/category?section=alltickers&items=50&token=0mrpl4lmd8xwbtix2fbgtbtqtd8hlhaeraxxx4xr&date=04032021-04032021',\n",
       " 'https://stocknewsapi.com/api/v1/category?section=alltickers&items=50&token=0mrpl4lmd8xwbtix2fbgtbtqtd8hlhaeraxxx4xr&date=04042021-04042021',\n",
       " 'https://stocknewsapi.com/api/v1/category?section=alltickers&items=50&token=0mrpl4lmd8xwbtix2fbgtbtqtd8hlhaeraxxx4xr&date=04052021-04052021',\n",
       " 'https://stocknewsapi.com/api/v1/category?section=alltickers&items=50&token=0mrpl4lmd8xwbtix2fbgtbtqtd8hlhaeraxxx4xr&date=04062021-04062021',\n",
       " 'https://stocknewsapi.com/api/v1/category?section=alltickers&items=50&token=0mrpl4lmd8xwbtix2fbgtbtqtd8hlhaeraxxx4xr&date=04072021-04072021',\n",
       " 'https://stocknewsapi.com/api/v1/category?section=alltickers&items=50&token=0mrpl4lmd8xwbtix2fbgtbtqtd8hlhaeraxxx4xr&date=04082021-04082021',\n",
       " 'https://stocknewsapi.com/api/v1/category?section=alltickers&items=50&token=0mrpl4lmd8xwbtix2fbgtbtqtd8hlhaeraxxx4xr&date=04092021-04092021',\n",
       " 'https://stocknewsapi.com/api/v1/category?section=alltickers&items=50&token=0mrpl4lmd8xwbtix2fbgtbtqtd8hlhaeraxxx4xr&date=04102021-04102021',\n",
       " 'https://stocknewsapi.com/api/v1/category?section=alltickers&items=50&token=0mrpl4lmd8xwbtix2fbgtbtqtd8hlhaeraxxx4xr&date=04112021-04112021',\n",
       " 'https://stocknewsapi.com/api/v1/category?section=alltickers&items=50&token=0mrpl4lmd8xwbtix2fbgtbtqtd8hlhaeraxxx4xr&date=04122021-04122021',\n",
       " 'https://stocknewsapi.com/api/v1/category?section=alltickers&items=50&token=0mrpl4lmd8xwbtix2fbgtbtqtd8hlhaeraxxx4xr&date=04132021-04132021',\n",
       " 'https://stocknewsapi.com/api/v1/category?section=alltickers&items=50&token=0mrpl4lmd8xwbtix2fbgtbtqtd8hlhaeraxxx4xr&date=04142021-04142021',\n",
       " 'https://stocknewsapi.com/api/v1/category?section=alltickers&items=50&token=0mrpl4lmd8xwbtix2fbgtbtqtd8hlhaeraxxx4xr&date=04152021-04152021',\n",
       " 'https://stocknewsapi.com/api/v1/category?section=alltickers&items=50&token=0mrpl4lmd8xwbtix2fbgtbtqtd8hlhaeraxxx4xr&date=04162021-04162021',\n",
       " 'https://stocknewsapi.com/api/v1/category?section=alltickers&items=50&token=0mrpl4lmd8xwbtix2fbgtbtqtd8hlhaeraxxx4xr&date=04172021-04172021',\n",
       " 'https://stocknewsapi.com/api/v1/category?section=alltickers&items=50&token=0mrpl4lmd8xwbtix2fbgtbtqtd8hlhaeraxxx4xr&date=04182021-04182021',\n",
       " 'https://stocknewsapi.com/api/v1/category?section=alltickers&items=50&token=0mrpl4lmd8xwbtix2fbgtbtqtd8hlhaeraxxx4xr&date=04192021-04192021',\n",
       " 'https://stocknewsapi.com/api/v1/category?section=alltickers&items=50&token=0mrpl4lmd8xwbtix2fbgtbtqtd8hlhaeraxxx4xr&date=04202021-04202021',\n",
       " 'https://stocknewsapi.com/api/v1/category?section=alltickers&items=50&token=0mrpl4lmd8xwbtix2fbgtbtqtd8hlhaeraxxx4xr&date=04212021-04212021',\n",
       " 'https://stocknewsapi.com/api/v1/category?section=alltickers&items=50&token=0mrpl4lmd8xwbtix2fbgtbtqtd8hlhaeraxxx4xr&date=04222021-04222021',\n",
       " 'https://stocknewsapi.com/api/v1/category?section=alltickers&items=50&token=0mrpl4lmd8xwbtix2fbgtbtqtd8hlhaeraxxx4xr&date=04232021-04232021',\n",
       " 'https://stocknewsapi.com/api/v1/category?section=alltickers&items=50&token=0mrpl4lmd8xwbtix2fbgtbtqtd8hlhaeraxxx4xr&date=04242021-04242021',\n",
       " 'https://stocknewsapi.com/api/v1/category?section=alltickers&items=50&token=0mrpl4lmd8xwbtix2fbgtbtqtd8hlhaeraxxx4xr&date=04252021-04252021',\n",
       " 'https://stocknewsapi.com/api/v1/category?section=alltickers&items=50&token=0mrpl4lmd8xwbtix2fbgtbtqtd8hlhaeraxxx4xr&date=04262021-04262021',\n",
       " 'https://stocknewsapi.com/api/v1/category?section=alltickers&items=50&token=0mrpl4lmd8xwbtix2fbgtbtqtd8hlhaeraxxx4xr&date=04272021-04272021',\n",
       " 'https://stocknewsapi.com/api/v1/category?section=alltickers&items=50&token=0mrpl4lmd8xwbtix2fbgtbtqtd8hlhaeraxxx4xr&date=04282021-04282021',\n",
       " 'https://stocknewsapi.com/api/v1/category?section=alltickers&items=50&token=0mrpl4lmd8xwbtix2fbgtbtqtd8hlhaeraxxx4xr&date=04292021-04292021',\n",
       " 'https://stocknewsapi.com/api/v1/category?section=alltickers&items=50&token=0mrpl4lmd8xwbtix2fbgtbtqtd8hlhaeraxxx4xr&date=04302021-04302021',\n",
       " 'https://stocknewsapi.com/api/v1/category?section=alltickers&items=50&token=0mrpl4lmd8xwbtix2fbgtbtqtd8hlhaeraxxx4xr&date=05012021-05012021',\n",
       " 'https://stocknewsapi.com/api/v1/category?section=alltickers&items=50&token=0mrpl4lmd8xwbtix2fbgtbtqtd8hlhaeraxxx4xr&date=05022021-05022021',\n",
       " 'https://stocknewsapi.com/api/v1/category?section=alltickers&items=50&token=0mrpl4lmd8xwbtix2fbgtbtqtd8hlhaeraxxx4xr&date=05032021-05032021',\n",
       " 'https://stocknewsapi.com/api/v1/category?section=alltickers&items=50&token=0mrpl4lmd8xwbtix2fbgtbtqtd8hlhaeraxxx4xr&date=05042021-05042021',\n",
       " 'https://stocknewsapi.com/api/v1/category?section=alltickers&items=50&token=0mrpl4lmd8xwbtix2fbgtbtqtd8hlhaeraxxx4xr&date=05052021-05052021',\n",
       " 'https://stocknewsapi.com/api/v1/category?section=alltickers&items=50&token=0mrpl4lmd8xwbtix2fbgtbtqtd8hlhaeraxxx4xr&date=05062021-05062021',\n",
       " 'https://stocknewsapi.com/api/v1/category?section=alltickers&items=50&token=0mrpl4lmd8xwbtix2fbgtbtqtd8hlhaeraxxx4xr&date=05072021-05072021',\n",
       " 'https://stocknewsapi.com/api/v1/category?section=alltickers&items=50&token=0mrpl4lmd8xwbtix2fbgtbtqtd8hlhaeraxxx4xr&date=05082021-05082021',\n",
       " 'https://stocknewsapi.com/api/v1/category?section=alltickers&items=50&token=0mrpl4lmd8xwbtix2fbgtbtqtd8hlhaeraxxx4xr&date=05092021-05092021',\n",
       " 'https://stocknewsapi.com/api/v1/category?section=alltickers&items=50&token=0mrpl4lmd8xwbtix2fbgtbtqtd8hlhaeraxxx4xr&date=05102021-05102021',\n",
       " 'https://stocknewsapi.com/api/v1/category?section=alltickers&items=50&token=0mrpl4lmd8xwbtix2fbgtbtqtd8hlhaeraxxx4xr&date=05112021-05112021',\n",
       " 'https://stocknewsapi.com/api/v1/category?section=alltickers&items=50&token=0mrpl4lmd8xwbtix2fbgtbtqtd8hlhaeraxxx4xr&date=05122021-05122021',\n",
       " 'https://stocknewsapi.com/api/v1/category?section=alltickers&items=50&token=0mrpl4lmd8xwbtix2fbgtbtqtd8hlhaeraxxx4xr&date=05132021-05132021',\n",
       " 'https://stocknewsapi.com/api/v1/category?section=alltickers&items=50&token=0mrpl4lmd8xwbtix2fbgtbtqtd8hlhaeraxxx4xr&date=05142021-05142021',\n",
       " 'https://stocknewsapi.com/api/v1/category?section=alltickers&items=50&token=0mrpl4lmd8xwbtix2fbgtbtqtd8hlhaeraxxx4xr&date=05152021-05152021',\n",
       " 'https://stocknewsapi.com/api/v1/category?section=alltickers&items=50&token=0mrpl4lmd8xwbtix2fbgtbtqtd8hlhaeraxxx4xr&date=05162021-05162021',\n",
       " 'https://stocknewsapi.com/api/v1/category?section=alltickers&items=50&token=0mrpl4lmd8xwbtix2fbgtbtqtd8hlhaeraxxx4xr&date=05172021-05172021',\n",
       " 'https://stocknewsapi.com/api/v1/category?section=alltickers&items=50&token=0mrpl4lmd8xwbtix2fbgtbtqtd8hlhaeraxxx4xr&date=05182021-05182021',\n",
       " 'https://stocknewsapi.com/api/v1/category?section=alltickers&items=50&token=0mrpl4lmd8xwbtix2fbgtbtqtd8hlhaeraxxx4xr&date=05192021-05192021',\n",
       " 'https://stocknewsapi.com/api/v1/category?section=alltickers&items=50&token=0mrpl4lmd8xwbtix2fbgtbtqtd8hlhaeraxxx4xr&date=05202021-05202021',\n",
       " 'https://stocknewsapi.com/api/v1/category?section=alltickers&items=50&token=0mrpl4lmd8xwbtix2fbgtbtqtd8hlhaeraxxx4xr&date=05212021-05212021',\n",
       " 'https://stocknewsapi.com/api/v1/category?section=alltickers&items=50&token=0mrpl4lmd8xwbtix2fbgtbtqtd8hlhaeraxxx4xr&date=05222021-05222021',\n",
       " 'https://stocknewsapi.com/api/v1/category?section=alltickers&items=50&token=0mrpl4lmd8xwbtix2fbgtbtqtd8hlhaeraxxx4xr&date=05232021-05232021',\n",
       " 'https://stocknewsapi.com/api/v1/category?section=alltickers&items=50&token=0mrpl4lmd8xwbtix2fbgtbtqtd8hlhaeraxxx4xr&date=05242021-05242021',\n",
       " 'https://stocknewsapi.com/api/v1/category?section=alltickers&items=50&token=0mrpl4lmd8xwbtix2fbgtbtqtd8hlhaeraxxx4xr&date=05252021-05252021',\n",
       " 'https://stocknewsapi.com/api/v1/category?section=alltickers&items=50&token=0mrpl4lmd8xwbtix2fbgtbtqtd8hlhaeraxxx4xr&date=05262021-05262021',\n",
       " 'https://stocknewsapi.com/api/v1/category?section=alltickers&items=50&token=0mrpl4lmd8xwbtix2fbgtbtqtd8hlhaeraxxx4xr&date=05272021-05272021',\n",
       " 'https://stocknewsapi.com/api/v1/category?section=alltickers&items=50&token=0mrpl4lmd8xwbtix2fbgtbtqtd8hlhaeraxxx4xr&date=05282021-05282021',\n",
       " 'https://stocknewsapi.com/api/v1/category?section=alltickers&items=50&token=0mrpl4lmd8xwbtix2fbgtbtqtd8hlhaeraxxx4xr&date=05292021-05292021',\n",
       " 'https://stocknewsapi.com/api/v1/category?section=alltickers&items=50&token=0mrpl4lmd8xwbtix2fbgtbtqtd8hlhaeraxxx4xr&date=05302021-05302021',\n",
       " 'https://stocknewsapi.com/api/v1/category?section=alltickers&items=50&token=0mrpl4lmd8xwbtix2fbgtbtqtd8hlhaeraxxx4xr&date=05312021-05312021',\n",
       " 'https://stocknewsapi.com/api/v1/category?section=alltickers&items=50&token=0mrpl4lmd8xwbtix2fbgtbtqtd8hlhaeraxxx4xr&date=06012021-06012021',\n",
       " 'https://stocknewsapi.com/api/v1/category?section=alltickers&items=50&token=0mrpl4lmd8xwbtix2fbgtbtqtd8hlhaeraxxx4xr&date=06022021-06022021',\n",
       " 'https://stocknewsapi.com/api/v1/category?section=alltickers&items=50&token=0mrpl4lmd8xwbtix2fbgtbtqtd8hlhaeraxxx4xr&date=06032021-06032021',\n",
       " 'https://stocknewsapi.com/api/v1/category?section=alltickers&items=50&token=0mrpl4lmd8xwbtix2fbgtbtqtd8hlhaeraxxx4xr&date=06042021-06042021',\n",
       " 'https://stocknewsapi.com/api/v1/category?section=alltickers&items=50&token=0mrpl4lmd8xwbtix2fbgtbtqtd8hlhaeraxxx4xr&date=06052021-06052021',\n",
       " 'https://stocknewsapi.com/api/v1/category?section=alltickers&items=50&token=0mrpl4lmd8xwbtix2fbgtbtqtd8hlhaeraxxx4xr&date=06062021-06062021',\n",
       " 'https://stocknewsapi.com/api/v1/category?section=alltickers&items=50&token=0mrpl4lmd8xwbtix2fbgtbtqtd8hlhaeraxxx4xr&date=06072021-06072021',\n",
       " 'https://stocknewsapi.com/api/v1/category?section=alltickers&items=50&token=0mrpl4lmd8xwbtix2fbgtbtqtd8hlhaeraxxx4xr&date=06082021-06082021',\n",
       " 'https://stocknewsapi.com/api/v1/category?section=alltickers&items=50&token=0mrpl4lmd8xwbtix2fbgtbtqtd8hlhaeraxxx4xr&date=06092021-06092021',\n",
       " 'https://stocknewsapi.com/api/v1/category?section=alltickers&items=50&token=0mrpl4lmd8xwbtix2fbgtbtqtd8hlhaeraxxx4xr&date=06102021-06102021',\n",
       " 'https://stocknewsapi.com/api/v1/category?section=alltickers&items=50&token=0mrpl4lmd8xwbtix2fbgtbtqtd8hlhaeraxxx4xr&date=06112021-06112021',\n",
       " 'https://stocknewsapi.com/api/v1/category?section=alltickers&items=50&token=0mrpl4lmd8xwbtix2fbgtbtqtd8hlhaeraxxx4xr&date=06122021-06122021',\n",
       " 'https://stocknewsapi.com/api/v1/category?section=alltickers&items=50&token=0mrpl4lmd8xwbtix2fbgtbtqtd8hlhaeraxxx4xr&date=06132021-06132021',\n",
       " 'https://stocknewsapi.com/api/v1/category?section=alltickers&items=50&token=0mrpl4lmd8xwbtix2fbgtbtqtd8hlhaeraxxx4xr&date=06142021-06142021',\n",
       " 'https://stocknewsapi.com/api/v1/category?section=alltickers&items=50&token=0mrpl4lmd8xwbtix2fbgtbtqtd8hlhaeraxxx4xr&date=06152021-06152021',\n",
       " 'https://stocknewsapi.com/api/v1/category?section=alltickers&items=50&token=0mrpl4lmd8xwbtix2fbgtbtqtd8hlhaeraxxx4xr&date=06162021-06162021',\n",
       " 'https://stocknewsapi.com/api/v1/category?section=alltickers&items=50&token=0mrpl4lmd8xwbtix2fbgtbtqtd8hlhaeraxxx4xr&date=06172021-06172021',\n",
       " 'https://stocknewsapi.com/api/v1/category?section=alltickers&items=50&token=0mrpl4lmd8xwbtix2fbgtbtqtd8hlhaeraxxx4xr&date=06182021-06182021',\n",
       " 'https://stocknewsapi.com/api/v1/category?section=alltickers&items=50&token=0mrpl4lmd8xwbtix2fbgtbtqtd8hlhaeraxxx4xr&date=06192021-06192021',\n",
       " 'https://stocknewsapi.com/api/v1/category?section=alltickers&items=50&token=0mrpl4lmd8xwbtix2fbgtbtqtd8hlhaeraxxx4xr&date=06202021-06202021',\n",
       " 'https://stocknewsapi.com/api/v1/category?section=alltickers&items=50&token=0mrpl4lmd8xwbtix2fbgtbtqtd8hlhaeraxxx4xr&date=06212021-06212021',\n",
       " 'https://stocknewsapi.com/api/v1/category?section=alltickers&items=50&token=0mrpl4lmd8xwbtix2fbgtbtqtd8hlhaeraxxx4xr&date=06222021-06222021',\n",
       " 'https://stocknewsapi.com/api/v1/category?section=alltickers&items=50&token=0mrpl4lmd8xwbtix2fbgtbtqtd8hlhaeraxxx4xr&date=06232021-06232021',\n",
       " 'https://stocknewsapi.com/api/v1/category?section=alltickers&items=50&token=0mrpl4lmd8xwbtix2fbgtbtqtd8hlhaeraxxx4xr&date=06242021-06242021',\n",
       " 'https://stocknewsapi.com/api/v1/category?section=alltickers&items=50&token=0mrpl4lmd8xwbtix2fbgtbtqtd8hlhaeraxxx4xr&date=06252021-06252021',\n",
       " 'https://stocknewsapi.com/api/v1/category?section=alltickers&items=50&token=0mrpl4lmd8xwbtix2fbgtbtqtd8hlhaeraxxx4xr&date=06262021-06262021',\n",
       " 'https://stocknewsapi.com/api/v1/category?section=alltickers&items=50&token=0mrpl4lmd8xwbtix2fbgtbtqtd8hlhaeraxxx4xr&date=06272021-06272021',\n",
       " 'https://stocknewsapi.com/api/v1/category?section=alltickers&items=50&token=0mrpl4lmd8xwbtix2fbgtbtqtd8hlhaeraxxx4xr&date=06282021-06282021',\n",
       " 'https://stocknewsapi.com/api/v1/category?section=alltickers&items=50&token=0mrpl4lmd8xwbtix2fbgtbtqtd8hlhaeraxxx4xr&date=06292021-06292021',\n",
       " 'https://stocknewsapi.com/api/v1/category?section=alltickers&items=50&token=0mrpl4lmd8xwbtix2fbgtbtqtd8hlhaeraxxx4xr&date=06302021-06302021',\n",
       " 'https://stocknewsapi.com/api/v1/category?section=alltickers&items=50&token=0mrpl4lmd8xwbtix2fbgtbtqtd8hlhaeraxxx4xr&date=07012021-07012021',\n",
       " 'https://stocknewsapi.com/api/v1/category?section=alltickers&items=50&token=0mrpl4lmd8xwbtix2fbgtbtqtd8hlhaeraxxx4xr&date=07022021-07022021',\n",
       " 'https://stocknewsapi.com/api/v1/category?section=alltickers&items=50&token=0mrpl4lmd8xwbtix2fbgtbtqtd8hlhaeraxxx4xr&date=07032021-07032021',\n",
       " 'https://stocknewsapi.com/api/v1/category?section=alltickers&items=50&token=0mrpl4lmd8xwbtix2fbgtbtqtd8hlhaeraxxx4xr&date=07042021-07042021',\n",
       " 'https://stocknewsapi.com/api/v1/category?section=alltickers&items=50&token=0mrpl4lmd8xwbtix2fbgtbtqtd8hlhaeraxxx4xr&date=07052021-07052021',\n",
       " 'https://stocknewsapi.com/api/v1/category?section=alltickers&items=50&token=0mrpl4lmd8xwbtix2fbgtbtqtd8hlhaeraxxx4xr&date=07062021-07062021',\n",
       " 'https://stocknewsapi.com/api/v1/category?section=alltickers&items=50&token=0mrpl4lmd8xwbtix2fbgtbtqtd8hlhaeraxxx4xr&date=07072021-07072021',\n",
       " 'https://stocknewsapi.com/api/v1/category?section=alltickers&items=50&token=0mrpl4lmd8xwbtix2fbgtbtqtd8hlhaeraxxx4xr&date=07082021-07082021',\n",
       " 'https://stocknewsapi.com/api/v1/category?section=alltickers&items=50&token=0mrpl4lmd8xwbtix2fbgtbtqtd8hlhaeraxxx4xr&date=07092021-07092021',\n",
       " 'https://stocknewsapi.com/api/v1/category?section=alltickers&items=50&token=0mrpl4lmd8xwbtix2fbgtbtqtd8hlhaeraxxx4xr&date=07102021-07102021',\n",
       " 'https://stocknewsapi.com/api/v1/category?section=alltickers&items=50&token=0mrpl4lmd8xwbtix2fbgtbtqtd8hlhaeraxxx4xr&date=07112021-07112021',\n",
       " 'https://stocknewsapi.com/api/v1/category?section=alltickers&items=50&token=0mrpl4lmd8xwbtix2fbgtbtqtd8hlhaeraxxx4xr&date=07122021-07122021',\n",
       " 'https://stocknewsapi.com/api/v1/category?section=alltickers&items=50&token=0mrpl4lmd8xwbtix2fbgtbtqtd8hlhaeraxxx4xr&date=07132021-07132021',\n",
       " 'https://stocknewsapi.com/api/v1/category?section=alltickers&items=50&token=0mrpl4lmd8xwbtix2fbgtbtqtd8hlhaeraxxx4xr&date=07142021-07142021',\n",
       " 'https://stocknewsapi.com/api/v1/category?section=alltickers&items=50&token=0mrpl4lmd8xwbtix2fbgtbtqtd8hlhaeraxxx4xr&date=07152021-07152021',\n",
       " 'https://stocknewsapi.com/api/v1/category?section=alltickers&items=50&token=0mrpl4lmd8xwbtix2fbgtbtqtd8hlhaeraxxx4xr&date=07162021-07162021',\n",
       " 'https://stocknewsapi.com/api/v1/category?section=alltickers&items=50&token=0mrpl4lmd8xwbtix2fbgtbtqtd8hlhaeraxxx4xr&date=07172021-07172021',\n",
       " 'https://stocknewsapi.com/api/v1/category?section=alltickers&items=50&token=0mrpl4lmd8xwbtix2fbgtbtqtd8hlhaeraxxx4xr&date=07182021-07182021',\n",
       " 'https://stocknewsapi.com/api/v1/category?section=alltickers&items=50&token=0mrpl4lmd8xwbtix2fbgtbtqtd8hlhaeraxxx4xr&date=07192021-07192021',\n",
       " 'https://stocknewsapi.com/api/v1/category?section=alltickers&items=50&token=0mrpl4lmd8xwbtix2fbgtbtqtd8hlhaeraxxx4xr&date=07202021-07202021',\n",
       " 'https://stocknewsapi.com/api/v1/category?section=alltickers&items=50&token=0mrpl4lmd8xwbtix2fbgtbtqtd8hlhaeraxxx4xr&date=07212021-07212021',\n",
       " 'https://stocknewsapi.com/api/v1/category?section=alltickers&items=50&token=0mrpl4lmd8xwbtix2fbgtbtqtd8hlhaeraxxx4xr&date=07222021-07222021',\n",
       " 'https://stocknewsapi.com/api/v1/category?section=alltickers&items=50&token=0mrpl4lmd8xwbtix2fbgtbtqtd8hlhaeraxxx4xr&date=07232021-07232021',\n",
       " 'https://stocknewsapi.com/api/v1/category?section=alltickers&items=50&token=0mrpl4lmd8xwbtix2fbgtbtqtd8hlhaeraxxx4xr&date=07242021-07242021',\n",
       " 'https://stocknewsapi.com/api/v1/category?section=alltickers&items=50&token=0mrpl4lmd8xwbtix2fbgtbtqtd8hlhaeraxxx4xr&date=07252021-07252021',\n",
       " 'https://stocknewsapi.com/api/v1/category?section=alltickers&items=50&token=0mrpl4lmd8xwbtix2fbgtbtqtd8hlhaeraxxx4xr&date=07262021-07262021',\n",
       " 'https://stocknewsapi.com/api/v1/category?section=alltickers&items=50&token=0mrpl4lmd8xwbtix2fbgtbtqtd8hlhaeraxxx4xr&date=07272021-07272021',\n",
       " 'https://stocknewsapi.com/api/v1/category?section=alltickers&items=50&token=0mrpl4lmd8xwbtix2fbgtbtqtd8hlhaeraxxx4xr&date=07282021-07282021',\n",
       " 'https://stocknewsapi.com/api/v1/category?section=alltickers&items=50&token=0mrpl4lmd8xwbtix2fbgtbtqtd8hlhaeraxxx4xr&date=07292021-07292021',\n",
       " 'https://stocknewsapi.com/api/v1/category?section=alltickers&items=50&token=0mrpl4lmd8xwbtix2fbgtbtqtd8hlhaeraxxx4xr&date=07302021-07302021',\n",
       " 'https://stocknewsapi.com/api/v1/category?section=alltickers&items=50&token=0mrpl4lmd8xwbtix2fbgtbtqtd8hlhaeraxxx4xr&date=07312021-07312021',\n",
       " 'https://stocknewsapi.com/api/v1/category?section=alltickers&items=50&token=0mrpl4lmd8xwbtix2fbgtbtqtd8hlhaeraxxx4xr&date=08012021-08012021']"
      ]
     },
     "execution_count": 57,
     "metadata": {},
     "output_type": "execute_result"
    }
   ],
   "source": [
    "full_api_dates = [api_url + i for i in ranges]\n",
    "full_api_dates"
   ]
  },
  {
   "cell_type": "code",
   "execution_count": 58,
   "metadata": {},
   "outputs": [],
   "source": [
    "def api_call(x):\n",
    "    articles = requests.get(x).json()\n",
    "    articles_list = articles[\"data\"]\n",
    "#     pprint(articles)\n",
    "    for articles in articles_list:\n",
    "        return articles[\"title\"]"
   ]
  },
  {
   "cell_type": "code",
   "execution_count": 59,
   "metadata": {},
   "outputs": [
    {
     "data": {
      "text/plain": [
       "['Why Apple Rose 12.3% in December',\n",
       " 'SHAREHOLDER ALERT: Pomerantz Law Firm Reminds Shareholders with Losses on their Investment in Intercept Pharmaceuticals, Inc. of Class Action Lawsuit and Upcoming Deadline - ICPT',\n",
       " 'GCI Stock Price Increased 15.86%: Why It Happened',\n",
       " 'StoneX: Strong Upside Potential Hidden By A Poor Quarter',\n",
       " 'Tencent invests in Chinese A.I. chip start-up as part of $279 million funding round',\n",
       " 'Pomerantz Law Firm Announces the Filing of a Class Action against Tricida, Inc. and Certain Officers - TCDA',\n",
       " \"China's Baidu to enter the electric vehicle market with Geely, source says\",\n",
       " 'VanadiumCorp Closes First Tranche of $1 Million Private Placement',\n",
       " 'Amazon to drop Parler from its web hosting service, citing violent posts',\n",
       " 'Can Nio give Tesla a run for its money in China?',\n",
       " 'SHAREHOLDER ALERT: Pomerantz Law Firm Reminds Shareholders with Losses on their Investment in Stride, Inc. f/k/a K12 Inc. of Class Action Lawsuit and Upcoming Deadline - LRN',\n",
       " 'Marathon Patent Group\\xa0Announces $250.0 Million Registered Direct Offering of Common Stock',\n",
       " 'Hewlett Packard Enterprise Co (HPE) Presents at Jefferies Virtual Software Bus Tour - (Transcript)',\n",
       " 'Axion Ventures Files Claim Against Former CEO and Monaker Group, Inc.',\n",
       " 'Pomerantz Law Firm Announces the Filing of a Class Action against Decision Diagnostics Corporation and Certain Officers - DECN',\n",
       " 'SHAREHOLDER ALERT: Pomerantz Law Firm Investigates Claims On Behalf of Investors of JOYY Inc. - YY',\n",
       " 'The Best ETFs For Dividend Investors: 1-Year Review',\n",
       " 'Triterras Authorizes $50 Million Share Repurchase Program and Provides Update on Recent Events',\n",
       " \"HSBC Chairman Tucker on ESG, Bank's Green Goals\",\n",
       " 'SHAREHOLDER ALERT: Pomerantz Law Firm Investigates Claims On Behalf of Investors of American Express Company - AXP',\n",
       " 'Sold Kraft Heinz Stock, Incurred First Major Trade Loss In 15 Years',\n",
       " 'Facebook Logs Out Users Across The US And Europe In Widespread Outage',\n",
       " \"'Inevitable' Google and Facebook will pay for Australian news, treasurer says\",\n",
       " 'Wipro Recognised as Top Employer 2021 in Australia for the Second Consecutive Year',\n",
       " 'SHAREHOLDER ALERT: Pomerantz Law Firm Investigates Claims On Behalf of Investors of Neoleukin Therapeutics, Inc. - NLTX',\n",
       " \"Capital One Financial Corporation's (COF) CEO Rich Fairbank on Q4 2020 Results - Earnings Call Transcript\",\n",
       " 'Stryker Corporation (SYK) CEO Kevin Lobo on Q4 2020 Results - Earnings Call Transcript',\n",
       " 'Outlook Therapeutics Increases Previously Announced Bought Deal Offering of Common Stock to $35.0 Million',\n",
       " '$IYT Transportation Sector Technically Weak, Rallies Likely To Be Sold',\n",
       " 'Interactive Brokers Lifts All Trading Restrictions on Options',\n",
       " 'Alteryx: Strong 2021 Recovery Awaits',\n",
       " \"Wells Fargo CEO's Pay Fell 12% in 2020\",\n",
       " 'Deliveries slide in January for Chinese electric car start-up Li Auto',\n",
       " 'EWY: Time To Take Profit',\n",
       " 'Columbia Sportswear Company (COLM) CEO Tim Boyle on Q4 2020 Results - Earnings Call Transcript',\n",
       " 'Why Shares of Carnival Corp Fell 13.8% in January',\n",
       " 'APPS Stock Price Increased 14.11%: Why It Happened',\n",
       " 'TUESDAY DEADLINE REMINDER: The Schall Law Firm Announces the Filing of a Class Action Lawsuit Against Qiwi plc and Encourages Investors with Losses in Excess of $100,000 to Contact the Firm',\n",
       " 'Beacon Roofing Supply, Inc. (BECN) CEO Julian Francis on Q1 2021 Results - Earnings Call Transcript',\n",
       " 'Iterum Therapeutics plc Announces $35.0 Million Registered Direct Offering of Ordinary Shares Priced At-the-Market under Nasdaq Rules',\n",
       " 'Cerner Corporation (CERN) CEO Brent Shafer on Q4 2020 Results - Earnings Call Transcript',\n",
       " \"CarGurus' (CARG) CEO Jason Trevisan on Q4 2020 Results - Earnings Call Transcript\",\n",
       " \"VW 'unintended victim' in battery supplier dispute, seeks four-year reprieve\",\n",
       " 'Dominion Energy Restores Power Following Damaging Ice Storm',\n",
       " \"Nissan says it's not in talks to make Apple's autonomous car: report\",\n",
       " \"Morgan Stanley's Counterpoint Global Eyes Cryptocurrency Investment\",\n",
       " 'NMI Holdings, Inc. (NMIH) CEO Claudia Merkle on Q4 2020 Results - Earnings Call Transcript',\n",
       " 'Apple victory: North Dakota votes down bill to regulate app stores',\n",
       " 'Google names exec to oversee responsible AI research after staff unrest',\n",
       " 'Sell Macerich Put Leaps, Only A Little Money For A Lot Of Profit',\n",
       " 'The Tell: Tesla bitcoin gambit already made $1 billion, more than 2020 profit from car sales, estimates analyst',\n",
       " 'Tesla has made about $1 billion in profit on its bitcoin investment, analyst estimates',\n",
       " 'Univest Securities, LLC. Announces Closing of $25 Million Registered Direct Offering for its Client Code Chain New Continent Limited (Nasdaq: CCNC)',\n",
       " 'Insulet Corporation (PODD) CEO Shacey Petrovic on Q4 2020 Results - Earnings Call Transcript',\n",
       " \"Booking Holdings, Inc.'s (BKNG) CEO Glenn Fogel on Q4 2020 Results - Earnings Call Transcript\",\n",
       " 'NeoPhotonics Corporation (NPTN) CEO Timothy Jenks on Q4 2020 Results - Earnings Call Transcript',\n",
       " 'SHAREHOLDER ALERT: Monteverde & Associates PC Announces an Investigation of Longevity Acquisition Corp. - LOAC',\n",
       " 'Ultrapar Participacoes SA (UGP) CEO Frederico Curado on Q4 2020 Results - Earnings Call Transcript',\n",
       " 'Netflix Releases Diversity And Inclusion Study And Announces New Fund For Creative Equity',\n",
       " 'Zoom Video Communications, Inc. (ZM) CEO Eric Yuan on Q4 2021 Results - Earnings Call Transcript',\n",
       " 'DMG Announces Cdn$70 Million Private Placement Offering with U.S. Institutional Investors',\n",
       " 'Element Fleet Management Corp (ELEEF) CEO Jay Forbes on Q4 2020 Results - Earnings Call Transcript',\n",
       " 'Identiv, Inc. (INVE) CEO Steven Humphreys on Q4 2020 Results - Earnings Call Transcript',\n",
       " 'SHAREHOLDER ALERT: Monteverde & Associates PC Announces an Investigation of ProSight Global, Inc. - PROS',\n",
       " 'PLUG Stock Price: $65 Target By JPMorgan',\n",
       " \"NUSI: Know What You're Buying When Buying Derivatives\",\n",
       " 'SJW Group Announces Pricing of Offering of Common Stock',\n",
       " 'Roblox Goes Public Wednesday; Price Set At $45 Per Share',\n",
       " 'EVFM Stock Price Increased 18.94%: Why It Happened',\n",
       " 'Laird Superfood, Inc. (LSF) CEO Paul Hodge on Q4 2020 Results - Earnings Call Transcript',\n",
       " 'Pomerantz Law Firm Announces the Filing of a Class Action against Workhorse Group Inc., and Certain Officers - WKHS',\n",
       " 'CTRM Stock Price Increased 13.52% This Past Week: Why It Happened',\n",
       " 'Shares of Japanese tech giant Rakuten jump 20% after stake sale to Walmart, Tencent',\n",
       " 'Magnite Announces Pricing of $350 Million Convertible Notes Offering',\n",
       " 'Coupa Software Incorporated (COUP) CEO Rob Bernshteyn on Q4 2021 Results - Earnings Call Transcript',\n",
       " \"Dada Group Participates in Formulating CCFA's Key Performance Indicators of Omni-channel Retailing Chain Enterprises\",\n",
       " 'Connect Biopharma Holdings Limited announces pricing of Initial Public Offering',\n",
       " 'SHAREHOLDER ALERT: Monteverde & Associates PC Announces an Investigation of RumbleOn, Inc. - RMBL',\n",
       " \"'If Tesla uses its cars to spy, we'll get shut down' - Musk responds to Chinese military's concerns\",\n",
       " 'Triangle Energy domestic crude oil supply agreement with BP extended to April 22',\n",
       " \"PG&E Responds to CAL FIRE's Announcement about 2020 Zogg Fire in Shasta County\",\n",
       " 'MP Materials Announces Pricing of $600 Million Green Convertible Senior Notes Offering',\n",
       " 'MSD Acquisition Corp. Announces Pricing of $500,000,000 Initial Public Offering',\n",
       " 'Design Therapeutics Announces Pricing of Initial Public Offering',\n",
       " \"Charlotte's Web Holdings Narrows Loss, Improves Revenue in Q4\",\n",
       " 'MAGNACHIP INVESTOR ALERT BY THE FORMER ATTORNEY GENERAL OF LOUISIANA: Kahn Swick & Foti, LLC Investigates Adequacy of Price and Process in Proposed Sale of Magnachip Semiconductor Corporation - MX',\n",
       " 'Consider GER As Energy Demand Rebounds',\n",
       " 'Widening Suez Canal May Make Sense: Genco Shipping CEO',\n",
       " 'Why ProPhase Labs Shares Jumped 32% Today',\n",
       " 'Coronavirus: Pfizer says vaccine is 100% effective in kids 12-15, France goes into another lockdown',\n",
       " \"Franklin Covey Co.'s (FC) CEO Bob Whitman on Q2 2021 Results - Earnings Call Transcript\",\n",
       " 'SHAREHOLDER ALERT: Monteverde & Associates PC Announces an Investigation of Qell Acquisition Corp. - QELL',\n",
       " 'Amazon apologises for tweet denying workers are forced to urinate in bottles',\n",
       " \"Tesla Finally Gets An 'Outperform' Rating From Long-Term Bull Wedbush, With A Higher Price Target\",\n",
       " 'United-Guardian: Buy It Before The Turnaround Is Too Evident',\n",
       " \"AST SpaceMobile: 20-100x Return Or 100% Loss, It's A Binary Bet\",\n",
       " 'CenterPoint Energy: Why This Utility Is A Good Buy',\n",
       " 'Elementos continues to push ahead with development strategies at wholly-owned projects as tin metal price reaches ten year highs',\n",
       " \"China's Alibaba hit with record $2.75 billion antitrust fine\",\n",
       " 'How To Navigate The Stock Market With 3 Ticker Symbols',\n",
       " 'Week In Review: Sorrento Acquires ACEA In $488 Million Deal Between 2 San Diego-China Oncology Biopharmas',\n",
       " \"Dada Group's JDDJ Innovates Marketing Activities to Create a True Omni-Channel Customer Experience for Brand Partners\",\n",
       " \"Creso Pharma's commercial agreement with Cannabis Queen strengthens African presence\",\n",
       " 'GME Stock: 18.11% Increase Explanation',\n",
       " \"The challenge for U.S. banks is they're feeling the effects of fiscal and monetary policy: KBW\",\n",
       " 'SHAREHOLDER ALERT: Monteverde & Associates PC Announces an Investigation of Mackinac Financial Corp. - MFNC',\n",
       " 'Volvo Trucks hit by first UAW strike since 2008',\n",
       " 'Aspen University: Massive Bargain',\n",
       " 'QuantumScape: Why This SPAC Is Under Attack',\n",
       " 'Apple Making Progressive Movements in Product Lines: IDC',\n",
       " \"Chipotle's Digital Growth Slows, Though Online Sales Remain High\",\n",
       " 'CytoDyn Completes $28.5 Million Convertible Note Financing with Conversion Rate at $10.00 Per Share Without Warrants',\n",
       " 'Saab AB (SAABF) CEO Micael Johansson on Q1 2021 Results - Earnings Call Transcript',\n",
       " \"U.S. IPO Weekly Recap: UiPath's Billion-Dollar Deal Leads A 12 IPO Week\",\n",
       " 'Sell Or Hold - What To Do With These 3 Misfits',\n",
       " 'Why MicroVision Stock Skyrocketed Again Today',\n",
       " 'Visa Direct Transactions Surge Almost 60 Pct YoY',\n",
       " 'DMG Blockchain Solutions Announces CDN$28.1 Million Private Placement Offering with Institutional Investors',\n",
       " \"ChemoCentryx, Inc.'s (CCXI) CEO Dr. Thomas Schall on Q1 2021 Results - Earnings Call Transcript\",\n",
       " 'SHAREHOLDER ALERT: Monteverde & Associates PC Announces an Investigation of Nicolet Bankshares, Inc. - NCBS',\n",
       " \"Power Integrations' (POWI) CEO Balu Balakrishnan on Q1 2021 Results - Earnings Call Transcript\",\n",
       " 'Resolute Forest Products Inc, (RFP) CEO Remi Lalonde on Q1 2021 Results - Earnings Call Transcript',\n",
       " 'Ligand Pharmaceuticals Incorporated (LGND) CEO John Higgins on Q1 2021 Results - Earnings Call Transcript',\n",
       " 'Infinera Corporation (INFN) CEO David Heard on Q1 2021 Results - Earnings Call Transcript',\n",
       " 'Envista Holdings Corporation (NVST) CEO Amir Aghdaei on Q1 2021 Results - Earnings Call Transcript',\n",
       " 'Cloudflare, Inc. (NET) CEO Matthew Prince on Q1 2021 Results - Earnings Call Transcript',\n",
       " 'SHAREHOLDER ALERT: Monteverde & Associates PC Announces an Investigation of Century Bancorp, Inc. - CNBKA',\n",
       " 'Black Knight (BKI) CEO Anthony Jabbour on Q1 2021 Results - Earnings Call Transcript',\n",
       " 'InterCure Announces Preliminary First Quarter Record Financial Results',\n",
       " 'Imperial Brands Has Turned The Corner',\n",
       " \"B&G Foods, Inc.'s (BGS) CEO David Wenner on Q1 2021 Results - Earnings Call Transcript\",\n",
       " 'Jack in the Box Inc. (JACK) CEO Darin Harris on Q2 2021 Results - Earnings Call Transcript',\n",
       " 'BioLife Solutions, Inc. (BLFS) CEO Mike Rice on Q1 2021 Results - Earnings Call Transcript',\n",
       " 'SHAREHOLDER ALERT: Monteverde & Associates PC Announces an Investigation of Ferro Corp. - FOE',\n",
       " 'U.S. IPO Weekly Recap: Postponements Abound In A Turbulent 5 IPO Week',\n",
       " 'Carnival Cruise Line Goes Global To Select Godmother For Mardi Gras, Naming Miss Dominican Republic During MISS UNIVERSE Broadcast',\n",
       " 'Danimer Scientific, Inc. (DNMR) CEO Steve Croskrey on Q1 2021 Results - Earnings Call Transcript',\n",
       " 'Agrify Corporation (AGFY) CEO Raymond Chang on Q1 2021 Results - Earnings Call Transcript',\n",
       " 'KnowBe4, Inc. (KNBE) CEO Stu Sjouwerman on Q1 2021 Results - Earnings Call Transcript',\n",
       " 'Salt Lake Potash granted trading halt with capital raising announcement pending',\n",
       " 'Google and Alphabet CEO Sundar Pichai talks about fighting misinformation',\n",
       " 'SHAREHOLDER ALERT: Pomerantz Law Firm Investigates Claims On Behalf of Investors of Playtika Holding Corp. - PLTK',\n",
       " \"Apple CEO Tim Cook Cites iPhone 'Principles' As Reason Behind In-App Purchase Rules In Court, Don't Want 'Toxic Kind Of Mess'\",\n",
       " 'Notice to Disregard -- Micron Technology, Inc.',\n",
       " 'Major Precious Metals Files NI 43-101 Technical Report for Skaergaard Mineral Resource Estimate',\n",
       " 'Singular Genomics Systems, Inc. Announces Pricing of Upsized Initial Public Offering of Common Stock',\n",
       " 'Rolls-Royce will now build you any car you want, but it will cost millions',\n",
       " 'Alibaba is making its cloud OS compatible with multiple chip architectures',\n",
       " 'Grid Dynamics Acquires UK-Based Tacit Knowledge; Enhances digital commerce capabilities and expands delivery footprint across UK, US, Mexico and Moldova',\n",
       " 'Bitcoin, ADP employment, Zoom earnings top week ahead',\n",
       " 'Centerra Gold Announces Additional Pre-Emptive Actions in Response to the Seizure of the Kumtor Mine by the Kyrgyz Republic',\n",
       " 'KRE: I Still Have Love For Regional Banks',\n",
       " 'CytoDyn: Bulls And Bears Need To Come To Terms On COVID-19 Efforts',\n",
       " 'ONEY: Smart-Beta Fund With Large Exposure To Cyclicals',\n",
       " 'SHAREHOLDER ALERT: Monteverde & Associates PC Announces an Investigation of Cloudera, Inc. - CLDR',\n",
       " 'JOAN Stock Price: 18.99% Increase Explanation',\n",
       " 'SouthGobi Announces Business Update',\n",
       " \"HealthEquity, Inc.'s (HQY) CEO Jon Kessler on Q1 2022 Results - Earnings Call Transcript\",\n",
       " 'Ford unveils the compact Maverick pickup truck',\n",
       " 'Wipro Annual Report 2021 on Form 20-F Available Online for ADS Holders',\n",
       " 'GRAY Stock Price: 22.35% Increase Explanation',\n",
       " 'Toyota Motor North America Introduces Next-Generation Multimedia System To Deliver Best In-Car User Experience',\n",
       " \"Exclusive-Toshiba's No.2 shareholder calls for immediate resignation of board chair, 3 directors\",\n",
       " 'Out Of The House And Time To Travel',\n",
       " 'Zovio EVP of Operations to Participate in Water Tower Research Fireside Chat on June 15, 2021',\n",
       " 'StepStone Group Inc. (STEP) CEO Scott Hart on Q4 2021 Results - Earnings Call Transcript',\n",
       " \"Westpac's Callow Sees Short-Term Support for Dollar\",\n",
       " 'ACRX INVESTOR ALERT: ROSEN, A LEADING AND LONGSTANDING LAW FIRM, Encourages AcelRx Pharmaceuticals, Inc. Investors with Losses in Excess of $100K to Secure Counsel Before Important Deadline in Securities Class Action - ACRX',\n",
       " \"Toga Limited's Majority-Owned Subsidiary, Eostre Berhad is Appointed as the Exclusive Worldwide Distributor for Shenzhen Shengquan Biotechnology Co Ltd\",\n",
       " 'Clarivate: ProQuest Acquisition Accelerates The Compounding Potential',\n",
       " 'AMC, GameStop, Wish, Tesla See Highest WallStreetBets Interest Heading Into New Week',\n",
       " 'Dada Group 6.18 Record Sales: JDDJ Reported Peak-Day Transaction Volume Over RMB 300 Million',\n",
       " 'Global Self Storage Prices $6.0 Million Underwritten Public Offering of Common Stock',\n",
       " 'Tesla Joins Top WallStreetBets Interests As Stock Surges; Clover Health Tops The Chart',\n",
       " 'Mister Car Wash Announces Pricing of Initial Public Offering',\n",
       " 'U.S. Weekly FundFlows Insight Report: Financial/Banking ETFs Record Largest Weekly Outflow On Record As Tech Returns To Limelight',\n",
       " 'ROSEN, SKILLED INVESTOR COUNSEL, Encourages ContextLogic Inc. Investors to Secure Counsel Before Important July 16 Deadline in Securities Class Action - WISH',\n",
       " 'Cathie Wood Buys Another $9.6M In Uipath, Raises Stake In Automation Company To $670M',\n",
       " \"What's Driving The Nio Rally?\",\n",
       " \"Exxon Has Rallied, but I'm Still Glad I Switched to This Stock Instead\",\n",
       " \"Dr. Reddy's Laboratories Announces Filing of Annual Report on Form 20-F\",\n",
       " 'Near-Term Opportunity In Sports Apparel',\n",
       " 'SHAREHOLDER ALERT: Monteverde & Associates PC Announces an Investigation of Northern Genesis Acquisition Corp. II - NGAB',\n",
       " 'Are You Ready To Buy Marijuana Stocks? 2 To Watch Before July 4th',\n",
       " 'Facebook: $700 Is A Real Possibility',\n",
       " 'Cobalt Blue attracts interest for cobalt samples produced at Broken Hill Pilot Plant',\n",
       " \"Apple Looks To Buy Reese Witherspoon's Media Company Hello Sunshine: Report\",\n",
       " \"WD-40 Company's (WDFC) CEO Garry Ridge on Q3 2021 Results - Earnings Call Transcript\",\n",
       " \"Tesla To Be Fined In Germany Over 'Illegal Building Activity' At Giga Berlin\",\n",
       " \"Chinese antitrust regulator blocks Tencent's video games merger\",\n",
       " 'EPOL: Polish Equities Are Riskier But Remain Undervalued',\n",
       " 'China Blocks Tencent Merger Of Videogame Streaming Companies',\n",
       " \"Malaysian Tycoon Tony Fernandes' AirAsia To Raise Up To $238 Million To Fund Recovery, Digital Pivot\",\n",
       " \"Horizon Minerals and JV partner Orminex lift Penny Find's gold resource to 42,000 at 5.22 g/t\",\n",
       " 'WATT Stock Increased Over 26% Intraday: Why It Happened',\n",
       " 'Google separates with Cloud VP after employees complain about manifesto',\n",
       " 'NFLX Stock: $620 Target By UBS',\n",
       " 'FUBO Stock: $42 Target From Roth Capital',\n",
       " 'OptiNose: Growing Sales Make The Current Market Cap Look Very Low',\n",
       " 'ROSEN, TOP RANKED INVESTOR COUNSEL, Encourages Kanzhun Limited Investors with Losses Exceeding $100K to Secure Counsel Before Important September 10 Deadline in Securities Class Action First Filed by Firm - BZ',\n",
       " 'Syrah Resources Limited (SYAAF) CEO Shaun Verner on Q2 2021 Results - Earnings Call Transcript',\n",
       " 'ironSource Launches Aura on Samsung Devices in India',\n",
       " 'Coca-Cola: The Post-Earnings Entry Point',\n",
       " 'NIO Stock Fell 4.51%: Why It Happened',\n",
       " 'Cango: A Massively Undervalued Chinese Fintech Play',\n",
       " \"Pets Aren't Going Anywhere. Check Out BarkBox\",\n",
       " 'Heidrick & Struggles International, Inc. (HSII) CEO Krishnan Rajagopalan on Q2 2021 Results - Earnings Call Transcript',\n",
       " \"Apple's Paid Subscriptions Hit 700M; Up 150M Since Last Year\",\n",
       " 'Traeger Announces Pricing of Initial Public Offering',\n",
       " 'LPL Financial Holdings Inc. (LPLA) CEO Dan Arnold on Q2 2021 Results - Earnings Call Transcript',\n",
       " \"Thor Industries: A 'Buy', But Truly Beware Of The Risks\",\n",
       " 'Luther Burbank Corp (LBC) CEO Simone Lagomarsino on Q2 2021 Results - Earnings Call Transcript',\n",
       " 'Ora Banda Mining hits high-grade gold at Riverina Underground ahead of resource update']"
      ]
     },
     "execution_count": 59,
     "metadata": {},
     "output_type": "execute_result"
    }
   ],
   "source": [
    "api_scrape = [api_call(i) for i in full_api_dates]\n",
    "api_scrape"
   ]
  },
  {
   "cell_type": "code",
   "execution_count": 60,
   "metadata": {},
   "outputs": [
    {
     "data": {
      "text/plain": [
       "213"
      ]
     },
     "execution_count": 60,
     "metadata": {},
     "output_type": "execute_result"
    }
   ],
   "source": [
    "len(api_scrape)"
   ]
  },
  {
   "cell_type": "code",
   "execution_count": null,
   "metadata": {},
   "outputs": [],
   "source": []
  }
 ],
 "metadata": {
  "kernelspec": {
   "display_name": "Python [conda env:PythonData] *",
   "language": "python",
   "name": "conda-env-PythonData-py"
  },
  "language_info": {
   "codemirror_mode": {
    "name": "ipython",
    "version": 3
   },
   "file_extension": ".py",
   "mimetype": "text/x-python",
   "name": "python",
   "nbconvert_exporter": "python",
   "pygments_lexer": "ipython3",
   "version": "3.6.10"
  },
  "latex_envs": {
   "LaTeX_envs_menu_present": true,
   "autoclose": false,
   "autocomplete": true,
   "bibliofile": "biblio.bib",
   "cite_by": "apalike",
   "current_citInitial": 1,
   "eqLabelWithNumbers": true,
   "eqNumInitial": 1,
   "hotkeys": {
    "equation": "Ctrl-E",
    "itemize": "Ctrl-I"
   },
   "labels_anchors": false,
   "latex_user_defs": false,
   "report_style_numbering": false,
   "user_envs_cfg": false
  },
  "varInspector": {
   "cols": {
    "lenName": 16,
    "lenType": 16,
    "lenVar": 40
   },
   "kernels_config": {
    "python": {
     "delete_cmd_postfix": "",
     "delete_cmd_prefix": "del ",
     "library": "var_list.py",
     "varRefreshCmd": "print(var_dic_list())"
    },
    "r": {
     "delete_cmd_postfix": ") ",
     "delete_cmd_prefix": "rm(",
     "library": "var_list.r",
     "varRefreshCmd": "cat(var_dic_list()) "
    }
   },
   "types_to_exclude": [
    "module",
    "function",
    "builtin_function_or_method",
    "instance",
    "_Feature"
   ],
   "window_display": false
  }
 },
 "nbformat": 4,
 "nbformat_minor": 2
}
