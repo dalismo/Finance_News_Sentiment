{
 "cells": [
  {
   "cell_type": "code",
   "execution_count": null,
   "id": "e71e4a70",
   "metadata": {},
   "outputs": [],
   "source": [
    "# merged_tableau_df = covid_peak_tableau_df.append(\"Resources/pre_covid_Tableau.csv\")\n",
    "# merged_tableau_df = merged_tableau_df.append(\"Resources/2_covid_peak_Tableau.csv\")\n",
    "# merged_tableau_df = merged_tableau_df.append(\"Resources/3_pre_vaccine_Tableau.csv\")\n",
    "# merged_tableau_df = merged_tableau_df.append(\"Resources/post_vaccine_Tableau.csv\")\n",
    "# merged_tableau_df = merged_tableau_df.append(\"Resources/delta_emergence_Tableau.csv\")"
   ]
  },
  {
   "cell_type": "code",
   "execution_count": null,
   "id": "62a7bd56",
   "metadata": {},
   "outputs": [],
   "source": [
    "# import os, glob\n",
    "# import pandas as pd\n",
    "\n",
    "# path = \"/Resources\"\n",
    "\n",
    "# all_files = glob.glob(os.path.join(path, \"*_Tableau.csv\"))\n",
    "# df_from_each_file = (pd.read_csv(f, sep=',') for f in all_files)\n",
    "# final_Tableau = pd.concat(df_from_each_file, ignore_index=True)\n",
    "# # df_merged.to_csv( \"merged.csv\")"
   ]
  },
  {
   "cell_type": "code",
   "execution_count": 1,
   "id": "218fb51d",
   "metadata": {},
   "outputs": [],
   "source": [
    "import os\n",
    "import glob\n",
    "import pandas as pd\n",
    "#set working directory\n",
    "os.chdir(\"Resources/Tableau_Data\")"
   ]
  },
  {
   "cell_type": "code",
   "execution_count": 2,
   "id": "410fb9b5",
   "metadata": {},
   "outputs": [
    {
     "name": "stdout",
     "output_type": "stream",
     "text": [
      "['4_post_vaccine_Tableau.csv', '3_pre_vaccine_Tableau.csv', '2_covid_peak_to_slow_down_Tableau.csv', '5_delta_emergence_to_now_Tableau.csv', '1_pre_covid_Tableau.csv']\n"
     ]
    }
   ],
   "source": [
    "#find all csv files in the folder\n",
    "#use glob pattern matching -> extension = 'csv'\n",
    "#save result in list -> all_filenames\n",
    "extension = 'csv'\n",
    "all_filenames = [i for i in glob.glob('*.{}'.format(extension))]\n",
    "print(all_filenames)"
   ]
  },
  {
   "cell_type": "code",
   "execution_count": 3,
   "id": "c29adaf4",
   "metadata": {},
   "outputs": [],
   "source": [
    "#combine all files in the list\n",
    "combined_csv = pd.concat([pd.read_csv(f) for f in all_filenames ])\n",
    "#export to csv\n",
    "combined_csv.to_csv( \"final_Tableau.csv\", index=False, encoding='utf-8-sig')"
   ]
  },
  {
   "cell_type": "code",
   "execution_count": null,
   "id": "1e954329",
   "metadata": {},
   "outputs": [],
   "source": []
  }
 ],
 "metadata": {
  "kernelspec": {
   "display_name": "Advanced Python",
   "language": "python",
   "name": "pythonadv"
  },
  "language_info": {
   "codemirror_mode": {
    "name": "ipython",
    "version": 3
   },
   "file_extension": ".py",
   "mimetype": "text/x-python",
   "name": "python",
   "nbconvert_exporter": "python",
   "pygments_lexer": "ipython3",
   "version": "3.8.8"
  }
 },
 "nbformat": 4,
 "nbformat_minor": 5
}
