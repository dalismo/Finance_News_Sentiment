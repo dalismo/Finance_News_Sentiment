{
 "cells": [
  {
   "cell_type": "code",
   "execution_count": 1,
   "id": "561db51a",
   "metadata": {},
   "outputs": [
    {
     "ename": "NameError",
     "evalue": "name 'covid_peak_tableau_df' is not defined",
     "output_type": "error",
     "traceback": [
      "\u001b[0;31m---------------------------------------------------------------------------\u001b[0m",
      "\u001b[0;31mNameError\u001b[0m                                 Traceback (most recent call last)",
      "\u001b[0;32m<ipython-input-1-43691c43781d>\u001b[0m in \u001b[0;36m<module>\u001b[0;34m\u001b[0m\n\u001b[0;32m----> 1\u001b[0;31m \u001b[0mmerged_tableau_df\u001b[0m \u001b[0;34m=\u001b[0m \u001b[0mcovid_peak_tableau_df\u001b[0m\u001b[0;34m.\u001b[0m\u001b[0mappend\u001b[0m\u001b[0;34m(\u001b[0m\u001b[0;34m\"Resources/pre_covid_Tableau.csv\"\u001b[0m\u001b[0;34m)\u001b[0m\u001b[0;34m\u001b[0m\u001b[0;34m\u001b[0m\u001b[0m\n\u001b[0m\u001b[1;32m      2\u001b[0m \u001b[0mmerged_tableau_df\u001b[0m \u001b[0;34m=\u001b[0m \u001b[0mmerged_tableau_df\u001b[0m\u001b[0;34m.\u001b[0m\u001b[0mappend\u001b[0m\u001b[0;34m(\u001b[0m\u001b[0;34m\"Resources/2_covid_peak_Tableau.csv\"\u001b[0m\u001b[0;34m)\u001b[0m\u001b[0;34m\u001b[0m\u001b[0;34m\u001b[0m\u001b[0m\n\u001b[1;32m      3\u001b[0m \u001b[0mmerged_tableau_df\u001b[0m \u001b[0;34m=\u001b[0m \u001b[0mmerged_tableau_df\u001b[0m\u001b[0;34m.\u001b[0m\u001b[0mappend\u001b[0m\u001b[0;34m(\u001b[0m\u001b[0;34m\"Resources/3_pre_vaccine_Tableau.csv\"\u001b[0m\u001b[0;34m)\u001b[0m\u001b[0;34m\u001b[0m\u001b[0;34m\u001b[0m\u001b[0m\n\u001b[1;32m      4\u001b[0m \u001b[0mmerged_tableau_df\u001b[0m \u001b[0;34m=\u001b[0m \u001b[0mmerged_tableau_df\u001b[0m\u001b[0;34m.\u001b[0m\u001b[0mappend\u001b[0m\u001b[0;34m(\u001b[0m\u001b[0;34m\"Resources/post_vaccine_Tableau.csv\"\u001b[0m\u001b[0;34m)\u001b[0m\u001b[0;34m\u001b[0m\u001b[0;34m\u001b[0m\u001b[0m\n\u001b[1;32m      5\u001b[0m \u001b[0mmerged_tableau_df\u001b[0m \u001b[0;34m=\u001b[0m \u001b[0mmerged_tableau_df\u001b[0m\u001b[0;34m.\u001b[0m\u001b[0mappend\u001b[0m\u001b[0;34m(\u001b[0m\u001b[0;34m\"Resources/delta_emergence_Tableau.csv\"\u001b[0m\u001b[0;34m)\u001b[0m\u001b[0;34m\u001b[0m\u001b[0;34m\u001b[0m\u001b[0m\n",
      "\u001b[0;31mNameError\u001b[0m: name 'covid_peak_tableau_df' is not defined"
     ]
    }
   ],
   "source": [
    "# merged_tableau_df = covid_peak_tableau_df.append(\"Resources/pre_covid_Tableau.csv\")\n",
    "# merged_tableau_df = merged_tableau_df.append(\"Resources/2_covid_peak_Tableau.csv\")\n",
    "# merged_tableau_df = merged_tableau_df.append(\"Resources/3_pre_vaccine_Tableau.csv\")\n",
    "# merged_tableau_df = merged_tableau_df.append(\"Resources/post_vaccine_Tableau.csv\")\n",
    "# merged_tableau_df = merged_tableau_df.append(\"Resources/delta_emergence_Tableau.csv\")"
   ]
  },
  {
   "cell_type": "code",
   "execution_count": 5,
   "id": "f7074566",
   "metadata": {},
   "outputs": [
    {
     "data": {
      "text/plain": [
       "'/Resources'"
      ]
     },
     "execution_count": 5,
     "metadata": {},
     "output_type": "execute_result"
    }
   ],
   "source": [
    "import os, glob\n",
    "import pandas as pd\n",
    "\n",
    "path = \"/Resources\"\n",
    "\n",
    "all_files = glob.glob(os.path.join(path, \"*_Tableau.csv\"))\n",
    "df_from_each_file = (pd.read_csv(f, sep=',') for f in all_files)\n",
    "final_Tableau = pd.concat(df_from_each_file, ignore_index=True)\n",
    "# df_merged.to_csv( \"merged.csv\")"
   ]
  },
  {
   "cell_type": "code",
   "execution_count": null,
   "id": "60c0de65",
   "metadata": {},
   "outputs": [],
   "source": [
    "final_Tableau"
   ]
  }
 ],
 "metadata": {
  "kernelspec": {
   "display_name": "Advanced Python",
   "language": "python",
   "name": "pythonadv"
  },
  "language_info": {
   "codemirror_mode": {
    "name": "ipython",
    "version": 3
   },
   "file_extension": ".py",
   "mimetype": "text/x-python",
   "name": "python",
   "nbconvert_exporter": "python",
   "pygments_lexer": "ipython3",
   "version": "3.8.8"
  }
 },
 "nbformat": 4,
 "nbformat_minor": 5
}
