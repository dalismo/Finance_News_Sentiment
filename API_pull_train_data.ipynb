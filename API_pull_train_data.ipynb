{
 "cells": [
  {
   "cell_type": "code",
   "execution_count": 1,
   "metadata": {},
   "outputs": [],
   "source": [
    "import requests\n",
    "import pandas as pd\n",
    "from pprint import pprint"
   ]
  },
  {
   "cell_type": "code",
   "execution_count": 2,
   "metadata": {},
   "outputs": [],
   "source": [
    "api_url = \"https://stocknewsapi.com/api/v1/category?section=alltickers&items=50&token=0mrpl4lmd8xwbtix2fbgtbtqtd8hlhaeraxxx4xr&page=\""
   ]
  },
  {
   "cell_type": "code",
   "execution_count": 3,
   "metadata": {},
   "outputs": [],
   "source": [
    "def pages(p_start, p_end):\n",
    "    range_list = [i for i in range(p_start, p_end+1)]\n",
    "    strings = []\n",
    "    for ele in range_list:\n",
    "        strings.append(str(ele))\n",
    "    return strings"
   ]
  },
  {
   "cell_type": "code",
   "execution_count": 4,
   "metadata": {},
   "outputs": [
    {
     "name": "stdout",
     "output_type": "stream",
     "text": [
      "['1', '2', '3', '4', '5', '6', '7', '8', '9', '10', '11', '12', '13', '14', '15', '16', '17', '18', '19', '20', '21', '22', '23', '24', '25', '26', '27', '28', '29', '30', '31', '32', '33', '34', '35', '36', '37', '38', '39', '40', '41', '42', '43', '44', '45', '46', '47', '48', '49', '50', '51', '52', '53', '54', '55', '56', '57', '58', '59', '60', '61', '62', '63', '64', '65', '66', '67', '68', '69', '70', '71', '72', '73', '74', '75', '76', '77', '78', '79', '80', '81', '82', '83', '84', '85', '86', '87', '88', '89', '90', '91', '92', '93', '94', '95', '96', '97', '98', '99', '100']\n"
     ]
    }
   ],
   "source": [
    "print(pages(1, 100))"
   ]
  },
  {
   "cell_type": "code",
   "execution_count": 5,
   "metadata": {},
   "outputs": [],
   "source": [
    "full_api_pages = [api_url + i for i in pages(1, 100)]\n",
    "# full_api_pages"
   ]
  },
  {
   "cell_type": "code",
   "execution_count": 6,
   "metadata": {},
   "outputs": [],
   "source": [
    "def api_call(x):\n",
    "    articles = requests.get(x).json()\n",
    "    articles_list = articles[\"data\"]\n",
    "    \n",
    "    articles_x = []\n",
    "#     pprint(articles)\n",
    "\n",
    "    for articles in articles_list:\n",
    "        articles_x.append(articles[\"title\"])\n",
    "    return articles_x"
   ]
  },
  {
   "cell_type": "code",
   "execution_count": 7,
   "metadata": {},
   "outputs": [],
   "source": [
    "api_scrape = [api_call(i) for i in full_api_pages]\n",
    "# api_scrape"
   ]
  },
  {
   "cell_type": "code",
   "execution_count": 8,
   "metadata": {},
   "outputs": [],
   "source": [
    "def flatten_list(nested_list):\n",
    "    x = []\n",
    "    for i in nested_list:\n",
    "        x.extend(i)\n",
    "    return x"
   ]
  },
  {
   "cell_type": "code",
   "execution_count": 9,
   "metadata": {},
   "outputs": [],
   "source": [
    "test_news = flatten_list(api_scrape)\n",
    "# test_news"
   ]
  },
  {
   "cell_type": "code",
   "execution_count": 10,
   "metadata": {},
   "outputs": [
    {
     "data": {
      "text/plain": [
       "5000"
      ]
     },
     "execution_count": 10,
     "metadata": {},
     "output_type": "execute_result"
    }
   ],
   "source": [
    "len(test_news)"
   ]
  },
  {
   "cell_type": "code",
   "execution_count": 11,
   "metadata": {},
   "outputs": [],
   "source": [
    "# df = pd.DataFrame(test_news)\n",
    "# df"
   ]
  },
  {
   "cell_type": "code",
   "execution_count": 12,
   "metadata": {},
   "outputs": [],
   "source": [
    "def api_call_sentiment(y):\n",
    "    articles = requests.get(y).json()\n",
    "    articles_list = articles[\"data\"]\n",
    "    \n",
    "    articles_x = []\n",
    "#     pprint(articles)\n",
    "\n",
    "    for articles in articles_list:\n",
    "        articles_x.append(articles[\"sentiment\"])\n",
    "    return articles_x"
   ]
  },
  {
   "cell_type": "code",
   "execution_count": 13,
   "metadata": {},
   "outputs": [],
   "source": [
    "api_scrape1 = [api_call_sentiment(j) for j in full_api_pages]\n",
    "# api_scrape1"
   ]
  },
  {
   "cell_type": "code",
   "execution_count": 14,
   "metadata": {},
   "outputs": [],
   "source": [
    "test_news_sentiment = flatten_list(api_scrape1)\n",
    "# test_news_sentiment"
   ]
  },
  {
   "cell_type": "code",
   "execution_count": 15,
   "metadata": {},
   "outputs": [
    {
     "data": {
      "text/plain": [
       "5000"
      ]
     },
     "execution_count": 15,
     "metadata": {},
     "output_type": "execute_result"
    }
   ],
   "source": [
    "len(test_news_sentiment)"
   ]
  },
  {
   "cell_type": "code",
   "execution_count": 16,
   "metadata": {},
   "outputs": [
    {
     "data": {
      "text/html": [
       "<div>\n",
       "<style scoped>\n",
       "    .dataframe tbody tr th:only-of-type {\n",
       "        vertical-align: middle;\n",
       "    }\n",
       "\n",
       "    .dataframe tbody tr th {\n",
       "        vertical-align: top;\n",
       "    }\n",
       "\n",
       "    .dataframe thead th {\n",
       "        text-align: right;\n",
       "    }\n",
       "</style>\n",
       "<table border=\"1\" class=\"dataframe\">\n",
       "  <thead>\n",
       "    <tr style=\"text-align: right;\">\n",
       "      <th></th>\n",
       "      <th>index</th>\n",
       "      <th>0</th>\n",
       "    </tr>\n",
       "  </thead>\n",
       "  <tbody>\n",
       "    <tr>\n",
       "      <th>0</th>\n",
       "      <td>Autodesk Is Down 15% After Q2 Earnings -- Is T...</td>\n",
       "      <td>Positive</td>\n",
       "    </tr>\n",
       "    <tr>\n",
       "      <th>1</th>\n",
       "      <td>Blue Shield of California, Walgreens Partner o...</td>\n",
       "      <td>Positive</td>\n",
       "    </tr>\n",
       "    <tr>\n",
       "      <th>2</th>\n",
       "      <td>RSX: Russian Equities Are Still Undervalued</td>\n",
       "      <td>Positive</td>\n",
       "    </tr>\n",
       "    <tr>\n",
       "      <th>3</th>\n",
       "      <td>XLB: Hold Your Position</td>\n",
       "      <td>Positive</td>\n",
       "    </tr>\n",
       "    <tr>\n",
       "      <th>4</th>\n",
       "      <td>Musgrave Minerals broad, near-surface high-gra...</td>\n",
       "      <td>Positive</td>\n",
       "    </tr>\n",
       "    <tr>\n",
       "      <th>...</th>\n",
       "      <td>...</td>\n",
       "      <td>...</td>\n",
       "    </tr>\n",
       "    <tr>\n",
       "      <th>4995</th>\n",
       "      <td>INVESTOR ACTION REMINDER: The Schall Law Firm ...</td>\n",
       "      <td>Neutral</td>\n",
       "    </tr>\n",
       "    <tr>\n",
       "      <th>4996</th>\n",
       "      <td>INVESTOR ACTION NOTICE: The Schall Law Firm Re...</td>\n",
       "      <td>Neutral</td>\n",
       "    </tr>\n",
       "    <tr>\n",
       "      <th>4997</th>\n",
       "      <td>INVESTOR ACTION REMINDER: The Schall Law Firm ...</td>\n",
       "      <td>Neutral</td>\n",
       "    </tr>\n",
       "    <tr>\n",
       "      <th>4998</th>\n",
       "      <td>IFRX Stock: Over 9% Increase Pre-Market Explan...</td>\n",
       "      <td>Positive</td>\n",
       "    </tr>\n",
       "    <tr>\n",
       "      <th>4999</th>\n",
       "      <td>All American Gold Corp. Moving Forward Quickly</td>\n",
       "      <td>Neutral</td>\n",
       "    </tr>\n",
       "  </tbody>\n",
       "</table>\n",
       "<p>5000 rows × 2 columns</p>\n",
       "</div>"
      ],
      "text/plain": [
       "                                                  index         0\n",
       "0     Autodesk Is Down 15% After Q2 Earnings -- Is T...  Positive\n",
       "1     Blue Shield of California, Walgreens Partner o...  Positive\n",
       "2           RSX: Russian Equities Are Still Undervalued  Positive\n",
       "3                               XLB: Hold Your Position  Positive\n",
       "4     Musgrave Minerals broad, near-surface high-gra...  Positive\n",
       "...                                                 ...       ...\n",
       "4995  INVESTOR ACTION REMINDER: The Schall Law Firm ...   Neutral\n",
       "4996  INVESTOR ACTION NOTICE: The Schall Law Firm Re...   Neutral\n",
       "4997  INVESTOR ACTION REMINDER: The Schall Law Firm ...   Neutral\n",
       "4998  IFRX Stock: Over 9% Increase Pre-Market Explan...  Positive\n",
       "4999     All American Gold Corp. Moving Forward Quickly   Neutral\n",
       "\n",
       "[5000 rows x 2 columns]"
      ]
     },
     "execution_count": 16,
     "metadata": {},
     "output_type": "execute_result"
    }
   ],
   "source": [
    "df_sentiment = pd.DataFrame(test_news_sentiment, test_news)\n",
    "df_sentiment1 = df_sentiment.reset_index()\n",
    "df_sentiment1"
   ]
  },
  {
   "cell_type": "code",
   "execution_count": 17,
   "metadata": {},
   "outputs": [
    {
     "data": {
      "text/html": [
       "<div>\n",
       "<style scoped>\n",
       "    .dataframe tbody tr th:only-of-type {\n",
       "        vertical-align: middle;\n",
       "    }\n",
       "\n",
       "    .dataframe tbody tr th {\n",
       "        vertical-align: top;\n",
       "    }\n",
       "\n",
       "    .dataframe thead th {\n",
       "        text-align: right;\n",
       "    }\n",
       "</style>\n",
       "<table border=\"1\" class=\"dataframe\">\n",
       "  <thead>\n",
       "    <tr style=\"text-align: right;\">\n",
       "      <th></th>\n",
       "      <th>0</th>\n",
       "      <th>index</th>\n",
       "    </tr>\n",
       "  </thead>\n",
       "  <tbody>\n",
       "    <tr>\n",
       "      <th>0</th>\n",
       "      <td>Positive</td>\n",
       "      <td>Autodesk Is Down 15% After Q2 Earnings -- Is T...</td>\n",
       "    </tr>\n",
       "    <tr>\n",
       "      <th>1</th>\n",
       "      <td>Positive</td>\n",
       "      <td>Blue Shield of California, Walgreens Partner o...</td>\n",
       "    </tr>\n",
       "    <tr>\n",
       "      <th>2</th>\n",
       "      <td>Positive</td>\n",
       "      <td>RSX: Russian Equities Are Still Undervalued</td>\n",
       "    </tr>\n",
       "    <tr>\n",
       "      <th>3</th>\n",
       "      <td>Positive</td>\n",
       "      <td>XLB: Hold Your Position</td>\n",
       "    </tr>\n",
       "    <tr>\n",
       "      <th>4</th>\n",
       "      <td>Positive</td>\n",
       "      <td>Musgrave Minerals broad, near-surface high-gra...</td>\n",
       "    </tr>\n",
       "    <tr>\n",
       "      <th>...</th>\n",
       "      <td>...</td>\n",
       "      <td>...</td>\n",
       "    </tr>\n",
       "    <tr>\n",
       "      <th>4995</th>\n",
       "      <td>Neutral</td>\n",
       "      <td>INVESTOR ACTION REMINDER: The Schall Law Firm ...</td>\n",
       "    </tr>\n",
       "    <tr>\n",
       "      <th>4996</th>\n",
       "      <td>Neutral</td>\n",
       "      <td>INVESTOR ACTION NOTICE: The Schall Law Firm Re...</td>\n",
       "    </tr>\n",
       "    <tr>\n",
       "      <th>4997</th>\n",
       "      <td>Neutral</td>\n",
       "      <td>INVESTOR ACTION REMINDER: The Schall Law Firm ...</td>\n",
       "    </tr>\n",
       "    <tr>\n",
       "      <th>4998</th>\n",
       "      <td>Positive</td>\n",
       "      <td>IFRX Stock: Over 9% Increase Pre-Market Explan...</td>\n",
       "    </tr>\n",
       "    <tr>\n",
       "      <th>4999</th>\n",
       "      <td>Neutral</td>\n",
       "      <td>All American Gold Corp. Moving Forward Quickly</td>\n",
       "    </tr>\n",
       "  </tbody>\n",
       "</table>\n",
       "<p>5000 rows × 2 columns</p>\n",
       "</div>"
      ],
      "text/plain": [
       "             0                                              index\n",
       "0     Positive  Autodesk Is Down 15% After Q2 Earnings -- Is T...\n",
       "1     Positive  Blue Shield of California, Walgreens Partner o...\n",
       "2     Positive        RSX: Russian Equities Are Still Undervalued\n",
       "3     Positive                            XLB: Hold Your Position\n",
       "4     Positive  Musgrave Minerals broad, near-surface high-gra...\n",
       "...        ...                                                ...\n",
       "4995   Neutral  INVESTOR ACTION REMINDER: The Schall Law Firm ...\n",
       "4996   Neutral  INVESTOR ACTION NOTICE: The Schall Law Firm Re...\n",
       "4997   Neutral  INVESTOR ACTION REMINDER: The Schall Law Firm ...\n",
       "4998  Positive  IFRX Stock: Over 9% Increase Pre-Market Explan...\n",
       "4999   Neutral     All American Gold Corp. Moving Forward Quickly\n",
       "\n",
       "[5000 rows x 2 columns]"
      ]
     },
     "execution_count": 17,
     "metadata": {},
     "output_type": "execute_result"
    }
   ],
   "source": [
    "df_sentiment2 = df_sentiment1[[0, \"index\"]]\n",
    "df_sentiment2"
   ]
  },
  {
   "cell_type": "code",
   "execution_count": 18,
   "metadata": {},
   "outputs": [],
   "source": [
    "df_sentiment2.to_csv(\"Resources/sentiment-train.csv\", index=False, header=False)"
   ]
  },
  {
   "cell_type": "code",
   "execution_count": 20,
   "metadata": {},
   "outputs": [],
   "source": [
    "# df.to_csv(\"Resources/test-data.csv\")"
   ]
  },
  {
   "cell_type": "code",
   "execution_count": null,
   "metadata": {},
   "outputs": [],
   "source": []
  },
  {
   "cell_type": "code",
   "execution_count": null,
   "metadata": {},
   "outputs": [],
   "source": []
  }
 ],
 "metadata": {
  "kernelspec": {
   "display_name": "Python [conda env:PythonData] *",
   "language": "python",
   "name": "conda-env-PythonData-py"
  },
  "language_info": {
   "codemirror_mode": {
    "name": "ipython",
    "version": 3
   },
   "file_extension": ".py",
   "mimetype": "text/x-python",
   "name": "python",
   "nbconvert_exporter": "python",
   "pygments_lexer": "ipython3",
   "version": "3.6.10"
  }
 },
 "nbformat": 4,
 "nbformat_minor": 4
}
