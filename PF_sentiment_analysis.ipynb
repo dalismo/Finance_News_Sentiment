{
  "nbformat": 4,
  "nbformat_minor": 0,
  "metadata": {
    "colab": {
      "name": "PF_sentiment_analysis.ipynb",
      "provenance": [],
      "authorship_tag": "ABX9TyOjpNq6fcWVNNnXfw7XicPP",
      "include_colab_link": true
    },
    "kernelspec": {
      "name": "python3",
      "display_name": "Python 3"
    },
    "language_info": {
      "name": "python"
    }
  },
  "cells": [
    {
      "cell_type": "markdown",
      "metadata": {
        "id": "view-in-github",
        "colab_type": "text"
      },
      "source": [
        "<a href=\"https://colab.research.google.com/github/dalismo/Finance_News_Sentiment/blob/pf%2Ffinance_sentiment/PF_sentiment_analysis.ipynb\" target=\"_parent\"><img src=\"https://colab.research.google.com/assets/colab-badge.svg\" alt=\"Open In Colab\"/></a>"
      ]
    },
    {
      "cell_type": "code",
      "metadata": {
        "colab": {
          "base_uri": "https://localhost:8080/"
        },
        "id": "HL-ei-nMDft2",
        "outputId": "fd823e8c-1f13-4aad-c447-91dd67c90825"
      },
      "source": [
        "import pandas as pd\n",
        "import os\n",
        "# Find the latest version of spark 3.0  from http://www.apache.org/dist/spark/ and enter as the spark version\n",
        "# For example:\n",
        "# spark_version = 'spark-3.0.3'\n",
        "spark_version = 'spark-3.0.3'\n",
        "os.environ['SPARK_VERSION']=spark_version\n",
        "\n",
        "# Install Spark and Java\n",
        "!apt-get update\n",
        "!apt-get install openjdk-11-jdk-headless -qq > /dev/null\n",
        "!wget -q http://www.apache.org/dist/spark/$SPARK_VERSION/$SPARK_VERSION-bin-hadoop2.7.tgz\n",
        "!tar xf $SPARK_VERSION-bin-hadoop2.7.tgz\n",
        "!pip install -q findspark\n",
        "\n",
        "# Set Environment Variables\n",
        "os.environ[\"JAVA_HOME\"] = \"/usr/lib/jvm/java-11-openjdk-amd64\"\n",
        "os.environ[\"SPARK_HOME\"] = f\"/content/{spark_version}-bin-hadoop2.7\"\n",
        "\n",
        "# Start a SparkSession\n",
        "import findspark\n",
        "findspark.init()"
      ],
      "execution_count": null,
      "outputs": [
        {
          "output_type": "stream",
          "name": "stdout",
          "text": [
            "Get:1 http://security.ubuntu.com/ubuntu bionic-security InRelease [88.7 kB]\n",
            "Get:2 https://cloud.r-project.org/bin/linux/ubuntu bionic-cran40/ InRelease [3,626 B]\n",
            "Ign:3 https://developer.download.nvidia.com/compute/cuda/repos/ubuntu1804/x86_64  InRelease\n",
            "Hit:4 http://archive.ubuntu.com/ubuntu bionic InRelease\n",
            "Get:5 http://ppa.launchpad.net/c2d4u.team/c2d4u4.0+/ubuntu bionic InRelease [15.9 kB]\n",
            "Ign:6 https://developer.download.nvidia.com/compute/machine-learning/repos/ubuntu1804/x86_64  InRelease\n",
            "Get:7 https://developer.download.nvidia.com/compute/cuda/repos/ubuntu1804/x86_64  Release [696 B]\n",
            "Hit:8 https://developer.download.nvidia.com/compute/machine-learning/repos/ubuntu1804/x86_64  Release\n",
            "Get:9 https://developer.download.nvidia.com/compute/cuda/repos/ubuntu1804/x86_64  Release.gpg [836 B]\n",
            "Get:10 http://archive.ubuntu.com/ubuntu bionic-updates InRelease [88.7 kB]\n",
            "Hit:11 http://ppa.launchpad.net/cran/libgit2/ubuntu bionic InRelease\n",
            "Get:12 http://archive.ubuntu.com/ubuntu bionic-backports InRelease [74.6 kB]\n",
            "Get:13 http://ppa.launchpad.net/deadsnakes/ppa/ubuntu bionic InRelease [15.9 kB]\n",
            "Get:14 http://security.ubuntu.com/ubuntu bionic-security/main amd64 Packages [2,320 kB]\n",
            "Get:15 http://security.ubuntu.com/ubuntu bionic-security/universe amd64 Packages [1,428 kB]\n",
            "Hit:16 http://ppa.launchpad.net/graphics-drivers/ppa/ubuntu bionic InRelease\n",
            "Get:17 http://security.ubuntu.com/ubuntu bionic-security/restricted amd64 Packages [560 kB]\n",
            "Get:19 https://developer.download.nvidia.com/compute/cuda/repos/ubuntu1804/x86_64  Packages [717 kB]\n",
            "Get:20 http://ppa.launchpad.net/c2d4u.team/c2d4u4.0+/ubuntu bionic/main Sources [1,798 kB]\n",
            "Get:21 http://archive.ubuntu.com/ubuntu bionic-updates/main amd64 Packages [2,755 kB]\n",
            "Get:22 http://ppa.launchpad.net/c2d4u.team/c2d4u4.0+/ubuntu bionic/main amd64 Packages [920 kB]\n",
            "Get:23 http://archive.ubuntu.com/ubuntu bionic-updates/universe amd64 Packages [2,202 kB]\n",
            "Get:24 http://archive.ubuntu.com/ubuntu bionic-updates/restricted amd64 Packages [593 kB]\n",
            "Get:25 http://ppa.launchpad.net/deadsnakes/ppa/ubuntu bionic/main amd64 Packages [40.8 kB]\n",
            "Fetched 13.6 MB in 6s (2,458 kB/s)\n",
            "Reading package lists... Done\n"
          ]
        }
      ]
    },
    {
      "cell_type": "code",
      "metadata": {
        "id": "dw91zJkwDkhY"
      },
      "source": [
        "# Start Spark session\n",
        "from pyspark.sql import SparkSession\n",
        "# spark = SparkSession.builder.appName(\"StopWords\").getOrCreate()\n",
        "spark = SparkSession.builder.appName(\"Sentiment\").getOrCreate()"
      ],
      "execution_count": null,
      "outputs": []
    },
    {
      "cell_type": "code",
      "metadata": {
        "colab": {
          "base_uri": "https://localhost:8080/"
        },
        "id": "w8BE_EalDr-0",
        "outputId": "0c35651f-0752-412b-b4f8-c3b367092985"
      },
      "source": [
        "# Read in data from S3 Buckets\n",
        "from pyspark import SparkFiles\n",
        "\n",
        "url = 'https://raw.githubusercontent.com/dalismo/Finance_News_Sentiment/main/Resources/train-data.csv'\n",
        "# df = pd.read_csv(url,encoding='latin-1', header=None)\n",
        "# url =\"https://s3.amazonaws.com/dataviz-curriculum/day_2/yelp_reviews.csv\"\n",
        "spark.sparkContext.addFile(url)\n",
        "df = spark.read.csv(SparkFiles.get(\"train-data.csv\"), sep=\",\", header=None)\n",
        "\n",
        "# Show DataFrame\n",
        "df.show()"
      ],
      "execution_count": null,
      "outputs": [
        {
          "output_type": "stream",
          "name": "stdout",
          "text": [
            "+--------+--------------------+\n",
            "|     _c0|                 _c1|\n",
            "+--------+--------------------+\n",
            "| neutral|According to Gran...|\n",
            "| neutral|Technopolis plans...|\n",
            "|negative|The international...|\n",
            "|positive|With the new prod...|\n",
            "|positive|According to the ...|\n",
            "|positive|FINANCING OF ASPO...|\n",
            "|positive|For the last quar...|\n",
            "|positive|In the third quar...|\n",
            "|positive|Operating profit ...|\n",
            "|positive|Operating profit ...|\n",
            "|positive|TeliaSonera TLSN ...|\n",
            "|positive|STORA ENSO , NORS...|\n",
            "|positive|A purchase agreem...|\n",
            "|positive|Finnish Talentum ...|\n",
            "|positive|Clothing retail c...|\n",
            "|positive|Consolidated net ...|\n",
            "|positive|Foundries divisio...|\n",
            "|positive|HELSINKI ( AFX ) ...|\n",
            "|positive|Incap Contract Ma...|\n",
            "|positive|Its board of dire...|\n",
            "+--------+--------------------+\n",
            "only showing top 20 rows\n",
            "\n"
          ]
        }
      ]
    },
    {
      "cell_type": "code",
      "metadata": {
        "colab": {
          "base_uri": "https://localhost:8080/"
        },
        "id": "A0cdItleD37F",
        "outputId": "1e6448c9-0646-41d5-f988-2b49ba10366f"
      },
      "source": [
        "from pyspark.sql.functions import length\n",
        "# Create a length column to be used as a future feature \n",
        "data_df = df.withColumn('length', length(df['_c1']))\n",
        "data_df.show()"
      ],
      "execution_count": null,
      "outputs": [
        {
          "output_type": "stream",
          "name": "stdout",
          "text": [
            "+--------+--------------------+------+\n",
            "|     _c0|                 _c1|length|\n",
            "+--------+--------------------+------+\n",
            "| neutral|According to Gran...|   127|\n",
            "| neutral|Technopolis plans...|   190|\n",
            "|negative|The international...|   228|\n",
            "|positive|With the new prod...|   206|\n",
            "|positive|According to the ...|   203|\n",
            "|positive|FINANCING OF ASPO...|   178|\n",
            "|positive|For the last quar...|   193|\n",
            "|positive|In the third quar...|   125|\n",
            "|positive|Operating profit ...|   122|\n",
            "|positive|Operating profit ...|   103|\n",
            "|positive|TeliaSonera TLSN ...|   178|\n",
            "|positive|STORA ENSO , NORS...|   164|\n",
            "|positive|A purchase agreem...|   207|\n",
            "|positive|Finnish Talentum ...|   163|\n",
            "|positive|Clothing retail c...|   143|\n",
            "|positive|Consolidated net ...|   163|\n",
            "|positive|Foundries divisio...|   254|\n",
            "|positive|HELSINKI ( AFX ) ...|   237|\n",
            "|positive|Incap Contract Ma...|   138|\n",
            "|positive|Its board of dire...|   125|\n",
            "+--------+--------------------+------+\n",
            "only showing top 20 rows\n",
            "\n"
          ]
        }
      ]
    },
    {
      "cell_type": "code",
      "metadata": {
        "colab": {
          "base_uri": "https://localhost:8080/"
        },
        "id": "XeyLgISUD_QH",
        "outputId": "c930fce7-6686-47ce-9104-9ed7716e806b"
      },
      "source": [
        "# Rename columns\n",
        "df1 = data_df.withColumnRenamed(\"_c0\", \"class\").withColumnRenamed(\"_c1\", \"text\")\n",
        "df1.printSchema()\n",
        "df1.show()"
      ],
      "execution_count": null,
      "outputs": [
        {
          "output_type": "stream",
          "name": "stdout",
          "text": [
            "root\n",
            " |-- class: string (nullable = true)\n",
            " |-- text: string (nullable = true)\n",
            " |-- length: integer (nullable = true)\n",
            "\n",
            "+--------+--------------------+------+\n",
            "|   class|                text|length|\n",
            "+--------+--------------------+------+\n",
            "| neutral|According to Gran...|   127|\n",
            "| neutral|Technopolis plans...|   190|\n",
            "|negative|The international...|   228|\n",
            "|positive|With the new prod...|   206|\n",
            "|positive|According to the ...|   203|\n",
            "|positive|FINANCING OF ASPO...|   178|\n",
            "|positive|For the last quar...|   193|\n",
            "|positive|In the third quar...|   125|\n",
            "|positive|Operating profit ...|   122|\n",
            "|positive|Operating profit ...|   103|\n",
            "|positive|TeliaSonera TLSN ...|   178|\n",
            "|positive|STORA ENSO , NORS...|   164|\n",
            "|positive|A purchase agreem...|   207|\n",
            "|positive|Finnish Talentum ...|   163|\n",
            "|positive|Clothing retail c...|   143|\n",
            "|positive|Consolidated net ...|   163|\n",
            "|positive|Foundries divisio...|   254|\n",
            "|positive|HELSINKI ( AFX ) ...|   237|\n",
            "|positive|Incap Contract Ma...|   138|\n",
            "|positive|Its board of dire...|   125|\n",
            "+--------+--------------------+------+\n",
            "only showing top 20 rows\n",
            "\n"
          ]
        }
      ]
    },
    {
      "cell_type": "code",
      "metadata": {
        "colab": {
          "base_uri": "https://localhost:8080/"
        },
        "id": "OuMUmwj-ELdG",
        "outputId": "f540bd0c-3287-4c9f-f8d8-925b0bd1f5df"
      },
      "source": [
        "from pyspark.ml.feature import Tokenizer, StopWordsRemover, HashingTF, IDF, StringIndexer\n",
        "# Create all the features to the data set\n",
        "pos_neg_to_num = StringIndexer(inputCol='class',outputCol='label')\n",
        "pos_neg_to_num"
      ],
      "execution_count": null,
      "outputs": [
        {
          "output_type": "execute_result",
          "data": {
            "text/plain": [
              "StringIndexer_b792fcbd6546"
            ]
          },
          "metadata": {},
          "execution_count": 8
        }
      ]
    },
    {
      "cell_type": "code",
      "metadata": {
        "id": "CADJpY_qE5lM"
      },
      "source": [
        "# Tokenize DataFrame\n",
        "tokenizer = Tokenizer(inputCol=\"text\", outputCol=\"tokenized\")\n",
        "tokenized = tokenizer.transform(df1)"
      ],
      "execution_count": null,
      "outputs": []
    },
    {
      "cell_type": "code",
      "metadata": {
        "colab": {
          "base_uri": "https://localhost:8080/"
        },
        "id": "XbyThNM0E52c",
        "outputId": "92f816ed-323b-4c66-cd76-bdc6f75127fb"
      },
      "source": [
        "# Remove stop words\n",
        "stop_list = [\"Sepp+�l+�\", \"EUR\", \".\", \"%\", \"eur\", \"mn\", \"m\", \"?\", \"$\", \"#\", \"@\"]\n",
        "stopremove = StopWordsRemover(inputCol='tokenized',outputCol='stopremove', stopWords=stop_list)\n",
        "removed_df = stopremove.transform(tokenized)\n",
        "removed_df.show(truncate=False)"
      ],
      "execution_count": null,
      "outputs": [
        {
          "output_type": "stream",
          "name": "stdout",
          "text": [
            "+--------+--------------------------------------------------------------------------------------------------------------------------------------------------------------------------------------------------------------------------------------------------------------+------+-----------------------------------------------------------------------------------------------------------------------------------------------------------------------------------------------------------------------------------------------------------------------------------------------------------------+--------------------------------------------------------------------------------------------------------------------------------------------------------------------------------------------------------------------------------------------------------------------------------------+\n",
            "|class   |text                                                                                                                                                                                                                                                          |length|tokenized                                                                                                                                                                                                                                                                                                        |stopremove                                                                                                                                                                                                                                                                            |\n",
            "+--------+--------------------------------------------------------------------------------------------------------------------------------------------------------------------------------------------------------------------------------------------------------------+------+-----------------------------------------------------------------------------------------------------------------------------------------------------------------------------------------------------------------------------------------------------------------------------------------------------------------+--------------------------------------------------------------------------------------------------------------------------------------------------------------------------------------------------------------------------------------------------------------------------------------+\n",
            "|neutral |According to Gran , the company has no plans to move all production to Russia , although that is where the company is growing .                                                                                                                               |127   |[according, to, gran, ,, the, company, has, no, plans, to, move, all, production, to, russia, ,, although, that, is, where, the, company, is, growing, .]                                                                                                                                                        |[according, to, gran, ,, the, company, has, no, plans, to, move, all, production, to, russia, ,, although, that, is, where, the, company, is, growing]                                                                                                                                |\n",
            "|neutral |Technopolis plans to develop in stages an area of no less than 100,000 square meters in order to host companies working in computer technologies and telecommunications , the statement said .                                                                |190   |[technopolis, plans, to, develop, in, stages, an, area, of, no, less, than, 100,000, square, meters, in, order, to, host, companies, working, in, computer, technologies, and, telecommunications, ,, the, statement, said, .]                                                                                   |[technopolis, plans, to, develop, in, stages, an, area, of, no, less, than, 100,000, square, meters, in, order, to, host, companies, working, in, computer, technologies, and, telecommunications, ,, the, statement, said]                                                           |\n",
            "|negative|The international electronic industry company Elcoteq has laid off tens of employees from its Tallinn facility ; contrary to earlier layoffs the company contracted the ranks of its office workers , the daily Postimees reported .                          |228   |[the, international, electronic, industry, company, elcoteq, has, laid, off, tens, of, employees, from, its, tallinn, facility, ;, contrary, to, earlier, layoffs, the, company, contracted, the, ranks, of, its, office, workers, ,, the, daily, postimees, reported, .]                                        |[the, international, electronic, industry, company, elcoteq, has, laid, off, tens, of, employees, from, its, tallinn, facility, ;, contrary, to, earlier, layoffs, the, company, contracted, the, ranks, of, its, office, workers, ,, the, daily, postimees, reported]                |\n",
            "|positive|With the new production plant the company would increase its capacity to meet the expected increase in demand and would improve the use of raw materials and therefore increase the production profitability .                                                |206   |[with, the, new, production, plant, the, company, would, increase, its, capacity, to, meet, the, expected, increase, in, demand, and, would, improve, the, use, of, raw, materials, and, therefore, increase, the, production, profitability, .]                                                                 |[with, the, new, production, plant, the, company, would, increase, its, capacity, to, meet, the, expected, increase, in, demand, and, would, improve, the, use, of, raw, materials, and, therefore, increase, the, production, profitability]                                         |\n",
            "|positive|According to the company 's updated strategy for the years 2009-2012 , Basware targets a long-term net sales growth in the range of 20 % -40 % with an operating profit margin of 10 % -20 % of net sales .                                                   |203   |[according, to, the, company, 's, updated, strategy, for, the, years, 2009-2012, ,, basware, targets, a, long-term, net, sales, growth, in, the, range, of, 20, %, -40, %, with, an, operating, profit, margin, of, 10, %, -20, %, of, net, sales, .]                                                            |[according, to, the, company, 's, updated, strategy, for, the, years, 2009-2012, ,, basware, targets, a, long-term, net, sales, growth, in, the, range, of, 20, -40, with, an, operating, profit, margin, of, 10, -20, of, net, sales]                                                |\n",
            "|positive|FINANCING OF ASPOCOMP 'S GROWTH Aspocomp is aggressively pursuing its growth strategy by increasingly focusing on technologically more demanding HDI printed circuit boards PCBs .                                                                            |178   |[financing, of, aspocomp, 's, growth, aspocomp, is, aggressively, pursuing, its, growth, strategy, by, increasingly, focusing, on, technologically, more, demanding, hdi, printed, circuit, boards, pcbs, .]                                                                                                     |[financing, of, aspocomp, 's, growth, aspocomp, is, aggressively, pursuing, its, growth, strategy, by, increasingly, focusing, on, technologically, more, demanding, hdi, printed, circuit, boards, pcbs]                                                                             |\n",
            "|positive|For the last quarter of 2010 , Componenta 's net sales doubled to EUR131m from EUR76m for the same period a year earlier , while it moved to a zero pre-tax profit from a pre-tax loss of EUR7m .                                                             |193   |[for, the, last, quarter, of, 2010, ,, componenta, 's, net, sales, doubled, to, eur131m, from, eur76m, for, the, same, period, a, year, earlier, ,, while, it, moved, to, a, zero, pre-tax, profit, from, a, pre-tax, loss, of, eur7m, .]                                                                        |[for, the, last, quarter, of, 2010, ,, componenta, 's, net, sales, doubled, to, eur131m, from, eur76m, for, the, same, period, a, year, earlier, ,, while, it, moved, to, a, zero, pre-tax, profit, from, a, pre-tax, loss, of, eur7m]                                                |\n",
            "|positive|In the third quarter of 2010 , net sales increased by 5.2 % to EUR 205.5 mn , and operating profit by 34.9 % to EUR 23.5 mn .                                                                                                                                 |125   |[in, the, third, quarter, of, 2010, ,, net, sales, increased, by, 5.2, %, to, eur, 205.5, mn, ,, and, operating, profit, by, 34.9, %, to, eur, 23.5, mn, .]                                                                                                                                                      |[in, the, third, quarter, of, 2010, ,, net, sales, increased, by, 5.2, to, 205.5, ,, and, operating, profit, by, 34.9, to, 23.5]                                                                                                                                                      |\n",
            "|positive|Operating profit rose to EUR 13.1 mn from EUR 8.7 mn in the corresponding period in 2007 representing 7.7 % of net sales .                                                                                                                                    |122   |[operating, profit, rose, to, eur, 13.1, mn, from, eur, 8.7, mn, in, the, corresponding, period, in, 2007, representing, 7.7, %, of, net, sales, .]                                                                                                                                                              |[operating, profit, rose, to, 13.1, from, 8.7, in, the, corresponding, period, in, 2007, representing, 7.7, of, net, sales]                                                                                                                                                           |\n",
            "|positive|Operating profit totalled EUR 21.1 mn , up from EUR 18.6 mn in 2007 , representing 9.7 % of net sales .                                                                                                                                                       |103   |[operating, profit, totalled, eur, 21.1, mn, ,, up, from, eur, 18.6, mn, in, 2007, ,, representing, 9.7, %, of, net, sales, .]                                                                                                                                                                                   |[operating, profit, totalled, 21.1, ,, up, from, 18.6, in, 2007, ,, representing, 9.7, of, net, sales]                                                                                                                                                                                |\n",
            "|positive|TeliaSonera TLSN said the offer is in line with its strategy to increase its ownership in core business holdings and would strengthen Eesti Telekom 's offering to its customers .                                                                            |178   |[teliasonera, tlsn, said, the, offer, is, in, line, with, its, strategy, to, increase, its, ownership, in, core, business, holdings, and, would, strengthen, eesti, telekom, 's, offering, to, its, customers, .]                                                                                                |[teliasonera, tlsn, said, the, offer, is, in, line, with, its, strategy, to, increase, its, ownership, in, core, business, holdings, and, would, strengthen, eesti, telekom, 's, offering, to, its, customers]                                                                        |\n",
            "|positive|STORA ENSO , NORSKE SKOG , M-REAL , UPM-KYMMENE Credit Suisse First Boston ( CFSB ) raised the fair value for shares in four of the largest Nordic forestry groups .                                                                                          |164   |[stora, enso, ,, norske, skog, ,, m-real, ,, upm-kymmene, credit, suisse, first, boston, (, cfsb, ), raised, the, fair, value, for, shares, in, four, of, the, largest, nordic, forestry, groups, .]                                                                                                             |[stora, enso, ,, norske, skog, ,, m-real, ,, upm-kymmene, credit, suisse, first, boston, (, cfsb, ), raised, the, fair, value, for, shares, in, four, of, the, largest, nordic, forestry, groups]                                                                                     |\n",
            "|positive|A purchase agreement for 7,200 tons of gasoline with delivery at the Hamina terminal , Finland , was signed with Neste Oil OYj at the average Platts index for this September plus eight US dollars per month .                                               |207   |[a, purchase, agreement, for, 7,200, tons, of, gasoline, with, delivery, at, the, hamina, terminal, ,, finland, ,, was, signed, with, neste, oil, oyj, at, the, average, platts, index, for, this, september, plus, eight, us, dollars, per, month, .]                                                           |[a, purchase, agreement, for, 7,200, tons, of, gasoline, with, delivery, at, the, hamina, terminal, ,, finland, ,, was, signed, with, neste, oil, oyj, at, the, average, platts, index, for, this, september, plus, eight, us, dollars, per, month]                                   |\n",
            "|positive|Finnish Talentum reports its operating profit increased to EUR 20.5 mn in 2005 from EUR 9.3 mn in 2004 , and net sales totaled EUR 103.3 mn , up from EUR 96.4 mn .                                                                                           |163   |[finnish, talentum, reports, its, operating, profit, increased, to, eur, 20.5, mn, in, 2005, from, eur, 9.3, mn, in, 2004, ,, and, net, sales, totaled, eur, 103.3, mn, ,, up, from, eur, 96.4, mn, .]                                                                                                           |[finnish, talentum, reports, its, operating, profit, increased, to, 20.5, in, 2005, from, 9.3, in, 2004, ,, and, net, sales, totaled, 103.3, ,, up, from, 96.4]                                                                                                                       |\n",
            "|positive|Clothing retail chain Sepp+�l+� 's sales increased by 8 % to EUR 155.2 mn , and operating profit rose to EUR 31.1 mn from EUR 17.1 mn in 2004 .                                                                                                               |143   |[clothing, retail, chain, sepp+�l+�, 's, sales, increased, by, 8, %, to, eur, 155.2, mn, ,, and, operating, profit, rose, to, eur, 31.1, mn, from, eur, 17.1, mn, in, 2004, .]                                                                                                                                   |[clothing, retail, chain, 's, sales, increased, by, 8, to, 155.2, ,, and, operating, profit, rose, to, 31.1, from, 17.1, in, 2004]                                                                                                                                                    |\n",
            "|positive|Consolidated net sales increased 16 % to reach EUR74 .8 m , while operating profit amounted to EUR0 .9 m compared to a loss of EUR0 .7 m in the prior year period .                                                                                           |163   |[consolidated, net, sales, increased, 16, %, to, reach, eur74, .8, m, ,, while, operating, profit, amounted, to, eur0, .9, m, compared, to, a, loss, of, eur0, .7, m, in, the, prior, year, period, .]                                                                                                           |[consolidated, net, sales, increased, 16, to, reach, eur74, .8, ,, while, operating, profit, amounted, to, eur0, .9, compared, to, a, loss, of, eur0, .7, in, the, prior, year, period]                                                                                               |\n",
            "|positive|Foundries division reports its sales increased by 9.7 % to EUR 63.1 mn from EUR 57.5 mn in the corresponding period in 2006 , and sales of the Machine Shop division increased by 16.4 % to EUR 41.2 mn from EUR 35.4 mn in the corresponding period in 2006 .|254   |[foundries, division, reports, its, sales, increased, by, 9.7, %, to, eur, 63.1, mn, from, eur, 57.5, mn, in, the, corresponding, period, in, 2006, ,, and, sales, of, the, machine, shop, division, increased, by, 16.4, %, to, eur, 41.2, mn, from, eur, 35.4, mn, in, the, corresponding, period, in, 2006, .]|[foundries, division, reports, its, sales, increased, by, 9.7, to, 63.1, from, 57.5, in, the, corresponding, period, in, 2006, ,, and, sales, of, the, machine, shop, division, increased, by, 16.4, to, 41.2, from, 35.4, in, the, corresponding, period, in, 2006]                  |\n",
            "|positive|HELSINKI ( AFX ) - Shares closed higher , led by Nokia after it announced plans to team up with Sanyo to manufacture 3G handsets , and by Nokian Tyres after its fourth-quarter earnings report beat analysts ' expectations , dealers said .                 |237   |[helsinki, (, afx, ), -, shares, closed, higher, ,, led, by, nokia, after, it, announced, plans, to, team, up, with, sanyo, to, manufacture, 3g, handsets, ,, and, by, nokian, tyres, after, its, fourth-quarter, earnings, report, beat, analysts, ', expectations, ,, dealers, said, .]                        |[helsinki, (, afx, ), -, shares, closed, higher, ,, led, by, nokia, after, it, announced, plans, to, team, up, with, sanyo, to, manufacture, 3g, handsets, ,, and, by, nokian, tyres, after, its, fourth-quarter, earnings, report, beat, analysts, ', expectations, ,, dealers, said]|\n",
            "|positive|Incap Contract Manufacturing Services Pvt Ltd , a subsidiary of Incap Corporation of Finland , plans to double its revenues by 2007-2008 .                                                                                                                    |138   |[incap, contract, manufacturing, services, pvt, ltd, ,, a, subsidiary, of, incap, corporation, of, finland, ,, plans, to, double, its, revenues, by, 2007-2008, .]                                                                                                                                               |[incap, contract, manufacturing, services, pvt, ltd, ,, a, subsidiary, of, incap, corporation, of, finland, ,, plans, to, double, its, revenues, by, 2007-2008]                                                                                                                       |\n",
            "|positive|Its board of directors will propose a dividend of EUR0 .12 per share for 2010 , up from the EUR0 .08 per share paid in 2009 .                                                                                                                                 |125   |[its, board, of, directors, will, propose, a, dividend, of, eur0, .12, per, share, for, 2010, ,, up, from, the, eur0, .08, per, share, paid, in, 2009, .]                                                                                                                                                        |[its, board, of, directors, will, propose, a, dividend, of, eur0, .12, per, share, for, 2010, ,, up, from, the, eur0, .08, per, share, paid, in, 2009]                                                                                                                                |\n",
            "+--------+--------------------------------------------------------------------------------------------------------------------------------------------------------------------------------------------------------------------------------------------------------------+------+-----------------------------------------------------------------------------------------------------------------------------------------------------------------------------------------------------------------------------------------------------------------------------------------------------------------+--------------------------------------------------------------------------------------------------------------------------------------------------------------------------------------------------------------------------------------------------------------------------------------+\n",
            "only showing top 20 rows\n",
            "\n"
          ]
        }
      ]
    },
    {
      "cell_type": "code",
      "metadata": {
        "id": "klnIXcevE5_4"
      },
      "source": [
        "# Run the hashing term frequency\n",
        "hashingTF = HashingTF(inputCol=\"stopremove\", outputCol='hash_token')\n"
      ],
      "execution_count": null,
      "outputs": []
    },
    {
      "cell_type": "code",
      "metadata": {
        "id": "rskIqZduF976"
      },
      "source": [
        "# Fit the IDF on the data set\n",
        "idf = IDF(inputCol='hash_token', outputCol='idf_token')"
      ],
      "execution_count": null,
      "outputs": []
    },
    {
      "cell_type": "code",
      "metadata": {
        "id": "m6eX5jQcGJSP"
      },
      "source": [
        "from pyspark.ml.feature import VectorAssembler\n",
        "from pyspark.ml.linalg import Vector\n",
        "\n",
        "# Create feature vectors\n",
        "clean_up = VectorAssembler(inputCols=['idf_token', 'length'], outputCol='features')"
      ],
      "execution_count": null,
      "outputs": []
    },
    {
      "cell_type": "code",
      "metadata": {
        "id": "FovUHSneGJv6"
      },
      "source": [
        "# Create a and run a data processing Pipeline\n",
        "from pyspark.ml import Pipeline\n",
        "data_prep_pipeline = Pipeline(stages=[pos_neg_to_num, tokenizer, stopremove, hashingTF, idf, clean_up])"
      ],
      "execution_count": null,
      "outputs": []
    },
    {
      "cell_type": "code",
      "metadata": {
        "id": "6K_drFBDGJ2l"
      },
      "source": [
        "# Fit and transform the pipeline\n",
        "cleaner = data_prep_pipeline.fit(df1)\n",
        "cleaned = cleaner.transform(df1)"
      ],
      "execution_count": null,
      "outputs": []
    },
    {
      "cell_type": "code",
      "metadata": {
        "colab": {
          "base_uri": "https://localhost:8080/"
        },
        "id": "DzwG4j-JGPUz",
        "outputId": "b95ac4ca-ed1f-4637-dee3-7a9366fd4446"
      },
      "source": [
        "# Show label and resulting features\n",
        "cleaned.select(['label', 'features']).show()"
      ],
      "execution_count": null,
      "outputs": [
        {
          "output_type": "stream",
          "name": "stdout",
          "text": [
            "+-----+--------------------+\n",
            "|label|            features|\n",
            "+-----+--------------------+\n",
            "|  0.0|(262145,[27576,32...|\n",
            "|  0.0|(262145,[20102,21...|\n",
            "|  2.0|(262145,[4333,905...|\n",
            "|  1.0|(262145,[27576,29...|\n",
            "|  1.0|(262145,[3968,440...|\n",
            "|  1.0|(262145,[3968,811...|\n",
            "|  1.0|(262145,[5381,928...|\n",
            "|  1.0|(262145,[27576,38...|\n",
            "|  1.0|(262145,[9972,275...|\n",
            "|  1.0|(262145,[38019,56...|\n",
            "|  1.0|(262145,[27576,35...|\n",
            "|  1.0|(262145,[20131,32...|\n",
            "|  1.0|(262145,[4978,126...|\n",
            "|  1.0|(262145,[27576,38...|\n",
            "|  1.0|(262145,[8254,166...|\n",
            "|  1.0|(262145,[11972,22...|\n",
            "|  1.0|(262145,[9144,997...|\n",
            "|  1.0|(262145,[2114,688...|\n",
            "|  1.0|(262145,[4371,246...|\n",
            "|  1.0|(262145,[12650,21...|\n",
            "+-----+--------------------+\n",
            "only showing top 20 rows\n",
            "\n"
          ]
        }
      ]
    },
    {
      "cell_type": "code",
      "metadata": {
        "id": "XYWqCBAjGPXH"
      },
      "source": [
        "from pyspark.ml.classification import NaiveBayes\n",
        "# Break data down into a training set and a testing set\n",
        "training, testing = cleaned.randomSplit([0.7, 0.3])\n",
        "\n",
        "# Create a Naive Bayes model and fit training data\n",
        "nb = NaiveBayes()\n",
        "predictor = nb.fit(training)"
      ],
      "execution_count": null,
      "outputs": []
    },
    {
      "cell_type": "code",
      "metadata": {
        "colab": {
          "base_uri": "https://localhost:8080/"
        },
        "id": "XI_HG8a_GPbB",
        "outputId": "74f3cec7-7d22-46b8-848b-10929de526b1"
      },
      "source": [
        "# Tranform the model with the testing data\n",
        "test_results = predictor.transform(testing)\n",
        "test_results.show()"
      ],
      "execution_count": null,
      "outputs": [
        {
          "output_type": "stream",
          "name": "stdout",
          "text": [
            "+--------+--------------------+------+-----+--------------------+--------------------+--------------------+--------------------+--------------------+--------------------+--------------------+----------+\n",
            "|   class|                text|length|label|           tokenized|          stopremove|          hash_token|           idf_token|            features|       rawPrediction|         probability|prediction|\n",
            "+--------+--------------------+------+-----+--------------------+--------------------+--------------------+--------------------+--------------------+--------------------+--------------------+----------+\n",
            "|negative|( ADP News ) - Fe...|   205|  2.0|[(, adp, news, ),...|[(, adp, news, ),...|(262144,[10391,27...|(262144,[10391,27...|(262145,[10391,27...|[-1482.6626802286...|[0.99999999999670...|       0.0|\n",
            "|negative|( ADP News ) - Ja...|   177|  2.0|[(, adp, news, ),...|[(, adp, news, ),...|(262144,[38640,43...|(262144,[38640,43...|(262145,[38640,43...|[-1405.0087042326...|[1.0,2.9468425752...|       0.0|\n",
            "|negative|( ADPnews ) - Dec...|   225|  2.0|[(, adpnews, ), -...|[(, adpnews, ), -...|(262144,[23845,30...|(262144,[23845,30...|(262145,[23845,30...|[-1824.1565775831...|[1.0,4.3623081966...|       0.0|\n",
            "|negative|( ADPnews ) - Feb...|   230|  2.0|[(, adpnews, ), -...|[(, adpnews, ), -...|(262144,[27576,30...|(262144,[27576,30...|(262145,[27576,30...|[-1775.5390098785...|[0.99999897722077...|       0.0|\n",
            "|negative|( ADPnews ) - May...|   231|  2.0|[(, adpnews, ), -...|[(, adpnews, ), -...|(262144,[27576,38...|(262144,[27576,38...|(262145,[27576,38...|[-1830.3195124343...|[1.0,4.4080902844...|       0.0|\n",
            "|negative|( ADPnews ) - Oct...|   231|  2.0|[(, adpnews, ), -...|[(, adpnews, ), -...|(262144,[493,1546...|(262144,[493,1546...|(262145,[493,1546...|[-1938.7660879199...|[0.99999999999999...|       0.0|\n",
            "|negative|- The Group 's sa...|   158|  2.0|[-, the, group, '...|[-, the, group, '...|(262144,[28991,38...|(262144,[28991,38...|(262145,[28991,38...|[-1176.4898143892...|[0.99999999990766...|       0.0|\n",
            "|negative|30 November 2009 ...|   224|  2.0|[30, november, 20...|[30, november, 20...|(262144,[4333,905...|(262144,[4333,905...|(262145,[4333,905...|[-1664.2961914354...|[1.0,6.2825863773...|       0.0|\n",
            "|negative|55 workers in +_m...|    57|  2.0|[55, workers, in,...|[55, workers, in,...|(262144,[17459,59...|(262144,[17459,59...|(262145,[17459,59...|[-484.36106709453...|[0.99999988655641...|       0.0|\n",
            "|negative|A high court in F...|   123|  2.0|[a, high, court, ...|[a, high, court, ...|(262144,[30789,31...|(262144,[30789,31...|(262145,[30789,31...|[-1129.5023366249...|[1.0,4.1240500394...|       0.0|\n",
            "|negative|A survey conducte...|   121|  2.0|[a, survey, condu...|[a, survey, condu...|(262144,[27576,29...|(262144,[27576,29...|(262145,[27576,29...|[-1096.3951734737...|[1.0,6.0292787592...|       0.0|\n",
            "|negative|ADP News - Apr 22...|   219|  2.0|[adp, news, -, ap...|[adp, news, -, ap...|(262144,[11104,14...|(262144,[11104,14...|(262145,[11104,14...|[-1751.6340512954...|[0.99999999999999...|       0.0|\n",
            "|negative|ADPnews - Feb 5 ,...|   200|  2.0|[adpnews, -, feb,...|[adpnews, -, feb,...|(262144,[27576,30...|(262144,[27576,30...|(262145,[27576,30...|[-1577.9107631073...|[0.99999712297224...|       0.0|\n",
            "|negative|According to Akti...|    96|  2.0|[according, to, a...|[according, to, a...|(262144,[5923,275...|(262144,[5923,275...|(262145,[5923,275...|[-679.05883088869...|[1.0,2.6326704712...|       0.0|\n",
            "|negative|According to the ...|   124|  2.0|[according, to, t...|[according, to, t...|(262144,[8145,275...|(262144,[8145,275...|(262145,[8145,275...|[-805.37885190810...|[1.0,5.2736922454...|       0.0|\n",
            "|negative|According to the ...|    78|  2.0|[according, to, t...|[according, to, t...|(262144,[4333,905...|(262144,[4333,905...|(262145,[4333,905...|[-524.34000129472...|[1.0,1.1102714756...|       0.0|\n",
            "|negative|Alma Media 's ope...|    95|  2.0|[alma, media, 's,...|[alma, media, 's,...|(262144,[3657,568...|(262144,[3657,568...|(262145,[3657,568...|[-615.71084429648...|[1.0,6.2699741954...|       0.0|\n",
            "|negative|And U.S. energy e...|    85|  2.0|[and, u.s., energ...|[and, u.s., energ...|(262144,[39204,58...|(262144,[39204,58...|(262145,[39204,58...|[-726.81964941518...|[1.0,8.0130579754...|       0.0|\n",
            "|negative|Applying for summ...|    61|  2.0|[applying, for, s...|[applying, for, s...|(262144,[10809,34...|(262144,[10809,34...|(262145,[10809,34...|[-578.91005526940...|[0.99232212645782...|       0.0|\n",
            "|negative|As a result , 12 ...|    99|  2.0|[as, a, result, ,...|[as, a, result, ,...|(262144,[4333,905...|(262144,[4333,905...|(262145,[4333,905...|[-794.74507204427...|[1.0,4.7859833815...|       0.0|\n",
            "+--------+--------------------+------+-----+--------------------+--------------------+--------------------+--------------------+--------------------+--------------------+--------------------+----------+\n",
            "only showing top 20 rows\n",
            "\n"
          ]
        }
      ]
    },
    {
      "cell_type": "code",
      "metadata": {
        "colab": {
          "base_uri": "https://localhost:8080/"
        },
        "id": "YiY3zhCvGPgn",
        "outputId": "0edbf066-d4de-4327-cfb9-4b1d8f0393e4"
      },
      "source": [
        "# Use the Class Evaluator for a cleaner description\n",
        "from pyspark.ml.evaluation import MulticlassClassificationEvaluator\n",
        "\n",
        "acc_eval = MulticlassClassificationEvaluator()\n",
        "acc = acc_eval.evaluate(test_results)\n",
        "print(\"Accuracy of model at predicting reviews was: %f\" % acc)"
      ],
      "execution_count": null,
      "outputs": [
        {
          "output_type": "stream",
          "name": "stdout",
          "text": [
            "Accuracy of model at predicting reviews was: 0.572795\n"
          ]
        }
      ]
    }
  ]
}