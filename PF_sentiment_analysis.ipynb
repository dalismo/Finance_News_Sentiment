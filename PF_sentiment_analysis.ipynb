{
  "nbformat": 4,
  "nbformat_minor": 0,
  "metadata": {
    "colab": {
      "name": "PF_sentiment_analysis.ipynb",
      "provenance": [],
      "authorship_tag": "ABX9TyMQejnosd7n28z9uUV9nguk",
      "include_colab_link": true
    },
    "kernelspec": {
      "name": "python3",
      "display_name": "Python 3"
    },
    "language_info": {
      "name": "python"
    }
  },
  "cells": [
    {
      "cell_type": "markdown",
      "metadata": {
        "id": "view-in-github",
        "colab_type": "text"
      },
      "source": [
        "<a href=\"https://colab.research.google.com/github/dalismo/Finance_News_Sentiment/blob/pf%2Fpre_covid_model/PF_sentiment_analysis.ipynb\" target=\"_parent\"><img src=\"https://colab.research.google.com/assets/colab-badge.svg\" alt=\"Open In Colab\"/></a>"
      ]
    },
    {
      "cell_type": "code",
      "metadata": {
        "colab": {
          "base_uri": "https://localhost:8080/"
        },
        "id": "HL-ei-nMDft2",
        "outputId": "7980e10a-4da4-44ff-e5de-b879e61ac22a"
      },
      "source": [
        "import pandas as pd\n",
        "import os\n",
        "# Find the latest version of spark 3.0  from http://www.apache.org/dist/spark/ and enter as the spark version\n",
        "# For example:\n",
        "# spark_version = 'spark-3.0.3'\n",
        "spark_version = 'spark-3.0.3'\n",
        "os.environ['SPARK_VERSION']=spark_version\n",
        "\n",
        "# Install Spark and Java\n",
        "!apt-get update\n",
        "!apt-get install openjdk-11-jdk-headless -qq > /dev/null\n",
        "!wget -q http://www.apache.org/dist/spark/$SPARK_VERSION/$SPARK_VERSION-bin-hadoop2.7.tgz\n",
        "!tar xf $SPARK_VERSION-bin-hadoop2.7.tgz\n",
        "!pip install -q findspark\n",
        "\n",
        "# Set Environment Variables\n",
        "os.environ[\"JAVA_HOME\"] = \"/usr/lib/jvm/java-11-openjdk-amd64\"\n",
        "os.environ[\"SPARK_HOME\"] = f\"/content/{spark_version}-bin-hadoop2.7\"\n",
        "\n",
        "# Start a SparkSession\n",
        "import findspark\n",
        "findspark.init()"
      ],
      "execution_count": null,
      "outputs": [
        {
          "output_type": "stream",
          "name": "stdout",
          "text": [
            "\r0% [Working]\r            \rGet:1 http://security.ubuntu.com/ubuntu bionic-security InRelease [88.7 kB]\n",
            "\r0% [Connecting to archive.ubuntu.com (91.189.88.152)] [1 InRelease 14.2 kB/88.7\r0% [Connecting to archive.ubuntu.com (91.189.88.152)] [Connected to cloud.r-pro\r0% [1 InRelease gpgv 88.7 kB] [Connecting to archive.ubuntu.com (91.189.88.152)\r                                                                               \rGet:2 https://cloud.r-project.org/bin/linux/ubuntu bionic-cran40/ InRelease [3,626 B]\n",
            "\r0% [1 InRelease gpgv 88.7 kB] [Waiting for headers] [Waiting for headers] [Wait\r                                                                               \rIgn:3 https://developer.download.nvidia.com/compute/cuda/repos/ubuntu1804/x86_64  InRelease\n",
            "\r0% [1 InRelease gpgv 88.7 kB] [Waiting for headers] [Waiting for headers] [Wait\r                                                                               \rGet:4 http://ppa.launchpad.net/c2d4u.team/c2d4u4.0+/ubuntu bionic InRelease [15.9 kB]\n",
            "\r0% [1 InRelease gpgv 88.7 kB] [Waiting for headers] [4 InRelease 2,572 B/15.9 k\r                                                                               \rHit:5 http://archive.ubuntu.com/ubuntu bionic InRelease\n",
            "\r0% [1 InRelease gpgv 88.7 kB] [4 InRelease 11.3 kB/15.9 kB 71%] [Waiting for he\r                                                                               \rIgn:6 https://developer.download.nvidia.com/compute/machine-learning/repos/ubuntu1804/x86_64  InRelease\n",
            "\r0% [1 InRelease gpgv 88.7 kB] [Waiting for headers] [4 InRelease 14.2 kB/15.9 k\r                                                                               \rGet:7 https://developer.download.nvidia.com/compute/cuda/repos/ubuntu1804/x86_64  Release [696 B]\n",
            "\r0% [1 InRelease gpgv 88.7 kB] [Waiting for headers] [4 InRelease 14.2 kB/15.9 k\r0% [1 InRelease gpgv 88.7 kB] [Waiting for headers] [Connecting to ppa.launchpa\r                                                                               \rHit:8 https://developer.download.nvidia.com/compute/machine-learning/repos/ubuntu1804/x86_64  Release\n",
            "\r0% [1 InRelease gpgv 88.7 kB] [Waiting for headers] [Connecting to ppa.launchpa\r                                                                               \rGet:9 http://archive.ubuntu.com/ubuntu bionic-updates InRelease [88.7 kB]\n",
            "Get:10 https://developer.download.nvidia.com/compute/cuda/repos/ubuntu1804/x86_64  Release.gpg [836 B]\n",
            "Hit:11 http://ppa.launchpad.net/cran/libgit2/ubuntu bionic InRelease\n",
            "Get:12 http://archive.ubuntu.com/ubuntu bionic-backports InRelease [74.6 kB]\n",
            "Get:13 http://security.ubuntu.com/ubuntu bionic-security/universe amd64 Packages [1,428 kB]\n",
            "Get:14 http://ppa.launchpad.net/deadsnakes/ppa/ubuntu bionic InRelease [15.9 kB]\n",
            "Get:15 http://security.ubuntu.com/ubuntu bionic-security/main amd64 Packages [2,320 kB]\n",
            "Get:16 http://security.ubuntu.com/ubuntu bionic-security/restricted amd64 Packages [560 kB]\n",
            "Hit:17 http://ppa.launchpad.net/graphics-drivers/ppa/ubuntu bionic InRelease\n",
            "Get:18 http://ppa.launchpad.net/c2d4u.team/c2d4u4.0+/ubuntu bionic/main Sources [1,799 kB]\n",
            "Get:20 https://developer.download.nvidia.com/compute/cuda/repos/ubuntu1804/x86_64  Packages [717 kB]\n",
            "Get:21 http://ppa.launchpad.net/c2d4u.team/c2d4u4.0+/ubuntu bionic/main amd64 Packages [921 kB]\n",
            "Get:22 http://archive.ubuntu.com/ubuntu bionic-updates/universe amd64 Packages [2,202 kB]\n",
            "Get:23 http://archive.ubuntu.com/ubuntu bionic-updates/main amd64 Packages [2,755 kB]\n",
            "Get:24 http://archive.ubuntu.com/ubuntu bionic-updates/restricted amd64 Packages [593 kB]\n",
            "Get:25 http://ppa.launchpad.net/deadsnakes/ppa/ubuntu bionic/main amd64 Packages [40.8 kB]\n",
            "Fetched 13.6 MB in 4s (3,047 kB/s)\n",
            "Reading package lists... Done\n"
          ]
        }
      ]
    },
    {
      "cell_type": "code",
      "metadata": {
        "id": "dw91zJkwDkhY"
      },
      "source": [
        "# Start Spark session\n",
        "from pyspark.sql import SparkSession\n",
        "# spark = SparkSession.builder.appName(\"StopWords\").getOrCreate()\n",
        "spark = SparkSession.builder.appName(\"Sentiment\").getOrCreate()"
      ],
      "execution_count": null,
      "outputs": []
    },
    {
      "cell_type": "code",
      "metadata": {
        "colab": {
          "base_uri": "https://localhost:8080/"
        },
        "id": "w8BE_EalDr-0",
        "outputId": "6a95f97f-7f36-402d-cbfa-59204a94eb4c"
      },
      "source": [
        "# Read in data from S3 Buckets\n",
        "from pyspark import SparkFiles\n",
        "\n",
        "# url = 'https://raw.githubusercontent.com/dalismo/Finance_News_Sentiment/main/Resources/train-data.csv'\n",
        "url = 'https://raw.githubusercontent.com/dalismo/Finance_News_Sentiment/main/Resources/sentiment.csv'\n",
        "# df = pd.read_csv(url,encoding='latin-1', header=None)\n",
        "# url =\"https://s3.amazonaws.com/dataviz-curriculum/day_2/yelp_reviews.csv\"\n",
        "spark.sparkContext.addFile(url)\n",
        "df = spark.read.csv(SparkFiles.get(\"sentiment.csv\"), sep=\",\", header=None)\n",
        "\n",
        "# Show DataFrame\n",
        "df.show()"
      ],
      "execution_count": null,
      "outputs": [
        {
          "output_type": "stream",
          "name": "stdout",
          "text": [
            "+--------+--------------------+\n",
            "|     _c0|                 _c1|\n",
            "+--------+--------------------+\n",
            "|Positive|Blue Shield of Ca...|\n",
            "|Positive|RSX: Russian Equi...|\n",
            "|Positive|XLB: Hold Your Po...|\n",
            "|Positive|Musgrave Minerals...|\n",
            "|Positive|ViacomCBS to rest...|\n",
            "|Positive|Oil climbs to one...|\n",
            "|Negative|Australian regula...|\n",
            "|Positive|The Wall Street J...|\n",
            "|Positive|Ora Banda Mining ...|\n",
            "|Positive|Google Pay Plans ...|\n",
            "|Negative|Toyota, Honda Ang...|\n",
            "| Neutral|ZY Investor Alert...|\n",
            "| Neutral|Calima Energy spu...|\n",
            "|Positive|These Marijuana S...|\n",
            "|Positive|Moderna ETFs to R...|\n",
            "| Neutral|MacroGenics Annou...|\n",
            "| Neutral|Zymeworks Announc...|\n",
            "| Neutral|BioXcel Therapeut...|\n",
            "| Neutral|Merck to Present ...|\n",
            "| Neutral|BeiGene to Presen...|\n",
            "+--------+--------------------+\n",
            "only showing top 20 rows\n",
            "\n"
          ]
        }
      ]
    },
    {
      "cell_type": "code",
      "metadata": {
        "colab": {
          "base_uri": "https://localhost:8080/"
        },
        "id": "A0cdItleD37F",
        "outputId": "a4b70653-0aac-463f-c34e-193fdb170e9b"
      },
      "source": [
        "from pyspark.sql.functions import length\n",
        "# Create a length column to be used as a future feature \n",
        "data_df = df.withColumn('length', length(df['_c1']))\n",
        "data_df.show()"
      ],
      "execution_count": null,
      "outputs": [
        {
          "output_type": "stream",
          "name": "stdout",
          "text": [
            "+--------+--------------------+------+\n",
            "|     _c0|                 _c1|length|\n",
            "+--------+--------------------+------+\n",
            "|Positive|Blue Shield of Ca...|    80|\n",
            "|Positive|RSX: Russian Equi...|    43|\n",
            "|Positive|XLB: Hold Your Po...|    23|\n",
            "|Positive|Musgrave Minerals...|   101|\n",
            "|Positive|ViacomCBS to rest...|    49|\n",
            "|Positive|Oil climbs to one...|    51|\n",
            "|Negative|Australian regula...|    67|\n",
            "|Positive|The Wall Street J...|    90|\n",
            "|Positive|Ora Banda Mining ...|    50|\n",
            "|Positive|Google Pay Plans ...|    43|\n",
            "|Negative|Toyota, Honda Ang...|    69|\n",
            "| Neutral|ZY Investor Alert...|    44|\n",
            "| Neutral|Calima Energy spu...|    58|\n",
            "|Positive|These Marijuana S...|    56|\n",
            "|Positive|Moderna ETFs to R...|    61|\n",
            "| Neutral|MacroGenics Annou...|    72|\n",
            "| Neutral|Zymeworks Announc...|   173|\n",
            "| Neutral|BioXcel Therapeut...|   130|\n",
            "| Neutral|Merck to Present ...|    80|\n",
            "| Neutral|BeiGene to Presen...|    88|\n",
            "+--------+--------------------+------+\n",
            "only showing top 20 rows\n",
            "\n"
          ]
        }
      ]
    },
    {
      "cell_type": "code",
      "metadata": {
        "colab": {
          "base_uri": "https://localhost:8080/"
        },
        "id": "XeyLgISUD_QH",
        "outputId": "b2a52fa1-f61b-4dfe-fa17-32bf49efd6de"
      },
      "source": [
        "# Rename columns\n",
        "df1 = data_df.withColumnRenamed(\"_c0\", \"class\").withColumnRenamed(\"_c1\", \"text\")\n",
        "df1.printSchema()\n",
        "df1.show()"
      ],
      "execution_count": null,
      "outputs": [
        {
          "output_type": "stream",
          "name": "stdout",
          "text": [
            "root\n",
            " |-- class: string (nullable = true)\n",
            " |-- text: string (nullable = true)\n",
            " |-- length: integer (nullable = true)\n",
            "\n",
            "+--------+--------------------+------+\n",
            "|   class|                text|length|\n",
            "+--------+--------------------+------+\n",
            "|Positive|Blue Shield of Ca...|    80|\n",
            "|Positive|RSX: Russian Equi...|    43|\n",
            "|Positive|XLB: Hold Your Po...|    23|\n",
            "|Positive|Musgrave Minerals...|   101|\n",
            "|Positive|ViacomCBS to rest...|    49|\n",
            "|Positive|Oil climbs to one...|    51|\n",
            "|Negative|Australian regula...|    67|\n",
            "|Positive|The Wall Street J...|    90|\n",
            "|Positive|Ora Banda Mining ...|    50|\n",
            "|Positive|Google Pay Plans ...|    43|\n",
            "|Negative|Toyota, Honda Ang...|    69|\n",
            "| Neutral|ZY Investor Alert...|    44|\n",
            "| Neutral|Calima Energy spu...|    58|\n",
            "|Positive|These Marijuana S...|    56|\n",
            "|Positive|Moderna ETFs to R...|    61|\n",
            "| Neutral|MacroGenics Annou...|    72|\n",
            "| Neutral|Zymeworks Announc...|   173|\n",
            "| Neutral|BioXcel Therapeut...|   130|\n",
            "| Neutral|Merck to Present ...|    80|\n",
            "| Neutral|BeiGene to Presen...|    88|\n",
            "+--------+--------------------+------+\n",
            "only showing top 20 rows\n",
            "\n"
          ]
        }
      ]
    },
    {
      "cell_type": "code",
      "metadata": {
        "colab": {
          "base_uri": "https://localhost:8080/"
        },
        "id": "OuMUmwj-ELdG",
        "outputId": "3d84aee6-145a-4c6f-a413-5670d591be59"
      },
      "source": [
        "from pyspark.ml.feature import Tokenizer, StopWordsRemover, HashingTF, IDF, StringIndexer\n",
        "# Create all the features to the data set\n",
        "pos_neg_to_num = StringIndexer(inputCol='class',outputCol='label')\n",
        "pos_neg_to_num"
      ],
      "execution_count": null,
      "outputs": [
        {
          "output_type": "execute_result",
          "data": {
            "text/plain": [
              "StringIndexer_6cde41d13b14"
            ]
          },
          "metadata": {},
          "execution_count": 7
        }
      ]
    },
    {
      "cell_type": "code",
      "metadata": {
        "id": "CADJpY_qE5lM"
      },
      "source": [
        "# Tokenize DataFrame\n",
        "tokenizer = Tokenizer(inputCol=\"text\", outputCol=\"tokenized\")\n",
        "tokenized = tokenizer.transform(df1)"
      ],
      "execution_count": null,
      "outputs": []
    },
    {
      "cell_type": "code",
      "metadata": {
        "colab": {
          "base_uri": "https://localhost:8080/"
        },
        "id": "XbyThNM0E52c",
        "outputId": "7f07caf2-0520-4c05-84c4-3deef99213bc"
      },
      "source": [
        "# Remove stop words\n",
        "stop_list = [\"Sepp+�l+�\", \"EUR\", \".\", \"%\", \"eur\", \"mn\", \"m\", \"?\", \"$\", \"#\", \"@\"]\n",
        "stopremove = StopWordsRemover(inputCol='tokenized',outputCol='stopremove', stopWords=stop_list)\n",
        "removed_df = stopremove.transform(tokenized)\n",
        "removed_df.show(truncate=False)"
      ],
      "execution_count": null,
      "outputs": [
        {
          "output_type": "stream",
          "name": "stdout",
          "text": [
            "+--------+-----------------------------------------------------------------------------------------------------------------------------------------------------------------------------+------+---------------------------------------------------------------------------------------------------------------------------------------------------------------------------------------------------+---------------------------------------------------------------------------------------------------------------------------------------------------------------------------------------------------+\n",
            "|class   |text                                                                                                                                                                         |length|tokenized                                                                                                                                                                                          |stopremove                                                                                                                                                                                         |\n",
            "+--------+-----------------------------------------------------------------------------------------------------------------------------------------------------------------------------+------+---------------------------------------------------------------------------------------------------------------------------------------------------------------------------------------------------+---------------------------------------------------------------------------------------------------------------------------------------------------------------------------------------------------+\n",
            "|Positive|Blue Shield of California, Walgreens Partner on Personalized Healthcare Solution                                                                                             |80    |[blue, shield, of, california,, walgreens, partner, on, personalized, healthcare, solution]                                                                                                        |[blue, shield, of, california,, walgreens, partner, on, personalized, healthcare, solution]                                                                                                        |\n",
            "|Positive|RSX: Russian Equities Are Still Undervalued                                                                                                                                  |43    |[rsx:, russian, equities, are, still, undervalued]                                                                                                                                                 |[rsx:, russian, equities, are, still, undervalued]                                                                                                                                                 |\n",
            "|Positive|XLB: Hold Your Position                                                                                                                                                      |23    |[xlb:, hold, your, position]                                                                                                                                                                       |[xlb:, hold, your, position]                                                                                                                                                                       |\n",
            "|Positive|Musgrave Minerals broad, near-surface high-grade results open up further Cue gold discovery potential                                                                        |101   |[musgrave, minerals, broad,, near-surface, high-grade, results, open, up, further, cue, gold, discovery, potential]                                                                                |[musgrave, minerals, broad,, near-surface, high-grade, results, open, up, further, cue, gold, discovery, potential]                                                                                |\n",
            "|Positive|ViacomCBS to restructure Paramount Pictures - WSJ                                                                                                                            |49    |[viacomcbs, to, restructure, paramount, pictures, -, wsj]                                                                                                                                          |[viacomcbs, to, restructure, paramount, pictures, -, wsj]                                                                                                                                          |\n",
            "|Positive|Oil climbs to one-week high on U.S. supply concerns                                                                                                                          |51    |[oil, climbs, to, one-week, high, on, u.s., supply, concerns]                                                                                                                                      |[oil, climbs, to, one-week, high, on, u.s., supply, concerns]                                                                                                                                      |\n",
            "|Negative|Australian regulator denies approval for Qantas-Japan Airlines deal                                                                                                          |67    |[australian, regulator, denies, approval, for, qantas-japan, airlines, deal]                                                                                                                       |[australian, regulator, denies, approval, for, qantas-japan, airlines, deal]                                                                                                                       |\n",
            "|Positive|The Wall Street Journal: ViacomCBS revamping Paramount operations, refocusing on streaming                                                                                   |90    |[the, wall, street, journal:, viacomcbs, revamping, paramount, operations,, refocusing, on, streaming]                                                                                             |[the, wall, street, journal:, viacomcbs, revamping, paramount, operations,, refocusing, on, streaming]                                                                                             |\n",
            "|Positive|Ora Banda Mining to receive $11 million for Mt Ida                                                                                                                           |50    |[ora, banda, mining, to, receive, $11, million, for, mt, ida]                                                                                                                                      |[ora, banda, mining, to, receive, $11, million, for, mt, ida]                                                                                                                                      |\n",
            "|Positive|Google Pay Plans Israel Debut by Year's End                                                                                                                                  |43    |[google, pay, plans, israel, debut, by, year's, end]                                                                                                                                               |[google, pay, plans, israel, debut, by, year's, end]                                                                                                                                               |\n",
            "|Negative|Toyota, Honda Angry After Getting Shut Out of Electric Car Tax Credit                                                                                                        |69    |[toyota,, honda, angry, after, getting, shut, out, of, electric, car, tax, credit]                                                                                                                 |[toyota,, honda, angry, after, getting, shut, out, of, electric, car, tax, credit]                                                                                                                 |\n",
            "|Neutral |ZY Investor Alert: Shareholder Lawsuit Filed                                                                                                                                 |44    |[zy, investor, alert:, shareholder, lawsuit, filed]                                                                                                                                                |[zy, investor, alert:, shareholder, lawsuit, filed]                                                                                                                                                |\n",
            "|Neutral |Calima Energy spuds Leo #3 with fracturing just weeks away                                                                                                                   |58    |[calima, energy, spuds, leo, #3, with, fracturing, just, weeks, away]                                                                                                                              |[calima, energy, spuds, leo, #3, with, fracturing, just, weeks, away]                                                                                                                              |\n",
            "|Positive|These Marijuana Stocks May Soon Start To Recover In 2021                                                                                                                     |56    |[these, marijuana, stocks, may, soon, start, to, recover, in, 2021]                                                                                                                                |[these, marijuana, stocks, may, soon, start, to, recover, in, 2021]                                                                                                                                |\n",
            "|Positive|Moderna ETFs to Rally on Two-in-One Vaccine Booster Shot News                                                                                                                |61    |[moderna, etfs, to, rally, on, two-in-one, vaccine, booster, shot, news]                                                                                                                           |[moderna, etfs, to, rally, on, two-in-one, vaccine, booster, shot, news]                                                                                                                           |\n",
            "|Neutral |MacroGenics Announces Presentations at ESMO 2021 Virtual Annual Congress                                                                                                     |72    |[macrogenics, announces, presentations, at, esmo, 2021, virtual, annual, congress]                                                                                                                 |[macrogenics, announces, presentations, at, esmo, 2021, virtual, annual, congress]                                                                                                                 |\n",
            "|Neutral |Zymeworks Announces Abstract for Zanidatamab in First-line HER2-Expressing Gastroesophageal Cancers (GEA) at the European Society for Medical Oncology (ESMO) Annual Congress|173   |[zymeworks, announces, abstract, for, zanidatamab, in, first-line, her2-expressing, gastroesophageal, cancers, (gea), at, the, european, society, for, medical, oncology, (esmo), annual, congress]|[zymeworks, announces, abstract, for, zanidatamab, in, first-line, her2-expressing, gastroesophageal, cancers, (gea), at, the, european, society, for, medical, oncology, (esmo), annual, congress]|\n",
            "|Neutral |BioXcel Therapeutics to Present Updates from Ongoing Trial of BXCL701 in Aggressive Forms of Prostate Cancer at 2021 ESMO Congress                                           |130   |[bioxcel, therapeutics, to, present, updates, from, ongoing, trial, of, bxcl701, in, aggressive, forms, of, prostate, cancer, at, 2021, esmo, congress]                                            |[bioxcel, therapeutics, to, present, updates, from, ongoing, trial, of, bxcl701, in, aggressive, forms, of, prostate, cancer, at, 2021, esmo, congress]                                            |\n",
            "|Neutral |Merck to Present Latest Highlights From Oncology Portfolio at WCLC and ESMO 2021                                                                                             |80    |[merck, to, present, latest, highlights, from, oncology, portfolio, at, wclc, and, esmo, 2021]                                                                                                     |[merck, to, present, latest, highlights, from, oncology, portfolio, at, wclc, and, esmo, 2021]                                                                                                     |\n",
            "|Neutral |BeiGene to Present Latest Findings in Robust Lung Cancer Portfolio at ESMO Congress 2021                                                                                     |88    |[beigene, to, present, latest, findings, in, robust, lung, cancer, portfolio, at, esmo, congress, 2021]                                                                                            |[beigene, to, present, latest, findings, in, robust, lung, cancer, portfolio, at, esmo, congress, 2021]                                                                                            |\n",
            "+--------+-----------------------------------------------------------------------------------------------------------------------------------------------------------------------------+------+---------------------------------------------------------------------------------------------------------------------------------------------------------------------------------------------------+---------------------------------------------------------------------------------------------------------------------------------------------------------------------------------------------------+\n",
            "only showing top 20 rows\n",
            "\n"
          ]
        }
      ]
    },
    {
      "cell_type": "code",
      "metadata": {
        "id": "klnIXcevE5_4"
      },
      "source": [
        "# Run the hashing term frequency\n",
        "hashingTF = HashingTF(inputCol=\"stopremove\", outputCol='hash_token')\n"
      ],
      "execution_count": null,
      "outputs": []
    },
    {
      "cell_type": "code",
      "metadata": {
        "id": "rskIqZduF976"
      },
      "source": [
        "# Fit the IDF on the data set\n",
        "idf = IDF(inputCol='hash_token', outputCol='idf_token')"
      ],
      "execution_count": null,
      "outputs": []
    },
    {
      "cell_type": "code",
      "metadata": {
        "id": "m6eX5jQcGJSP"
      },
      "source": [
        "from pyspark.ml.feature import VectorAssembler\n",
        "from pyspark.ml.linalg import Vector\n",
        "\n",
        "# Create feature vectors\n",
        "clean_up = VectorAssembler(inputCols=['idf_token', 'length'], outputCol='features')"
      ],
      "execution_count": null,
      "outputs": []
    },
    {
      "cell_type": "code",
      "metadata": {
        "id": "FovUHSneGJv6"
      },
      "source": [
        "# Create a and run a data processing Pipeline\n",
        "from pyspark.ml import Pipeline\n",
        "data_prep_pipeline = Pipeline(stages=[pos_neg_to_num, tokenizer, stopremove, hashingTF, idf, clean_up])"
      ],
      "execution_count": null,
      "outputs": []
    },
    {
      "cell_type": "code",
      "metadata": {
        "id": "6K_drFBDGJ2l"
      },
      "source": [
        "# Fit and transform the pipeline\n",
        "cleaner = data_prep_pipeline.fit(df1)\n",
        "cleaned = cleaner.transform(df1)"
      ],
      "execution_count": null,
      "outputs": []
    },
    {
      "cell_type": "code",
      "metadata": {
        "colab": {
          "base_uri": "https://localhost:8080/"
        },
        "id": "DzwG4j-JGPUz",
        "outputId": "7f8b26e3-6353-47da-e233-c885c8ed2657"
      },
      "source": [
        "# Show label and resulting features\n",
        "cleaned.select(['label', 'features']).show()"
      ],
      "execution_count": null,
      "outputs": [
        {
          "output_type": "stream",
          "name": "stdout",
          "text": [
            "+-----+--------------------+\n",
            "|label|            features|\n",
            "+-----+--------------------+\n",
            "|  1.0|(262145,[43204,50...|\n",
            "|  1.0|(262145,[31536,58...|\n",
            "|  1.0|(262145,[619,5765...|\n",
            "|  1.0|(262145,[57093,58...|\n",
            "|  1.0|(262145,[27576,38...|\n",
            "|  1.0|(262145,[15862,27...|\n",
            "|  2.0|(262145,[6993,206...|\n",
            "|  1.0|(262145,[38308,63...|\n",
            "|  1.0|(262145,[22459,27...|\n",
            "|  1.0|(262145,[66208,84...|\n",
            "|  2.0|(262145,[3091,942...|\n",
            "|  0.0|(262145,[102692,1...|\n",
            "|  0.0|(262145,[9129,233...|\n",
            "|  1.0|(262145,[16004,22...|\n",
            "|  1.0|(262145,[27576,49...|\n",
            "|  0.0|(262145,[18731,22...|\n",
            "|  0.0|(262145,[31793,45...|\n",
            "|  0.0|(262145,[1097,216...|\n",
            "|  0.0|(262145,[2690,275...|\n",
            "|  0.0|(262145,[26190,27...|\n",
            "+-----+--------------------+\n",
            "only showing top 20 rows\n",
            "\n"
          ]
        }
      ]
    },
    {
      "cell_type": "code",
      "metadata": {
        "id": "XYWqCBAjGPXH"
      },
      "source": [
        "from pyspark.ml.classification import NaiveBayes\n",
        "# Break data down into a training set and a testing set\n",
        "training, testing = cleaned.randomSplit([0.7, 0.3])\n",
        "\n",
        "# Create a Naive Bayes model and fit training data\n",
        "nb = NaiveBayes()\n",
        "predictor = nb.fit(training)"
      ],
      "execution_count": null,
      "outputs": []
    },
    {
      "cell_type": "code",
      "metadata": {
        "colab": {
          "base_uri": "https://localhost:8080/"
        },
        "id": "XI_HG8a_GPbB",
        "outputId": "9c39a647-8d72-4e77-9be0-3fad8d1dec00"
      },
      "source": [
        "# Tranform the model with the testing data\n",
        "test_results = predictor.transform(testing)\n",
        "test_results.show()"
      ],
      "execution_count": null,
      "outputs": [
        {
          "output_type": "stream",
          "name": "stdout",
          "text": [
            "+--------+--------------------+------+-----+--------------------+--------------------+--------------------+--------------------+--------------------+--------------------+--------------------+----------+\n",
            "|   class|                text|length|label|           tokenized|          stopremove|          hash_token|           idf_token|            features|       rawPrediction|         probability|prediction|\n",
            "+--------+--------------------+------+-----+--------------------+--------------------+--------------------+--------------------+--------------------+--------------------+--------------------+----------+\n",
            "|Negative|2 Super Cheap Hig...|    63|  2.0|[2, super, cheap,...|[2, super, cheap,...|(262144,[12524,19...|(262144,[12524,19...|(262145,[12524,19...|[-652.47336413598...|[0.99996409739599...|       0.0|\n",
            "|Negative|4 Stocks Insiders...|    29|  2.0|[4, stocks, insid...|[4, stocks, insid...|(262144,[22115,58...|(262144,[22115,58...|(262145,[22115,58...|[-300.30268399599...|[2.75778562254927...|       1.0|\n",
            "|Negative|5 Stocks Insiders...|    29|  2.0|[5, stocks, insid...|[5, stocks, insid...|(262144,[22115,58...|(262144,[22115,58...|(262145,[22115,58...|[-294.86571273491...|[1.98288808778253...|       1.0|\n",
            "|Negative|7 Telecom Stocks ...|    36|  2.0|[7, telecom, stoc...|[7, telecom, stoc...|(262144,[49783,51...|(262144,[49783,51...|(262145,[49783,51...|[-455.05365689606...|[1.56797474420675...|       1.0|\n",
            "|Negative|A judge just rule...|    68|  2.0|[a, judge, just, ...|[a, judge, just, ...|(262144,[12219,59...|(262144,[12219,59...|(262145,[12219,59...|[-725.95125585509...|[1.0,1.9795108190...|       0.0|\n",
            "|Negative|AMMO (POWW) Sees ...|    51|  2.0|[ammo, (poww), se...|[ammo, (poww), se...|(262144,[7754,275...|(262144,[7754,275...|(262145,[7754,275...|[-640.06141001841...|[0.99999998699965...|       0.0|\n",
            "|Negative|ASML (ASML) Dips ...|    64|  2.0|[asml, (asml), di...|[asml, (asml), di...|(262144,[49013,50...|(262144,[49013,50...|(262145,[49013,50...|[-645.95421627009...|[1.03297208187120...|       1.0|\n",
            "|Negative|Airlines Uncertai...|    50|  2.0|[airlines, uncert...|[airlines, uncert...|(262144,[6993,275...|(262144,[6993,275...|(262145,[6993,275...|[-392.05698945896...|[0.99999999999999...|       0.0|\n",
            "|Negative|America to Wells ...|    44|  2.0|[america, to, wel...|[america, to, wel...|(262144,[27576,56...|(262144,[27576,56...|(262145,[27576,56...|[-416.56813412211...|[0.99994442906955...|       0.0|\n",
            "|Negative|American Outdoor ...|    55|  2.0|[american, outdoo...|[american, outdoo...|(262144,[45881,65...|(262144,[45881,65...|(262145,[45881,65...|[-527.66587454864...|[5.14896191443848...|       1.0|\n",
            "|Negative|Apellis Pharmaceu...|    90|  2.0|[apellis, pharmac...|[apellis, pharmac...|(262144,[5381,252...|(262144,[5381,252...|(262145,[5381,252...|[-857.86224417451...|[5.30027704075287...|       1.0|\n",
            "|Negative|Apple Must Ease R...|    59|  2.0|[apple, must, eas...|[apple, must, eas...|(262144,[19574,67...|(262144,[19574,67...|(262145,[19574,67...|[-634.67835598961...|[0.99999988176476...|       0.0|\n",
            "|Negative|Apple Ordered to ...|    62|  2.0|[apple, ordered, ...|[apple, ordered, ...|(262144,[27576,89...|(262144,[27576,89...|(262145,[27576,89...|[-603.29497166546...|[1.0,3.1266633789...|       0.0|\n",
            "|Negative|Apple Shares Slid...|    75|  2.0|[apple, shares, s...|[apple, shares, s...|(262144,[19684,38...|(262144,[19684,38...|(262145,[19684,38...|[-685.68924680312...|[0.99999999999999...|       0.0|\n",
            "|Negative|Apple car chief's...|    60|  2.0|[apple, car, chie...|[apple, car, chie...|(262144,[29472,54...|(262144,[29472,54...|(262145,[29472,54...|[-801.41721793324...|[1.81800683304977...|       1.0|\n",
            "|Negative|Apple fires emplo...|   112|  2.0|[apple, fires, em...|[apple, fires, em...|(262144,[8500,385...|(262144,[8500,385...|(262145,[8500,385...|[-1176.9535072921...|[0.99999999996600...|       0.0|\n",
            "|Negative|Apple loses the c...|    63|  2.0|[apple, loses, th...|[apple, loses, th...|(262144,[27576,31...|(262144,[27576,31...|(262145,[27576,31...|[-687.96200295074...|[0.99999999715497...|       0.0|\n",
            "|Negative|Apple ordered to ...|    57|  2.0|[apple, ordered, ...|[apple, ordered, ...|(262144,[5524,209...|(262144,[5524,209...|(262145,[5524,209...|[-599.86151126963...|[0.99999999999999...|       0.0|\n",
            "|Negative|Apple stock falls...|    91|  2.0|[apple, stock, fa...|[apple, stock, fa...|(262144,[18697,27...|(262144,[18697,27...|(262145,[18697,27...|[-798.09286228678...|[1.0,4.5335936998...|       0.0|\n",
            "|Negative|Apple's Car Proje...|    37|  2.0|[apple's, car, pr...|[apple's, car, pr...|(262144,[12219,50...|(262144,[12219,50...|(262145,[12219,50...|[-390.87680520659...|[0.99989306118903...|       0.0|\n",
            "+--------+--------------------+------+-----+--------------------+--------------------+--------------------+--------------------+--------------------+--------------------+--------------------+----------+\n",
            "only showing top 20 rows\n",
            "\n"
          ]
        }
      ]
    },
    {
      "cell_type": "code",
      "metadata": {
        "colab": {
          "base_uri": "https://localhost:8080/"
        },
        "id": "YiY3zhCvGPgn",
        "outputId": "f0ea425d-ae39-4410-83ac-ac09e1d02c05"
      },
      "source": [
        "# Use the Class Evaluator for a cleaner description\n",
        "from pyspark.ml.evaluation import MulticlassClassificationEvaluator\n",
        "\n",
        "acc_eval = MulticlassClassificationEvaluator()\n",
        "acc = acc_eval.evaluate(test_results)\n",
        "print(\"Accuracy of model at predicting reviews was: %f\" % acc)"
      ],
      "execution_count": null,
      "outputs": [
        {
          "output_type": "stream",
          "name": "stdout",
          "text": [
            "Accuracy of model at predicting reviews was: 0.672456\n"
          ]
        }
      ]
    }
  ]
}