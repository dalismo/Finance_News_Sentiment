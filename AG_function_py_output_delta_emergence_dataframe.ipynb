{
 "cells": [
  {
   "cell_type": "code",
   "execution_count": 1,
   "id": "09af4056",
   "metadata": {},
   "outputs": [],
   "source": [
    "from functions import *"
   ]
  },
  {
   "cell_type": "code",
   "execution_count": 2,
   "id": "caa5fc12",
   "metadata": {},
   "outputs": [
    {
     "name": "stderr",
     "output_type": "stream",
     "text": [
      "/Users/albertogonzalez/Desktop/Bootcamp/Finance_News_Sentiment/functions.py:32: SettingWithCopyWarning: \n",
      "A value is trying to be set on a copy of a slice from a DataFrame.\n",
      "Try using .loc[row_indexer,col_indexer] = value instead\n",
      "\n",
      "See the caveats in the documentation: https://pandas.pydata.org/pandas-docs/stable/user_guide/indexing.html#returning-a-view-versus-a-copy\n",
      "  flattened_df1[\"keywords_clean\"] = flattened_df1[\"keywords\"].map(lambda j: re.sub(r'\\W+', '', j))\n",
      "/Users/albertogonzalez/Desktop/Bootcamp/Finance_News_Sentiment/functions.py:55: SettingWithCopyWarning: \n",
      "A value is trying to be set on a copy of a slice from a DataFrame.\n",
      "Try using .loc[row_indexer,col_indexer] = value instead\n",
      "\n",
      "See the caveats in the documentation: https://pandas.pydata.org/pandas-docs/stable/user_guide/indexing.html#returning-a-view-versus-a-copy\n",
      "  precovid_tableau1[\"keywords\"] = precovid_tableau1[\"keywords\"].str.lower()\n"
     ]
    }
   ],
   "source": [
    "x = \"Resources/PREDICTIONS_delta_emerg_to_now_lr_model.csv\"\n",
    "y = \"Resources/delta_emergence_till_now_articles_dates.csv\"\n",
    "z = \"Resources/Tickers_Nested_delta_emerge_to_now.csv\"\n",
    "w = \"Resources/stock_list_tableau.csv\"\n",
    "text_df = clean_tableau(x, y, z, w)"
   ]
  },
  {
   "cell_type": "code",
   "execution_count": null,
   "id": "76745a10",
   "metadata": {},
   "outputs": [],
   "source": [
    "text_df"
   ]
  },
  {
   "cell_type": "code",
   "execution_count": null,
   "id": "a3308e84",
   "metadata": {},
   "outputs": [],
   "source": [
    "text_df.to_csv(\"Resources/delta_emergence_Tableau.csv\")"
   ]
  },
  {
   "cell_type": "code",
   "execution_count": null,
   "id": "5811111e",
   "metadata": {},
   "outputs": [],
   "source": []
  }
 ],
 "metadata": {
  "kernelspec": {
   "display_name": "Python 3",
   "language": "python",
   "name": "python3"
  },
  "language_info": {
   "codemirror_mode": {
    "name": "ipython",
    "version": 3
   },
   "file_extension": ".py",
   "mimetype": "text/x-python",
   "name": "python",
   "nbconvert_exporter": "python",
   "pygments_lexer": "ipython3",
   "version": "3.8.8"
  }
 },
 "nbformat": 4,
 "nbformat_minor": 5
}
