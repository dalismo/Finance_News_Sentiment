{
  "nbformat": 4,
  "nbformat_minor": 5,
  "metadata": {
    "kernelspec": {
      "display_name": "Python 3",
      "language": "python",
      "name": "python3"
    },
    "language_info": {
      "codemirror_mode": {
        "name": "ipython",
        "version": 3
      },
      "file_extension": ".py",
      "mimetype": "text/x-python",
      "name": "python",
      "nbconvert_exporter": "python",
      "pygments_lexer": "ipython3",
      "version": "3.8.8"
    },
    "colab": {
      "name": "2.3_pre-vax_prediction_counts_to_csv.ipynb",
      "provenance": [],
      "collapsed_sections": [],
      "include_colab_link": true
    }
  },
  "cells": [
    {
      "cell_type": "markdown",
      "metadata": {
        "id": "view-in-github",
        "colab_type": "text"
      },
      "source": [
        "<a href=\"https://colab.research.google.com/github/dalismo/Finance_News_Sentiment/blob/ai%2Fall_covid_stage_api_pull_run_machine/2_3_pre_vax_prediction_counts_to_csv.ipynb\" target=\"_parent\"><img src=\"https://colab.research.google.com/assets/colab-badge.svg\" alt=\"Open In Colab\"/></a>"
      ]
    },
    {
      "cell_type": "code",
      "metadata": {
        "colab": {
          "base_uri": "https://localhost:8080/"
        },
        "id": "b7676daf",
        "outputId": "2cc20619-5ebb-4a8d-eeea-80285764503e"
      },
      "source": [
        "import pandas as pd\n",
        "\n",
        "import os\n",
        "# Find the latest version of spark 3.0  from http://www.apache.org/dist/spark/ and enter as the spark version\n",
        "# For example:\n",
        "# spark_version = 'spark-3.0.3'\n",
        "spark_version = 'spark-3.0.3'\n",
        "os.environ['SPARK_VERSION']=spark_version\n",
        "\n",
        "# Install Spark and Java\n",
        "!apt-get update\n",
        "!apt-get install openjdk-11-jdk-headless -qq > /dev/null\n",
        "!wget -q http://www.apache.org/dist/spark/$SPARK_VERSION/$SPARK_VERSION-bin-hadoop2.7.tgz\n",
        "!tar xf $SPARK_VERSION-bin-hadoop2.7.tgz\n",
        "!pip install -q findspark\n",
        "\n",
        "# Set Environment Variables\n",
        "os.environ[\"JAVA_HOME\"] = \"/usr/lib/jvm/java-11-openjdk-amd64\"\n",
        "os.environ[\"SPARK_HOME\"] = f\"/content/{spark_version}-bin-hadoop2.7\"\n",
        "\n",
        "# Start a SparkSession\n",
        "import findspark\n",
        "findspark.init()"
      ],
      "id": "b7676daf",
      "execution_count": 1,
      "outputs": [
        {
          "output_type": "stream",
          "name": "stdout",
          "text": [
            "\r0% [Working]\r            \rIgn:1 https://developer.download.nvidia.com/compute/cuda/repos/ubuntu1804/x86_64  InRelease\n",
            "Get:2 http://security.ubuntu.com/ubuntu bionic-security InRelease [88.7 kB]\n",
            "Ign:3 https://developer.download.nvidia.com/compute/machine-learning/repos/ubuntu1804/x86_64  InRelease\n",
            "Get:4 https://developer.download.nvidia.com/compute/cuda/repos/ubuntu1804/x86_64  Release [696 B]\n",
            "Get:5 http://ppa.launchpad.net/c2d4u.team/c2d4u4.0+/ubuntu bionic InRelease [15.9 kB]\n",
            "Hit:6 https://developer.download.nvidia.com/compute/machine-learning/repos/ubuntu1804/x86_64  Release\n",
            "Get:7 https://developer.download.nvidia.com/compute/cuda/repos/ubuntu1804/x86_64  Release.gpg [836 B]\n",
            "Get:8 https://cloud.r-project.org/bin/linux/ubuntu bionic-cran40/ InRelease [3,626 B]\n",
            "Hit:9 http://archive.ubuntu.com/ubuntu bionic InRelease\n",
            "Get:10 http://archive.ubuntu.com/ubuntu bionic-updates InRelease [88.7 kB]\n",
            "Hit:11 http://ppa.launchpad.net/cran/libgit2/ubuntu bionic InRelease\n",
            "Get:12 http://ppa.launchpad.net/deadsnakes/ppa/ubuntu bionic InRelease [15.9 kB]\n",
            "Get:13 http://security.ubuntu.com/ubuntu bionic-security/universe amd64 Packages [1,428 kB]\n",
            "Get:14 http://archive.ubuntu.com/ubuntu bionic-backports InRelease [74.6 kB]\n",
            "Get:15 http://security.ubuntu.com/ubuntu bionic-security/main amd64 Packages [2,324 kB]\n",
            "Hit:16 http://ppa.launchpad.net/graphics-drivers/ppa/ubuntu bionic InRelease\n",
            "Get:17 http://security.ubuntu.com/ubuntu bionic-security/restricted amd64 Packages [567 kB]\n",
            "Get:19 https://developer.download.nvidia.com/compute/cuda/repos/ubuntu1804/x86_64  Packages [717 kB]\n",
            "Get:20 http://ppa.launchpad.net/c2d4u.team/c2d4u4.0+/ubuntu bionic/main Sources [1,799 kB]\n",
            "Get:21 http://ppa.launchpad.net/c2d4u.team/c2d4u4.0+/ubuntu bionic/main amd64 Packages [921 kB]\n",
            "Get:22 http://archive.ubuntu.com/ubuntu bionic-updates/main amd64 Packages [2,760 kB]\n",
            "Get:23 http://ppa.launchpad.net/deadsnakes/ppa/ubuntu bionic/main amd64 Packages [40.8 kB]\n",
            "Get:24 http://archive.ubuntu.com/ubuntu bionic-updates/restricted amd64 Packages [600 kB]\n",
            "Get:25 http://archive.ubuntu.com/ubuntu bionic-updates/universe amd64 Packages [2,202 kB]\n",
            "Fetched 13.6 MB in 7s (1,863 kB/s)\n",
            "Reading package lists... Done\n"
          ]
        }
      ]
    },
    {
      "cell_type": "code",
      "metadata": {
        "id": "CvoLwz9S0gwE"
      },
      "source": [
        "# Start Spark session\n",
        "from pyspark.sql import SparkSession\n",
        "# spark = SparkSession.builder.appName(\"StopWords\").getOrCreate()\n",
        "spark = SparkSession.builder.appName(\"Fin-sent-count-vector\").getOrCreate()"
      ],
      "id": "CvoLwz9S0gwE",
      "execution_count": 2,
      "outputs": []
    },
    {
      "cell_type": "code",
      "metadata": {
        "id": "69qSAC1R1EgS"
      },
      "source": [
        "from pyspark.ml.feature import Tokenizer, StopWordsRemover"
      ],
      "id": "69qSAC1R1EgS",
      "execution_count": 3,
      "outputs": []
    },
    {
      "cell_type": "code",
      "metadata": {
        "colab": {
          "base_uri": "https://localhost:8080/"
        },
        "id": "mODaD0re3ulm",
        "outputId": "413db41a-1928-46b9-95c6-550166928847"
      },
      "source": [
        "# Read in data from S3 Buckets\n",
        "from pyspark import SparkFiles\n",
        "\n",
        "url = 'https://raw.githubusercontent.com/dalismo/Finance_News_Sentiment/main/Resources/sentiment-train.csv'\n",
        "# df = pd.read_csv(url,encoding='latin-1', header=None)\n",
        "# url =\"https://s3.amazonaws.com/dataviz-curriculum/day_2/yelp_reviews.csv\"\n",
        "spark.sparkContext.addFile(url)\n",
        "df = spark.read.csv(SparkFiles.get(\"sentiment-train.csv\"), sep=\",\", header=None)\n",
        "\n",
        "\n",
        "\n",
        "# Show DataFrame\n",
        "df.show(5, truncate=False)\n"
      ],
      "id": "mODaD0re3ulm",
      "execution_count": 4,
      "outputs": [
        {
          "output_type": "stream",
          "name": "stdout",
          "text": [
            "+--------+-----------------------------------------------------------------------------------------------------+\n",
            "|_c0     |_c1                                                                                                  |\n",
            "+--------+-----------------------------------------------------------------------------------------------------+\n",
            "|Positive|Autodesk Is Down 15% After Q2 Earnings -- Is This a Buying Opportunity?                              |\n",
            "|Positive|Blue Shield of California, Walgreens Partner on Personalized Healthcare Solution                     |\n",
            "|Positive|RSX: Russian Equities Are Still Undervalued                                                          |\n",
            "|Positive|XLB: Hold Your Position                                                                              |\n",
            "|Positive|Musgrave Minerals broad, near-surface high-grade results open up further Cue gold discovery potential|\n",
            "+--------+-----------------------------------------------------------------------------------------------------+\n",
            "only showing top 5 rows\n",
            "\n"
          ]
        }
      ]
    },
    {
      "cell_type": "code",
      "metadata": {
        "colab": {
          "base_uri": "https://localhost:8080/"
        },
        "id": "4BbzYExyNYCR",
        "outputId": "525ff500-f80d-4aae-f214-9517868ff6b5"
      },
      "source": [
        "from pyspark.sql.functions import length\n",
        "# Create a length column to be used as a future feature \n",
        "data_df = df.withColumn('length', length(df['_c1']))\n",
        "data_df.show()"
      ],
      "id": "4BbzYExyNYCR",
      "execution_count": 5,
      "outputs": [
        {
          "output_type": "stream",
          "name": "stdout",
          "text": [
            "+--------+--------------------+------+\n",
            "|     _c0|                 _c1|length|\n",
            "+--------+--------------------+------+\n",
            "|Positive|Autodesk Is Down ...|    71|\n",
            "|Positive|Blue Shield of Ca...|    80|\n",
            "|Positive|RSX: Russian Equi...|    43|\n",
            "|Positive|XLB: Hold Your Po...|    23|\n",
            "|Positive|Musgrave Minerals...|   101|\n",
            "|Positive|ViacomCBS to rest...|    49|\n",
            "|Positive|Oil climbs to one...|    51|\n",
            "|Negative|Australian regula...|    67|\n",
            "|Positive|The Wall Street J...|    90|\n",
            "|Positive|Ora Banda Mining ...|    50|\n",
            "|Positive|Google Pay Plans ...|    43|\n",
            "|Negative|Toyota, Honda Ang...|    69|\n",
            "| Neutral|ZY Investor Alert...|    44|\n",
            "| Neutral|Calima Energy spu...|    58|\n",
            "|Positive|These Marijuana S...|    56|\n",
            "|Positive|Moderna ETFs to R...|    61|\n",
            "| Neutral|MacroGenics Annou...|    72|\n",
            "| Neutral|Zymeworks Announc...|   173|\n",
            "| Neutral|BioXcel Therapeut...|   130|\n",
            "| Neutral|Merck to Present ...|    80|\n",
            "+--------+--------------------+------+\n",
            "only showing top 20 rows\n",
            "\n"
          ]
        }
      ]
    },
    {
      "cell_type": "code",
      "metadata": {
        "colab": {
          "base_uri": "https://localhost:8080/"
        },
        "id": "HiCnjIddrflT",
        "outputId": "989367f6-3d92-4fd3-84c2-4bc6ca15c6ea"
      },
      "source": [
        "df2 = data_df.withColumnRenamed(\"_c0\", \"class\").withColumnRenamed(\"_c1\", \"text\")\n",
        "df2.printSchema()\n",
        "df2.show(20, truncate = False)\n"
      ],
      "id": "HiCnjIddrflT",
      "execution_count": 6,
      "outputs": [
        {
          "output_type": "stream",
          "name": "stdout",
          "text": [
            "root\n",
            " |-- class: string (nullable = true)\n",
            " |-- text: string (nullable = true)\n",
            " |-- length: integer (nullable = true)\n",
            "\n",
            "+--------+-----------------------------------------------------------------------------------------------------------------------------------------------------------------------------+------+\n",
            "|class   |text                                                                                                                                                                         |length|\n",
            "+--------+-----------------------------------------------------------------------------------------------------------------------------------------------------------------------------+------+\n",
            "|Positive|Autodesk Is Down 15% After Q2 Earnings -- Is This a Buying Opportunity?                                                                                                      |71    |\n",
            "|Positive|Blue Shield of California, Walgreens Partner on Personalized Healthcare Solution                                                                                             |80    |\n",
            "|Positive|RSX: Russian Equities Are Still Undervalued                                                                                                                                  |43    |\n",
            "|Positive|XLB: Hold Your Position                                                                                                                                                      |23    |\n",
            "|Positive|Musgrave Minerals broad, near-surface high-grade results open up further Cue gold discovery potential                                                                        |101   |\n",
            "|Positive|ViacomCBS to restructure Paramount Pictures - WSJ                                                                                                                            |49    |\n",
            "|Positive|Oil climbs to one-week high on U.S. supply concerns                                                                                                                          |51    |\n",
            "|Negative|Australian regulator denies approval for Qantas-Japan Airlines deal                                                                                                          |67    |\n",
            "|Positive|The Wall Street Journal: ViacomCBS revamping Paramount operations, refocusing on streaming                                                                                   |90    |\n",
            "|Positive|Ora Banda Mining to receive $11 million for Mt Ida                                                                                                                           |50    |\n",
            "|Positive|Google Pay Plans Israel Debut by Year's End                                                                                                                                  |43    |\n",
            "|Negative|Toyota, Honda Angry After Getting Shut Out of Electric Car Tax Credit                                                                                                        |69    |\n",
            "|Neutral |ZY Investor Alert: Shareholder Lawsuit Filed                                                                                                                                 |44    |\n",
            "|Neutral |Calima Energy spuds Leo #3 with fracturing just weeks away                                                                                                                   |58    |\n",
            "|Positive|These Marijuana Stocks May Soon Start To Recover In 2021                                                                                                                     |56    |\n",
            "|Positive|Moderna ETFs to Rally on Two-in-One Vaccine Booster Shot News                                                                                                                |61    |\n",
            "|Neutral |MacroGenics Announces Presentations at ESMO 2021 Virtual Annual Congress                                                                                                     |72    |\n",
            "|Neutral |Zymeworks Announces Abstract for Zanidatamab in First-line HER2-Expressing Gastroesophageal Cancers (GEA) at the European Society for Medical Oncology (ESMO) Annual Congress|173   |\n",
            "|Neutral |BioXcel Therapeutics to Present Updates from Ongoing Trial of BXCL701 in Aggressive Forms of Prostate Cancer at 2021 ESMO Congress                                           |130   |\n",
            "|Neutral |Merck to Present Latest Highlights From Oncology Portfolio at WCLC and ESMO 2021                                                                                             |80    |\n",
            "+--------+-----------------------------------------------------------------------------------------------------------------------------------------------------------------------------+------+\n",
            "only showing top 20 rows\n",
            "\n"
          ]
        }
      ]
    },
    {
      "cell_type": "code",
      "metadata": {
        "colab": {
          "base_uri": "https://localhost:8080/"
        },
        "id": "8tMPNronWpK1",
        "outputId": "8a95010d-e12f-4432-d029-bb3a98ca9b5a"
      },
      "source": [
        "df2.createOrReplaceTempView('temp')\n",
        "df3 = spark.sql('select case class when \"Positive\" then 1.0  when \"Negative\" then 2.0 else 0 end as label, text from temp')\n",
        "df3.show(20, truncate = False)"
      ],
      "id": "8tMPNronWpK1",
      "execution_count": 7,
      "outputs": [
        {
          "output_type": "stream",
          "name": "stdout",
          "text": [
            "+-----+-----------------------------------------------------------------------------------------------------------------------------------------------------------------------------+\n",
            "|label|text                                                                                                                                                                         |\n",
            "+-----+-----------------------------------------------------------------------------------------------------------------------------------------------------------------------------+\n",
            "|1.0  |Autodesk Is Down 15% After Q2 Earnings -- Is This a Buying Opportunity?                                                                                                      |\n",
            "|1.0  |Blue Shield of California, Walgreens Partner on Personalized Healthcare Solution                                                                                             |\n",
            "|1.0  |RSX: Russian Equities Are Still Undervalued                                                                                                                                  |\n",
            "|1.0  |XLB: Hold Your Position                                                                                                                                                      |\n",
            "|1.0  |Musgrave Minerals broad, near-surface high-grade results open up further Cue gold discovery potential                                                                        |\n",
            "|1.0  |ViacomCBS to restructure Paramount Pictures - WSJ                                                                                                                            |\n",
            "|1.0  |Oil climbs to one-week high on U.S. supply concerns                                                                                                                          |\n",
            "|2.0  |Australian regulator denies approval for Qantas-Japan Airlines deal                                                                                                          |\n",
            "|1.0  |The Wall Street Journal: ViacomCBS revamping Paramount operations, refocusing on streaming                                                                                   |\n",
            "|1.0  |Ora Banda Mining to receive $11 million for Mt Ida                                                                                                                           |\n",
            "|1.0  |Google Pay Plans Israel Debut by Year's End                                                                                                                                  |\n",
            "|2.0  |Toyota, Honda Angry After Getting Shut Out of Electric Car Tax Credit                                                                                                        |\n",
            "|0.0  |ZY Investor Alert: Shareholder Lawsuit Filed                                                                                                                                 |\n",
            "|0.0  |Calima Energy spuds Leo #3 with fracturing just weeks away                                                                                                                   |\n",
            "|1.0  |These Marijuana Stocks May Soon Start To Recover In 2021                                                                                                                     |\n",
            "|1.0  |Moderna ETFs to Rally on Two-in-One Vaccine Booster Shot News                                                                                                                |\n",
            "|0.0  |MacroGenics Announces Presentations at ESMO 2021 Virtual Annual Congress                                                                                                     |\n",
            "|0.0  |Zymeworks Announces Abstract for Zanidatamab in First-line HER2-Expressing Gastroesophageal Cancers (GEA) at the European Society for Medical Oncology (ESMO) Annual Congress|\n",
            "|0.0  |BioXcel Therapeutics to Present Updates from Ongoing Trial of BXCL701 in Aggressive Forms of Prostate Cancer at 2021 ESMO Congress                                           |\n",
            "|0.0  |Merck to Present Latest Highlights From Oncology Portfolio at WCLC and ESMO 2021                                                                                             |\n",
            "+-----+-----------------------------------------------------------------------------------------------------------------------------------------------------------------------------+\n",
            "only showing top 20 rows\n",
            "\n"
          ]
        }
      ]
    },
    {
      "cell_type": "code",
      "metadata": {
        "colab": {
          "base_uri": "https://localhost:8080/"
        },
        "id": "j89il24uZ-s_",
        "outputId": "e03938f2-af0e-4f29-ae8c-b5cc954e7065"
      },
      "source": [
        "from pyspark.ml.feature import  Tokenizer\n",
        "tokenizer = Tokenizer(inputCol=\"text\", outputCol=\"words\")\n",
        "wordsData = tokenizer.transform(df3)\n",
        "wordsData.show()"
      ],
      "id": "j89il24uZ-s_",
      "execution_count": 8,
      "outputs": [
        {
          "output_type": "stream",
          "name": "stdout",
          "text": [
            "+-----+--------------------+--------------------+\n",
            "|label|                text|               words|\n",
            "+-----+--------------------+--------------------+\n",
            "|  1.0|Autodesk Is Down ...|[autodesk, is, do...|\n",
            "|  1.0|Blue Shield of Ca...|[blue, shield, of...|\n",
            "|  1.0|RSX: Russian Equi...|[rsx:, russian, e...|\n",
            "|  1.0|XLB: Hold Your Po...|[xlb:, hold, your...|\n",
            "|  1.0|Musgrave Minerals...|[musgrave, minera...|\n",
            "|  1.0|ViacomCBS to rest...|[viacomcbs, to, r...|\n",
            "|  1.0|Oil climbs to one...|[oil, climbs, to,...|\n",
            "|  2.0|Australian regula...|[australian, regu...|\n",
            "|  1.0|The Wall Street J...|[the, wall, stree...|\n",
            "|  1.0|Ora Banda Mining ...|[ora, banda, mini...|\n",
            "|  1.0|Google Pay Plans ...|[google, pay, pla...|\n",
            "|  2.0|Toyota, Honda Ang...|[toyota,, honda, ...|\n",
            "|  0.0|ZY Investor Alert...|[zy, investor, al...|\n",
            "|  0.0|Calima Energy spu...|[calima, energy, ...|\n",
            "|  1.0|These Marijuana S...|[these, marijuana...|\n",
            "|  1.0|Moderna ETFs to R...|[moderna, etfs, t...|\n",
            "|  0.0|MacroGenics Annou...|[macrogenics, ann...|\n",
            "|  0.0|Zymeworks Announc...|[zymeworks, annou...|\n",
            "|  0.0|BioXcel Therapeut...|[bioxcel, therape...|\n",
            "|  0.0|Merck to Present ...|[merck, to, prese...|\n",
            "+-----+--------------------+--------------------+\n",
            "only showing top 20 rows\n",
            "\n"
          ]
        }
      ]
    },
    {
      "cell_type": "code",
      "metadata": {
        "colab": {
          "base_uri": "https://localhost:8080/"
        },
        "id": "ZlhgmA2GaNHX",
        "outputId": "09533a22-a654-416c-c26c-423f99a90075"
      },
      "source": [
        "from pyspark.ml.feature import CountVectorizer\n",
        "count = CountVectorizer (inputCol=\"words\", outputCol=\"rawFeatures\")\n",
        "model = count.fit(wordsData)\n",
        "featurizedData = model.transform(wordsData)\n",
        "featurizedData.show()"
      ],
      "id": "ZlhgmA2GaNHX",
      "execution_count": 9,
      "outputs": [
        {
          "output_type": "stream",
          "name": "stdout",
          "text": [
            "+-----+--------------------+--------------------+--------------------+\n",
            "|label|                text|               words|         rawFeatures|\n",
            "+-----+--------------------+--------------------+--------------------+\n",
            "|  1.0|Autodesk Is Down ...|[autodesk, is, do...|(11788,[6,9,19,37...|\n",
            "|  1.0|Blue Shield of Ca...|[blue, shield, of...|(11788,[2,7,177,5...|\n",
            "|  1.0|RSX: Russian Equi...|[rsx:, russian, e...|(11788,[48,262,63...|\n",
            "|  1.0|XLB: Hold Your Po...|[xlb:, hold, your...|(11788,[158,335,1...|\n",
            "|  1.0|Musgrave Minerals...|[musgrave, minera...|(11788,[26,49,89,...|\n",
            "|  1.0|ViacomCBS to rest...|[viacomcbs, to, r...|(11788,[0,34,1891...|\n",
            "|  1.0|Oil climbs to one...|[oil, climbs, to,...|(11788,[0,7,100,1...|\n",
            "|  2.0|Australian regula...|[australian, regu...|(11788,[5,175,179...|\n",
            "|  1.0|The Wall Street J...|[the, wall, stree...|(11788,[1,7,292,4...|\n",
            "|  1.0|Ora Banda Mining ...|[ora, banda, mini...|(11788,[0,5,72,32...|\n",
            "|  1.0|Google Pay Plans ...|[google, pay, pla...|(11788,[75,217,26...|\n",
            "|  2.0|Toyota, Honda Ang...|[toyota,, honda, ...|(11788,[2,65,230,...|\n",
            "|  0.0|ZY Investor Alert...|[zy, investor, al...|(11788,[43,44,63,...|\n",
            "|  0.0|Calima Energy spu...|[calima, energy, ...|(11788,[10,83,338...|\n",
            "|  1.0|These Marijuana S...|[these, marijuana...|(11788,[0,3,13,18...|\n",
            "|  1.0|Moderna ETFs to R...|[moderna, etfs, t...|(11788,[0,7,172,2...|\n",
            "|  0.0|MacroGenics Annou...|[macrogenics, ann...|(11788,[11,12,13,...|\n",
            "|  0.0|Zymeworks Announc...|[zymeworks, annou...|(11788,[1,3,5,11,...|\n",
            "|  0.0|BioXcel Therapeut...|[bioxcel, therape...|(11788,[0,2,3,12,...|\n",
            "|  0.0|Merck to Present ...|[merck, to, prese...|(11788,[0,4,12,13...|\n",
            "+-----+--------------------+--------------------+--------------------+\n",
            "only showing top 20 rows\n",
            "\n"
          ]
        }
      ]
    },
    {
      "cell_type": "code",
      "metadata": {
        "colab": {
          "base_uri": "https://localhost:8080/"
        },
        "id": "pj4m9hLsaV_G",
        "outputId": "06727376-07b1-490e-e377-2c68134dbdb1"
      },
      "source": [
        "from pyspark.ml.feature import  IDF\n",
        "#IDF down-weighs features which appear frequently in a corpus. This generally improves performance when using text as features since most frequent, and hence less important words, get down-weighed.\n",
        "idf = IDF(inputCol=\"rawFeatures\", outputCol=\"features\")\n",
        "idfModel = idf.fit(featurizedData)\n",
        "rescaledData = idfModel.transform(featurizedData)\n",
        "rescaledData.select(\"label\", \"features\").show()  \n",
        "# We want only the label and features columns for our machine learning models"
      ],
      "id": "pj4m9hLsaV_G",
      "execution_count": 10,
      "outputs": [
        {
          "output_type": "stream",
          "name": "stdout",
          "text": [
            "+-----+--------------------+\n",
            "|label|            features|\n",
            "+-----+--------------------+\n",
            "|  1.0|(11788,[6,9,19,37...|\n",
            "|  1.0|(11788,[2,7,177,5...|\n",
            "|  1.0|(11788,[48,262,63...|\n",
            "|  1.0|(11788,[158,335,1...|\n",
            "|  1.0|(11788,[26,49,89,...|\n",
            "|  1.0|(11788,[0,34,1891...|\n",
            "|  1.0|(11788,[0,7,100,1...|\n",
            "|  2.0|(11788,[5,175,179...|\n",
            "|  1.0|(11788,[1,7,292,4...|\n",
            "|  1.0|(11788,[0,5,72,32...|\n",
            "|  1.0|(11788,[75,217,26...|\n",
            "|  2.0|(11788,[2,65,230,...|\n",
            "|  0.0|(11788,[43,44,63,...|\n",
            "|  0.0|(11788,[10,83,338...|\n",
            "|  1.0|(11788,[0,3,13,18...|\n",
            "|  1.0|(11788,[0,7,172,2...|\n",
            "|  0.0|(11788,[11,12,13,...|\n",
            "|  0.0|(11788,[1,3,5,11,...|\n",
            "|  0.0|(11788,[0,2,3,12,...|\n",
            "|  0.0|(11788,[0,4,12,13...|\n",
            "+-----+--------------------+\n",
            "only showing top 20 rows\n",
            "\n"
          ]
        }
      ]
    },
    {
      "cell_type": "code",
      "metadata": {
        "id": "gvprtx9Vaed2"
      },
      "source": [
        "seed = 0  # set seed for reproducibility\n",
        "trainDF, testDF = rescaledData.randomSplit([0.8,0.2],seed)"
      ],
      "id": "gvprtx9Vaed2",
      "execution_count": 11,
      "outputs": []
    },
    {
      "cell_type": "code",
      "metadata": {
        "colab": {
          "base_uri": "https://localhost:8080/"
        },
        "id": "jx1mwMzJagt5",
        "outputId": "b4daa405-53f9-4e44-c39e-d8d23b1cd153"
      },
      "source": [
        "trainDF.count()"
      ],
      "id": "jx1mwMzJagt5",
      "execution_count": 12,
      "outputs": [
        {
          "output_type": "execute_result",
          "data": {
            "text/plain": [
              "3965"
            ]
          },
          "metadata": {},
          "execution_count": 12
        }
      ]
    },
    {
      "cell_type": "code",
      "metadata": {
        "colab": {
          "base_uri": "https://localhost:8080/"
        },
        "id": "uPmhzGFBqCNC",
        "outputId": "5482a100-14ed-4c9c-f725-ff6cbe9fe09d"
      },
      "source": [
        "trainDF.show(truncate=False)"
      ],
      "id": "uPmhzGFBqCNC",
      "execution_count": 13,
      "outputs": [
        {
          "output_type": "stream",
          "name": "stdout",
          "text": [
            "+-----+--------------------------------------------------------------------------------------------------------------------------------------------------------------------------------+------------------------------------------------------------------------------------------------------------------------------------------------------------------------------------------------------------------+---------------------------------------------------------------------------------------------------------------------------------------------------------------------------------------------------------------------------------------------------------------------------+-----------------------------------------------------------------------------------------------------------------------------------------------------------------------------------------------------------------------------------------------------------------------------------------------------------------------------------------------------------------------------------------------------------------------------------------------------------------------------------------------------------------------------------------------------------------------------------------------------------------------------------------------------------------------------------------------------------------------------------+\n",
            "|label|text                                                                                                                                                                            |words                                                                                                                                                                                                             |rawFeatures                                                                                                                                                                                                                                                                |features                                                                                                                                                                                                                                                                                                                                                                                                                                                                                                                                                                                                                                                                                                                           |\n",
            "+-----+--------------------------------------------------------------------------------------------------------------------------------------------------------------------------------+------------------------------------------------------------------------------------------------------------------------------------------------------------------------------------------------------------------+---------------------------------------------------------------------------------------------------------------------------------------------------------------------------------------------------------------------------------------------------------------------------+-----------------------------------------------------------------------------------------------------------------------------------------------------------------------------------------------------------------------------------------------------------------------------------------------------------------------------------------------------------------------------------------------------------------------------------------------------------------------------------------------------------------------------------------------------------------------------------------------------------------------------------------------------------------------------------------------------------------------------------+\n",
            "|0.0  |\"ASSA ABLOY to acquire Hardware and Home Improvement (\"\"HHI\"\") division of Spectrum Brands\"                                                                                     |[\"assa, abloy, to, acquire, hardware, and, home, improvement, (\"\"hhi\"\"), division, of, spectrum, brands\"]                                                                                                         |(11788,[0,2,4,313,371,418,902,1337,1545,4656,5479,5495,7907],[1.0,1.0,1.0,1.0,1.0,1.0,1.0,1.0,1.0,1.0,1.0,1.0,1.0])                                                                                                                                                        |(11788,[0,2,4,313,371,418,902,1337,1545,4656,5479,5495,7907],[1.2271002889723068,1.755820402614848,1.939531813697857,5.298517346550703,5.472870733695481,5.572954192252463,6.214808078424858,6.571483022363591,6.725633702190849,7.418780882750794,7.824245990858959,7.824245990858959,7.824245990858959])                                                                                                                                                                                                                                                                                                                                                                                                                         |\n",
            "|0.0  |\"BofA Unveils \"\"VAM 2.0\"\"                                                                                                                                                       |[\"bofa, unveils, \"\"vam, 2.0\"\"]                                                                                                                                                                                    |(11788,[399,7222,9292,10963],[1.0,1.0,1.0,1.0])                                                                                                                                                                                                                            |(11788,[399,7222,9292,10963],[5.521660897864913,7.824245990858959,7.824245990858959,7.824245990858959])                                                                                                                                                                                                                                                                                                                                                                                                                                                                                                                                                                                                                            |\n",
            "|0.0  |\"CP Offer for KCS Declared \"\"Company Superior Proposal\"\" by KCS Board\"                                                                                                          |[\"cp, offer, for, kcs, declared, \"\"company, superior, proposal\"\", by, kcs, board\"]                                                                                                                                |(11788,[5,75,344,1400,2928,2994,5426,9691,10783,11221],[1.0,1.0,1.0,1.0,2.0,1.0,1.0,1.0,1.0,1.0])                                                                                                                                                                          |(11788,[5,75,344,1400,2928,2994,5426,9691,10783,11221],[2.002680480546374,4.017583501088638,5.381898955489754,6.725633702190849,14.837561765501588,7.418780882750794,7.824245990858959,7.824245990858959,7.824245990858959,7.824245990858959])                                                                                                                                                                                                                                                                                                                                                                                                                                                                                     |\n",
            "|0.0  |\"Cumulus Podcast Network's Just Getting Started With Rich Eisen To Feature Special Fall 2021 Series \"\"Voices Of Football\"\"\"                                                     |[\"cumulus, podcast, network's, just, getting, started, with, rich, eisen, to, feature, special, fall, 2021, series, \"\"voices, of, football\"\"\"]                                                                    |(11788,[0,2,10,13,338,364,710,821,891,1064,2134,2452,2465,5005,5760,5919,6472,10385],[1.0,1.0,1.0,1.0,1.0,1.0,1.0,1.0,1.0,1.0,1.0,1.0,1.0,1.0,1.0,1.0,1.0,1.0])                                                                                                            |(11788,[0,2,10,13,338,364,710,821,891,1064,2134,2452,2465,5005,5760,5919,6472,10385],[1.2271002889723068,1.755820402614848,2.423823401373768,2.5209410827998826,5.381898955489754,5.426350718060588,6.1194978986205335,6.1194978986205335,6.214808078424858,6.437951629739068,6.907955258984804,7.131098810299013,7.131098810299013,7.824245990858959,7.824245990858959,7.824245990858959,7.824245990858959,7.824245990858959])                                                                                                                                                                                                                                                                                                    |\n",
            "|0.0  |\"Epic Games asks Apple to allow \"\"Fortnite\"\" to return in South Korea\"                                                                                                          |[\"epic, games, asks, apple, to, allow, \"\"fortnite\"\", to, return, in, south, korea\"]                                                                                                                               |(11788,[0,3,86,278,397,978,1165,1388,4254,9735,10156],[2.0,1.0,1.0,1.0,1.0,1.0,1.0,1.0,1.0,1.0,1.0])                                                                                                                                                                       |(11788,[0,3,86,278,397,978,1165,1388,4254,9735,10156],[2.4542005779446137,1.8117540765589006,4.186659831132572,5.1851886612437,5.521660897864913,6.320168594082684,6.437951629739068,6.571483022363591,7.418780882750794,7.824245990858959,7.824245990858959])                                                                                                                                                                                                                                                                                                                                                                                                                                                                     |\n",
            "|0.0  |\"Great Bear Provides Complete Assays from Central LP Fault \"\"Auro2\"\" High-Grade Gold Domain and Update on Geological Modelling\"                                                 |[\"great, bear, provides, complete, assays, from, central, lp, fault, \"\"auro2\"\", high-grade, gold, domain, and, update, on, geological, modelling\"]                                                                |(11788,[4,7,45,89,121,161,1091,1381,1684,1779,1869,2231,2602,3701,5173,6681,9661,11091],[1.0,1.0,1.0,1.0,1.0,1.0,1.0,1.0,1.0,1.0,1.0,1.0,1.0,1.0,1.0,1.0,1.0,1.0])                                                                                                         |(11788,[4,7,45,89,121,161,1091,1381,1684,1779,1869,2231,2602,3701,5173,6681,9661,11091],[1.939531813697857,2.173512737292573,3.612118392980474,4.254713294377588,4.406519307245593,4.688751774929809,6.437951629739068,6.571483022363591,6.725633702190849,6.907955258984804,6.907955258984804,7.131098810299013,7.131098810299013,7.418780882750794,7.824245990858959,7.824245990858959,7.824245990858959,7.824245990858959])                                                                                                                                                                                                                                                                                                     |\n",
            "|0.0  |\"IDenta Corp Announces \"\"Touch&Know\"\" Brand Drug Detection Kits for Personal Use                                                                                                |[\"identa, corp, announces, \"\"touch&know\"\", brand, drug, detection, kits, for, personal, use]                                                                                                                      |(11788,[5,11,420,423,473,686,1902,2836,3958,9914,10670],[1.0,1.0,1.0,1.0,1.0,1.0,1.0,1.0,1.0,1.0,1.0])                                                                                                                                                                     |(11788,[5,11,420,423,473,686,1902,2836,3958,9914,10670],[2.002680480546374,2.4170742193988395,5.572954192252463,5.572954192252463,5.627021413522739,6.032486521630903,6.907955258984804,7.131098810299013,7.418780882750794,7.824245990858959,7.824245990858959])                                                                                                                                                                                                                                                                                                                                                                                                                                                                  |\n",
            "|0.0  |\"Kansas City Southern Receives Revised Proposal from Canadian Pacific That Board of Directors Determines is a \"\"Company Superior Proposal\"\"\"                                    |[\"kansas, city, southern, receives, revised, proposal, from, canadian, pacific, that, board, of, directors, determines, is, a, \"\"company, superior, proposal\"\"\"]                                                  |(11788,[2,6,9,45,110,159,266,382,443,514,642,725,1400,1960,2723,2994,4132,7609,9173],[1.0,1.0,1.0,1.0,1.0,1.0,1.0,1.0,1.0,1.0,1.0,1.0,1.0,1.0,1.0,1.0,1.0,1.0,1.0])                                                                                                        |(11788,[2,6,9,45,110,159,266,382,443,514,642,725,1400,1960,2723,2994,4132,7609,9173],[1.755820402614848,2.1665074547041643,2.3775086191926484,3.612118392980474,4.3430059015232665,4.667245569708845,5.15009734143243,5.472870733695481,5.627021413522739,5.744804449179123,5.952443813957367,6.032486521630903,6.725633702190849,6.907955258984804,7.131098810299013,7.418780882750794,7.418780882750794,7.824245990858959,7.824245990858959])                                                                                                                                                                                                                                                                                    |\n",
            "|0.0  |\"Loop Media, Inc. Launches New \"\"Movie Trailers+\"\" Streaming Channel\"                                                                                                           |[\"loop, media,, inc., launches, new, \"\"movie, trailers+\"\", streaming, channel\"]                                                                                                                                   |(11788,[14,22,111,786,915,6089,6210,6927,10108],[1.0,1.0,1.0,1.0,1.0,1.0,1.0,1.0,1.0])                                                                                                                                                                                     |(11788,[14,22,111,786,915,6089,6210,6927,10108],[2.5745937962922025,3.079313862495708,4.3430059015232665,6.1194978986205335,6.214808078424858,7.824245990858959,7.824245990858959,7.824245990858959,7.824245990858959])                                                                                                                                                                                                                                                                                                                                                                                                                                                                                                            |\n",
            "|0.0  |\"MindMed to Attend 8th Annual \"\"Mobile in Clinical Trials\"\" Conference\"                                                                                                         |[\"mindmed, to, attend, 8th, annual, \"\"mobile, in, clinical, trials\"\", conference\"]                                                                                                                                |(11788,[0,3,33,411,1066,1305,5582,6773,8372,11480],[1.0,1.0,1.0,1.0,1.0,1.0,1.0,1.0,1.0,1.0])                                                                                                                                                                              |(11788,[0,3,33,411,1066,1305,5582,6773,8372,11480],[1.2271002889723068,1.8117540765589006,3.3412434388450745,5.521660897864913,6.437951629739068,6.571483022363591,7.824245990858959,7.824245990858959,7.824245990858959,7.824245990858959])                                                                                                                                                                                                                                                                                                                                                                                                                                                                                       |\n",
            "|0.0  |\"OKYO Pharma Limited (\"\"OKYO\"\" or the \"\"Company\"\") - Notice of Annual General Meeting\"                                                                                          |[\"okyo, pharma, limited, (\"\"okyo\"\", or, the, \"\"company\"\"), -, notice, of, annual, general, meeting\"]                                                                                                              |(11788,[1,2,33,34,151,243,277,387,757,5042,5266,7072,9054],[1.0,1.0,1.0,1.0,1.0,1.0,1.0,1.0,1.0,1.0,1.0,1.0,1.0])                                                                                                                                                          |(11788,[1,2,33,34,151,243,277,387,757,5042,5266,7072,9054],[1.6546352583675024,1.755820402614848,3.3412434388450745,3.3583378722043746,4.605370165990758,5.116195789756748,5.1851886612437,5.472870733695481,6.1194978986205335,7.824245990858959,7.824245990858959,7.824245990858959,7.824245990858959])                                                                                                                                                                                                                                                                                                                                                                                                                          |\n",
            "|0.0  |\"Shutterstock Announced As Exclusive Sponsor Of \"\"Experience The Times Of Bill Cunningham\"\" Exhibit At New York Fashion Week\"                                                   |[\"shutterstock, announced, as, exclusive, sponsor, of, \"\"experience, the, times, of, bill, cunningham\"\", exhibit, at, new, york, fashion, week\"]                                                                  |(11788,[1,2,12,20,22,355,536,1223,1261,1306,1335,1801,4474,5013,5576,5723,10919],[1.0,2.0,1.0,1.0,1.0,1.0,1.0,1.0,1.0,1.0,1.0,1.0,1.0,1.0,1.0,1.0,1.0])                                                                                                                    |(11788,[1,2,12,20,22,355,536,1223,1261,1306,1335,1801,4474,5013,5576,5723,10919],[1.6546352583675024,3.511640805229696,2.4843069496201022,3.0284554452622174,3.079313862495708,5.426350718060588,5.744804449179123,6.571483022363591,6.907955258984804,6.571483022363591,6.571483022363591,6.907955258984804,7.418780882750794,7.824245990858959,7.824245990858959,7.824245990858959,7.824245990858959])                                                                                                                                                                                                                                                                                                                           |\n",
            "|0.0  |\"The Boston Beer Company Launches New \"\"Bevy Long Drink\"\"\"                                                                                                                      |[\"the, boston, beer, company, launches, new, \"\"bevy, long, drink\"\"\"]                                                                                                                                              |(11788,[22,69,111,302,312,554,5742,6658,7505],[1.0,1.0,1.0,1.0,1.0,1.0,1.0,1.0,1.0])                                                                                                                                                                                       |(11788,[22,69,111,302,312,554,5742,6658,7505],[3.079313862495708,3.942682192915521,4.3430059015232665,5.339339341070958,5.381898955489754,5.809342970316694,7.824245990858959,7.824245990858959,7.824245990858959])                                                                                                                                                                                                                                                                                                                                                                                                                                                                                                                |\n",
            "|0.0  |\"Welcome to the Tri \"\"Party\"\": Broadridge Launches Sponsored General Collateral Service\"                                                                                        |[\"welcome, to, the, tri, \"\"party\"\":, broadridge, launches, sponsored, general, collateral, service\"]                                                                                                              |(11788,[0,1,111,277,3953,8276,8644,8991,9126,9276,10552],[1.0,1.0,1.0,1.0,1.0,1.0,1.0,1.0,1.0,1.0,1.0])                                                                                                                                                                    |(11788,[0,1,111,277,3953,8276,8644,8991,9126,9276,10552],[1.2271002889723068,1.6546352583675024,4.3430059015232665,5.1851886612437,7.418780882750794,7.824245990858959,7.824245990858959,7.824245990858959,7.824245990858959,7.824245990858959,7.824245990858959])                                                                                                                                                                                                                                                                                                                                                                                                                                                                 |\n",
            "|0.0  |/R E P E A T -- Chris Ryan PhD., New York Times Best Selling Author, and Featured TED Talk Speaker To Appear At Meet Delic: The World's Premiere Psychedelic and Wellness Event/|[/r, e, p, e, a, t, --, chris, ryan, phd.,, new, york, times, best, selling, author,, and, featured, ted, talk, speaker, to, appear, at, meet, delic:, the, world's, premiere, psychedelic, and, wellness, event/]|(11788,[0,1,4,6,12,22,104,355,720,810,849,882,960,1306,1425,1800,1840,1887,2440,2756,2787,2883,3040,3263,3308,3688,4650,7963,8039,8156,8820],[1.0,1.0,2.0,1.0,1.0,1.0,1.0,1.0,1.0,1.0,1.0,1.0,1.0,1.0,1.0,1.0,1.0,1.0,1.0,1.0,2.0,1.0,1.0,1.0,1.0,1.0,1.0,1.0,1.0,1.0,1.0])|(11788,[0,1,4,6,12,22,104,355,720,810,849,882,960,1306,1425,1800,1840,1887,2440,2756,2787,2883,3040,3263,3308,3688,4650,7963,8039,8156,8820],[1.2271002889723068,1.6546352583675024,3.879063627395714,2.1665074547041643,2.4843069496201022,3.079313862495708,4.327738429392478,5.426350718060588,6.032486521630903,6.1194978986205335,6.214808078424858,6.214808078424858,6.320168594082684,6.571483022363591,6.725633702190849,6.907955258984804,6.907955258984804,6.907955258984804,7.131098810299013,7.131098810299013,14.837561765501588,7.131098810299013,7.418780882750794,7.418780882750794,7.418780882750794,7.418780882750794,7.418780882750794,7.824245990858959,7.824245990858959,7.824245990858959,7.824245990858959])|\n",
            "|0.0  |01 Communique Provides Quarterly Update on Business Developments and Third Quarter Fiscal 2021 Results                                                                          |[01, communique, provides, quarterly, update, on, business, developments, and, third, quarter, fiscal, 2021, results]                                                                                             |(11788,[4,7,13,26,50,121,123,129,161,162,211,4083,10871,11608],[1.0,1.0,1.0,1.0,1.0,1.0,1.0,1.0,1.0,1.0,1.0,1.0,1.0,1.0])                                                                                                                                                  |(11788,[4,7,13,26,50,121,123,129,161,162,211,4083,10871,11608],[1.939531813697857,2.173512737292573,2.5209410827998826,3.179855091717586,3.7216026258221624,4.406519307245593,4.423048609196803,4.456950160872484,4.688751774929809,4.688751774929809,4.96204510992949,7.418780882750794,7.824245990858959,7.824245990858959])                                                                                                                                                                                                                                                                                                                                                                                                     |\n",
            "|0.0  |10 Personal Finance Experts To Follow On Twitter                                                                                                                                |[10, personal, finance, experts, to, follow, on, twitter]                                                                                                                                                         |(11788,[0,7,724,897,899,1902,4499,6481],[1.0,1.0,1.0,1.0,1.0,1.0,1.0,1.0])                                                                                                                                                                                                 |(11788,[0,7,724,897,899,1902,4499,6481],[1.2271002889723068,2.173512737292573,6.032486521630903,6.214808078424858,6.214808078424858,6.907955258984804,7.418780882750794,7.824245990858959])                                                                                                                                                                                                                                                                                                                                                                                                                                                                                                                                        |\n",
            "|0.0  |10X Capital Leadership Purchases Additional Shares In REE Automotive                                                                                                            |[10x, capital, leadership, purchases, additional, shares, in, ree, automotive]                                                                                                                                    |(11788,[3,41,147,487,743,1214,1493,3917,9504],[1.0,1.0,1.0,1.0,1.0,1.0,1.0,1.0,1.0])                                                                                                                                                                                       |(11788,[3,41,147,487,743,1214,1493,3917,9504],[1.8117540765589006,3.5269605846401673,4.585567538694578,5.684179827362688,6.1194978986205335,6.571483022363591,6.725633702190849,7.418780882750794,7.824245990858959])                                                                                                                                                                                                                                                                                                                                                                                                                                                                                                              |\n",
            "|0.0  |15 Words From President Biden That Could Equal Billions for Pfizer and Moderna                                                                                                  |[15, words, from, president, biden, that, could, equal, billions, for, pfizer, and, moderna]                                                                                                                      |(11788,[4,5,45,84,110,304,469,672,927,2018,3217,6887,10926],[1.0,1.0,1.0,1.0,1.0,1.0,1.0,1.0,1.0,1.0,1.0,1.0,1.0])                                                                                                                                                         |(11788,[4,5,45,84,110,304,469,672,927,2018,3217,6887,10926],[1.939531813697857,2.002680480546374,3.612118392980474,4.08657637257559,4.3430059015232665,5.259296633397422,5.627021413522739,5.952443813957367,6.320168594082684,6.907955258984804,7.418780882750794,7.824245990858959,7.824245990858959])                                                                                                                                                                                                                                                                                                                                                                                                                           |\n",
            "|0.0  |16 Northern Illinois Arts Organizations Awarded Grants from ComEd and League of Chicago Theatres                                                                                |[16, northern, illinois, arts, organizations, awarded, grants, from, comed, and, league, of, chicago, theatres]                                                                                                   |(11788,[2,4,45,459,1135,1252,1742,2331,3228,4005,6317,7209,7534,11425],[1.0,1.0,1.0,1.0,1.0,1.0,1.0,1.0,1.0,1.0,1.0,1.0,1.0,1.0])                                                                                                                                          |(11788,[2,4,45,459,1135,1252,1742,2331,3228,4005,6317,7209,7534,11425],[1.755820402614848,1.939531813697857,3.612118392980474,5.627021413522739,6.437951629739068,6.571483022363591,6.907955258984804,7.131098810299013,7.418780882750794,7.418780882750794,7.824245990858959,7.824245990858959,7.824245990858959,7.824245990858959])                                                                                                                                                                                                                                                                                                                                                                                              |\n",
            "+-----+--------------------------------------------------------------------------------------------------------------------------------------------------------------------------------+------------------------------------------------------------------------------------------------------------------------------------------------------------------------------------------------------------------+---------------------------------------------------------------------------------------------------------------------------------------------------------------------------------------------------------------------------------------------------------------------------+-----------------------------------------------------------------------------------------------------------------------------------------------------------------------------------------------------------------------------------------------------------------------------------------------------------------------------------------------------------------------------------------------------------------------------------------------------------------------------------------------------------------------------------------------------------------------------------------------------------------------------------------------------------------------------------------------------------------------------------+\n",
            "only showing top 20 rows\n",
            "\n"
          ]
        }
      ]
    },
    {
      "cell_type": "code",
      "metadata": {
        "colab": {
          "base_uri": "https://localhost:8080/"
        },
        "id": "8HwaguEFajq2",
        "outputId": "a6591561-2ea2-4455-ada6-b7dc3d8af588"
      },
      "source": [
        "testDF.count()"
      ],
      "id": "8HwaguEFajq2",
      "execution_count": 14,
      "outputs": [
        {
          "output_type": "execute_result",
          "data": {
            "text/plain": [
              "1035"
            ]
          },
          "metadata": {},
          "execution_count": 14
        }
      ]
    },
    {
      "cell_type": "code",
      "metadata": {
        "colab": {
          "base_uri": "https://localhost:8080/"
        },
        "id": "mLabWeJqNf8K",
        "outputId": "2ea90add-2858-4884-c6fe-a06284c842b0"
      },
      "source": [
        "testDF.show()"
      ],
      "id": "mLabWeJqNf8K",
      "execution_count": 15,
      "outputs": [
        {
          "output_type": "stream",
          "name": "stdout",
          "text": [
            "+-----+--------------------+--------------------+--------------------+--------------------+\n",
            "|label|                text|               words|         rawFeatures|            features|\n",
            "+-----+--------------------+--------------------+--------------------+--------------------+\n",
            "|  0.0|180 Life Sciences...|[180, life, scien...|(11788,[10,12,197...|(11788,[10,12,197...|\n",
            "|  0.0|1847 Goedeker Iss...|[1847, goedeker, ...|(11788,[45,87,474...|(11788,[45,87,474...|\n",
            "|  0.0|3 Reasons to Buy ...|[3, reasons, to, ...|(11788,[0,4,23,54...|(11788,[0,4,23,54...|\n",
            "|  0.0|3 Things to Watch...|[3, things, to, w...|(11788,[0,1,3,8,3...|(11788,[0,1,3,8,3...|\n",
            "|  0.0|3 Upcoming Earnin...|[3, upcoming, ear...|(11788,[0,19,54,6...|(11788,[0,19,54,6...|\n",
            "|  0.0|4 Diversified Che...|[4, diversified, ...|(11788,[0,5,18,17...|(11788,[0,5,18,17...|\n",
            "|  0.0|4 Outstanding Sto...|[4, outstanding, ...|(11788,[0,18,20,2...|(11788,[0,18,20,2...|\n",
            "|  0.0|4 Top Stock Trade...|[4, top, stock, t...|(11788,[5,8,61,17...|(11788,[5,8,61,17...|\n",
            "|  0.0|A Body Camera Com...|[a, body, camera,...|(11788,[4,6,69,13...|(11788,[4,6,69,13...|\n",
            "|  0.0|A Nick to Apple's...|[a, nick, to, app...|(11788,[0,5,6,67,...|(11788,[0,5,6,67,...|\n",
            "|  0.0|ABC and Procore A...|[abc, and, procor...|(11788,[0,4,5,87,...|(11788,[0,4,5,87,...|\n",
            "|  0.0|ABM Delivers Infr...|[abm, delivers, i...|(11788,[5,22,281,...|(11788,[5,22,281,...|\n",
            "|  0.0|ABM Industries An...|[abm, industries,...|(11788,[5,11,13,2...|(11788,[5,11,13,2...|\n",
            "|  0.0|ADC Therapeutics ...|[adc, therapeutic...|(11788,[0,3,17,21...|(11788,[0,3,17,21...|\n",
            "|  0.0|AIG names CEO Zaf...|[aig, names, ceo,...|(11788,[20,35,307...|(11788,[20,35,307...|\n",
            "|  0.0|ALERT: Spectrum P...|[alert:, spectrum...|(11788,[0,10,14,1...|(11788,[0,10,14,1...|\n",
            "|  0.0|AMOT or WTS: Whic...|[amot, or, wts:, ...|(11788,[1,8,9,62,...|(11788,[1,8,9,62,...|\n",
            "|  0.0|ANVS CLASS ACTION...|[anvs, class, act...|(11788,[0,1,2,3,6...|(11788,[0,1,2,3,6...|\n",
            "|  0.0|ANVS Investor Ale...|[anvs, investor, ...|(11788,[27,32,43,...|(11788,[27,32,43,...|\n",
            "|  0.0|AXIS Insurance Ex...|[axis, insurance,...|(11788,[10,22,193...|(11788,[10,22,193...|\n",
            "+-----+--------------------+--------------------+--------------------+--------------------+\n",
            "only showing top 20 rows\n",
            "\n"
          ]
        }
      ]
    },
    {
      "cell_type": "code",
      "metadata": {
        "colab": {
          "base_uri": "https://localhost:8080/"
        },
        "id": "422KCtKsapc2",
        "outputId": "8f1e3950-1f62-414a-d3a2-5cbf3ff24931"
      },
      "source": [
        "#Logistic Regression Classifier\n",
        "#Cross validator different classification to  \n",
        "#Param Grid apply different parameters, testing which param is best\n",
        "from pyspark.ml.classification import LogisticRegression\n",
        "from pyspark.ml.evaluation import BinaryClassificationEvaluator\n",
        "from pyspark.ml.tuning import CrossValidator, ParamGridBuilder\n",
        "from pyspark.ml.evaluation import MulticlassClassificationEvaluator\n",
        "import numpy as np\n",
        "lr = LogisticRegression(maxIter = 10)\n",
        "\n",
        "paramGrid_lr = ParamGridBuilder() \\\n",
        "    .addGrid(lr.regParam, np.linspace(0.3, 0.01, 10)) \\\n",
        "    .addGrid(lr.elasticNetParam, np.linspace(0.3, 0.8, 6)) \\\n",
        "    .build()\n",
        "crossval_lr = CrossValidator(estimator=lr,\n",
        "                          estimatorParamMaps=paramGrid_lr,\n",
        "                          evaluator=MulticlassClassificationEvaluator(),\n",
        "                          numFolds= 5)  \n",
        "cvModel_lr = crossval_lr.fit(trainDF)\n",
        "best_model_lr = cvModel_lr.bestModel.summary\n",
        "best_model_lr.predictions.columns"
      ],
      "id": "422KCtKsapc2",
      "execution_count": 16,
      "outputs": [
        {
          "output_type": "execute_result",
          "data": {
            "text/plain": [
              "['label',\n",
              " 'text',\n",
              " 'words',\n",
              " 'rawFeatures',\n",
              " 'features',\n",
              " 'rawPrediction',\n",
              " 'probability',\n",
              " 'prediction']"
            ]
          },
          "metadata": {},
          "execution_count": 16
        }
      ]
    },
    {
      "cell_type": "code",
      "metadata": {
        "colab": {
          "base_uri": "https://localhost:8080/"
        },
        "id": "oXHKusiWqkUf",
        "outputId": "2e896094-fe7f-4e79-c2f5-5f192bba3426"
      },
      "source": [
        "best_model_lr.predictions.show()"
      ],
      "id": "oXHKusiWqkUf",
      "execution_count": 17,
      "outputs": [
        {
          "output_type": "stream",
          "name": "stdout",
          "text": [
            "+-----+--------------------+--------------------+--------------------+--------------------+--------------------+--------------------+----------+\n",
            "|label|                text|               words|         rawFeatures|            features|       rawPrediction|         probability|prediction|\n",
            "+-----+--------------------+--------------------+--------------------+--------------------+--------------------+--------------------+----------+\n",
            "|  0.0|\"ASSA ABLOY to ac...|[\"assa, abloy, to...|(11788,[0,2,4,313...|(11788,[0,2,4,313...|[1.42641227463248...|[0.75578314163771...|       0.0|\n",
            "|  0.0|\"BofA Unveils \"\"V...|[\"bofa, unveils, ...|(11788,[399,7222,...|(11788,[399,7222,...|[1.68645801290176...|[0.74587300772585...|       0.0|\n",
            "|  0.0|\"CP Offer for KCS...|[\"cp, offer, for,...|(11788,[5,75,344,...|(11788,[5,75,344,...|[1.36471035107795...|[0.73650625237702...|       0.0|\n",
            "|  0.0|\"Cumulus Podcast ...|[\"cumulus, podcas...|(11788,[0,2,10,13...|(11788,[0,2,10,13...|[2.01875662013643...|[0.72985026789513...|       0.0|\n",
            "|  0.0|\"Epic Games asks ...|[\"epic, games, as...|(11788,[0,3,86,27...|(11788,[0,3,86,27...|[1.63226604836121...|[0.73280062432891...|       0.0|\n",
            "|  0.0|\"Great Bear Provi...|[\"great, bear, pr...|(11788,[4,7,45,89...|(11788,[4,7,45,89...|[2.85177630450182...|[0.92075011981152...|       0.0|\n",
            "|  0.0|\"IDenta Corp Anno...|[\"identa, corp, a...|(11788,[5,11,420,...|(11788,[5,11,420,...|[3.51314338397599...|[0.97353496048035...|       0.0|\n",
            "|  0.0|\"Kansas City Sout...|[\"kansas, city, s...|(11788,[2,6,9,45,...|(11788,[2,6,9,45,...|[3.07355844125086...|[0.88225675992615...|       0.0|\n",
            "|  0.0|\"Loop Media, Inc....|[\"loop, media,, i...|(11788,[14,22,111...|(11788,[14,22,111...|[2.65722156980194...|[0.91969696198110...|       0.0|\n",
            "|  0.0|\"MindMed to Atten...|[\"mindmed, to, at...|(11788,[0,3,33,41...|(11788,[0,3,33,41...|[1.60703111208308...|[0.74298290869234...|       0.0|\n",
            "|  0.0|\"OKYO Pharma Limi...|[\"okyo, pharma, l...|(11788,[1,2,33,34...|(11788,[1,2,33,34...|[3.14980880190212...|[0.96394355149070...|       0.0|\n",
            "|  0.0|\"Shutterstock Ann...|[\"shutterstock, a...|(11788,[1,2,12,20...|(11788,[1,2,12,20...|[2.62726123583913...|[0.92360162958990...|       0.0|\n",
            "|  0.0|\"The Boston Beer ...|[\"the, boston, be...|(11788,[22,69,111...|(11788,[22,69,111...|[1.71054761036720...|[0.79761121356064...|       0.0|\n",
            "|  0.0|\"Welcome to the T...|[\"welcome, to, th...|(11788,[0,1,111,2...|(11788,[0,1,111,2...|[1.62401922455211...|[0.74635259471957...|       0.0|\n",
            "|  0.0|/R E P E A T -- C...|[/r, e, p, e, a, ...|(11788,[0,1,4,6,1...|(11788,[0,1,4,6,1...|[2.43876729846906...|[0.89702985263146...|       0.0|\n",
            "|  0.0|01 Communique Pro...|[01, communique, ...|(11788,[4,7,13,26...|(11788,[4,7,13,26...|[4.34167460907447...|[0.99141072641081...|       0.0|\n",
            "|  0.0|10 Personal Finan...|[10, personal, fi...|(11788,[0,7,724,8...|(11788,[0,7,724,8...|[1.91711466567448...|[0.81188614296643...|       0.0|\n",
            "|  0.0|10X Capital Leade...|[10x, capital, le...|(11788,[3,41,147,...|(11788,[3,41,147,...|[1.71897070745046...|[0.73858608210342...|       0.0|\n",
            "|  0.0|15 Words From Pre...|[15, words, from,...|(11788,[4,5,45,84...|(11788,[4,5,45,84...|[1.87171658622976...|[0.75945612278214...|       0.0|\n",
            "|  0.0|16 Northern Illin...|[16, northern, il...|(11788,[2,4,45,45...|(11788,[2,4,45,45...|[2.65860091859706...|[0.91278440829869...|       0.0|\n",
            "+-----+--------------------+--------------------+--------------------+--------------------+--------------------+--------------------+----------+\n",
            "only showing top 20 rows\n",
            "\n"
          ]
        }
      ]
    },
    {
      "cell_type": "code",
      "metadata": {
        "colab": {
          "base_uri": "https://localhost:8080/"
        },
        "id": "Ns8T13S_dZ2I",
        "outputId": "6376602d-b951-449e-d5dd-1252dc45af0c"
      },
      "source": [
        "#import pre-covid test data\n",
        "url1 = 'https://raw.githubusercontent.com/dalismo/Finance_News_Sentiment/main/Resources/TEST_DATA_pre-vax-test-data.csv'\n",
        "spark.sparkContext.addFile(url1)\n",
        "pre_covid_df = spark.read.csv(SparkFiles.get(\"TEST_DATA_pre-vax-test-data.csv\"), sep=\",\", header=None)\n",
        "\n",
        "pre_covid_df.show(5, truncate=False)"
      ],
      "id": "Ns8T13S_dZ2I",
      "execution_count": 18,
      "outputs": [
        {
          "output_type": "stream",
          "name": "stdout",
          "text": [
            "+----------------------------------------------------------------------------------------------------------------+\n",
            "|_c0                                                                                                             |\n",
            "+----------------------------------------------------------------------------------------------------------------+\n",
            "|Moderna Coronavirus Vaccine Clinical Trials Are 'On Track,'  White House Task Force's Fauci Says                |\n",
            "|Tesla could help make lithium ion batteries for ventilators to help fight COVID-19, says ResMed CEO Mick Farrell|\n",
            "|Chinese Airlines See Short-Term Virus Hit                                                                       |\n",
            "|Why MercadoLibre Stock Lost 21% Last Month                                                                      |\n",
            "|Cruise operator Carnival pays high price to get credit investors on board: sources                              |\n",
            "+----------------------------------------------------------------------------------------------------------------+\n",
            "only showing top 5 rows\n",
            "\n"
          ]
        }
      ]
    },
    {
      "cell_type": "code",
      "metadata": {
        "colab": {
          "base_uri": "https://localhost:8080/"
        },
        "id": "nfTw_8oEhB4x",
        "outputId": "59758494-91aa-4115-8942-911ead7f7658"
      },
      "source": [
        "#Rename column\n",
        "pre_covid_df2 = pre_covid_df.withColumnRenamed(\"_c0\", \"text\")\n",
        "pre_covid_df2.printSchema()\n",
        "pre_covid_df2.show(20, truncate = False)"
      ],
      "id": "nfTw_8oEhB4x",
      "execution_count": 19,
      "outputs": [
        {
          "output_type": "stream",
          "name": "stdout",
          "text": [
            "root\n",
            " |-- text: string (nullable = true)\n",
            "\n",
            "+----------------------------------------------------------------------------------------------------------------+\n",
            "|text                                                                                                            |\n",
            "+----------------------------------------------------------------------------------------------------------------+\n",
            "|Moderna Coronavirus Vaccine Clinical Trials Are 'On Track,'  White House Task Force's Fauci Says                |\n",
            "|Tesla could help make lithium ion batteries for ventilators to help fight COVID-19, says ResMed CEO Mick Farrell|\n",
            "|Chinese Airlines See Short-Term Virus Hit                                                                       |\n",
            "|Why MercadoLibre Stock Lost 21% Last Month                                                                      |\n",
            "|Cruise operator Carnival pays high price to get credit investors on board: sources                              |\n",
            "|Virus Drives Down Auto Sales For GM and Fiat                                                                    |\n",
            "|SoftBank Is Said to Plan to Abandon WeWork Shareholders Deal                                                    |\n",
            "|PVH CEO on Macy's woes: 'they're going to be a survivor' post pandemic                                          |\n",
            "|Calvin Klein-parent PVH CEO on Macy's woes: 'We have a great deal of confidence' in their leadership            |\n",
            "|Dividend Aristocrat McCormick Declares Its Upcoming Payout                                                      |\n",
            "|Open Letter to Stakeholders                                                                                     |\n",
            "|Why Shares of WD-40 Soared in March                                                                             |\n",
            "|SpaceX reportedly bans use of Zoom videoconferencing app by employees                                           |\n",
            "|British Airways could suspend 36,000 employees: BBC                                                             |\n",
            "|Recreational Pot Sales in Bellwether States Tumble After a COVID-19 Buying Peak                                 |\n",
            "|Elon Musk's SpaceX bans Zoom over privacy concerns, memo shows                                                  |\n",
            "|Why AMC Entertainment Stock Plunged 50% in March                                                                |\n",
            "|Nintendo: Corona-Proof, But Not A Buy At This Valuation                                                         |\n",
            "|Calvin Klein-parent PVH CEO discloses COVID-19 diagnosis: 'I'm fine'                                            |\n",
            "|3 Luxury Retail Stocks Got Crushed by Today's News                                                              |\n",
            "+----------------------------------------------------------------------------------------------------------------+\n",
            "only showing top 20 rows\n",
            "\n"
          ]
        }
      ]
    },
    {
      "cell_type": "code",
      "metadata": {
        "colab": {
          "base_uri": "https://localhost:8080/"
        },
        "id": "osHj5TgUg4YR",
        "outputId": "11dae012-51e3-4ad4-877c-3bcd99d8077a"
      },
      "source": [
        "#tokenize text\n",
        "# from pyspark.ml.feature import  Tokenizer\n",
        "tokenizer = Tokenizer(inputCol=\"text\", outputCol=\"words\")\n",
        "wordsData = tokenizer.transform(pre_covid_df2)\n",
        "wordsData.show()"
      ],
      "id": "osHj5TgUg4YR",
      "execution_count": 20,
      "outputs": [
        {
          "output_type": "stream",
          "name": "stdout",
          "text": [
            "+--------------------+--------------------+\n",
            "|                text|               words|\n",
            "+--------------------+--------------------+\n",
            "|Moderna Coronavir...|[moderna, coronav...|\n",
            "|Tesla could help ...|[tesla, could, he...|\n",
            "|Chinese Airlines ...|[chinese, airline...|\n",
            "|Why MercadoLibre ...|[why, mercadolibr...|\n",
            "|Cruise operator C...|[cruise, operator...|\n",
            "|Virus Drives Down...|[virus, drives, d...|\n",
            "|SoftBank Is Said ...|[softbank, is, sa...|\n",
            "|PVH CEO on Macy's...|[pvh, ceo, on, ma...|\n",
            "|Calvin Klein-pare...|[calvin, klein-pa...|\n",
            "|Dividend Aristocr...|[dividend, aristo...|\n",
            "|Open Letter to St...|[open, letter, to...|\n",
            "|Why Shares of WD-...|[why, shares, of,...|\n",
            "|SpaceX reportedly...|[spacex, reported...|\n",
            "|British Airways c...|[british, airways...|\n",
            "|Recreational Pot ...|[recreational, po...|\n",
            "|Elon Musk's Space...|[elon, musk's, sp...|\n",
            "|Why AMC Entertain...|[why, amc, entert...|\n",
            "|Nintendo: Corona-...|[nintendo:, coron...|\n",
            "|Calvin Klein-pare...|[calvin, klein-pa...|\n",
            "|3 Luxury Retail S...|[3, luxury, retai...|\n",
            "+--------------------+--------------------+\n",
            "only showing top 20 rows\n",
            "\n"
          ]
        }
      ]
    },
    {
      "cell_type": "code",
      "metadata": {
        "colab": {
          "base_uri": "https://localhost:8080/"
        },
        "id": "HPSwYmrehRlF",
        "outputId": "1d0a578c-411c-45c5-ce23-220a81c26393"
      },
      "source": [
        "#count vectorize \n",
        "# from pyspark.ml.feature import CountVectorizer\n",
        "# count = CountVectorizer (inputCol=\"words\", outputCol=\"rawFeatures\")\n",
        "# model = count.fit(wordsData)\n",
        "featurizedData = model.transform(wordsData)\n",
        "featurizedData.show()"
      ],
      "id": "HPSwYmrehRlF",
      "execution_count": 21,
      "outputs": [
        {
          "output_type": "stream",
          "name": "stdout",
          "text": [
            "+--------------------+--------------------+--------------------+\n",
            "|                text|               words|         rawFeatures|\n",
            "+--------------------+--------------------+--------------------+\n",
            "|Moderna Coronavir...|[moderna, coronav...|(11788,[48,102,27...|\n",
            "|Tesla could help ...|[tesla, could, he...|(11788,[0,5,35,84...|\n",
            "|Chinese Airlines ...|[chinese, airline...|(11788,[175,460,5...|\n",
            "|Why MercadoLibre ...|[why, mercadolibr...|(11788,[8,15,118,...|\n",
            "|Cruise operator C...|[cruise, operator...|(11788,[0,7,16,13...|\n",
            "|Virus Drives Down...|[virus, drives, d...|(11788,[4,5,115,1...|\n",
            "|SoftBank Is Said ...|[softbank, is, sa...|(11788,[0,9,133,1...|\n",
            "|PVH CEO on Macy's...|[pvh, ceo, on, ma...|(11788,[0,6,7,35,...|\n",
            "|Calvin Klein-pare...|[calvin, klein-pa...|(11788,[2,3,6,7,3...|\n",
            "|Dividend Aristocr...|[dividend, aristo...|(11788,[31,53,117...|\n",
            "|Open Letter to St...|[open, letter, to...|(11788,[0,470,872...|\n",
            "|Why Shares of WD-...|[why, shares, of,...|(11788,[2,3,15,41...|\n",
            "|SpaceX reportedly...|[spacex, reported...|(11788,[2,75,260,...|\n",
            "|British Airways c...|[british, airways...|(11788,[84,979,91...|\n",
            "|Recreational Pot ...|[recreational, po...|(11788,[3,6,65,14...|\n",
            "|Elon Musk's Space...|[elon, musk's, sp...|(11788,[88,495,15...|\n",
            "|Why AMC Entertain...|[why, amc, entert...|(11788,[3,8,15,26...|\n",
            "|Nintendo: Corona-...|[nintendo:, coron...|(11788,[6,12,23,3...|\n",
            "|Calvin Klein-pare...|[calvin, klein-pa...|(11788,[35,181,31...|\n",
            "|3 Luxury Retail S...|[3, luxury, retai...|(11788,[18,54,75,...|\n",
            "+--------------------+--------------------+--------------------+\n",
            "only showing top 20 rows\n",
            "\n"
          ]
        }
      ]
    },
    {
      "cell_type": "code",
      "metadata": {
        "colab": {
          "base_uri": "https://localhost:8080/"
        },
        "id": "JAMPcf9uhcKO",
        "outputId": "c87cc032-27ca-4f3a-89be-defd58b588d8"
      },
      "source": [
        "from pyspark.ml.feature import  IDF\n",
        "#IDF down-weighs features which appear frequently in a corpus. This generally improves performance when using text as features since most frequent, and hence less important words, get down-weighed.\n",
        "idf = IDF(inputCol=\"rawFeatures\", outputCol=\"features\")\n",
        "idfModel = idf.fit(featurizedData)\n",
        "rescaledData = idfModel.transform(featurizedData)\n",
        "rescaledData.select(\"features\").show()  \n",
        "# We want only the label and features columns for our machine learning models"
      ],
      "id": "JAMPcf9uhcKO",
      "execution_count": 22,
      "outputs": [
        {
          "output_type": "stream",
          "name": "stdout",
          "text": [
            "+--------------------+\n",
            "|            features|\n",
            "+--------------------+\n",
            "|(11788,[48,102,27...|\n",
            "|(11788,[0,5,35,84...|\n",
            "|(11788,[175,460,5...|\n",
            "|(11788,[8,15,118,...|\n",
            "|(11788,[0,7,16,13...|\n",
            "|(11788,[4,5,115,1...|\n",
            "|(11788,[0,9,133,1...|\n",
            "|(11788,[0,6,7,35,...|\n",
            "|(11788,[2,3,6,7,3...|\n",
            "|(11788,[31,53,117...|\n",
            "|(11788,[0,470,872...|\n",
            "|(11788,[2,3,15,41...|\n",
            "|(11788,[2,75,260,...|\n",
            "|(11788,[84,979,91...|\n",
            "|(11788,[3,6,65,14...|\n",
            "|(11788,[88,495,15...|\n",
            "|(11788,[3,8,15,26...|\n",
            "|(11788,[6,12,23,3...|\n",
            "|(11788,[35,181,31...|\n",
            "|(11788,[18,54,75,...|\n",
            "+--------------------+\n",
            "only showing top 20 rows\n",
            "\n"
          ]
        }
      ]
    },
    {
      "cell_type": "code",
      "metadata": {
        "colab": {
          "base_uri": "https://localhost:8080/"
        },
        "id": "l2mwc-1WNsOJ",
        "outputId": "69525c32-a51b-4cc8-86e9-cd38977731ed"
      },
      "source": [
        "#Predict using the test data and evaluate the predictions\n",
        "predictions_lr = cvModel_lr.transform(rescaledData)\n",
        "predictions_lr.columns"
      ],
      "id": "l2mwc-1WNsOJ",
      "execution_count": 23,
      "outputs": [
        {
          "output_type": "execute_result",
          "data": {
            "text/plain": [
              "['text',\n",
              " 'words',\n",
              " 'rawFeatures',\n",
              " 'features',\n",
              " 'rawPrediction',\n",
              " 'probability',\n",
              " 'prediction']"
            ]
          },
          "metadata": {},
          "execution_count": 23
        }
      ]
    },
    {
      "cell_type": "code",
      "metadata": {
        "colab": {
          "base_uri": "https://localhost:8080/"
        },
        "id": "yRpIdd3Iw0bK",
        "outputId": "5e2a286e-7be3-4f49-afe0-e5e8601361a4"
      },
      "source": [
        "predictions_lr.show()"
      ],
      "id": "yRpIdd3Iw0bK",
      "execution_count": 24,
      "outputs": [
        {
          "output_type": "stream",
          "name": "stdout",
          "text": [
            "+--------------------+--------------------+--------------------+--------------------+--------------------+--------------------+----------+\n",
            "|                text|               words|         rawFeatures|            features|       rawPrediction|         probability|prediction|\n",
            "+--------------------+--------------------+--------------------+--------------------+--------------------+--------------------+----------+\n",
            "|Moderna Coronavir...|[moderna, coronav...|(11788,[48,102,27...|(11788,[48,102,27...|[0.13389272908497...|[0.02255307301138...|       1.0|\n",
            "|Tesla could help ...|[tesla, could, he...|(11788,[0,5,35,84...|(11788,[0,5,35,84...|[0.43784090770293...|[0.17436051414692...|       1.0|\n",
            "|Chinese Airlines ...|[chinese, airline...|(11788,[175,460,5...|(11788,[175,460,5...|[0.92305355870443...|[0.58947296823821...|       0.0|\n",
            "|Why MercadoLibre ...|[why, mercadolibr...|(11788,[8,15,118,...|(11788,[8,15,118,...|[0.11544310506377...|[0.40287296685611...|       0.0|\n",
            "|Cruise operator C...|[cruise, operator...|(11788,[0,7,16,13...|(11788,[0,7,16,13...|[1.19955571272085...|[0.65728666300749...|       0.0|\n",
            "|Virus Drives Down...|[virus, drives, d...|(11788,[4,5,115,1...|(11788,[4,5,115,1...|[1.58698924476560...|[0.38395348542100...|       2.0|\n",
            "|SoftBank Is Said ...|[softbank, is, sa...|(11788,[0,9,133,1...|(11788,[0,9,133,1...|[0.19132580778950...|[0.14201139950113...|       1.0|\n",
            "|PVH CEO on Macy's...|[pvh, ceo, on, ma...|(11788,[0,6,7,35,...|(11788,[0,6,7,35,...|[0.85385125271426...|[0.23632240661607...|       1.0|\n",
            "|Calvin Klein-pare...|[calvin, klein-pa...|(11788,[2,3,6,7,3...|(11788,[2,3,6,7,3...|[0.23075067878885...|[0.03417470865518...|       1.0|\n",
            "|Dividend Aristocr...|[dividend, aristo...|(11788,[31,53,117...|(11788,[31,53,117...|[3.24102406702624...|[0.94109288160786...|       0.0|\n",
            "|Open Letter to St...|[open, letter, to...|(11788,[0,470,872...|(11788,[0,470,872...|[0.86980288708423...|[0.57677287685178...|       0.0|\n",
            "|Why Shares of WD-...|[why, shares, of,...|(11788,[2,3,15,41...|(11788,[2,3,15,41...|[-0.8172127353927...|[0.13783476011469...|       1.0|\n",
            "|SpaceX reportedly...|[spacex, reported...|(11788,[2,75,260,...|(11788,[2,75,260,...|[1.93717398361663...|[0.87657605496642...|       0.0|\n",
            "|British Airways c...|[british, airways...|(11788,[84,979,91...|(11788,[84,979,91...|[0.52411745680749...|[0.29709139191489...|       1.0|\n",
            "|Recreational Pot ...|[recreational, po...|(11788,[3,6,65,14...|(11788,[3,6,65,14...|[0.59668607112740...|[0.10716490597196...|       1.0|\n",
            "|Elon Musk's Space...|[elon, musk's, sp...|(11788,[88,495,15...|(11788,[88,495,15...|[2.65915613230536...|[0.88369658398534...|       0.0|\n",
            "|Why AMC Entertain...|[why, amc, entert...|(11788,[3,8,15,26...|(11788,[3,8,15,26...|[-0.8720929139989...|[0.09424522776594...|       1.0|\n",
            "|Nintendo: Corona-...|[nintendo:, coron...|(11788,[6,12,23,3...|(11788,[6,12,23,3...|[0.41890346905647...|[0.06849080554948...|       1.0|\n",
            "|Calvin Klein-pare...|[calvin, klein-pa...|(11788,[35,181,31...|(11788,[35,181,31...|[0.70443870623929...|[0.40503603817793...|       1.0|\n",
            "|3 Luxury Retail S...|[3, luxury, retai...|(11788,[18,54,75,...|(11788,[18,54,75,...|[-0.2893456474551...|[0.10137749100479...|       1.0|\n",
            "+--------------------+--------------------+--------------------+--------------------+--------------------+--------------------+----------+\n",
            "only showing top 20 rows\n",
            "\n"
          ]
        }
      ]
    },
    {
      "cell_type": "code",
      "metadata": {
        "colab": {
          "base_uri": "https://localhost:8080/"
        },
        "id": "8zSmgjhtZWd9",
        "outputId": "57e05840-287a-40c5-a924-dc214dfa0eeb"
      },
      "source": [
        "predictions_lr_df = predictions_lr.select('prediction', 'text','words')\n",
        "predictions_lr_df.show(5)"
      ],
      "id": "8zSmgjhtZWd9",
      "execution_count": 25,
      "outputs": [
        {
          "output_type": "stream",
          "name": "stdout",
          "text": [
            "+----------+--------------------+--------------------+\n",
            "|prediction|                text|               words|\n",
            "+----------+--------------------+--------------------+\n",
            "|       1.0|Moderna Coronavir...|[moderna, coronav...|\n",
            "|       1.0|Tesla could help ...|[tesla, could, he...|\n",
            "|       0.0|Chinese Airlines ...|[chinese, airline...|\n",
            "|       0.0|Why MercadoLibre ...|[why, mercadolibr...|\n",
            "|       0.0|Cruise operator C...|[cruise, operator...|\n",
            "+----------+--------------------+--------------------+\n",
            "only showing top 5 rows\n",
            "\n"
          ]
        }
      ]
    },
    {
      "cell_type": "code",
      "metadata": {
        "colab": {
          "base_uri": "https://localhost:8080/"
        },
        "id": "EgXODWPQZQTV",
        "outputId": "26912555-907b-4451-bfb3-d9fb1f59ebd8"
      },
      "source": [
        "predictions_lr_df.createOrReplaceTempView('temp')\n",
        "predictions_lr_df1 = spark.sql('select case prediction when \"1.0\" then \"Positive\"  when \"2.0\" then \"Negative\" else \"Neutral\" end as predicted_label, text, words from temp')\n",
        "predictions_lr_df1.show(20, truncate = False)"
      ],
      "id": "EgXODWPQZQTV",
      "execution_count": 26,
      "outputs": [
        {
          "output_type": "stream",
          "name": "stdout",
          "text": [
            "+---------------+----------------------------------------------------------------------------------------------------------------+-----------------------------------------------------------------------------------------------------------------------------------+\n",
            "|predicted_label|text                                                                                                            |words                                                                                                                              |\n",
            "+---------------+----------------------------------------------------------------------------------------------------------------+-----------------------------------------------------------------------------------------------------------------------------------+\n",
            "|Positive       |Moderna Coronavirus Vaccine Clinical Trials Are 'On Track,'  White House Task Force's Fauci Says                |[moderna, coronavirus, vaccine, clinical, trials, are, 'on, track,', , white, house, task, force's, fauci, says]                   |\n",
            "|Positive       |Tesla could help make lithium ion batteries for ventilators to help fight COVID-19, says ResMed CEO Mick Farrell|[tesla, could, help, make, lithium, ion, batteries, for, ventilators, to, help, fight, covid-19,, says, resmed, ceo, mick, farrell]|\n",
            "|Neutral        |Chinese Airlines See Short-Term Virus Hit                                                                       |[chinese, airlines, see, short-term, virus, hit]                                                                                   |\n",
            "|Neutral        |Why MercadoLibre Stock Lost 21% Last Month                                                                      |[why, mercadolibre, stock, lost, 21%, last, month]                                                                                 |\n",
            "|Neutral        |Cruise operator Carnival pays high price to get credit investors on board: sources                              |[cruise, operator, carnival, pays, high, price, to, get, credit, investors, on, board:, sources]                                   |\n",
            "|Negative       |Virus Drives Down Auto Sales For GM and Fiat                                                                    |[virus, drives, down, auto, sales, for, gm, and, fiat]                                                                             |\n",
            "|Positive       |SoftBank Is Said to Plan to Abandon WeWork Shareholders Deal                                                    |[softbank, is, said, to, plan, to, abandon, wework, shareholders, deal]                                                            |\n",
            "|Positive       |PVH CEO on Macy's woes: 'they're going to be a survivor' post pandemic                                          |[pvh, ceo, on, macy's, woes:, 'they're, going, to, be, a, survivor', post, pandemic]                                               |\n",
            "|Positive       |Calvin Klein-parent PVH CEO on Macy's woes: 'We have a great deal of confidence' in their leadership            |[calvin, klein-parent, pvh, ceo, on, macy's, woes:, 'we, have, a, great, deal, of, confidence', in, their, leadership]             |\n",
            "|Neutral        |Dividend Aristocrat McCormick Declares Its Upcoming Payout                                                      |[dividend, aristocrat, mccormick, declares, its, upcoming, payout]                                                                 |\n",
            "|Neutral        |Open Letter to Stakeholders                                                                                     |[open, letter, to, stakeholders]                                                                                                   |\n",
            "|Positive       |Why Shares of WD-40 Soared in March                                                                             |[why, shares, of, wd-40, soared, in, march]                                                                                        |\n",
            "|Neutral        |SpaceX reportedly bans use of Zoom videoconferencing app by employees                                           |[spacex, reportedly, bans, use, of, zoom, videoconferencing, app, by, employees]                                                   |\n",
            "|Positive       |British Airways could suspend 36,000 employees: BBC                                                             |[british, airways, could, suspend, 36,000, employees:, bbc]                                                                        |\n",
            "|Positive       |Recreational Pot Sales in Bellwether States Tumble After a COVID-19 Buying Peak                                 |[recreational, pot, sales, in, bellwether, states, tumble, after, a, covid-19, buying, peak]                                       |\n",
            "|Neutral        |Elon Musk's SpaceX bans Zoom over privacy concerns, memo shows                                                  |[elon, musk's, spacex, bans, zoom, over, privacy, concerns,, memo, shows]                                                          |\n",
            "|Positive       |Why AMC Entertainment Stock Plunged 50% in March                                                                |[why, amc, entertainment, stock, plunged, 50%, in, march]                                                                          |\n",
            "|Positive       |Nintendo: Corona-Proof, But Not A Buy At This Valuation                                                         |[nintendo:, corona-proof,, but, not, a, buy, at, this, valuation]                                                                  |\n",
            "|Positive       |Calvin Klein-parent PVH CEO discloses COVID-19 diagnosis: 'I'm fine'                                            |[calvin, klein-parent, pvh, ceo, discloses, covid-19, diagnosis:, 'i'm, fine']                                                     |\n",
            "|Positive       |3 Luxury Retail Stocks Got Crushed by Today's News                                                              |[3, luxury, retail, stocks, got, crushed, by, today's, news]                                                                       |\n",
            "+---------------+----------------------------------------------------------------------------------------------------------------+-----------------------------------------------------------------------------------------------------------------------------------+\n",
            "only showing top 20 rows\n",
            "\n"
          ]
        }
      ]
    },
    {
      "cell_type": "code",
      "metadata": {
        "colab": {
          "base_uri": "https://localhost:8080/"
        },
        "id": "q6YzwjMxZy_8",
        "outputId": "3f5f3d6a-2a58-4fa8-e36c-a35e6ea147bf"
      },
      "source": [
        "predictions_lr_df1.groupBy('predicted_label').count().show()"
      ],
      "id": "q6YzwjMxZy_8",
      "execution_count": 27,
      "outputs": [
        {
          "output_type": "stream",
          "name": "stdout",
          "text": [
            "+---------------+-----+\n",
            "|predicted_label|count|\n",
            "+---------------+-----+\n",
            "|       Positive| 2328|\n",
            "|        Neutral| 3474|\n",
            "|       Negative|  298|\n",
            "+---------------+-----+\n",
            "\n"
          ]
        }
      ]
    },
    {
      "cell_type": "code",
      "metadata": {
        "id": "g-7kZGy0a7R-"
      },
      "source": [
        "predictions_lr_df1.toPandas().to_csv('pre-vax_predictions_count_vector_logistic_reg_model.csv')"
      ],
      "id": "g-7kZGy0a7R-",
      "execution_count": 28,
      "outputs": []
    },
    {
      "cell_type": "code",
      "metadata": {
        "id": "gJZewrHOEbCu"
      },
      "source": [
        "#Naive Bayes using MulticlassClassificationEval\n",
        "from pyspark.ml.classification import NaiveBayes\n",
        "from pyspark.ml.evaluation import BinaryClassificationEvaluator\n",
        "from pyspark.ml.tuning import CrossValidator, ParamGridBuilder\n",
        "from pyspark.ml.evaluation import MulticlassClassificationEvaluator\n",
        "nb = NaiveBayes()\n",
        "paramGrid_nb = ParamGridBuilder() \\\n",
        "    .addGrid(nb.smoothing, np.linspace(0.3, 10, 10)) \\\n",
        "    .build()\n",
        "crossval_nb = CrossValidator(estimator=nb,\n",
        "                          estimatorParamMaps=paramGrid_nb,\n",
        "                          evaluator=MulticlassClassificationEvaluator(),\n",
        "                          numFolds= 5) \n",
        "cvModel_nb = crossval_nb.fit(trainDF)"
      ],
      "id": "gJZewrHOEbCu",
      "execution_count": 29,
      "outputs": []
    },
    {
      "cell_type": "code",
      "metadata": {
        "colab": {
          "base_uri": "https://localhost:8080/"
        },
        "id": "plAaMl_tmFcl",
        "outputId": "57f75ec7-b819-4f6f-abb3-cc2e1971dacb"
      },
      "source": [
        "#Make predictions:\n",
        "predictions_nb = cvModel_nb.transform(rescaledData)\n",
        "predictions_nb.select('text','prediction', 'words').show(truncate = False)"
      ],
      "id": "plAaMl_tmFcl",
      "execution_count": 30,
      "outputs": [
        {
          "output_type": "stream",
          "name": "stdout",
          "text": [
            "+----------------------------------------------------------------------------------------------------------------+----------+-----------------------------------------------------------------------------------------------------------------------------------+\n",
            "|text                                                                                                            |prediction|words                                                                                                                              |\n",
            "+----------------------------------------------------------------------------------------------------------------+----------+-----------------------------------------------------------------------------------------------------------------------------------+\n",
            "|Moderna Coronavirus Vaccine Clinical Trials Are 'On Track,'  White House Task Force's Fauci Says                |1.0       |[moderna, coronavirus, vaccine, clinical, trials, are, 'on, track,', , white, house, task, force's, fauci, says]                   |\n",
            "|Tesla could help make lithium ion batteries for ventilators to help fight COVID-19, says ResMed CEO Mick Farrell|1.0       |[tesla, could, help, make, lithium, ion, batteries, for, ventilators, to, help, fight, covid-19,, says, resmed, ceo, mick, farrell]|\n",
            "|Chinese Airlines See Short-Term Virus Hit                                                                       |2.0       |[chinese, airlines, see, short-term, virus, hit]                                                                                   |\n",
            "|Why MercadoLibre Stock Lost 21% Last Month                                                                      |2.0       |[why, mercadolibre, stock, lost, 21%, last, month]                                                                                 |\n",
            "|Cruise operator Carnival pays high price to get credit investors on board: sources                              |1.0       |[cruise, operator, carnival, pays, high, price, to, get, credit, investors, on, board:, sources]                                   |\n",
            "|Virus Drives Down Auto Sales For GM and Fiat                                                                    |2.0       |[virus, drives, down, auto, sales, for, gm, and, fiat]                                                                             |\n",
            "|SoftBank Is Said to Plan to Abandon WeWork Shareholders Deal                                                    |0.0       |[softbank, is, said, to, plan, to, abandon, wework, shareholders, deal]                                                            |\n",
            "|PVH CEO on Macy's woes: 'they're going to be a survivor' post pandemic                                          |1.0       |[pvh, ceo, on, macy's, woes:, 'they're, going, to, be, a, survivor', post, pandemic]                                               |\n",
            "|Calvin Klein-parent PVH CEO on Macy's woes: 'We have a great deal of confidence' in their leadership            |1.0       |[calvin, klein-parent, pvh, ceo, on, macy's, woes:, 'we, have, a, great, deal, of, confidence', in, their, leadership]             |\n",
            "|Dividend Aristocrat McCormick Declares Its Upcoming Payout                                                      |0.0       |[dividend, aristocrat, mccormick, declares, its, upcoming, payout]                                                                 |\n",
            "|Open Letter to Stakeholders                                                                                     |0.0       |[open, letter, to, stakeholders]                                                                                                   |\n",
            "|Why Shares of WD-40 Soared in March                                                                             |1.0       |[why, shares, of, wd-40, soared, in, march]                                                                                        |\n",
            "|SpaceX reportedly bans use of Zoom videoconferencing app by employees                                           |2.0       |[spacex, reportedly, bans, use, of, zoom, videoconferencing, app, by, employees]                                                   |\n",
            "|British Airways could suspend 36,000 employees: BBC                                                             |1.0       |[british, airways, could, suspend, 36,000, employees:, bbc]                                                                        |\n",
            "|Recreational Pot Sales in Bellwether States Tumble After a COVID-19 Buying Peak                                 |1.0       |[recreational, pot, sales, in, bellwether, states, tumble, after, a, covid-19, buying, peak]                                       |\n",
            "|Elon Musk's SpaceX bans Zoom over privacy concerns, memo shows                                                  |2.0       |[elon, musk's, spacex, bans, zoom, over, privacy, concerns,, memo, shows]                                                          |\n",
            "|Why AMC Entertainment Stock Plunged 50% in March                                                                |1.0       |[why, amc, entertainment, stock, plunged, 50%, in, march]                                                                          |\n",
            "|Nintendo: Corona-Proof, But Not A Buy At This Valuation                                                         |1.0       |[nintendo:, corona-proof,, but, not, a, buy, at, this, valuation]                                                                  |\n",
            "|Calvin Klein-parent PVH CEO discloses COVID-19 diagnosis: 'I'm fine'                                            |1.0       |[calvin, klein-parent, pvh, ceo, discloses, covid-19, diagnosis:, 'i'm, fine']                                                     |\n",
            "|3 Luxury Retail Stocks Got Crushed by Today's News                                                              |1.0       |[3, luxury, retail, stocks, got, crushed, by, today's, news]                                                                       |\n",
            "+----------------------------------------------------------------------------------------------------------------+----------+-----------------------------------------------------------------------------------------------------------------------------------+\n",
            "only showing top 20 rows\n",
            "\n"
          ]
        }
      ]
    },
    {
      "cell_type": "code",
      "metadata": {
        "colab": {
          "base_uri": "https://localhost:8080/"
        },
        "id": "yz-CYcdaSMWc",
        "outputId": "af880c35-d8cc-4a26-ba2e-63dd474f279b"
      },
      "source": [
        "predictions_nb.show()"
      ],
      "id": "yz-CYcdaSMWc",
      "execution_count": 31,
      "outputs": [
        {
          "output_type": "stream",
          "name": "stdout",
          "text": [
            "+--------------------+--------------------+--------------------+--------------------+--------------------+--------------------+----------+\n",
            "|                text|               words|         rawFeatures|            features|       rawPrediction|         probability|prediction|\n",
            "+--------------------+--------------------+--------------------+--------------------+--------------------+--------------------+----------+\n",
            "|Moderna Coronavir...|[moderna, coronav...|(11788,[48,102,27...|(11788,[48,102,27...|[-420.10555322662...|[3.05776958548079...|       1.0|\n",
            "|Tesla could help ...|[tesla, could, he...|(11788,[0,5,35,84...|(11788,[0,5,35,84...|[-616.62705243779...|[0.00194011720471...|       1.0|\n",
            "|Chinese Airlines ...|[chinese, airline...|(11788,[175,460,5...|(11788,[175,460,5...|[-320.67902541643...|[2.52310331647121...|       2.0|\n",
            "|Why MercadoLibre ...|[why, mercadolibr...|(11788,[8,15,118,...|(11788,[8,15,118,...|[-257.40832929208...|[7.46305909469553...|       2.0|\n",
            "|Cruise operator C...|[cruise, operator...|(11788,[0,7,16,13...|(11788,[0,7,16,13...|[-511.34371148588...|[0.05417105841010...|       1.0|\n",
            "|Virus Drives Down...|[virus, drives, d...|(11788,[4,5,115,1...|(11788,[4,5,115,1...|[-341.85954131160...|[2.94137830947160...|       2.0|\n",
            "|SoftBank Is Said ...|[softbank, is, sa...|(11788,[0,9,133,1...|(11788,[0,9,133,1...|[-205.69451981033...|[0.97724113052322...|       0.0|\n",
            "|PVH CEO on Macy's...|[pvh, ceo, on, ma...|(11788,[0,6,7,35,...|(11788,[0,6,7,35,...|[-350.14469134294...|[1.55480042779161...|       1.0|\n",
            "|Calvin Klein-pare...|[calvin, klein-pa...|(11788,[2,3,6,7,3...|(11788,[2,3,6,7,3...|[-543.74938651908...|[1.13822365266956...|       1.0|\n",
            "|Dividend Aristocr...|[dividend, aristo...|(11788,[31,53,117...|(11788,[31,53,117...|[-214.21747396676...|[0.99999999982263...|       0.0|\n",
            "|Open Letter to St...|[open, letter, to...|(11788,[0,470,872...|(11788,[0,470,872...|[-199.11168070524...|[0.91906468156399...|       0.0|\n",
            "|Why Shares of WD-...|[why, shares, of,...|(11788,[2,3,15,41...|(11788,[2,3,15,41...|[-180.31575384485...|[7.53103026444075...|       1.0|\n",
            "|SpaceX reportedly...|[spacex, reported...|(11788,[2,75,260,...|(11788,[2,75,260,...|[-431.28842241819...|[0.02866857321314...|       2.0|\n",
            "|British Airways c...|[british, airways...|(11788,[84,979,91...|(11788,[84,979,91...|[-157.87377880914...|[4.89087023409974...|       1.0|\n",
            "|Recreational Pot ...|[recreational, po...|(11788,[3,6,65,14...|(11788,[3,6,65,14...|[-368.78033856282...|[0.00377976204964...|       1.0|\n",
            "|Elon Musk's Space...|[elon, musk's, sp...|(11788,[88,495,15...|(11788,[88,495,15...|[-457.78438047325...|[0.00499300997773...|       2.0|\n",
            "|Why AMC Entertain...|[why, amc, entert...|(11788,[3,8,15,26...|(11788,[3,8,15,26...|[-333.37196690827...|[3.17346301894830...|       1.0|\n",
            "|Nintendo: Corona-...|[nintendo:, coron...|(11788,[6,12,23,3...|(11788,[6,12,23,3...|[-223.68719281032...|[3.28064131127991...|       1.0|\n",
            "|Calvin Klein-pare...|[calvin, klein-pa...|(11788,[35,181,31...|(11788,[35,181,31...|[-174.86712422299...|[0.12071017774636...|       1.0|\n",
            "|3 Luxury Retail S...|[3, luxury, retai...|(11788,[18,54,75,...|(11788,[18,54,75,...|[-312.25603657045...|[6.82932940458397...|       1.0|\n",
            "+--------------------+--------------------+--------------------+--------------------+--------------------+--------------------+----------+\n",
            "only showing top 20 rows\n",
            "\n"
          ]
        }
      ]
    },
    {
      "cell_type": "code",
      "metadata": {
        "colab": {
          "base_uri": "https://localhost:8080/"
        },
        "id": "CcrYLPB4TVV7",
        "outputId": "6df42c52-6fe2-4c3f-e2d4-aaaca33d37a4"
      },
      "source": [
        "predictions_nb_df = predictions_nb.select('prediction', 'text','words')\n",
        "predictions_nb_df.show(5)"
      ],
      "id": "CcrYLPB4TVV7",
      "execution_count": 32,
      "outputs": [
        {
          "output_type": "stream",
          "name": "stdout",
          "text": [
            "+----------+--------------------+--------------------+\n",
            "|prediction|                text|               words|\n",
            "+----------+--------------------+--------------------+\n",
            "|       1.0|Moderna Coronavir...|[moderna, coronav...|\n",
            "|       1.0|Tesla could help ...|[tesla, could, he...|\n",
            "|       2.0|Chinese Airlines ...|[chinese, airline...|\n",
            "|       2.0|Why MercadoLibre ...|[why, mercadolibr...|\n",
            "|       1.0|Cruise operator C...|[cruise, operator...|\n",
            "+----------+--------------------+--------------------+\n",
            "only showing top 5 rows\n",
            "\n"
          ]
        }
      ]
    },
    {
      "cell_type": "code",
      "metadata": {
        "colab": {
          "base_uri": "https://localhost:8080/"
        },
        "id": "x3LNZIg_Q18L",
        "outputId": "2a3bf0e7-26db-4204-af64-2160c8789308"
      },
      "source": [
        "predictions_nb_df.createOrReplaceTempView('temp')\n",
        "predictions_nb_df1 = spark.sql('select case prediction when \"1.0\" then \"Positive\"  when \"2.0\" then \"Negative\" else \"Neutral\" end as predicted_label, text, words from temp')\n",
        "predictions_nb_df1.show(20, truncate = False)"
      ],
      "id": "x3LNZIg_Q18L",
      "execution_count": 33,
      "outputs": [
        {
          "output_type": "stream",
          "name": "stdout",
          "text": [
            "+---------------+----------------------------------------------------------------------------------------------------------------+-----------------------------------------------------------------------------------------------------------------------------------+\n",
            "|predicted_label|text                                                                                                            |words                                                                                                                              |\n",
            "+---------------+----------------------------------------------------------------------------------------------------------------+-----------------------------------------------------------------------------------------------------------------------------------+\n",
            "|Positive       |Moderna Coronavirus Vaccine Clinical Trials Are 'On Track,'  White House Task Force's Fauci Says                |[moderna, coronavirus, vaccine, clinical, trials, are, 'on, track,', , white, house, task, force's, fauci, says]                   |\n",
            "|Positive       |Tesla could help make lithium ion batteries for ventilators to help fight COVID-19, says ResMed CEO Mick Farrell|[tesla, could, help, make, lithium, ion, batteries, for, ventilators, to, help, fight, covid-19,, says, resmed, ceo, mick, farrell]|\n",
            "|Negative       |Chinese Airlines See Short-Term Virus Hit                                                                       |[chinese, airlines, see, short-term, virus, hit]                                                                                   |\n",
            "|Negative       |Why MercadoLibre Stock Lost 21% Last Month                                                                      |[why, mercadolibre, stock, lost, 21%, last, month]                                                                                 |\n",
            "|Positive       |Cruise operator Carnival pays high price to get credit investors on board: sources                              |[cruise, operator, carnival, pays, high, price, to, get, credit, investors, on, board:, sources]                                   |\n",
            "|Negative       |Virus Drives Down Auto Sales For GM and Fiat                                                                    |[virus, drives, down, auto, sales, for, gm, and, fiat]                                                                             |\n",
            "|Neutral        |SoftBank Is Said to Plan to Abandon WeWork Shareholders Deal                                                    |[softbank, is, said, to, plan, to, abandon, wework, shareholders, deal]                                                            |\n",
            "|Positive       |PVH CEO on Macy's woes: 'they're going to be a survivor' post pandemic                                          |[pvh, ceo, on, macy's, woes:, 'they're, going, to, be, a, survivor', post, pandemic]                                               |\n",
            "|Positive       |Calvin Klein-parent PVH CEO on Macy's woes: 'We have a great deal of confidence' in their leadership            |[calvin, klein-parent, pvh, ceo, on, macy's, woes:, 'we, have, a, great, deal, of, confidence', in, their, leadership]             |\n",
            "|Neutral        |Dividend Aristocrat McCormick Declares Its Upcoming Payout                                                      |[dividend, aristocrat, mccormick, declares, its, upcoming, payout]                                                                 |\n",
            "|Neutral        |Open Letter to Stakeholders                                                                                     |[open, letter, to, stakeholders]                                                                                                   |\n",
            "|Positive       |Why Shares of WD-40 Soared in March                                                                             |[why, shares, of, wd-40, soared, in, march]                                                                                        |\n",
            "|Negative       |SpaceX reportedly bans use of Zoom videoconferencing app by employees                                           |[spacex, reportedly, bans, use, of, zoom, videoconferencing, app, by, employees]                                                   |\n",
            "|Positive       |British Airways could suspend 36,000 employees: BBC                                                             |[british, airways, could, suspend, 36,000, employees:, bbc]                                                                        |\n",
            "|Positive       |Recreational Pot Sales in Bellwether States Tumble After a COVID-19 Buying Peak                                 |[recreational, pot, sales, in, bellwether, states, tumble, after, a, covid-19, buying, peak]                                       |\n",
            "|Negative       |Elon Musk's SpaceX bans Zoom over privacy concerns, memo shows                                                  |[elon, musk's, spacex, bans, zoom, over, privacy, concerns,, memo, shows]                                                          |\n",
            "|Positive       |Why AMC Entertainment Stock Plunged 50% in March                                                                |[why, amc, entertainment, stock, plunged, 50%, in, march]                                                                          |\n",
            "|Positive       |Nintendo: Corona-Proof, But Not A Buy At This Valuation                                                         |[nintendo:, corona-proof,, but, not, a, buy, at, this, valuation]                                                                  |\n",
            "|Positive       |Calvin Klein-parent PVH CEO discloses COVID-19 diagnosis: 'I'm fine'                                            |[calvin, klein-parent, pvh, ceo, discloses, covid-19, diagnosis:, 'i'm, fine']                                                     |\n",
            "|Positive       |3 Luxury Retail Stocks Got Crushed by Today's News                                                              |[3, luxury, retail, stocks, got, crushed, by, today's, news]                                                                       |\n",
            "+---------------+----------------------------------------------------------------------------------------------------------------+-----------------------------------------------------------------------------------------------------------------------------------+\n",
            "only showing top 20 rows\n",
            "\n"
          ]
        }
      ]
    },
    {
      "cell_type": "code",
      "metadata": {
        "id": "OeMfDuqTTVUv",
        "colab": {
          "base_uri": "https://localhost:8080/"
        },
        "outputId": "ca87b22b-91b0-4f18-be86-a67c596bba9e"
      },
      "source": [
        "predictions_nb_df1.groupBy('predicted_label').count().show()"
      ],
      "id": "OeMfDuqTTVUv",
      "execution_count": 34,
      "outputs": [
        {
          "output_type": "stream",
          "name": "stdout",
          "text": [
            "+---------------+-----+\n",
            "|predicted_label|count|\n",
            "+---------------+-----+\n",
            "|       Positive| 2792|\n",
            "|        Neutral| 2895|\n",
            "|       Negative|  413|\n",
            "+---------------+-----+\n",
            "\n"
          ]
        }
      ]
    },
    {
      "cell_type": "code",
      "metadata": {
        "id": "nkv7BDfeQ19Z"
      },
      "source": [
        "predictions_nb_df1.toPandas().to_csv('pre-vax_predictions_count_vector_naive_bayes_model.csv')"
      ],
      "id": "nkv7BDfeQ19Z",
      "execution_count": 35,
      "outputs": []
    }
  ]
}