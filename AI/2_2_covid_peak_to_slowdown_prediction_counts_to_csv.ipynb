{
  "nbformat": 4,
  "nbformat_minor": 5,
  "metadata": {
    "kernelspec": {
      "display_name": "Python 3",
      "language": "python",
      "name": "python3"
    },
    "language_info": {
      "codemirror_mode": {
        "name": "ipython",
        "version": 3
      },
      "file_extension": ".py",
      "mimetype": "text/x-python",
      "name": "python",
      "nbconvert_exporter": "python",
      "pygments_lexer": "ipython3",
      "version": "3.8.8"
    },
    "colab": {
      "name": "2.2_covid_peak_to_slowdown_prediction_counts_to_csv.ipynb",
      "provenance": [],
      "collapsed_sections": [],
      "include_colab_link": true
    }
  },
  "cells": [
    {
      "cell_type": "markdown",
      "metadata": {
        "id": "view-in-github",
        "colab_type": "text"
      },
      "source": [
        "<a href=\"https://colab.research.google.com/github/dalismo/Finance_News_Sentiment/blob/ai%2Fall_covid_stage_api_pull_run_machine/2_2_covid_peak_to_slowdown_prediction_counts_to_csv.ipynb\" target=\"_parent\"><img src=\"https://colab.research.google.com/assets/colab-badge.svg\" alt=\"Open In Colab\"/></a>"
      ]
    },
    {
      "cell_type": "code",
      "metadata": {
        "colab": {
          "base_uri": "https://localhost:8080/"
        },
        "id": "b7676daf",
        "outputId": "9f3b2ade-9a0b-4c6a-8474-2277eee0b704"
      },
      "source": [
        "import pandas as pd\n",
        "\n",
        "import os\n",
        "# Find the latest version of spark 3.0  from http://www.apache.org/dist/spark/ and enter as the spark version\n",
        "# For example:\n",
        "# spark_version = 'spark-3.0.3'\n",
        "spark_version = 'spark-3.0.3'\n",
        "os.environ['SPARK_VERSION']=spark_version\n",
        "\n",
        "# Install Spark and Java\n",
        "!apt-get update\n",
        "!apt-get install openjdk-11-jdk-headless -qq > /dev/null\n",
        "!wget -q http://www.apache.org/dist/spark/$SPARK_VERSION/$SPARK_VERSION-bin-hadoop2.7.tgz\n",
        "!tar xf $SPARK_VERSION-bin-hadoop2.7.tgz\n",
        "!pip install -q findspark\n",
        "\n",
        "# Set Environment Variables\n",
        "os.environ[\"JAVA_HOME\"] = \"/usr/lib/jvm/java-11-openjdk-amd64\"\n",
        "os.environ[\"SPARK_HOME\"] = f\"/content/{spark_version}-bin-hadoop2.7\"\n",
        "\n",
        "# Start a SparkSession\n",
        "import findspark\n",
        "findspark.init()"
      ],
      "id": "b7676daf",
      "execution_count": 1,
      "outputs": [
        {
          "output_type": "stream",
          "name": "stdout",
          "text": [
            "\r0% [Working]\r            \rGet:1 https://cloud.r-project.org/bin/linux/ubuntu bionic-cran40/ InRelease [3,626 B]\n",
            "\r0% [Connecting to archive.ubuntu.com (91.189.88.152)] [Connecting to security.u\r0% [Connecting to archive.ubuntu.com (91.189.88.152)] [Connecting to security.u\r0% [1 InRelease gpgv 3,626 B] [Connecting to archive.ubuntu.com (91.189.88.152)\r                                                                               \rGet:2 http://security.ubuntu.com/ubuntu bionic-security InRelease [88.7 kB]\n",
            "Ign:3 https://developer.download.nvidia.com/compute/cuda/repos/ubuntu1804/x86_64  InRelease\n",
            "Get:4 http://ppa.launchpad.net/c2d4u.team/c2d4u4.0+/ubuntu bionic InRelease [15.9 kB]\n",
            "Hit:5 http://archive.ubuntu.com/ubuntu bionic InRelease\n",
            "Ign:6 https://developer.download.nvidia.com/compute/machine-learning/repos/ubuntu1804/x86_64  InRelease\n",
            "Get:7 https://developer.download.nvidia.com/compute/cuda/repos/ubuntu1804/x86_64  Release [696 B]\n",
            "Hit:8 https://developer.download.nvidia.com/compute/machine-learning/repos/ubuntu1804/x86_64  Release\n",
            "Get:9 https://developer.download.nvidia.com/compute/cuda/repos/ubuntu1804/x86_64  Release.gpg [836 B]\n",
            "Get:10 http://archive.ubuntu.com/ubuntu bionic-updates InRelease [88.7 kB]\n",
            "Hit:11 http://ppa.launchpad.net/cran/libgit2/ubuntu bionic InRelease\n",
            "Get:12 http://archive.ubuntu.com/ubuntu bionic-backports InRelease [74.6 kB]\n",
            "Get:13 http://ppa.launchpad.net/deadsnakes/ppa/ubuntu bionic InRelease [15.9 kB]\n",
            "Get:14 http://security.ubuntu.com/ubuntu bionic-security/main amd64 Packages [2,324 kB]\n",
            "Get:15 http://security.ubuntu.com/ubuntu bionic-security/universe amd64 Packages [1,428 kB]\n",
            "Hit:16 http://ppa.launchpad.net/graphics-drivers/ppa/ubuntu bionic InRelease\n",
            "Get:17 http://security.ubuntu.com/ubuntu bionic-security/restricted amd64 Packages [567 kB]\n",
            "Get:19 https://developer.download.nvidia.com/compute/cuda/repos/ubuntu1804/x86_64  Packages [717 kB]\n",
            "Get:20 http://ppa.launchpad.net/c2d4u.team/c2d4u4.0+/ubuntu bionic/main Sources [1,799 kB]\n",
            "Get:21 http://archive.ubuntu.com/ubuntu bionic-updates/universe amd64 Packages [2,202 kB]\n",
            "Get:22 http://ppa.launchpad.net/c2d4u.team/c2d4u4.0+/ubuntu bionic/main amd64 Packages [921 kB]\n",
            "Get:23 http://archive.ubuntu.com/ubuntu bionic-updates/main amd64 Packages [2,760 kB]\n",
            "Get:24 http://archive.ubuntu.com/ubuntu bionic-updates/restricted amd64 Packages [600 kB]\n",
            "Get:25 http://ppa.launchpad.net/deadsnakes/ppa/ubuntu bionic/main amd64 Packages [40.8 kB]\n",
            "Fetched 13.6 MB in 3s (4,088 kB/s)\n",
            "Reading package lists... Done\n"
          ]
        }
      ]
    },
    {
      "cell_type": "code",
      "metadata": {
        "id": "CvoLwz9S0gwE"
      },
      "source": [
        "# Start Spark session\n",
        "from pyspark.sql import SparkSession\n",
        "# spark = SparkSession.builder.appName(\"StopWords\").getOrCreate()\n",
        "spark = SparkSession.builder.appName(\"Fin-sent-count-vector\").getOrCreate()"
      ],
      "id": "CvoLwz9S0gwE",
      "execution_count": 2,
      "outputs": []
    },
    {
      "cell_type": "code",
      "metadata": {
        "id": "69qSAC1R1EgS"
      },
      "source": [
        "from pyspark.ml.feature import Tokenizer, StopWordsRemover"
      ],
      "id": "69qSAC1R1EgS",
      "execution_count": 3,
      "outputs": []
    },
    {
      "cell_type": "code",
      "metadata": {
        "colab": {
          "base_uri": "https://localhost:8080/"
        },
        "id": "mODaD0re3ulm",
        "outputId": "0185d9b9-b42f-414e-f2cc-e83e8fa594bc"
      },
      "source": [
        "# Read in data from S3 Buckets\n",
        "from pyspark import SparkFiles\n",
        "\n",
        "url = 'https://raw.githubusercontent.com/dalismo/Finance_News_Sentiment/main/Resources/sentiment-train.csv'\n",
        "# df = pd.read_csv(url,encoding='latin-1', header=None)\n",
        "# url =\"https://s3.amazonaws.com/dataviz-curriculum/day_2/yelp_reviews.csv\"\n",
        "spark.sparkContext.addFile(url)\n",
        "df = spark.read.csv(SparkFiles.get(\"sentiment-train.csv\"), sep=\",\", header=None)\n",
        "\n",
        "\n",
        "\n",
        "# Show DataFrame\n",
        "df.show(5, truncate=False)\n"
      ],
      "id": "mODaD0re3ulm",
      "execution_count": 4,
      "outputs": [
        {
          "output_type": "stream",
          "name": "stdout",
          "text": [
            "+--------+-----------------------------------------------------------------------------------------------------+\n",
            "|_c0     |_c1                                                                                                  |\n",
            "+--------+-----------------------------------------------------------------------------------------------------+\n",
            "|Positive|Autodesk Is Down 15% After Q2 Earnings -- Is This a Buying Opportunity?                              |\n",
            "|Positive|Blue Shield of California, Walgreens Partner on Personalized Healthcare Solution                     |\n",
            "|Positive|RSX: Russian Equities Are Still Undervalued                                                          |\n",
            "|Positive|XLB: Hold Your Position                                                                              |\n",
            "|Positive|Musgrave Minerals broad, near-surface high-grade results open up further Cue gold discovery potential|\n",
            "+--------+-----------------------------------------------------------------------------------------------------+\n",
            "only showing top 5 rows\n",
            "\n"
          ]
        }
      ]
    },
    {
      "cell_type": "code",
      "metadata": {
        "colab": {
          "base_uri": "https://localhost:8080/"
        },
        "id": "4BbzYExyNYCR",
        "outputId": "8f2ac57b-95dd-4969-ff31-632e55fe1369"
      },
      "source": [
        "from pyspark.sql.functions import length\n",
        "# Create a length column to be used as a future feature \n",
        "data_df = df.withColumn('length', length(df['_c1']))\n",
        "data_df.show()"
      ],
      "id": "4BbzYExyNYCR",
      "execution_count": 5,
      "outputs": [
        {
          "output_type": "stream",
          "name": "stdout",
          "text": [
            "+--------+--------------------+------+\n",
            "|     _c0|                 _c1|length|\n",
            "+--------+--------------------+------+\n",
            "|Positive|Autodesk Is Down ...|    71|\n",
            "|Positive|Blue Shield of Ca...|    80|\n",
            "|Positive|RSX: Russian Equi...|    43|\n",
            "|Positive|XLB: Hold Your Po...|    23|\n",
            "|Positive|Musgrave Minerals...|   101|\n",
            "|Positive|ViacomCBS to rest...|    49|\n",
            "|Positive|Oil climbs to one...|    51|\n",
            "|Negative|Australian regula...|    67|\n",
            "|Positive|The Wall Street J...|    90|\n",
            "|Positive|Ora Banda Mining ...|    50|\n",
            "|Positive|Google Pay Plans ...|    43|\n",
            "|Negative|Toyota, Honda Ang...|    69|\n",
            "| Neutral|ZY Investor Alert...|    44|\n",
            "| Neutral|Calima Energy spu...|    58|\n",
            "|Positive|These Marijuana S...|    56|\n",
            "|Positive|Moderna ETFs to R...|    61|\n",
            "| Neutral|MacroGenics Annou...|    72|\n",
            "| Neutral|Zymeworks Announc...|   173|\n",
            "| Neutral|BioXcel Therapeut...|   130|\n",
            "| Neutral|Merck to Present ...|    80|\n",
            "+--------+--------------------+------+\n",
            "only showing top 20 rows\n",
            "\n"
          ]
        }
      ]
    },
    {
      "cell_type": "code",
      "metadata": {
        "colab": {
          "base_uri": "https://localhost:8080/"
        },
        "id": "HiCnjIddrflT",
        "outputId": "fedd29ba-2eb1-4c90-8096-4c708bd217fe"
      },
      "source": [
        "df2 = data_df.withColumnRenamed(\"_c0\", \"class\").withColumnRenamed(\"_c1\", \"text\")\n",
        "df2.printSchema()\n",
        "df2.show(20, truncate = False)\n"
      ],
      "id": "HiCnjIddrflT",
      "execution_count": 6,
      "outputs": [
        {
          "output_type": "stream",
          "name": "stdout",
          "text": [
            "root\n",
            " |-- class: string (nullable = true)\n",
            " |-- text: string (nullable = true)\n",
            " |-- length: integer (nullable = true)\n",
            "\n",
            "+--------+-----------------------------------------------------------------------------------------------------------------------------------------------------------------------------+------+\n",
            "|class   |text                                                                                                                                                                         |length|\n",
            "+--------+-----------------------------------------------------------------------------------------------------------------------------------------------------------------------------+------+\n",
            "|Positive|Autodesk Is Down 15% After Q2 Earnings -- Is This a Buying Opportunity?                                                                                                      |71    |\n",
            "|Positive|Blue Shield of California, Walgreens Partner on Personalized Healthcare Solution                                                                                             |80    |\n",
            "|Positive|RSX: Russian Equities Are Still Undervalued                                                                                                                                  |43    |\n",
            "|Positive|XLB: Hold Your Position                                                                                                                                                      |23    |\n",
            "|Positive|Musgrave Minerals broad, near-surface high-grade results open up further Cue gold discovery potential                                                                        |101   |\n",
            "|Positive|ViacomCBS to restructure Paramount Pictures - WSJ                                                                                                                            |49    |\n",
            "|Positive|Oil climbs to one-week high on U.S. supply concerns                                                                                                                          |51    |\n",
            "|Negative|Australian regulator denies approval for Qantas-Japan Airlines deal                                                                                                          |67    |\n",
            "|Positive|The Wall Street Journal: ViacomCBS revamping Paramount operations, refocusing on streaming                                                                                   |90    |\n",
            "|Positive|Ora Banda Mining to receive $11 million for Mt Ida                                                                                                                           |50    |\n",
            "|Positive|Google Pay Plans Israel Debut by Year's End                                                                                                                                  |43    |\n",
            "|Negative|Toyota, Honda Angry After Getting Shut Out of Electric Car Tax Credit                                                                                                        |69    |\n",
            "|Neutral |ZY Investor Alert: Shareholder Lawsuit Filed                                                                                                                                 |44    |\n",
            "|Neutral |Calima Energy spuds Leo #3 with fracturing just weeks away                                                                                                                   |58    |\n",
            "|Positive|These Marijuana Stocks May Soon Start To Recover In 2021                                                                                                                     |56    |\n",
            "|Positive|Moderna ETFs to Rally on Two-in-One Vaccine Booster Shot News                                                                                                                |61    |\n",
            "|Neutral |MacroGenics Announces Presentations at ESMO 2021 Virtual Annual Congress                                                                                                     |72    |\n",
            "|Neutral |Zymeworks Announces Abstract for Zanidatamab in First-line HER2-Expressing Gastroesophageal Cancers (GEA) at the European Society for Medical Oncology (ESMO) Annual Congress|173   |\n",
            "|Neutral |BioXcel Therapeutics to Present Updates from Ongoing Trial of BXCL701 in Aggressive Forms of Prostate Cancer at 2021 ESMO Congress                                           |130   |\n",
            "|Neutral |Merck to Present Latest Highlights From Oncology Portfolio at WCLC and ESMO 2021                                                                                             |80    |\n",
            "+--------+-----------------------------------------------------------------------------------------------------------------------------------------------------------------------------+------+\n",
            "only showing top 20 rows\n",
            "\n"
          ]
        }
      ]
    },
    {
      "cell_type": "code",
      "metadata": {
        "colab": {
          "base_uri": "https://localhost:8080/"
        },
        "id": "8tMPNronWpK1",
        "outputId": "f3e6754a-7a8d-4148-f783-c4c3fd4ac875"
      },
      "source": [
        "df2.createOrReplaceTempView('temp')\n",
        "df3 = spark.sql('select case class when \"Positive\" then 1.0  when \"Negative\" then 2.0 else 0 end as label, text from temp')\n",
        "df3.show(20, truncate = False)"
      ],
      "id": "8tMPNronWpK1",
      "execution_count": 7,
      "outputs": [
        {
          "output_type": "stream",
          "name": "stdout",
          "text": [
            "+-----+-----------------------------------------------------------------------------------------------------------------------------------------------------------------------------+\n",
            "|label|text                                                                                                                                                                         |\n",
            "+-----+-----------------------------------------------------------------------------------------------------------------------------------------------------------------------------+\n",
            "|1.0  |Autodesk Is Down 15% After Q2 Earnings -- Is This a Buying Opportunity?                                                                                                      |\n",
            "|1.0  |Blue Shield of California, Walgreens Partner on Personalized Healthcare Solution                                                                                             |\n",
            "|1.0  |RSX: Russian Equities Are Still Undervalued                                                                                                                                  |\n",
            "|1.0  |XLB: Hold Your Position                                                                                                                                                      |\n",
            "|1.0  |Musgrave Minerals broad, near-surface high-grade results open up further Cue gold discovery potential                                                                        |\n",
            "|1.0  |ViacomCBS to restructure Paramount Pictures - WSJ                                                                                                                            |\n",
            "|1.0  |Oil climbs to one-week high on U.S. supply concerns                                                                                                                          |\n",
            "|2.0  |Australian regulator denies approval for Qantas-Japan Airlines deal                                                                                                          |\n",
            "|1.0  |The Wall Street Journal: ViacomCBS revamping Paramount operations, refocusing on streaming                                                                                   |\n",
            "|1.0  |Ora Banda Mining to receive $11 million for Mt Ida                                                                                                                           |\n",
            "|1.0  |Google Pay Plans Israel Debut by Year's End                                                                                                                                  |\n",
            "|2.0  |Toyota, Honda Angry After Getting Shut Out of Electric Car Tax Credit                                                                                                        |\n",
            "|0.0  |ZY Investor Alert: Shareholder Lawsuit Filed                                                                                                                                 |\n",
            "|0.0  |Calima Energy spuds Leo #3 with fracturing just weeks away                                                                                                                   |\n",
            "|1.0  |These Marijuana Stocks May Soon Start To Recover In 2021                                                                                                                     |\n",
            "|1.0  |Moderna ETFs to Rally on Two-in-One Vaccine Booster Shot News                                                                                                                |\n",
            "|0.0  |MacroGenics Announces Presentations at ESMO 2021 Virtual Annual Congress                                                                                                     |\n",
            "|0.0  |Zymeworks Announces Abstract for Zanidatamab in First-line HER2-Expressing Gastroesophageal Cancers (GEA) at the European Society for Medical Oncology (ESMO) Annual Congress|\n",
            "|0.0  |BioXcel Therapeutics to Present Updates from Ongoing Trial of BXCL701 in Aggressive Forms of Prostate Cancer at 2021 ESMO Congress                                           |\n",
            "|0.0  |Merck to Present Latest Highlights From Oncology Portfolio at WCLC and ESMO 2021                                                                                             |\n",
            "+-----+-----------------------------------------------------------------------------------------------------------------------------------------------------------------------------+\n",
            "only showing top 20 rows\n",
            "\n"
          ]
        }
      ]
    },
    {
      "cell_type": "code",
      "metadata": {
        "colab": {
          "base_uri": "https://localhost:8080/"
        },
        "id": "j89il24uZ-s_",
        "outputId": "d2035d71-6132-42df-ec99-6ab982f3b08c"
      },
      "source": [
        "from pyspark.ml.feature import  Tokenizer\n",
        "tokenizer = Tokenizer(inputCol=\"text\", outputCol=\"words\")\n",
        "wordsData = tokenizer.transform(df3)\n",
        "wordsData.show()"
      ],
      "id": "j89il24uZ-s_",
      "execution_count": 8,
      "outputs": [
        {
          "output_type": "stream",
          "name": "stdout",
          "text": [
            "+-----+--------------------+--------------------+\n",
            "|label|                text|               words|\n",
            "+-----+--------------------+--------------------+\n",
            "|  1.0|Autodesk Is Down ...|[autodesk, is, do...|\n",
            "|  1.0|Blue Shield of Ca...|[blue, shield, of...|\n",
            "|  1.0|RSX: Russian Equi...|[rsx:, russian, e...|\n",
            "|  1.0|XLB: Hold Your Po...|[xlb:, hold, your...|\n",
            "|  1.0|Musgrave Minerals...|[musgrave, minera...|\n",
            "|  1.0|ViacomCBS to rest...|[viacomcbs, to, r...|\n",
            "|  1.0|Oil climbs to one...|[oil, climbs, to,...|\n",
            "|  2.0|Australian regula...|[australian, regu...|\n",
            "|  1.0|The Wall Street J...|[the, wall, stree...|\n",
            "|  1.0|Ora Banda Mining ...|[ora, banda, mini...|\n",
            "|  1.0|Google Pay Plans ...|[google, pay, pla...|\n",
            "|  2.0|Toyota, Honda Ang...|[toyota,, honda, ...|\n",
            "|  0.0|ZY Investor Alert...|[zy, investor, al...|\n",
            "|  0.0|Calima Energy spu...|[calima, energy, ...|\n",
            "|  1.0|These Marijuana S...|[these, marijuana...|\n",
            "|  1.0|Moderna ETFs to R...|[moderna, etfs, t...|\n",
            "|  0.0|MacroGenics Annou...|[macrogenics, ann...|\n",
            "|  0.0|Zymeworks Announc...|[zymeworks, annou...|\n",
            "|  0.0|BioXcel Therapeut...|[bioxcel, therape...|\n",
            "|  0.0|Merck to Present ...|[merck, to, prese...|\n",
            "+-----+--------------------+--------------------+\n",
            "only showing top 20 rows\n",
            "\n"
          ]
        }
      ]
    },
    {
      "cell_type": "code",
      "metadata": {
        "colab": {
          "base_uri": "https://localhost:8080/"
        },
        "id": "ZlhgmA2GaNHX",
        "outputId": "76255dc3-96cc-4e2c-b060-026e4209bd65"
      },
      "source": [
        "from pyspark.ml.feature import CountVectorizer\n",
        "count = CountVectorizer (inputCol=\"words\", outputCol=\"rawFeatures\")\n",
        "model = count.fit(wordsData)\n",
        "featurizedData = model.transform(wordsData)\n",
        "featurizedData.show()"
      ],
      "id": "ZlhgmA2GaNHX",
      "execution_count": 9,
      "outputs": [
        {
          "output_type": "stream",
          "name": "stdout",
          "text": [
            "+-----+--------------------+--------------------+--------------------+\n",
            "|label|                text|               words|         rawFeatures|\n",
            "+-----+--------------------+--------------------+--------------------+\n",
            "|  1.0|Autodesk Is Down ...|[autodesk, is, do...|(11788,[6,9,19,37...|\n",
            "|  1.0|Blue Shield of Ca...|[blue, shield, of...|(11788,[2,7,177,5...|\n",
            "|  1.0|RSX: Russian Equi...|[rsx:, russian, e...|(11788,[48,262,63...|\n",
            "|  1.0|XLB: Hold Your Po...|[xlb:, hold, your...|(11788,[158,335,1...|\n",
            "|  1.0|Musgrave Minerals...|[musgrave, minera...|(11788,[26,49,89,...|\n",
            "|  1.0|ViacomCBS to rest...|[viacomcbs, to, r...|(11788,[0,34,1891...|\n",
            "|  1.0|Oil climbs to one...|[oil, climbs, to,...|(11788,[0,7,100,1...|\n",
            "|  2.0|Australian regula...|[australian, regu...|(11788,[5,175,179...|\n",
            "|  1.0|The Wall Street J...|[the, wall, stree...|(11788,[1,7,292,4...|\n",
            "|  1.0|Ora Banda Mining ...|[ora, banda, mini...|(11788,[0,5,72,32...|\n",
            "|  1.0|Google Pay Plans ...|[google, pay, pla...|(11788,[75,217,26...|\n",
            "|  2.0|Toyota, Honda Ang...|[toyota,, honda, ...|(11788,[2,65,230,...|\n",
            "|  0.0|ZY Investor Alert...|[zy, investor, al...|(11788,[43,44,63,...|\n",
            "|  0.0|Calima Energy spu...|[calima, energy, ...|(11788,[10,83,338...|\n",
            "|  1.0|These Marijuana S...|[these, marijuana...|(11788,[0,3,13,18...|\n",
            "|  1.0|Moderna ETFs to R...|[moderna, etfs, t...|(11788,[0,7,172,2...|\n",
            "|  0.0|MacroGenics Annou...|[macrogenics, ann...|(11788,[11,12,13,...|\n",
            "|  0.0|Zymeworks Announc...|[zymeworks, annou...|(11788,[1,3,5,11,...|\n",
            "|  0.0|BioXcel Therapeut...|[bioxcel, therape...|(11788,[0,2,3,12,...|\n",
            "|  0.0|Merck to Present ...|[merck, to, prese...|(11788,[0,4,12,13...|\n",
            "+-----+--------------------+--------------------+--------------------+\n",
            "only showing top 20 rows\n",
            "\n"
          ]
        }
      ]
    },
    {
      "cell_type": "code",
      "metadata": {
        "colab": {
          "base_uri": "https://localhost:8080/"
        },
        "id": "pj4m9hLsaV_G",
        "outputId": "aab7f4ca-8175-4191-bc02-7221f0f7a425"
      },
      "source": [
        "from pyspark.ml.feature import  IDF\n",
        "#IDF down-weighs features which appear frequently in a corpus. This generally improves performance when using text as features since most frequent, and hence less important words, get down-weighed.\n",
        "idf = IDF(inputCol=\"rawFeatures\", outputCol=\"features\")\n",
        "idfModel = idf.fit(featurizedData)\n",
        "rescaledData = idfModel.transform(featurizedData)\n",
        "rescaledData.select(\"label\", \"features\").show()  \n",
        "# We want only the label and features columns for our machine learning models"
      ],
      "id": "pj4m9hLsaV_G",
      "execution_count": 10,
      "outputs": [
        {
          "output_type": "stream",
          "name": "stdout",
          "text": [
            "+-----+--------------------+\n",
            "|label|            features|\n",
            "+-----+--------------------+\n",
            "|  1.0|(11788,[6,9,19,37...|\n",
            "|  1.0|(11788,[2,7,177,5...|\n",
            "|  1.0|(11788,[48,262,63...|\n",
            "|  1.0|(11788,[158,335,1...|\n",
            "|  1.0|(11788,[26,49,89,...|\n",
            "|  1.0|(11788,[0,34,1891...|\n",
            "|  1.0|(11788,[0,7,100,1...|\n",
            "|  2.0|(11788,[5,175,179...|\n",
            "|  1.0|(11788,[1,7,292,4...|\n",
            "|  1.0|(11788,[0,5,72,32...|\n",
            "|  1.0|(11788,[75,217,26...|\n",
            "|  2.0|(11788,[2,65,230,...|\n",
            "|  0.0|(11788,[43,44,63,...|\n",
            "|  0.0|(11788,[10,83,338...|\n",
            "|  1.0|(11788,[0,3,13,18...|\n",
            "|  1.0|(11788,[0,7,172,2...|\n",
            "|  0.0|(11788,[11,12,13,...|\n",
            "|  0.0|(11788,[1,3,5,11,...|\n",
            "|  0.0|(11788,[0,2,3,12,...|\n",
            "|  0.0|(11788,[0,4,12,13...|\n",
            "+-----+--------------------+\n",
            "only showing top 20 rows\n",
            "\n"
          ]
        }
      ]
    },
    {
      "cell_type": "code",
      "metadata": {
        "id": "gvprtx9Vaed2"
      },
      "source": [
        "seed = 0  # set seed for reproducibility\n",
        "trainDF, testDF = rescaledData.randomSplit([0.8,0.2],seed)"
      ],
      "id": "gvprtx9Vaed2",
      "execution_count": 11,
      "outputs": []
    },
    {
      "cell_type": "code",
      "metadata": {
        "colab": {
          "base_uri": "https://localhost:8080/"
        },
        "id": "jx1mwMzJagt5",
        "outputId": "564edf5c-52c7-4cb2-ae2f-a88891e355be"
      },
      "source": [
        "trainDF.count()"
      ],
      "id": "jx1mwMzJagt5",
      "execution_count": 12,
      "outputs": [
        {
          "output_type": "execute_result",
          "data": {
            "text/plain": [
              "3965"
            ]
          },
          "metadata": {},
          "execution_count": 12
        }
      ]
    },
    {
      "cell_type": "code",
      "metadata": {
        "colab": {
          "base_uri": "https://localhost:8080/"
        },
        "id": "uPmhzGFBqCNC",
        "outputId": "effe53ef-870e-47c9-fbaa-b49f60a95475"
      },
      "source": [
        "trainDF.show(truncate=False)"
      ],
      "id": "uPmhzGFBqCNC",
      "execution_count": 13,
      "outputs": [
        {
          "output_type": "stream",
          "name": "stdout",
          "text": [
            "+-----+--------------------------------------------------------------------------------------------------------------------------------------------------------------------------------+------------------------------------------------------------------------------------------------------------------------------------------------------------------------------------------------------------------+---------------------------------------------------------------------------------------------------------------------------------------------------------------------------------------------------------------------------------------------------------------------------+-----------------------------------------------------------------------------------------------------------------------------------------------------------------------------------------------------------------------------------------------------------------------------------------------------------------------------------------------------------------------------------------------------------------------------------------------------------------------------------------------------------------------------------------------------------------------------------------------------------------------------------------------------------------------------------------------------------------------------------+\n",
            "|label|text                                                                                                                                                                            |words                                                                                                                                                                                                             |rawFeatures                                                                                                                                                                                                                                                                |features                                                                                                                                                                                                                                                                                                                                                                                                                                                                                                                                                                                                                                                                                                                           |\n",
            "+-----+--------------------------------------------------------------------------------------------------------------------------------------------------------------------------------+------------------------------------------------------------------------------------------------------------------------------------------------------------------------------------------------------------------+---------------------------------------------------------------------------------------------------------------------------------------------------------------------------------------------------------------------------------------------------------------------------+-----------------------------------------------------------------------------------------------------------------------------------------------------------------------------------------------------------------------------------------------------------------------------------------------------------------------------------------------------------------------------------------------------------------------------------------------------------------------------------------------------------------------------------------------------------------------------------------------------------------------------------------------------------------------------------------------------------------------------------+\n",
            "|0.0  |\"ASSA ABLOY to acquire Hardware and Home Improvement (\"\"HHI\"\") division of Spectrum Brands\"                                                                                     |[\"assa, abloy, to, acquire, hardware, and, home, improvement, (\"\"hhi\"\"), division, of, spectrum, brands\"]                                                                                                         |(11788,[0,2,4,313,371,418,902,1337,1545,4656,5479,5495,7907],[1.0,1.0,1.0,1.0,1.0,1.0,1.0,1.0,1.0,1.0,1.0,1.0,1.0])                                                                                                                                                        |(11788,[0,2,4,313,371,418,902,1337,1545,4656,5479,5495,7907],[1.2271002889723068,1.755820402614848,1.939531813697857,5.298517346550703,5.472870733695481,5.572954192252463,6.214808078424858,6.571483022363591,6.725633702190849,7.418780882750794,7.824245990858959,7.824245990858959,7.824245990858959])                                                                                                                                                                                                                                                                                                                                                                                                                         |\n",
            "|0.0  |\"BofA Unveils \"\"VAM 2.0\"\"                                                                                                                                                       |[\"bofa, unveils, \"\"vam, 2.0\"\"]                                                                                                                                                                                    |(11788,[399,7222,9292,10963],[1.0,1.0,1.0,1.0])                                                                                                                                                                                                                            |(11788,[399,7222,9292,10963],[5.521660897864913,7.824245990858959,7.824245990858959,7.824245990858959])                                                                                                                                                                                                                                                                                                                                                                                                                                                                                                                                                                                                                            |\n",
            "|0.0  |\"CP Offer for KCS Declared \"\"Company Superior Proposal\"\" by KCS Board\"                                                                                                          |[\"cp, offer, for, kcs, declared, \"\"company, superior, proposal\"\", by, kcs, board\"]                                                                                                                                |(11788,[5,75,344,1400,2928,2994,5426,9691,10783,11221],[1.0,1.0,1.0,1.0,2.0,1.0,1.0,1.0,1.0,1.0])                                                                                                                                                                          |(11788,[5,75,344,1400,2928,2994,5426,9691,10783,11221],[2.002680480546374,4.017583501088638,5.381898955489754,6.725633702190849,14.837561765501588,7.418780882750794,7.824245990858959,7.824245990858959,7.824245990858959,7.824245990858959])                                                                                                                                                                                                                                                                                                                                                                                                                                                                                     |\n",
            "|0.0  |\"Cumulus Podcast Network's Just Getting Started With Rich Eisen To Feature Special Fall 2021 Series \"\"Voices Of Football\"\"\"                                                     |[\"cumulus, podcast, network's, just, getting, started, with, rich, eisen, to, feature, special, fall, 2021, series, \"\"voices, of, football\"\"\"]                                                                    |(11788,[0,2,10,13,338,364,710,821,891,1064,2134,2452,2465,5005,5760,5919,6472,10385],[1.0,1.0,1.0,1.0,1.0,1.0,1.0,1.0,1.0,1.0,1.0,1.0,1.0,1.0,1.0,1.0,1.0,1.0])                                                                                                            |(11788,[0,2,10,13,338,364,710,821,891,1064,2134,2452,2465,5005,5760,5919,6472,10385],[1.2271002889723068,1.755820402614848,2.423823401373768,2.5209410827998826,5.381898955489754,5.426350718060588,6.1194978986205335,6.1194978986205335,6.214808078424858,6.437951629739068,6.907955258984804,7.131098810299013,7.131098810299013,7.824245990858959,7.824245990858959,7.824245990858959,7.824245990858959,7.824245990858959])                                                                                                                                                                                                                                                                                                    |\n",
            "|0.0  |\"Epic Games asks Apple to allow \"\"Fortnite\"\" to return in South Korea\"                                                                                                          |[\"epic, games, asks, apple, to, allow, \"\"fortnite\"\", to, return, in, south, korea\"]                                                                                                                               |(11788,[0,3,86,278,397,978,1165,1388,4254,9735,10156],[2.0,1.0,1.0,1.0,1.0,1.0,1.0,1.0,1.0,1.0,1.0])                                                                                                                                                                       |(11788,[0,3,86,278,397,978,1165,1388,4254,9735,10156],[2.4542005779446137,1.8117540765589006,4.186659831132572,5.1851886612437,5.521660897864913,6.320168594082684,6.437951629739068,6.571483022363591,7.418780882750794,7.824245990858959,7.824245990858959])                                                                                                                                                                                                                                                                                                                                                                                                                                                                     |\n",
            "|0.0  |\"Great Bear Provides Complete Assays from Central LP Fault \"\"Auro2\"\" High-Grade Gold Domain and Update on Geological Modelling\"                                                 |[\"great, bear, provides, complete, assays, from, central, lp, fault, \"\"auro2\"\", high-grade, gold, domain, and, update, on, geological, modelling\"]                                                                |(11788,[4,7,45,89,121,161,1091,1381,1684,1779,1869,2231,2602,3701,5173,6681,9661,11091],[1.0,1.0,1.0,1.0,1.0,1.0,1.0,1.0,1.0,1.0,1.0,1.0,1.0,1.0,1.0,1.0,1.0,1.0])                                                                                                         |(11788,[4,7,45,89,121,161,1091,1381,1684,1779,1869,2231,2602,3701,5173,6681,9661,11091],[1.939531813697857,2.173512737292573,3.612118392980474,4.254713294377588,4.406519307245593,4.688751774929809,6.437951629739068,6.571483022363591,6.725633702190849,6.907955258984804,6.907955258984804,7.131098810299013,7.131098810299013,7.418780882750794,7.824245990858959,7.824245990858959,7.824245990858959,7.824245990858959])                                                                                                                                                                                                                                                                                                     |\n",
            "|0.0  |\"IDenta Corp Announces \"\"Touch&Know\"\" Brand Drug Detection Kits for Personal Use                                                                                                |[\"identa, corp, announces, \"\"touch&know\"\", brand, drug, detection, kits, for, personal, use]                                                                                                                      |(11788,[5,11,420,423,473,686,1902,2836,3958,9914,10670],[1.0,1.0,1.0,1.0,1.0,1.0,1.0,1.0,1.0,1.0,1.0])                                                                                                                                                                     |(11788,[5,11,420,423,473,686,1902,2836,3958,9914,10670],[2.002680480546374,2.4170742193988395,5.572954192252463,5.572954192252463,5.627021413522739,6.032486521630903,6.907955258984804,7.131098810299013,7.418780882750794,7.824245990858959,7.824245990858959])                                                                                                                                                                                                                                                                                                                                                                                                                                                                  |\n",
            "|0.0  |\"Kansas City Southern Receives Revised Proposal from Canadian Pacific That Board of Directors Determines is a \"\"Company Superior Proposal\"\"\"                                    |[\"kansas, city, southern, receives, revised, proposal, from, canadian, pacific, that, board, of, directors, determines, is, a, \"\"company, superior, proposal\"\"\"]                                                  |(11788,[2,6,9,45,110,159,266,382,443,514,642,725,1400,1960,2723,2994,4132,7609,9173],[1.0,1.0,1.0,1.0,1.0,1.0,1.0,1.0,1.0,1.0,1.0,1.0,1.0,1.0,1.0,1.0,1.0,1.0,1.0])                                                                                                        |(11788,[2,6,9,45,110,159,266,382,443,514,642,725,1400,1960,2723,2994,4132,7609,9173],[1.755820402614848,2.1665074547041643,2.3775086191926484,3.612118392980474,4.3430059015232665,4.667245569708845,5.15009734143243,5.472870733695481,5.627021413522739,5.744804449179123,5.952443813957367,6.032486521630903,6.725633702190849,6.907955258984804,7.131098810299013,7.418780882750794,7.418780882750794,7.824245990858959,7.824245990858959])                                                                                                                                                                                                                                                                                    |\n",
            "|0.0  |\"Loop Media, Inc. Launches New \"\"Movie Trailers+\"\" Streaming Channel\"                                                                                                           |[\"loop, media,, inc., launches, new, \"\"movie, trailers+\"\", streaming, channel\"]                                                                                                                                   |(11788,[14,22,111,786,915,6089,6210,6927,10108],[1.0,1.0,1.0,1.0,1.0,1.0,1.0,1.0,1.0])                                                                                                                                                                                     |(11788,[14,22,111,786,915,6089,6210,6927,10108],[2.5745937962922025,3.079313862495708,4.3430059015232665,6.1194978986205335,6.214808078424858,7.824245990858959,7.824245990858959,7.824245990858959,7.824245990858959])                                                                                                                                                                                                                                                                                                                                                                                                                                                                                                            |\n",
            "|0.0  |\"MindMed to Attend 8th Annual \"\"Mobile in Clinical Trials\"\" Conference\"                                                                                                         |[\"mindmed, to, attend, 8th, annual, \"\"mobile, in, clinical, trials\"\", conference\"]                                                                                                                                |(11788,[0,3,33,411,1066,1305,5582,6773,8372,11480],[1.0,1.0,1.0,1.0,1.0,1.0,1.0,1.0,1.0,1.0])                                                                                                                                                                              |(11788,[0,3,33,411,1066,1305,5582,6773,8372,11480],[1.2271002889723068,1.8117540765589006,3.3412434388450745,5.521660897864913,6.437951629739068,6.571483022363591,7.824245990858959,7.824245990858959,7.824245990858959,7.824245990858959])                                                                                                                                                                                                                                                                                                                                                                                                                                                                                       |\n",
            "|0.0  |\"OKYO Pharma Limited (\"\"OKYO\"\" or the \"\"Company\"\") - Notice of Annual General Meeting\"                                                                                          |[\"okyo, pharma, limited, (\"\"okyo\"\", or, the, \"\"company\"\"), -, notice, of, annual, general, meeting\"]                                                                                                              |(11788,[1,2,33,34,151,243,277,387,757,5042,5266,7072,9054],[1.0,1.0,1.0,1.0,1.0,1.0,1.0,1.0,1.0,1.0,1.0,1.0,1.0])                                                                                                                                                          |(11788,[1,2,33,34,151,243,277,387,757,5042,5266,7072,9054],[1.6546352583675024,1.755820402614848,3.3412434388450745,3.3583378722043746,4.605370165990758,5.116195789756748,5.1851886612437,5.472870733695481,6.1194978986205335,7.824245990858959,7.824245990858959,7.824245990858959,7.824245990858959])                                                                                                                                                                                                                                                                                                                                                                                                                          |\n",
            "|0.0  |\"Shutterstock Announced As Exclusive Sponsor Of \"\"Experience The Times Of Bill Cunningham\"\" Exhibit At New York Fashion Week\"                                                   |[\"shutterstock, announced, as, exclusive, sponsor, of, \"\"experience, the, times, of, bill, cunningham\"\", exhibit, at, new, york, fashion, week\"]                                                                  |(11788,[1,2,12,20,22,355,536,1223,1261,1306,1335,1801,4474,5013,5576,5723,10919],[1.0,2.0,1.0,1.0,1.0,1.0,1.0,1.0,1.0,1.0,1.0,1.0,1.0,1.0,1.0,1.0,1.0])                                                                                                                    |(11788,[1,2,12,20,22,355,536,1223,1261,1306,1335,1801,4474,5013,5576,5723,10919],[1.6546352583675024,3.511640805229696,2.4843069496201022,3.0284554452622174,3.079313862495708,5.426350718060588,5.744804449179123,6.571483022363591,6.907955258984804,6.571483022363591,6.571483022363591,6.907955258984804,7.418780882750794,7.824245990858959,7.824245990858959,7.824245990858959,7.824245990858959])                                                                                                                                                                                                                                                                                                                           |\n",
            "|0.0  |\"The Boston Beer Company Launches New \"\"Bevy Long Drink\"\"\"                                                                                                                      |[\"the, boston, beer, company, launches, new, \"\"bevy, long, drink\"\"\"]                                                                                                                                              |(11788,[22,69,111,302,312,554,5742,6658,7505],[1.0,1.0,1.0,1.0,1.0,1.0,1.0,1.0,1.0])                                                                                                                                                                                       |(11788,[22,69,111,302,312,554,5742,6658,7505],[3.079313862495708,3.942682192915521,4.3430059015232665,5.339339341070958,5.381898955489754,5.809342970316694,7.824245990858959,7.824245990858959,7.824245990858959])                                                                                                                                                                                                                                                                                                                                                                                                                                                                                                                |\n",
            "|0.0  |\"Welcome to the Tri \"\"Party\"\": Broadridge Launches Sponsored General Collateral Service\"                                                                                        |[\"welcome, to, the, tri, \"\"party\"\":, broadridge, launches, sponsored, general, collateral, service\"]                                                                                                              |(11788,[0,1,111,277,3953,8276,8644,8991,9126,9276,10552],[1.0,1.0,1.0,1.0,1.0,1.0,1.0,1.0,1.0,1.0,1.0])                                                                                                                                                                    |(11788,[0,1,111,277,3953,8276,8644,8991,9126,9276,10552],[1.2271002889723068,1.6546352583675024,4.3430059015232665,5.1851886612437,7.418780882750794,7.824245990858959,7.824245990858959,7.824245990858959,7.824245990858959,7.824245990858959,7.824245990858959])                                                                                                                                                                                                                                                                                                                                                                                                                                                                 |\n",
            "|0.0  |/R E P E A T -- Chris Ryan PhD., New York Times Best Selling Author, and Featured TED Talk Speaker To Appear At Meet Delic: The World's Premiere Psychedelic and Wellness Event/|[/r, e, p, e, a, t, --, chris, ryan, phd.,, new, york, times, best, selling, author,, and, featured, ted, talk, speaker, to, appear, at, meet, delic:, the, world's, premiere, psychedelic, and, wellness, event/]|(11788,[0,1,4,6,12,22,104,355,720,810,849,882,960,1306,1425,1800,1840,1887,2440,2756,2787,2883,3040,3263,3308,3688,4650,7963,8039,8156,8820],[1.0,1.0,2.0,1.0,1.0,1.0,1.0,1.0,1.0,1.0,1.0,1.0,1.0,1.0,1.0,1.0,1.0,1.0,1.0,1.0,2.0,1.0,1.0,1.0,1.0,1.0,1.0,1.0,1.0,1.0,1.0])|(11788,[0,1,4,6,12,22,104,355,720,810,849,882,960,1306,1425,1800,1840,1887,2440,2756,2787,2883,3040,3263,3308,3688,4650,7963,8039,8156,8820],[1.2271002889723068,1.6546352583675024,3.879063627395714,2.1665074547041643,2.4843069496201022,3.079313862495708,4.327738429392478,5.426350718060588,6.032486521630903,6.1194978986205335,6.214808078424858,6.214808078424858,6.320168594082684,6.571483022363591,6.725633702190849,6.907955258984804,6.907955258984804,6.907955258984804,7.131098810299013,7.131098810299013,14.837561765501588,7.131098810299013,7.418780882750794,7.418780882750794,7.418780882750794,7.418780882750794,7.418780882750794,7.824245990858959,7.824245990858959,7.824245990858959,7.824245990858959])|\n",
            "|0.0  |01 Communique Provides Quarterly Update on Business Developments and Third Quarter Fiscal 2021 Results                                                                          |[01, communique, provides, quarterly, update, on, business, developments, and, third, quarter, fiscal, 2021, results]                                                                                             |(11788,[4,7,13,26,50,121,123,129,161,162,211,4083,10871,11608],[1.0,1.0,1.0,1.0,1.0,1.0,1.0,1.0,1.0,1.0,1.0,1.0,1.0,1.0])                                                                                                                                                  |(11788,[4,7,13,26,50,121,123,129,161,162,211,4083,10871,11608],[1.939531813697857,2.173512737292573,2.5209410827998826,3.179855091717586,3.7216026258221624,4.406519307245593,4.423048609196803,4.456950160872484,4.688751774929809,4.688751774929809,4.96204510992949,7.418780882750794,7.824245990858959,7.824245990858959])                                                                                                                                                                                                                                                                                                                                                                                                     |\n",
            "|0.0  |10 Personal Finance Experts To Follow On Twitter                                                                                                                                |[10, personal, finance, experts, to, follow, on, twitter]                                                                                                                                                         |(11788,[0,7,724,897,899,1902,4499,6481],[1.0,1.0,1.0,1.0,1.0,1.0,1.0,1.0])                                                                                                                                                                                                 |(11788,[0,7,724,897,899,1902,4499,6481],[1.2271002889723068,2.173512737292573,6.032486521630903,6.214808078424858,6.214808078424858,6.907955258984804,7.418780882750794,7.824245990858959])                                                                                                                                                                                                                                                                                                                                                                                                                                                                                                                                        |\n",
            "|0.0  |10X Capital Leadership Purchases Additional Shares In REE Automotive                                                                                                            |[10x, capital, leadership, purchases, additional, shares, in, ree, automotive]                                                                                                                                    |(11788,[3,41,147,487,743,1214,1493,3917,9504],[1.0,1.0,1.0,1.0,1.0,1.0,1.0,1.0,1.0])                                                                                                                                                                                       |(11788,[3,41,147,487,743,1214,1493,3917,9504],[1.8117540765589006,3.5269605846401673,4.585567538694578,5.684179827362688,6.1194978986205335,6.571483022363591,6.725633702190849,7.418780882750794,7.824245990858959])                                                                                                                                                                                                                                                                                                                                                                                                                                                                                                              |\n",
            "|0.0  |15 Words From President Biden That Could Equal Billions for Pfizer and Moderna                                                                                                  |[15, words, from, president, biden, that, could, equal, billions, for, pfizer, and, moderna]                                                                                                                      |(11788,[4,5,45,84,110,304,469,672,927,2018,3217,6887,10926],[1.0,1.0,1.0,1.0,1.0,1.0,1.0,1.0,1.0,1.0,1.0,1.0,1.0])                                                                                                                                                         |(11788,[4,5,45,84,110,304,469,672,927,2018,3217,6887,10926],[1.939531813697857,2.002680480546374,3.612118392980474,4.08657637257559,4.3430059015232665,5.259296633397422,5.627021413522739,5.952443813957367,6.320168594082684,6.907955258984804,7.418780882750794,7.824245990858959,7.824245990858959])                                                                                                                                                                                                                                                                                                                                                                                                                           |\n",
            "|0.0  |16 Northern Illinois Arts Organizations Awarded Grants from ComEd and League of Chicago Theatres                                                                                |[16, northern, illinois, arts, organizations, awarded, grants, from, comed, and, league, of, chicago, theatres]                                                                                                   |(11788,[2,4,45,459,1135,1252,1742,2331,3228,4005,6317,7209,7534,11425],[1.0,1.0,1.0,1.0,1.0,1.0,1.0,1.0,1.0,1.0,1.0,1.0,1.0,1.0])                                                                                                                                          |(11788,[2,4,45,459,1135,1252,1742,2331,3228,4005,6317,7209,7534,11425],[1.755820402614848,1.939531813697857,3.612118392980474,5.627021413522739,6.437951629739068,6.571483022363591,6.907955258984804,7.131098810299013,7.418780882750794,7.418780882750794,7.824245990858959,7.824245990858959,7.824245990858959,7.824245990858959])                                                                                                                                                                                                                                                                                                                                                                                              |\n",
            "+-----+--------------------------------------------------------------------------------------------------------------------------------------------------------------------------------+------------------------------------------------------------------------------------------------------------------------------------------------------------------------------------------------------------------+---------------------------------------------------------------------------------------------------------------------------------------------------------------------------------------------------------------------------------------------------------------------------+-----------------------------------------------------------------------------------------------------------------------------------------------------------------------------------------------------------------------------------------------------------------------------------------------------------------------------------------------------------------------------------------------------------------------------------------------------------------------------------------------------------------------------------------------------------------------------------------------------------------------------------------------------------------------------------------------------------------------------------+\n",
            "only showing top 20 rows\n",
            "\n"
          ]
        }
      ]
    },
    {
      "cell_type": "code",
      "metadata": {
        "colab": {
          "base_uri": "https://localhost:8080/"
        },
        "id": "8HwaguEFajq2",
        "outputId": "1a54584e-6009-4dcf-94ca-aa4afcd9c652"
      },
      "source": [
        "testDF.count()"
      ],
      "id": "8HwaguEFajq2",
      "execution_count": 14,
      "outputs": [
        {
          "output_type": "execute_result",
          "data": {
            "text/plain": [
              "1035"
            ]
          },
          "metadata": {},
          "execution_count": 14
        }
      ]
    },
    {
      "cell_type": "code",
      "metadata": {
        "colab": {
          "base_uri": "https://localhost:8080/"
        },
        "id": "mLabWeJqNf8K",
        "outputId": "a08ffa8d-f028-4bb1-982f-aaa7142a3923"
      },
      "source": [
        "testDF.show()"
      ],
      "id": "mLabWeJqNf8K",
      "execution_count": 15,
      "outputs": [
        {
          "output_type": "stream",
          "name": "stdout",
          "text": [
            "+-----+--------------------+--------------------+--------------------+--------------------+\n",
            "|label|                text|               words|         rawFeatures|            features|\n",
            "+-----+--------------------+--------------------+--------------------+--------------------+\n",
            "|  0.0|180 Life Sciences...|[180, life, scien...|(11788,[10,12,197...|(11788,[10,12,197...|\n",
            "|  0.0|1847 Goedeker Iss...|[1847, goedeker, ...|(11788,[45,87,474...|(11788,[45,87,474...|\n",
            "|  0.0|3 Reasons to Buy ...|[3, reasons, to, ...|(11788,[0,4,23,54...|(11788,[0,4,23,54...|\n",
            "|  0.0|3 Things to Watch...|[3, things, to, w...|(11788,[0,1,3,8,3...|(11788,[0,1,3,8,3...|\n",
            "|  0.0|3 Upcoming Earnin...|[3, upcoming, ear...|(11788,[0,19,54,6...|(11788,[0,19,54,6...|\n",
            "|  0.0|4 Diversified Che...|[4, diversified, ...|(11788,[0,5,18,17...|(11788,[0,5,18,17...|\n",
            "|  0.0|4 Outstanding Sto...|[4, outstanding, ...|(11788,[0,18,20,2...|(11788,[0,18,20,2...|\n",
            "|  0.0|4 Top Stock Trade...|[4, top, stock, t...|(11788,[5,8,61,17...|(11788,[5,8,61,17...|\n",
            "|  0.0|A Body Camera Com...|[a, body, camera,...|(11788,[4,6,69,13...|(11788,[4,6,69,13...|\n",
            "|  0.0|A Nick to Apple's...|[a, nick, to, app...|(11788,[0,5,6,67,...|(11788,[0,5,6,67,...|\n",
            "|  0.0|ABC and Procore A...|[abc, and, procor...|(11788,[0,4,5,87,...|(11788,[0,4,5,87,...|\n",
            "|  0.0|ABM Delivers Infr...|[abm, delivers, i...|(11788,[5,22,281,...|(11788,[5,22,281,...|\n",
            "|  0.0|ABM Industries An...|[abm, industries,...|(11788,[5,11,13,2...|(11788,[5,11,13,2...|\n",
            "|  0.0|ADC Therapeutics ...|[adc, therapeutic...|(11788,[0,3,17,21...|(11788,[0,3,17,21...|\n",
            "|  0.0|AIG names CEO Zaf...|[aig, names, ceo,...|(11788,[20,35,307...|(11788,[20,35,307...|\n",
            "|  0.0|ALERT: Spectrum P...|[alert:, spectrum...|(11788,[0,10,14,1...|(11788,[0,10,14,1...|\n",
            "|  0.0|AMOT or WTS: Whic...|[amot, or, wts:, ...|(11788,[1,8,9,62,...|(11788,[1,8,9,62,...|\n",
            "|  0.0|ANVS CLASS ACTION...|[anvs, class, act...|(11788,[0,1,2,3,6...|(11788,[0,1,2,3,6...|\n",
            "|  0.0|ANVS Investor Ale...|[anvs, investor, ...|(11788,[27,32,43,...|(11788,[27,32,43,...|\n",
            "|  0.0|AXIS Insurance Ex...|[axis, insurance,...|(11788,[10,22,193...|(11788,[10,22,193...|\n",
            "+-----+--------------------+--------------------+--------------------+--------------------+\n",
            "only showing top 20 rows\n",
            "\n"
          ]
        }
      ]
    },
    {
      "cell_type": "code",
      "metadata": {
        "colab": {
          "base_uri": "https://localhost:8080/"
        },
        "id": "422KCtKsapc2",
        "outputId": "0bc2302a-8b9b-45ef-b0cb-9621e8809731"
      },
      "source": [
        "#Logistic Regression Classifier\n",
        "#Cross validator different classification to  \n",
        "#Param Grid apply different parameters, testing which param is best\n",
        "from pyspark.ml.classification import LogisticRegression\n",
        "from pyspark.ml.evaluation import BinaryClassificationEvaluator\n",
        "from pyspark.ml.tuning import CrossValidator, ParamGridBuilder\n",
        "from pyspark.ml.evaluation import MulticlassClassificationEvaluator\n",
        "import numpy as np\n",
        "lr = LogisticRegression(maxIter = 10)\n",
        "\n",
        "paramGrid_lr = ParamGridBuilder() \\\n",
        "    .addGrid(lr.regParam, np.linspace(0.3, 0.01, 10)) \\\n",
        "    .addGrid(lr.elasticNetParam, np.linspace(0.3, 0.8, 6)) \\\n",
        "    .build()\n",
        "crossval_lr = CrossValidator(estimator=lr,\n",
        "                          estimatorParamMaps=paramGrid_lr,\n",
        "                          evaluator=MulticlassClassificationEvaluator(),\n",
        "                          numFolds= 5)  \n",
        "cvModel_lr = crossval_lr.fit(trainDF)\n",
        "best_model_lr = cvModel_lr.bestModel.summary\n",
        "best_model_lr.predictions.columns"
      ],
      "id": "422KCtKsapc2",
      "execution_count": 16,
      "outputs": [
        {
          "output_type": "execute_result",
          "data": {
            "text/plain": [
              "['label',\n",
              " 'text',\n",
              " 'words',\n",
              " 'rawFeatures',\n",
              " 'features',\n",
              " 'rawPrediction',\n",
              " 'probability',\n",
              " 'prediction']"
            ]
          },
          "metadata": {},
          "execution_count": 16
        }
      ]
    },
    {
      "cell_type": "code",
      "metadata": {
        "colab": {
          "base_uri": "https://localhost:8080/"
        },
        "id": "oXHKusiWqkUf",
        "outputId": "817c7074-5b25-498d-a86f-d577693b8d19"
      },
      "source": [
        "best_model_lr.predictions.show()"
      ],
      "id": "oXHKusiWqkUf",
      "execution_count": 17,
      "outputs": [
        {
          "output_type": "stream",
          "name": "stdout",
          "text": [
            "+-----+--------------------+--------------------+--------------------+--------------------+--------------------+--------------------+----------+\n",
            "|label|                text|               words|         rawFeatures|            features|       rawPrediction|         probability|prediction|\n",
            "+-----+--------------------+--------------------+--------------------+--------------------+--------------------+--------------------+----------+\n",
            "|  0.0|\"ASSA ABLOY to ac...|[\"assa, abloy, to...|(11788,[0,2,4,313...|(11788,[0,2,4,313...|[1.64517033979983...|[0.79824527096704...|       0.0|\n",
            "|  0.0|\"BofA Unveils \"\"V...|[\"bofa, unveils, ...|(11788,[399,7222,...|(11788,[399,7222,...|[2.08263253514879...|[0.81353218445965...|       0.0|\n",
            "|  0.0|\"CP Offer for KCS...|[\"cp, offer, for,...|(11788,[5,75,344,...|(11788,[5,75,344,...|[1.76665185080529...|[0.80250194367115...|       0.0|\n",
            "|  0.0|\"Cumulus Podcast ...|[\"cumulus, podcas...|(11788,[0,2,10,13...|(11788,[0,2,10,13...|[2.90273855393937...|[0.82680486923848...|       0.0|\n",
            "|  0.0|\"Epic Games asks ...|[\"epic, games, as...|(11788,[0,3,86,27...|(11788,[0,3,86,27...|[2.09792024134109...|[0.81603872333805...|       0.0|\n",
            "|  0.0|\"Great Bear Provi...|[\"great, bear, pr...|(11788,[4,7,45,89...|(11788,[4,7,45,89...|[2.94665682581161...|[0.90948610283230...|       0.0|\n",
            "|  0.0|\"IDenta Corp Anno...|[\"identa, corp, a...|(11788,[5,11,420,...|(11788,[5,11,420,...|[3.56896814148348...|[0.97779067717069...|       0.0|\n",
            "|  0.0|\"Kansas City Sout...|[\"kansas, city, s...|(11788,[2,6,9,45,...|(11788,[2,6,9,45,...|[3.22718434354480...|[0.90895805501500...|       0.0|\n",
            "|  0.0|\"Loop Media, Inc....|[\"loop, media,, i...|(11788,[14,22,111...|(11788,[14,22,111...|[2.33973687535765...|[0.89552795168378...|       0.0|\n",
            "|  0.0|\"MindMed to Atten...|[\"mindmed, to, at...|(11788,[0,3,33,41...|(11788,[0,3,33,41...|[2.07768982704509...|[0.81878217245896...|       0.0|\n",
            "|  0.0|\"OKYO Pharma Limi...|[\"okyo, pharma, l...|(11788,[1,2,33,34...|(11788,[1,2,33,34...|[3.80564366842772...|[0.98118289490334...|       0.0|\n",
            "|  0.0|\"Shutterstock Ann...|[\"shutterstock, a...|(11788,[1,2,12,20...|(11788,[1,2,12,20...|[2.57621364401873...|[0.93262478261950...|       0.0|\n",
            "|  0.0|\"The Boston Beer ...|[\"the, boston, be...|(11788,[22,69,111...|(11788,[22,69,111...|[1.73130663408599...|[0.80820447850714...|       0.0|\n",
            "|  0.0|\"Welcome to the T...|[\"welcome, to, th...|(11788,[0,1,111,2...|(11788,[0,1,111,2...|[1.88564533264297...|[0.79630822775370...|       0.0|\n",
            "|  0.0|/R E P E A T -- C...|[/r, e, p, e, a, ...|(11788,[0,1,4,6,1...|(11788,[0,1,4,6,1...|[2.40885075381025...|[0.92773316250976...|       0.0|\n",
            "|  0.0|01 Communique Pro...|[01, communique, ...|(11788,[4,7,13,26...|(11788,[4,7,13,26...|[4.84712029218164...|[0.99511153032502...|       0.0|\n",
            "|  0.0|10 Personal Finan...|[10, personal, fi...|(11788,[0,7,724,8...|(11788,[0,7,724,8...|[2.04750313406582...|[0.84370818115239...|       0.0|\n",
            "|  0.0|10X Capital Leade...|[10x, capital, le...|(11788,[3,41,147,...|(11788,[3,41,147,...|[2.02839483259698...|[0.79457234951477...|       0.0|\n",
            "|  0.0|15 Words From Pre...|[15, words, from,...|(11788,[4,5,45,84...|(11788,[4,5,45,84...|[2.15535084508549...|[0.81618842411757...|       0.0|\n",
            "|  0.0|16 Northern Illin...|[16, northern, il...|(11788,[2,4,45,45...|(11788,[2,4,45,45...|[2.78267504727440...|[0.92983574469491...|       0.0|\n",
            "+-----+--------------------+--------------------+--------------------+--------------------+--------------------+--------------------+----------+\n",
            "only showing top 20 rows\n",
            "\n"
          ]
        }
      ]
    },
    {
      "cell_type": "code",
      "metadata": {
        "colab": {
          "base_uri": "https://localhost:8080/"
        },
        "id": "Ns8T13S_dZ2I",
        "outputId": "67d9a8a8-cd87-461f-fec9-37980d808a52"
      },
      "source": [
        "#import pre-covid test data\n",
        "url1 = 'https://raw.githubusercontent.com/dalismo/Finance_News_Sentiment/main/Resources/TEST_DATA_covid-peak-to-slow-down-test-data.csv'\n",
        "spark.sparkContext.addFile(url1)\n",
        "pre_covid_df = spark.read.csv(SparkFiles.get(\"TEST_DATA_covid-peak-to-slow-down-test-data.csv\"), sep=\",\", header=None)\n",
        "\n",
        "pre_covid_df.show(5, truncate=False)"
      ],
      "id": "Ns8T13S_dZ2I",
      "execution_count": 18,
      "outputs": [
        {
          "output_type": "stream",
          "name": "stdout",
          "text": [
            "+----------------------------------------------------------------------------------------------------------------+\n",
            "|_c0                                                                                                             |\n",
            "+----------------------------------------------------------------------------------------------------------------+\n",
            "|Moderna Coronavirus Vaccine Clinical Trials Are 'On Track,'  White House Task Force's Fauci Says                |\n",
            "|Tesla could help make lithium ion batteries for ventilators to help fight COVID-19, says ResMed CEO Mick Farrell|\n",
            "|Chinese Airlines See Short-Term Virus Hit                                                                       |\n",
            "|Why MercadoLibre Stock Lost 21% Last Month                                                                      |\n",
            "|Cruise operator Carnival pays high price to get credit investors on board: sources                              |\n",
            "+----------------------------------------------------------------------------------------------------------------+\n",
            "only showing top 5 rows\n",
            "\n"
          ]
        }
      ]
    },
    {
      "cell_type": "code",
      "metadata": {
        "colab": {
          "base_uri": "https://localhost:8080/"
        },
        "id": "nfTw_8oEhB4x",
        "outputId": "04b6640d-64a9-4841-ffdd-70b866de568a"
      },
      "source": [
        "#Rename column\n",
        "pre_covid_df2 = pre_covid_df.withColumnRenamed(\"_c0\", \"text\")\n",
        "pre_covid_df2.printSchema()\n",
        "pre_covid_df2.show(20, truncate = False)"
      ],
      "id": "nfTw_8oEhB4x",
      "execution_count": 19,
      "outputs": [
        {
          "output_type": "stream",
          "name": "stdout",
          "text": [
            "root\n",
            " |-- text: string (nullable = true)\n",
            "\n",
            "+----------------------------------------------------------------------------------------------------------------+\n",
            "|text                                                                                                            |\n",
            "+----------------------------------------------------------------------------------------------------------------+\n",
            "|Moderna Coronavirus Vaccine Clinical Trials Are 'On Track,'  White House Task Force's Fauci Says                |\n",
            "|Tesla could help make lithium ion batteries for ventilators to help fight COVID-19, says ResMed CEO Mick Farrell|\n",
            "|Chinese Airlines See Short-Term Virus Hit                                                                       |\n",
            "|Why MercadoLibre Stock Lost 21% Last Month                                                                      |\n",
            "|Cruise operator Carnival pays high price to get credit investors on board: sources                              |\n",
            "|Virus Drives Down Auto Sales For GM and Fiat                                                                    |\n",
            "|SoftBank Is Said to Plan to Abandon WeWork Shareholders Deal                                                    |\n",
            "|PVH CEO on Macy's woes: 'they're going to be a survivor' post pandemic                                          |\n",
            "|Calvin Klein-parent PVH CEO on Macy's woes: 'We have a great deal of confidence' in their leadership            |\n",
            "|Dividend Aristocrat McCormick Declares Its Upcoming Payout                                                      |\n",
            "|Open Letter to Stakeholders                                                                                     |\n",
            "|Why Shares of WD-40 Soared in March                                                                             |\n",
            "|SpaceX reportedly bans use of Zoom videoconferencing app by employees                                           |\n",
            "|British Airways could suspend 36,000 employees: BBC                                                             |\n",
            "|Recreational Pot Sales in Bellwether States Tumble After a COVID-19 Buying Peak                                 |\n",
            "|Elon Musk's SpaceX bans Zoom over privacy concerns, memo shows                                                  |\n",
            "|Why AMC Entertainment Stock Plunged 50% in March                                                                |\n",
            "|Nintendo: Corona-Proof, But Not A Buy At This Valuation                                                         |\n",
            "|Calvin Klein-parent PVH CEO discloses COVID-19 diagnosis: 'I'm fine'                                            |\n",
            "|3 Luxury Retail Stocks Got Crushed by Today's News                                                              |\n",
            "+----------------------------------------------------------------------------------------------------------------+\n",
            "only showing top 20 rows\n",
            "\n"
          ]
        }
      ]
    },
    {
      "cell_type": "code",
      "metadata": {
        "colab": {
          "base_uri": "https://localhost:8080/"
        },
        "id": "osHj5TgUg4YR",
        "outputId": "9fe44138-8296-4f53-8eee-cd0a2ecac740"
      },
      "source": [
        "#tokenize text\n",
        "# from pyspark.ml.feature import  Tokenizer\n",
        "tokenizer = Tokenizer(inputCol=\"text\", outputCol=\"words\")\n",
        "wordsData = tokenizer.transform(pre_covid_df2)\n",
        "wordsData.show()"
      ],
      "id": "osHj5TgUg4YR",
      "execution_count": 20,
      "outputs": [
        {
          "output_type": "stream",
          "name": "stdout",
          "text": [
            "+--------------------+--------------------+\n",
            "|                text|               words|\n",
            "+--------------------+--------------------+\n",
            "|Moderna Coronavir...|[moderna, coronav...|\n",
            "|Tesla could help ...|[tesla, could, he...|\n",
            "|Chinese Airlines ...|[chinese, airline...|\n",
            "|Why MercadoLibre ...|[why, mercadolibr...|\n",
            "|Cruise operator C...|[cruise, operator...|\n",
            "|Virus Drives Down...|[virus, drives, d...|\n",
            "|SoftBank Is Said ...|[softbank, is, sa...|\n",
            "|PVH CEO on Macy's...|[pvh, ceo, on, ma...|\n",
            "|Calvin Klein-pare...|[calvin, klein-pa...|\n",
            "|Dividend Aristocr...|[dividend, aristo...|\n",
            "|Open Letter to St...|[open, letter, to...|\n",
            "|Why Shares of WD-...|[why, shares, of,...|\n",
            "|SpaceX reportedly...|[spacex, reported...|\n",
            "|British Airways c...|[british, airways...|\n",
            "|Recreational Pot ...|[recreational, po...|\n",
            "|Elon Musk's Space...|[elon, musk's, sp...|\n",
            "|Why AMC Entertain...|[why, amc, entert...|\n",
            "|Nintendo: Corona-...|[nintendo:, coron...|\n",
            "|Calvin Klein-pare...|[calvin, klein-pa...|\n",
            "|3 Luxury Retail S...|[3, luxury, retai...|\n",
            "+--------------------+--------------------+\n",
            "only showing top 20 rows\n",
            "\n"
          ]
        }
      ]
    },
    {
      "cell_type": "code",
      "metadata": {
        "colab": {
          "base_uri": "https://localhost:8080/"
        },
        "id": "HPSwYmrehRlF",
        "outputId": "da6f3c38-835e-4fed-8e66-1454663589b3"
      },
      "source": [
        "#count vectorize \n",
        "# from pyspark.ml.feature import CountVectorizer\n",
        "# count = CountVectorizer (inputCol=\"words\", outputCol=\"rawFeatures\")\n",
        "# model = count.fit(wordsData)\n",
        "featurizedData = model.transform(wordsData)\n",
        "featurizedData.show()"
      ],
      "id": "HPSwYmrehRlF",
      "execution_count": 21,
      "outputs": [
        {
          "output_type": "stream",
          "name": "stdout",
          "text": [
            "+--------------------+--------------------+--------------------+\n",
            "|                text|               words|         rawFeatures|\n",
            "+--------------------+--------------------+--------------------+\n",
            "|Moderna Coronavir...|[moderna, coronav...|(11788,[48,102,27...|\n",
            "|Tesla could help ...|[tesla, could, he...|(11788,[0,5,35,84...|\n",
            "|Chinese Airlines ...|[chinese, airline...|(11788,[175,460,5...|\n",
            "|Why MercadoLibre ...|[why, mercadolibr...|(11788,[8,15,118,...|\n",
            "|Cruise operator C...|[cruise, operator...|(11788,[0,7,16,13...|\n",
            "|Virus Drives Down...|[virus, drives, d...|(11788,[4,5,115,1...|\n",
            "|SoftBank Is Said ...|[softbank, is, sa...|(11788,[0,9,133,1...|\n",
            "|PVH CEO on Macy's...|[pvh, ceo, on, ma...|(11788,[0,6,7,35,...|\n",
            "|Calvin Klein-pare...|[calvin, klein-pa...|(11788,[2,3,6,7,3...|\n",
            "|Dividend Aristocr...|[dividend, aristo...|(11788,[31,53,117...|\n",
            "|Open Letter to St...|[open, letter, to...|(11788,[0,470,872...|\n",
            "|Why Shares of WD-...|[why, shares, of,...|(11788,[2,3,15,41...|\n",
            "|SpaceX reportedly...|[spacex, reported...|(11788,[2,75,260,...|\n",
            "|British Airways c...|[british, airways...|(11788,[84,979,91...|\n",
            "|Recreational Pot ...|[recreational, po...|(11788,[3,6,65,14...|\n",
            "|Elon Musk's Space...|[elon, musk's, sp...|(11788,[88,495,15...|\n",
            "|Why AMC Entertain...|[why, amc, entert...|(11788,[3,8,15,26...|\n",
            "|Nintendo: Corona-...|[nintendo:, coron...|(11788,[6,12,23,3...|\n",
            "|Calvin Klein-pare...|[calvin, klein-pa...|(11788,[35,181,31...|\n",
            "|3 Luxury Retail S...|[3, luxury, retai...|(11788,[18,54,75,...|\n",
            "+--------------------+--------------------+--------------------+\n",
            "only showing top 20 rows\n",
            "\n"
          ]
        }
      ]
    },
    {
      "cell_type": "code",
      "metadata": {
        "colab": {
          "base_uri": "https://localhost:8080/"
        },
        "id": "JAMPcf9uhcKO",
        "outputId": "201629ff-cdfb-410e-e7bd-e3b6128d6703"
      },
      "source": [
        "from pyspark.ml.feature import  IDF\n",
        "#IDF down-weighs features which appear frequently in a corpus. This generally improves performance when using text as features since most frequent, and hence less important words, get down-weighed.\n",
        "idf = IDF(inputCol=\"rawFeatures\", outputCol=\"features\")\n",
        "idfModel = idf.fit(featurizedData)\n",
        "rescaledData = idfModel.transform(featurizedData)\n",
        "rescaledData.select(\"features\").show()  \n",
        "# We want only the label and features columns for our machine learning models"
      ],
      "id": "JAMPcf9uhcKO",
      "execution_count": 22,
      "outputs": [
        {
          "output_type": "stream",
          "name": "stdout",
          "text": [
            "+--------------------+\n",
            "|            features|\n",
            "+--------------------+\n",
            "|(11788,[48,102,27...|\n",
            "|(11788,[0,5,35,84...|\n",
            "|(11788,[175,460,5...|\n",
            "|(11788,[8,15,118,...|\n",
            "|(11788,[0,7,16,13...|\n",
            "|(11788,[4,5,115,1...|\n",
            "|(11788,[0,9,133,1...|\n",
            "|(11788,[0,6,7,35,...|\n",
            "|(11788,[2,3,6,7,3...|\n",
            "|(11788,[31,53,117...|\n",
            "|(11788,[0,470,872...|\n",
            "|(11788,[2,3,15,41...|\n",
            "|(11788,[2,75,260,...|\n",
            "|(11788,[84,979,91...|\n",
            "|(11788,[3,6,65,14...|\n",
            "|(11788,[88,495,15...|\n",
            "|(11788,[3,8,15,26...|\n",
            "|(11788,[6,12,23,3...|\n",
            "|(11788,[35,181,31...|\n",
            "|(11788,[18,54,75,...|\n",
            "+--------------------+\n",
            "only showing top 20 rows\n",
            "\n"
          ]
        }
      ]
    },
    {
      "cell_type": "code",
      "metadata": {
        "colab": {
          "base_uri": "https://localhost:8080/"
        },
        "id": "l2mwc-1WNsOJ",
        "outputId": "105c7936-16de-42c4-a61a-c68a89e93613"
      },
      "source": [
        "#Predict using the test data and evaluate the predictions\n",
        "predictions_lr = cvModel_lr.transform(rescaledData)\n",
        "predictions_lr.columns"
      ],
      "id": "l2mwc-1WNsOJ",
      "execution_count": 23,
      "outputs": [
        {
          "output_type": "execute_result",
          "data": {
            "text/plain": [
              "['text',\n",
              " 'words',\n",
              " 'rawFeatures',\n",
              " 'features',\n",
              " 'rawPrediction',\n",
              " 'probability',\n",
              " 'prediction']"
            ]
          },
          "metadata": {},
          "execution_count": 23
        }
      ]
    },
    {
      "cell_type": "code",
      "metadata": {
        "colab": {
          "base_uri": "https://localhost:8080/"
        },
        "id": "yRpIdd3Iw0bK",
        "outputId": "163a5014-9875-42f2-b223-4167641155ae"
      },
      "source": [
        "predictions_lr.show()"
      ],
      "id": "yRpIdd3Iw0bK",
      "execution_count": 24,
      "outputs": [
        {
          "output_type": "stream",
          "name": "stdout",
          "text": [
            "+--------------------+--------------------+--------------------+--------------------+--------------------+--------------------+----------+\n",
            "|                text|               words|         rawFeatures|            features|       rawPrediction|         probability|prediction|\n",
            "+--------------------+--------------------+--------------------+--------------------+--------------------+--------------------+----------+\n",
            "|Moderna Coronavir...|[moderna, coronav...|(11788,[48,102,27...|(11788,[48,102,27...|[-0.1439339900731...|[0.02692399074178...|       1.0|\n",
            "|Tesla could help ...|[tesla, could, he...|(11788,[0,5,35,84...|(11788,[0,5,35,84...|[0.55529045142284...|[0.15702088457234...|       1.0|\n",
            "|Chinese Airlines ...|[chinese, airline...|(11788,[175,460,5...|(11788,[175,460,5...|[1.09144672354396...|[0.62941751368449...|       0.0|\n",
            "|Why MercadoLibre ...|[why, mercadolibr...|(11788,[8,15,118,...|(11788,[8,15,118,...|[0.42603394561116...|[0.42477504850014...|       0.0|\n",
            "|Cruise operator C...|[cruise, operator...|(11788,[0,7,16,13...|(11788,[0,7,16,13...|[1.28631716435981...|[0.68259568612135...|       0.0|\n",
            "|Virus Drives Down...|[virus, drives, d...|(11788,[4,5,115,1...|(11788,[4,5,115,1...|[1.84367527048632...|[0.47936161382515...|       2.0|\n",
            "|SoftBank Is Said ...|[softbank, is, sa...|(11788,[0,9,133,1...|(11788,[0,9,133,1...|[0.07462125789677...|[0.12952664286327...|       1.0|\n",
            "|PVH CEO on Macy's...|[pvh, ceo, on, ma...|(11788,[0,6,7,35,...|(11788,[0,6,7,35,...|[0.80857792721650...|[0.24005778368565...|       1.0|\n",
            "|Calvin Klein-pare...|[calvin, klein-pa...|(11788,[2,3,6,7,3...|(11788,[2,3,6,7,3...|[0.08378240030337...|[0.02799681260519...|       1.0|\n",
            "|Dividend Aristocr...|[dividend, aristo...|(11788,[31,53,117...|(11788,[31,53,117...|[3.15787136649055...|[0.94764156459726...|       0.0|\n",
            "|Open Letter to St...|[open, letter, to...|(11788,[0,470,872...|(11788,[0,470,872...|[0.86672349350970...|[0.58131685751985...|       0.0|\n",
            "|Why Shares of WD-...|[why, shares, of,...|(11788,[2,3,15,41...|(11788,[2,3,15,41...|[-0.7114842948218...|[0.14862147811189...|       1.0|\n",
            "|SpaceX reportedly...|[spacex, reported...|(11788,[2,75,260,...|(11788,[2,75,260,...|[1.96602396927137...|[0.86204197141179...|       0.0|\n",
            "|British Airways c...|[british, airways...|(11788,[84,979,91...|(11788,[84,979,91...|[0.65647479752297...|[0.29520141063682...|       1.0|\n",
            "|Recreational Pot ...|[recreational, po...|(11788,[3,6,65,14...|(11788,[3,6,65,14...|[0.88804465790783...|[0.18512329526157...|       1.0|\n",
            "|Elon Musk's Space...|[elon, musk's, sp...|(11788,[88,495,15...|(11788,[88,495,15...|[2.94681036766522...|[0.91332134428727...|       0.0|\n",
            "|Why AMC Entertain...|[why, amc, entert...|(11788,[3,8,15,26...|(11788,[3,8,15,26...|[-0.7726126047135...|[0.09814157792183...|       1.0|\n",
            "|Nintendo: Corona-...|[nintendo:, coron...|(11788,[6,12,23,3...|(11788,[6,12,23,3...|[0.23818949882154...|[0.06591306135836...|       1.0|\n",
            "|Calvin Klein-pare...|[calvin, klein-pa...|(11788,[35,181,31...|(11788,[35,181,31...|[0.69364955587212...|[0.37235880410047...|       1.0|\n",
            "|3 Luxury Retail S...|[3, luxury, retai...|(11788,[18,54,75,...|(11788,[18,54,75,...|[-0.7163528528078...|[0.07856793506295...|       1.0|\n",
            "+--------------------+--------------------+--------------------+--------------------+--------------------+--------------------+----------+\n",
            "only showing top 20 rows\n",
            "\n"
          ]
        }
      ]
    },
    {
      "cell_type": "code",
      "metadata": {
        "colab": {
          "base_uri": "https://localhost:8080/"
        },
        "id": "8zSmgjhtZWd9",
        "outputId": "177e8dc0-5995-458f-fe18-524c86c6ca9b"
      },
      "source": [
        "predictions_lr_df = predictions_lr.select('prediction', 'text','words')\n",
        "predictions_lr_df.show(5)"
      ],
      "id": "8zSmgjhtZWd9",
      "execution_count": 25,
      "outputs": [
        {
          "output_type": "stream",
          "name": "stdout",
          "text": [
            "+----------+--------------------+--------------------+\n",
            "|prediction|                text|               words|\n",
            "+----------+--------------------+--------------------+\n",
            "|       1.0|Moderna Coronavir...|[moderna, coronav...|\n",
            "|       1.0|Tesla could help ...|[tesla, could, he...|\n",
            "|       0.0|Chinese Airlines ...|[chinese, airline...|\n",
            "|       0.0|Why MercadoLibre ...|[why, mercadolibr...|\n",
            "|       0.0|Cruise operator C...|[cruise, operator...|\n",
            "+----------+--------------------+--------------------+\n",
            "only showing top 5 rows\n",
            "\n"
          ]
        }
      ]
    },
    {
      "cell_type": "code",
      "metadata": {
        "colab": {
          "base_uri": "https://localhost:8080/"
        },
        "id": "EgXODWPQZQTV",
        "outputId": "2dc9ba43-168a-45cb-d09f-18651c411522"
      },
      "source": [
        "predictions_lr_df.createOrReplaceTempView('temp')\n",
        "predictions_lr_df1 = spark.sql('select case prediction when \"1.0\" then \"Positive\"  when \"2.0\" then \"Negative\" else \"Neutral\" end as predicted_label, text, words from temp')\n",
        "predictions_lr_df1.show(20, truncate = False)"
      ],
      "id": "EgXODWPQZQTV",
      "execution_count": 36,
      "outputs": [
        {
          "output_type": "stream",
          "name": "stdout",
          "text": [
            "+---------------+----------------------------------------------------------------------------------------------------------------+-----------------------------------------------------------------------------------------------------------------------------------+\n",
            "|predicted_label|text                                                                                                            |words                                                                                                                              |\n",
            "+---------------+----------------------------------------------------------------------------------------------------------------+-----------------------------------------------------------------------------------------------------------------------------------+\n",
            "|Positive       |Moderna Coronavirus Vaccine Clinical Trials Are 'On Track,'  White House Task Force's Fauci Says                |[moderna, coronavirus, vaccine, clinical, trials, are, 'on, track,', , white, house, task, force's, fauci, says]                   |\n",
            "|Positive       |Tesla could help make lithium ion batteries for ventilators to help fight COVID-19, says ResMed CEO Mick Farrell|[tesla, could, help, make, lithium, ion, batteries, for, ventilators, to, help, fight, covid-19,, says, resmed, ceo, mick, farrell]|\n",
            "|Neutral        |Chinese Airlines See Short-Term Virus Hit                                                                       |[chinese, airlines, see, short-term, virus, hit]                                                                                   |\n",
            "|Neutral        |Why MercadoLibre Stock Lost 21% Last Month                                                                      |[why, mercadolibre, stock, lost, 21%, last, month]                                                                                 |\n",
            "|Neutral        |Cruise operator Carnival pays high price to get credit investors on board: sources                              |[cruise, operator, carnival, pays, high, price, to, get, credit, investors, on, board:, sources]                                   |\n",
            "|Negative       |Virus Drives Down Auto Sales For GM and Fiat                                                                    |[virus, drives, down, auto, sales, for, gm, and, fiat]                                                                             |\n",
            "|Positive       |SoftBank Is Said to Plan to Abandon WeWork Shareholders Deal                                                    |[softbank, is, said, to, plan, to, abandon, wework, shareholders, deal]                                                            |\n",
            "|Positive       |PVH CEO on Macy's woes: 'they're going to be a survivor' post pandemic                                          |[pvh, ceo, on, macy's, woes:, 'they're, going, to, be, a, survivor', post, pandemic]                                               |\n",
            "|Positive       |Calvin Klein-parent PVH CEO on Macy's woes: 'We have a great deal of confidence' in their leadership            |[calvin, klein-parent, pvh, ceo, on, macy's, woes:, 'we, have, a, great, deal, of, confidence', in, their, leadership]             |\n",
            "|Neutral        |Dividend Aristocrat McCormick Declares Its Upcoming Payout                                                      |[dividend, aristocrat, mccormick, declares, its, upcoming, payout]                                                                 |\n",
            "|Neutral        |Open Letter to Stakeholders                                                                                     |[open, letter, to, stakeholders]                                                                                                   |\n",
            "|Positive       |Why Shares of WD-40 Soared in March                                                                             |[why, shares, of, wd-40, soared, in, march]                                                                                        |\n",
            "|Neutral        |SpaceX reportedly bans use of Zoom videoconferencing app by employees                                           |[spacex, reportedly, bans, use, of, zoom, videoconferencing, app, by, employees]                                                   |\n",
            "|Positive       |British Airways could suspend 36,000 employees: BBC                                                             |[british, airways, could, suspend, 36,000, employees:, bbc]                                                                        |\n",
            "|Positive       |Recreational Pot Sales in Bellwether States Tumble After a COVID-19 Buying Peak                                 |[recreational, pot, sales, in, bellwether, states, tumble, after, a, covid-19, buying, peak]                                       |\n",
            "|Neutral        |Elon Musk's SpaceX bans Zoom over privacy concerns, memo shows                                                  |[elon, musk's, spacex, bans, zoom, over, privacy, concerns,, memo, shows]                                                          |\n",
            "|Positive       |Why AMC Entertainment Stock Plunged 50% in March                                                                |[why, amc, entertainment, stock, plunged, 50%, in, march]                                                                          |\n",
            "|Positive       |Nintendo: Corona-Proof, But Not A Buy At This Valuation                                                         |[nintendo:, corona-proof,, but, not, a, buy, at, this, valuation]                                                                  |\n",
            "|Positive       |Calvin Klein-parent PVH CEO discloses COVID-19 diagnosis: 'I'm fine'                                            |[calvin, klein-parent, pvh, ceo, discloses, covid-19, diagnosis:, 'i'm, fine']                                                     |\n",
            "|Positive       |3 Luxury Retail Stocks Got Crushed by Today's News                                                              |[3, luxury, retail, stocks, got, crushed, by, today's, news]                                                                       |\n",
            "+---------------+----------------------------------------------------------------------------------------------------------------+-----------------------------------------------------------------------------------------------------------------------------------+\n",
            "only showing top 20 rows\n",
            "\n"
          ]
        }
      ]
    },
    {
      "cell_type": "code",
      "metadata": {
        "colab": {
          "base_uri": "https://localhost:8080/"
        },
        "id": "q6YzwjMxZy_8",
        "outputId": "df761ede-1dde-4cef-be02-332bd888bce2"
      },
      "source": [
        "predictions_lr_df1.groupBy('predicted_label').count().show()"
      ],
      "id": "q6YzwjMxZy_8",
      "execution_count": 37,
      "outputs": [
        {
          "output_type": "stream",
          "name": "stdout",
          "text": [
            "+---------------+-----+\n",
            "|predicted_label|count|\n",
            "+---------------+-----+\n",
            "|       Positive| 2340|\n",
            "|        Neutral| 3461|\n",
            "|       Negative|  299|\n",
            "+---------------+-----+\n",
            "\n"
          ]
        }
      ]
    },
    {
      "cell_type": "code",
      "metadata": {
        "id": "g-7kZGy0a7R-"
      },
      "source": [
        "predictions_lr_df1.toPandas().to_csv('covid_peak_to_slowdown_predictions_count_vector_logistic_reg_model.csv')"
      ],
      "id": "g-7kZGy0a7R-",
      "execution_count": 38,
      "outputs": []
    },
    {
      "cell_type": "code",
      "metadata": {
        "id": "gJZewrHOEbCu"
      },
      "source": [
        "#Naive Bayes using MulticlassClassificationEval\n",
        "from pyspark.ml.classification import NaiveBayes\n",
        "from pyspark.ml.evaluation import BinaryClassificationEvaluator\n",
        "from pyspark.ml.tuning import CrossValidator, ParamGridBuilder\n",
        "from pyspark.ml.evaluation import MulticlassClassificationEvaluator\n",
        "nb = NaiveBayes()\n",
        "paramGrid_nb = ParamGridBuilder() \\\n",
        "    .addGrid(nb.smoothing, np.linspace(0.3, 10, 10)) \\\n",
        "    .build()\n",
        "crossval_nb = CrossValidator(estimator=nb,\n",
        "                          estimatorParamMaps=paramGrid_nb,\n",
        "                          evaluator=MulticlassClassificationEvaluator(),\n",
        "                          numFolds= 5) \n",
        "cvModel_nb = crossval_nb.fit(trainDF)"
      ],
      "id": "gJZewrHOEbCu",
      "execution_count": 29,
      "outputs": []
    },
    {
      "cell_type": "code",
      "metadata": {
        "colab": {
          "base_uri": "https://localhost:8080/"
        },
        "id": "plAaMl_tmFcl",
        "outputId": "26385b03-a18c-47e1-acae-3d2d3a0ff0b2"
      },
      "source": [
        "#Make predictions:\n",
        "predictions_nb = cvModel_nb.transform(rescaledData)\n",
        "predictions_nb.select('text','prediction', 'words').show(truncate = False)"
      ],
      "id": "plAaMl_tmFcl",
      "execution_count": 30,
      "outputs": [
        {
          "output_type": "stream",
          "name": "stdout",
          "text": [
            "+----------------------------------------------------------------------------------------------------------------+----------+\n",
            "|text                                                                                                            |prediction|\n",
            "+----------------------------------------------------------------------------------------------------------------+----------+\n",
            "|Moderna Coronavirus Vaccine Clinical Trials Are 'On Track,'  White House Task Force's Fauci Says                |1.0       |\n",
            "|Tesla could help make lithium ion batteries for ventilators to help fight COVID-19, says ResMed CEO Mick Farrell|1.0       |\n",
            "|Chinese Airlines See Short-Term Virus Hit                                                                       |2.0       |\n",
            "|Why MercadoLibre Stock Lost 21% Last Month                                                                      |2.0       |\n",
            "|Cruise operator Carnival pays high price to get credit investors on board: sources                              |1.0       |\n",
            "|Virus Drives Down Auto Sales For GM and Fiat                                                                    |2.0       |\n",
            "|SoftBank Is Said to Plan to Abandon WeWork Shareholders Deal                                                    |0.0       |\n",
            "|PVH CEO on Macy's woes: 'they're going to be a survivor' post pandemic                                          |1.0       |\n",
            "|Calvin Klein-parent PVH CEO on Macy's woes: 'We have a great deal of confidence' in their leadership            |1.0       |\n",
            "|Dividend Aristocrat McCormick Declares Its Upcoming Payout                                                      |0.0       |\n",
            "|Open Letter to Stakeholders                                                                                     |0.0       |\n",
            "|Why Shares of WD-40 Soared in March                                                                             |1.0       |\n",
            "|SpaceX reportedly bans use of Zoom videoconferencing app by employees                                           |2.0       |\n",
            "|British Airways could suspend 36,000 employees: BBC                                                             |1.0       |\n",
            "|Recreational Pot Sales in Bellwether States Tumble After a COVID-19 Buying Peak                                 |1.0       |\n",
            "|Elon Musk's SpaceX bans Zoom over privacy concerns, memo shows                                                  |2.0       |\n",
            "|Why AMC Entertainment Stock Plunged 50% in March                                                                |1.0       |\n",
            "|Nintendo: Corona-Proof, But Not A Buy At This Valuation                                                         |1.0       |\n",
            "|Calvin Klein-parent PVH CEO discloses COVID-19 diagnosis: 'I'm fine'                                            |1.0       |\n",
            "|3 Luxury Retail Stocks Got Crushed by Today's News                                                              |1.0       |\n",
            "+----------------------------------------------------------------------------------------------------------------+----------+\n",
            "only showing top 20 rows\n",
            "\n"
          ]
        }
      ]
    },
    {
      "cell_type": "code",
      "metadata": {
        "colab": {
          "base_uri": "https://localhost:8080/"
        },
        "id": "yz-CYcdaSMWc",
        "outputId": "58589f4f-fcaa-4a25-bf2c-10e46fdf6588"
      },
      "source": [
        "predictions_nb.show()"
      ],
      "id": "yz-CYcdaSMWc",
      "execution_count": 31,
      "outputs": [
        {
          "output_type": "stream",
          "name": "stdout",
          "text": [
            "+--------------------+--------------------+--------------------+--------------------+--------------------+--------------------+----------+\n",
            "|                text|               words|         rawFeatures|            features|       rawPrediction|         probability|prediction|\n",
            "+--------------------+--------------------+--------------------+--------------------+--------------------+--------------------+----------+\n",
            "|Moderna Coronavir...|[moderna, coronav...|(11788,[48,102,27...|(11788,[48,102,27...|[-419.35325314483...|[3.30895632091539...|       1.0|\n",
            "|Tesla could help ...|[tesla, could, he...|(11788,[0,5,35,84...|(11788,[0,5,35,84...|[-614.11722513151...|[8.08985480159712...|       1.0|\n",
            "|Chinese Airlines ...|[chinese, airline...|(11788,[175,460,5...|(11788,[175,460,5...|[-320.70442424194...|[6.99989092236356...|       2.0|\n",
            "|Why MercadoLibre ...|[why, mercadolibr...|(11788,[8,15,118,...|(11788,[8,15,118,...|[-256.86164131121...|[1.47734454817909...|       2.0|\n",
            "|Cruise operator C...|[cruise, operator...|(11788,[0,7,16,13...|(11788,[0,7,16,13...|[-509.15408620884...|[0.00444249923610...|       1.0|\n",
            "|Virus Drives Down...|[virus, drives, d...|(11788,[4,5,115,1...|(11788,[4,5,115,1...|[-341.99402417154...|[4.37174994528648...|       2.0|\n",
            "|SoftBank Is Said ...|[softbank, is, sa...|(11788,[0,9,133,1...|(11788,[0,9,133,1...|[-203.51818056873...|[0.98172710573944...|       0.0|\n",
            "|PVH CEO on Macy's...|[pvh, ceo, on, ma...|(11788,[0,6,7,35,...|(11788,[0,6,7,35,...|[-350.81164227228...|[1.55507096554863...|       1.0|\n",
            "|Calvin Klein-pare...|[calvin, klein-pa...|(11788,[2,3,6,7,3...|(11788,[2,3,6,7,3...|[-542.57474169963...|[2.31364090260025...|       1.0|\n",
            "|Dividend Aristocr...|[dividend, aristo...|(11788,[31,53,117...|(11788,[31,53,117...|[-212.87090275290...|[0.99999999993933...|       0.0|\n",
            "|Open Letter to St...|[open, letter, to...|(11788,[0,470,872...|(11788,[0,470,872...|[-199.48129163513...|[0.88838270579056...|       0.0|\n",
            "|Why Shares of WD-...|[why, shares, of,...|(11788,[2,3,15,41...|(11788,[2,3,15,41...|[-180.30502156449...|[9.79137966155355...|       1.0|\n",
            "|SpaceX reportedly...|[spacex, reported...|(11788,[2,75,260,...|(11788,[2,75,260,...|[-432.15736790137...|[0.00105654925882...|       2.0|\n",
            "|British Airways c...|[british, airways...|(11788,[84,979,91...|(11788,[84,979,91...|[-157.60179329015...|[3.80029207531081...|       1.0|\n",
            "|Recreational Pot ...|[recreational, po...|(11788,[3,6,65,14...|(11788,[3,6,65,14...|[-367.43318512460...|[0.00292122468726...|       1.0|\n",
            "|Elon Musk's Space...|[elon, musk's, sp...|(11788,[88,495,15...|(11788,[88,495,15...|[-458.93458843338...|[0.00165623870926...|       2.0|\n",
            "|Why AMC Entertain...|[why, amc, entert...|(11788,[3,8,15,26...|(11788,[3,8,15,26...|[-335.09092925551...|[8.27960158837176...|       1.0|\n",
            "|Nintendo: Corona-...|[nintendo:, coron...|(11788,[6,12,23,3...|(11788,[6,12,23,3...|[-220.76587244110...|[3.69794447626263...|       1.0|\n",
            "|Calvin Klein-pare...|[calvin, klein-pa...|(11788,[35,181,31...|(11788,[35,181,31...|[-175.51017827688...|[0.05783331079275...|       1.0|\n",
            "|3 Luxury Retail S...|[3, luxury, retai...|(11788,[18,54,75,...|(11788,[18,54,75,...|[-310.10029008439...|[2.19855818692643...|       1.0|\n",
            "+--------------------+--------------------+--------------------+--------------------+--------------------+--------------------+----------+\n",
            "only showing top 20 rows\n",
            "\n"
          ]
        }
      ]
    },
    {
      "cell_type": "code",
      "metadata": {
        "colab": {
          "base_uri": "https://localhost:8080/"
        },
        "id": "CcrYLPB4TVV7",
        "outputId": "d3b81be6-8610-4337-edc4-0760965aec36"
      },
      "source": [
        "predictions_nb_df = predictions_nb.select('prediction', 'text','words')\n",
        "predictions_nb_df.show(5)"
      ],
      "id": "CcrYLPB4TVV7",
      "execution_count": 32,
      "outputs": [
        {
          "output_type": "stream",
          "name": "stdout",
          "text": [
            "+----------+--------------------+--------------------+\n",
            "|prediction|                text|               words|\n",
            "+----------+--------------------+--------------------+\n",
            "|       1.0|Moderna Coronavir...|[moderna, coronav...|\n",
            "|       1.0|Tesla could help ...|[tesla, could, he...|\n",
            "|       2.0|Chinese Airlines ...|[chinese, airline...|\n",
            "|       2.0|Why MercadoLibre ...|[why, mercadolibr...|\n",
            "|       1.0|Cruise operator C...|[cruise, operator...|\n",
            "+----------+--------------------+--------------------+\n",
            "only showing top 5 rows\n",
            "\n"
          ]
        }
      ]
    },
    {
      "cell_type": "code",
      "metadata": {
        "colab": {
          "base_uri": "https://localhost:8080/"
        },
        "id": "x3LNZIg_Q18L",
        "outputId": "a2c7b26f-e164-4fa2-9521-2a452a068311"
      },
      "source": [
        "predictions_nb_df.createOrReplaceTempView('temp')\n",
        "predictions_nb_df1 = spark.sql('select case prediction when \"1.0\" then \"Positive\"  when \"2.0\" then \"Negative\" else \"Neutral\" end as predicted_label, text, words from temp')\n",
        "predictions_nb_df1.show(20, truncate = False)"
      ],
      "id": "x3LNZIg_Q18L",
      "execution_count": 33,
      "outputs": [
        {
          "output_type": "stream",
          "name": "stdout",
          "text": [
            "+---------------+----------------------------------------------------------------------------------------------------------------+-----------------------------------------------------------------------------------------------------------------------------------+\n",
            "|predicted_label|text                                                                                                            |words                                                                                                                              |\n",
            "+---------------+----------------------------------------------------------------------------------------------------------------+-----------------------------------------------------------------------------------------------------------------------------------+\n",
            "|Positive       |Moderna Coronavirus Vaccine Clinical Trials Are 'On Track,'  White House Task Force's Fauci Says                |[moderna, coronavirus, vaccine, clinical, trials, are, 'on, track,', , white, house, task, force's, fauci, says]                   |\n",
            "|Positive       |Tesla could help make lithium ion batteries for ventilators to help fight COVID-19, says ResMed CEO Mick Farrell|[tesla, could, help, make, lithium, ion, batteries, for, ventilators, to, help, fight, covid-19,, says, resmed, ceo, mick, farrell]|\n",
            "|Negative       |Chinese Airlines See Short-Term Virus Hit                                                                       |[chinese, airlines, see, short-term, virus, hit]                                                                                   |\n",
            "|Negative       |Why MercadoLibre Stock Lost 21% Last Month                                                                      |[why, mercadolibre, stock, lost, 21%, last, month]                                                                                 |\n",
            "|Positive       |Cruise operator Carnival pays high price to get credit investors on board: sources                              |[cruise, operator, carnival, pays, high, price, to, get, credit, investors, on, board:, sources]                                   |\n",
            "|Negative       |Virus Drives Down Auto Sales For GM and Fiat                                                                    |[virus, drives, down, auto, sales, for, gm, and, fiat]                                                                             |\n",
            "|Neutral        |SoftBank Is Said to Plan to Abandon WeWork Shareholders Deal                                                    |[softbank, is, said, to, plan, to, abandon, wework, shareholders, deal]                                                            |\n",
            "|Positive       |PVH CEO on Macy's woes: 'they're going to be a survivor' post pandemic                                          |[pvh, ceo, on, macy's, woes:, 'they're, going, to, be, a, survivor', post, pandemic]                                               |\n",
            "|Positive       |Calvin Klein-parent PVH CEO on Macy's woes: 'We have a great deal of confidence' in their leadership            |[calvin, klein-parent, pvh, ceo, on, macy's, woes:, 'we, have, a, great, deal, of, confidence', in, their, leadership]             |\n",
            "|Neutral        |Dividend Aristocrat McCormick Declares Its Upcoming Payout                                                      |[dividend, aristocrat, mccormick, declares, its, upcoming, payout]                                                                 |\n",
            "|Neutral        |Open Letter to Stakeholders                                                                                     |[open, letter, to, stakeholders]                                                                                                   |\n",
            "|Positive       |Why Shares of WD-40 Soared in March                                                                             |[why, shares, of, wd-40, soared, in, march]                                                                                        |\n",
            "|Negative       |SpaceX reportedly bans use of Zoom videoconferencing app by employees                                           |[spacex, reportedly, bans, use, of, zoom, videoconferencing, app, by, employees]                                                   |\n",
            "|Positive       |British Airways could suspend 36,000 employees: BBC                                                             |[british, airways, could, suspend, 36,000, employees:, bbc]                                                                        |\n",
            "|Positive       |Recreational Pot Sales in Bellwether States Tumble After a COVID-19 Buying Peak                                 |[recreational, pot, sales, in, bellwether, states, tumble, after, a, covid-19, buying, peak]                                       |\n",
            "|Negative       |Elon Musk's SpaceX bans Zoom over privacy concerns, memo shows                                                  |[elon, musk's, spacex, bans, zoom, over, privacy, concerns,, memo, shows]                                                          |\n",
            "|Positive       |Why AMC Entertainment Stock Plunged 50% in March                                                                |[why, amc, entertainment, stock, plunged, 50%, in, march]                                                                          |\n",
            "|Positive       |Nintendo: Corona-Proof, But Not A Buy At This Valuation                                                         |[nintendo:, corona-proof,, but, not, a, buy, at, this, valuation]                                                                  |\n",
            "|Positive       |Calvin Klein-parent PVH CEO discloses COVID-19 diagnosis: 'I'm fine'                                            |[calvin, klein-parent, pvh, ceo, discloses, covid-19, diagnosis:, 'i'm, fine']                                                     |\n",
            "|Positive       |3 Luxury Retail Stocks Got Crushed by Today's News                                                              |[3, luxury, retail, stocks, got, crushed, by, today's, news]                                                                       |\n",
            "+---------------+----------------------------------------------------------------------------------------------------------------+-----------------------------------------------------------------------------------------------------------------------------------+\n",
            "only showing top 20 rows\n",
            "\n"
          ]
        }
      ]
    },
    {
      "cell_type": "code",
      "metadata": {
        "id": "OeMfDuqTTVUv",
        "colab": {
          "base_uri": "https://localhost:8080/"
        },
        "outputId": "908818a1-cfe0-40ca-fa00-7f88bc698c16"
      },
      "source": [
        "predictions_nb_df1.groupBy('predicted_label').count().show()"
      ],
      "id": "OeMfDuqTTVUv",
      "execution_count": 34,
      "outputs": [
        {
          "output_type": "stream",
          "name": "stdout",
          "text": [
            "+---------------+-----+\n",
            "|predicted_label|count|\n",
            "+---------------+-----+\n",
            "|       Positive| 2766|\n",
            "|        Neutral| 2789|\n",
            "|       Negative|  545|\n",
            "+---------------+-----+\n",
            "\n"
          ]
        }
      ]
    },
    {
      "cell_type": "code",
      "metadata": {
        "id": "nkv7BDfeQ19Z"
      },
      "source": [
        "predictions_nb_df1.toPandas().to_csv('covid_peak_to_slowdown_predictions_count_vector_naive_bayes_model.csv')"
      ],
      "id": "nkv7BDfeQ19Z",
      "execution_count": 35,
      "outputs": []
    }
  ]
}