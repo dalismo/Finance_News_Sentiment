{
  "nbformat": 4,
  "nbformat_minor": 5,
  "metadata": {
    "kernelspec": {
      "display_name": "Python 3",
      "language": "python",
      "name": "python3"
    },
    "language_info": {
      "codemirror_mode": {
        "name": "ipython",
        "version": 3
      },
      "file_extension": ".py",
      "mimetype": "text/x-python",
      "name": "python",
      "nbconvert_exporter": "python",
      "pygments_lexer": "ipython3",
      "version": "3.8.8"
    },
    "colab": {
      "name": "2.4_post-vax_prediction_counts_to_csv.ipynb",
      "provenance": [],
      "collapsed_sections": [],
      "include_colab_link": true
    }
  },
  "cells": [
    {
      "cell_type": "markdown",
      "metadata": {
        "id": "view-in-github",
        "colab_type": "text"
      },
      "source": [
        "<a href=\"https://colab.research.google.com/github/dalismo/Finance_News_Sentiment/blob/ai%2Fall_covid_stage_api_pull_run_machine/2_4_post_vax_prediction_counts_to_csv.ipynb\" target=\"_parent\"><img src=\"https://colab.research.google.com/assets/colab-badge.svg\" alt=\"Open In Colab\"/></a>"
      ]
    },
    {
      "cell_type": "code",
      "metadata": {
        "colab": {
          "base_uri": "https://localhost:8080/"
        },
        "id": "b7676daf",
        "outputId": "754cb599-ff19-46eb-963a-ee6eb1692051"
      },
      "source": [
        "import pandas as pd\n",
        "\n",
        "import os\n",
        "# Find the latest version of spark 3.0  from http://www.apache.org/dist/spark/ and enter as the spark version\n",
        "# For example:\n",
        "# spark_version = 'spark-3.0.3'\n",
        "spark_version = 'spark-3.0.3'\n",
        "os.environ['SPARK_VERSION']=spark_version\n",
        "\n",
        "# Install Spark and Java\n",
        "!apt-get update\n",
        "!apt-get install openjdk-11-jdk-headless -qq > /dev/null\n",
        "!wget -q http://www.apache.org/dist/spark/$SPARK_VERSION/$SPARK_VERSION-bin-hadoop2.7.tgz\n",
        "!tar xf $SPARK_VERSION-bin-hadoop2.7.tgz\n",
        "!pip install -q findspark\n",
        "\n",
        "# Set Environment Variables\n",
        "os.environ[\"JAVA_HOME\"] = \"/usr/lib/jvm/java-11-openjdk-amd64\"\n",
        "os.environ[\"SPARK_HOME\"] = f\"/content/{spark_version}-bin-hadoop2.7\"\n",
        "\n",
        "# Start a SparkSession\n",
        "import findspark\n",
        "findspark.init()"
      ],
      "id": "b7676daf",
      "execution_count": 1,
      "outputs": [
        {
          "output_type": "stream",
          "name": "stdout",
          "text": [
            "Get:1 http://security.ubuntu.com/ubuntu bionic-security InRelease [88.7 kB]\n",
            "Ign:2 https://developer.download.nvidia.com/compute/cuda/repos/ubuntu1804/x86_64  InRelease\n",
            "Get:3 https://cloud.r-project.org/bin/linux/ubuntu bionic-cran40/ InRelease [3,626 B]\n",
            "Get:4 http://ppa.launchpad.net/c2d4u.team/c2d4u4.0+/ubuntu bionic InRelease [15.9 kB]\n",
            "Hit:5 http://archive.ubuntu.com/ubuntu bionic InRelease\n",
            "Ign:6 https://developer.download.nvidia.com/compute/machine-learning/repos/ubuntu1804/x86_64  InRelease\n",
            "Get:7 https://developer.download.nvidia.com/compute/cuda/repos/ubuntu1804/x86_64  Release [696 B]\n",
            "Hit:8 https://developer.download.nvidia.com/compute/machine-learning/repos/ubuntu1804/x86_64  Release\n",
            "Get:9 https://developer.download.nvidia.com/compute/cuda/repos/ubuntu1804/x86_64  Release.gpg [836 B]\n",
            "Get:10 http://archive.ubuntu.com/ubuntu bionic-updates InRelease [88.7 kB]\n",
            "Hit:11 http://ppa.launchpad.net/cran/libgit2/ubuntu bionic InRelease\n",
            "Get:12 http://security.ubuntu.com/ubuntu bionic-security/main amd64 Packages [2,324 kB]\n",
            "Get:13 http://archive.ubuntu.com/ubuntu bionic-backports InRelease [74.6 kB]\n",
            "Get:14 http://ppa.launchpad.net/deadsnakes/ppa/ubuntu bionic InRelease [15.9 kB]\n",
            "Get:15 http://security.ubuntu.com/ubuntu bionic-security/universe amd64 Packages [1,428 kB]\n",
            "Get:16 http://security.ubuntu.com/ubuntu bionic-security/restricted amd64 Packages [567 kB]\n",
            "Hit:17 http://ppa.launchpad.net/graphics-drivers/ppa/ubuntu bionic InRelease\n",
            "Get:19 https://developer.download.nvidia.com/compute/cuda/repos/ubuntu1804/x86_64  Packages [717 kB]\n",
            "Get:20 http://ppa.launchpad.net/c2d4u.team/c2d4u4.0+/ubuntu bionic/main Sources [1,799 kB]\n",
            "Get:21 http://archive.ubuntu.com/ubuntu bionic-updates/restricted amd64 Packages [600 kB]\n",
            "Get:22 http://ppa.launchpad.net/c2d4u.team/c2d4u4.0+/ubuntu bionic/main amd64 Packages [921 kB]\n",
            "Get:23 http://archive.ubuntu.com/ubuntu bionic-updates/main amd64 Packages [2,760 kB]\n",
            "Get:24 http://archive.ubuntu.com/ubuntu bionic-updates/universe amd64 Packages [2,202 kB]\n",
            "Get:25 http://ppa.launchpad.net/deadsnakes/ppa/ubuntu bionic/main amd64 Packages [40.8 kB]\n",
            "Fetched 13.6 MB in 7s (2,073 kB/s)\n",
            "Reading package lists... Done\n"
          ]
        }
      ]
    },
    {
      "cell_type": "code",
      "metadata": {
        "id": "CvoLwz9S0gwE"
      },
      "source": [
        "# Start Spark session\n",
        "from pyspark.sql import SparkSession\n",
        "# spark = SparkSession.builder.appName(\"StopWords\").getOrCreate()\n",
        "spark = SparkSession.builder.appName(\"Fin-sent-count-vector\").getOrCreate()"
      ],
      "id": "CvoLwz9S0gwE",
      "execution_count": 2,
      "outputs": []
    },
    {
      "cell_type": "code",
      "metadata": {
        "id": "69qSAC1R1EgS"
      },
      "source": [
        "from pyspark.ml.feature import Tokenizer, StopWordsRemover"
      ],
      "id": "69qSAC1R1EgS",
      "execution_count": 3,
      "outputs": []
    },
    {
      "cell_type": "code",
      "metadata": {
        "colab": {
          "base_uri": "https://localhost:8080/"
        },
        "id": "mODaD0re3ulm",
        "outputId": "8d5b55a4-cbde-4c96-aeae-7b792af6cb1e"
      },
      "source": [
        "# Read in data from S3 Buckets\n",
        "from pyspark import SparkFiles\n",
        "\n",
        "url = 'https://raw.githubusercontent.com/dalismo/Finance_News_Sentiment/main/Resources/sentiment-train.csv'\n",
        "# df = pd.read_csv(url,encoding='latin-1', header=None)\n",
        "# url =\"https://s3.amazonaws.com/dataviz-curriculum/day_2/yelp_reviews.csv\"\n",
        "spark.sparkContext.addFile(url)\n",
        "df = spark.read.csv(SparkFiles.get(\"sentiment-train.csv\"), sep=\",\", header=None)\n",
        "\n",
        "\n",
        "\n",
        "# Show DataFrame\n",
        "df.show(5, truncate=False)\n"
      ],
      "id": "mODaD0re3ulm",
      "execution_count": 4,
      "outputs": [
        {
          "output_type": "stream",
          "name": "stdout",
          "text": [
            "+--------+-----------------------------------------------------------------------------------------------------+\n",
            "|_c0     |_c1                                                                                                  |\n",
            "+--------+-----------------------------------------------------------------------------------------------------+\n",
            "|Positive|Autodesk Is Down 15% After Q2 Earnings -- Is This a Buying Opportunity?                              |\n",
            "|Positive|Blue Shield of California, Walgreens Partner on Personalized Healthcare Solution                     |\n",
            "|Positive|RSX: Russian Equities Are Still Undervalued                                                          |\n",
            "|Positive|XLB: Hold Your Position                                                                              |\n",
            "|Positive|Musgrave Minerals broad, near-surface high-grade results open up further Cue gold discovery potential|\n",
            "+--------+-----------------------------------------------------------------------------------------------------+\n",
            "only showing top 5 rows\n",
            "\n"
          ]
        }
      ]
    },
    {
      "cell_type": "code",
      "metadata": {
        "colab": {
          "base_uri": "https://localhost:8080/"
        },
        "id": "4BbzYExyNYCR",
        "outputId": "6cc0f2ce-fcd9-4dfe-9c87-423c657d1aaa"
      },
      "source": [
        "from pyspark.sql.functions import length\n",
        "# Create a length column to be used as a future feature \n",
        "data_df = df.withColumn('length', length(df['_c1']))\n",
        "data_df.show()"
      ],
      "id": "4BbzYExyNYCR",
      "execution_count": 5,
      "outputs": [
        {
          "output_type": "stream",
          "name": "stdout",
          "text": [
            "+--------+--------------------+------+\n",
            "|     _c0|                 _c1|length|\n",
            "+--------+--------------------+------+\n",
            "|Positive|Autodesk Is Down ...|    71|\n",
            "|Positive|Blue Shield of Ca...|    80|\n",
            "|Positive|RSX: Russian Equi...|    43|\n",
            "|Positive|XLB: Hold Your Po...|    23|\n",
            "|Positive|Musgrave Minerals...|   101|\n",
            "|Positive|ViacomCBS to rest...|    49|\n",
            "|Positive|Oil climbs to one...|    51|\n",
            "|Negative|Australian regula...|    67|\n",
            "|Positive|The Wall Street J...|    90|\n",
            "|Positive|Ora Banda Mining ...|    50|\n",
            "|Positive|Google Pay Plans ...|    43|\n",
            "|Negative|Toyota, Honda Ang...|    69|\n",
            "| Neutral|ZY Investor Alert...|    44|\n",
            "| Neutral|Calima Energy spu...|    58|\n",
            "|Positive|These Marijuana S...|    56|\n",
            "|Positive|Moderna ETFs to R...|    61|\n",
            "| Neutral|MacroGenics Annou...|    72|\n",
            "| Neutral|Zymeworks Announc...|   173|\n",
            "| Neutral|BioXcel Therapeut...|   130|\n",
            "| Neutral|Merck to Present ...|    80|\n",
            "+--------+--------------------+------+\n",
            "only showing top 20 rows\n",
            "\n"
          ]
        }
      ]
    },
    {
      "cell_type": "code",
      "metadata": {
        "colab": {
          "base_uri": "https://localhost:8080/"
        },
        "id": "HiCnjIddrflT",
        "outputId": "e0c2f68f-bcdd-4ae0-f1c1-f5b8107f67ce"
      },
      "source": [
        "df2 = data_df.withColumnRenamed(\"_c0\", \"class\").withColumnRenamed(\"_c1\", \"text\")\n",
        "df2.printSchema()\n",
        "df2.show(20, truncate = False)\n"
      ],
      "id": "HiCnjIddrflT",
      "execution_count": 6,
      "outputs": [
        {
          "output_type": "stream",
          "name": "stdout",
          "text": [
            "root\n",
            " |-- class: string (nullable = true)\n",
            " |-- text: string (nullable = true)\n",
            " |-- length: integer (nullable = true)\n",
            "\n",
            "+--------+-----------------------------------------------------------------------------------------------------------------------------------------------------------------------------+------+\n",
            "|class   |text                                                                                                                                                                         |length|\n",
            "+--------+-----------------------------------------------------------------------------------------------------------------------------------------------------------------------------+------+\n",
            "|Positive|Autodesk Is Down 15% After Q2 Earnings -- Is This a Buying Opportunity?                                                                                                      |71    |\n",
            "|Positive|Blue Shield of California, Walgreens Partner on Personalized Healthcare Solution                                                                                             |80    |\n",
            "|Positive|RSX: Russian Equities Are Still Undervalued                                                                                                                                  |43    |\n",
            "|Positive|XLB: Hold Your Position                                                                                                                                                      |23    |\n",
            "|Positive|Musgrave Minerals broad, near-surface high-grade results open up further Cue gold discovery potential                                                                        |101   |\n",
            "|Positive|ViacomCBS to restructure Paramount Pictures - WSJ                                                                                                                            |49    |\n",
            "|Positive|Oil climbs to one-week high on U.S. supply concerns                                                                                                                          |51    |\n",
            "|Negative|Australian regulator denies approval for Qantas-Japan Airlines deal                                                                                                          |67    |\n",
            "|Positive|The Wall Street Journal: ViacomCBS revamping Paramount operations, refocusing on streaming                                                                                   |90    |\n",
            "|Positive|Ora Banda Mining to receive $11 million for Mt Ida                                                                                                                           |50    |\n",
            "|Positive|Google Pay Plans Israel Debut by Year's End                                                                                                                                  |43    |\n",
            "|Negative|Toyota, Honda Angry After Getting Shut Out of Electric Car Tax Credit                                                                                                        |69    |\n",
            "|Neutral |ZY Investor Alert: Shareholder Lawsuit Filed                                                                                                                                 |44    |\n",
            "|Neutral |Calima Energy spuds Leo #3 with fracturing just weeks away                                                                                                                   |58    |\n",
            "|Positive|These Marijuana Stocks May Soon Start To Recover In 2021                                                                                                                     |56    |\n",
            "|Positive|Moderna ETFs to Rally on Two-in-One Vaccine Booster Shot News                                                                                                                |61    |\n",
            "|Neutral |MacroGenics Announces Presentations at ESMO 2021 Virtual Annual Congress                                                                                                     |72    |\n",
            "|Neutral |Zymeworks Announces Abstract for Zanidatamab in First-line HER2-Expressing Gastroesophageal Cancers (GEA) at the European Society for Medical Oncology (ESMO) Annual Congress|173   |\n",
            "|Neutral |BioXcel Therapeutics to Present Updates from Ongoing Trial of BXCL701 in Aggressive Forms of Prostate Cancer at 2021 ESMO Congress                                           |130   |\n",
            "|Neutral |Merck to Present Latest Highlights From Oncology Portfolio at WCLC and ESMO 2021                                                                                             |80    |\n",
            "+--------+-----------------------------------------------------------------------------------------------------------------------------------------------------------------------------+------+\n",
            "only showing top 20 rows\n",
            "\n"
          ]
        }
      ]
    },
    {
      "cell_type": "code",
      "metadata": {
        "colab": {
          "base_uri": "https://localhost:8080/"
        },
        "id": "8tMPNronWpK1",
        "outputId": "41ceb24c-6ac0-4ab1-ae00-855c3b72dacc"
      },
      "source": [
        "df2.createOrReplaceTempView('temp')\n",
        "df3 = spark.sql('select case class when \"Positive\" then 1.0  when \"Negative\" then 2.0 else 0 end as label, text from temp')\n",
        "df3.show(20, truncate = False)"
      ],
      "id": "8tMPNronWpK1",
      "execution_count": 7,
      "outputs": [
        {
          "output_type": "stream",
          "name": "stdout",
          "text": [
            "+-----+-----------------------------------------------------------------------------------------------------------------------------------------------------------------------------+\n",
            "|label|text                                                                                                                                                                         |\n",
            "+-----+-----------------------------------------------------------------------------------------------------------------------------------------------------------------------------+\n",
            "|1.0  |Autodesk Is Down 15% After Q2 Earnings -- Is This a Buying Opportunity?                                                                                                      |\n",
            "|1.0  |Blue Shield of California, Walgreens Partner on Personalized Healthcare Solution                                                                                             |\n",
            "|1.0  |RSX: Russian Equities Are Still Undervalued                                                                                                                                  |\n",
            "|1.0  |XLB: Hold Your Position                                                                                                                                                      |\n",
            "|1.0  |Musgrave Minerals broad, near-surface high-grade results open up further Cue gold discovery potential                                                                        |\n",
            "|1.0  |ViacomCBS to restructure Paramount Pictures - WSJ                                                                                                                            |\n",
            "|1.0  |Oil climbs to one-week high on U.S. supply concerns                                                                                                                          |\n",
            "|2.0  |Australian regulator denies approval for Qantas-Japan Airlines deal                                                                                                          |\n",
            "|1.0  |The Wall Street Journal: ViacomCBS revamping Paramount operations, refocusing on streaming                                                                                   |\n",
            "|1.0  |Ora Banda Mining to receive $11 million for Mt Ida                                                                                                                           |\n",
            "|1.0  |Google Pay Plans Israel Debut by Year's End                                                                                                                                  |\n",
            "|2.0  |Toyota, Honda Angry After Getting Shut Out of Electric Car Tax Credit                                                                                                        |\n",
            "|0.0  |ZY Investor Alert: Shareholder Lawsuit Filed                                                                                                                                 |\n",
            "|0.0  |Calima Energy spuds Leo #3 with fracturing just weeks away                                                                                                                   |\n",
            "|1.0  |These Marijuana Stocks May Soon Start To Recover In 2021                                                                                                                     |\n",
            "|1.0  |Moderna ETFs to Rally on Two-in-One Vaccine Booster Shot News                                                                                                                |\n",
            "|0.0  |MacroGenics Announces Presentations at ESMO 2021 Virtual Annual Congress                                                                                                     |\n",
            "|0.0  |Zymeworks Announces Abstract for Zanidatamab in First-line HER2-Expressing Gastroesophageal Cancers (GEA) at the European Society for Medical Oncology (ESMO) Annual Congress|\n",
            "|0.0  |BioXcel Therapeutics to Present Updates from Ongoing Trial of BXCL701 in Aggressive Forms of Prostate Cancer at 2021 ESMO Congress                                           |\n",
            "|0.0  |Merck to Present Latest Highlights From Oncology Portfolio at WCLC and ESMO 2021                                                                                             |\n",
            "+-----+-----------------------------------------------------------------------------------------------------------------------------------------------------------------------------+\n",
            "only showing top 20 rows\n",
            "\n"
          ]
        }
      ]
    },
    {
      "cell_type": "code",
      "metadata": {
        "colab": {
          "base_uri": "https://localhost:8080/"
        },
        "id": "j89il24uZ-s_",
        "outputId": "ca897e46-1e34-47b9-cf0a-c68e11d06896"
      },
      "source": [
        "from pyspark.ml.feature import  Tokenizer\n",
        "tokenizer = Tokenizer(inputCol=\"text\", outputCol=\"words\")\n",
        "wordsData = tokenizer.transform(df3)\n",
        "wordsData.show()"
      ],
      "id": "j89il24uZ-s_",
      "execution_count": 8,
      "outputs": [
        {
          "output_type": "stream",
          "name": "stdout",
          "text": [
            "+-----+--------------------+--------------------+\n",
            "|label|                text|               words|\n",
            "+-----+--------------------+--------------------+\n",
            "|  1.0|Autodesk Is Down ...|[autodesk, is, do...|\n",
            "|  1.0|Blue Shield of Ca...|[blue, shield, of...|\n",
            "|  1.0|RSX: Russian Equi...|[rsx:, russian, e...|\n",
            "|  1.0|XLB: Hold Your Po...|[xlb:, hold, your...|\n",
            "|  1.0|Musgrave Minerals...|[musgrave, minera...|\n",
            "|  1.0|ViacomCBS to rest...|[viacomcbs, to, r...|\n",
            "|  1.0|Oil climbs to one...|[oil, climbs, to,...|\n",
            "|  2.0|Australian regula...|[australian, regu...|\n",
            "|  1.0|The Wall Street J...|[the, wall, stree...|\n",
            "|  1.0|Ora Banda Mining ...|[ora, banda, mini...|\n",
            "|  1.0|Google Pay Plans ...|[google, pay, pla...|\n",
            "|  2.0|Toyota, Honda Ang...|[toyota,, honda, ...|\n",
            "|  0.0|ZY Investor Alert...|[zy, investor, al...|\n",
            "|  0.0|Calima Energy spu...|[calima, energy, ...|\n",
            "|  1.0|These Marijuana S...|[these, marijuana...|\n",
            "|  1.0|Moderna ETFs to R...|[moderna, etfs, t...|\n",
            "|  0.0|MacroGenics Annou...|[macrogenics, ann...|\n",
            "|  0.0|Zymeworks Announc...|[zymeworks, annou...|\n",
            "|  0.0|BioXcel Therapeut...|[bioxcel, therape...|\n",
            "|  0.0|Merck to Present ...|[merck, to, prese...|\n",
            "+-----+--------------------+--------------------+\n",
            "only showing top 20 rows\n",
            "\n"
          ]
        }
      ]
    },
    {
      "cell_type": "code",
      "metadata": {
        "colab": {
          "base_uri": "https://localhost:8080/"
        },
        "id": "ZlhgmA2GaNHX",
        "outputId": "d61ef553-8738-4741-86cb-5b3091c89a95"
      },
      "source": [
        "from pyspark.ml.feature import CountVectorizer\n",
        "count = CountVectorizer (inputCol=\"words\", outputCol=\"rawFeatures\")\n",
        "model = count.fit(wordsData)\n",
        "featurizedData = model.transform(wordsData)\n",
        "featurizedData.show()"
      ],
      "id": "ZlhgmA2GaNHX",
      "execution_count": 9,
      "outputs": [
        {
          "output_type": "stream",
          "name": "stdout",
          "text": [
            "+-----+--------------------+--------------------+--------------------+\n",
            "|label|                text|               words|         rawFeatures|\n",
            "+-----+--------------------+--------------------+--------------------+\n",
            "|  1.0|Autodesk Is Down ...|[autodesk, is, do...|(11788,[6,9,19,37...|\n",
            "|  1.0|Blue Shield of Ca...|[blue, shield, of...|(11788,[2,7,177,5...|\n",
            "|  1.0|RSX: Russian Equi...|[rsx:, russian, e...|(11788,[48,262,63...|\n",
            "|  1.0|XLB: Hold Your Po...|[xlb:, hold, your...|(11788,[158,335,1...|\n",
            "|  1.0|Musgrave Minerals...|[musgrave, minera...|(11788,[26,49,89,...|\n",
            "|  1.0|ViacomCBS to rest...|[viacomcbs, to, r...|(11788,[0,34,1891...|\n",
            "|  1.0|Oil climbs to one...|[oil, climbs, to,...|(11788,[0,7,100,1...|\n",
            "|  2.0|Australian regula...|[australian, regu...|(11788,[5,175,179...|\n",
            "|  1.0|The Wall Street J...|[the, wall, stree...|(11788,[1,7,292,4...|\n",
            "|  1.0|Ora Banda Mining ...|[ora, banda, mini...|(11788,[0,5,72,32...|\n",
            "|  1.0|Google Pay Plans ...|[google, pay, pla...|(11788,[75,217,26...|\n",
            "|  2.0|Toyota, Honda Ang...|[toyota,, honda, ...|(11788,[2,65,230,...|\n",
            "|  0.0|ZY Investor Alert...|[zy, investor, al...|(11788,[43,44,63,...|\n",
            "|  0.0|Calima Energy spu...|[calima, energy, ...|(11788,[10,83,338...|\n",
            "|  1.0|These Marijuana S...|[these, marijuana...|(11788,[0,3,13,18...|\n",
            "|  1.0|Moderna ETFs to R...|[moderna, etfs, t...|(11788,[0,7,172,2...|\n",
            "|  0.0|MacroGenics Annou...|[macrogenics, ann...|(11788,[11,12,13,...|\n",
            "|  0.0|Zymeworks Announc...|[zymeworks, annou...|(11788,[1,3,5,11,...|\n",
            "|  0.0|BioXcel Therapeut...|[bioxcel, therape...|(11788,[0,2,3,12,...|\n",
            "|  0.0|Merck to Present ...|[merck, to, prese...|(11788,[0,4,12,13...|\n",
            "+-----+--------------------+--------------------+--------------------+\n",
            "only showing top 20 rows\n",
            "\n"
          ]
        }
      ]
    },
    {
      "cell_type": "code",
      "metadata": {
        "colab": {
          "base_uri": "https://localhost:8080/"
        },
        "id": "pj4m9hLsaV_G",
        "outputId": "bfa1aed0-0ef2-4221-bb9d-5b55b8470470"
      },
      "source": [
        "from pyspark.ml.feature import  IDF\n",
        "#IDF down-weighs features which appear frequently in a corpus. This generally improves performance when using text as features since most frequent, and hence less important words, get down-weighed.\n",
        "idf = IDF(inputCol=\"rawFeatures\", outputCol=\"features\")\n",
        "idfModel = idf.fit(featurizedData)\n",
        "rescaledData = idfModel.transform(featurizedData)\n",
        "rescaledData.select(\"label\", \"features\").show()  \n",
        "# We want only the label and features columns for our machine learning models"
      ],
      "id": "pj4m9hLsaV_G",
      "execution_count": 10,
      "outputs": [
        {
          "output_type": "stream",
          "name": "stdout",
          "text": [
            "+-----+--------------------+\n",
            "|label|            features|\n",
            "+-----+--------------------+\n",
            "|  1.0|(11788,[6,9,19,37...|\n",
            "|  1.0|(11788,[2,7,177,5...|\n",
            "|  1.0|(11788,[48,262,63...|\n",
            "|  1.0|(11788,[158,335,1...|\n",
            "|  1.0|(11788,[26,49,89,...|\n",
            "|  1.0|(11788,[0,34,1891...|\n",
            "|  1.0|(11788,[0,7,100,1...|\n",
            "|  2.0|(11788,[5,175,179...|\n",
            "|  1.0|(11788,[1,7,292,4...|\n",
            "|  1.0|(11788,[0,5,72,32...|\n",
            "|  1.0|(11788,[75,217,26...|\n",
            "|  2.0|(11788,[2,65,230,...|\n",
            "|  0.0|(11788,[43,44,63,...|\n",
            "|  0.0|(11788,[10,83,338...|\n",
            "|  1.0|(11788,[0,3,13,18...|\n",
            "|  1.0|(11788,[0,7,172,2...|\n",
            "|  0.0|(11788,[11,12,13,...|\n",
            "|  0.0|(11788,[1,3,5,11,...|\n",
            "|  0.0|(11788,[0,2,3,12,...|\n",
            "|  0.0|(11788,[0,4,12,13...|\n",
            "+-----+--------------------+\n",
            "only showing top 20 rows\n",
            "\n"
          ]
        }
      ]
    },
    {
      "cell_type": "code",
      "metadata": {
        "id": "gvprtx9Vaed2"
      },
      "source": [
        "seed = 0  # set seed for reproducibility\n",
        "trainDF, testDF = rescaledData.randomSplit([0.8,0.2],seed)"
      ],
      "id": "gvprtx9Vaed2",
      "execution_count": 11,
      "outputs": []
    },
    {
      "cell_type": "code",
      "metadata": {
        "colab": {
          "base_uri": "https://localhost:8080/"
        },
        "id": "jx1mwMzJagt5",
        "outputId": "c4721164-429a-41c6-a3f3-ae094cedb2e4"
      },
      "source": [
        "trainDF.count()"
      ],
      "id": "jx1mwMzJagt5",
      "execution_count": 12,
      "outputs": [
        {
          "output_type": "execute_result",
          "data": {
            "text/plain": [
              "3965"
            ]
          },
          "metadata": {},
          "execution_count": 12
        }
      ]
    },
    {
      "cell_type": "code",
      "metadata": {
        "colab": {
          "base_uri": "https://localhost:8080/"
        },
        "id": "uPmhzGFBqCNC",
        "outputId": "1a33e1ca-cf6f-4686-ee69-e44f9eefef9f"
      },
      "source": [
        "trainDF.show(truncate=False)"
      ],
      "id": "uPmhzGFBqCNC",
      "execution_count": 13,
      "outputs": [
        {
          "output_type": "stream",
          "name": "stdout",
          "text": [
            "+-----+--------------------------------------------------------------------------------------------------------------------------------------------------------------------------------+------------------------------------------------------------------------------------------------------------------------------------------------------------------------------------------------------------------+---------------------------------------------------------------------------------------------------------------------------------------------------------------------------------------------------------------------------------------------------------------------------+-----------------------------------------------------------------------------------------------------------------------------------------------------------------------------------------------------------------------------------------------------------------------------------------------------------------------------------------------------------------------------------------------------------------------------------------------------------------------------------------------------------------------------------------------------------------------------------------------------------------------------------------------------------------------------------------------------------------------------------+\n",
            "|label|text                                                                                                                                                                            |words                                                                                                                                                                                                             |rawFeatures                                                                                                                                                                                                                                                                |features                                                                                                                                                                                                                                                                                                                                                                                                                                                                                                                                                                                                                                                                                                                           |\n",
            "+-----+--------------------------------------------------------------------------------------------------------------------------------------------------------------------------------+------------------------------------------------------------------------------------------------------------------------------------------------------------------------------------------------------------------+---------------------------------------------------------------------------------------------------------------------------------------------------------------------------------------------------------------------------------------------------------------------------+-----------------------------------------------------------------------------------------------------------------------------------------------------------------------------------------------------------------------------------------------------------------------------------------------------------------------------------------------------------------------------------------------------------------------------------------------------------------------------------------------------------------------------------------------------------------------------------------------------------------------------------------------------------------------------------------------------------------------------------+\n",
            "|0.0  |\"ASSA ABLOY to acquire Hardware and Home Improvement (\"\"HHI\"\") division of Spectrum Brands\"                                                                                     |[\"assa, abloy, to, acquire, hardware, and, home, improvement, (\"\"hhi\"\"), division, of, spectrum, brands\"]                                                                                                         |(11788,[0,2,4,313,371,418,902,1337,1545,4656,5479,5495,7907],[1.0,1.0,1.0,1.0,1.0,1.0,1.0,1.0,1.0,1.0,1.0,1.0,1.0])                                                                                                                                                        |(11788,[0,2,4,313,371,418,902,1337,1545,4656,5479,5495,7907],[1.2271002889723068,1.755820402614848,1.939531813697857,5.298517346550703,5.472870733695481,5.572954192252463,6.214808078424858,6.571483022363591,6.725633702190849,7.418780882750794,7.824245990858959,7.824245990858959,7.824245990858959])                                                                                                                                                                                                                                                                                                                                                                                                                         |\n",
            "|0.0  |\"BofA Unveils \"\"VAM 2.0\"\"                                                                                                                                                       |[\"bofa, unveils, \"\"vam, 2.0\"\"]                                                                                                                                                                                    |(11788,[399,7222,9292,10963],[1.0,1.0,1.0,1.0])                                                                                                                                                                                                                            |(11788,[399,7222,9292,10963],[5.521660897864913,7.824245990858959,7.824245990858959,7.824245990858959])                                                                                                                                                                                                                                                                                                                                                                                                                                                                                                                                                                                                                            |\n",
            "|0.0  |\"CP Offer for KCS Declared \"\"Company Superior Proposal\"\" by KCS Board\"                                                                                                          |[\"cp, offer, for, kcs, declared, \"\"company, superior, proposal\"\", by, kcs, board\"]                                                                                                                                |(11788,[5,75,344,1400,2928,2994,5426,9691,10783,11221],[1.0,1.0,1.0,1.0,2.0,1.0,1.0,1.0,1.0,1.0])                                                                                                                                                                          |(11788,[5,75,344,1400,2928,2994,5426,9691,10783,11221],[2.002680480546374,4.017583501088638,5.381898955489754,6.725633702190849,14.837561765501588,7.418780882750794,7.824245990858959,7.824245990858959,7.824245990858959,7.824245990858959])                                                                                                                                                                                                                                                                                                                                                                                                                                                                                     |\n",
            "|0.0  |\"Cumulus Podcast Network's Just Getting Started With Rich Eisen To Feature Special Fall 2021 Series \"\"Voices Of Football\"\"\"                                                     |[\"cumulus, podcast, network's, just, getting, started, with, rich, eisen, to, feature, special, fall, 2021, series, \"\"voices, of, football\"\"\"]                                                                    |(11788,[0,2,10,13,338,364,710,821,891,1064,2134,2452,2465,5005,5760,5919,6472,10385],[1.0,1.0,1.0,1.0,1.0,1.0,1.0,1.0,1.0,1.0,1.0,1.0,1.0,1.0,1.0,1.0,1.0,1.0])                                                                                                            |(11788,[0,2,10,13,338,364,710,821,891,1064,2134,2452,2465,5005,5760,5919,6472,10385],[1.2271002889723068,1.755820402614848,2.423823401373768,2.5209410827998826,5.381898955489754,5.426350718060588,6.1194978986205335,6.1194978986205335,6.214808078424858,6.437951629739068,6.907955258984804,7.131098810299013,7.131098810299013,7.824245990858959,7.824245990858959,7.824245990858959,7.824245990858959,7.824245990858959])                                                                                                                                                                                                                                                                                                    |\n",
            "|0.0  |\"Epic Games asks Apple to allow \"\"Fortnite\"\" to return in South Korea\"                                                                                                          |[\"epic, games, asks, apple, to, allow, \"\"fortnite\"\", to, return, in, south, korea\"]                                                                                                                               |(11788,[0,3,86,278,397,978,1165,1388,4254,9735,10156],[2.0,1.0,1.0,1.0,1.0,1.0,1.0,1.0,1.0,1.0,1.0])                                                                                                                                                                       |(11788,[0,3,86,278,397,978,1165,1388,4254,9735,10156],[2.4542005779446137,1.8117540765589006,4.186659831132572,5.1851886612437,5.521660897864913,6.320168594082684,6.437951629739068,6.571483022363591,7.418780882750794,7.824245990858959,7.824245990858959])                                                                                                                                                                                                                                                                                                                                                                                                                                                                     |\n",
            "|0.0  |\"Great Bear Provides Complete Assays from Central LP Fault \"\"Auro2\"\" High-Grade Gold Domain and Update on Geological Modelling\"                                                 |[\"great, bear, provides, complete, assays, from, central, lp, fault, \"\"auro2\"\", high-grade, gold, domain, and, update, on, geological, modelling\"]                                                                |(11788,[4,7,45,89,121,161,1091,1381,1684,1779,1869,2231,2602,3701,5173,6681,9661,11091],[1.0,1.0,1.0,1.0,1.0,1.0,1.0,1.0,1.0,1.0,1.0,1.0,1.0,1.0,1.0,1.0,1.0,1.0])                                                                                                         |(11788,[4,7,45,89,121,161,1091,1381,1684,1779,1869,2231,2602,3701,5173,6681,9661,11091],[1.939531813697857,2.173512737292573,3.612118392980474,4.254713294377588,4.406519307245593,4.688751774929809,6.437951629739068,6.571483022363591,6.725633702190849,6.907955258984804,6.907955258984804,7.131098810299013,7.131098810299013,7.418780882750794,7.824245990858959,7.824245990858959,7.824245990858959,7.824245990858959])                                                                                                                                                                                                                                                                                                     |\n",
            "|0.0  |\"IDenta Corp Announces \"\"Touch&Know\"\" Brand Drug Detection Kits for Personal Use                                                                                                |[\"identa, corp, announces, \"\"touch&know\"\", brand, drug, detection, kits, for, personal, use]                                                                                                                      |(11788,[5,11,420,423,473,686,1902,2836,3958,9914,10670],[1.0,1.0,1.0,1.0,1.0,1.0,1.0,1.0,1.0,1.0,1.0])                                                                                                                                                                     |(11788,[5,11,420,423,473,686,1902,2836,3958,9914,10670],[2.002680480546374,2.4170742193988395,5.572954192252463,5.572954192252463,5.627021413522739,6.032486521630903,6.907955258984804,7.131098810299013,7.418780882750794,7.824245990858959,7.824245990858959])                                                                                                                                                                                                                                                                                                                                                                                                                                                                  |\n",
            "|0.0  |\"Kansas City Southern Receives Revised Proposal from Canadian Pacific That Board of Directors Determines is a \"\"Company Superior Proposal\"\"\"                                    |[\"kansas, city, southern, receives, revised, proposal, from, canadian, pacific, that, board, of, directors, determines, is, a, \"\"company, superior, proposal\"\"\"]                                                  |(11788,[2,6,9,45,110,159,266,382,443,514,642,725,1400,1960,2723,2994,4132,7609,9173],[1.0,1.0,1.0,1.0,1.0,1.0,1.0,1.0,1.0,1.0,1.0,1.0,1.0,1.0,1.0,1.0,1.0,1.0,1.0])                                                                                                        |(11788,[2,6,9,45,110,159,266,382,443,514,642,725,1400,1960,2723,2994,4132,7609,9173],[1.755820402614848,2.1665074547041643,2.3775086191926484,3.612118392980474,4.3430059015232665,4.667245569708845,5.15009734143243,5.472870733695481,5.627021413522739,5.744804449179123,5.952443813957367,6.032486521630903,6.725633702190849,6.907955258984804,7.131098810299013,7.418780882750794,7.418780882750794,7.824245990858959,7.824245990858959])                                                                                                                                                                                                                                                                                    |\n",
            "|0.0  |\"Loop Media, Inc. Launches New \"\"Movie Trailers+\"\" Streaming Channel\"                                                                                                           |[\"loop, media,, inc., launches, new, \"\"movie, trailers+\"\", streaming, channel\"]                                                                                                                                   |(11788,[14,22,111,786,915,6089,6210,6927,10108],[1.0,1.0,1.0,1.0,1.0,1.0,1.0,1.0,1.0])                                                                                                                                                                                     |(11788,[14,22,111,786,915,6089,6210,6927,10108],[2.5745937962922025,3.079313862495708,4.3430059015232665,6.1194978986205335,6.214808078424858,7.824245990858959,7.824245990858959,7.824245990858959,7.824245990858959])                                                                                                                                                                                                                                                                                                                                                                                                                                                                                                            |\n",
            "|0.0  |\"MindMed to Attend 8th Annual \"\"Mobile in Clinical Trials\"\" Conference\"                                                                                                         |[\"mindmed, to, attend, 8th, annual, \"\"mobile, in, clinical, trials\"\", conference\"]                                                                                                                                |(11788,[0,3,33,411,1066,1305,5582,6773,8372,11480],[1.0,1.0,1.0,1.0,1.0,1.0,1.0,1.0,1.0,1.0])                                                                                                                                                                              |(11788,[0,3,33,411,1066,1305,5582,6773,8372,11480],[1.2271002889723068,1.8117540765589006,3.3412434388450745,5.521660897864913,6.437951629739068,6.571483022363591,7.824245990858959,7.824245990858959,7.824245990858959,7.824245990858959])                                                                                                                                                                                                                                                                                                                                                                                                                                                                                       |\n",
            "|0.0  |\"OKYO Pharma Limited (\"\"OKYO\"\" or the \"\"Company\"\") - Notice of Annual General Meeting\"                                                                                          |[\"okyo, pharma, limited, (\"\"okyo\"\", or, the, \"\"company\"\"), -, notice, of, annual, general, meeting\"]                                                                                                              |(11788,[1,2,33,34,151,243,277,387,757,5042,5266,7072,9054],[1.0,1.0,1.0,1.0,1.0,1.0,1.0,1.0,1.0,1.0,1.0,1.0,1.0])                                                                                                                                                          |(11788,[1,2,33,34,151,243,277,387,757,5042,5266,7072,9054],[1.6546352583675024,1.755820402614848,3.3412434388450745,3.3583378722043746,4.605370165990758,5.116195789756748,5.1851886612437,5.472870733695481,6.1194978986205335,7.824245990858959,7.824245990858959,7.824245990858959,7.824245990858959])                                                                                                                                                                                                                                                                                                                                                                                                                          |\n",
            "|0.0  |\"Shutterstock Announced As Exclusive Sponsor Of \"\"Experience The Times Of Bill Cunningham\"\" Exhibit At New York Fashion Week\"                                                   |[\"shutterstock, announced, as, exclusive, sponsor, of, \"\"experience, the, times, of, bill, cunningham\"\", exhibit, at, new, york, fashion, week\"]                                                                  |(11788,[1,2,12,20,22,355,536,1223,1261,1306,1335,1801,4474,5013,5576,5723,10919],[1.0,2.0,1.0,1.0,1.0,1.0,1.0,1.0,1.0,1.0,1.0,1.0,1.0,1.0,1.0,1.0,1.0])                                                                                                                    |(11788,[1,2,12,20,22,355,536,1223,1261,1306,1335,1801,4474,5013,5576,5723,10919],[1.6546352583675024,3.511640805229696,2.4843069496201022,3.0284554452622174,3.079313862495708,5.426350718060588,5.744804449179123,6.571483022363591,6.907955258984804,6.571483022363591,6.571483022363591,6.907955258984804,7.418780882750794,7.824245990858959,7.824245990858959,7.824245990858959,7.824245990858959])                                                                                                                                                                                                                                                                                                                           |\n",
            "|0.0  |\"The Boston Beer Company Launches New \"\"Bevy Long Drink\"\"\"                                                                                                                      |[\"the, boston, beer, company, launches, new, \"\"bevy, long, drink\"\"\"]                                                                                                                                              |(11788,[22,69,111,302,312,554,5742,6658,7505],[1.0,1.0,1.0,1.0,1.0,1.0,1.0,1.0,1.0])                                                                                                                                                                                       |(11788,[22,69,111,302,312,554,5742,6658,7505],[3.079313862495708,3.942682192915521,4.3430059015232665,5.339339341070958,5.381898955489754,5.809342970316694,7.824245990858959,7.824245990858959,7.824245990858959])                                                                                                                                                                                                                                                                                                                                                                                                                                                                                                                |\n",
            "|0.0  |\"Welcome to the Tri \"\"Party\"\": Broadridge Launches Sponsored General Collateral Service\"                                                                                        |[\"welcome, to, the, tri, \"\"party\"\":, broadridge, launches, sponsored, general, collateral, service\"]                                                                                                              |(11788,[0,1,111,277,3953,8276,8644,8991,9126,9276,10552],[1.0,1.0,1.0,1.0,1.0,1.0,1.0,1.0,1.0,1.0,1.0])                                                                                                                                                                    |(11788,[0,1,111,277,3953,8276,8644,8991,9126,9276,10552],[1.2271002889723068,1.6546352583675024,4.3430059015232665,5.1851886612437,7.418780882750794,7.824245990858959,7.824245990858959,7.824245990858959,7.824245990858959,7.824245990858959,7.824245990858959])                                                                                                                                                                                                                                                                                                                                                                                                                                                                 |\n",
            "|0.0  |/R E P E A T -- Chris Ryan PhD., New York Times Best Selling Author, and Featured TED Talk Speaker To Appear At Meet Delic: The World's Premiere Psychedelic and Wellness Event/|[/r, e, p, e, a, t, --, chris, ryan, phd.,, new, york, times, best, selling, author,, and, featured, ted, talk, speaker, to, appear, at, meet, delic:, the, world's, premiere, psychedelic, and, wellness, event/]|(11788,[0,1,4,6,12,22,104,355,720,810,849,882,960,1306,1425,1800,1840,1887,2440,2756,2787,2883,3040,3263,3308,3688,4650,7963,8039,8156,8820],[1.0,1.0,2.0,1.0,1.0,1.0,1.0,1.0,1.0,1.0,1.0,1.0,1.0,1.0,1.0,1.0,1.0,1.0,1.0,1.0,2.0,1.0,1.0,1.0,1.0,1.0,1.0,1.0,1.0,1.0,1.0])|(11788,[0,1,4,6,12,22,104,355,720,810,849,882,960,1306,1425,1800,1840,1887,2440,2756,2787,2883,3040,3263,3308,3688,4650,7963,8039,8156,8820],[1.2271002889723068,1.6546352583675024,3.879063627395714,2.1665074547041643,2.4843069496201022,3.079313862495708,4.327738429392478,5.426350718060588,6.032486521630903,6.1194978986205335,6.214808078424858,6.214808078424858,6.320168594082684,6.571483022363591,6.725633702190849,6.907955258984804,6.907955258984804,6.907955258984804,7.131098810299013,7.131098810299013,14.837561765501588,7.131098810299013,7.418780882750794,7.418780882750794,7.418780882750794,7.418780882750794,7.418780882750794,7.824245990858959,7.824245990858959,7.824245990858959,7.824245990858959])|\n",
            "|0.0  |01 Communique Provides Quarterly Update on Business Developments and Third Quarter Fiscal 2021 Results                                                                          |[01, communique, provides, quarterly, update, on, business, developments, and, third, quarter, fiscal, 2021, results]                                                                                             |(11788,[4,7,13,26,50,121,123,129,161,162,211,4083,10871,11608],[1.0,1.0,1.0,1.0,1.0,1.0,1.0,1.0,1.0,1.0,1.0,1.0,1.0,1.0])                                                                                                                                                  |(11788,[4,7,13,26,50,121,123,129,161,162,211,4083,10871,11608],[1.939531813697857,2.173512737292573,2.5209410827998826,3.179855091717586,3.7216026258221624,4.406519307245593,4.423048609196803,4.456950160872484,4.688751774929809,4.688751774929809,4.96204510992949,7.418780882750794,7.824245990858959,7.824245990858959])                                                                                                                                                                                                                                                                                                                                                                                                     |\n",
            "|0.0  |10 Personal Finance Experts To Follow On Twitter                                                                                                                                |[10, personal, finance, experts, to, follow, on, twitter]                                                                                                                                                         |(11788,[0,7,724,897,899,1902,4499,6481],[1.0,1.0,1.0,1.0,1.0,1.0,1.0,1.0])                                                                                                                                                                                                 |(11788,[0,7,724,897,899,1902,4499,6481],[1.2271002889723068,2.173512737292573,6.032486521630903,6.214808078424858,6.214808078424858,6.907955258984804,7.418780882750794,7.824245990858959])                                                                                                                                                                                                                                                                                                                                                                                                                                                                                                                                        |\n",
            "|0.0  |10X Capital Leadership Purchases Additional Shares In REE Automotive                                                                                                            |[10x, capital, leadership, purchases, additional, shares, in, ree, automotive]                                                                                                                                    |(11788,[3,41,147,487,743,1214,1493,3917,9504],[1.0,1.0,1.0,1.0,1.0,1.0,1.0,1.0,1.0])                                                                                                                                                                                       |(11788,[3,41,147,487,743,1214,1493,3917,9504],[1.8117540765589006,3.5269605846401673,4.585567538694578,5.684179827362688,6.1194978986205335,6.571483022363591,6.725633702190849,7.418780882750794,7.824245990858959])                                                                                                                                                                                                                                                                                                                                                                                                                                                                                                              |\n",
            "|0.0  |15 Words From President Biden That Could Equal Billions for Pfizer and Moderna                                                                                                  |[15, words, from, president, biden, that, could, equal, billions, for, pfizer, and, moderna]                                                                                                                      |(11788,[4,5,45,84,110,304,469,672,927,2018,3217,6887,10926],[1.0,1.0,1.0,1.0,1.0,1.0,1.0,1.0,1.0,1.0,1.0,1.0,1.0])                                                                                                                                                         |(11788,[4,5,45,84,110,304,469,672,927,2018,3217,6887,10926],[1.939531813697857,2.002680480546374,3.612118392980474,4.08657637257559,4.3430059015232665,5.259296633397422,5.627021413522739,5.952443813957367,6.320168594082684,6.907955258984804,7.418780882750794,7.824245990858959,7.824245990858959])                                                                                                                                                                                                                                                                                                                                                                                                                           |\n",
            "|0.0  |16 Northern Illinois Arts Organizations Awarded Grants from ComEd and League of Chicago Theatres                                                                                |[16, northern, illinois, arts, organizations, awarded, grants, from, comed, and, league, of, chicago, theatres]                                                                                                   |(11788,[2,4,45,459,1135,1252,1742,2331,3228,4005,6317,7209,7534,11425],[1.0,1.0,1.0,1.0,1.0,1.0,1.0,1.0,1.0,1.0,1.0,1.0,1.0,1.0])                                                                                                                                          |(11788,[2,4,45,459,1135,1252,1742,2331,3228,4005,6317,7209,7534,11425],[1.755820402614848,1.939531813697857,3.612118392980474,5.627021413522739,6.437951629739068,6.571483022363591,6.907955258984804,7.131098810299013,7.418780882750794,7.418780882750794,7.824245990858959,7.824245990858959,7.824245990858959,7.824245990858959])                                                                                                                                                                                                                                                                                                                                                                                              |\n",
            "+-----+--------------------------------------------------------------------------------------------------------------------------------------------------------------------------------+------------------------------------------------------------------------------------------------------------------------------------------------------------------------------------------------------------------+---------------------------------------------------------------------------------------------------------------------------------------------------------------------------------------------------------------------------------------------------------------------------+-----------------------------------------------------------------------------------------------------------------------------------------------------------------------------------------------------------------------------------------------------------------------------------------------------------------------------------------------------------------------------------------------------------------------------------------------------------------------------------------------------------------------------------------------------------------------------------------------------------------------------------------------------------------------------------------------------------------------------------+\n",
            "only showing top 20 rows\n",
            "\n"
          ]
        }
      ]
    },
    {
      "cell_type": "code",
      "metadata": {
        "colab": {
          "base_uri": "https://localhost:8080/"
        },
        "id": "8HwaguEFajq2",
        "outputId": "183b85eb-1358-4926-cb7e-44a078d1aebc"
      },
      "source": [
        "testDF.count()"
      ],
      "id": "8HwaguEFajq2",
      "execution_count": 14,
      "outputs": [
        {
          "output_type": "execute_result",
          "data": {
            "text/plain": [
              "1035"
            ]
          },
          "metadata": {},
          "execution_count": 14
        }
      ]
    },
    {
      "cell_type": "code",
      "metadata": {
        "colab": {
          "base_uri": "https://localhost:8080/"
        },
        "id": "mLabWeJqNf8K",
        "outputId": "78db92a4-36da-47cc-9096-24dfcdaa4850"
      },
      "source": [
        "testDF.show()"
      ],
      "id": "mLabWeJqNf8K",
      "execution_count": 15,
      "outputs": [
        {
          "output_type": "stream",
          "name": "stdout",
          "text": [
            "+-----+--------------------+--------------------+--------------------+--------------------+\n",
            "|label|                text|               words|         rawFeatures|            features|\n",
            "+-----+--------------------+--------------------+--------------------+--------------------+\n",
            "|  0.0|180 Life Sciences...|[180, life, scien...|(11788,[10,12,197...|(11788,[10,12,197...|\n",
            "|  0.0|1847 Goedeker Iss...|[1847, goedeker, ...|(11788,[45,87,474...|(11788,[45,87,474...|\n",
            "|  0.0|3 Reasons to Buy ...|[3, reasons, to, ...|(11788,[0,4,23,54...|(11788,[0,4,23,54...|\n",
            "|  0.0|3 Things to Watch...|[3, things, to, w...|(11788,[0,1,3,8,3...|(11788,[0,1,3,8,3...|\n",
            "|  0.0|3 Upcoming Earnin...|[3, upcoming, ear...|(11788,[0,19,54,6...|(11788,[0,19,54,6...|\n",
            "|  0.0|4 Diversified Che...|[4, diversified, ...|(11788,[0,5,18,17...|(11788,[0,5,18,17...|\n",
            "|  0.0|4 Outstanding Sto...|[4, outstanding, ...|(11788,[0,18,20,2...|(11788,[0,18,20,2...|\n",
            "|  0.0|4 Top Stock Trade...|[4, top, stock, t...|(11788,[5,8,61,17...|(11788,[5,8,61,17...|\n",
            "|  0.0|A Body Camera Com...|[a, body, camera,...|(11788,[4,6,69,13...|(11788,[4,6,69,13...|\n",
            "|  0.0|A Nick to Apple's...|[a, nick, to, app...|(11788,[0,5,6,67,...|(11788,[0,5,6,67,...|\n",
            "|  0.0|ABC and Procore A...|[abc, and, procor...|(11788,[0,4,5,87,...|(11788,[0,4,5,87,...|\n",
            "|  0.0|ABM Delivers Infr...|[abm, delivers, i...|(11788,[5,22,281,...|(11788,[5,22,281,...|\n",
            "|  0.0|ABM Industries An...|[abm, industries,...|(11788,[5,11,13,2...|(11788,[5,11,13,2...|\n",
            "|  0.0|ADC Therapeutics ...|[adc, therapeutic...|(11788,[0,3,17,21...|(11788,[0,3,17,21...|\n",
            "|  0.0|AIG names CEO Zaf...|[aig, names, ceo,...|(11788,[20,35,307...|(11788,[20,35,307...|\n",
            "|  0.0|ALERT: Spectrum P...|[alert:, spectrum...|(11788,[0,10,14,1...|(11788,[0,10,14,1...|\n",
            "|  0.0|AMOT or WTS: Whic...|[amot, or, wts:, ...|(11788,[1,8,9,62,...|(11788,[1,8,9,62,...|\n",
            "|  0.0|ANVS CLASS ACTION...|[anvs, class, act...|(11788,[0,1,2,3,6...|(11788,[0,1,2,3,6...|\n",
            "|  0.0|ANVS Investor Ale...|[anvs, investor, ...|(11788,[27,32,43,...|(11788,[27,32,43,...|\n",
            "|  0.0|AXIS Insurance Ex...|[axis, insurance,...|(11788,[10,22,193...|(11788,[10,22,193...|\n",
            "+-----+--------------------+--------------------+--------------------+--------------------+\n",
            "only showing top 20 rows\n",
            "\n"
          ]
        }
      ]
    },
    {
      "cell_type": "code",
      "metadata": {
        "colab": {
          "base_uri": "https://localhost:8080/"
        },
        "id": "422KCtKsapc2",
        "outputId": "948cb0ec-e4e7-4322-ee00-19963498d7a7"
      },
      "source": [
        "#Logistic Regression Classifier\n",
        "#Cross validator different classification to  \n",
        "#Param Grid apply different parameters, testing which param is best\n",
        "from pyspark.ml.classification import LogisticRegression\n",
        "from pyspark.ml.evaluation import BinaryClassificationEvaluator\n",
        "from pyspark.ml.tuning import CrossValidator, ParamGridBuilder\n",
        "from pyspark.ml.evaluation import MulticlassClassificationEvaluator\n",
        "import numpy as np\n",
        "lr = LogisticRegression(maxIter = 10)\n",
        "\n",
        "paramGrid_lr = ParamGridBuilder() \\\n",
        "    .addGrid(lr.regParam, np.linspace(0.3, 0.01, 10)) \\\n",
        "    .addGrid(lr.elasticNetParam, np.linspace(0.3, 0.8, 6)) \\\n",
        "    .build()\n",
        "crossval_lr = CrossValidator(estimator=lr,\n",
        "                          estimatorParamMaps=paramGrid_lr,\n",
        "                          evaluator=MulticlassClassificationEvaluator(),\n",
        "                          numFolds= 5)  \n",
        "cvModel_lr = crossval_lr.fit(trainDF)\n",
        "best_model_lr = cvModel_lr.bestModel.summary\n",
        "best_model_lr.predictions.columns"
      ],
      "id": "422KCtKsapc2",
      "execution_count": 16,
      "outputs": [
        {
          "output_type": "execute_result",
          "data": {
            "text/plain": [
              "['label',\n",
              " 'text',\n",
              " 'words',\n",
              " 'rawFeatures',\n",
              " 'features',\n",
              " 'rawPrediction',\n",
              " 'probability',\n",
              " 'prediction']"
            ]
          },
          "metadata": {},
          "execution_count": 16
        }
      ]
    },
    {
      "cell_type": "code",
      "metadata": {
        "colab": {
          "base_uri": "https://localhost:8080/"
        },
        "id": "oXHKusiWqkUf",
        "outputId": "a4ac82f3-5c46-408f-d071-99a6c3a1b135"
      },
      "source": [
        "best_model_lr.predictions.show()"
      ],
      "id": "oXHKusiWqkUf",
      "execution_count": 17,
      "outputs": [
        {
          "output_type": "stream",
          "name": "stdout",
          "text": [
            "+-----+--------------------+--------------------+--------------------+--------------------+--------------------+--------------------+----------+\n",
            "|label|                text|               words|         rawFeatures|            features|       rawPrediction|         probability|prediction|\n",
            "+-----+--------------------+--------------------+--------------------+--------------------+--------------------+--------------------+----------+\n",
            "|  0.0|\"ASSA ABLOY to ac...|[\"assa, abloy, to...|(11788,[0,2,4,313...|(11788,[0,2,4,313...|[1.64517033979983...|[0.79824527096704...|       0.0|\n",
            "|  0.0|\"BofA Unveils \"\"V...|[\"bofa, unveils, ...|(11788,[399,7222,...|(11788,[399,7222,...|[2.08263253514879...|[0.81353218445965...|       0.0|\n",
            "|  0.0|\"CP Offer for KCS...|[\"cp, offer, for,...|(11788,[5,75,344,...|(11788,[5,75,344,...|[1.76665185080529...|[0.80250194367115...|       0.0|\n",
            "|  0.0|\"Cumulus Podcast ...|[\"cumulus, podcas...|(11788,[0,2,10,13...|(11788,[0,2,10,13...|[2.90273855393937...|[0.82680486923848...|       0.0|\n",
            "|  0.0|\"Epic Games asks ...|[\"epic, games, as...|(11788,[0,3,86,27...|(11788,[0,3,86,27...|[2.09792024134109...|[0.81603872333805...|       0.0|\n",
            "|  0.0|\"Great Bear Provi...|[\"great, bear, pr...|(11788,[4,7,45,89...|(11788,[4,7,45,89...|[2.94665682581161...|[0.90948610283230...|       0.0|\n",
            "|  0.0|\"IDenta Corp Anno...|[\"identa, corp, a...|(11788,[5,11,420,...|(11788,[5,11,420,...|[3.56896814148348...|[0.97779067717069...|       0.0|\n",
            "|  0.0|\"Kansas City Sout...|[\"kansas, city, s...|(11788,[2,6,9,45,...|(11788,[2,6,9,45,...|[3.22718434354480...|[0.90895805501500...|       0.0|\n",
            "|  0.0|\"Loop Media, Inc....|[\"loop, media,, i...|(11788,[14,22,111...|(11788,[14,22,111...|[2.33973687535765...|[0.89552795168378...|       0.0|\n",
            "|  0.0|\"MindMed to Atten...|[\"mindmed, to, at...|(11788,[0,3,33,41...|(11788,[0,3,33,41...|[2.07768982704509...|[0.81878217245896...|       0.0|\n",
            "|  0.0|\"OKYO Pharma Limi...|[\"okyo, pharma, l...|(11788,[1,2,33,34...|(11788,[1,2,33,34...|[3.80564366842772...|[0.98118289490334...|       0.0|\n",
            "|  0.0|\"Shutterstock Ann...|[\"shutterstock, a...|(11788,[1,2,12,20...|(11788,[1,2,12,20...|[2.57621364401873...|[0.93262478261950...|       0.0|\n",
            "|  0.0|\"The Boston Beer ...|[\"the, boston, be...|(11788,[22,69,111...|(11788,[22,69,111...|[1.73130663408599...|[0.80820447850714...|       0.0|\n",
            "|  0.0|\"Welcome to the T...|[\"welcome, to, th...|(11788,[0,1,111,2...|(11788,[0,1,111,2...|[1.88564533264297...|[0.79630822775370...|       0.0|\n",
            "|  0.0|/R E P E A T -- C...|[/r, e, p, e, a, ...|(11788,[0,1,4,6,1...|(11788,[0,1,4,6,1...|[2.40885075381025...|[0.92773316250976...|       0.0|\n",
            "|  0.0|01 Communique Pro...|[01, communique, ...|(11788,[4,7,13,26...|(11788,[4,7,13,26...|[4.84712029218164...|[0.99511153032502...|       0.0|\n",
            "|  0.0|10 Personal Finan...|[10, personal, fi...|(11788,[0,7,724,8...|(11788,[0,7,724,8...|[2.04750313406582...|[0.84370818115239...|       0.0|\n",
            "|  0.0|10X Capital Leade...|[10x, capital, le...|(11788,[3,41,147,...|(11788,[3,41,147,...|[2.02839483259698...|[0.79457234951477...|       0.0|\n",
            "|  0.0|15 Words From Pre...|[15, words, from,...|(11788,[4,5,45,84...|(11788,[4,5,45,84...|[2.15535084508549...|[0.81618842411757...|       0.0|\n",
            "|  0.0|16 Northern Illin...|[16, northern, il...|(11788,[2,4,45,45...|(11788,[2,4,45,45...|[2.78267504727440...|[0.92983574469491...|       0.0|\n",
            "+-----+--------------------+--------------------+--------------------+--------------------+--------------------+--------------------+----------+\n",
            "only showing top 20 rows\n",
            "\n"
          ]
        }
      ]
    },
    {
      "cell_type": "code",
      "metadata": {
        "colab": {
          "base_uri": "https://localhost:8080/"
        },
        "id": "Ns8T13S_dZ2I",
        "outputId": "1809c55e-9d47-4ae9-a928-0ef117b41432"
      },
      "source": [
        "#import pre-covid test data\n",
        "url1 = 'https://raw.githubusercontent.com/dalismo/Finance_News_Sentiment/main/Resources/TEST_DATA_post-vax-test-data.csv'\n",
        "spark.sparkContext.addFile(url1)\n",
        "pre_covid_df = spark.read.csv(SparkFiles.get(\"TEST_DATA_post-vax-test-data.csv\"), sep=\",\", header=None)\n",
        "\n",
        "pre_covid_df.show(5, truncate=False)"
      ],
      "id": "Ns8T13S_dZ2I",
      "execution_count": 18,
      "outputs": [
        {
          "output_type": "stream",
          "name": "stdout",
          "text": [
            "+----------------------------------------------------------------------------------------------------------------------------------------------------------------------------------------------------------------------------------------------------+\n",
            "|_c0                                                                                                                                                                                                                                                 |\n",
            "+----------------------------------------------------------------------------------------------------------------------------------------------------------------------------------------------------------------------------------------------------+\n",
            "|ROSEN, TRUSTED AND LEADING INVESTOR COUNSEL, Reminds Royal Caribbean Cruises Ltd. Investors of Important December 7 Deadline in Securities Class Action; Encourages Investors with Losses in Excess of $100K to Contact Firm - RCL                  |\n",
            "|ROSEN, GLOBAL INVESTOR COUNSEL, Reminds JPMorgan Chase & Co. Investors of Important December 23 Deadline in First Filed Securities Class Action Commenced by the Firm; Encourages Investors with Losses in Excess of $100K to Contact the Firm - JPM|\n",
            "|ROSEN, GLOBAL INVESTOR COUNSEL, Reminds Evolus, Inc. Investors of Important December 15 Deadline in Securities Class Action; Encourages Investors with Losses in Excess of $100K to Contact the Firm - EOLS                                         |\n",
            "|Hewlett Packard Enterprise Company's (HPE) CEO Antonio Neri on Q4 2020 Results - Earnings Call Transcript                                                                                                                                           |\n",
            "|BlackBerry to Host Investor Fireside Chat to Discuss New Intelligent Vehicle Data Platform, BlackBerry IVY                                                                                                                                          |\n",
            "+----------------------------------------------------------------------------------------------------------------------------------------------------------------------------------------------------------------------------------------------------+\n",
            "only showing top 5 rows\n",
            "\n"
          ]
        }
      ]
    },
    {
      "cell_type": "code",
      "metadata": {
        "colab": {
          "base_uri": "https://localhost:8080/"
        },
        "id": "nfTw_8oEhB4x",
        "outputId": "92960cae-cff8-4b16-cc68-06db9f65bf89"
      },
      "source": [
        "#Rename column\n",
        "pre_covid_df2 = pre_covid_df.withColumnRenamed(\"_c0\", \"text\")\n",
        "pre_covid_df2.printSchema()\n",
        "pre_covid_df2.show(20, truncate = False)"
      ],
      "id": "nfTw_8oEhB4x",
      "execution_count": 19,
      "outputs": [
        {
          "output_type": "stream",
          "name": "stdout",
          "text": [
            "root\n",
            " |-- text: string (nullable = true)\n",
            "\n",
            "+----------------------------------------------------------------------------------------------------------------------------------------------------------------------------------------------------------------------------------------------------+\n",
            "|text                                                                                                                                                                                                                                                |\n",
            "+----------------------------------------------------------------------------------------------------------------------------------------------------------------------------------------------------------------------------------------------------+\n",
            "|ROSEN, TRUSTED AND LEADING INVESTOR COUNSEL, Reminds Royal Caribbean Cruises Ltd. Investors of Important December 7 Deadline in Securities Class Action; Encourages Investors with Losses in Excess of $100K to Contact Firm - RCL                  |\n",
            "|ROSEN, GLOBAL INVESTOR COUNSEL, Reminds JPMorgan Chase & Co. Investors of Important December 23 Deadline in First Filed Securities Class Action Commenced by the Firm; Encourages Investors with Losses in Excess of $100K to Contact the Firm - JPM|\n",
            "|ROSEN, GLOBAL INVESTOR COUNSEL, Reminds Evolus, Inc. Investors of Important December 15 Deadline in Securities Class Action; Encourages Investors with Losses in Excess of $100K to Contact the Firm - EOLS                                         |\n",
            "|Hewlett Packard Enterprise Company's (HPE) CEO Antonio Neri on Q4 2020 Results - Earnings Call Transcript                                                                                                                                           |\n",
            "|BlackBerry to Host Investor Fireside Chat to Discuss New Intelligent Vehicle Data Platform, BlackBerry IVY                                                                                                                                          |\n",
            "|Alibaba Nears Deal To Sell Entire Stake In Online Grocer BigBasket To Tata: Report                                                                                                                                                                  |\n",
            "|Hyundai Motor to launch dedicated EV platform in major push into electric cars                                                                                                                                                                      |\n",
            "|Loral-Telesat Merger Creates Attractive Call Option On LEO Economics                                                                                                                                                                                |\n",
            "|Sally Beauty Holdings, Inc. Announces Participation at the Morgan Stanley Virtual Global Consumer and Retail Conference                                                                                                                             |\n",
            "|SoftBank winding down options trading after investor backlash: Bloomberg News                                                                                                                                                                       |\n",
            "|Buy Netgear After Stock's Brief Downtrend Ends                                                                                                                                                                                                      |\n",
            "|Meten EdtechX announces management investment in its Likeshuo online business and expansion of option pool                                                                                                                                          |\n",
            "|Fashion retailer Tailored Brands emerges from bankruptcy protection                                                                                                                                                                                 |\n",
            "|salesforce.com, inc. (CRM) CEO Marc Benioff on Q3 2021 Results - Earnings Call Transcript                                                                                                                                                           |\n",
            "|Altimmune: A COVID-19 Winner After All                                                                                                                                                                                                              |\n",
            "|Apple Sued For $200M In EU Over Allegations It Deliberately Slowed Down iPhones To Mask Battery Issues                                                                                                                                              |\n",
            "|Box, Inc. (BOX) CEO Aaron Levie on Q3 2021 Results - Earnings Call Transcript                                                                                                                                                                       |\n",
            "|NetApp, Inc. (NTAP) CEO George Kurian on Q2 2021 Results - Earnings Call Transcript                                                                                                                                                                 |\n",
            "|Cogent Biosciences Announces Pricing of Upsized Public Offering of Shares of Common Stock                                                                                                                                                           |\n",
            "|BeiGene Announces Pricing of Public Offering by Selling Shareholders                                                                                                                                                                                |\n",
            "+----------------------------------------------------------------------------------------------------------------------------------------------------------------------------------------------------------------------------------------------------+\n",
            "only showing top 20 rows\n",
            "\n"
          ]
        }
      ]
    },
    {
      "cell_type": "code",
      "metadata": {
        "colab": {
          "base_uri": "https://localhost:8080/"
        },
        "id": "osHj5TgUg4YR",
        "outputId": "5cd9f644-096e-459e-aa3b-8e1af1b644ad"
      },
      "source": [
        "#tokenize text\n",
        "# from pyspark.ml.feature import  Tokenizer\n",
        "tokenizer = Tokenizer(inputCol=\"text\", outputCol=\"words\")\n",
        "wordsData = tokenizer.transform(pre_covid_df2)\n",
        "wordsData.show()"
      ],
      "id": "osHj5TgUg4YR",
      "execution_count": 20,
      "outputs": [
        {
          "output_type": "stream",
          "name": "stdout",
          "text": [
            "+--------------------+--------------------+\n",
            "|                text|               words|\n",
            "+--------------------+--------------------+\n",
            "|ROSEN, TRUSTED AN...|[rosen,, trusted,...|\n",
            "|ROSEN, GLOBAL INV...|[rosen,, global, ...|\n",
            "|ROSEN, GLOBAL INV...|[rosen,, global, ...|\n",
            "|Hewlett Packard E...|[hewlett, packard...|\n",
            "|BlackBerry to Hos...|[blackberry, to, ...|\n",
            "|Alibaba Nears Dea...|[alibaba, nears, ...|\n",
            "|Hyundai Motor to ...|[hyundai, motor, ...|\n",
            "|Loral-Telesat Mer...|[loral-telesat, m...|\n",
            "|Sally Beauty Hold...|[sally, beauty, h...|\n",
            "|SoftBank winding ...|[softbank, windin...|\n",
            "|Buy Netgear After...|[buy, netgear, af...|\n",
            "|Meten EdtechX ann...|[meten, edtechx, ...|\n",
            "|Fashion retailer ...|[fashion, retaile...|\n",
            "|salesforce.com, i...|[salesforce.com,,...|\n",
            "|Altimmune: A COVI...|[altimmune:, a, c...|\n",
            "|Apple Sued For $2...|[apple, sued, for...|\n",
            "|Box, Inc. (BOX) C...|[box,, inc., (box...|\n",
            "|NetApp, Inc. (NTA...|[netapp,, inc., (...|\n",
            "|Cogent Bioscience...|[cogent, bioscien...|\n",
            "|BeiGene Announces...|[beigene, announc...|\n",
            "+--------------------+--------------------+\n",
            "only showing top 20 rows\n",
            "\n"
          ]
        }
      ]
    },
    {
      "cell_type": "code",
      "metadata": {
        "colab": {
          "base_uri": "https://localhost:8080/"
        },
        "id": "HPSwYmrehRlF",
        "outputId": "b4410aa7-e841-49ef-ee7c-7b56d250ec08"
      },
      "source": [
        "#count vectorize \n",
        "# from pyspark.ml.feature import CountVectorizer\n",
        "# count = CountVectorizer (inputCol=\"words\", outputCol=\"rawFeatures\")\n",
        "# model = count.fit(wordsData)\n",
        "featurizedData = model.transform(wordsData)\n",
        "featurizedData.show()"
      ],
      "id": "HPSwYmrehRlF",
      "execution_count": 21,
      "outputs": [
        {
          "output_type": "stream",
          "name": "stdout",
          "text": [
            "+--------------------+--------------------+--------------------+\n",
            "|                text|               words|         rawFeatures|\n",
            "+--------------------+--------------------+--------------------+\n",
            "|ROSEN, TRUSTED AN...|[rosen,, trusted,...|(11788,[0,2,3,4,1...|\n",
            "|ROSEN, GLOBAL INV...|[rosen,, global, ...|(11788,[0,1,2,3,1...|\n",
            "|ROSEN, GLOBAL INV...|[rosen,, global, ...|(11788,[0,1,2,3,1...|\n",
            "|Hewlett Packard E...|[hewlett, packard...|(11788,[7,19,26,3...|\n",
            "|BlackBerry to Hos...|[blackberry, to, ...|(11788,[0,22,44,1...|\n",
            "|Alibaba Nears Dea...|[alibaba, nears, ...|(11788,[0,3,179,1...|\n",
            "|Hyundai Motor to ...|[hyundai, motor, ...|(11788,[0,3,132,1...|\n",
            "|Loral-Telesat Mer...|[loral-telesat, m...|(11788,[7,70,404,...|\n",
            "|Sally Beauty Hold...|[sally, beauty, h...|(11788,[1,4,11,12...|\n",
            "|SoftBank winding ...|[softbank, windin...|(11788,[44,65,115...|\n",
            "|Buy Netgear After...|[buy, netgear, af...|(11788,[23,65,181...|\n",
            "|Meten EdtechX ann...|[meten, edtechx, ...|(11788,[2,3,11,31...|\n",
            "|Fashion retailer ...|[fashion, retaile...|(11788,[45,391,12...|\n",
            "|salesforce.com, i...|[salesforce.com,,...|(11788,[7,13,14,1...|\n",
            "|Altimmune: A COVI...|[altimmune:, a, c...|(11788,[6,65,181,...|\n",
            "|Apple Sued For $2...|[apple, sued, for...|(11788,[0,3,5,36,...|\n",
            "|Box, Inc. (BOX) C...|[box,, inc., (box...|(11788,[7,13,14,1...|\n",
            "|NetApp, Inc. (NTA...|[netapp,, inc., (...|(11788,[7,13,14,1...|\n",
            "|Cogent Bioscience...|[cogent, bioscien...|(11788,[2,8,11,41...|\n",
            "|BeiGene Announces...|[beigene, announc...|(11788,[2,11,75,9...|\n",
            "+--------------------+--------------------+--------------------+\n",
            "only showing top 20 rows\n",
            "\n"
          ]
        }
      ]
    },
    {
      "cell_type": "code",
      "metadata": {
        "colab": {
          "base_uri": "https://localhost:8080/"
        },
        "id": "JAMPcf9uhcKO",
        "outputId": "656fe8a7-8d9b-43bd-caae-ba8ed5bedd38"
      },
      "source": [
        "from pyspark.ml.feature import  IDF\n",
        "#IDF down-weighs features which appear frequently in a corpus. This generally improves performance when using text as features since most frequent, and hence less important words, get down-weighed.\n",
        "idf = IDF(inputCol=\"rawFeatures\", outputCol=\"features\")\n",
        "idfModel = idf.fit(featurizedData)\n",
        "rescaledData = idfModel.transform(featurizedData)\n",
        "rescaledData.select(\"features\").show()  \n",
        "# We want only the label and features columns for our machine learning models"
      ],
      "id": "JAMPcf9uhcKO",
      "execution_count": 22,
      "outputs": [
        {
          "output_type": "stream",
          "name": "stdout",
          "text": [
            "+--------------------+\n",
            "|            features|\n",
            "+--------------------+\n",
            "|(11788,[0,2,3,4,1...|\n",
            "|(11788,[0,1,2,3,1...|\n",
            "|(11788,[0,1,2,3,1...|\n",
            "|(11788,[7,19,26,3...|\n",
            "|(11788,[0,22,44,1...|\n",
            "|(11788,[0,3,179,1...|\n",
            "|(11788,[0,3,132,1...|\n",
            "|(11788,[7,70,404,...|\n",
            "|(11788,[1,4,11,12...|\n",
            "|(11788,[44,65,115...|\n",
            "|(11788,[23,65,181...|\n",
            "|(11788,[2,3,11,31...|\n",
            "|(11788,[45,391,12...|\n",
            "|(11788,[7,13,14,1...|\n",
            "|(11788,[6,65,181,...|\n",
            "|(11788,[0,3,5,36,...|\n",
            "|(11788,[7,13,14,1...|\n",
            "|(11788,[7,13,14,1...|\n",
            "|(11788,[2,8,11,41...|\n",
            "|(11788,[2,11,75,9...|\n",
            "+--------------------+\n",
            "only showing top 20 rows\n",
            "\n"
          ]
        }
      ]
    },
    {
      "cell_type": "code",
      "metadata": {
        "colab": {
          "base_uri": "https://localhost:8080/"
        },
        "id": "l2mwc-1WNsOJ",
        "outputId": "92df2e5d-c532-4618-8b05-8e44165ec448"
      },
      "source": [
        "#Predict using the test data and evaluate the predictions\n",
        "predictions_lr = cvModel_lr.transform(rescaledData)\n",
        "predictions_lr.columns"
      ],
      "id": "l2mwc-1WNsOJ",
      "execution_count": 23,
      "outputs": [
        {
          "output_type": "execute_result",
          "data": {
            "text/plain": [
              "['text',\n",
              " 'words',\n",
              " 'rawFeatures',\n",
              " 'features',\n",
              " 'rawPrediction',\n",
              " 'probability',\n",
              " 'prediction']"
            ]
          },
          "metadata": {},
          "execution_count": 23
        }
      ]
    },
    {
      "cell_type": "code",
      "metadata": {
        "colab": {
          "base_uri": "https://localhost:8080/"
        },
        "id": "yRpIdd3Iw0bK",
        "outputId": "158e1b25-10ab-42f6-e355-7d73a8fa02b9"
      },
      "source": [
        "predictions_lr.show()"
      ],
      "id": "yRpIdd3Iw0bK",
      "execution_count": 24,
      "outputs": [
        {
          "output_type": "stream",
          "name": "stdout",
          "text": [
            "+--------------------+--------------------+--------------------+--------------------+--------------------+--------------------+----------+\n",
            "|                text|               words|         rawFeatures|            features|       rawPrediction|         probability|prediction|\n",
            "+--------------------+--------------------+--------------------+--------------------+--------------------+--------------------+----------+\n",
            "|ROSEN, TRUSTED AN...|[rosen,, trusted,...|(11788,[0,2,3,4,1...|(11788,[0,2,3,4,1...|[3.93304157614109...|[0.97771240476762...|       0.0|\n",
            "|ROSEN, GLOBAL INV...|[rosen,, global, ...|(11788,[0,1,2,3,1...|(11788,[0,1,2,3,1...|[5.13326382791118...|[0.99502908192699...|       0.0|\n",
            "|ROSEN, GLOBAL INV...|[rosen,, global, ...|(11788,[0,1,2,3,1...|(11788,[0,1,2,3,1...|[5.71481572304216...|[0.99883088236037...|       0.0|\n",
            "|Hewlett Packard E...|[hewlett, packard...|(11788,[7,19,26,3...|(11788,[7,19,26,3...|[1.23440168659649...|[0.41800932381185...|       1.0|\n",
            "|BlackBerry to Hos...|[blackberry, to, ...|(11788,[0,22,44,1...|(11788,[0,22,44,1...|[3.48988804976187...|[0.97883033572548...|       0.0|\n",
            "|Alibaba Nears Dea...|[alibaba, nears, ...|(11788,[0,3,179,1...|(11788,[0,3,179,1...|[0.47796782836507...|[0.44807379512116...|       0.0|\n",
            "|Hyundai Motor to ...|[hyundai, motor, ...|(11788,[0,3,132,1...|(11788,[0,3,132,1...|[0.88244132485671...|[0.57128612334368...|       0.0|\n",
            "|Loral-Telesat Mer...|[loral-telesat, m...|(11788,[7,70,404,...|(11788,[7,70,404,...|[1.45616092083228...|[0.31556872703159...|       1.0|\n",
            "|Sally Beauty Hold...|[sally, beauty, h...|(11788,[1,4,11,12...|(11788,[1,4,11,12...|[6.42389260522944...|[0.99925824606974...|       0.0|\n",
            "|SoftBank winding ...|[softbank, windin...|(11788,[44,65,115...|(11788,[44,65,115...|[0.79171553422265...|[0.41070791731529...|       2.0|\n",
            "|Buy Netgear After...|[buy, netgear, af...|(11788,[23,65,181...|(11788,[23,65,181...|[-0.6633363373238...|[0.04410069183490...|       1.0|\n",
            "|Meten EdtechX ann...|[meten, edtechx, ...|(11788,[2,3,11,31...|(11788,[2,3,11,31...|[3.32565731834013...|[0.96926476388705...|       0.0|\n",
            "|Fashion retailer ...|[fashion, retaile...|(11788,[45,391,12...|(11788,[45,391,12...|[0.85909466411032...|[0.52918276752947...|       0.0|\n",
            "|salesforce.com, i...|[salesforce.com,,...|(11788,[7,13,14,1...|(11788,[7,13,14,1...|[2.58219762070031...|[0.91049231688056...|       0.0|\n",
            "|Altimmune: A COVI...|[altimmune:, a, c...|(11788,[6,65,181,...|(11788,[6,65,181,...|[0.21103863014034...|[0.14934817295230...|       1.0|\n",
            "|Apple Sued For $2...|[apple, sued, for...|(11788,[0,3,5,36,...|(11788,[0,3,5,36,...|[0.10169185241692...|[0.12934609402489...|       2.0|\n",
            "|Box, Inc. (BOX) C...|[box,, inc., (box...|(11788,[7,13,14,1...|(11788,[7,13,14,1...|[2.58219762070031...|[0.91049231688056...|       0.0|\n",
            "|NetApp, Inc. (NTA...|[netapp,, inc., (...|(11788,[7,13,14,1...|(11788,[7,13,14,1...|[2.58219762070031...|[0.91049231688056...|       0.0|\n",
            "|Cogent Bioscience...|[cogent, bioscien...|(11788,[2,8,11,41...|(11788,[2,8,11,41...|[2.67737262170145...|[0.93787850299952...|       0.0|\n",
            "|BeiGene Announces...|[beigene, announc...|(11788,[2,11,75,9...|(11788,[2,11,75,9...|[3.06862454364396...|[0.97703465483396...|       0.0|\n",
            "+--------------------+--------------------+--------------------+--------------------+--------------------+--------------------+----------+\n",
            "only showing top 20 rows\n",
            "\n"
          ]
        }
      ]
    },
    {
      "cell_type": "code",
      "metadata": {
        "colab": {
          "base_uri": "https://localhost:8080/"
        },
        "id": "8zSmgjhtZWd9",
        "outputId": "b451cca3-e6ff-4c9b-8d77-e8827217a74b"
      },
      "source": [
        "predictions_lr_df = predictions_lr.select('prediction', 'text','words')\n",
        "predictions_lr_df.show(5)"
      ],
      "id": "8zSmgjhtZWd9",
      "execution_count": 25,
      "outputs": [
        {
          "output_type": "stream",
          "name": "stdout",
          "text": [
            "+----------+--------------------+--------------------+\n",
            "|prediction|                text|               words|\n",
            "+----------+--------------------+--------------------+\n",
            "|       0.0|ROSEN, TRUSTED AN...|[rosen,, trusted,...|\n",
            "|       0.0|ROSEN, GLOBAL INV...|[rosen,, global, ...|\n",
            "|       0.0|ROSEN, GLOBAL INV...|[rosen,, global, ...|\n",
            "|       1.0|Hewlett Packard E...|[hewlett, packard...|\n",
            "|       0.0|BlackBerry to Hos...|[blackberry, to, ...|\n",
            "+----------+--------------------+--------------------+\n",
            "only showing top 5 rows\n",
            "\n"
          ]
        }
      ]
    },
    {
      "cell_type": "code",
      "metadata": {
        "colab": {
          "base_uri": "https://localhost:8080/"
        },
        "id": "EgXODWPQZQTV",
        "outputId": "49c50499-1b73-4588-ea52-0f9fc0b19d11"
      },
      "source": [
        "predictions_lr_df.createOrReplaceTempView('temp')\n",
        "predictions_lr_df1 = spark.sql('select case prediction when \"1.0\" then \"Positive\"  when \"2.0\" then \"Negative\" else \"Neutral\" end as predicted_label, text, words from temp')\n",
        "predictions_lr_df1.show(20, truncate = False)"
      ],
      "id": "EgXODWPQZQTV",
      "execution_count": 26,
      "outputs": [
        {
          "output_type": "stream",
          "name": "stdout",
          "text": [
            "+---------------+----------------------------------------------------------------------------------------------------------------------------------------------------------------------------------------------------------------------------------------------------+--------------------------------------------------------------------------------------------------------------------------------------------------------------------------------------------------------------------------------------------------------------------------------------------+\n",
            "|predicted_label|text                                                                                                                                                                                                                                                |words                                                                                                                                                                                                                                                                                       |\n",
            "+---------------+----------------------------------------------------------------------------------------------------------------------------------------------------------------------------------------------------------------------------------------------------+--------------------------------------------------------------------------------------------------------------------------------------------------------------------------------------------------------------------------------------------------------------------------------------------+\n",
            "|Neutral        |ROSEN, TRUSTED AND LEADING INVESTOR COUNSEL, Reminds Royal Caribbean Cruises Ltd. Investors of Important December 7 Deadline in Securities Class Action; Encourages Investors with Losses in Excess of $100K to Contact Firm - RCL                  |[rosen,, trusted, and, leading, investor, counsel,, reminds, royal, caribbean, cruises, ltd., investors, of, important, december, 7, deadline, in, securities, class, action;, encourages, investors, with, losses, in, excess, of, $100k, to, contact, firm, -, rcl]                       |\n",
            "|Neutral        |ROSEN, GLOBAL INVESTOR COUNSEL, Reminds JPMorgan Chase & Co. Investors of Important December 23 Deadline in First Filed Securities Class Action Commenced by the Firm; Encourages Investors with Losses in Excess of $100K to Contact the Firm - JPM|[rosen,, global, investor, counsel,, reminds, jpmorgan, chase, &, co., investors, of, important, december, 23, deadline, in, first, filed, securities, class, action, commenced, by, the, firm;, encourages, investors, with, losses, in, excess, of, $100k, to, contact, the, firm, -, jpm]|\n",
            "|Neutral        |ROSEN, GLOBAL INVESTOR COUNSEL, Reminds Evolus, Inc. Investors of Important December 15 Deadline in Securities Class Action; Encourages Investors with Losses in Excess of $100K to Contact the Firm - EOLS                                         |[rosen,, global, investor, counsel,, reminds, evolus,, inc., investors, of, important, december, 15, deadline, in, securities, class, action;, encourages, investors, with, losses, in, excess, of, $100k, to, contact, the, firm, -, eols]                                                 |\n",
            "|Positive       |Hewlett Packard Enterprise Company's (HPE) CEO Antonio Neri on Q4 2020 Results - Earnings Call Transcript                                                                                                                                           |[hewlett, packard, enterprise, company's, (hpe), ceo, antonio, neri, on, q4, 2020, results, -, earnings, call, transcript]                                                                                                                                                                  |\n",
            "|Neutral        |BlackBerry to Host Investor Fireside Chat to Discuss New Intelligent Vehicle Data Platform, BlackBerry IVY                                                                                                                                          |[blackberry, to, host, investor, fireside, chat, to, discuss, new, intelligent, vehicle, data, platform,, blackberry, ivy]                                                                                                                                                                  |\n",
            "|Neutral        |Alibaba Nears Deal To Sell Entire Stake In Online Grocer BigBasket To Tata: Report                                                                                                                                                                  |[alibaba, nears, deal, to, sell, entire, stake, in, online, grocer, bigbasket, to, tata:, report]                                                                                                                                                                                           |\n",
            "|Neutral        |Hyundai Motor to launch dedicated EV platform in major push into electric cars                                                                                                                                                                      |[hyundai, motor, to, launch, dedicated, ev, platform, in, major, push, into, electric, cars]                                                                                                                                                                                                |\n",
            "|Positive       |Loral-Telesat Merger Creates Attractive Call Option On LEO Economics                                                                                                                                                                                |[loral-telesat, merger, creates, attractive, call, option, on, leo, economics]                                                                                                                                                                                                              |\n",
            "|Neutral        |Sally Beauty Holdings, Inc. Announces Participation at the Morgan Stanley Virtual Global Consumer and Retail Conference                                                                                                                             |[sally, beauty, holdings,, inc., announces, participation, at, the, morgan, stanley, virtual, global, consumer, and, retail, conference]                                                                                                                                                    |\n",
            "|Negative       |SoftBank winding down options trading after investor backlash: Bloomberg News                                                                                                                                                                       |[softbank, winding, down, options, trading, after, investor, backlash:, bloomberg, news]                                                                                                                                                                                                    |\n",
            "|Positive       |Buy Netgear After Stock's Brief Downtrend Ends                                                                                                                                                                                                      |[buy, netgear, after, stock's, brief, downtrend, ends]                                                                                                                                                                                                                                      |\n",
            "|Neutral        |Meten EdtechX announces management investment in its Likeshuo online business and expansion of option pool                                                                                                                                          |[meten, edtechx, announces, management, investment, in, its, likeshuo, online, business and, expansion, of, option, pool]                                                                                                                                                                   |\n",
            "|Neutral        |Fashion retailer Tailored Brands emerges from bankruptcy protection                                                                                                                                                                                 |[fashion, retailer, tailored, brands, emerges, from, bankruptcy, protection]                                                                                                                                                                                                                |\n",
            "|Neutral        |salesforce.com, inc. (CRM) CEO Marc Benioff on Q3 2021 Results - Earnings Call Transcript                                                                                                                                                           |[salesforce.com,, inc., (crm), ceo, marc, benioff, on, q3, 2021, results, -, earnings, call, transcript]                                                                                                                                                                                    |\n",
            "|Positive       |Altimmune: A COVID-19 Winner After All                                                                                                                                                                                                              |[altimmune:, a, covid-19, winner, after, all]                                                                                                                                                                                                                                               |\n",
            "|Negative       |Apple Sued For $200M In EU Over Allegations It Deliberately Slowed Down iPhones To Mask Battery Issues                                                                                                                                              |[apple, sued, for, $200m, in, eu, over, allegations, it, deliberately, slowed, down, iphones, to, mask, battery, issues]                                                                                                                                                                    |\n",
            "|Neutral        |Box, Inc. (BOX) CEO Aaron Levie on Q3 2021 Results - Earnings Call Transcript                                                                                                                                                                       |[box,, inc., (box), ceo, aaron, levie, on, q3, 2021, results, -, earnings, call, transcript]                                                                                                                                                                                                |\n",
            "|Neutral        |NetApp, Inc. (NTAP) CEO George Kurian on Q2 2021 Results - Earnings Call Transcript                                                                                                                                                                 |[netapp,, inc., (ntap), ceo, george, kurian, on, q2, 2021, results, -, earnings, call, transcript]                                                                                                                                                                                          |\n",
            "|Neutral        |Cogent Biosciences Announces Pricing of Upsized Public Offering of Shares of Common Stock                                                                                                                                                           |[cogent, biosciences, announces, pricing, of, upsized, public, offering, of, shares, of, common, stock]                                                                                                                                                                                     |\n",
            "|Neutral        |BeiGene Announces Pricing of Public Offering by Selling Shareholders                                                                                                                                                                                |[beigene, announces, pricing, of, public, offering, by, selling, shareholders]                                                                                                                                                                                                              |\n",
            "+---------------+----------------------------------------------------------------------------------------------------------------------------------------------------------------------------------------------------------------------------------------------------+--------------------------------------------------------------------------------------------------------------------------------------------------------------------------------------------------------------------------------------------------------------------------------------------+\n",
            "only showing top 20 rows\n",
            "\n"
          ]
        }
      ]
    },
    {
      "cell_type": "code",
      "metadata": {
        "colab": {
          "base_uri": "https://localhost:8080/"
        },
        "id": "q6YzwjMxZy_8",
        "outputId": "d8c196e1-52e8-4f80-f199-0590ca3d3e56"
      },
      "source": [
        "predictions_lr_df1.groupBy('predicted_label').count().show()"
      ],
      "id": "q6YzwjMxZy_8",
      "execution_count": 27,
      "outputs": [
        {
          "output_type": "stream",
          "name": "stdout",
          "text": [
            "+---------------+-----+\n",
            "|predicted_label|count|\n",
            "+---------------+-----+\n",
            "|        Neutral| 5932|\n",
            "|       Positive| 2823|\n",
            "|       Negative|  345|\n",
            "+---------------+-----+\n",
            "\n"
          ]
        }
      ]
    },
    {
      "cell_type": "code",
      "metadata": {
        "id": "g-7kZGy0a7R-"
      },
      "source": [
        "predictions_lr_df1.toPandas().to_csv('post-vax_predictions_count_vector_logistic_reg_model.csv')"
      ],
      "id": "g-7kZGy0a7R-",
      "execution_count": 28,
      "outputs": []
    },
    {
      "cell_type": "code",
      "metadata": {
        "id": "gJZewrHOEbCu"
      },
      "source": [
        "#Naive Bayes using MulticlassClassificationEval\n",
        "from pyspark.ml.classification import NaiveBayes\n",
        "from pyspark.ml.evaluation import BinaryClassificationEvaluator\n",
        "from pyspark.ml.tuning import CrossValidator, ParamGridBuilder\n",
        "from pyspark.ml.evaluation import MulticlassClassificationEvaluator\n",
        "nb = NaiveBayes()\n",
        "paramGrid_nb = ParamGridBuilder() \\\n",
        "    .addGrid(nb.smoothing, np.linspace(0.3, 10, 10)) \\\n",
        "    .build()\n",
        "crossval_nb = CrossValidator(estimator=nb,\n",
        "                          estimatorParamMaps=paramGrid_nb,\n",
        "                          evaluator=MulticlassClassificationEvaluator(),\n",
        "                          numFolds= 5) \n",
        "cvModel_nb = crossval_nb.fit(trainDF)"
      ],
      "id": "gJZewrHOEbCu",
      "execution_count": 29,
      "outputs": []
    },
    {
      "cell_type": "code",
      "metadata": {
        "colab": {
          "base_uri": "https://localhost:8080/"
        },
        "id": "plAaMl_tmFcl",
        "outputId": "b409fe69-61c9-493c-f4c8-17a9b03e29ff"
      },
      "source": [
        "#Make predictions:\n",
        "predictions_nb = cvModel_nb.transform(rescaledData)\n",
        "predictions_nb.select('text','prediction','words').show(truncate = False)"
      ],
      "id": "plAaMl_tmFcl",
      "execution_count": 30,
      "outputs": [
        {
          "output_type": "stream",
          "name": "stdout",
          "text": [
            "+----------------------------------------------------------------------------------------------------------------------------------------------------------------------------------------------------------------------------------------------------+----------+--------------------------------------------------------------------------------------------------------------------------------------------------------------------------------------------------------------------------------------------------------------------------------------------+\n",
            "|text                                                                                                                                                                                                                                                |prediction|words                                                                                                                                                                                                                                                                                       |\n",
            "+----------------------------------------------------------------------------------------------------------------------------------------------------------------------------------------------------------------------------------------------------+----------+--------------------------------------------------------------------------------------------------------------------------------------------------------------------------------------------------------------------------------------------------------------------------------------------+\n",
            "|ROSEN, TRUSTED AND LEADING INVESTOR COUNSEL, Reminds Royal Caribbean Cruises Ltd. Investors of Important December 7 Deadline in Securities Class Action; Encourages Investors with Losses in Excess of $100K to Contact Firm - RCL                  |0.0       |[rosen,, trusted, and, leading, investor, counsel,, reminds, royal, caribbean, cruises, ltd., investors, of, important, december, 7, deadline, in, securities, class, action;, encourages, investors, with, losses, in, excess, of, $100k, to, contact, firm, -, rcl]                       |\n",
            "|ROSEN, GLOBAL INVESTOR COUNSEL, Reminds JPMorgan Chase & Co. Investors of Important December 23 Deadline in First Filed Securities Class Action Commenced by the Firm; Encourages Investors with Losses in Excess of $100K to Contact the Firm - JPM|0.0       |[rosen,, global, investor, counsel,, reminds, jpmorgan, chase, &, co., investors, of, important, december, 23, deadline, in, first, filed, securities, class, action, commenced, by, the, firm;, encourages, investors, with, losses, in, excess, of, $100k, to, contact, the, firm, -, jpm]|\n",
            "|ROSEN, GLOBAL INVESTOR COUNSEL, Reminds Evolus, Inc. Investors of Important December 15 Deadline in Securities Class Action; Encourages Investors with Losses in Excess of $100K to Contact the Firm - EOLS                                         |0.0       |[rosen,, global, investor, counsel,, reminds, evolus,, inc., investors, of, important, december, 15, deadline, in, securities, class, action;, encourages, investors, with, losses, in, excess, of, $100k, to, contact, the, firm, -, eols]                                                 |\n",
            "|Hewlett Packard Enterprise Company's (HPE) CEO Antonio Neri on Q4 2020 Results - Earnings Call Transcript                                                                                                                                           |1.0       |[hewlett, packard, enterprise, company's, (hpe), ceo, antonio, neri, on, q4, 2020, results, -, earnings, call, transcript]                                                                                                                                                                  |\n",
            "|BlackBerry to Host Investor Fireside Chat to Discuss New Intelligent Vehicle Data Platform, BlackBerry IVY                                                                                                                                          |0.0       |[blackberry, to, host, investor, fireside, chat, to, discuss, new, intelligent, vehicle, data, platform,, blackberry, ivy]                                                                                                                                                                  |\n",
            "|Alibaba Nears Deal To Sell Entire Stake In Online Grocer BigBasket To Tata: Report                                                                                                                                                                  |1.0       |[alibaba, nears, deal, to, sell, entire, stake, in, online, grocer, bigbasket, to, tata:, report]                                                                                                                                                                                           |\n",
            "|Hyundai Motor to launch dedicated EV platform in major push into electric cars                                                                                                                                                                      |1.0       |[hyundai, motor, to, launch, dedicated, ev, platform, in, major, push, into, electric, cars]                                                                                                                                                                                                |\n",
            "|Loral-Telesat Merger Creates Attractive Call Option On LEO Economics                                                                                                                                                                                |0.0       |[loral-telesat, merger, creates, attractive, call, option, on, leo, economics]                                                                                                                                                                                                              |\n",
            "|Sally Beauty Holdings, Inc. Announces Participation at the Morgan Stanley Virtual Global Consumer and Retail Conference                                                                                                                             |0.0       |[sally, beauty, holdings,, inc., announces, participation, at, the, morgan, stanley, virtual, global, consumer, and, retail, conference]                                                                                                                                                    |\n",
            "|SoftBank winding down options trading after investor backlash: Bloomberg News                                                                                                                                                                       |1.0       |[softbank, winding, down, options, trading, after, investor, backlash:, bloomberg, news]                                                                                                                                                                                                    |\n",
            "|Buy Netgear After Stock's Brief Downtrend Ends                                                                                                                                                                                                      |1.0       |[buy, netgear, after, stock's, brief, downtrend, ends]                                                                                                                                                                                                                                      |\n",
            "|Meten EdtechX announces management investment in its Likeshuo online business and expansion of option pool                                                                                                                                          |0.0       |[meten, edtechx, announces, management, investment, in, its, likeshuo, online, business and, expansion, of, option, pool]                                                                                                                                                                   |\n",
            "|Fashion retailer Tailored Brands emerges from bankruptcy protection                                                                                                                                                                                 |0.0       |[fashion, retailer, tailored, brands, emerges, from, bankruptcy, protection]                                                                                                                                                                                                                |\n",
            "|salesforce.com, inc. (CRM) CEO Marc Benioff on Q3 2021 Results - Earnings Call Transcript                                                                                                                                                           |0.0       |[salesforce.com,, inc., (crm), ceo, marc, benioff, on, q3, 2021, results, -, earnings, call, transcript]                                                                                                                                                                                    |\n",
            "|Altimmune: A COVID-19 Winner After All                                                                                                                                                                                                              |1.0       |[altimmune:, a, covid-19, winner, after, all]                                                                                                                                                                                                                                               |\n",
            "|Apple Sued For $200M In EU Over Allegations It Deliberately Slowed Down iPhones To Mask Battery Issues                                                                                                                                              |2.0       |[apple, sued, for, $200m, in, eu, over, allegations, it, deliberately, slowed, down, iphones, to, mask, battery, issues]                                                                                                                                                                    |\n",
            "|Box, Inc. (BOX) CEO Aaron Levie on Q3 2021 Results - Earnings Call Transcript                                                                                                                                                                       |0.0       |[box,, inc., (box), ceo, aaron, levie, on, q3, 2021, results, -, earnings, call, transcript]                                                                                                                                                                                                |\n",
            "|NetApp, Inc. (NTAP) CEO George Kurian on Q2 2021 Results - Earnings Call Transcript                                                                                                                                                                 |0.0       |[netapp,, inc., (ntap), ceo, george, kurian, on, q2, 2021, results, -, earnings, call, transcript]                                                                                                                                                                                          |\n",
            "|Cogent Biosciences Announces Pricing of Upsized Public Offering of Shares of Common Stock                                                                                                                                                           |0.0       |[cogent, biosciences, announces, pricing, of, upsized, public, offering, of, shares, of, common, stock]                                                                                                                                                                                     |\n",
            "|BeiGene Announces Pricing of Public Offering by Selling Shareholders                                                                                                                                                                                |0.0       |[beigene, announces, pricing, of, public, offering, by, selling, shareholders]                                                                                                                                                                                                              |\n",
            "+----------------------------------------------------------------------------------------------------------------------------------------------------------------------------------------------------------------------------------------------------+----------+--------------------------------------------------------------------------------------------------------------------------------------------------------------------------------------------------------------------------------------------------------------------------------------------+\n",
            "only showing top 20 rows\n",
            "\n"
          ]
        }
      ]
    },
    {
      "cell_type": "code",
      "metadata": {
        "colab": {
          "base_uri": "https://localhost:8080/"
        },
        "id": "yz-CYcdaSMWc",
        "outputId": "3178d1cf-d403-4b1f-ee56-d896db3befd5"
      },
      "source": [
        "predictions_nb.show()"
      ],
      "id": "yz-CYcdaSMWc",
      "execution_count": 31,
      "outputs": [
        {
          "output_type": "stream",
          "name": "stdout",
          "text": [
            "+--------------------+--------------------+--------------------+--------------------+--------------------+--------------------+----------+\n",
            "|                text|               words|         rawFeatures|            features|       rawPrediction|         probability|prediction|\n",
            "+--------------------+--------------------+--------------------+--------------------+--------------------+--------------------+----------+\n",
            "|ROSEN, TRUSTED AN...|[rosen,, trusted,...|(11788,[0,2,3,4,1...|(11788,[0,2,3,4,1...|[-768.61721582493...|[1.0,1.1372679947...|       0.0|\n",
            "|ROSEN, GLOBAL INV...|[rosen,, global, ...|(11788,[0,1,2,3,1...|(11788,[0,1,2,3,1...|[-914.48948346681...|[1.0,1.2491907025...|       0.0|\n",
            "|ROSEN, GLOBAL INV...|[rosen,, global, ...|(11788,[0,1,2,3,1...|(11788,[0,1,2,3,1...|[-543.04913803859...|[1.0,2.9768056135...|       0.0|\n",
            "|Hewlett Packard E...|[hewlett, packard...|(11788,[7,19,26,3...|(11788,[7,19,26,3...|[-467.80566663947...|[0.00164573678828...|       1.0|\n",
            "|BlackBerry to Hos...|[blackberry, to, ...|(11788,[0,22,44,1...|(11788,[0,22,44,1...|[-595.00949977872...|[0.99999999999999...|       0.0|\n",
            "|Alibaba Nears Dea...|[alibaba, nears, ...|(11788,[0,3,179,1...|(11788,[0,3,179,1...|[-444.63176000041...|[2.94451117389976...|       1.0|\n",
            "|Hyundai Motor to ...|[hyundai, motor, ...|(11788,[0,3,132,1...|(11788,[0,3,132,1...|[-611.53487731884...|[3.35446052160126...|       1.0|\n",
            "|Loral-Telesat Mer...|[loral-telesat, m...|(11788,[7,70,404,...|(11788,[7,70,404,...|[-387.43549098210...|[0.51541349141896...|       0.0|\n",
            "|Sally Beauty Hold...|[sally, beauty, h...|(11788,[1,4,11,12...|(11788,[1,4,11,12...|[-582.64402774949...|[1.0,6.2959529258...|       0.0|\n",
            "|SoftBank winding ...|[softbank, windin...|(11788,[44,65,115...|(11788,[44,65,115...|[-356.08124236153...|[8.14018685405733...|       1.0|\n",
            "|Buy Netgear After...|[buy, netgear, af...|(11788,[23,65,181...|(11788,[23,65,181...|[-221.74015328132...|[6.83634659440493...|       1.0|\n",
            "|Meten EdtechX ann...|[meten, edtechx, ...|(11788,[2,3,11,31...|(11788,[2,3,11,31...|[-272.28155112825...|[0.99999999998055...|       0.0|\n",
            "|Fashion retailer ...|[fashion, retaile...|(11788,[45,391,12...|(11788,[45,391,12...|[-357.97773364735...|[0.99697527784556...|       0.0|\n",
            "|salesforce.com, i...|[salesforce.com,,...|(11788,[7,13,14,1...|(11788,[7,13,14,1...|[-131.29263699794...|[0.99999999999321...|       0.0|\n",
            "|Altimmune: A COVI...|[altimmune:, a, c...|(11788,[6,65,181,...|(11788,[6,65,181,...|[-200.89807910014...|[4.91454741389777...|       1.0|\n",
            "|Apple Sued For $2...|[apple, sued, for...|(11788,[0,3,5,36,...|(11788,[0,3,5,36,...|[-747.17882599291...|[2.40007259243312...|       2.0|\n",
            "|Box, Inc. (BOX) C...|[box,, inc., (box...|(11788,[7,13,14,1...|(11788,[7,13,14,1...|[-131.29263699794...|[0.99999999999321...|       0.0|\n",
            "|NetApp, Inc. (NTA...|[netapp,, inc., (...|(11788,[7,13,14,1...|(11788,[7,13,14,1...|[-184.46524531938...|[0.99999999999995...|       0.0|\n",
            "|Cogent Bioscience...|[cogent, bioscien...|(11788,[2,8,11,41...|(11788,[2,8,11,41...|[-286.44692429443...|[0.99999999999999...|       0.0|\n",
            "|BeiGene Announces...|[beigene, announc...|(11788,[2,11,75,9...|(11788,[2,11,75,9...|[-272.64273718468...|[1.0,5.7716752572...|       0.0|\n",
            "+--------------------+--------------------+--------------------+--------------------+--------------------+--------------------+----------+\n",
            "only showing top 20 rows\n",
            "\n"
          ]
        }
      ]
    },
    {
      "cell_type": "code",
      "metadata": {
        "colab": {
          "base_uri": "https://localhost:8080/"
        },
        "id": "CcrYLPB4TVV7",
        "outputId": "413117fe-01e3-4ef1-b86d-137499b1abe9"
      },
      "source": [
        "predictions_nb_df = predictions_nb.select('prediction', 'text','words')\n",
        "predictions_nb_df.show(5)"
      ],
      "id": "CcrYLPB4TVV7",
      "execution_count": 32,
      "outputs": [
        {
          "output_type": "stream",
          "name": "stdout",
          "text": [
            "+----------+--------------------+--------------------+\n",
            "|prediction|                text|               words|\n",
            "+----------+--------------------+--------------------+\n",
            "|       0.0|ROSEN, TRUSTED AN...|[rosen,, trusted,...|\n",
            "|       0.0|ROSEN, GLOBAL INV...|[rosen,, global, ...|\n",
            "|       0.0|ROSEN, GLOBAL INV...|[rosen,, global, ...|\n",
            "|       1.0|Hewlett Packard E...|[hewlett, packard...|\n",
            "|       0.0|BlackBerry to Hos...|[blackberry, to, ...|\n",
            "+----------+--------------------+--------------------+\n",
            "only showing top 5 rows\n",
            "\n"
          ]
        }
      ]
    },
    {
      "cell_type": "code",
      "metadata": {
        "colab": {
          "base_uri": "https://localhost:8080/"
        },
        "id": "x3LNZIg_Q18L",
        "outputId": "5969110d-afd2-408b-c585-cfcb9cb2c25d"
      },
      "source": [
        "predictions_nb_df.createOrReplaceTempView('temp')\n",
        "predictions_nb_df1 = spark.sql('select case prediction when \"1.0\" then \"Positive\"  when \"2.0\" then \"Negative\" else \"Neutral\" end as predicted_label, text, words from temp')\n",
        "predictions_nb_df1.show(20, truncate = False)"
      ],
      "id": "x3LNZIg_Q18L",
      "execution_count": 33,
      "outputs": [
        {
          "output_type": "stream",
          "name": "stdout",
          "text": [
            "+---------------+----------------------------------------------------------------------------------------------------------------------------------------------------------------------------------------------------------------------------------------------------+--------------------------------------------------------------------------------------------------------------------------------------------------------------------------------------------------------------------------------------------------------------------------------------------+\n",
            "|predicted_label|text                                                                                                                                                                                                                                                |words                                                                                                                                                                                                                                                                                       |\n",
            "+---------------+----------------------------------------------------------------------------------------------------------------------------------------------------------------------------------------------------------------------------------------------------+--------------------------------------------------------------------------------------------------------------------------------------------------------------------------------------------------------------------------------------------------------------------------------------------+\n",
            "|Neutral        |ROSEN, TRUSTED AND LEADING INVESTOR COUNSEL, Reminds Royal Caribbean Cruises Ltd. Investors of Important December 7 Deadline in Securities Class Action; Encourages Investors with Losses in Excess of $100K to Contact Firm - RCL                  |[rosen,, trusted, and, leading, investor, counsel,, reminds, royal, caribbean, cruises, ltd., investors, of, important, december, 7, deadline, in, securities, class, action;, encourages, investors, with, losses, in, excess, of, $100k, to, contact, firm, -, rcl]                       |\n",
            "|Neutral        |ROSEN, GLOBAL INVESTOR COUNSEL, Reminds JPMorgan Chase & Co. Investors of Important December 23 Deadline in First Filed Securities Class Action Commenced by the Firm; Encourages Investors with Losses in Excess of $100K to Contact the Firm - JPM|[rosen,, global, investor, counsel,, reminds, jpmorgan, chase, &, co., investors, of, important, december, 23, deadline, in, first, filed, securities, class, action, commenced, by, the, firm;, encourages, investors, with, losses, in, excess, of, $100k, to, contact, the, firm, -, jpm]|\n",
            "|Neutral        |ROSEN, GLOBAL INVESTOR COUNSEL, Reminds Evolus, Inc. Investors of Important December 15 Deadline in Securities Class Action; Encourages Investors with Losses in Excess of $100K to Contact the Firm - EOLS                                         |[rosen,, global, investor, counsel,, reminds, evolus,, inc., investors, of, important, december, 15, deadline, in, securities, class, action;, encourages, investors, with, losses, in, excess, of, $100k, to, contact, the, firm, -, eols]                                                 |\n",
            "|Positive       |Hewlett Packard Enterprise Company's (HPE) CEO Antonio Neri on Q4 2020 Results - Earnings Call Transcript                                                                                                                                           |[hewlett, packard, enterprise, company's, (hpe), ceo, antonio, neri, on, q4, 2020, results, -, earnings, call, transcript]                                                                                                                                                                  |\n",
            "|Neutral        |BlackBerry to Host Investor Fireside Chat to Discuss New Intelligent Vehicle Data Platform, BlackBerry IVY                                                                                                                                          |[blackberry, to, host, investor, fireside, chat, to, discuss, new, intelligent, vehicle, data, platform,, blackberry, ivy]                                                                                                                                                                  |\n",
            "|Positive       |Alibaba Nears Deal To Sell Entire Stake In Online Grocer BigBasket To Tata: Report                                                                                                                                                                  |[alibaba, nears, deal, to, sell, entire, stake, in, online, grocer, bigbasket, to, tata:, report]                                                                                                                                                                                           |\n",
            "|Positive       |Hyundai Motor to launch dedicated EV platform in major push into electric cars                                                                                                                                                                      |[hyundai, motor, to, launch, dedicated, ev, platform, in, major, push, into, electric, cars]                                                                                                                                                                                                |\n",
            "|Neutral        |Loral-Telesat Merger Creates Attractive Call Option On LEO Economics                                                                                                                                                                                |[loral-telesat, merger, creates, attractive, call, option, on, leo, economics]                                                                                                                                                                                                              |\n",
            "|Neutral        |Sally Beauty Holdings, Inc. Announces Participation at the Morgan Stanley Virtual Global Consumer and Retail Conference                                                                                                                             |[sally, beauty, holdings,, inc., announces, participation, at, the, morgan, stanley, virtual, global, consumer, and, retail, conference]                                                                                                                                                    |\n",
            "|Positive       |SoftBank winding down options trading after investor backlash: Bloomberg News                                                                                                                                                                       |[softbank, winding, down, options, trading, after, investor, backlash:, bloomberg, news]                                                                                                                                                                                                    |\n",
            "|Positive       |Buy Netgear After Stock's Brief Downtrend Ends                                                                                                                                                                                                      |[buy, netgear, after, stock's, brief, downtrend, ends]                                                                                                                                                                                                                                      |\n",
            "|Neutral        |Meten EdtechX announces management investment in its Likeshuo online business and expansion of option pool                                                                                                                                          |[meten, edtechx, announces, management, investment, in, its, likeshuo, online, business and, expansion, of, option, pool]                                                                                                                                                                   |\n",
            "|Neutral        |Fashion retailer Tailored Brands emerges from bankruptcy protection                                                                                                                                                                                 |[fashion, retailer, tailored, brands, emerges, from, bankruptcy, protection]                                                                                                                                                                                                                |\n",
            "|Neutral        |salesforce.com, inc. (CRM) CEO Marc Benioff on Q3 2021 Results - Earnings Call Transcript                                                                                                                                                           |[salesforce.com,, inc., (crm), ceo, marc, benioff, on, q3, 2021, results, -, earnings, call, transcript]                                                                                                                                                                                    |\n",
            "|Positive       |Altimmune: A COVID-19 Winner After All                                                                                                                                                                                                              |[altimmune:, a, covid-19, winner, after, all]                                                                                                                                                                                                                                               |\n",
            "|Negative       |Apple Sued For $200M In EU Over Allegations It Deliberately Slowed Down iPhones To Mask Battery Issues                                                                                                                                              |[apple, sued, for, $200m, in, eu, over, allegations, it, deliberately, slowed, down, iphones, to, mask, battery, issues]                                                                                                                                                                    |\n",
            "|Neutral        |Box, Inc. (BOX) CEO Aaron Levie on Q3 2021 Results - Earnings Call Transcript                                                                                                                                                                       |[box,, inc., (box), ceo, aaron, levie, on, q3, 2021, results, -, earnings, call, transcript]                                                                                                                                                                                                |\n",
            "|Neutral        |NetApp, Inc. (NTAP) CEO George Kurian on Q2 2021 Results - Earnings Call Transcript                                                                                                                                                                 |[netapp,, inc., (ntap), ceo, george, kurian, on, q2, 2021, results, -, earnings, call, transcript]                                                                                                                                                                                          |\n",
            "|Neutral        |Cogent Biosciences Announces Pricing of Upsized Public Offering of Shares of Common Stock                                                                                                                                                           |[cogent, biosciences, announces, pricing, of, upsized, public, offering, of, shares, of, common, stock]                                                                                                                                                                                     |\n",
            "|Neutral        |BeiGene Announces Pricing of Public Offering by Selling Shareholders                                                                                                                                                                                |[beigene, announces, pricing, of, public, offering, by, selling, shareholders]                                                                                                                                                                                                              |\n",
            "+---------------+----------------------------------------------------------------------------------------------------------------------------------------------------------------------------------------------------------------------------------------------------+--------------------------------------------------------------------------------------------------------------------------------------------------------------------------------------------------------------------------------------------------------------------------------------------+\n",
            "only showing top 20 rows\n",
            "\n"
          ]
        }
      ]
    },
    {
      "cell_type": "code",
      "metadata": {
        "id": "OeMfDuqTTVUv",
        "colab": {
          "base_uri": "https://localhost:8080/"
        },
        "outputId": "13ea3e46-d52a-442b-c14d-8ed21e10d4a0"
      },
      "source": [
        "predictions_nb_df1.groupBy('predicted_label').count().show()"
      ],
      "id": "OeMfDuqTTVUv",
      "execution_count": 34,
      "outputs": [
        {
          "output_type": "stream",
          "name": "stdout",
          "text": [
            "+---------------+-----+\n",
            "|predicted_label|count|\n",
            "+---------------+-----+\n",
            "|        Neutral| 5314|\n",
            "|       Positive| 3263|\n",
            "|       Negative|  523|\n",
            "+---------------+-----+\n",
            "\n"
          ]
        }
      ]
    },
    {
      "cell_type": "code",
      "metadata": {
        "id": "nkv7BDfeQ19Z"
      },
      "source": [
        "predictions_nb_df1.toPandas().to_csv('post-vax_predictions_count_vector_naive_bayes_model.csv')"
      ],
      "id": "nkv7BDfeQ19Z",
      "execution_count": 35,
      "outputs": []
    }
  ]
}