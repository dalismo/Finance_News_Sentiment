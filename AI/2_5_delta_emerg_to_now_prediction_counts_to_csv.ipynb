{
  "nbformat": 4,
  "nbformat_minor": 5,
  "metadata": {
    "kernelspec": {
      "display_name": "Python 3",
      "language": "python",
      "name": "python3"
    },
    "language_info": {
      "codemirror_mode": {
        "name": "ipython",
        "version": 3
      },
      "file_extension": ".py",
      "mimetype": "text/x-python",
      "name": "python",
      "nbconvert_exporter": "python",
      "pygments_lexer": "ipython3",
      "version": "3.8.8"
    },
    "colab": {
      "name": "2.5_delta-emerg-to-now_prediction_counts_to_csv.ipynb",
      "provenance": [],
      "collapsed_sections": [],
      "include_colab_link": true
    }
  },
  "cells": [
    {
      "cell_type": "markdown",
      "metadata": {
        "id": "view-in-github",
        "colab_type": "text"
      },
      "source": [
        "<a href=\"https://colab.research.google.com/github/dalismo/Finance_News_Sentiment/blob/ai%2Fall_covid_stage_api_pull_run_machine/2_5_delta_emerg_to_now_prediction_counts_to_csv.ipynb\" target=\"_parent\"><img src=\"https://colab.research.google.com/assets/colab-badge.svg\" alt=\"Open In Colab\"/></a>"
      ]
    },
    {
      "cell_type": "code",
      "metadata": {
        "colab": {
          "base_uri": "https://localhost:8080/"
        },
        "id": "b7676daf",
        "outputId": "edd55dad-efd3-4d89-b380-3c4003eebdde"
      },
      "source": [
        "import pandas as pd\n",
        "\n",
        "import os\n",
        "# Find the latest version of spark 3.0  from http://www.apache.org/dist/spark/ and enter as the spark version\n",
        "# For example:\n",
        "# spark_version = 'spark-3.0.3'\n",
        "spark_version = 'spark-3.0.3'\n",
        "os.environ['SPARK_VERSION']=spark_version\n",
        "\n",
        "# Install Spark and Java\n",
        "!apt-get update\n",
        "!apt-get install openjdk-11-jdk-headless -qq > /dev/null\n",
        "!wget -q http://www.apache.org/dist/spark/$SPARK_VERSION/$SPARK_VERSION-bin-hadoop2.7.tgz\n",
        "!tar xf $SPARK_VERSION-bin-hadoop2.7.tgz\n",
        "!pip install -q findspark\n",
        "\n",
        "# Set Environment Variables\n",
        "os.environ[\"JAVA_HOME\"] = \"/usr/lib/jvm/java-11-openjdk-amd64\"\n",
        "os.environ[\"SPARK_HOME\"] = f\"/content/{spark_version}-bin-hadoop2.7\"\n",
        "\n",
        "# Start a SparkSession\n",
        "import findspark\n",
        "findspark.init()"
      ],
      "id": "b7676daf",
      "execution_count": 1,
      "outputs": [
        {
          "output_type": "stream",
          "name": "stdout",
          "text": [
            "Get:1 http://security.ubuntu.com/ubuntu bionic-security InRelease [88.7 kB]\n",
            "Get:2 https://cloud.r-project.org/bin/linux/ubuntu bionic-cran40/ InRelease [3,626 B]\n",
            "Ign:3 https://developer.download.nvidia.com/compute/cuda/repos/ubuntu1804/x86_64  InRelease\n",
            "Get:4 http://ppa.launchpad.net/c2d4u.team/c2d4u4.0+/ubuntu bionic InRelease [15.9 kB]\n",
            "Hit:5 http://archive.ubuntu.com/ubuntu bionic InRelease\n",
            "Ign:6 https://developer.download.nvidia.com/compute/machine-learning/repos/ubuntu1804/x86_64  InRelease\n",
            "Get:7 https://developer.download.nvidia.com/compute/cuda/repos/ubuntu1804/x86_64  Release [696 B]\n",
            "Hit:8 https://developer.download.nvidia.com/compute/machine-learning/repos/ubuntu1804/x86_64  Release\n",
            "Get:9 http://archive.ubuntu.com/ubuntu bionic-updates InRelease [88.7 kB]\n",
            "Get:10 https://developer.download.nvidia.com/compute/cuda/repos/ubuntu1804/x86_64  Release.gpg [836 B]\n",
            "Hit:11 http://ppa.launchpad.net/cran/libgit2/ubuntu bionic InRelease\n",
            "Get:12 http://archive.ubuntu.com/ubuntu bionic-backports InRelease [74.6 kB]\n",
            "Get:13 http://ppa.launchpad.net/deadsnakes/ppa/ubuntu bionic InRelease [15.9 kB]\n",
            "Get:14 http://security.ubuntu.com/ubuntu bionic-security/main amd64 Packages [2,324 kB]\n",
            "Hit:15 http://ppa.launchpad.net/graphics-drivers/ppa/ubuntu bionic InRelease\n",
            "Get:16 http://security.ubuntu.com/ubuntu bionic-security/restricted amd64 Packages [567 kB]\n",
            "Get:17 http://security.ubuntu.com/ubuntu bionic-security/universe amd64 Packages [1,428 kB]\n",
            "Get:19 http://ppa.launchpad.net/c2d4u.team/c2d4u4.0+/ubuntu bionic/main Sources [1,799 kB]\n",
            "Get:20 https://developer.download.nvidia.com/compute/cuda/repos/ubuntu1804/x86_64  Packages [717 kB]\n",
            "Get:21 http://ppa.launchpad.net/c2d4u.team/c2d4u4.0+/ubuntu bionic/main amd64 Packages [921 kB]\n",
            "Get:22 http://archive.ubuntu.com/ubuntu bionic-updates/restricted amd64 Packages [600 kB]\n",
            "Get:23 http://archive.ubuntu.com/ubuntu bionic-updates/main amd64 Packages [2,760 kB]\n",
            "Get:24 http://ppa.launchpad.net/deadsnakes/ppa/ubuntu bionic/main amd64 Packages [40.8 kB]\n",
            "Get:25 http://archive.ubuntu.com/ubuntu bionic-updates/universe amd64 Packages [2,202 kB]\n",
            "Fetched 13.6 MB in 8s (1,666 kB/s)\n",
            "Reading package lists... Done\n"
          ]
        }
      ]
    },
    {
      "cell_type": "code",
      "metadata": {
        "id": "CvoLwz9S0gwE"
      },
      "source": [
        "# Start Spark session\n",
        "from pyspark.sql import SparkSession\n",
        "# spark = SparkSession.builder.appName(\"StopWords\").getOrCreate()\n",
        "spark = SparkSession.builder.appName(\"Fin-sent-count-vector\").getOrCreate()"
      ],
      "id": "CvoLwz9S0gwE",
      "execution_count": 2,
      "outputs": []
    },
    {
      "cell_type": "code",
      "metadata": {
        "id": "69qSAC1R1EgS"
      },
      "source": [
        "from pyspark.ml.feature import Tokenizer, StopWordsRemover"
      ],
      "id": "69qSAC1R1EgS",
      "execution_count": 3,
      "outputs": []
    },
    {
      "cell_type": "code",
      "metadata": {
        "colab": {
          "base_uri": "https://localhost:8080/"
        },
        "id": "mODaD0re3ulm",
        "outputId": "3ec3f210-6d99-4313-e945-75fe4b3b3be9"
      },
      "source": [
        "# Read in data from S3 Buckets\n",
        "from pyspark import SparkFiles\n",
        "\n",
        "url = 'https://raw.githubusercontent.com/dalismo/Finance_News_Sentiment/main/Resources/sentiment-train.csv'\n",
        "# df = pd.read_csv(url,encoding='latin-1', header=None)\n",
        "# url =\"https://s3.amazonaws.com/dataviz-curriculum/day_2/yelp_reviews.csv\"\n",
        "spark.sparkContext.addFile(url)\n",
        "df = spark.read.csv(SparkFiles.get(\"sentiment-train.csv\"), sep=\",\", header=None)\n",
        "\n",
        "\n",
        "\n",
        "# Show DataFrame\n",
        "df.show(5, truncate=False)\n"
      ],
      "id": "mODaD0re3ulm",
      "execution_count": 4,
      "outputs": [
        {
          "output_type": "stream",
          "name": "stdout",
          "text": [
            "+--------+-----------------------------------------------------------------------------------------------------+\n",
            "|_c0     |_c1                                                                                                  |\n",
            "+--------+-----------------------------------------------------------------------------------------------------+\n",
            "|Positive|Autodesk Is Down 15% After Q2 Earnings -- Is This a Buying Opportunity?                              |\n",
            "|Positive|Blue Shield of California, Walgreens Partner on Personalized Healthcare Solution                     |\n",
            "|Positive|RSX: Russian Equities Are Still Undervalued                                                          |\n",
            "|Positive|XLB: Hold Your Position                                                                              |\n",
            "|Positive|Musgrave Minerals broad, near-surface high-grade results open up further Cue gold discovery potential|\n",
            "+--------+-----------------------------------------------------------------------------------------------------+\n",
            "only showing top 5 rows\n",
            "\n"
          ]
        }
      ]
    },
    {
      "cell_type": "code",
      "metadata": {
        "colab": {
          "base_uri": "https://localhost:8080/"
        },
        "id": "4BbzYExyNYCR",
        "outputId": "eb8affa6-8092-4739-b4b2-0fa88c10d8d8"
      },
      "source": [
        "from pyspark.sql.functions import length\n",
        "# Create a length column to be used as a future feature \n",
        "data_df = df.withColumn('length', length(df['_c1']))\n",
        "data_df.show()"
      ],
      "id": "4BbzYExyNYCR",
      "execution_count": 5,
      "outputs": [
        {
          "output_type": "stream",
          "name": "stdout",
          "text": [
            "+--------+--------------------+------+\n",
            "|     _c0|                 _c1|length|\n",
            "+--------+--------------------+------+\n",
            "|Positive|Autodesk Is Down ...|    71|\n",
            "|Positive|Blue Shield of Ca...|    80|\n",
            "|Positive|RSX: Russian Equi...|    43|\n",
            "|Positive|XLB: Hold Your Po...|    23|\n",
            "|Positive|Musgrave Minerals...|   101|\n",
            "|Positive|ViacomCBS to rest...|    49|\n",
            "|Positive|Oil climbs to one...|    51|\n",
            "|Negative|Australian regula...|    67|\n",
            "|Positive|The Wall Street J...|    90|\n",
            "|Positive|Ora Banda Mining ...|    50|\n",
            "|Positive|Google Pay Plans ...|    43|\n",
            "|Negative|Toyota, Honda Ang...|    69|\n",
            "| Neutral|ZY Investor Alert...|    44|\n",
            "| Neutral|Calima Energy spu...|    58|\n",
            "|Positive|These Marijuana S...|    56|\n",
            "|Positive|Moderna ETFs to R...|    61|\n",
            "| Neutral|MacroGenics Annou...|    72|\n",
            "| Neutral|Zymeworks Announc...|   173|\n",
            "| Neutral|BioXcel Therapeut...|   130|\n",
            "| Neutral|Merck to Present ...|    80|\n",
            "+--------+--------------------+------+\n",
            "only showing top 20 rows\n",
            "\n"
          ]
        }
      ]
    },
    {
      "cell_type": "code",
      "metadata": {
        "colab": {
          "base_uri": "https://localhost:8080/"
        },
        "id": "HiCnjIddrflT",
        "outputId": "ca280dbe-622c-4929-f22a-d4a731d0e3a3"
      },
      "source": [
        "df2 = data_df.withColumnRenamed(\"_c0\", \"class\").withColumnRenamed(\"_c1\", \"text\")\n",
        "df2.printSchema()\n",
        "df2.show(20, truncate = False)\n"
      ],
      "id": "HiCnjIddrflT",
      "execution_count": 6,
      "outputs": [
        {
          "output_type": "stream",
          "name": "stdout",
          "text": [
            "root\n",
            " |-- class: string (nullable = true)\n",
            " |-- text: string (nullable = true)\n",
            " |-- length: integer (nullable = true)\n",
            "\n",
            "+--------+-----------------------------------------------------------------------------------------------------------------------------------------------------------------------------+------+\n",
            "|class   |text                                                                                                                                                                         |length|\n",
            "+--------+-----------------------------------------------------------------------------------------------------------------------------------------------------------------------------+------+\n",
            "|Positive|Autodesk Is Down 15% After Q2 Earnings -- Is This a Buying Opportunity?                                                                                                      |71    |\n",
            "|Positive|Blue Shield of California, Walgreens Partner on Personalized Healthcare Solution                                                                                             |80    |\n",
            "|Positive|RSX: Russian Equities Are Still Undervalued                                                                                                                                  |43    |\n",
            "|Positive|XLB: Hold Your Position                                                                                                                                                      |23    |\n",
            "|Positive|Musgrave Minerals broad, near-surface high-grade results open up further Cue gold discovery potential                                                                        |101   |\n",
            "|Positive|ViacomCBS to restructure Paramount Pictures - WSJ                                                                                                                            |49    |\n",
            "|Positive|Oil climbs to one-week high on U.S. supply concerns                                                                                                                          |51    |\n",
            "|Negative|Australian regulator denies approval for Qantas-Japan Airlines deal                                                                                                          |67    |\n",
            "|Positive|The Wall Street Journal: ViacomCBS revamping Paramount operations, refocusing on streaming                                                                                   |90    |\n",
            "|Positive|Ora Banda Mining to receive $11 million for Mt Ida                                                                                                                           |50    |\n",
            "|Positive|Google Pay Plans Israel Debut by Year's End                                                                                                                                  |43    |\n",
            "|Negative|Toyota, Honda Angry After Getting Shut Out of Electric Car Tax Credit                                                                                                        |69    |\n",
            "|Neutral |ZY Investor Alert: Shareholder Lawsuit Filed                                                                                                                                 |44    |\n",
            "|Neutral |Calima Energy spuds Leo #3 with fracturing just weeks away                                                                                                                   |58    |\n",
            "|Positive|These Marijuana Stocks May Soon Start To Recover In 2021                                                                                                                     |56    |\n",
            "|Positive|Moderna ETFs to Rally on Two-in-One Vaccine Booster Shot News                                                                                                                |61    |\n",
            "|Neutral |MacroGenics Announces Presentations at ESMO 2021 Virtual Annual Congress                                                                                                     |72    |\n",
            "|Neutral |Zymeworks Announces Abstract for Zanidatamab in First-line HER2-Expressing Gastroesophageal Cancers (GEA) at the European Society for Medical Oncology (ESMO) Annual Congress|173   |\n",
            "|Neutral |BioXcel Therapeutics to Present Updates from Ongoing Trial of BXCL701 in Aggressive Forms of Prostate Cancer at 2021 ESMO Congress                                           |130   |\n",
            "|Neutral |Merck to Present Latest Highlights From Oncology Portfolio at WCLC and ESMO 2021                                                                                             |80    |\n",
            "+--------+-----------------------------------------------------------------------------------------------------------------------------------------------------------------------------+------+\n",
            "only showing top 20 rows\n",
            "\n"
          ]
        }
      ]
    },
    {
      "cell_type": "code",
      "metadata": {
        "colab": {
          "base_uri": "https://localhost:8080/"
        },
        "id": "8tMPNronWpK1",
        "outputId": "147f92d3-19d7-45d0-fc10-79c400b0196b"
      },
      "source": [
        "df2.createOrReplaceTempView('temp')\n",
        "df3 = spark.sql('select case class when \"Positive\" then 1.0  when \"Negative\" then 2.0 else 0 end as label, text from temp')\n",
        "df3.show(20, truncate = False)"
      ],
      "id": "8tMPNronWpK1",
      "execution_count": 7,
      "outputs": [
        {
          "output_type": "stream",
          "name": "stdout",
          "text": [
            "+-----+-----------------------------------------------------------------------------------------------------------------------------------------------------------------------------+\n",
            "|label|text                                                                                                                                                                         |\n",
            "+-----+-----------------------------------------------------------------------------------------------------------------------------------------------------------------------------+\n",
            "|1.0  |Autodesk Is Down 15% After Q2 Earnings -- Is This a Buying Opportunity?                                                                                                      |\n",
            "|1.0  |Blue Shield of California, Walgreens Partner on Personalized Healthcare Solution                                                                                             |\n",
            "|1.0  |RSX: Russian Equities Are Still Undervalued                                                                                                                                  |\n",
            "|1.0  |XLB: Hold Your Position                                                                                                                                                      |\n",
            "|1.0  |Musgrave Minerals broad, near-surface high-grade results open up further Cue gold discovery potential                                                                        |\n",
            "|1.0  |ViacomCBS to restructure Paramount Pictures - WSJ                                                                                                                            |\n",
            "|1.0  |Oil climbs to one-week high on U.S. supply concerns                                                                                                                          |\n",
            "|2.0  |Australian regulator denies approval for Qantas-Japan Airlines deal                                                                                                          |\n",
            "|1.0  |The Wall Street Journal: ViacomCBS revamping Paramount operations, refocusing on streaming                                                                                   |\n",
            "|1.0  |Ora Banda Mining to receive $11 million for Mt Ida                                                                                                                           |\n",
            "|1.0  |Google Pay Plans Israel Debut by Year's End                                                                                                                                  |\n",
            "|2.0  |Toyota, Honda Angry After Getting Shut Out of Electric Car Tax Credit                                                                                                        |\n",
            "|0.0  |ZY Investor Alert: Shareholder Lawsuit Filed                                                                                                                                 |\n",
            "|0.0  |Calima Energy spuds Leo #3 with fracturing just weeks away                                                                                                                   |\n",
            "|1.0  |These Marijuana Stocks May Soon Start To Recover In 2021                                                                                                                     |\n",
            "|1.0  |Moderna ETFs to Rally on Two-in-One Vaccine Booster Shot News                                                                                                                |\n",
            "|0.0  |MacroGenics Announces Presentations at ESMO 2021 Virtual Annual Congress                                                                                                     |\n",
            "|0.0  |Zymeworks Announces Abstract for Zanidatamab in First-line HER2-Expressing Gastroesophageal Cancers (GEA) at the European Society for Medical Oncology (ESMO) Annual Congress|\n",
            "|0.0  |BioXcel Therapeutics to Present Updates from Ongoing Trial of BXCL701 in Aggressive Forms of Prostate Cancer at 2021 ESMO Congress                                           |\n",
            "|0.0  |Merck to Present Latest Highlights From Oncology Portfolio at WCLC and ESMO 2021                                                                                             |\n",
            "+-----+-----------------------------------------------------------------------------------------------------------------------------------------------------------------------------+\n",
            "only showing top 20 rows\n",
            "\n"
          ]
        }
      ]
    },
    {
      "cell_type": "code",
      "metadata": {
        "colab": {
          "base_uri": "https://localhost:8080/"
        },
        "id": "j89il24uZ-s_",
        "outputId": "ecf758d2-88bc-48da-8fed-dcfb579b59d6"
      },
      "source": [
        "from pyspark.ml.feature import  Tokenizer\n",
        "tokenizer = Tokenizer(inputCol=\"text\", outputCol=\"words\")\n",
        "wordsData = tokenizer.transform(df3)\n",
        "wordsData.show()"
      ],
      "id": "j89il24uZ-s_",
      "execution_count": 8,
      "outputs": [
        {
          "output_type": "stream",
          "name": "stdout",
          "text": [
            "+-----+--------------------+--------------------+\n",
            "|label|                text|               words|\n",
            "+-----+--------------------+--------------------+\n",
            "|  1.0|Autodesk Is Down ...|[autodesk, is, do...|\n",
            "|  1.0|Blue Shield of Ca...|[blue, shield, of...|\n",
            "|  1.0|RSX: Russian Equi...|[rsx:, russian, e...|\n",
            "|  1.0|XLB: Hold Your Po...|[xlb:, hold, your...|\n",
            "|  1.0|Musgrave Minerals...|[musgrave, minera...|\n",
            "|  1.0|ViacomCBS to rest...|[viacomcbs, to, r...|\n",
            "|  1.0|Oil climbs to one...|[oil, climbs, to,...|\n",
            "|  2.0|Australian regula...|[australian, regu...|\n",
            "|  1.0|The Wall Street J...|[the, wall, stree...|\n",
            "|  1.0|Ora Banda Mining ...|[ora, banda, mini...|\n",
            "|  1.0|Google Pay Plans ...|[google, pay, pla...|\n",
            "|  2.0|Toyota, Honda Ang...|[toyota,, honda, ...|\n",
            "|  0.0|ZY Investor Alert...|[zy, investor, al...|\n",
            "|  0.0|Calima Energy spu...|[calima, energy, ...|\n",
            "|  1.0|These Marijuana S...|[these, marijuana...|\n",
            "|  1.0|Moderna ETFs to R...|[moderna, etfs, t...|\n",
            "|  0.0|MacroGenics Annou...|[macrogenics, ann...|\n",
            "|  0.0|Zymeworks Announc...|[zymeworks, annou...|\n",
            "|  0.0|BioXcel Therapeut...|[bioxcel, therape...|\n",
            "|  0.0|Merck to Present ...|[merck, to, prese...|\n",
            "+-----+--------------------+--------------------+\n",
            "only showing top 20 rows\n",
            "\n"
          ]
        }
      ]
    },
    {
      "cell_type": "code",
      "metadata": {
        "colab": {
          "base_uri": "https://localhost:8080/"
        },
        "id": "ZlhgmA2GaNHX",
        "outputId": "304998a8-cc09-4b4c-b92c-92cadd22fd7a"
      },
      "source": [
        "from pyspark.ml.feature import CountVectorizer\n",
        "count = CountVectorizer (inputCol=\"words\", outputCol=\"rawFeatures\")\n",
        "model = count.fit(wordsData)\n",
        "featurizedData = model.transform(wordsData)\n",
        "featurizedData.show()"
      ],
      "id": "ZlhgmA2GaNHX",
      "execution_count": 9,
      "outputs": [
        {
          "output_type": "stream",
          "name": "stdout",
          "text": [
            "+-----+--------------------+--------------------+--------------------+\n",
            "|label|                text|               words|         rawFeatures|\n",
            "+-----+--------------------+--------------------+--------------------+\n",
            "|  1.0|Autodesk Is Down ...|[autodesk, is, do...|(11788,[6,9,19,37...|\n",
            "|  1.0|Blue Shield of Ca...|[blue, shield, of...|(11788,[2,7,177,5...|\n",
            "|  1.0|RSX: Russian Equi...|[rsx:, russian, e...|(11788,[48,262,63...|\n",
            "|  1.0|XLB: Hold Your Po...|[xlb:, hold, your...|(11788,[158,335,1...|\n",
            "|  1.0|Musgrave Minerals...|[musgrave, minera...|(11788,[26,49,89,...|\n",
            "|  1.0|ViacomCBS to rest...|[viacomcbs, to, r...|(11788,[0,34,1891...|\n",
            "|  1.0|Oil climbs to one...|[oil, climbs, to,...|(11788,[0,7,100,1...|\n",
            "|  2.0|Australian regula...|[australian, regu...|(11788,[5,175,179...|\n",
            "|  1.0|The Wall Street J...|[the, wall, stree...|(11788,[1,7,292,4...|\n",
            "|  1.0|Ora Banda Mining ...|[ora, banda, mini...|(11788,[0,5,72,32...|\n",
            "|  1.0|Google Pay Plans ...|[google, pay, pla...|(11788,[75,217,26...|\n",
            "|  2.0|Toyota, Honda Ang...|[toyota,, honda, ...|(11788,[2,65,230,...|\n",
            "|  0.0|ZY Investor Alert...|[zy, investor, al...|(11788,[43,44,63,...|\n",
            "|  0.0|Calima Energy spu...|[calima, energy, ...|(11788,[10,83,338...|\n",
            "|  1.0|These Marijuana S...|[these, marijuana...|(11788,[0,3,13,18...|\n",
            "|  1.0|Moderna ETFs to R...|[moderna, etfs, t...|(11788,[0,7,172,2...|\n",
            "|  0.0|MacroGenics Annou...|[macrogenics, ann...|(11788,[11,12,13,...|\n",
            "|  0.0|Zymeworks Announc...|[zymeworks, annou...|(11788,[1,3,5,11,...|\n",
            "|  0.0|BioXcel Therapeut...|[bioxcel, therape...|(11788,[0,2,3,12,...|\n",
            "|  0.0|Merck to Present ...|[merck, to, prese...|(11788,[0,4,12,13...|\n",
            "+-----+--------------------+--------------------+--------------------+\n",
            "only showing top 20 rows\n",
            "\n"
          ]
        }
      ]
    },
    {
      "cell_type": "code",
      "metadata": {
        "colab": {
          "base_uri": "https://localhost:8080/"
        },
        "id": "pj4m9hLsaV_G",
        "outputId": "651097dd-67af-4839-eac4-d5a360653825"
      },
      "source": [
        "from pyspark.ml.feature import  IDF\n",
        "#IDF down-weighs features which appear frequently in a corpus. This generally improves performance when using text as features since most frequent, and hence less important words, get down-weighed.\n",
        "idf = IDF(inputCol=\"rawFeatures\", outputCol=\"features\")\n",
        "idfModel = idf.fit(featurizedData)\n",
        "rescaledData = idfModel.transform(featurizedData)\n",
        "rescaledData.select(\"label\", \"features\").show()  \n",
        "# We want only the label and features columns for our machine learning models"
      ],
      "id": "pj4m9hLsaV_G",
      "execution_count": 10,
      "outputs": [
        {
          "output_type": "stream",
          "name": "stdout",
          "text": [
            "+-----+--------------------+\n",
            "|label|            features|\n",
            "+-----+--------------------+\n",
            "|  1.0|(11788,[6,9,19,37...|\n",
            "|  1.0|(11788,[2,7,177,5...|\n",
            "|  1.0|(11788,[48,262,63...|\n",
            "|  1.0|(11788,[158,335,1...|\n",
            "|  1.0|(11788,[26,49,89,...|\n",
            "|  1.0|(11788,[0,34,1891...|\n",
            "|  1.0|(11788,[0,7,100,1...|\n",
            "|  2.0|(11788,[5,175,179...|\n",
            "|  1.0|(11788,[1,7,292,4...|\n",
            "|  1.0|(11788,[0,5,72,32...|\n",
            "|  1.0|(11788,[75,217,26...|\n",
            "|  2.0|(11788,[2,65,230,...|\n",
            "|  0.0|(11788,[43,44,63,...|\n",
            "|  0.0|(11788,[10,83,338...|\n",
            "|  1.0|(11788,[0,3,13,18...|\n",
            "|  1.0|(11788,[0,7,172,2...|\n",
            "|  0.0|(11788,[11,12,13,...|\n",
            "|  0.0|(11788,[1,3,5,11,...|\n",
            "|  0.0|(11788,[0,2,3,12,...|\n",
            "|  0.0|(11788,[0,4,12,13...|\n",
            "+-----+--------------------+\n",
            "only showing top 20 rows\n",
            "\n"
          ]
        }
      ]
    },
    {
      "cell_type": "code",
      "metadata": {
        "id": "gvprtx9Vaed2"
      },
      "source": [
        "seed = 0  # set seed for reproducibility\n",
        "trainDF, testDF = rescaledData.randomSplit([0.8,0.2],seed)"
      ],
      "id": "gvprtx9Vaed2",
      "execution_count": 11,
      "outputs": []
    },
    {
      "cell_type": "code",
      "metadata": {
        "colab": {
          "base_uri": "https://localhost:8080/"
        },
        "id": "jx1mwMzJagt5",
        "outputId": "225c87c5-07d2-43f3-939f-e1635a85ef5c"
      },
      "source": [
        "trainDF.count()"
      ],
      "id": "jx1mwMzJagt5",
      "execution_count": 12,
      "outputs": [
        {
          "output_type": "execute_result",
          "data": {
            "text/plain": [
              "3965"
            ]
          },
          "metadata": {},
          "execution_count": 12
        }
      ]
    },
    {
      "cell_type": "code",
      "metadata": {
        "colab": {
          "base_uri": "https://localhost:8080/"
        },
        "id": "uPmhzGFBqCNC",
        "outputId": "527e67e5-c29b-40ba-eb44-8e2a2e8e56b2"
      },
      "source": [
        "trainDF.show(truncate=False)"
      ],
      "id": "uPmhzGFBqCNC",
      "execution_count": 13,
      "outputs": [
        {
          "output_type": "stream",
          "name": "stdout",
          "text": [
            "+-----+--------------------------------------------------------------------------------------------------------------------------------------------------------------------------------+------------------------------------------------------------------------------------------------------------------------------------------------------------------------------------------------------------------+---------------------------------------------------------------------------------------------------------------------------------------------------------------------------------------------------------------------------------------------------------------------------+-----------------------------------------------------------------------------------------------------------------------------------------------------------------------------------------------------------------------------------------------------------------------------------------------------------------------------------------------------------------------------------------------------------------------------------------------------------------------------------------------------------------------------------------------------------------------------------------------------------------------------------------------------------------------------------------------------------------------------------+\n",
            "|label|text                                                                                                                                                                            |words                                                                                                                                                                                                             |rawFeatures                                                                                                                                                                                                                                                                |features                                                                                                                                                                                                                                                                                                                                                                                                                                                                                                                                                                                                                                                                                                                           |\n",
            "+-----+--------------------------------------------------------------------------------------------------------------------------------------------------------------------------------+------------------------------------------------------------------------------------------------------------------------------------------------------------------------------------------------------------------+---------------------------------------------------------------------------------------------------------------------------------------------------------------------------------------------------------------------------------------------------------------------------+-----------------------------------------------------------------------------------------------------------------------------------------------------------------------------------------------------------------------------------------------------------------------------------------------------------------------------------------------------------------------------------------------------------------------------------------------------------------------------------------------------------------------------------------------------------------------------------------------------------------------------------------------------------------------------------------------------------------------------------+\n",
            "|0.0  |\"ASSA ABLOY to acquire Hardware and Home Improvement (\"\"HHI\"\") division of Spectrum Brands\"                                                                                     |[\"assa, abloy, to, acquire, hardware, and, home, improvement, (\"\"hhi\"\"), division, of, spectrum, brands\"]                                                                                                         |(11788,[0,2,4,313,371,418,902,1337,1545,4656,5479,5495,7907],[1.0,1.0,1.0,1.0,1.0,1.0,1.0,1.0,1.0,1.0,1.0,1.0,1.0])                                                                                                                                                        |(11788,[0,2,4,313,371,418,902,1337,1545,4656,5479,5495,7907],[1.2271002889723068,1.755820402614848,1.939531813697857,5.298517346550703,5.472870733695481,5.572954192252463,6.214808078424858,6.571483022363591,6.725633702190849,7.418780882750794,7.824245990858959,7.824245990858959,7.824245990858959])                                                                                                                                                                                                                                                                                                                                                                                                                         |\n",
            "|0.0  |\"BofA Unveils \"\"VAM 2.0\"\"                                                                                                                                                       |[\"bofa, unveils, \"\"vam, 2.0\"\"]                                                                                                                                                                                    |(11788,[399,7222,9292,10963],[1.0,1.0,1.0,1.0])                                                                                                                                                                                                                            |(11788,[399,7222,9292,10963],[5.521660897864913,7.824245990858959,7.824245990858959,7.824245990858959])                                                                                                                                                                                                                                                                                                                                                                                                                                                                                                                                                                                                                            |\n",
            "|0.0  |\"CP Offer for KCS Declared \"\"Company Superior Proposal\"\" by KCS Board\"                                                                                                          |[\"cp, offer, for, kcs, declared, \"\"company, superior, proposal\"\", by, kcs, board\"]                                                                                                                                |(11788,[5,75,344,1400,2928,2994,5426,9691,10783,11221],[1.0,1.0,1.0,1.0,2.0,1.0,1.0,1.0,1.0,1.0])                                                                                                                                                                          |(11788,[5,75,344,1400,2928,2994,5426,9691,10783,11221],[2.002680480546374,4.017583501088638,5.381898955489754,6.725633702190849,14.837561765501588,7.418780882750794,7.824245990858959,7.824245990858959,7.824245990858959,7.824245990858959])                                                                                                                                                                                                                                                                                                                                                                                                                                                                                     |\n",
            "|0.0  |\"Cumulus Podcast Network's Just Getting Started With Rich Eisen To Feature Special Fall 2021 Series \"\"Voices Of Football\"\"\"                                                     |[\"cumulus, podcast, network's, just, getting, started, with, rich, eisen, to, feature, special, fall, 2021, series, \"\"voices, of, football\"\"\"]                                                                    |(11788,[0,2,10,13,338,364,710,821,891,1064,2134,2452,2465,5005,5760,5919,6472,10385],[1.0,1.0,1.0,1.0,1.0,1.0,1.0,1.0,1.0,1.0,1.0,1.0,1.0,1.0,1.0,1.0,1.0,1.0])                                                                                                            |(11788,[0,2,10,13,338,364,710,821,891,1064,2134,2452,2465,5005,5760,5919,6472,10385],[1.2271002889723068,1.755820402614848,2.423823401373768,2.5209410827998826,5.381898955489754,5.426350718060588,6.1194978986205335,6.1194978986205335,6.214808078424858,6.437951629739068,6.907955258984804,7.131098810299013,7.131098810299013,7.824245990858959,7.824245990858959,7.824245990858959,7.824245990858959,7.824245990858959])                                                                                                                                                                                                                                                                                                    |\n",
            "|0.0  |\"Epic Games asks Apple to allow \"\"Fortnite\"\" to return in South Korea\"                                                                                                          |[\"epic, games, asks, apple, to, allow, \"\"fortnite\"\", to, return, in, south, korea\"]                                                                                                                               |(11788,[0,3,86,278,397,978,1165,1388,4254,9735,10156],[2.0,1.0,1.0,1.0,1.0,1.0,1.0,1.0,1.0,1.0,1.0])                                                                                                                                                                       |(11788,[0,3,86,278,397,978,1165,1388,4254,9735,10156],[2.4542005779446137,1.8117540765589006,4.186659831132572,5.1851886612437,5.521660897864913,6.320168594082684,6.437951629739068,6.571483022363591,7.418780882750794,7.824245990858959,7.824245990858959])                                                                                                                                                                                                                                                                                                                                                                                                                                                                     |\n",
            "|0.0  |\"Great Bear Provides Complete Assays from Central LP Fault \"\"Auro2\"\" High-Grade Gold Domain and Update on Geological Modelling\"                                                 |[\"great, bear, provides, complete, assays, from, central, lp, fault, \"\"auro2\"\", high-grade, gold, domain, and, update, on, geological, modelling\"]                                                                |(11788,[4,7,45,89,121,161,1091,1381,1684,1779,1869,2231,2602,3701,5173,6681,9661,11091],[1.0,1.0,1.0,1.0,1.0,1.0,1.0,1.0,1.0,1.0,1.0,1.0,1.0,1.0,1.0,1.0,1.0,1.0])                                                                                                         |(11788,[4,7,45,89,121,161,1091,1381,1684,1779,1869,2231,2602,3701,5173,6681,9661,11091],[1.939531813697857,2.173512737292573,3.612118392980474,4.254713294377588,4.406519307245593,4.688751774929809,6.437951629739068,6.571483022363591,6.725633702190849,6.907955258984804,6.907955258984804,7.131098810299013,7.131098810299013,7.418780882750794,7.824245990858959,7.824245990858959,7.824245990858959,7.824245990858959])                                                                                                                                                                                                                                                                                                     |\n",
            "|0.0  |\"IDenta Corp Announces \"\"Touch&Know\"\" Brand Drug Detection Kits for Personal Use                                                                                                |[\"identa, corp, announces, \"\"touch&know\"\", brand, drug, detection, kits, for, personal, use]                                                                                                                      |(11788,[5,11,420,423,473,686,1902,2836,3958,9914,10670],[1.0,1.0,1.0,1.0,1.0,1.0,1.0,1.0,1.0,1.0,1.0])                                                                                                                                                                     |(11788,[5,11,420,423,473,686,1902,2836,3958,9914,10670],[2.002680480546374,2.4170742193988395,5.572954192252463,5.572954192252463,5.627021413522739,6.032486521630903,6.907955258984804,7.131098810299013,7.418780882750794,7.824245990858959,7.824245990858959])                                                                                                                                                                                                                                                                                                                                                                                                                                                                  |\n",
            "|0.0  |\"Kansas City Southern Receives Revised Proposal from Canadian Pacific That Board of Directors Determines is a \"\"Company Superior Proposal\"\"\"                                    |[\"kansas, city, southern, receives, revised, proposal, from, canadian, pacific, that, board, of, directors, determines, is, a, \"\"company, superior, proposal\"\"\"]                                                  |(11788,[2,6,9,45,110,159,266,382,443,514,642,725,1400,1960,2723,2994,4132,7609,9173],[1.0,1.0,1.0,1.0,1.0,1.0,1.0,1.0,1.0,1.0,1.0,1.0,1.0,1.0,1.0,1.0,1.0,1.0,1.0])                                                                                                        |(11788,[2,6,9,45,110,159,266,382,443,514,642,725,1400,1960,2723,2994,4132,7609,9173],[1.755820402614848,2.1665074547041643,2.3775086191926484,3.612118392980474,4.3430059015232665,4.667245569708845,5.15009734143243,5.472870733695481,5.627021413522739,5.744804449179123,5.952443813957367,6.032486521630903,6.725633702190849,6.907955258984804,7.131098810299013,7.418780882750794,7.418780882750794,7.824245990858959,7.824245990858959])                                                                                                                                                                                                                                                                                    |\n",
            "|0.0  |\"Loop Media, Inc. Launches New \"\"Movie Trailers+\"\" Streaming Channel\"                                                                                                           |[\"loop, media,, inc., launches, new, \"\"movie, trailers+\"\", streaming, channel\"]                                                                                                                                   |(11788,[14,22,111,786,915,6089,6210,6927,10108],[1.0,1.0,1.0,1.0,1.0,1.0,1.0,1.0,1.0])                                                                                                                                                                                     |(11788,[14,22,111,786,915,6089,6210,6927,10108],[2.5745937962922025,3.079313862495708,4.3430059015232665,6.1194978986205335,6.214808078424858,7.824245990858959,7.824245990858959,7.824245990858959,7.824245990858959])                                                                                                                                                                                                                                                                                                                                                                                                                                                                                                            |\n",
            "|0.0  |\"MindMed to Attend 8th Annual \"\"Mobile in Clinical Trials\"\" Conference\"                                                                                                         |[\"mindmed, to, attend, 8th, annual, \"\"mobile, in, clinical, trials\"\", conference\"]                                                                                                                                |(11788,[0,3,33,411,1066,1305,5582,6773,8372,11480],[1.0,1.0,1.0,1.0,1.0,1.0,1.0,1.0,1.0,1.0])                                                                                                                                                                              |(11788,[0,3,33,411,1066,1305,5582,6773,8372,11480],[1.2271002889723068,1.8117540765589006,3.3412434388450745,5.521660897864913,6.437951629739068,6.571483022363591,7.824245990858959,7.824245990858959,7.824245990858959,7.824245990858959])                                                                                                                                                                                                                                                                                                                                                                                                                                                                                       |\n",
            "|0.0  |\"OKYO Pharma Limited (\"\"OKYO\"\" or the \"\"Company\"\") - Notice of Annual General Meeting\"                                                                                          |[\"okyo, pharma, limited, (\"\"okyo\"\", or, the, \"\"company\"\"), -, notice, of, annual, general, meeting\"]                                                                                                              |(11788,[1,2,33,34,151,243,277,387,757,5042,5266,7072,9054],[1.0,1.0,1.0,1.0,1.0,1.0,1.0,1.0,1.0,1.0,1.0,1.0,1.0])                                                                                                                                                          |(11788,[1,2,33,34,151,243,277,387,757,5042,5266,7072,9054],[1.6546352583675024,1.755820402614848,3.3412434388450745,3.3583378722043746,4.605370165990758,5.116195789756748,5.1851886612437,5.472870733695481,6.1194978986205335,7.824245990858959,7.824245990858959,7.824245990858959,7.824245990858959])                                                                                                                                                                                                                                                                                                                                                                                                                          |\n",
            "|0.0  |\"Shutterstock Announced As Exclusive Sponsor Of \"\"Experience The Times Of Bill Cunningham\"\" Exhibit At New York Fashion Week\"                                                   |[\"shutterstock, announced, as, exclusive, sponsor, of, \"\"experience, the, times, of, bill, cunningham\"\", exhibit, at, new, york, fashion, week\"]                                                                  |(11788,[1,2,12,20,22,355,536,1223,1261,1306,1335,1801,4474,5013,5576,5723,10919],[1.0,2.0,1.0,1.0,1.0,1.0,1.0,1.0,1.0,1.0,1.0,1.0,1.0,1.0,1.0,1.0,1.0])                                                                                                                    |(11788,[1,2,12,20,22,355,536,1223,1261,1306,1335,1801,4474,5013,5576,5723,10919],[1.6546352583675024,3.511640805229696,2.4843069496201022,3.0284554452622174,3.079313862495708,5.426350718060588,5.744804449179123,6.571483022363591,6.907955258984804,6.571483022363591,6.571483022363591,6.907955258984804,7.418780882750794,7.824245990858959,7.824245990858959,7.824245990858959,7.824245990858959])                                                                                                                                                                                                                                                                                                                           |\n",
            "|0.0  |\"The Boston Beer Company Launches New \"\"Bevy Long Drink\"\"\"                                                                                                                      |[\"the, boston, beer, company, launches, new, \"\"bevy, long, drink\"\"\"]                                                                                                                                              |(11788,[22,69,111,302,312,554,5742,6658,7505],[1.0,1.0,1.0,1.0,1.0,1.0,1.0,1.0,1.0])                                                                                                                                                                                       |(11788,[22,69,111,302,312,554,5742,6658,7505],[3.079313862495708,3.942682192915521,4.3430059015232665,5.339339341070958,5.381898955489754,5.809342970316694,7.824245990858959,7.824245990858959,7.824245990858959])                                                                                                                                                                                                                                                                                                                                                                                                                                                                                                                |\n",
            "|0.0  |\"Welcome to the Tri \"\"Party\"\": Broadridge Launches Sponsored General Collateral Service\"                                                                                        |[\"welcome, to, the, tri, \"\"party\"\":, broadridge, launches, sponsored, general, collateral, service\"]                                                                                                              |(11788,[0,1,111,277,3953,8276,8644,8991,9126,9276,10552],[1.0,1.0,1.0,1.0,1.0,1.0,1.0,1.0,1.0,1.0,1.0])                                                                                                                                                                    |(11788,[0,1,111,277,3953,8276,8644,8991,9126,9276,10552],[1.2271002889723068,1.6546352583675024,4.3430059015232665,5.1851886612437,7.418780882750794,7.824245990858959,7.824245990858959,7.824245990858959,7.824245990858959,7.824245990858959,7.824245990858959])                                                                                                                                                                                                                                                                                                                                                                                                                                                                 |\n",
            "|0.0  |/R E P E A T -- Chris Ryan PhD., New York Times Best Selling Author, and Featured TED Talk Speaker To Appear At Meet Delic: The World's Premiere Psychedelic and Wellness Event/|[/r, e, p, e, a, t, --, chris, ryan, phd.,, new, york, times, best, selling, author,, and, featured, ted, talk, speaker, to, appear, at, meet, delic:, the, world's, premiere, psychedelic, and, wellness, event/]|(11788,[0,1,4,6,12,22,104,355,720,810,849,882,960,1306,1425,1800,1840,1887,2440,2756,2787,2883,3040,3263,3308,3688,4650,7963,8039,8156,8820],[1.0,1.0,2.0,1.0,1.0,1.0,1.0,1.0,1.0,1.0,1.0,1.0,1.0,1.0,1.0,1.0,1.0,1.0,1.0,1.0,2.0,1.0,1.0,1.0,1.0,1.0,1.0,1.0,1.0,1.0,1.0])|(11788,[0,1,4,6,12,22,104,355,720,810,849,882,960,1306,1425,1800,1840,1887,2440,2756,2787,2883,3040,3263,3308,3688,4650,7963,8039,8156,8820],[1.2271002889723068,1.6546352583675024,3.879063627395714,2.1665074547041643,2.4843069496201022,3.079313862495708,4.327738429392478,5.426350718060588,6.032486521630903,6.1194978986205335,6.214808078424858,6.214808078424858,6.320168594082684,6.571483022363591,6.725633702190849,6.907955258984804,6.907955258984804,6.907955258984804,7.131098810299013,7.131098810299013,14.837561765501588,7.131098810299013,7.418780882750794,7.418780882750794,7.418780882750794,7.418780882750794,7.418780882750794,7.824245990858959,7.824245990858959,7.824245990858959,7.824245990858959])|\n",
            "|0.0  |01 Communique Provides Quarterly Update on Business Developments and Third Quarter Fiscal 2021 Results                                                                          |[01, communique, provides, quarterly, update, on, business, developments, and, third, quarter, fiscal, 2021, results]                                                                                             |(11788,[4,7,13,26,50,121,123,129,161,162,211,4083,10871,11608],[1.0,1.0,1.0,1.0,1.0,1.0,1.0,1.0,1.0,1.0,1.0,1.0,1.0,1.0])                                                                                                                                                  |(11788,[4,7,13,26,50,121,123,129,161,162,211,4083,10871,11608],[1.939531813697857,2.173512737292573,2.5209410827998826,3.179855091717586,3.7216026258221624,4.406519307245593,4.423048609196803,4.456950160872484,4.688751774929809,4.688751774929809,4.96204510992949,7.418780882750794,7.824245990858959,7.824245990858959])                                                                                                                                                                                                                                                                                                                                                                                                     |\n",
            "|0.0  |10 Personal Finance Experts To Follow On Twitter                                                                                                                                |[10, personal, finance, experts, to, follow, on, twitter]                                                                                                                                                         |(11788,[0,7,724,897,899,1902,4499,6481],[1.0,1.0,1.0,1.0,1.0,1.0,1.0,1.0])                                                                                                                                                                                                 |(11788,[0,7,724,897,899,1902,4499,6481],[1.2271002889723068,2.173512737292573,6.032486521630903,6.214808078424858,6.214808078424858,6.907955258984804,7.418780882750794,7.824245990858959])                                                                                                                                                                                                                                                                                                                                                                                                                                                                                                                                        |\n",
            "|0.0  |10X Capital Leadership Purchases Additional Shares In REE Automotive                                                                                                            |[10x, capital, leadership, purchases, additional, shares, in, ree, automotive]                                                                                                                                    |(11788,[3,41,147,487,743,1214,1493,3917,9504],[1.0,1.0,1.0,1.0,1.0,1.0,1.0,1.0,1.0])                                                                                                                                                                                       |(11788,[3,41,147,487,743,1214,1493,3917,9504],[1.8117540765589006,3.5269605846401673,4.585567538694578,5.684179827362688,6.1194978986205335,6.571483022363591,6.725633702190849,7.418780882750794,7.824245990858959])                                                                                                                                                                                                                                                                                                                                                                                                                                                                                                              |\n",
            "|0.0  |15 Words From President Biden That Could Equal Billions for Pfizer and Moderna                                                                                                  |[15, words, from, president, biden, that, could, equal, billions, for, pfizer, and, moderna]                                                                                                                      |(11788,[4,5,45,84,110,304,469,672,927,2018,3217,6887,10926],[1.0,1.0,1.0,1.0,1.0,1.0,1.0,1.0,1.0,1.0,1.0,1.0,1.0])                                                                                                                                                         |(11788,[4,5,45,84,110,304,469,672,927,2018,3217,6887,10926],[1.939531813697857,2.002680480546374,3.612118392980474,4.08657637257559,4.3430059015232665,5.259296633397422,5.627021413522739,5.952443813957367,6.320168594082684,6.907955258984804,7.418780882750794,7.824245990858959,7.824245990858959])                                                                                                                                                                                                                                                                                                                                                                                                                           |\n",
            "|0.0  |16 Northern Illinois Arts Organizations Awarded Grants from ComEd and League of Chicago Theatres                                                                                |[16, northern, illinois, arts, organizations, awarded, grants, from, comed, and, league, of, chicago, theatres]                                                                                                   |(11788,[2,4,45,459,1135,1252,1742,2331,3228,4005,6317,7209,7534,11425],[1.0,1.0,1.0,1.0,1.0,1.0,1.0,1.0,1.0,1.0,1.0,1.0,1.0,1.0])                                                                                                                                          |(11788,[2,4,45,459,1135,1252,1742,2331,3228,4005,6317,7209,7534,11425],[1.755820402614848,1.939531813697857,3.612118392980474,5.627021413522739,6.437951629739068,6.571483022363591,6.907955258984804,7.131098810299013,7.418780882750794,7.418780882750794,7.824245990858959,7.824245990858959,7.824245990858959,7.824245990858959])                                                                                                                                                                                                                                                                                                                                                                                              |\n",
            "+-----+--------------------------------------------------------------------------------------------------------------------------------------------------------------------------------+------------------------------------------------------------------------------------------------------------------------------------------------------------------------------------------------------------------+---------------------------------------------------------------------------------------------------------------------------------------------------------------------------------------------------------------------------------------------------------------------------+-----------------------------------------------------------------------------------------------------------------------------------------------------------------------------------------------------------------------------------------------------------------------------------------------------------------------------------------------------------------------------------------------------------------------------------------------------------------------------------------------------------------------------------------------------------------------------------------------------------------------------------------------------------------------------------------------------------------------------------+\n",
            "only showing top 20 rows\n",
            "\n"
          ]
        }
      ]
    },
    {
      "cell_type": "code",
      "metadata": {
        "colab": {
          "base_uri": "https://localhost:8080/"
        },
        "id": "8HwaguEFajq2",
        "outputId": "bec41575-0c2d-4e4e-f8c8-0e31103f77a6"
      },
      "source": [
        "testDF.count()"
      ],
      "id": "8HwaguEFajq2",
      "execution_count": 14,
      "outputs": [
        {
          "output_type": "execute_result",
          "data": {
            "text/plain": [
              "1035"
            ]
          },
          "metadata": {},
          "execution_count": 14
        }
      ]
    },
    {
      "cell_type": "code",
      "metadata": {
        "colab": {
          "base_uri": "https://localhost:8080/"
        },
        "id": "mLabWeJqNf8K",
        "outputId": "7e063ce3-2092-4a80-b4db-94358ee1a032"
      },
      "source": [
        "testDF.show()"
      ],
      "id": "mLabWeJqNf8K",
      "execution_count": 15,
      "outputs": [
        {
          "output_type": "stream",
          "name": "stdout",
          "text": [
            "+-----+--------------------+--------------------+--------------------+--------------------+\n",
            "|label|                text|               words|         rawFeatures|            features|\n",
            "+-----+--------------------+--------------------+--------------------+--------------------+\n",
            "|  0.0|180 Life Sciences...|[180, life, scien...|(11788,[10,12,197...|(11788,[10,12,197...|\n",
            "|  0.0|1847 Goedeker Iss...|[1847, goedeker, ...|(11788,[45,87,474...|(11788,[45,87,474...|\n",
            "|  0.0|3 Reasons to Buy ...|[3, reasons, to, ...|(11788,[0,4,23,54...|(11788,[0,4,23,54...|\n",
            "|  0.0|3 Things to Watch...|[3, things, to, w...|(11788,[0,1,3,8,3...|(11788,[0,1,3,8,3...|\n",
            "|  0.0|3 Upcoming Earnin...|[3, upcoming, ear...|(11788,[0,19,54,6...|(11788,[0,19,54,6...|\n",
            "|  0.0|4 Diversified Che...|[4, diversified, ...|(11788,[0,5,18,17...|(11788,[0,5,18,17...|\n",
            "|  0.0|4 Outstanding Sto...|[4, outstanding, ...|(11788,[0,18,20,2...|(11788,[0,18,20,2...|\n",
            "|  0.0|4 Top Stock Trade...|[4, top, stock, t...|(11788,[5,8,61,17...|(11788,[5,8,61,17...|\n",
            "|  0.0|A Body Camera Com...|[a, body, camera,...|(11788,[4,6,69,13...|(11788,[4,6,69,13...|\n",
            "|  0.0|A Nick to Apple's...|[a, nick, to, app...|(11788,[0,5,6,67,...|(11788,[0,5,6,67,...|\n",
            "|  0.0|ABC and Procore A...|[abc, and, procor...|(11788,[0,4,5,87,...|(11788,[0,4,5,87,...|\n",
            "|  0.0|ABM Delivers Infr...|[abm, delivers, i...|(11788,[5,22,281,...|(11788,[5,22,281,...|\n",
            "|  0.0|ABM Industries An...|[abm, industries,...|(11788,[5,11,13,2...|(11788,[5,11,13,2...|\n",
            "|  0.0|ADC Therapeutics ...|[adc, therapeutic...|(11788,[0,3,17,21...|(11788,[0,3,17,21...|\n",
            "|  0.0|AIG names CEO Zaf...|[aig, names, ceo,...|(11788,[20,35,307...|(11788,[20,35,307...|\n",
            "|  0.0|ALERT: Spectrum P...|[alert:, spectrum...|(11788,[0,10,14,1...|(11788,[0,10,14,1...|\n",
            "|  0.0|AMOT or WTS: Whic...|[amot, or, wts:, ...|(11788,[1,8,9,62,...|(11788,[1,8,9,62,...|\n",
            "|  0.0|ANVS CLASS ACTION...|[anvs, class, act...|(11788,[0,1,2,3,6...|(11788,[0,1,2,3,6...|\n",
            "|  0.0|ANVS Investor Ale...|[anvs, investor, ...|(11788,[27,32,43,...|(11788,[27,32,43,...|\n",
            "|  0.0|AXIS Insurance Ex...|[axis, insurance,...|(11788,[10,22,193...|(11788,[10,22,193...|\n",
            "+-----+--------------------+--------------------+--------------------+--------------------+\n",
            "only showing top 20 rows\n",
            "\n"
          ]
        }
      ]
    },
    {
      "cell_type": "code",
      "metadata": {
        "colab": {
          "base_uri": "https://localhost:8080/"
        },
        "id": "422KCtKsapc2",
        "outputId": "4ef53193-12a7-41bc-a452-ff86835316fa"
      },
      "source": [
        "#Logistic Regression Classifier\n",
        "#Cross validator different classification to  \n",
        "#Param Grid apply different parameters, testing which param is best\n",
        "from pyspark.ml.classification import LogisticRegression\n",
        "from pyspark.ml.evaluation import BinaryClassificationEvaluator\n",
        "from pyspark.ml.tuning import CrossValidator, ParamGridBuilder\n",
        "from pyspark.ml.evaluation import MulticlassClassificationEvaluator\n",
        "import numpy as np\n",
        "lr = LogisticRegression(maxIter = 10)\n",
        "\n",
        "paramGrid_lr = ParamGridBuilder() \\\n",
        "    .addGrid(lr.regParam, np.linspace(0.3, 0.01, 10)) \\\n",
        "    .addGrid(lr.elasticNetParam, np.linspace(0.3, 0.8, 6)) \\\n",
        "    .build()\n",
        "crossval_lr = CrossValidator(estimator=lr,\n",
        "                          estimatorParamMaps=paramGrid_lr,\n",
        "                          evaluator=MulticlassClassificationEvaluator(),\n",
        "                          numFolds= 5)  \n",
        "cvModel_lr = crossval_lr.fit(trainDF)\n",
        "best_model_lr = cvModel_lr.bestModel.summary\n",
        "best_model_lr.predictions.columns"
      ],
      "id": "422KCtKsapc2",
      "execution_count": 16,
      "outputs": [
        {
          "output_type": "execute_result",
          "data": {
            "text/plain": [
              "['label',\n",
              " 'text',\n",
              " 'words',\n",
              " 'rawFeatures',\n",
              " 'features',\n",
              " 'rawPrediction',\n",
              " 'probability',\n",
              " 'prediction']"
            ]
          },
          "metadata": {},
          "execution_count": 16
        }
      ]
    },
    {
      "cell_type": "code",
      "metadata": {
        "colab": {
          "base_uri": "https://localhost:8080/"
        },
        "id": "oXHKusiWqkUf",
        "outputId": "4859ec32-1938-457e-de8e-16f9ad919a9c"
      },
      "source": [
        "best_model_lr.predictions.show()"
      ],
      "id": "oXHKusiWqkUf",
      "execution_count": 17,
      "outputs": [
        {
          "output_type": "stream",
          "name": "stdout",
          "text": [
            "+-----+--------------------+--------------------+--------------------+--------------------+--------------------+--------------------+----------+\n",
            "|label|                text|               words|         rawFeatures|            features|       rawPrediction|         probability|prediction|\n",
            "+-----+--------------------+--------------------+--------------------+--------------------+--------------------+--------------------+----------+\n",
            "|  0.0|\"ASSA ABLOY to ac...|[\"assa, abloy, to...|(11788,[0,2,4,313...|(11788,[0,2,4,313...|[1.64517033979983...|[0.79824527096704...|       0.0|\n",
            "|  0.0|\"BofA Unveils \"\"V...|[\"bofa, unveils, ...|(11788,[399,7222,...|(11788,[399,7222,...|[2.08263253514879...|[0.81353218445965...|       0.0|\n",
            "|  0.0|\"CP Offer for KCS...|[\"cp, offer, for,...|(11788,[5,75,344,...|(11788,[5,75,344,...|[1.76665185080529...|[0.80250194367115...|       0.0|\n",
            "|  0.0|\"Cumulus Podcast ...|[\"cumulus, podcas...|(11788,[0,2,10,13...|(11788,[0,2,10,13...|[2.90273855393937...|[0.82680486923848...|       0.0|\n",
            "|  0.0|\"Epic Games asks ...|[\"epic, games, as...|(11788,[0,3,86,27...|(11788,[0,3,86,27...|[2.09792024134109...|[0.81603872333805...|       0.0|\n",
            "|  0.0|\"Great Bear Provi...|[\"great, bear, pr...|(11788,[4,7,45,89...|(11788,[4,7,45,89...|[2.94665682581161...|[0.90948610283230...|       0.0|\n",
            "|  0.0|\"IDenta Corp Anno...|[\"identa, corp, a...|(11788,[5,11,420,...|(11788,[5,11,420,...|[3.56896814148348...|[0.97779067717069...|       0.0|\n",
            "|  0.0|\"Kansas City Sout...|[\"kansas, city, s...|(11788,[2,6,9,45,...|(11788,[2,6,9,45,...|[3.22718434354480...|[0.90895805501500...|       0.0|\n",
            "|  0.0|\"Loop Media, Inc....|[\"loop, media,, i...|(11788,[14,22,111...|(11788,[14,22,111...|[2.33973687535765...|[0.89552795168378...|       0.0|\n",
            "|  0.0|\"MindMed to Atten...|[\"mindmed, to, at...|(11788,[0,3,33,41...|(11788,[0,3,33,41...|[2.07768982704509...|[0.81878217245896...|       0.0|\n",
            "|  0.0|\"OKYO Pharma Limi...|[\"okyo, pharma, l...|(11788,[1,2,33,34...|(11788,[1,2,33,34...|[3.80564366842772...|[0.98118289490334...|       0.0|\n",
            "|  0.0|\"Shutterstock Ann...|[\"shutterstock, a...|(11788,[1,2,12,20...|(11788,[1,2,12,20...|[2.57621364401873...|[0.93262478261950...|       0.0|\n",
            "|  0.0|\"The Boston Beer ...|[\"the, boston, be...|(11788,[22,69,111...|(11788,[22,69,111...|[1.73130663408599...|[0.80820447850714...|       0.0|\n",
            "|  0.0|\"Welcome to the T...|[\"welcome, to, th...|(11788,[0,1,111,2...|(11788,[0,1,111,2...|[1.88564533264297...|[0.79630822775370...|       0.0|\n",
            "|  0.0|/R E P E A T -- C...|[/r, e, p, e, a, ...|(11788,[0,1,4,6,1...|(11788,[0,1,4,6,1...|[2.40885075381025...|[0.92773316250976...|       0.0|\n",
            "|  0.0|01 Communique Pro...|[01, communique, ...|(11788,[4,7,13,26...|(11788,[4,7,13,26...|[4.84712029218164...|[0.99511153032502...|       0.0|\n",
            "|  0.0|10 Personal Finan...|[10, personal, fi...|(11788,[0,7,724,8...|(11788,[0,7,724,8...|[2.04750313406582...|[0.84370818115239...|       0.0|\n",
            "|  0.0|10X Capital Leade...|[10x, capital, le...|(11788,[3,41,147,...|(11788,[3,41,147,...|[2.02839483259698...|[0.79457234951477...|       0.0|\n",
            "|  0.0|15 Words From Pre...|[15, words, from,...|(11788,[4,5,45,84...|(11788,[4,5,45,84...|[2.15535084508549...|[0.81618842411757...|       0.0|\n",
            "|  0.0|16 Northern Illin...|[16, northern, il...|(11788,[2,4,45,45...|(11788,[2,4,45,45...|[2.78267504727440...|[0.92983574469491...|       0.0|\n",
            "+-----+--------------------+--------------------+--------------------+--------------------+--------------------+--------------------+----------+\n",
            "only showing top 20 rows\n",
            "\n"
          ]
        }
      ]
    },
    {
      "cell_type": "code",
      "metadata": {
        "colab": {
          "base_uri": "https://localhost:8080/"
        },
        "id": "Ns8T13S_dZ2I",
        "outputId": "07c97bec-c623-4732-b230-2913e186b468"
      },
      "source": [
        "#import pre-covid test data\n",
        "url1 = 'https://raw.githubusercontent.com/dalismo/Finance_News_Sentiment/main/Resources/TEST_DATA_delta-emerg-to-now-test-data.csv'\n",
        "spark.sparkContext.addFile(url1)\n",
        "pre_covid_df = spark.read.csv(SparkFiles.get(\"TEST_DATA_delta-emerg-to-now-test-data.csv\"), sep=\",\", header=None)\n",
        "\n",
        "pre_covid_df.show(5, truncate=False)"
      ],
      "id": "Ns8T13S_dZ2I",
      "execution_count": 18,
      "outputs": [
        {
          "output_type": "stream",
          "name": "stdout",
          "text": [
            "+------------------------------------------------------------------------------------------------------+\n",
            "|_c0                                                                                                   |\n",
            "+------------------------------------------------------------------------------------------------------+\n",
            "|KRE: I Still Have Love For Regional Banks                                                             |\n",
            "|Dividend Sleuthing: Texas Instruments                                                                 |\n",
            "|Iteris, Inc. (ITI) CEO Joe Bergera on Q4 2021 Results - Earnings Call Transcript                      |\n",
            "|Orion Energy Systems, Inc. (OESX) CEO Michael Altschaefl on Q1 2021 Results - Earnings Call Transcript|\n",
            "|TSMC says has begun construction at its Arizona chip factory site                                     |\n",
            "+------------------------------------------------------------------------------------------------------+\n",
            "only showing top 5 rows\n",
            "\n"
          ]
        }
      ]
    },
    {
      "cell_type": "code",
      "metadata": {
        "colab": {
          "base_uri": "https://localhost:8080/"
        },
        "id": "nfTw_8oEhB4x",
        "outputId": "6b771a1b-b75b-40a6-9904-0db40f6b713f"
      },
      "source": [
        "#Rename column\n",
        "pre_covid_df2 = pre_covid_df.withColumnRenamed(\"_c0\", \"text\")\n",
        "pre_covid_df2.printSchema()\n",
        "pre_covid_df2.show(20, truncate = False)"
      ],
      "id": "nfTw_8oEhB4x",
      "execution_count": 19,
      "outputs": [
        {
          "output_type": "stream",
          "name": "stdout",
          "text": [
            "root\n",
            " |-- text: string (nullable = true)\n",
            "\n",
            "+----------------------------------------------------------------------------------------------------------------------------------------------+\n",
            "|text                                                                                                                                          |\n",
            "+----------------------------------------------------------------------------------------------------------------------------------------------+\n",
            "|KRE: I Still Have Love For Regional Banks                                                                                                     |\n",
            "|Dividend Sleuthing: Texas Instruments                                                                                                         |\n",
            "|Iteris, Inc. (ITI) CEO Joe Bergera on Q4 2021 Results - Earnings Call Transcript                                                              |\n",
            "|Orion Energy Systems, Inc. (OESX) CEO Michael Altschaefl on Q1 2021 Results - Earnings Call Transcript                                        |\n",
            "|TSMC says has begun construction at its Arizona chip factory site                                                                             |\n",
            "|TSMC Pushes Ahead With Arizona Plant                                                                                                          |\n",
            "|Digital Turbine, Inc.'s (APPS) CEO Bill Stone on Q4 2021 Results - Earnings Call Transcript                                                   |\n",
            "|Malaysia's AirAsia X gets shareholder go-ahead for restructuring plan                                                                         |\n",
            "|Medallia, Inc. (MDLA) CEO Leslie Stretch on Q1 2022 Results - Earnings Call Transcript                                                        |\n",
            "|Oil prices rise on OPEC+ discipline, strong demand outlook                                                                                    |\n",
            "|Tryp Therapeutics to Present at the H.C. Wainwright Psychedelics Conference                                                                   |\n",
            "|Elementos confirms broad tin zones at Oropesa Project and begins feasibility development programs                                             |\n",
            "|Cardinal Energy Ltd. Announces Strategic Acquisition                                                                                          |\n",
            "|Why Should AMC Have All The Fun? BlackBerry Stock Skyrockets Amid Heightened WSB Interest                                                     |\n",
            "|GDX: Multi-Year Bull Market Has Resumed                                                                                                       |\n",
            "|Tortoise Provides Unaudited Balance Sheet Information and Asset Coverage Ratio Updates as of May 31, 2021 for TYG, NTG, TTP, NDP, TPZ and TEAF|\n",
            "|Vanguard Total World Stock ETF: Value Meets Growth                                                                                            |\n",
            "|Oil Hits Two-And-A-Half Year High                                                                                                             |\n",
            "|Hewlett Packard Enterprise Company (HPE) CEO Antonio Neri on Q2 2021 Results - Earnings Call Transcript                                       |\n",
            "|The SEC told Tesla twice that Elon Musk's tweets violated court orders requiring preapproval from company lawyers (TSLA)                      |\n",
            "+----------------------------------------------------------------------------------------------------------------------------------------------+\n",
            "only showing top 20 rows\n",
            "\n"
          ]
        }
      ]
    },
    {
      "cell_type": "code",
      "metadata": {
        "colab": {
          "base_uri": "https://localhost:8080/"
        },
        "id": "osHj5TgUg4YR",
        "outputId": "fefa0743-1c28-4143-aa9f-d26072c50660"
      },
      "source": [
        "#tokenize text\n",
        "# from pyspark.ml.feature import  Tokenizer\n",
        "tokenizer = Tokenizer(inputCol=\"text\", outputCol=\"words\")\n",
        "wordsData = tokenizer.transform(pre_covid_df2)\n",
        "wordsData.show()"
      ],
      "id": "osHj5TgUg4YR",
      "execution_count": 20,
      "outputs": [
        {
          "output_type": "stream",
          "name": "stdout",
          "text": [
            "+--------------------+--------------------+\n",
            "|                text|               words|\n",
            "+--------------------+--------------------+\n",
            "|KRE: I Still Have...|[kre:, i, still, ...|\n",
            "|Dividend Sleuthin...|[dividend, sleuth...|\n",
            "|Iteris, Inc. (ITI...|[iteris,, inc., (...|\n",
            "|Orion Energy Syst...|[orion, energy, s...|\n",
            "|TSMC says has beg...|[tsmc, says, has,...|\n",
            "|TSMC Pushes Ahead...|[tsmc, pushes, ah...|\n",
            "|Digital Turbine, ...|[digital, turbine...|\n",
            "|Malaysia's AirAsi...|[malaysia's, aira...|\n",
            "|Medallia, Inc. (M...|[medallia,, inc.,...|\n",
            "|Oil prices rise o...|[oil, prices, ris...|\n",
            "|Tryp Therapeutics...|[tryp, therapeuti...|\n",
            "|Elementos confirm...|[elementos, confi...|\n",
            "|Cardinal Energy L...|[cardinal, energy...|\n",
            "|Why Should AMC Ha...|[why, should, amc...|\n",
            "|GDX: Multi-Year B...|[gdx:, multi-year...|\n",
            "|Tortoise Provides...|[tortoise, provid...|\n",
            "|Vanguard Total Wo...|[vanguard, total,...|\n",
            "|Oil Hits Two-And-...|[oil, hits, two-a...|\n",
            "|Hewlett Packard E...|[hewlett, packard...|\n",
            "|The SEC told Tesl...|[the, sec, told, ...|\n",
            "+--------------------+--------------------+\n",
            "only showing top 20 rows\n",
            "\n"
          ]
        }
      ]
    },
    {
      "cell_type": "code",
      "metadata": {
        "colab": {
          "base_uri": "https://localhost:8080/"
        },
        "id": "HPSwYmrehRlF",
        "outputId": "5e681499-fffd-43c6-a1e3-6c1a73f3b49d"
      },
      "source": [
        "#count vectorize \n",
        "# from pyspark.ml.feature import CountVectorizer\n",
        "# count = CountVectorizer (inputCol=\"words\", outputCol=\"rawFeatures\")\n",
        "# model = count.fit(wordsData)\n",
        "featurizedData = model.transform(wordsData)\n",
        "featurizedData.show()"
      ],
      "id": "HPSwYmrehRlF",
      "execution_count": 21,
      "outputs": [
        {
          "output_type": "stream",
          "name": "stdout",
          "text": [
            "+--------------------+--------------------+--------------------+\n",
            "|                text|               words|         rawFeatures|\n",
            "+--------------------+--------------------+--------------------+\n",
            "|KRE: I Still Have...|[kre:, i, still, ...|(11788,[5,202,262...|\n",
            "|Dividend Sleuthin...|[dividend, sleuth...|(11788,[53,1006,5...|\n",
            "|Iteris, Inc. (ITI...|[iteris,, inc., (...|(11788,[7,13,14,1...|\n",
            "|Orion Energy Syst...|[orion, energy, s...|(11788,[7,13,14,1...|\n",
            "|TSMC says has beg...|[tsmc, says, has,...|(11788,[12,31,94,...|\n",
            "|TSMC Pushes Ahead...|[tsmc, pushes, ah...|(11788,[10,294,91...|\n",
            "|Digital Turbine, ...|[digital, turbine...|(11788,[7,13,19,2...|\n",
            "|Malaysia's AirAsi...|[malaysia's, aira...|(11788,[5,63,290,...|\n",
            "|Medallia, Inc. (M...|[medallia,, inc.,...|(11788,[7,14,19,2...|\n",
            "|Oil prices rise o...|[oil, prices, ris...|(11788,[7,107,195...|\n",
            "|Tryp Therapeutics...|[tryp, therapeuti...|(11788,[0,1,12,17...|\n",
            "|Elementos confirm...|[elementos, confi...|(11788,[4,12,184,...|\n",
            "|Cardinal Energy L...|[cardinal, energy...|(11788,[11,83,141...|\n",
            "|Why Should AMC Ha...|[why, should, amc...|(11788,[1,8,15,24...|\n",
            "|GDX: Multi-Year B...|[gdx:, multi-year...|(11788,[55,94,962...|\n",
            "|Tortoise Provides...|[tortoise, provid...|(11788,[2,4,5,13,...|\n",
            "|Vanguard Total Wo...|[vanguard, total,...|(11788,[8,46,62,6...|\n",
            "|Oil Hits Two-And-...|[oil, hits, two-a...|(11788,[119,191,3...|\n",
            "|Hewlett Packard E...|[hewlett, packard...|(11788,[7,13,19,2...|\n",
            "|The SEC told Tesl...|[the, sec, told, ...|(11788,[1,45,69,1...|\n",
            "+--------------------+--------------------+--------------------+\n",
            "only showing top 20 rows\n",
            "\n"
          ]
        }
      ]
    },
    {
      "cell_type": "code",
      "metadata": {
        "colab": {
          "base_uri": "https://localhost:8080/"
        },
        "id": "JAMPcf9uhcKO",
        "outputId": "3e947d99-7013-4f61-cdec-e45b4e1c2552"
      },
      "source": [
        "from pyspark.ml.feature import  IDF\n",
        "#IDF down-weighs features which appear frequently in a corpus. This generally improves performance when using text as features since most frequent, and hence less important words, get down-weighed.\n",
        "idf = IDF(inputCol=\"rawFeatures\", outputCol=\"features\")\n",
        "idfModel = idf.fit(featurizedData)\n",
        "rescaledData = idfModel.transform(featurizedData)\n",
        "rescaledData.select(\"features\").show()  \n",
        "# We want only the label and features columns for our machine learning models"
      ],
      "id": "JAMPcf9uhcKO",
      "execution_count": 22,
      "outputs": [
        {
          "output_type": "stream",
          "name": "stdout",
          "text": [
            "+--------------------+\n",
            "|            features|\n",
            "+--------------------+\n",
            "|(11788,[5,202,262...|\n",
            "|(11788,[53,1006,5...|\n",
            "|(11788,[7,13,14,1...|\n",
            "|(11788,[7,13,14,1...|\n",
            "|(11788,[12,31,94,...|\n",
            "|(11788,[10,294,91...|\n",
            "|(11788,[7,13,19,2...|\n",
            "|(11788,[5,63,290,...|\n",
            "|(11788,[7,14,19,2...|\n",
            "|(11788,[7,107,195...|\n",
            "|(11788,[0,1,12,17...|\n",
            "|(11788,[4,12,184,...|\n",
            "|(11788,[11,83,141...|\n",
            "|(11788,[1,8,15,24...|\n",
            "|(11788,[55,94,962...|\n",
            "|(11788,[2,4,5,13,...|\n",
            "|(11788,[8,46,62,6...|\n",
            "|(11788,[119,191,3...|\n",
            "|(11788,[7,13,19,2...|\n",
            "|(11788,[1,45,69,1...|\n",
            "+--------------------+\n",
            "only showing top 20 rows\n",
            "\n"
          ]
        }
      ]
    },
    {
      "cell_type": "code",
      "metadata": {
        "colab": {
          "base_uri": "https://localhost:8080/"
        },
        "id": "l2mwc-1WNsOJ",
        "outputId": "b6f3f0d2-fc8f-48ba-ad8e-0b2bd934d02d"
      },
      "source": [
        "#Predict using the test data and evaluate the predictions\n",
        "predictions_lr = cvModel_lr.transform(rescaledData)\n",
        "predictions_lr.columns"
      ],
      "id": "l2mwc-1WNsOJ",
      "execution_count": 23,
      "outputs": [
        {
          "output_type": "execute_result",
          "data": {
            "text/plain": [
              "['text',\n",
              " 'words',\n",
              " 'rawFeatures',\n",
              " 'features',\n",
              " 'rawPrediction',\n",
              " 'probability',\n",
              " 'prediction']"
            ]
          },
          "metadata": {},
          "execution_count": 23
        }
      ]
    },
    {
      "cell_type": "code",
      "metadata": {
        "colab": {
          "base_uri": "https://localhost:8080/"
        },
        "id": "yRpIdd3Iw0bK",
        "outputId": "58b6fa37-ee82-48c8-d11d-a5006b12329d"
      },
      "source": [
        "predictions_lr.show()"
      ],
      "id": "yRpIdd3Iw0bK",
      "execution_count": 24,
      "outputs": [
        {
          "output_type": "stream",
          "name": "stdout",
          "text": [
            "+--------------------+--------------------+--------------------+--------------------+--------------------+--------------------+----------+\n",
            "|                text|               words|         rawFeatures|            features|       rawPrediction|         probability|prediction|\n",
            "+--------------------+--------------------+--------------------+--------------------+--------------------+--------------------+----------+\n",
            "|KRE: I Still Have...|[kre:, i, still, ...|(11788,[5,202,262...|(11788,[5,202,262...|[0.61641318740211...|[0.17409819137297...|       1.0|\n",
            "|Dividend Sleuthin...|[dividend, sleuth...|(11788,[53,1006,5...|(11788,[53,1006,5...|[0.68728794689857...|[0.50496670332522...|       0.0|\n",
            "|Iteris, Inc. (ITI...|[iteris,, inc., (...|(11788,[7,13,14,1...|(11788,[7,13,14,1...|[2.50367803759553...|[0.90085361827875...|       0.0|\n",
            "|Orion Energy Syst...|[orion, energy, s...|(11788,[7,13,14,1...|(11788,[7,13,14,1...|[2.59675977965974...|[0.90886272338256...|       0.0|\n",
            "|TSMC says has beg...|[tsmc, says, has,...|(11788,[12,31,94,...|(11788,[12,31,94,...|[0.85333408722094...|[0.33617615271584...|       1.0|\n",
            "|TSMC Pushes Ahead...|[tsmc, pushes, ah...|(11788,[10,294,91...|(11788,[10,294,91...|[-0.7130073973992...|[0.16911538350770...|       1.0|\n",
            "|Digital Turbine, ...|[digital, turbine...|(11788,[7,13,19,2...|(11788,[7,13,19,2...|[2.34205372210828...|[0.86847196150177...|       0.0|\n",
            "|Malaysia's AirAsi...|[malaysia's, aira...|(11788,[5,63,290,...|(11788,[5,63,290,...|[1.18350322484356...|[0.52638680666062...|       0.0|\n",
            "|Medallia, Inc. (M...|[medallia,, inc.,...|(11788,[7,14,19,2...|(11788,[7,14,19,2...|[2.47592750768010...|[0.63723357672541...|       0.0|\n",
            "|Oil prices rise o...|[oil, prices, ris...|(11788,[7,107,195...|(11788,[7,107,195...|[0.60079648402068...|[0.52139351022116...|       0.0|\n",
            "|Tryp Therapeutics...|[tryp, therapeuti...|(11788,[0,1,12,17...|(11788,[0,1,12,17...|[3.93877851355389...|[0.98814982609048...|       0.0|\n",
            "|Elementos confirm...|[elementos, confi...|(11788,[4,12,184,...|(11788,[4,12,184,...|[2.49585741392283...|[0.90600643122196...|       0.0|\n",
            "|Cardinal Energy L...|[cardinal, energy...|(11788,[11,83,141...|(11788,[11,83,141...|[3.53000575905675...|[0.96263252912098...|       0.0|\n",
            "|Why Should AMC Ha...|[why, should, amc...|(11788,[1,8,15,24...|(11788,[1,8,15,24...|[-0.8908738289949...|[0.08104618008862...|       1.0|\n",
            "|GDX: Multi-Year B...|[gdx:, multi-year...|(11788,[55,94,962...|(11788,[55,94,962...|[0.46007519136674...|[0.18056172699906...|       1.0|\n",
            "|Tortoise Provides...|[tortoise, provid...|(11788,[2,4,5,13,...|(11788,[2,4,5,13,...|[2.85758329483132...|[0.94965098520970...|       0.0|\n",
            "|Vanguard Total Wo...|[vanguard, total,...|(11788,[8,46,62,6...|(11788,[8,46,62,6...|[1.00817059106195...|[0.42107719027076...|       1.0|\n",
            "|Oil Hits Two-And-...|[oil, hits, two-a...|(11788,[119,191,3...|(11788,[119,191,3...|[0.18471272745261...|[0.28456009219944...|       1.0|\n",
            "|Hewlett Packard E...|[hewlett, packard...|(11788,[7,13,19,2...|(11788,[7,13,19,2...|[2.18862312685689...|[0.84993414726393...|       0.0|\n",
            "|The SEC told Tesl...|[the, sec, told, ...|(11788,[1,45,69,1...|(11788,[1,45,69,1...|[2.64909599849623...|[0.52128290322200...|       0.0|\n",
            "+--------------------+--------------------+--------------------+--------------------+--------------------+--------------------+----------+\n",
            "only showing top 20 rows\n",
            "\n"
          ]
        }
      ]
    },
    {
      "cell_type": "code",
      "metadata": {
        "colab": {
          "base_uri": "https://localhost:8080/"
        },
        "id": "8zSmgjhtZWd9",
        "outputId": "108f130c-083b-4f4d-ef6d-3415fe53e0a3"
      },
      "source": [
        "predictions_lr_df = predictions_lr.select('prediction', 'text','words')\n",
        "predictions_lr_df.show(5)"
      ],
      "id": "8zSmgjhtZWd9",
      "execution_count": 25,
      "outputs": [
        {
          "output_type": "stream",
          "name": "stdout",
          "text": [
            "+----------+--------------------+--------------------+\n",
            "|prediction|                text|               words|\n",
            "+----------+--------------------+--------------------+\n",
            "|       1.0|KRE: I Still Have...|[kre:, i, still, ...|\n",
            "|       0.0|Dividend Sleuthin...|[dividend, sleuth...|\n",
            "|       0.0|Iteris, Inc. (ITI...|[iteris,, inc., (...|\n",
            "|       0.0|Orion Energy Syst...|[orion, energy, s...|\n",
            "|       1.0|TSMC says has beg...|[tsmc, says, has,...|\n",
            "+----------+--------------------+--------------------+\n",
            "only showing top 5 rows\n",
            "\n"
          ]
        }
      ]
    },
    {
      "cell_type": "code",
      "metadata": {
        "colab": {
          "base_uri": "https://localhost:8080/"
        },
        "id": "EgXODWPQZQTV",
        "outputId": "b0a43fe3-dfab-4364-dcf3-80856b491d0d"
      },
      "source": [
        "predictions_lr_df.createOrReplaceTempView('temp')\n",
        "predictions_lr_df1 = spark.sql('select case prediction when \"1.0\" then \"Positive\"  when \"2.0\" then \"Negative\" else \"Neutral\" end as predicted_label, text, words from temp')\n",
        "predictions_lr_df1.show(20, truncate = False)"
      ],
      "id": "EgXODWPQZQTV",
      "execution_count": 26,
      "outputs": [
        {
          "output_type": "stream",
          "name": "stdout",
          "text": [
            "+---------------+----------------------------------------------------------------------------------------------------------------------------------------------+-----------------------------------------------------------------------------------------------------------------------------------------------------------------------+\n",
            "|predicted_label|text                                                                                                                                          |words                                                                                                                                                                  |\n",
            "+---------------+----------------------------------------------------------------------------------------------------------------------------------------------+-----------------------------------------------------------------------------------------------------------------------------------------------------------------------+\n",
            "|Positive       |KRE: I Still Have Love For Regional Banks                                                                                                     |[kre:, i, still, have, love, for, regional, banks]                                                                                                                     |\n",
            "|Neutral        |Dividend Sleuthing: Texas Instruments                                                                                                         |[dividend, sleuthing:, texas, instruments]                                                                                                                             |\n",
            "|Neutral        |Iteris, Inc. (ITI) CEO Joe Bergera on Q4 2021 Results - Earnings Call Transcript                                                              |[iteris,, inc., (iti), ceo, joe, bergera, on, q4, 2021, results, -, earnings, call, transcript]                                                                        |\n",
            "|Neutral        |Orion Energy Systems, Inc. (OESX) CEO Michael Altschaefl on Q1 2021 Results - Earnings Call Transcript                                        |[orion, energy, systems,, inc., (oesx), ceo, michael, altschaefl, on, q1, 2021, results, -, earnings, call, transcript]                                                |\n",
            "|Positive       |TSMC says has begun construction at its Arizona chip factory site                                                                             |[tsmc, says, has, begun, construction, at, its, arizona, chip, factory, site]                                                                                          |\n",
            "|Positive       |TSMC Pushes Ahead With Arizona Plant                                                                                                          |[tsmc, pushes, ahead, with, arizona, plant]                                                                                                                            |\n",
            "|Neutral        |Digital Turbine, Inc.'s (APPS) CEO Bill Stone on Q4 2021 Results - Earnings Call Transcript                                                   |[digital, turbine,, inc.'s, (apps), ceo, bill, stone, on, q4, 2021, results, -, earnings, call, transcript]                                                            |\n",
            "|Neutral        |Malaysia's AirAsia X gets shareholder go-ahead for restructuring plan                                                                         |[malaysia's, airasia, x, gets, shareholder, go-ahead, for, restructuring, plan]                                                                                        |\n",
            "|Neutral        |Medallia, Inc. (MDLA) CEO Leslie Stretch on Q1 2022 Results - Earnings Call Transcript                                                        |[medallia,, inc., (mdla), ceo, leslie, stretch, on, q1, 2022, results, -, earnings, call, transcript]                                                                  |\n",
            "|Neutral        |Oil prices rise on OPEC+ discipline, strong demand outlook                                                                                    |[oil, prices, rise, on, opec+, discipline,, strong, demand, outlook]                                                                                                   |\n",
            "|Neutral        |Tryp Therapeutics to Present at the H.C. Wainwright Psychedelics Conference                                                                   |[tryp, therapeutics, to, present, at, the, h.c., wainwright, psychedelics, conference]                                                                                 |\n",
            "|Neutral        |Elementos confirms broad tin zones at Oropesa Project and begins feasibility development programs                                             |[elementos, confirms, broad, tin, zones, at, oropesa, project, and, begins, feasibility, development, programs]                                                        |\n",
            "|Neutral        |Cardinal Energy Ltd. Announces Strategic Acquisition                                                                                          |[cardinal, energy, ltd., announces, strategic, acquisition]                                                                                                            |\n",
            "|Positive       |Why Should AMC Have All The Fun? BlackBerry Stock Skyrockets Amid Heightened WSB Interest                                                     |[why, should, amc, have, all, the, fun?, blackberry, stock, skyrockets, amid, heightened, wsb, interest]                                                               |\n",
            "|Positive       |GDX: Multi-Year Bull Market Has Resumed                                                                                                       |[gdx:, multi-year, bull, market, has, resumed]                                                                                                                         |\n",
            "|Neutral        |Tortoise Provides Unaudited Balance Sheet Information and Asset Coverage Ratio Updates as of May 31, 2021 for TYG, NTG, TTP, NDP, TPZ and TEAF|[tortoise, provides, unaudited, balance, sheet, information, and, asset, coverage, ratio, updates, as, of, may, 31,, 2021, for, tyg,, ntg,, ttp,, ndp,, tpz, and, teaf]|\n",
            "|Positive       |Vanguard Total World Stock ETF: Value Meets Growth                                                                                            |[vanguard, total, world, stock, etf:, value, meets, growth]                                                                                                            |\n",
            "|Positive       |Oil Hits Two-And-A-Half Year High                                                                                                             |[oil, hits, two-and-a-half, year, high]                                                                                                                                |\n",
            "|Neutral        |Hewlett Packard Enterprise Company (HPE) CEO Antonio Neri on Q2 2021 Results - Earnings Call Transcript                                       |[hewlett, packard, enterprise, company, (hpe), ceo, antonio, neri, on, q2, 2021, results, -, earnings, call, transcript]                                               |\n",
            "|Neutral        |The SEC told Tesla twice that Elon Musk's tweets violated court orders requiring preapproval from company lawyers (TSLA)                      |[the, sec, told, tesla, twice, that, elon, musk's, tweets, violated, court, orders, requiring, preapproval, from, company, lawyers, (tsla)]                            |\n",
            "+---------------+----------------------------------------------------------------------------------------------------------------------------------------------+-----------------------------------------------------------------------------------------------------------------------------------------------------------------------+\n",
            "only showing top 20 rows\n",
            "\n"
          ]
        }
      ]
    },
    {
      "cell_type": "code",
      "metadata": {
        "colab": {
          "base_uri": "https://localhost:8080/"
        },
        "id": "q6YzwjMxZy_8",
        "outputId": "1700cbb7-56f0-4111-967f-fa9335a52dd8"
      },
      "source": [
        "predictions_lr_df1.groupBy('predicted_label').count().show()"
      ],
      "id": "q6YzwjMxZy_8",
      "execution_count": 27,
      "outputs": [
        {
          "output_type": "stream",
          "name": "stdout",
          "text": [
            "+---------------+-----+\n",
            "|predicted_label|count|\n",
            "+---------------+-----+\n",
            "|       Positive| 1819|\n",
            "|        Neutral| 3248|\n",
            "|       Negative|  233|\n",
            "+---------------+-----+\n",
            "\n"
          ]
        }
      ]
    },
    {
      "cell_type": "code",
      "metadata": {
        "id": "g-7kZGy0a7R-"
      },
      "source": [
        "predictions_lr_df1.toPandas().to_csv('delta-emerg-to-now_predictions_count_vector_logistic_reg_model.csv')"
      ],
      "id": "g-7kZGy0a7R-",
      "execution_count": 28,
      "outputs": []
    },
    {
      "cell_type": "code",
      "metadata": {
        "id": "gJZewrHOEbCu"
      },
      "source": [
        "#Naive Bayes using MulticlassClassificationEval\n",
        "from pyspark.ml.classification import NaiveBayes\n",
        "from pyspark.ml.evaluation import BinaryClassificationEvaluator\n",
        "from pyspark.ml.tuning import CrossValidator, ParamGridBuilder\n",
        "from pyspark.ml.evaluation import MulticlassClassificationEvaluator\n",
        "nb = NaiveBayes()\n",
        "paramGrid_nb = ParamGridBuilder() \\\n",
        "    .addGrid(nb.smoothing, np.linspace(0.3, 10, 10)) \\\n",
        "    .build()\n",
        "crossval_nb = CrossValidator(estimator=nb,\n",
        "                          estimatorParamMaps=paramGrid_nb,\n",
        "                          evaluator=MulticlassClassificationEvaluator(),\n",
        "                          numFolds= 5) \n",
        "cvModel_nb = crossval_nb.fit(trainDF)"
      ],
      "id": "gJZewrHOEbCu",
      "execution_count": 29,
      "outputs": []
    },
    {
      "cell_type": "code",
      "metadata": {
        "colab": {
          "base_uri": "https://localhost:8080/"
        },
        "id": "plAaMl_tmFcl",
        "outputId": "6cdeede3-2b55-44cc-bb13-f44acd81c418"
      },
      "source": [
        "#Make predictions:\n",
        "predictions_nb = cvModel_nb.transform(rescaledData)\n",
        "predictions_nb.select('text','prediction', 'words').show(truncate = False)"
      ],
      "id": "plAaMl_tmFcl",
      "execution_count": 30,
      "outputs": [
        {
          "output_type": "stream",
          "name": "stdout",
          "text": [
            "+----------------------------------------------------------------------------------------------------------------------------------------------+----------+-----------------------------------------------------------------------------------------------------------------------------------------------------------------------+\n",
            "|text                                                                                                                                          |prediction|words                                                                                                                                                                  |\n",
            "+----------------------------------------------------------------------------------------------------------------------------------------------+----------+-----------------------------------------------------------------------------------------------------------------------------------------------------------------------+\n",
            "|KRE: I Still Have Love For Regional Banks                                                                                                     |1.0       |[kre:, i, still, have, love, for, regional, banks]                                                                                                                     |\n",
            "|Dividend Sleuthing: Texas Instruments                                                                                                         |1.0       |[dividend, sleuthing:, texas, instruments]                                                                                                                             |\n",
            "|Iteris, Inc. (ITI) CEO Joe Bergera on Q4 2021 Results - Earnings Call Transcript                                                              |0.0       |[iteris,, inc., (iti), ceo, joe, bergera, on, q4, 2021, results, -, earnings, call, transcript]                                                                        |\n",
            "|Orion Energy Systems, Inc. (OESX) CEO Michael Altschaefl on Q1 2021 Results - Earnings Call Transcript                                        |0.0       |[orion, energy, systems,, inc., (oesx), ceo, michael, altschaefl, on, q1, 2021, results, -, earnings, call, transcript]                                                |\n",
            "|TSMC says has begun construction at its Arizona chip factory site                                                                             |1.0       |[tsmc, says, has, begun, construction, at, its, arizona, chip, factory, site]                                                                                          |\n",
            "|TSMC Pushes Ahead With Arizona Plant                                                                                                          |2.0       |[tsmc, pushes, ahead, with, arizona, plant]                                                                                                                            |\n",
            "|Digital Turbine, Inc.'s (APPS) CEO Bill Stone on Q4 2021 Results - Earnings Call Transcript                                                   |0.0       |[digital, turbine,, inc.'s, (apps), ceo, bill, stone, on, q4, 2021, results, -, earnings, call, transcript]                                                            |\n",
            "|Malaysia's AirAsia X gets shareholder go-ahead for restructuring plan                                                                         |2.0       |[malaysia's, airasia, x, gets, shareholder, go-ahead, for, restructuring, plan]                                                                                        |\n",
            "|Medallia, Inc. (MDLA) CEO Leslie Stretch on Q1 2022 Results - Earnings Call Transcript                                                        |0.0       |[medallia,, inc., (mdla), ceo, leslie, stretch, on, q1, 2022, results, -, earnings, call, transcript]                                                                  |\n",
            "|Oil prices rise on OPEC+ discipline, strong demand outlook                                                                                    |1.0       |[oil, prices, rise, on, opec+, discipline,, strong, demand, outlook]                                                                                                   |\n",
            "|Tryp Therapeutics to Present at the H.C. Wainwright Psychedelics Conference                                                                   |0.0       |[tryp, therapeutics, to, present, at, the, h.c., wainwright, psychedelics, conference]                                                                                 |\n",
            "|Elementos confirms broad tin zones at Oropesa Project and begins feasibility development programs                                             |0.0       |[elementos, confirms, broad, tin, zones, at, oropesa, project, and, begins, feasibility, development, programs]                                                        |\n",
            "|Cardinal Energy Ltd. Announces Strategic Acquisition                                                                                          |0.0       |[cardinal, energy, ltd., announces, strategic, acquisition]                                                                                                            |\n",
            "|Why Should AMC Have All The Fun? BlackBerry Stock Skyrockets Amid Heightened WSB Interest                                                     |1.0       |[why, should, amc, have, all, the, fun?, blackberry, stock, skyrockets, amid, heightened, wsb, interest]                                                               |\n",
            "|GDX: Multi-Year Bull Market Has Resumed                                                                                                       |1.0       |[gdx:, multi-year, bull, market, has, resumed]                                                                                                                         |\n",
            "|Tortoise Provides Unaudited Balance Sheet Information and Asset Coverage Ratio Updates as of May 31, 2021 for TYG, NTG, TTP, NDP, TPZ and TEAF|0.0       |[tortoise, provides, unaudited, balance, sheet, information, and, asset, coverage, ratio, updates, as, of, may, 31,, 2021, for, tyg,, ntg,, ttp,, ndp,, tpz, and, teaf]|\n",
            "|Vanguard Total World Stock ETF: Value Meets Growth                                                                                            |1.0       |[vanguard, total, world, stock, etf:, value, meets, growth]                                                                                                            |\n",
            "|Oil Hits Two-And-A-Half Year High                                                                                                             |1.0       |[oil, hits, two-and-a-half, year, high]                                                                                                                                |\n",
            "|Hewlett Packard Enterprise Company (HPE) CEO Antonio Neri on Q2 2021 Results - Earnings Call Transcript                                       |0.0       |[hewlett, packard, enterprise, company, (hpe), ceo, antonio, neri, on, q2, 2021, results, -, earnings, call, transcript]                                               |\n",
            "|The SEC told Tesla twice that Elon Musk's tweets violated court orders requiring preapproval from company lawyers (TSLA)                      |2.0       |[the, sec, told, tesla, twice, that, elon, musk's, tweets, violated, court, orders, requiring, preapproval, from, company, lawyers, (tsla)]                            |\n",
            "+----------------------------------------------------------------------------------------------------------------------------------------------+----------+-----------------------------------------------------------------------------------------------------------------------------------------------------------------------+\n",
            "only showing top 20 rows\n",
            "\n"
          ]
        }
      ]
    },
    {
      "cell_type": "code",
      "metadata": {
        "colab": {
          "base_uri": "https://localhost:8080/"
        },
        "id": "yz-CYcdaSMWc",
        "outputId": "e36a08d3-c453-42ad-9f93-c95bc0965154"
      },
      "source": [
        "predictions_nb.show()"
      ],
      "id": "yz-CYcdaSMWc",
      "execution_count": 31,
      "outputs": [
        {
          "output_type": "stream",
          "name": "stdout",
          "text": [
            "+--------------------+--------------------+--------------------+--------------------+--------------------+--------------------+----------+\n",
            "|                text|               words|         rawFeatures|            features|       rawPrediction|         probability|prediction|\n",
            "+--------------------+--------------------+--------------------+--------------------+--------------------+--------------------+----------+\n",
            "|KRE: I Still Have...|[kre:, i, still, ...|(11788,[5,202,262...|(11788,[5,202,262...|[-349.58109172620...|[2.71206616701219...|       1.0|\n",
            "|Dividend Sleuthin...|[dividend, sleuth...|(11788,[53,1006,5...|(11788,[53,1006,5...|[-151.85753904470...|[0.39384942746855...|       1.0|\n",
            "|Iteris, Inc. (ITI...|[iteris,, inc., (...|(11788,[7,13,14,1...|(11788,[7,13,14,1...|[-195.43206289866...|[0.99999999999584...|       0.0|\n",
            "|Orion Energy Syst...|[orion, energy, s...|(11788,[7,13,14,1...|(11788,[7,13,14,1...|[-261.87000605486...|[0.99999999999999...|       0.0|\n",
            "|TSMC says has beg...|[tsmc, says, has,...|(11788,[12,31,94,...|(11788,[12,31,94,...|[-485.89482192186...|[9.1330674417777E...|       1.0|\n",
            "|TSMC Pushes Ahead...|[tsmc, pushes, ah...|(11788,[10,294,91...|(11788,[10,294,91...|[-335.22348954781...|[3.15817071327221...|       2.0|\n",
            "|Digital Turbine, ...|[digital, turbine...|(11788,[7,13,19,2...|(11788,[7,13,19,2...|[-267.51338291154...|[0.99999999999999...|       0.0|\n",
            "|Malaysia's AirAsi...|[malaysia's, aira...|(11788,[5,63,290,...|(11788,[5,63,290,...|[-429.71043561703...|[0.00183221763497...|       2.0|\n",
            "|Medallia, Inc. (M...|[medallia,, inc.,...|(11788,[7,14,19,2...|(11788,[7,14,19,2...|[-233.80628354747...|[0.99999999999946...|       0.0|\n",
            "|Oil prices rise o...|[oil, prices, ris...|(11788,[7,107,195...|(11788,[7,107,195...|[-268.94847115528...|[2.89560405818866...|       1.0|\n",
            "|Tryp Therapeutics...|[tryp, therapeuti...|(11788,[0,1,12,17...|(11788,[0,1,12,17...|[-232.53240059596...|[1.0,1.1165990340...|       0.0|\n",
            "|Elementos confirm...|[elementos, confi...|(11788,[4,12,184,...|(11788,[4,12,184,...|[-518.19606957345...|[0.99999999999921...|       0.0|\n",
            "|Cardinal Energy L...|[cardinal, energy...|(11788,[11,83,141...|(11788,[11,83,141...|[-223.72094649256...|[0.99999999989100...|       0.0|\n",
            "|Why Should AMC Ha...|[why, should, amc...|(11788,[1,8,15,24...|(11788,[1,8,15,24...|[-521.37112585848...|[4.51326888721635...|       1.0|\n",
            "|GDX: Multi-Year B...|[gdx:, multi-year...|(11788,[55,94,962...|(11788,[55,94,962...|[-187.69182190279...|[8.68204879657690...|       1.0|\n",
            "|Tortoise Provides...|[tortoise, provid...|(11788,[2,4,5,13,...|(11788,[2,4,5,13,...|[-668.39022249529...|[0.99999999999846...|       0.0|\n",
            "|Vanguard Total Wo...|[vanguard, total,...|(11788,[8,46,62,6...|(11788,[8,46,62,6...|[-396.40226594586...|[4.06255209154892...|       1.0|\n",
            "|Oil Hits Two-And-...|[oil, hits, two-a...|(11788,[119,191,3...|(11788,[119,191,3...|[-167.20769353903...|[3.06927346845027...|       1.0|\n",
            "|Hewlett Packard E...|[hewlett, packard...|(11788,[7,13,19,2...|(11788,[7,13,19,2...|[-424.75845537963...|[0.99872523155652...|       0.0|\n",
            "|The SEC told Tesl...|[the, sec, told, ...|(11788,[1,45,69,1...|(11788,[1,45,69,1...|[-633.25653201057...|[1.36332824250250...|       2.0|\n",
            "+--------------------+--------------------+--------------------+--------------------+--------------------+--------------------+----------+\n",
            "only showing top 20 rows\n",
            "\n"
          ]
        }
      ]
    },
    {
      "cell_type": "code",
      "metadata": {
        "colab": {
          "base_uri": "https://localhost:8080/"
        },
        "id": "CcrYLPB4TVV7",
        "outputId": "297d8151-192e-4305-d513-c41c3cc01e7b"
      },
      "source": [
        "predictions_nb_df = predictions_nb.select('prediction', 'text','words')\n",
        "predictions_nb_df.show(5)"
      ],
      "id": "CcrYLPB4TVV7",
      "execution_count": 32,
      "outputs": [
        {
          "output_type": "stream",
          "name": "stdout",
          "text": [
            "+----------+--------------------+--------------------+\n",
            "|prediction|                text|               words|\n",
            "+----------+--------------------+--------------------+\n",
            "|       1.0|KRE: I Still Have...|[kre:, i, still, ...|\n",
            "|       1.0|Dividend Sleuthin...|[dividend, sleuth...|\n",
            "|       0.0|Iteris, Inc. (ITI...|[iteris,, inc., (...|\n",
            "|       0.0|Orion Energy Syst...|[orion, energy, s...|\n",
            "|       1.0|TSMC says has beg...|[tsmc, says, has,...|\n",
            "+----------+--------------------+--------------------+\n",
            "only showing top 5 rows\n",
            "\n"
          ]
        }
      ]
    },
    {
      "cell_type": "code",
      "metadata": {
        "colab": {
          "base_uri": "https://localhost:8080/"
        },
        "id": "x3LNZIg_Q18L",
        "outputId": "d5d16760-415f-4c9a-d2af-9b59320bfe78"
      },
      "source": [
        "predictions_nb_df.createOrReplaceTempView('temp')\n",
        "predictions_nb_df1 = spark.sql('select case prediction when \"1.0\" then \"Positive\"  when \"2.0\" then \"Negative\" else \"Neutral\" end as predicted_label, text, words from temp')\n",
        "predictions_nb_df1.show(20, truncate = False)"
      ],
      "id": "x3LNZIg_Q18L",
      "execution_count": 33,
      "outputs": [
        {
          "output_type": "stream",
          "name": "stdout",
          "text": [
            "+---------------+----------------------------------------------------------------------------------------------------------------------------------------------+-----------------------------------------------------------------------------------------------------------------------------------------------------------------------+\n",
            "|predicted_label|text                                                                                                                                          |words                                                                                                                                                                  |\n",
            "+---------------+----------------------------------------------------------------------------------------------------------------------------------------------+-----------------------------------------------------------------------------------------------------------------------------------------------------------------------+\n",
            "|Positive       |KRE: I Still Have Love For Regional Banks                                                                                                     |[kre:, i, still, have, love, for, regional, banks]                                                                                                                     |\n",
            "|Positive       |Dividend Sleuthing: Texas Instruments                                                                                                         |[dividend, sleuthing:, texas, instruments]                                                                                                                             |\n",
            "|Neutral        |Iteris, Inc. (ITI) CEO Joe Bergera on Q4 2021 Results - Earnings Call Transcript                                                              |[iteris,, inc., (iti), ceo, joe, bergera, on, q4, 2021, results, -, earnings, call, transcript]                                                                        |\n",
            "|Neutral        |Orion Energy Systems, Inc. (OESX) CEO Michael Altschaefl on Q1 2021 Results - Earnings Call Transcript                                        |[orion, energy, systems,, inc., (oesx), ceo, michael, altschaefl, on, q1, 2021, results, -, earnings, call, transcript]                                                |\n",
            "|Positive       |TSMC says has begun construction at its Arizona chip factory site                                                                             |[tsmc, says, has, begun, construction, at, its, arizona, chip, factory, site]                                                                                          |\n",
            "|Negative       |TSMC Pushes Ahead With Arizona Plant                                                                                                          |[tsmc, pushes, ahead, with, arizona, plant]                                                                                                                            |\n",
            "|Neutral        |Digital Turbine, Inc.'s (APPS) CEO Bill Stone on Q4 2021 Results - Earnings Call Transcript                                                   |[digital, turbine,, inc.'s, (apps), ceo, bill, stone, on, q4, 2021, results, -, earnings, call, transcript]                                                            |\n",
            "|Negative       |Malaysia's AirAsia X gets shareholder go-ahead for restructuring plan                                                                         |[malaysia's, airasia, x, gets, shareholder, go-ahead, for, restructuring, plan]                                                                                        |\n",
            "|Neutral        |Medallia, Inc. (MDLA) CEO Leslie Stretch on Q1 2022 Results - Earnings Call Transcript                                                        |[medallia,, inc., (mdla), ceo, leslie, stretch, on, q1, 2022, results, -, earnings, call, transcript]                                                                  |\n",
            "|Positive       |Oil prices rise on OPEC+ discipline, strong demand outlook                                                                                    |[oil, prices, rise, on, opec+, discipline,, strong, demand, outlook]                                                                                                   |\n",
            "|Neutral        |Tryp Therapeutics to Present at the H.C. Wainwright Psychedelics Conference                                                                   |[tryp, therapeutics, to, present, at, the, h.c., wainwright, psychedelics, conference]                                                                                 |\n",
            "|Neutral        |Elementos confirms broad tin zones at Oropesa Project and begins feasibility development programs                                             |[elementos, confirms, broad, tin, zones, at, oropesa, project, and, begins, feasibility, development, programs]                                                        |\n",
            "|Neutral        |Cardinal Energy Ltd. Announces Strategic Acquisition                                                                                          |[cardinal, energy, ltd., announces, strategic, acquisition]                                                                                                            |\n",
            "|Positive       |Why Should AMC Have All The Fun? BlackBerry Stock Skyrockets Amid Heightened WSB Interest                                                     |[why, should, amc, have, all, the, fun?, blackberry, stock, skyrockets, amid, heightened, wsb, interest]                                                               |\n",
            "|Positive       |GDX: Multi-Year Bull Market Has Resumed                                                                                                       |[gdx:, multi-year, bull, market, has, resumed]                                                                                                                         |\n",
            "|Neutral        |Tortoise Provides Unaudited Balance Sheet Information and Asset Coverage Ratio Updates as of May 31, 2021 for TYG, NTG, TTP, NDP, TPZ and TEAF|[tortoise, provides, unaudited, balance, sheet, information, and, asset, coverage, ratio, updates, as, of, may, 31,, 2021, for, tyg,, ntg,, ttp,, ndp,, tpz, and, teaf]|\n",
            "|Positive       |Vanguard Total World Stock ETF: Value Meets Growth                                                                                            |[vanguard, total, world, stock, etf:, value, meets, growth]                                                                                                            |\n",
            "|Positive       |Oil Hits Two-And-A-Half Year High                                                                                                             |[oil, hits, two-and-a-half, year, high]                                                                                                                                |\n",
            "|Neutral        |Hewlett Packard Enterprise Company (HPE) CEO Antonio Neri on Q2 2021 Results - Earnings Call Transcript                                       |[hewlett, packard, enterprise, company, (hpe), ceo, antonio, neri, on, q2, 2021, results, -, earnings, call, transcript]                                               |\n",
            "|Negative       |The SEC told Tesla twice that Elon Musk's tweets violated court orders requiring preapproval from company lawyers (TSLA)                      |[the, sec, told, tesla, twice, that, elon, musk's, tweets, violated, court, orders, requiring, preapproval, from, company, lawyers, (tsla)]                            |\n",
            "+---------------+----------------------------------------------------------------------------------------------------------------------------------------------+-----------------------------------------------------------------------------------------------------------------------------------------------------------------------+\n",
            "only showing top 20 rows\n",
            "\n"
          ]
        }
      ]
    },
    {
      "cell_type": "code",
      "metadata": {
        "id": "OeMfDuqTTVUv",
        "colab": {
          "base_uri": "https://localhost:8080/"
        },
        "outputId": "b7a1a5a4-d9a7-4bb8-b370-4863eecef4c1"
      },
      "source": [
        "predictions_nb_df1.groupBy('predicted_label').count().show()"
      ],
      "id": "OeMfDuqTTVUv",
      "execution_count": 34,
      "outputs": [
        {
          "output_type": "stream",
          "name": "stdout",
          "text": [
            "+---------------+-----+\n",
            "|predicted_label|count|\n",
            "+---------------+-----+\n",
            "|       Positive| 2049|\n",
            "|        Neutral| 2907|\n",
            "|       Negative|  344|\n",
            "+---------------+-----+\n",
            "\n"
          ]
        }
      ]
    },
    {
      "cell_type": "code",
      "metadata": {
        "id": "nkv7BDfeQ19Z"
      },
      "source": [
        "predictions_nb_df1.toPandas().to_csv('delta-emerg-to-now_predictions_count_vector_naive_bayes_model.csv')"
      ],
      "id": "nkv7BDfeQ19Z",
      "execution_count": 35,
      "outputs": []
    }
  ]
}