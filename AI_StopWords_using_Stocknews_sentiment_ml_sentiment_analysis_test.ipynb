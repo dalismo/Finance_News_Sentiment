{
  "nbformat": 4,
  "nbformat_minor": 5,
  "metadata": {
    "kernelspec": {
      "display_name": "Python 3",
      "language": "python",
      "name": "python3"
    },
    "language_info": {
      "codemirror_mode": {
        "name": "ipython",
        "version": 3
      },
      "file_extension": ".py",
      "mimetype": "text/x-python",
      "name": "python",
      "nbconvert_exporter": "python",
      "pygments_lexer": "ipython3",
      "version": "3.8.8"
    },
    "colab": {
      "name": "AI_StopWords_using_Stocknews_sentiment_ml_sentiment_analysis_test.ipynb",
      "provenance": [],
      "collapsed_sections": [],
      "include_colab_link": true
    }
  },
  "cells": [
    {
      "cell_type": "markdown",
      "metadata": {
        "id": "view-in-github",
        "colab_type": "text"
      },
      "source": [
        "<a href=\"https://colab.research.google.com/github/dalismo/Finance_News_Sentiment/blob/ai%2Fworking_on_count_vector/AI_StopWords_using_Stocknews_sentiment_ml_sentiment_analysis_test.ipynb\" target=\"_parent\"><img src=\"https://colab.research.google.com/assets/colab-badge.svg\" alt=\"Open In Colab\"/></a>"
      ]
    },
    {
      "cell_type": "code",
      "metadata": {
        "colab": {
          "base_uri": "https://localhost:8080/"
        },
        "id": "b7676daf",
        "outputId": "ef770083-8781-4ffd-da65-0f72c5c8fcf6"
      },
      "source": [
        "import pandas as pd\n",
        "\n",
        "import os\n",
        "# Find the latest version of spark 3.0  from http://www.apache.org/dist/spark/ and enter as the spark version\n",
        "# For example:\n",
        "# spark_version = 'spark-3.0.3'\n",
        "spark_version = 'spark-3.0.3'\n",
        "os.environ['SPARK_VERSION']=spark_version\n",
        "\n",
        "# Install Spark and Java\n",
        "!apt-get update\n",
        "!apt-get install openjdk-11-jdk-headless -qq > /dev/null\n",
        "!wget -q http://www.apache.org/dist/spark/$SPARK_VERSION/$SPARK_VERSION-bin-hadoop2.7.tgz\n",
        "!tar xf $SPARK_VERSION-bin-hadoop2.7.tgz\n",
        "!pip install -q findspark\n",
        "\n",
        "# Set Environment Variables\n",
        "os.environ[\"JAVA_HOME\"] = \"/usr/lib/jvm/java-11-openjdk-amd64\"\n",
        "os.environ[\"SPARK_HOME\"] = f\"/content/{spark_version}-bin-hadoop2.7\"\n",
        "\n",
        "# Start a SparkSession\n",
        "import findspark\n",
        "findspark.init()"
      ],
      "id": "b7676daf",
      "execution_count": 1,
      "outputs": [
        {
          "output_type": "stream",
          "name": "stdout",
          "text": [
            "\r0% [Working]\r            \rGet:1 http://ppa.launchpad.net/c2d4u.team/c2d4u4.0+/ubuntu bionic InRelease [15.9 kB]\n",
            "\r0% [Waiting for headers] [Connecting to security.ubuntu.com (91.189.91.39)] [Co\r                                                                               \rHit:2 http://archive.ubuntu.com/ubuntu bionic InRelease\n",
            "\r0% [Connecting to security.ubuntu.com (91.189.91.39)] [Connected to cloud.r-pro\r                                                                               \rGet:3 http://archive.ubuntu.com/ubuntu bionic-updates InRelease [88.7 kB]\n",
            "\r0% [3 InRelease 66.3 kB/88.7 kB 75%] [Connecting to security.ubuntu.com (91.189\r                                                                               \rHit:4 http://ppa.launchpad.net/cran/libgit2/ubuntu bionic InRelease\n",
            "\r0% [2 InRelease gpgv 242 kB] [3 InRelease 80.8 kB/88.7 kB 91%] [Connecting to s\r0% [2 InRelease gpgv 242 kB] [Waiting for headers] [Connecting to security.ubun\r                                                                               \rGet:5 http://archive.ubuntu.com/ubuntu bionic-backports InRelease [74.6 kB]\n",
            "\r0% [2 InRelease gpgv 242 kB] [5 InRelease 20.0 kB/74.6 kB 27%] [Connecting to s\r                                                                               \rGet:6 https://cloud.r-project.org/bin/linux/ubuntu bionic-cran40/ InRelease [3,626 B]\n",
            "\r0% [2 InRelease gpgv 242 kB] [5 InRelease 50.4 kB/74.6 kB 68%] [Connecting to s\r0% [2 InRelease gpgv 242 kB] [Connecting to security.ubuntu.com (91.189.91.39)]\r                                                                               \rGet:7 http://ppa.launchpad.net/deadsnakes/ppa/ubuntu bionic InRelease [15.9 kB]\n",
            "Hit:8 http://ppa.launchpad.net/graphics-drivers/ppa/ubuntu bionic InRelease\n",
            "Get:9 http://security.ubuntu.com/ubuntu bionic-security InRelease [88.7 kB]\n",
            "Ign:10 https://developer.download.nvidia.com/compute/cuda/repos/ubuntu1804/x86_64  InRelease\n",
            "Ign:11 https://developer.download.nvidia.com/compute/machine-learning/repos/ubuntu1804/x86_64  InRelease\n",
            "Get:12 https://developer.download.nvidia.com/compute/cuda/repos/ubuntu1804/x86_64  Release [696 B]\n",
            "Hit:13 https://developer.download.nvidia.com/compute/machine-learning/repos/ubuntu1804/x86_64  Release\n",
            "Get:14 https://developer.download.nvidia.com/compute/cuda/repos/ubuntu1804/x86_64  Release.gpg [836 B]\n",
            "Get:15 http://ppa.launchpad.net/c2d4u.team/c2d4u4.0+/ubuntu bionic/main Sources [1,799 kB]\n",
            "Get:16 http://ppa.launchpad.net/c2d4u.team/c2d4u4.0+/ubuntu bionic/main amd64 Packages [921 kB]\n",
            "Get:17 http://archive.ubuntu.com/ubuntu bionic-updates/main amd64 Packages [2,755 kB]\n",
            "Get:18 http://archive.ubuntu.com/ubuntu bionic-updates/universe amd64 Packages [2,202 kB]\n",
            "Get:19 http://archive.ubuntu.com/ubuntu bionic-updates/restricted amd64 Packages [593 kB]\n",
            "Get:20 http://ppa.launchpad.net/deadsnakes/ppa/ubuntu bionic/main amd64 Packages [40.8 kB]\n",
            "Get:21 http://security.ubuntu.com/ubuntu bionic-security/universe amd64 Packages [1,428 kB]\n",
            "Get:23 https://developer.download.nvidia.com/compute/cuda/repos/ubuntu1804/x86_64  Packages [717 kB]\n",
            "Get:24 http://security.ubuntu.com/ubuntu bionic-security/main amd64 Packages [2,320 kB]\n",
            "Get:25 http://security.ubuntu.com/ubuntu bionic-security/restricted amd64 Packages [560 kB]\n",
            "Fetched 13.6 MB in 4s (3,783 kB/s)\n",
            "Reading package lists... Done\n"
          ]
        }
      ]
    },
    {
      "cell_type": "code",
      "metadata": {
        "id": "CvoLwz9S0gwE"
      },
      "source": [
        "# Start Spark session\n",
        "from pyspark.sql import SparkSession\n",
        "# spark = SparkSession.builder.appName(\"StopWords\").getOrCreate()\n",
        "spark = SparkSession.builder.appName(\"NaiveBayes\").getOrCreate()"
      ],
      "id": "CvoLwz9S0gwE",
      "execution_count": 2,
      "outputs": []
    },
    {
      "cell_type": "code",
      "metadata": {
        "id": "69qSAC1R1EgS"
      },
      "source": [
        "from pyspark.ml.feature import Tokenizer, StopWordsRemover"
      ],
      "id": "69qSAC1R1EgS",
      "execution_count": 3,
      "outputs": []
    },
    {
      "cell_type": "code",
      "metadata": {
        "colab": {
          "base_uri": "https://localhost:8080/"
        },
        "id": "mODaD0re3ulm",
        "outputId": "b8f34e16-f6ec-4adc-b644-e27d41c9bed2"
      },
      "source": [
        "# Read in data from S3 Buckets\n",
        "from pyspark import SparkFiles\n",
        "\n",
        "url = 'https://raw.githubusercontent.com/dalismo/Finance_News_Sentiment/main/Resources/sentiment.csv'\n",
        "# df = pd.read_csv(url,encoding='latin-1', header=None)\n",
        "# url =\"https://s3.amazonaws.com/dataviz-curriculum/day_2/yelp_reviews.csv\"\n",
        "spark.sparkContext.addFile(url)\n",
        "df = spark.read.csv(SparkFiles.get(\"sentiment.csv\"), sep=\",\", header=None)\n",
        "\n",
        "# Show DataFrame\n",
        "df.show()"
      ],
      "id": "mODaD0re3ulm",
      "execution_count": 5,
      "outputs": [
        {
          "output_type": "stream",
          "name": "stdout",
          "text": [
            "+--------+--------------------+\n",
            "|     _c0|                 _c1|\n",
            "+--------+--------------------+\n",
            "|Positive|Blue Shield of Ca...|\n",
            "|Positive|RSX: Russian Equi...|\n",
            "|Positive|XLB: Hold Your Po...|\n",
            "|Positive|Musgrave Minerals...|\n",
            "|Positive|ViacomCBS to rest...|\n",
            "|Positive|Oil climbs to one...|\n",
            "|Negative|Australian regula...|\n",
            "|Positive|The Wall Street J...|\n",
            "|Positive|Ora Banda Mining ...|\n",
            "|Positive|Google Pay Plans ...|\n",
            "|Negative|Toyota, Honda Ang...|\n",
            "| Neutral|ZY Investor Alert...|\n",
            "| Neutral|Calima Energy spu...|\n",
            "|Positive|These Marijuana S...|\n",
            "|Positive|Moderna ETFs to R...|\n",
            "| Neutral|MacroGenics Annou...|\n",
            "| Neutral|Zymeworks Announc...|\n",
            "| Neutral|BioXcel Therapeut...|\n",
            "| Neutral|Merck to Present ...|\n",
            "| Neutral|BeiGene to Presen...|\n",
            "+--------+--------------------+\n",
            "only showing top 20 rows\n",
            "\n"
          ]
        }
      ]
    },
    {
      "cell_type": "code",
      "metadata": {
        "colab": {
          "base_uri": "https://localhost:8080/"
        },
        "id": "4BbzYExyNYCR",
        "outputId": "fc5d8a09-4182-4455-9e7d-c8158517cfaf"
      },
      "source": [
        "from pyspark.sql.functions import length\n",
        "# Create a length column to be used as a future feature \n",
        "data_df = df.withColumn('length', length(df['_c1']))\n",
        "data_df.show()"
      ],
      "id": "4BbzYExyNYCR",
      "execution_count": 6,
      "outputs": [
        {
          "output_type": "stream",
          "name": "stdout",
          "text": [
            "+--------+--------------------+------+\n",
            "|     _c0|                 _c1|length|\n",
            "+--------+--------------------+------+\n",
            "|Positive|Blue Shield of Ca...|    80|\n",
            "|Positive|RSX: Russian Equi...|    43|\n",
            "|Positive|XLB: Hold Your Po...|    23|\n",
            "|Positive|Musgrave Minerals...|   101|\n",
            "|Positive|ViacomCBS to rest...|    49|\n",
            "|Positive|Oil climbs to one...|    51|\n",
            "|Negative|Australian regula...|    67|\n",
            "|Positive|The Wall Street J...|    90|\n",
            "|Positive|Ora Banda Mining ...|    50|\n",
            "|Positive|Google Pay Plans ...|    43|\n",
            "|Negative|Toyota, Honda Ang...|    69|\n",
            "| Neutral|ZY Investor Alert...|    44|\n",
            "| Neutral|Calima Energy spu...|    58|\n",
            "|Positive|These Marijuana S...|    56|\n",
            "|Positive|Moderna ETFs to R...|    61|\n",
            "| Neutral|MacroGenics Annou...|    72|\n",
            "| Neutral|Zymeworks Announc...|   173|\n",
            "| Neutral|BioXcel Therapeut...|   130|\n",
            "| Neutral|Merck to Present ...|    80|\n",
            "| Neutral|BeiGene to Presen...|    88|\n",
            "+--------+--------------------+------+\n",
            "only showing top 20 rows\n",
            "\n"
          ]
        }
      ]
    },
    {
      "cell_type": "code",
      "metadata": {
        "colab": {
          "base_uri": "https://localhost:8080/"
        },
        "id": "HiCnjIddrflT",
        "outputId": "18cc6481-7bfe-49bd-fb72-52a95a4509dc"
      },
      "source": [
        "df2 = data_df.withColumnRenamed(\"_c0\", \"class\").withColumnRenamed(\"_c1\", \"text\")\n",
        "df2.printSchema()\n",
        "df2.show()\n"
      ],
      "id": "HiCnjIddrflT",
      "execution_count": 7,
      "outputs": [
        {
          "output_type": "stream",
          "name": "stdout",
          "text": [
            "root\n",
            " |-- class: string (nullable = true)\n",
            " |-- text: string (nullable = true)\n",
            " |-- length: integer (nullable = true)\n",
            "\n",
            "+--------+--------------------+------+\n",
            "|   class|                text|length|\n",
            "+--------+--------------------+------+\n",
            "|Positive|Blue Shield of Ca...|    80|\n",
            "|Positive|RSX: Russian Equi...|    43|\n",
            "|Positive|XLB: Hold Your Po...|    23|\n",
            "|Positive|Musgrave Minerals...|   101|\n",
            "|Positive|ViacomCBS to rest...|    49|\n",
            "|Positive|Oil climbs to one...|    51|\n",
            "|Negative|Australian regula...|    67|\n",
            "|Positive|The Wall Street J...|    90|\n",
            "|Positive|Ora Banda Mining ...|    50|\n",
            "|Positive|Google Pay Plans ...|    43|\n",
            "|Negative|Toyota, Honda Ang...|    69|\n",
            "| Neutral|ZY Investor Alert...|    44|\n",
            "| Neutral|Calima Energy spu...|    58|\n",
            "|Positive|These Marijuana S...|    56|\n",
            "|Positive|Moderna ETFs to R...|    61|\n",
            "| Neutral|MacroGenics Annou...|    72|\n",
            "| Neutral|Zymeworks Announc...|   173|\n",
            "| Neutral|BioXcel Therapeut...|   130|\n",
            "| Neutral|Merck to Present ...|    80|\n",
            "| Neutral|BeiGene to Presen...|    88|\n",
            "+--------+--------------------+------+\n",
            "only showing top 20 rows\n",
            "\n"
          ]
        }
      ]
    },
    {
      "cell_type": "code",
      "metadata": {
        "id": "0b_Bcnt2yZge"
      },
      "source": [
        "# Tokenize DataFrame\n",
        "tokenizer = Tokenizer(inputCol=\"text\", outputCol=\"Words\")"
      ],
      "id": "0b_Bcnt2yZge",
      "execution_count": 8,
      "outputs": []
    },
    {
      "cell_type": "code",
      "metadata": {
        "colab": {
          "base_uri": "https://localhost:8080/"
        },
        "id": "hprnksa5ygg3",
        "outputId": "b9bbcdad-8da8-44cb-c86d-0312edb3c9c6"
      },
      "source": [
        "# Transform DataFrame\n",
        "reviewed = tokenizer.transform(df2)\n",
        "reviewed.show()"
      ],
      "id": "hprnksa5ygg3",
      "execution_count": 9,
      "outputs": [
        {
          "output_type": "stream",
          "name": "stdout",
          "text": [
            "+--------+--------------------+------+--------------------+\n",
            "|   class|                text|length|               Words|\n",
            "+--------+--------------------+------+--------------------+\n",
            "|Positive|Blue Shield of Ca...|    80|[blue, shield, of...|\n",
            "|Positive|RSX: Russian Equi...|    43|[rsx:, russian, e...|\n",
            "|Positive|XLB: Hold Your Po...|    23|[xlb:, hold, your...|\n",
            "|Positive|Musgrave Minerals...|   101|[musgrave, minera...|\n",
            "|Positive|ViacomCBS to rest...|    49|[viacomcbs, to, r...|\n",
            "|Positive|Oil climbs to one...|    51|[oil, climbs, to,...|\n",
            "|Negative|Australian regula...|    67|[australian, regu...|\n",
            "|Positive|The Wall Street J...|    90|[the, wall, stree...|\n",
            "|Positive|Ora Banda Mining ...|    50|[ora, banda, mini...|\n",
            "|Positive|Google Pay Plans ...|    43|[google, pay, pla...|\n",
            "|Negative|Toyota, Honda Ang...|    69|[toyota,, honda, ...|\n",
            "| Neutral|ZY Investor Alert...|    44|[zy, investor, al...|\n",
            "| Neutral|Calima Energy spu...|    58|[calima, energy, ...|\n",
            "|Positive|These Marijuana S...|    56|[these, marijuana...|\n",
            "|Positive|Moderna ETFs to R...|    61|[moderna, etfs, t...|\n",
            "| Neutral|MacroGenics Annou...|    72|[macrogenics, ann...|\n",
            "| Neutral|Zymeworks Announc...|   173|[zymeworks, annou...|\n",
            "| Neutral|BioXcel Therapeut...|   130|[bioxcel, therape...|\n",
            "| Neutral|Merck to Present ...|    80|[merck, to, prese...|\n",
            "| Neutral|BeiGene to Presen...|    88|[beigene, to, pre...|\n",
            "+--------+--------------------+------+--------------------+\n",
            "only showing top 20 rows\n",
            "\n"
          ]
        }
      ]
    },
    {
      "cell_type": "code",
      "metadata": {
        "id": "OC0U0xzcyrOT"
      },
      "source": [
        "# Remove stop words\n",
        "stopremove = StopWordsRemover(inputCol=\"Words\", outputCol=\"filtered\")"
      ],
      "id": "OC0U0xzcyrOT",
      "execution_count": 10,
      "outputs": []
    },
    {
      "cell_type": "code",
      "metadata": {
        "colab": {
          "base_uri": "https://localhost:8080/"
        },
        "id": "e9kjg7Fvyvif",
        "outputId": "5a1d2543-2265-4e92-bc75-aacd489b9574"
      },
      "source": [
        "# Transform new DataFrame\n",
        "newFrame = stopremove.transform(reviewed)\n",
        "newFrame.show()"
      ],
      "id": "e9kjg7Fvyvif",
      "execution_count": 11,
      "outputs": [
        {
          "output_type": "stream",
          "name": "stdout",
          "text": [
            "+--------+--------------------+------+--------------------+--------------------+\n",
            "|   class|                text|length|               Words|            filtered|\n",
            "+--------+--------------------+------+--------------------+--------------------+\n",
            "|Positive|Blue Shield of Ca...|    80|[blue, shield, of...|[blue, shield, ca...|\n",
            "|Positive|RSX: Russian Equi...|    43|[rsx:, russian, e...|[rsx:, russian, e...|\n",
            "|Positive|XLB: Hold Your Po...|    23|[xlb:, hold, your...|[xlb:, hold, posi...|\n",
            "|Positive|Musgrave Minerals...|   101|[musgrave, minera...|[musgrave, minera...|\n",
            "|Positive|ViacomCBS to rest...|    49|[viacomcbs, to, r...|[viacomcbs, restr...|\n",
            "|Positive|Oil climbs to one...|    51|[oil, climbs, to,...|[oil, climbs, one...|\n",
            "|Negative|Australian regula...|    67|[australian, regu...|[australian, regu...|\n",
            "|Positive|The Wall Street J...|    90|[the, wall, stree...|[wall, street, jo...|\n",
            "|Positive|Ora Banda Mining ...|    50|[ora, banda, mini...|[ora, banda, mini...|\n",
            "|Positive|Google Pay Plans ...|    43|[google, pay, pla...|[google, pay, pla...|\n",
            "|Negative|Toyota, Honda Ang...|    69|[toyota,, honda, ...|[toyota,, honda, ...|\n",
            "| Neutral|ZY Investor Alert...|    44|[zy, investor, al...|[zy, investor, al...|\n",
            "| Neutral|Calima Energy spu...|    58|[calima, energy, ...|[calima, energy, ...|\n",
            "|Positive|These Marijuana S...|    56|[these, marijuana...|[marijuana, stock...|\n",
            "|Positive|Moderna ETFs to R...|    61|[moderna, etfs, t...|[moderna, etfs, r...|\n",
            "| Neutral|MacroGenics Annou...|    72|[macrogenics, ann...|[macrogenics, ann...|\n",
            "| Neutral|Zymeworks Announc...|   173|[zymeworks, annou...|[zymeworks, annou...|\n",
            "| Neutral|BioXcel Therapeut...|   130|[bioxcel, therape...|[bioxcel, therape...|\n",
            "| Neutral|Merck to Present ...|    80|[merck, to, prese...|[merck, present, ...|\n",
            "| Neutral|BeiGene to Presen...|    88|[beigene, to, pre...|[beigene, present...|\n",
            "+--------+--------------------+------+--------------------+--------------------+\n",
            "only showing top 20 rows\n",
            "\n"
          ]
        }
      ]
    },
    {
      "cell_type": "code",
      "metadata": {
        "id": "59dwxefsNYCX"
      },
      "source": [
        "from pyspark.ml.feature import Tokenizer, StopWordsRemover, HashingTF, IDF, StringIndexer\n",
        "# Create all the features to the data set\n",
        "pos_neg_to_num = StringIndexer(inputCol='class',outputCol='label')\n",
        "# tokenizer = Tokenizer(inputCol=\"text\", outputCol=\"token_text\")\n",
        "# stopremove = StopWordsRemover(inputCol='token_text',outputCol='stop_tokens')\n",
        "hashingTF = HashingTF(inputCol=\"filtered\", outputCol='hash_token')\n",
        "idf = IDF(inputCol='hash_token', outputCol='idf_token')\n"
      ],
      "id": "59dwxefsNYCX",
      "execution_count": 12,
      "outputs": []
    },
    {
      "cell_type": "code",
      "metadata": {
        "id": "yssO0_Q5NYCb"
      },
      "source": [
        "from pyspark.ml.feature import VectorAssembler\n",
        "from pyspark.ml.linalg import Vector\n",
        "\n",
        "# Create feature vectors\n",
        "clean_up = VectorAssembler(inputCols=['idf_token', 'length'], outputCol='features')"
      ],
      "id": "yssO0_Q5NYCb",
      "execution_count": 13,
      "outputs": []
    },
    {
      "cell_type": "code",
      "metadata": {
        "id": "E_YyUpR3NYCf"
      },
      "source": [
        "# Create a and run a data processing Pipeline\n",
        "from pyspark.ml import Pipeline\n",
        "data_prep_pipeline = Pipeline(stages=[pos_neg_to_num, tokenizer, stopremove, hashingTF, idf, clean_up])"
      ],
      "id": "E_YyUpR3NYCf",
      "execution_count": 14,
      "outputs": []
    },
    {
      "cell_type": "code",
      "metadata": {
        "id": "AzpTj5z1tuu0"
      },
      "source": [
        "# Fit and transform the pipeline\n",
        "cleaner = data_prep_pipeline.fit(df2)\n",
        "cleaned = cleaner.transform(df2)"
      ],
      "id": "AzpTj5z1tuu0",
      "execution_count": 15,
      "outputs": []
    },
    {
      "cell_type": "code",
      "metadata": {
        "colab": {
          "base_uri": "https://localhost:8080/"
        },
        "id": "kDODyxF7NYCn",
        "outputId": "0d7ca149-2103-4b8f-a095-71285ff2a175"
      },
      "source": [
        "# Show label and resulting features\n",
        "cleaned.select(['label', 'features']).show()"
      ],
      "id": "kDODyxF7NYCn",
      "execution_count": 16,
      "outputs": [
        {
          "output_type": "stream",
          "name": "stdout",
          "text": [
            "+-----+--------------------+\n",
            "|label|            features|\n",
            "+-----+--------------------+\n",
            "|  1.0|(262145,[43204,50...|\n",
            "|  1.0|(262145,[31536,12...|\n",
            "|  1.0|(262145,[619,5765...|\n",
            "|  1.0|(262145,[57093,58...|\n",
            "|  1.0|(262145,[38640,57...|\n",
            "|  1.0|(262145,[15862,73...|\n",
            "|  2.0|(262145,[6993,206...|\n",
            "|  1.0|(262145,[38308,63...|\n",
            "|  1.0|(262145,[22459,41...|\n",
            "|  1.0|(262145,[66208,84...|\n",
            "|  2.0|(262145,[3091,636...|\n",
            "|  0.0|(262145,[102692,1...|\n",
            "|  0.0|(262145,[9129,233...|\n",
            "|  1.0|(262145,[16004,89...|\n",
            "|  1.0|(262145,[49185,12...|\n",
            "|  0.0|(262145,[18731,22...|\n",
            "|  0.0|(262145,[31793,45...|\n",
            "|  0.0|(262145,[1097,216...|\n",
            "|  0.0|(262145,[2690,281...|\n",
            "|  0.0|(262145,[26190,51...|\n",
            "+-----+--------------------+\n",
            "only showing top 20 rows\n",
            "\n"
          ]
        }
      ]
    },
    {
      "cell_type": "code",
      "metadata": {
        "id": "WzfCQmrVNYCr"
      },
      "source": [
        "from pyspark.ml.classification import NaiveBayes\n",
        "# Break data down into a training set and a testing set\n",
        "training, testing = cleaned.randomSplit([0.7, 0.3])\n",
        "\n",
        "# Create a Naive Bayes model and fit training data\n",
        "nb = NaiveBayes()\n",
        "predictor = nb.fit(training)"
      ],
      "id": "WzfCQmrVNYCr",
      "execution_count": 17,
      "outputs": []
    },
    {
      "cell_type": "code",
      "metadata": {
        "colab": {
          "base_uri": "https://localhost:8080/"
        },
        "id": "zeckHhg5NYCv",
        "outputId": "c3b3cc1c-df8c-4ce5-ab1a-9fb60f1f1d98"
      },
      "source": [
        "# Tranform the model with the testing data\n",
        "test_results = predictor.transform(testing)\n",
        "test_results.show()"
      ],
      "id": "zeckHhg5NYCv",
      "execution_count": 18,
      "outputs": [
        {
          "output_type": "stream",
          "name": "stdout",
          "text": [
            "+--------+--------------------+------+-----+--------------------+--------------------+--------------------+--------------------+--------------------+--------------------+--------------------+----------+\n",
            "|   class|                text|length|label|               Words|            filtered|          hash_token|           idf_token|            features|       rawPrediction|         probability|prediction|\n",
            "+--------+--------------------+------+-----+--------------------+--------------------+--------------------+--------------------+--------------------+--------------------+--------------------+----------+\n",
            "|Negative|\"Apple rejects Ep...|    72|  2.0|[\"apple, rejects,...|[\"apple, rejects,...|(262144,[15625,38...|(262144,[15625,38...|(262145,[15625,38...|[-862.09154173162...|[1.0,8.7467280457...|       0.0|\n",
            "|Negative|AGNC Investment (...|    75|  2.0|[agnc, investment...|[agnc, investment...|(262144,[50280,13...|(262144,[50280,13...|(262145,[50280,13...|[-503.71649253759...|[0.99999999999999...|       0.0|\n",
            "|Negative|AT&T (T) Dips Mor...|    61|  2.0|[at&t, (t), dips,...|[at&t, (t), dips,...|(262144,[50280,14...|(262144,[50280,14...|(262145,[50280,14...|[-460.30231924073...|[0.30324894849235...|       1.0|\n",
            "|Negative|Acreage Cannabis ...|    82|  2.0|[acreage, cannabi...|[acreage, cannabi...|(262144,[43470,68...|(262144,[43470,68...|(262145,[43470,68...|[-906.65156156460...|[1.0,5.3394984617...|       0.0|\n",
            "|Negative|After FDA Rejecti...|    79|  2.0|[after, fda, reje...|[fda, rejection, ...|(262144,[18697,42...|(262144,[18697,42...|(262145,[18697,42...|[-697.86514260904...|[0.99872553951876...|       0.0|\n",
            "|Negative|Airlines ETF rise...|    95|  2.0|[airlines, etf, r...|[airlines, etf, r...|(262144,[1546,699...|(262144,[1546,699...|(262145,[1546,699...|[-783.27321089195...|[0.99920170803253...|       0.0|\n",
            "|Negative|Airlines downgrad...|    66|  2.0|[airlines, downgr...|[airlines, downgr...|(262144,[6993,105...|(262144,[6993,105...|(262145,[6993,105...|[-577.62866977028...|[1.0,6.5956906617...|       0.0|\n",
            "|Negative|Alphabet (GOOGL) ...|    69|  2.0|[alphabet, (googl...|[alphabet, (googl...|(262144,[50280,11...|(262144,[50280,11...|(262145,[50280,11...|[-470.29179623187...|[0.99999999894797...|       0.0|\n",
            "|Negative|Analysis-Epic's n...|    85|  2.0|[analysis-epic's,...|[analysis-epic's,...|(262144,[77886,89...|(262144,[77886,89...|(262145,[77886,89...|[-884.24086246676...|[1.0,4.7848329450...|       0.0|\n",
            "|Negative|Apellis Pharmaceu...|    90|  2.0|[apellis, pharmac...|[apellis, pharmac...|(262144,[2677,186...|(262144,[2677,186...|(262145,[2677,186...|[-737.75125809283...|[1.0,2.2696493195...|       0.0|\n",
            "|Negative|Apellis Pharmaceu...|    90|  2.0|[apellis, pharmac...|[apellis, pharmac...|(262144,[5381,463...|(262144,[5381,463...|(262145,[5381,463...|[-740.35619393048...|[4.43464451904904...|       1.0|\n",
            "|Negative|Apellis Stock Plu...|    64|  2.0|[apellis, stock, ...|[apellis, stock, ...|(262144,[6679,186...|(262144,[6679,186...|(262145,[6679,186...|[-550.25215906340...|[4.44055806032282...|       1.0|\n",
            "|Negative|Apple And Tesla L...|    41|  2.0|[apple, and, tesl...|[apple, tesla, le...|(262144,[76015,96...|(262144,[76015,96...|(262145,[76015,96...|[-338.79461316030...|[0.99999998084240...|       0.0|\n",
            "|Negative|Apple Must Ease R...|    59|  2.0|[apple, must, eas...|[apple, must, eas...|(262144,[19574,89...|(262144,[19574,89...|(262145,[19574,89...|[-615.79071770596...|[0.94767123156110...|       0.0|\n",
            "|Negative|Apple Ordered to ...|    62|  2.0|[apple, ordered, ...|[apple, ordered, ...|(262144,[89653,13...|(262144,[89653,13...|(262145,[89653,13...|[-590.70340771331...|[0.99999999999997...|       0.0|\n",
            "|Negative|Apple Stock Falls...|    69|  2.0|[apple, stock, fa...|[apple, stock, fa...|(262144,[17435,18...|(262144,[17435,18...|(262145,[17435,18...|[-617.79396423021...|[1.0,7.3939534780...|       0.0|\n",
            "|Negative|Apple drops, Netf...|   115|  2.0|[apple, drops,, n...|[apple, drops,, n...|(262144,[1004,290...|(262144,[1004,290...|(262145,[1004,290...|[-1110.9525648552...|[1.0,1.7907973519...|       0.0|\n",
            "|Negative|Apple fires manag...|    66|  2.0|[apple, fires, ma...|[apple, fires, ma...|(262144,[62532,63...|(262144,[62532,63...|(262145,[62532,63...|[-673.65682386056...|[0.99998379792109...|       0.0|\n",
            "|Negative|Apple's App Store...|    37|  2.0|[apple's, app, st...|[apple's, app, st...|(262144,[12219,89...|(262144,[12219,89...|(262145,[12219,89...|[-457.05045189329...|[0.29067651350598...|       2.0|\n",
            "|Negative|As Pinterest Stoc...|    65|  2.0|[as, pinterest, s...|[pinterest, stock...|(262144,[18697,40...|(262144,[18697,40...|(262145,[18697,40...|[-528.60693896588...|[1.01438399967461...|       1.0|\n",
            "+--------+--------------------+------+-----+--------------------+--------------------+--------------------+--------------------+--------------------+--------------------+--------------------+----------+\n",
            "only showing top 20 rows\n",
            "\n"
          ]
        }
      ]
    },
    {
      "cell_type": "code",
      "metadata": {
        "colab": {
          "base_uri": "https://localhost:8080/"
        },
        "id": "OVFrWcHINYCz",
        "outputId": "7d060a09-c417-4b2a-f1b8-2ee062f8cbac"
      },
      "source": [
        "# Use the Class Evaluator for a cleaner description\n",
        "from pyspark.ml.evaluation import MulticlassClassificationEvaluator\n",
        "\n",
        "acc_eval = MulticlassClassificationEvaluator()\n",
        "acc = acc_eval.evaluate(test_results)\n",
        "print(\"Accuracy of model at predicting reviews was: %f\" % acc)"
      ],
      "id": "OVFrWcHINYCz",
      "execution_count": 19,
      "outputs": [
        {
          "output_type": "stream",
          "name": "stdout",
          "text": [
            "Accuracy of model at predicting reviews was: 0.617614\n"
          ]
        }
      ]
    },
    {
      "cell_type": "code",
      "metadata": {
        "id": "vcJDlyu1utyr"
      },
      "source": [
        ""
      ],
      "id": "vcJDlyu1utyr",
      "execution_count": null,
      "outputs": []
    }
  ]
}