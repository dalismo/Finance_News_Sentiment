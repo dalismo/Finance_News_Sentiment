{
  "nbformat": 4,
  "nbformat_minor": 5,
  "metadata": {
    "kernelspec": {
      "display_name": "Python 3",
      "language": "python",
      "name": "python3"
    },
    "language_info": {
      "codemirror_mode": {
        "name": "ipython",
        "version": 3
      },
      "file_extension": ".py",
      "mimetype": "text/x-python",
      "name": "python",
      "nbconvert_exporter": "python",
      "pygments_lexer": "ipython3",
      "version": "3.8.8"
    },
    "colab": {
      "name": "AI_v3_count_vector_ml_sentiment_analysis_test.ipynb",
      "provenance": [],
      "collapsed_sections": [],
      "include_colab_link": true
    }
  },
  "cells": [
    {
      "cell_type": "markdown",
      "metadata": {
        "id": "view-in-github",
        "colab_type": "text"
      },
      "source": [
        "<a href=\"https://colab.research.google.com/github/dalismo/Finance_News_Sentiment/blob/ai%2Fworking_on_count_vector/AI_v3_count_vector_ml_sentiment_analysis_test.ipynb\" target=\"_parent\"><img src=\"https://colab.research.google.com/assets/colab-badge.svg\" alt=\"Open In Colab\"/></a>"
      ]
    },
    {
      "cell_type": "code",
      "metadata": {
        "colab": {
          "base_uri": "https://localhost:8080/"
        },
        "id": "b7676daf",
        "outputId": "b1f6eb1c-c2e7-4f14-c0b7-b1c0671a1754"
      },
      "source": [
        "import pandas as pd\n",
        "\n",
        "import os\n",
        "# Find the latest version of spark 3.0  from http://www.apache.org/dist/spark/ and enter as the spark version\n",
        "# For example:\n",
        "# spark_version = 'spark-3.0.3'\n",
        "spark_version = 'spark-3.0.3'\n",
        "os.environ['SPARK_VERSION']=spark_version\n",
        "\n",
        "# Install Spark and Java\n",
        "!apt-get update\n",
        "!apt-get install openjdk-11-jdk-headless -qq > /dev/null\n",
        "!wget -q http://www.apache.org/dist/spark/$SPARK_VERSION/$SPARK_VERSION-bin-hadoop2.7.tgz\n",
        "!tar xf $SPARK_VERSION-bin-hadoop2.7.tgz\n",
        "!pip install -q findspark\n",
        "\n",
        "# Set Environment Variables\n",
        "os.environ[\"JAVA_HOME\"] = \"/usr/lib/jvm/java-11-openjdk-amd64\"\n",
        "os.environ[\"SPARK_HOME\"] = f\"/content/{spark_version}-bin-hadoop2.7\"\n",
        "\n",
        "# Start a SparkSession\n",
        "import findspark\n",
        "findspark.init()"
      ],
      "id": "b7676daf",
      "execution_count": 1,
      "outputs": [
        {
          "output_type": "stream",
          "name": "stdout",
          "text": [
            "\r0% [Working]\r            \rGet:1 http://security.ubuntu.com/ubuntu bionic-security InRelease [88.7 kB]\n",
            "Get:2 https://cloud.r-project.org/bin/linux/ubuntu bionic-cran40/ InRelease [3,626 B]\n",
            "Ign:3 https://developer.download.nvidia.com/compute/cuda/repos/ubuntu1804/x86_64  InRelease\n",
            "Ign:4 https://developer.download.nvidia.com/compute/machine-learning/repos/ubuntu1804/x86_64  InRelease\n",
            "Get:5 https://developer.download.nvidia.com/compute/cuda/repos/ubuntu1804/x86_64  Release [696 B]\n",
            "Hit:6 http://archive.ubuntu.com/ubuntu bionic InRelease\n",
            "Hit:7 https://developer.download.nvidia.com/compute/machine-learning/repos/ubuntu1804/x86_64  Release\n",
            "Get:8 https://developer.download.nvidia.com/compute/cuda/repos/ubuntu1804/x86_64  Release.gpg [836 B]\n",
            "Get:9 http://ppa.launchpad.net/c2d4u.team/c2d4u4.0+/ubuntu bionic InRelease [15.9 kB]\n",
            "Get:10 http://archive.ubuntu.com/ubuntu bionic-updates InRelease [88.7 kB]\n",
            "Hit:11 http://ppa.launchpad.net/cran/libgit2/ubuntu bionic InRelease\n",
            "Get:12 http://archive.ubuntu.com/ubuntu bionic-backports InRelease [74.6 kB]\n",
            "Get:13 http://ppa.launchpad.net/deadsnakes/ppa/ubuntu bionic InRelease [15.9 kB]\n",
            "Hit:14 http://ppa.launchpad.net/graphics-drivers/ppa/ubuntu bionic InRelease\n",
            "Get:15 http://security.ubuntu.com/ubuntu bionic-security/main amd64 Packages [2,324 kB]\n",
            "Get:16 http://security.ubuntu.com/ubuntu bionic-security/universe amd64 Packages [1,428 kB]\n",
            "Get:17 http://security.ubuntu.com/ubuntu bionic-security/restricted amd64 Packages [567 kB]\n",
            "Get:19 https://developer.download.nvidia.com/compute/cuda/repos/ubuntu1804/x86_64  Packages [717 kB]\n",
            "Get:20 http://ppa.launchpad.net/c2d4u.team/c2d4u4.0+/ubuntu bionic/main Sources [1,799 kB]\n",
            "Get:21 http://archive.ubuntu.com/ubuntu bionic-updates/main amd64 Packages [2,760 kB]\n",
            "Get:22 http://archive.ubuntu.com/ubuntu bionic-updates/restricted amd64 Packages [600 kB]\n",
            "Get:23 http://archive.ubuntu.com/ubuntu bionic-updates/universe amd64 Packages [2,202 kB]\n",
            "Get:24 http://ppa.launchpad.net/c2d4u.team/c2d4u4.0+/ubuntu bionic/main amd64 Packages [921 kB]\n",
            "Get:25 http://ppa.launchpad.net/deadsnakes/ppa/ubuntu bionic/main amd64 Packages [40.8 kB]\n",
            "Fetched 13.6 MB in 6s (2,401 kB/s)\n",
            "Reading package lists... Done\n"
          ]
        }
      ]
    },
    {
      "cell_type": "code",
      "metadata": {
        "id": "CvoLwz9S0gwE"
      },
      "source": [
        "# Start Spark session\n",
        "from pyspark.sql import SparkSession\n",
        "# spark = SparkSession.builder.appName(\"StopWords\").getOrCreate()\n",
        "spark = SparkSession.builder.appName(\"Fin-sent-count-vector\").getOrCreate()"
      ],
      "id": "CvoLwz9S0gwE",
      "execution_count": 2,
      "outputs": []
    },
    {
      "cell_type": "code",
      "metadata": {
        "id": "69qSAC1R1EgS"
      },
      "source": [
        "from pyspark.ml.feature import Tokenizer, StopWordsRemover"
      ],
      "id": "69qSAC1R1EgS",
      "execution_count": 3,
      "outputs": []
    },
    {
      "cell_type": "code",
      "metadata": {
        "colab": {
          "base_uri": "https://localhost:8080/"
        },
        "id": "mODaD0re3ulm",
        "outputId": "419d0af9-22c3-462d-9d09-9cd1f874e93b"
      },
      "source": [
        "# Read in data from S3 Buckets\n",
        "from pyspark import SparkFiles\n",
        "\n",
        "url = 'https://raw.githubusercontent.com/dalismo/Finance_News_Sentiment/main/Resources/sentiment-train.csv'\n",
        "# df = pd.read_csv(url,encoding='latin-1', header=None)\n",
        "# url =\"https://s3.amazonaws.com/dataviz-curriculum/day_2/yelp_reviews.csv\"\n",
        "spark.sparkContext.addFile(url)\n",
        "df = spark.read.csv(SparkFiles.get(\"sentiment-train.csv\"), sep=\",\", header=None)\n",
        "\n",
        "# Show DataFrame\n",
        "df.show(5, truncate=False)"
      ],
      "id": "mODaD0re3ulm",
      "execution_count": 4,
      "outputs": [
        {
          "output_type": "stream",
          "name": "stdout",
          "text": [
            "+--------+-----------------------------------------------------------------------------------------------------+\n",
            "|_c0     |_c1                                                                                                  |\n",
            "+--------+-----------------------------------------------------------------------------------------------------+\n",
            "|Positive|Autodesk Is Down 15% After Q2 Earnings -- Is This a Buying Opportunity?                              |\n",
            "|Positive|Blue Shield of California, Walgreens Partner on Personalized Healthcare Solution                     |\n",
            "|Positive|RSX: Russian Equities Are Still Undervalued                                                          |\n",
            "|Positive|XLB: Hold Your Position                                                                              |\n",
            "|Positive|Musgrave Minerals broad, near-surface high-grade results open up further Cue gold discovery potential|\n",
            "+--------+-----------------------------------------------------------------------------------------------------+\n",
            "only showing top 5 rows\n",
            "\n"
          ]
        }
      ]
    },
    {
      "cell_type": "code",
      "metadata": {
        "colab": {
          "base_uri": "https://localhost:8080/"
        },
        "id": "4BbzYExyNYCR",
        "outputId": "632a0af6-57b8-4366-d23f-24634a1c3204"
      },
      "source": [
        "from pyspark.sql.functions import length\n",
        "# Create a length column to be used as a future feature \n",
        "data_df = df.withColumn('length', length(df['_c1']))\n",
        "data_df.show()"
      ],
      "id": "4BbzYExyNYCR",
      "execution_count": 5,
      "outputs": [
        {
          "output_type": "stream",
          "name": "stdout",
          "text": [
            "+--------+--------------------+------+\n",
            "|     _c0|                 _c1|length|\n",
            "+--------+--------------------+------+\n",
            "|Positive|Autodesk Is Down ...|    71|\n",
            "|Positive|Blue Shield of Ca...|    80|\n",
            "|Positive|RSX: Russian Equi...|    43|\n",
            "|Positive|XLB: Hold Your Po...|    23|\n",
            "|Positive|Musgrave Minerals...|   101|\n",
            "|Positive|ViacomCBS to rest...|    49|\n",
            "|Positive|Oil climbs to one...|    51|\n",
            "|Negative|Australian regula...|    67|\n",
            "|Positive|The Wall Street J...|    90|\n",
            "|Positive|Ora Banda Mining ...|    50|\n",
            "|Positive|Google Pay Plans ...|    43|\n",
            "|Negative|Toyota, Honda Ang...|    69|\n",
            "| Neutral|ZY Investor Alert...|    44|\n",
            "| Neutral|Calima Energy spu...|    58|\n",
            "|Positive|These Marijuana S...|    56|\n",
            "|Positive|Moderna ETFs to R...|    61|\n",
            "| Neutral|MacroGenics Annou...|    72|\n",
            "| Neutral|Zymeworks Announc...|   173|\n",
            "| Neutral|BioXcel Therapeut...|   130|\n",
            "| Neutral|Merck to Present ...|    80|\n",
            "+--------+--------------------+------+\n",
            "only showing top 20 rows\n",
            "\n"
          ]
        }
      ]
    },
    {
      "cell_type": "code",
      "metadata": {
        "colab": {
          "base_uri": "https://localhost:8080/"
        },
        "id": "HiCnjIddrflT",
        "outputId": "4990dc6b-ee50-4d0c-c7ad-bb3e9b9c30b8"
      },
      "source": [
        "df2 = data_df.withColumnRenamed(\"_c0\", \"class\").withColumnRenamed(\"_c1\", \"text\")\n",
        "df2.printSchema()\n",
        "df2.show(20, truncate = False)\n"
      ],
      "id": "HiCnjIddrflT",
      "execution_count": 6,
      "outputs": [
        {
          "output_type": "stream",
          "name": "stdout",
          "text": [
            "root\n",
            " |-- class: string (nullable = true)\n",
            " |-- text: string (nullable = true)\n",
            " |-- length: integer (nullable = true)\n",
            "\n",
            "+--------+-----------------------------------------------------------------------------------------------------------------------------------------------------------------------------+------+\n",
            "|class   |text                                                                                                                                                                         |length|\n",
            "+--------+-----------------------------------------------------------------------------------------------------------------------------------------------------------------------------+------+\n",
            "|Positive|Autodesk Is Down 15% After Q2 Earnings -- Is This a Buying Opportunity?                                                                                                      |71    |\n",
            "|Positive|Blue Shield of California, Walgreens Partner on Personalized Healthcare Solution                                                                                             |80    |\n",
            "|Positive|RSX: Russian Equities Are Still Undervalued                                                                                                                                  |43    |\n",
            "|Positive|XLB: Hold Your Position                                                                                                                                                      |23    |\n",
            "|Positive|Musgrave Minerals broad, near-surface high-grade results open up further Cue gold discovery potential                                                                        |101   |\n",
            "|Positive|ViacomCBS to restructure Paramount Pictures - WSJ                                                                                                                            |49    |\n",
            "|Positive|Oil climbs to one-week high on U.S. supply concerns                                                                                                                          |51    |\n",
            "|Negative|Australian regulator denies approval for Qantas-Japan Airlines deal                                                                                                          |67    |\n",
            "|Positive|The Wall Street Journal: ViacomCBS revamping Paramount operations, refocusing on streaming                                                                                   |90    |\n",
            "|Positive|Ora Banda Mining to receive $11 million for Mt Ida                                                                                                                           |50    |\n",
            "|Positive|Google Pay Plans Israel Debut by Year's End                                                                                                                                  |43    |\n",
            "|Negative|Toyota, Honda Angry After Getting Shut Out of Electric Car Tax Credit                                                                                                        |69    |\n",
            "|Neutral |ZY Investor Alert: Shareholder Lawsuit Filed                                                                                                                                 |44    |\n",
            "|Neutral |Calima Energy spuds Leo #3 with fracturing just weeks away                                                                                                                   |58    |\n",
            "|Positive|These Marijuana Stocks May Soon Start To Recover In 2021                                                                                                                     |56    |\n",
            "|Positive|Moderna ETFs to Rally on Two-in-One Vaccine Booster Shot News                                                                                                                |61    |\n",
            "|Neutral |MacroGenics Announces Presentations at ESMO 2021 Virtual Annual Congress                                                                                                     |72    |\n",
            "|Neutral |Zymeworks Announces Abstract for Zanidatamab in First-line HER2-Expressing Gastroesophageal Cancers (GEA) at the European Society for Medical Oncology (ESMO) Annual Congress|173   |\n",
            "|Neutral |BioXcel Therapeutics to Present Updates from Ongoing Trial of BXCL701 in Aggressive Forms of Prostate Cancer at 2021 ESMO Congress                                           |130   |\n",
            "|Neutral |Merck to Present Latest Highlights From Oncology Portfolio at WCLC and ESMO 2021                                                                                             |80    |\n",
            "+--------+-----------------------------------------------------------------------------------------------------------------------------------------------------------------------------+------+\n",
            "only showing top 20 rows\n",
            "\n"
          ]
        }
      ]
    },
    {
      "cell_type": "code",
      "metadata": {
        "colab": {
          "base_uri": "https://localhost:8080/"
        },
        "id": "8tMPNronWpK1",
        "outputId": "2cc834b5-b3c5-445f-9c91-1a9996eadc50"
      },
      "source": [
        "df2.createOrReplaceTempView('temp')\n",
        "df3 = spark.sql('select case class when \"Positive\" then 1.0  when \"Negative\" then 2.0 else 0 end as label, text from temp')\n",
        "df3.show(20, truncate = False)"
      ],
      "id": "8tMPNronWpK1",
      "execution_count": 7,
      "outputs": [
        {
          "output_type": "stream",
          "name": "stdout",
          "text": [
            "+-----+-----------------------------------------------------------------------------------------------------------------------------------------------------------------------------+\n",
            "|label|text                                                                                                                                                                         |\n",
            "+-----+-----------------------------------------------------------------------------------------------------------------------------------------------------------------------------+\n",
            "|1.0  |Autodesk Is Down 15% After Q2 Earnings -- Is This a Buying Opportunity?                                                                                                      |\n",
            "|1.0  |Blue Shield of California, Walgreens Partner on Personalized Healthcare Solution                                                                                             |\n",
            "|1.0  |RSX: Russian Equities Are Still Undervalued                                                                                                                                  |\n",
            "|1.0  |XLB: Hold Your Position                                                                                                                                                      |\n",
            "|1.0  |Musgrave Minerals broad, near-surface high-grade results open up further Cue gold discovery potential                                                                        |\n",
            "|1.0  |ViacomCBS to restructure Paramount Pictures - WSJ                                                                                                                            |\n",
            "|1.0  |Oil climbs to one-week high on U.S. supply concerns                                                                                                                          |\n",
            "|2.0  |Australian regulator denies approval for Qantas-Japan Airlines deal                                                                                                          |\n",
            "|1.0  |The Wall Street Journal: ViacomCBS revamping Paramount operations, refocusing on streaming                                                                                   |\n",
            "|1.0  |Ora Banda Mining to receive $11 million for Mt Ida                                                                                                                           |\n",
            "|1.0  |Google Pay Plans Israel Debut by Year's End                                                                                                                                  |\n",
            "|2.0  |Toyota, Honda Angry After Getting Shut Out of Electric Car Tax Credit                                                                                                        |\n",
            "|0.0  |ZY Investor Alert: Shareholder Lawsuit Filed                                                                                                                                 |\n",
            "|0.0  |Calima Energy spuds Leo #3 with fracturing just weeks away                                                                                                                   |\n",
            "|1.0  |These Marijuana Stocks May Soon Start To Recover In 2021                                                                                                                     |\n",
            "|1.0  |Moderna ETFs to Rally on Two-in-One Vaccine Booster Shot News                                                                                                                |\n",
            "|0.0  |MacroGenics Announces Presentations at ESMO 2021 Virtual Annual Congress                                                                                                     |\n",
            "|0.0  |Zymeworks Announces Abstract for Zanidatamab in First-line HER2-Expressing Gastroesophageal Cancers (GEA) at the European Society for Medical Oncology (ESMO) Annual Congress|\n",
            "|0.0  |BioXcel Therapeutics to Present Updates from Ongoing Trial of BXCL701 in Aggressive Forms of Prostate Cancer at 2021 ESMO Congress                                           |\n",
            "|0.0  |Merck to Present Latest Highlights From Oncology Portfolio at WCLC and ESMO 2021                                                                                             |\n",
            "+-----+-----------------------------------------------------------------------------------------------------------------------------------------------------------------------------+\n",
            "only showing top 20 rows\n",
            "\n"
          ]
        }
      ]
    },
    {
      "cell_type": "code",
      "metadata": {
        "colab": {
          "base_uri": "https://localhost:8080/"
        },
        "id": "j89il24uZ-s_",
        "outputId": "a9f31494-a26c-4a4f-a47a-5b94f79887ad"
      },
      "source": [
        "from pyspark.ml.feature import  Tokenizer\n",
        "tokenizer = Tokenizer(inputCol=\"text\", outputCol=\"words\")\n",
        "wordsData = tokenizer.transform(df3)\n",
        "wordsData.show()"
      ],
      "id": "j89il24uZ-s_",
      "execution_count": 8,
      "outputs": [
        {
          "output_type": "stream",
          "name": "stdout",
          "text": [
            "+-----+--------------------+--------------------+\n",
            "|label|                text|               words|\n",
            "+-----+--------------------+--------------------+\n",
            "|  1.0|Autodesk Is Down ...|[autodesk, is, do...|\n",
            "|  1.0|Blue Shield of Ca...|[blue, shield, of...|\n",
            "|  1.0|RSX: Russian Equi...|[rsx:, russian, e...|\n",
            "|  1.0|XLB: Hold Your Po...|[xlb:, hold, your...|\n",
            "|  1.0|Musgrave Minerals...|[musgrave, minera...|\n",
            "|  1.0|ViacomCBS to rest...|[viacomcbs, to, r...|\n",
            "|  1.0|Oil climbs to one...|[oil, climbs, to,...|\n",
            "|  2.0|Australian regula...|[australian, regu...|\n",
            "|  1.0|The Wall Street J...|[the, wall, stree...|\n",
            "|  1.0|Ora Banda Mining ...|[ora, banda, mini...|\n",
            "|  1.0|Google Pay Plans ...|[google, pay, pla...|\n",
            "|  2.0|Toyota, Honda Ang...|[toyota,, honda, ...|\n",
            "|  0.0|ZY Investor Alert...|[zy, investor, al...|\n",
            "|  0.0|Calima Energy spu...|[calima, energy, ...|\n",
            "|  1.0|These Marijuana S...|[these, marijuana...|\n",
            "|  1.0|Moderna ETFs to R...|[moderna, etfs, t...|\n",
            "|  0.0|MacroGenics Annou...|[macrogenics, ann...|\n",
            "|  0.0|Zymeworks Announc...|[zymeworks, annou...|\n",
            "|  0.0|BioXcel Therapeut...|[bioxcel, therape...|\n",
            "|  0.0|Merck to Present ...|[merck, to, prese...|\n",
            "+-----+--------------------+--------------------+\n",
            "only showing top 20 rows\n",
            "\n"
          ]
        }
      ]
    },
    {
      "cell_type": "code",
      "metadata": {
        "colab": {
          "base_uri": "https://localhost:8080/"
        },
        "id": "ZlhgmA2GaNHX",
        "outputId": "ac7271d0-0b10-4835-8851-bf4622c259b7"
      },
      "source": [
        "from pyspark.ml.feature import CountVectorizer\n",
        "count = CountVectorizer (inputCol=\"words\", outputCol=\"rawFeatures\")\n",
        "model = count.fit(wordsData)\n",
        "featurizedData = model.transform(wordsData)\n",
        "featurizedData.show()"
      ],
      "id": "ZlhgmA2GaNHX",
      "execution_count": 9,
      "outputs": [
        {
          "output_type": "stream",
          "name": "stdout",
          "text": [
            "+-----+--------------------+--------------------+--------------------+\n",
            "|label|                text|               words|         rawFeatures|\n",
            "+-----+--------------------+--------------------+--------------------+\n",
            "|  1.0|Autodesk Is Down ...|[autodesk, is, do...|(11788,[6,9,19,37...|\n",
            "|  1.0|Blue Shield of Ca...|[blue, shield, of...|(11788,[2,7,177,5...|\n",
            "|  1.0|RSX: Russian Equi...|[rsx:, russian, e...|(11788,[48,262,63...|\n",
            "|  1.0|XLB: Hold Your Po...|[xlb:, hold, your...|(11788,[158,335,1...|\n",
            "|  1.0|Musgrave Minerals...|[musgrave, minera...|(11788,[26,49,89,...|\n",
            "|  1.0|ViacomCBS to rest...|[viacomcbs, to, r...|(11788,[0,34,1891...|\n",
            "|  1.0|Oil climbs to one...|[oil, climbs, to,...|(11788,[0,7,100,1...|\n",
            "|  2.0|Australian regula...|[australian, regu...|(11788,[5,175,179...|\n",
            "|  1.0|The Wall Street J...|[the, wall, stree...|(11788,[1,7,292,4...|\n",
            "|  1.0|Ora Banda Mining ...|[ora, banda, mini...|(11788,[0,5,72,32...|\n",
            "|  1.0|Google Pay Plans ...|[google, pay, pla...|(11788,[75,217,26...|\n",
            "|  2.0|Toyota, Honda Ang...|[toyota,, honda, ...|(11788,[2,65,230,...|\n",
            "|  0.0|ZY Investor Alert...|[zy, investor, al...|(11788,[43,44,63,...|\n",
            "|  0.0|Calima Energy spu...|[calima, energy, ...|(11788,[10,83,338...|\n",
            "|  1.0|These Marijuana S...|[these, marijuana...|(11788,[0,3,13,18...|\n",
            "|  1.0|Moderna ETFs to R...|[moderna, etfs, t...|(11788,[0,7,172,2...|\n",
            "|  0.0|MacroGenics Annou...|[macrogenics, ann...|(11788,[11,12,13,...|\n",
            "|  0.0|Zymeworks Announc...|[zymeworks, annou...|(11788,[1,3,5,11,...|\n",
            "|  0.0|BioXcel Therapeut...|[bioxcel, therape...|(11788,[0,2,3,12,...|\n",
            "|  0.0|Merck to Present ...|[merck, to, prese...|(11788,[0,4,12,13...|\n",
            "+-----+--------------------+--------------------+--------------------+\n",
            "only showing top 20 rows\n",
            "\n"
          ]
        }
      ]
    },
    {
      "cell_type": "code",
      "metadata": {
        "colab": {
          "base_uri": "https://localhost:8080/"
        },
        "id": "pj4m9hLsaV_G",
        "outputId": "9ce48aea-cd81-43b5-de52-cf92fef25d00"
      },
      "source": [
        "from pyspark.ml.feature import  IDF\n",
        "#IDF down-weighs features which appear frequently in a corpus. This generally improves performance when using text as features since most frequent, and hence less important words, get down-weighed.\n",
        "idf = IDF(inputCol=\"rawFeatures\", outputCol=\"features\")\n",
        "idfModel = idf.fit(featurizedData)\n",
        "rescaledData = idfModel.transform(featurizedData)\n",
        "rescaledData.select(\"label\", \"features\").show()  \n",
        "# We want only the label and features columns for our machine learning models"
      ],
      "id": "pj4m9hLsaV_G",
      "execution_count": 10,
      "outputs": [
        {
          "output_type": "stream",
          "name": "stdout",
          "text": [
            "+-----+--------------------+\n",
            "|label|            features|\n",
            "+-----+--------------------+\n",
            "|  1.0|(11788,[6,9,19,37...|\n",
            "|  1.0|(11788,[2,7,177,5...|\n",
            "|  1.0|(11788,[48,262,63...|\n",
            "|  1.0|(11788,[158,335,1...|\n",
            "|  1.0|(11788,[26,49,89,...|\n",
            "|  1.0|(11788,[0,34,1891...|\n",
            "|  1.0|(11788,[0,7,100,1...|\n",
            "|  2.0|(11788,[5,175,179...|\n",
            "|  1.0|(11788,[1,7,292,4...|\n",
            "|  1.0|(11788,[0,5,72,32...|\n",
            "|  1.0|(11788,[75,217,26...|\n",
            "|  2.0|(11788,[2,65,230,...|\n",
            "|  0.0|(11788,[43,44,63,...|\n",
            "|  0.0|(11788,[10,83,338...|\n",
            "|  1.0|(11788,[0,3,13,18...|\n",
            "|  1.0|(11788,[0,7,172,2...|\n",
            "|  0.0|(11788,[11,12,13,...|\n",
            "|  0.0|(11788,[1,3,5,11,...|\n",
            "|  0.0|(11788,[0,2,3,12,...|\n",
            "|  0.0|(11788,[0,4,12,13...|\n",
            "+-----+--------------------+\n",
            "only showing top 20 rows\n",
            "\n"
          ]
        }
      ]
    },
    {
      "cell_type": "code",
      "metadata": {
        "id": "gvprtx9Vaed2"
      },
      "source": [
        "seed = 0  # set seed for reproducibility\n",
        "trainDF, testDF = rescaledData.randomSplit([0.8,0.2],seed)"
      ],
      "id": "gvprtx9Vaed2",
      "execution_count": 11,
      "outputs": []
    },
    {
      "cell_type": "code",
      "metadata": {
        "colab": {
          "base_uri": "https://localhost:8080/"
        },
        "id": "jx1mwMzJagt5",
        "outputId": "bf22779e-e5fc-43b6-b249-ef2fb801785e"
      },
      "source": [
        "trainDF.count()"
      ],
      "id": "jx1mwMzJagt5",
      "execution_count": 12,
      "outputs": [
        {
          "output_type": "execute_result",
          "data": {
            "text/plain": [
              "3965"
            ]
          },
          "metadata": {},
          "execution_count": 12
        }
      ]
    },
    {
      "cell_type": "code",
      "metadata": {
        "colab": {
          "base_uri": "https://localhost:8080/"
        },
        "id": "8HwaguEFajq2",
        "outputId": "175f5573-9f99-4d38-88b3-44734425fe85"
      },
      "source": [
        "testDF.count()"
      ],
      "id": "8HwaguEFajq2",
      "execution_count": 13,
      "outputs": [
        {
          "output_type": "execute_result",
          "data": {
            "text/plain": [
              "1035"
            ]
          },
          "metadata": {},
          "execution_count": 13
        }
      ]
    },
    {
      "cell_type": "code",
      "metadata": {
        "colab": {
          "base_uri": "https://localhost:8080/"
        },
        "id": "422KCtKsapc2",
        "outputId": "68fa30f7-9700-4266-b8e6-08d5b258d12e"
      },
      "source": [
        "#Logistic Regression Classifier\n",
        "#Cross validator different classification to  \n",
        "#Param Grid apply different parameters, testing which param is best\n",
        "from pyspark.ml.classification import LogisticRegression\n",
        "from pyspark.ml.evaluation import BinaryClassificationEvaluator\n",
        "from pyspark.ml.tuning import CrossValidator, ParamGridBuilder\n",
        "from pyspark.ml.evaluation import MulticlassClassificationEvaluator\n",
        "import numpy as np\n",
        "lr = LogisticRegression(maxIter = 10)\n",
        "\n",
        "paramGrid_lr = ParamGridBuilder() \\\n",
        "    .addGrid(lr.regParam, np.linspace(0.3, 0.01, 10)) \\\n",
        "    .addGrid(lr.elasticNetParam, np.linspace(0.3, 0.8, 6)) \\\n",
        "    .build()\n",
        "crossval_lr = CrossValidator(estimator=lr,\n",
        "                          estimatorParamMaps=paramGrid_lr,\n",
        "                          evaluator=MulticlassClassificationEvaluator(),\n",
        "                          numFolds= 5)  \n",
        "cvModel_lr = crossval_lr.fit(trainDF)\n",
        "best_model_lr = cvModel_lr.bestModel.summary\n",
        "best_model_lr.predictions.columns"
      ],
      "id": "422KCtKsapc2",
      "execution_count": 22,
      "outputs": [
        {
          "output_type": "execute_result",
          "data": {
            "text/plain": [
              "['label',\n",
              " 'text',\n",
              " 'words',\n",
              " 'rawFeatures',\n",
              " 'features',\n",
              " 'rawPrediction',\n",
              " 'probability',\n",
              " 'prediction']"
            ]
          },
          "metadata": {},
          "execution_count": 22
        }
      ]
    },
    {
      "cell_type": "code",
      "metadata": {
        "colab": {
          "base_uri": "https://localhost:8080/"
        },
        "id": "GsXg3T5GJCqP",
        "outputId": "55757e9c-7edb-49c3-9c51-5630e8143c16"
      },
      "source": [
        "#Area under the curve for the training data\n",
        "from pyspark.ml.evaluation import BinaryClassificationEvaluator\n",
        "my_eval_lr = BinaryClassificationEvaluator(rawPredictionCol='prediction', labelCol='label', metricName='areaUnderROC')\n",
        "my_eval_lr.evaluate(best_model_lr.predictions)"
      ],
      "id": "GsXg3T5GJCqP",
      "execution_count": 23,
      "outputs": [
        {
          "output_type": "execute_result",
          "data": {
            "text/plain": [
              "0.9950498740046572"
            ]
          },
          "metadata": {},
          "execution_count": 23
        }
      ]
    },
    {
      "cell_type": "code",
      "metadata": {
        "colab": {
          "base_uri": "https://localhost:8080/"
        },
        "id": "BksC4UsYJutI",
        "outputId": "cf73b745-b836-4e42-b72c-0ed8c19b6948"
      },
      "source": [
        "#F1 score\n",
        "from pyspark.ml.evaluation import MulticlassClassificationEvaluator\n",
        "my_mc_lr = MulticlassClassificationEvaluator(predictionCol='prediction', labelCol='label', metricName='f1')\n",
        "my_mc_lr.evaluate(best_model_lr.predictions)"
      ],
      "id": "BksC4UsYJutI",
      "execution_count": 24,
      "outputs": [
        {
          "output_type": "execute_result",
          "data": {
            "text/plain": [
              "0.9931852586669052"
            ]
          },
          "metadata": {},
          "execution_count": 24
        }
      ]
    },
    {
      "cell_type": "code",
      "metadata": {
        "colab": {
          "base_uri": "https://localhost:8080/"
        },
        "id": "lUU0bJnBJ03P",
        "outputId": "42454df5-527f-4290-acc7-bf5cefa4345e"
      },
      "source": [
        "#Accuracy \n",
        "my_mc_lr = MulticlassClassificationEvaluator(predictionCol='prediction', labelCol='label', metricName='accuracy')\n",
        "my_mc_lr.evaluate(best_model_lr.predictions)"
      ],
      "id": "lUU0bJnBJ03P",
      "execution_count": 25,
      "outputs": [
        {
          "output_type": "execute_result",
          "data": {
            "text/plain": [
              "0.9931904161412358"
            ]
          },
          "metadata": {},
          "execution_count": 25
        }
      ]
    },
    {
      "cell_type": "code",
      "metadata": {
        "colab": {
          "base_uri": "https://localhost:8080/"
        },
        "id": "3lCcO0WbJ4yb",
        "outputId": "65ffb6d1-5671-465e-d1a1-470deb12c8f8"
      },
      "source": [
        "#prediction\n",
        "train_fit_lr = best_model_lr.predictions.select('label','prediction')\n",
        "train_fit_lr.groupBy('label','prediction').count().show()"
      ],
      "id": "3lCcO0WbJ4yb",
      "execution_count": 27,
      "outputs": [
        {
          "output_type": "stream",
          "name": "stdout",
          "text": [
            "+-----+----------+-----+\n",
            "|label|prediction|count|\n",
            "+-----+----------+-----+\n",
            "|  1.0|       1.0| 1515|\n",
            "|  0.0|       1.0|    4|\n",
            "|  1.0|       0.0|   13|\n",
            "|  2.0|       2.0|  448|\n",
            "|  2.0|       1.0|    8|\n",
            "|  0.0|       0.0| 1975|\n",
            "|  0.0|       2.0|    2|\n",
            "+-----+----------+-----+\n",
            "\n"
          ]
        }
      ]
    },
    {
      "cell_type": "code",
      "metadata": {
        "colab": {
          "base_uri": "https://localhost:8080/"
        },
        "id": "l2mwc-1WNsOJ",
        "outputId": "794385e2-4e5a-4026-c62e-30cd04c9b58a"
      },
      "source": [
        "#Predict using the test data and evaluate the predictions\n",
        "predictions_lr = cvModel_lr.transform(testDF)\n",
        "predictions_lr.columns"
      ],
      "id": "l2mwc-1WNsOJ",
      "execution_count": 29,
      "outputs": [
        {
          "output_type": "execute_result",
          "data": {
            "text/plain": [
              "['label',\n",
              " 'text',\n",
              " 'words',\n",
              " 'rawFeatures',\n",
              " 'features',\n",
              " 'rawPrediction',\n",
              " 'probability',\n",
              " 'prediction']"
            ]
          },
          "metadata": {},
          "execution_count": 29
        }
      ]
    },
    {
      "cell_type": "code",
      "metadata": {
        "colab": {
          "base_uri": "https://localhost:8080/"
        },
        "id": "w33eTnMjOJlg",
        "outputId": "6ee08219-0eef-40e4-b412-a7ca20c41496"
      },
      "source": [
        "predictions_lr.show(5)"
      ],
      "id": "w33eTnMjOJlg",
      "execution_count": 30,
      "outputs": [
        {
          "output_type": "stream",
          "name": "stdout",
          "text": [
            "+-----+--------------------+--------------------+--------------------+--------------------+--------------------+--------------------+----------+\n",
            "|label|                text|               words|         rawFeatures|            features|       rawPrediction|         probability|prediction|\n",
            "+-----+--------------------+--------------------+--------------------+--------------------+--------------------+--------------------+----------+\n",
            "|  0.0|180 Life Sciences...|[180, life, scien...|(11788,[10,12,197...|(11788,[10,12,197...|[1.25814392677280...|[0.50740231372577...|       0.0|\n",
            "|  0.0|1847 Goedeker Iss...|[1847, goedeker, ...|(11788,[45,87,474...|(11788,[45,87,474...|[1.47435867402671...|[0.70263487773694...|       0.0|\n",
            "|  0.0|3 Reasons to Buy ...|[3, reasons, to, ...|(11788,[0,4,23,54...|(11788,[0,4,23,54...|[0.57562822157586...|[0.11961278175929...|       1.0|\n",
            "|  0.0|3 Things to Watch...|[3, things, to, w...|(11788,[0,1,3,8,3...|(11788,[0,1,3,8,3...|[0.12423249346035...|[0.19172097468053...|       1.0|\n",
            "|  0.0|3 Upcoming Earnin...|[3, upcoming, ear...|(11788,[0,19,54,6...|(11788,[0,19,54,6...|[1.02367386326906...|[0.52593293543059...|       0.0|\n",
            "+-----+--------------------+--------------------+--------------------+--------------------+--------------------+--------------------+----------+\n",
            "only showing top 5 rows\n",
            "\n"
          ]
        }
      ]
    },
    {
      "cell_type": "code",
      "metadata": {
        "colab": {
          "base_uri": "https://localhost:8080/"
        },
        "id": "r-_aVkaqOO4R",
        "outputId": "08cdb19f-e6e2-4a16-de3a-90bb671519a9"
      },
      "source": [
        "#Show sample predictions:\n",
        "predictions_lr.select('label', 'prediction').show(5)"
      ],
      "id": "r-_aVkaqOO4R",
      "execution_count": 31,
      "outputs": [
        {
          "output_type": "stream",
          "name": "stdout",
          "text": [
            "+-----+----------+\n",
            "|label|prediction|\n",
            "+-----+----------+\n",
            "|  0.0|       0.0|\n",
            "|  0.0|       0.0|\n",
            "|  0.0|       1.0|\n",
            "|  0.0|       1.0|\n",
            "|  0.0|       0.0|\n",
            "+-----+----------+\n",
            "only showing top 5 rows\n",
            "\n"
          ]
        }
      ]
    },
    {
      "cell_type": "code",
      "metadata": {
        "colab": {
          "base_uri": "https://localhost:8080/"
        },
        "id": "2qtI3Sp6OTPp",
        "outputId": "aea1cc39-5f06-4fc5-ac22-8de3578a141e"
      },
      "source": [
        "#hit vs missed\n",
        "predictions_lr.groupBy('label','prediction').count().show()"
      ],
      "id": "2qtI3Sp6OTPp",
      "execution_count": 32,
      "outputs": [
        {
          "output_type": "stream",
          "name": "stdout",
          "text": [
            "+-----+----------+-----+\n",
            "|label|prediction|count|\n",
            "+-----+----------+-----+\n",
            "|  2.0|       1.0|   30|\n",
            "|  0.0|       1.0|   69|\n",
            "|  2.0|       2.0|   63|\n",
            "|  1.0|       1.0|  309|\n",
            "|  2.0|       0.0|   16|\n",
            "|  0.0|       0.0|  439|\n",
            "|  0.0|       2.0|    7|\n",
            "|  1.0|       2.0|    6|\n",
            "|  1.0|       0.0|   96|\n",
            "+-----+----------+-----+\n",
            "\n"
          ]
        }
      ]
    },
    {
      "cell_type": "code",
      "metadata": {
        "colab": {
          "base_uri": "https://localhost:8080/"
        },
        "id": "QAakpTK4OWjJ",
        "outputId": "5b587f67-b657-4999-d3f5-665a91e6da94"
      },
      "source": [
        "#Area under the curve with the test data\n",
        "my_eval_lr.evaluate(predictions_lr)"
      ],
      "id": "QAakpTK4OWjJ",
      "execution_count": 33,
      "outputs": [
        {
          "output_type": "execute_result",
          "data": {
            "text/plain": [
              "0.8229798356982823"
            ]
          },
          "metadata": {},
          "execution_count": 33
        }
      ]
    },
    {
      "cell_type": "code",
      "metadata": {
        "colab": {
          "base_uri": "https://localhost:8080/"
        },
        "id": "Lq68ULhBOavJ",
        "outputId": "f0e09ff8-88b5-4e4c-dfe2-0eaa22794187"
      },
      "source": [
        "#F1-score with the test data\n",
        "my_mc_lr = MulticlassClassificationEvaluator(predictionCol='prediction', labelCol='label', metricName='f1')\n",
        "my_mc_lr.evaluate(predictions_lr)"
      ],
      "id": "Lq68ULhBOavJ",
      "execution_count": 34,
      "outputs": [
        {
          "output_type": "execute_result",
          "data": {
            "text/plain": [
              "0.7812021159635156"
            ]
          },
          "metadata": {},
          "execution_count": 34
        }
      ]
    },
    {
      "cell_type": "code",
      "metadata": {
        "colab": {
          "base_uri": "https://localhost:8080/"
        },
        "id": "KZEpwRxOOd-p",
        "outputId": "74667e98-ab63-47dc-e220-5a22da0755ca"
      },
      "source": [
        "#Acccuracy with the test data\n",
        "my_mc_lr = MulticlassClassificationEvaluator(predictionCol='prediction', labelCol='label', metricName='accuracy')\n",
        "my_mc_lr.evaluate(predictions_lr)"
      ],
      "id": "KZEpwRxOOd-p",
      "execution_count": 35,
      "outputs": [
        {
          "output_type": "execute_result",
          "data": {
            "text/plain": [
              "0.7835748792270532"
            ]
          },
          "metadata": {},
          "execution_count": 35
        }
      ]
    },
    {
      "cell_type": "code",
      "metadata": {
        "id": "gJZewrHOEbCu"
      },
      "source": [
        "#Naive Bayes using MulticlassClassificationEval\n",
        "from pyspark.ml.classification import NaiveBayes\n",
        "from pyspark.ml.evaluation import BinaryClassificationEvaluator\n",
        "from pyspark.ml.tuning import CrossValidator, ParamGridBuilder\n",
        "from pyspark.ml.evaluation import MulticlassClassificationEvaluator\n",
        "nb = NaiveBayes()\n",
        "paramGrid_nb = ParamGridBuilder() \\\n",
        "    .addGrid(nb.smoothing, np.linspace(0.3, 10, 10)) \\\n",
        "    .build()\n",
        "crossval_nb = CrossValidator(estimator=nb,\n",
        "                          estimatorParamMaps=paramGrid_nb,\n",
        "                          evaluator=MulticlassClassificationEvaluator(),\n",
        "                          numFolds= 5) \n",
        "cvModel_nb = crossval_nb.fit(trainDF)"
      ],
      "id": "gJZewrHOEbCu",
      "execution_count": 37,
      "outputs": []
    },
    {
      "cell_type": "code",
      "metadata": {
        "colab": {
          "base_uri": "https://localhost:8080/"
        },
        "id": "I2evGak3e_MK",
        "outputId": "8df3213d-d70d-471c-d9ee-92c8cbe37ba5"
      },
      "source": [
        "#average area under the curve values\n",
        "cvModel_nb.avgMetrics"
      ],
      "id": "I2evGak3e_MK",
      "execution_count": 38,
      "outputs": [
        {
          "output_type": "execute_result",
          "data": {
            "text/plain": [
              "[0.7214073184788686,\n",
              " 0.7259471433689856,\n",
              " 0.7407036452208704,\n",
              " 0.7499020425017013,\n",
              " 0.7551169678545439,\n",
              " 0.7610649146632533,\n",
              " 0.7649363041198762,\n",
              " 0.7658491742282761,\n",
              " 0.7670193633569241,\n",
              " 0.7691465583951299]"
            ]
          },
          "metadata": {},
          "execution_count": 38
        }
      ]
    },
    {
      "cell_type": "code",
      "metadata": {
        "colab": {
          "base_uri": "https://localhost:8080/"
        },
        "id": "ur3l8M51fEgQ",
        "outputId": "dae174e8-8615-45af-ce19-c79407545375"
      },
      "source": [
        "#Make predictions:\n",
        "predictions_nb = cvModel_nb.transform(testDF)\n",
        "predictions_nb.select('label', 'prediction').show(30)"
      ],
      "id": "ur3l8M51fEgQ",
      "execution_count": 39,
      "outputs": [
        {
          "output_type": "stream",
          "name": "stdout",
          "text": [
            "+-----+----------+\n",
            "|label|prediction|\n",
            "+-----+----------+\n",
            "|  0.0|       1.0|\n",
            "|  0.0|       0.0|\n",
            "|  0.0|       1.0|\n",
            "|  0.0|       1.0|\n",
            "|  0.0|       0.0|\n",
            "|  0.0|       1.0|\n",
            "|  0.0|       1.0|\n",
            "|  0.0|       1.0|\n",
            "|  0.0|       0.0|\n",
            "|  0.0|       2.0|\n",
            "|  0.0|       0.0|\n",
            "|  0.0|       1.0|\n",
            "|  0.0|       0.0|\n",
            "|  0.0|       0.0|\n",
            "|  0.0|       0.0|\n",
            "|  0.0|       0.0|\n",
            "|  0.0|       1.0|\n",
            "|  0.0|       0.0|\n",
            "|  0.0|       0.0|\n",
            "|  0.0|       0.0|\n",
            "|  0.0|       0.0|\n",
            "|  0.0|       0.0|\n",
            "|  0.0|       0.0|\n",
            "|  0.0|       0.0|\n",
            "|  0.0|       0.0|\n",
            "|  0.0|       0.0|\n",
            "|  0.0|       1.0|\n",
            "|  0.0|       2.0|\n",
            "|  0.0|       0.0|\n",
            "|  0.0|       0.0|\n",
            "+-----+----------+\n",
            "only showing top 30 rows\n",
            "\n"
          ]
        }
      ]
    },
    {
      "cell_type": "code",
      "metadata": {
        "colab": {
          "base_uri": "https://localhost:8080/"
        },
        "id": "QQpssrXFfKKI",
        "outputId": "f84da937-6704-4673-d49a-919a1ccbc803"
      },
      "source": [
        "#hit vs missed\n",
        "predictions_nb.groupBy('label','prediction').count().show()"
      ],
      "id": "QQpssrXFfKKI",
      "execution_count": 40,
      "outputs": [
        {
          "output_type": "stream",
          "name": "stdout",
          "text": [
            "+-----+----------+-----+\n",
            "|label|prediction|count|\n",
            "+-----+----------+-----+\n",
            "|  2.0|       1.0|   35|\n",
            "|  0.0|       1.0|  106|\n",
            "|  2.0|       2.0|   71|\n",
            "|  1.0|       1.0|  349|\n",
            "|  2.0|       0.0|    3|\n",
            "|  0.0|       0.0|  374|\n",
            "|  1.0|       2.0|   17|\n",
            "|  0.0|       2.0|   35|\n",
            "|  1.0|       0.0|   45|\n",
            "+-----+----------+-----+\n",
            "\n"
          ]
        }
      ]
    },
    {
      "cell_type": "code",
      "metadata": {
        "colab": {
          "base_uri": "https://localhost:8080/"
        },
        "id": "tIpCzUiNfNLS",
        "outputId": "5cab3724-956a-49dc-cef5-7ea7cd70f832"
      },
      "source": [
        "#Area under ROC\n",
        "my_eval_nb = BinaryClassificationEvaluator(rawPredictionCol='prediction', labelCol='label', metricName='areaUnderROC')\n",
        "my_eval_nb.evaluate(predictions_nb)"
      ],
      "id": "tIpCzUiNfNLS",
      "execution_count": 41,
      "outputs": [
        {
          "output_type": "execute_result",
          "data": {
            "text/plain": [
              "0.8092755787901419"
            ]
          },
          "metadata": {},
          "execution_count": 41
        }
      ]
    },
    {
      "cell_type": "code",
      "metadata": {
        "colab": {
          "base_uri": "https://localhost:8080/"
        },
        "id": "bfSyboQ_fRL5",
        "outputId": "11074e1f-198d-47a9-e1f3-1569e03e85b4"
      },
      "source": [
        "#F1\n",
        "from pyspark.ml.evaluation import MulticlassClassificationEvaluator\n",
        "my_mc_nb = MulticlassClassificationEvaluator(predictionCol='prediction', labelCol='label', metricName='f1')\n",
        "my_mc_nb.evaluate(predictions_nb)"
      ],
      "id": "bfSyboQ_fRL5",
      "execution_count": 42,
      "outputs": [
        {
          "output_type": "execute_result",
          "data": {
            "text/plain": [
              "0.7693098269973866"
            ]
          },
          "metadata": {},
          "execution_count": 42
        }
      ]
    },
    {
      "cell_type": "code",
      "metadata": {
        "colab": {
          "base_uri": "https://localhost:8080/"
        },
        "id": "XHT0cA38fVeB",
        "outputId": "27433840-e530-4c06-a71e-a0b0faabda49"
      },
      "source": [
        "#Accuracy\n",
        "my_mc_nb = MulticlassClassificationEvaluator(predictionCol='prediction', labelCol='label', metricName='accuracy')\n",
        "my_mc_nb.evaluate(predictions_nb)"
      ],
      "id": "XHT0cA38fVeB",
      "execution_count": 43,
      "outputs": [
        {
          "output_type": "execute_result",
          "data": {
            "text/plain": [
              "0.7671497584541063"
            ]
          },
          "metadata": {},
          "execution_count": 43
        }
      ]
    }
  ]
}