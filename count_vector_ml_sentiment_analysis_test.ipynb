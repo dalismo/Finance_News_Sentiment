{
  "nbformat": 4,
  "nbformat_minor": 5,
  "metadata": {
    "kernelspec": {
      "display_name": "Python 3",
      "language": "python",
      "name": "python3"
    },
    "language_info": {
      "codemirror_mode": {
        "name": "ipython",
        "version": 3
      },
      "file_extension": ".py",
      "mimetype": "text/x-python",
      "name": "python",
      "nbconvert_exporter": "python",
      "pygments_lexer": "ipython3",
      "version": "3.8.8"
    },
    "colab": {
      "name": "StopWords_ml_sentiment_analysis_test.ipynb",
      "provenance": [],
      "collapsed_sections": [],
      "include_colab_link": true
    }
  },
  "cells": [
    {
      "cell_type": "markdown",
      "metadata": {
        "id": "view-in-github",
        "colab_type": "text"
      },
      "source": [
        "<a href=\"https://colab.research.google.com/github/dalismo/Finance_News_Sentiment/blob/ai%2Fworking_on_count_vector/count_vector_ml_sentiment_analysis_test.ipynb\" target=\"_parent\"><img src=\"https://colab.research.google.com/assets/colab-badge.svg\" alt=\"Open In Colab\"/></a>"
      ]
    },
    {
      "cell_type": "code",
      "metadata": {
        "colab": {
          "base_uri": "https://localhost:8080/"
        },
        "id": "b7676daf",
        "outputId": "3621c114-dadc-461e-902b-c1d05e7f2d15"
      },
      "source": [
        "import pandas as pd\n",
        "\n",
        "import os\n",
        "# Find the latest version of spark 3.0  from http://www.apache.org/dist/spark/ and enter as the spark version\n",
        "# For example:\n",
        "# spark_version = 'spark-3.0.3'\n",
        "spark_version = 'spark-3.0.3'\n",
        "os.environ['SPARK_VERSION']=spark_version\n",
        "\n",
        "# Install Spark and Java\n",
        "!apt-get update\n",
        "!apt-get install openjdk-11-jdk-headless -qq > /dev/null\n",
        "!wget -q http://www.apache.org/dist/spark/$SPARK_VERSION/$SPARK_VERSION-bin-hadoop2.7.tgz\n",
        "!tar xf $SPARK_VERSION-bin-hadoop2.7.tgz\n",
        "!pip install -q findspark\n",
        "\n",
        "# Set Environment Variables\n",
        "os.environ[\"JAVA_HOME\"] = \"/usr/lib/jvm/java-11-openjdk-amd64\"\n",
        "os.environ[\"SPARK_HOME\"] = f\"/content/{spark_version}-bin-hadoop2.7\"\n",
        "\n",
        "# Start a SparkSession\n",
        "import findspark\n",
        "findspark.init()"
      ],
      "id": "b7676daf",
      "execution_count": null,
      "outputs": [
        {
          "output_type": "stream",
          "name": "stdout",
          "text": [
            "\r0% [Working]\r            \rGet:1 http://security.ubuntu.com/ubuntu bionic-security InRelease [88.7 kB]\n",
            "\r0% [Connecting to archive.ubuntu.com (91.189.88.142)] [1 InRelease 14.2 kB/88.7\r0% [Waiting for headers] [Waiting for headers] [Waiting for headers] [Waiting f\r                                                                               \rIgn:2 https://developer.download.nvidia.com/compute/cuda/repos/ubuntu1804/x86_64  InRelease\n",
            "\r0% [Waiting for headers] [Waiting for headers] [Waiting for headers] [Waiting f\r0% [1 InRelease gpgv 88.7 kB] [Waiting for headers] [Waiting for headers] [Wait\r                                                                               \rHit:3 https://cloud.r-project.org/bin/linux/ubuntu bionic-cran40/ InRelease\n",
            "\r0% [1 InRelease gpgv 88.7 kB] [Waiting for headers] [Waiting for headers] [Wait\r                                                                               \rHit:4 http://archive.ubuntu.com/ubuntu bionic InRelease\n",
            "\r                                                                               \r0% [1 InRelease gpgv 88.7 kB] [Waiting for headers] [Waiting for headers]\r                                                                         \rHit:5 http://ppa.launchpad.net/c2d4u.team/c2d4u4.0+/ubuntu bionic InRelease\n",
            "Ign:6 https://developer.download.nvidia.com/compute/machine-learning/repos/ubuntu1804/x86_64  InRelease\n",
            "Hit:7 https://developer.download.nvidia.com/compute/cuda/repos/ubuntu1804/x86_64  Release\n",
            "Hit:8 https://developer.download.nvidia.com/compute/machine-learning/repos/ubuntu1804/x86_64  Release\n",
            "Get:9 http://archive.ubuntu.com/ubuntu bionic-updates InRelease [88.7 kB]\n",
            "Hit:10 http://ppa.launchpad.net/cran/libgit2/ubuntu bionic InRelease\n",
            "Hit:11 http://ppa.launchpad.net/deadsnakes/ppa/ubuntu bionic InRelease\n",
            "Get:12 http://archive.ubuntu.com/ubuntu bionic-backports InRelease [74.6 kB]\n",
            "Hit:13 http://ppa.launchpad.net/graphics-drivers/ppa/ubuntu bionic InRelease\n",
            "Get:16 http://archive.ubuntu.com/ubuntu bionic-updates/main amd64 Packages [2,755 kB]\n",
            "Fetched 3,007 kB in 3s (1,104 kB/s)\n",
            "Reading package lists... Done\n"
          ]
        }
      ]
    },
    {
      "cell_type": "code",
      "metadata": {
        "id": "CvoLwz9S0gwE"
      },
      "source": [
        "# Start Spark session\n",
        "from pyspark.sql import SparkSession\n",
        "# spark = SparkSession.builder.appName(\"StopWords\").getOrCreate()\n",
        "spark = SparkSession.builder.appName(\"NaiveBayes\").getOrCreate()"
      ],
      "id": "CvoLwz9S0gwE",
      "execution_count": null,
      "outputs": []
    },
    {
      "cell_type": "code",
      "metadata": {
        "id": "69qSAC1R1EgS"
      },
      "source": [
        "from pyspark.ml.feature import Tokenizer, StopWordsRemover"
      ],
      "id": "69qSAC1R1EgS",
      "execution_count": null,
      "outputs": []
    },
    {
      "cell_type": "code",
      "metadata": {
        "colab": {
          "base_uri": "https://localhost:8080/"
        },
        "id": "mODaD0re3ulm",
        "outputId": "269be53f-88d0-4e45-8084-efedadc0d28b"
      },
      "source": [
        "# Read in data from S3 Buckets\n",
        "from pyspark import SparkFiles\n",
        "\n",
        "url = 'https://raw.githubusercontent.com/dalismo/Finance_News_Sentiment/main/Resources/train-data.csv'\n",
        "# df = pd.read_csv(url,encoding='latin-1', header=None)\n",
        "# url =\"https://s3.amazonaws.com/dataviz-curriculum/day_2/yelp_reviews.csv\"\n",
        "spark.sparkContext.addFile(url)\n",
        "df = spark.read.csv(SparkFiles.get(\"train-data.csv\"), sep=\",\", header=None)\n",
        "\n",
        "# Show DataFrame\n",
        "df.show()"
      ],
      "id": "mODaD0re3ulm",
      "execution_count": null,
      "outputs": [
        {
          "output_type": "stream",
          "name": "stdout",
          "text": [
            "+--------+--------------------+\n",
            "|     _c0|                 _c1|\n",
            "+--------+--------------------+\n",
            "| neutral|According to Gran...|\n",
            "| neutral|Technopolis plans...|\n",
            "|negative|The international...|\n",
            "|positive|With the new prod...|\n",
            "|positive|According to the ...|\n",
            "|positive|FINANCING OF ASPO...|\n",
            "|positive|For the last quar...|\n",
            "|positive|In the third quar...|\n",
            "|positive|Operating profit ...|\n",
            "|positive|Operating profit ...|\n",
            "|positive|TeliaSonera TLSN ...|\n",
            "|positive|STORA ENSO , NORS...|\n",
            "|positive|A purchase agreem...|\n",
            "|positive|Finnish Talentum ...|\n",
            "|positive|Clothing retail c...|\n",
            "|positive|Consolidated net ...|\n",
            "|positive|Foundries divisio...|\n",
            "|positive|HELSINKI ( AFX ) ...|\n",
            "|positive|Incap Contract Ma...|\n",
            "|positive|Its board of dire...|\n",
            "+--------+--------------------+\n",
            "only showing top 20 rows\n",
            "\n"
          ]
        }
      ]
    },
    {
      "cell_type": "code",
      "metadata": {
        "colab": {
          "base_uri": "https://localhost:8080/"
        },
        "id": "4BbzYExyNYCR",
        "outputId": "d46a2319-dd8d-4194-869b-b0b1f8119080"
      },
      "source": [
        "from pyspark.sql.functions import length\n",
        "# Create a length column to be used as a future feature \n",
        "data_df = df.withColumn('length', length(df['_c1']))\n",
        "data_df.show()"
      ],
      "id": "4BbzYExyNYCR",
      "execution_count": null,
      "outputs": [
        {
          "output_type": "stream",
          "name": "stdout",
          "text": [
            "+--------+--------------------+------+\n",
            "|     _c0|                 _c1|length|\n",
            "+--------+--------------------+------+\n",
            "| neutral|According to Gran...|   127|\n",
            "| neutral|Technopolis plans...|   190|\n",
            "|negative|The international...|   228|\n",
            "|positive|With the new prod...|   206|\n",
            "|positive|According to the ...|   203|\n",
            "|positive|FINANCING OF ASPO...|   178|\n",
            "|positive|For the last quar...|   193|\n",
            "|positive|In the third quar...|   125|\n",
            "|positive|Operating profit ...|   122|\n",
            "|positive|Operating profit ...|   103|\n",
            "|positive|TeliaSonera TLSN ...|   178|\n",
            "|positive|STORA ENSO , NORS...|   164|\n",
            "|positive|A purchase agreem...|   207|\n",
            "|positive|Finnish Talentum ...|   163|\n",
            "|positive|Clothing retail c...|   143|\n",
            "|positive|Consolidated net ...|   163|\n",
            "|positive|Foundries divisio...|   254|\n",
            "|positive|HELSINKI ( AFX ) ...|   237|\n",
            "|positive|Incap Contract Ma...|   138|\n",
            "|positive|Its board of dire...|   125|\n",
            "+--------+--------------------+------+\n",
            "only showing top 20 rows\n",
            "\n"
          ]
        }
      ]
    },
    {
      "cell_type": "code",
      "metadata": {
        "colab": {
          "base_uri": "https://localhost:8080/"
        },
        "id": "HiCnjIddrflT",
        "outputId": "75e24f99-bd2a-4b50-c09f-540a36c038a1"
      },
      "source": [
        "df2 = data_df.withColumnRenamed(\"_c0\", \"class\").withColumnRenamed(\"_c1\", \"text\")\n",
        "df2.printSchema()\n",
        "df2.show()\n"
      ],
      "id": "HiCnjIddrflT",
      "execution_count": null,
      "outputs": [
        {
          "output_type": "stream",
          "name": "stdout",
          "text": [
            "root\n",
            " |-- class: string (nullable = true)\n",
            " |-- text: string (nullable = true)\n",
            " |-- length: integer (nullable = true)\n",
            "\n",
            "+--------+--------------------+------+\n",
            "|   class|                text|length|\n",
            "+--------+--------------------+------+\n",
            "| neutral|According to Gran...|   127|\n",
            "| neutral|Technopolis plans...|   190|\n",
            "|negative|The international...|   228|\n",
            "|positive|With the new prod...|   206|\n",
            "|positive|According to the ...|   203|\n",
            "|positive|FINANCING OF ASPO...|   178|\n",
            "|positive|For the last quar...|   193|\n",
            "|positive|In the third quar...|   125|\n",
            "|positive|Operating profit ...|   122|\n",
            "|positive|Operating profit ...|   103|\n",
            "|positive|TeliaSonera TLSN ...|   178|\n",
            "|positive|STORA ENSO , NORS...|   164|\n",
            "|positive|A purchase agreem...|   207|\n",
            "|positive|Finnish Talentum ...|   163|\n",
            "|positive|Clothing retail c...|   143|\n",
            "|positive|Consolidated net ...|   163|\n",
            "|positive|Foundries divisio...|   254|\n",
            "|positive|HELSINKI ( AFX ) ...|   237|\n",
            "|positive|Incap Contract Ma...|   138|\n",
            "|positive|Its board of dire...|   125|\n",
            "+--------+--------------------+------+\n",
            "only showing top 20 rows\n",
            "\n"
          ]
        }
      ]
    },
    {
      "cell_type": "code",
      "metadata": {
        "id": "0b_Bcnt2yZge"
      },
      "source": [
        "# Tokenize DataFrame\n",
        "tokenizer = Tokenizer(inputCol=\"text\", outputCol=\"Words\")"
      ],
      "id": "0b_Bcnt2yZge",
      "execution_count": null,
      "outputs": []
    },
    {
      "cell_type": "code",
      "metadata": {
        "colab": {
          "base_uri": "https://localhost:8080/"
        },
        "id": "hprnksa5ygg3",
        "outputId": "c1e21661-bd1f-4254-d792-0afb84decbd9"
      },
      "source": [
        "# Transform DataFrame\n",
        "reviewed = tokenizer.transform(df2)\n",
        "reviewed.show()"
      ],
      "id": "hprnksa5ygg3",
      "execution_count": null,
      "outputs": [
        {
          "output_type": "stream",
          "name": "stdout",
          "text": [
            "+--------+--------------------+------+--------------------+\n",
            "|   class|                text|length|               Words|\n",
            "+--------+--------------------+------+--------------------+\n",
            "| neutral|According to Gran...|   127|[according, to, g...|\n",
            "| neutral|Technopolis plans...|   190|[technopolis, pla...|\n",
            "|negative|The international...|   228|[the, internation...|\n",
            "|positive|With the new prod...|   206|[with, the, new, ...|\n",
            "|positive|According to the ...|   203|[according, to, t...|\n",
            "|positive|FINANCING OF ASPO...|   178|[financing, of, a...|\n",
            "|positive|For the last quar...|   193|[for, the, last, ...|\n",
            "|positive|In the third quar...|   125|[in, the, third, ...|\n",
            "|positive|Operating profit ...|   122|[operating, profi...|\n",
            "|positive|Operating profit ...|   103|[operating, profi...|\n",
            "|positive|TeliaSonera TLSN ...|   178|[teliasonera, tls...|\n",
            "|positive|STORA ENSO , NORS...|   164|[stora, enso, ,, ...|\n",
            "|positive|A purchase agreem...|   207|[a, purchase, agr...|\n",
            "|positive|Finnish Talentum ...|   163|[finnish, talentu...|\n",
            "|positive|Clothing retail c...|   143|[clothing, retail...|\n",
            "|positive|Consolidated net ...|   163|[consolidated, ne...|\n",
            "|positive|Foundries divisio...|   254|[foundries, divis...|\n",
            "|positive|HELSINKI ( AFX ) ...|   237|[helsinki, (, afx...|\n",
            "|positive|Incap Contract Ma...|   138|[incap, contract,...|\n",
            "|positive|Its board of dire...|   125|[its, board, of, ...|\n",
            "+--------+--------------------+------+--------------------+\n",
            "only showing top 20 rows\n",
            "\n"
          ]
        }
      ]
    },
    {
      "cell_type": "code",
      "metadata": {
        "colab": {
          "base_uri": "https://localhost:8080/"
        },
        "id": "-cbmWI4pjwhV",
        "outputId": "e69c3b82-ec09-4afd-b1b6-8559b8a73d10"
      },
      "source": [
        "from pyspark.ml.feature import CountVectorizer\n",
        "# from sklearn.feature_extraction.text import CountVectorizer\n",
        "# CountVectorizer( minTF=1.0, minDF=1.0, maxDF=9223372036854775807, vocabSize=262144, binary=False, inputCol=\"text\", outputCol=\"count_vector\")\n",
        "cv = CountVectorizer()\n",
        "cv.setInputCol(\"Words\")\n",
        "# CountVectorizer...\n",
        "cv.setOutputCol(\"vectors\")\n",
        "# CountVectorizer...\n",
        "model = cv.fit(reviewed)\n",
        "model.setInputCol(\"Words\")\n",
        "# CountVectorizerModel...\n",
        "cv_model = model.transform(reviewed).show(truncate=False)"
      ],
      "id": "-cbmWI4pjwhV",
      "execution_count": null,
      "outputs": [
        {
          "output_type": "stream",
          "name": "stdout",
          "text": [
            "+--------+--------------------------------------------------------------------------------------------------------------------------------------------------------------------------------------------------------------------------------------------------------------+------+-----------------------------------------------------------------------------------------------------------------------------------------------------------------------------------------------------------------------------------------------------------------------------------------------------------------+----------------------------------------------------------------------------------------------------------------------------------------------------------------------------------------------------------------------------------------------------------------------------------------------------------------+\n",
            "|class   |text                                                                                                                                                                                                                                                          |length|Words                                                                                                                                                                                                                                                                                                            |vectors                                                                                                                                                                                                                                                                                                         |\n",
            "+--------+--------------------------------------------------------------------------------------------------------------------------------------------------------------------------------------------------------------------------------------------------------------+------+-----------------------------------------------------------------------------------------------------------------------------------------------------------------------------------------------------------------------------------------------------------------------------------------------------------------+----------------------------------------------------------------------------------------------------------------------------------------------------------------------------------------------------------------------------------------------------------------------------------------------------------------+\n",
            "|neutral |According to Gran , the company has no plans to move all production to Russia , although that is where the company is growing .                                                                                                                               |127   |[according, to, gran, ,, the, company, has, no, plans, to, move, all, production, to, russia, ,, although, that, is, where, the, company, is, growing, .]                                                                                                                                                        |(11730,[0,1,2,6,11,13,17,32,83,89,120,136,282,306,387,642,758,3150,4170],[2.0,1.0,2.0,3.0,2.0,2.0,1.0,1.0,1.0,1.0,1.0,1.0,1.0,1.0,1.0,1.0,1.0,1.0,1.0])                                                                                                                                                         |\n",
            "|neutral |Technopolis plans to develop in stages an area of no less than 100,000 square meters in order to host companies working in computer technologies and telecommunications , the statement said .                                                                |190   |[technopolis, plans, to, develop, in, stages, an, area, of, no, less, than, 100,000, square, meters, in, order, to, host, companies, working, in, computer, technologies, and, telecommunications, ,, the, statement, said, .]                                                                                   |(11730,[0,1,2,3,4,5,6,20,38,91,101,119,178,282,306,541,691,750,803,821,880,921,1199,1355,1961,1986,2023,3913],[1.0,1.0,1.0,1.0,3.0,1.0,2.0,1.0,1.0,1.0,1.0,1.0,1.0,1.0,1.0,1.0,1.0,1.0,1.0,1.0,1.0,1.0,1.0,1.0,1.0,1.0,1.0,1.0])                                                                                |\n",
            "|negative|The international electronic industry company Elcoteq has laid off tens of employees from its Tallinn facility ; contrary to earlier layoffs the company contracted the ranks of its office workers , the daily Postimees reported .                          |228   |[the, international, electronic, industry, company, elcoteq, has, laid, off, tens, of, employees, from, its, tallinn, facility, ;, contrary, to, earlier, layoffs, the, company, contracted, the, ranks, of, its, office, workers, ,, the, daily, postimees, reported, .]                                        |(11730,[0,1,2,3,6,13,14,16,17,134,139,154,226,246,259,266,315,359,437,647,895,951,1207,1275,1524,2543,3733,5621,11092,11556],[4.0,1.0,1.0,2.0,1.0,2.0,1.0,2.0,1.0,1.0,1.0,1.0,1.0,1.0,1.0,1.0,1.0,1.0,1.0,1.0,1.0,1.0,1.0,1.0,1.0,1.0,1.0,1.0,1.0,1.0])                                                         |\n",
            "|positive|With the new production plant the company would increase its capacity to meet the expected increase in demand and would improve the use of raw materials and therefore increase the production profitability .                                                |206   |[with, the, new, production, plant, the, company, would, increase, its, capacity, to, meet, the, expected, increase, in, demand, and, would, improve, the, use, of, raw, materials, and, therefore, increase, the, production, profitability, .]                                                                 |(11730,[0,1,3,4,5,6,13,16,18,48,83,95,109,124,145,205,240,481,494,632,684,1166,1573,1790],[5.0,1.0,1.0,1.0,2.0,1.0,1.0,1.0,1.0,1.0,2.0,1.0,3.0,2.0,1.0,1.0,1.0,1.0,1.0,1.0,1.0,1.0,1.0,1.0])                                                                                                                    |\n",
            "|positive|According to the company 's updated strategy for the years 2009-2012 , Basware targets a long-term net sales growth in the range of 20 % -40 % with an operating profit margin of 10 % -20 % of net sales .                                                   |203   |[according, to, the, company, 's, updated, strategy, for, the, years, 2009-2012, ,, basware, targets, a, long-term, net, sales, growth, in, the, range, of, 20, %, -40, %, with, an, operating, profit, margin, of, 10, %, -20, %, of, net, sales, .]                                                            |(11730,[0,1,2,3,4,6,7,8,10,13,18,29,30,33,34,38,41,89,166,184,206,242,281,324,343,492,511,1138,2438,8637,9135,9653],[3.0,1.0,1.0,3.0,1.0,1.0,1.0,1.0,1.0,1.0,1.0,2.0,4.0,2.0,1.0,1.0,1.0,1.0,1.0,1.0,1.0,1.0,1.0,1.0,1.0,1.0,1.0,1.0,1.0,1.0,1.0,1.0])                                                          |\n",
            "|positive|FINANCING OF ASPOCOMP 'S GROWTH Aspocomp is aggressively pursuing its growth strategy by increasingly focusing on technologically more demanding HDI printed circuit boards PCBs .                                                                            |178   |[financing, of, aspocomp, 's, growth, aspocomp, is, aggressively, pursuing, its, growth, strategy, by, increasingly, focusing, on, technologically, more, demanding, hdi, printed, circuit, boards, pcbs, .]                                                                                                     |(11730,[1,3,10,11,15,16,19,110,184,324,533,894,1242,1537,1572,1818,2031,2632,3419,5174,7541,10262,11242],[1.0,1.0,1.0,1.0,1.0,1.0,1.0,1.0,2.0,1.0,2.0,1.0,1.0,1.0,1.0,1.0,1.0,1.0,1.0,1.0,1.0,1.0,1.0])                                                                                                         |\n",
            "|positive|For the last quarter of 2010 , Componenta 's net sales doubled to EUR131m from EUR76m for the same period a year earlier , while it moved to a zero pre-tax profit from a pre-tax loss of EUR7m .                                                             |193   |[for, the, last, quarter, of, 2010, ,, componenta, 's, net, sales, doubled, to, eur131m, from, eur76m, for, the, same, period, a, year, earlier, ,, while, it, moved, to, a, zero, pre-tax, profit, from, a, pre-tax, loss, of, eur7m, .]                                                                        |(11730,[0,1,2,3,6,7,8,10,14,28,29,33,34,46,50,54,55,73,139,141,149,167,646,1286,2149,2393,3592,8138,10469,10862],[2.0,1.0,2.0,2.0,2.0,3.0,2.0,1.0,2.0,1.0,1.0,1.0,1.0,1.0,1.0,1.0,1.0,1.0,1.0,1.0,1.0,1.0,1.0,2.0,1.0,1.0,1.0,1.0,1.0,1.0])                                                                     |\n",
            "|positive|In the third quarter of 2010 , net sales increased by 5.2 % to EUR 205.5 mn , and operating profit by 34.9 % to EUR 23.5 mn .                                                                                                                                 |125   |[in, the, third, quarter, of, 2010, ,, net, sales, increased, by, 5.2, %, to, eur, 205.5, mn, ,, and, operating, profit, by, 34.9, %, to, eur, 23.5, mn, .]                                                                                                                                                      |(11730,[0,1,2,3,4,5,6,9,19,24,29,30,33,34,41,54,55,103,163,1562,2999,4648,6690],[1.0,1.0,2.0,1.0,1.0,1.0,2.0,2.0,2.0,2.0,1.0,2.0,1.0,1.0,1.0,1.0,1.0,1.0,1.0,1.0,1.0,1.0,1.0])                                                                                                                                  |\n",
            "|positive|Operating profit rose to EUR 13.1 mn from EUR 8.7 mn in the corresponding period in 2007 representing 7.7 % of net sales .                                                                                                                                    |122   |[operating, profit, rose, to, eur, 13.1, mn, from, eur, 8.7, mn, in, the, corresponding, period, in, 2007, representing, 7.7, %, of, net, sales, .]                                                                                                                                                              |(11730,[0,1,3,4,6,9,14,24,29,30,33,34,41,50,52,94,113,813,2256,2339,2524],[1.0,1.0,1.0,2.0,1.0,2.0,1.0,2.0,1.0,1.0,1.0,1.0,1.0,1.0,1.0,1.0,1.0,1.0,1.0,1.0,1.0])                                                                                                                                                |\n",
            "|positive|Operating profit totalled EUR 21.1 mn , up from EUR 18.6 mn in 2007 , representing 9.7 % of net sales .                                                                                                                                                       |103   |[operating, profit, totalled, eur, 21.1, mn, ,, up, from, eur, 18.6, mn, in, 2007, ,, representing, 9.7, %, of, net, sales, .]                                                                                                                                                                                   |(11730,[1,2,3,4,9,14,24,29,30,33,34,41,52,67,234,813,1661,3040,3102],[1.0,2.0,1.0,1.0,2.0,1.0,2.0,1.0,1.0,1.0,1.0,1.0,1.0,1.0,1.0,1.0,1.0,1.0,1.0])                                                                                                                                                             |\n",
            "|positive|TeliaSonera TLSN said the offer is in line with its strategy to increase its ownership in core business holdings and would strengthen Eesti Telekom 's offering to its customers .                                                                            |178   |[teliasonera, tlsn, said, the, offer, is, in, line, with, its, strategy, to, increase, its, ownership, in, core, business, holdings, and, would, strengthen, eesti, telekom, 's, offering, to, its, customers, .]                                                                                                |(11730,[0,1,4,5,6,10,11,16,18,20,49,109,112,124,190,324,335,458,513,796,874,877,1099,1528,5229,6334],[1.0,1.0,2.0,1.0,2.0,1.0,1.0,3.0,1.0,1.0,1.0,1.0,1.0,1.0,1.0,1.0,1.0,1.0,1.0,1.0,1.0,1.0,1.0,1.0,1.0,1.0])                                                                                                 |\n",
            "|positive|STORA ENSO , NORSKE SKOG , M-REAL , UPM-KYMMENE Credit Suisse First Boston ( CFSB ) raised the fair value for shares in four of the largest Nordic forestry groups .                                                                                          |164   |[stora, enso, ,, norske, skog, ,, m-real, ,, upm-kymmene, credit, suisse, first, boston, (, cfsb, ), raised, the, fair, value, for, shares, in, four, of, the, largest, nordic, forestry, groups, .]                                                                                                             |(11730,[0,1,2,3,4,8,23,25,64,66,117,224,231,284,312,383,433,461,692,753,987,1387,1803,2900,3438,4825,6059,7603],[2.0,1.0,3.0,1.0,1.0,1.0,1.0,1.0,1.0,1.0,1.0,1.0,1.0,1.0,1.0,1.0,1.0,1.0,1.0,1.0,1.0,1.0,1.0,1.0,1.0,1.0,1.0,1.0])                                                                              |\n",
            "|positive|A purchase agreement for 7,200 tons of gasoline with delivery at the Hamina terminal , Finland , was signed with Neste Oil OYj at the average Platts index for this September plus eight US dollars per month .                                               |207   |[a, purchase, agreement, for, 7,200, tons, of, gasoline, with, delivery, at, the, hamina, terminal, ,, finland, ,, was, signed, with, neste, oil, oyj, at, the, average, platts, index, for, this, september, plus, eight, us, dollars, per, month, .]                                                           |(11730,[0,1,2,3,7,8,18,27,35,37,53,65,85,105,155,187,219,241,428,462,500,572,957,995,1088,1303,1348,1577,1666,2287,3686,8432,10801],[2.0,1.0,2.0,1.0,1.0,2.0,2.0,2.0,1.0,1.0,1.0,1.0,1.0,1.0,1.0,1.0,1.0,1.0,1.0,1.0,1.0,1.0,1.0,1.0,1.0,1.0,1.0,1.0,1.0,1.0,1.0,1.0,1.0])                                      |\n",
            "|positive|Finnish Talentum reports its operating profit increased to EUR 20.5 mn in 2005 from EUR 9.3 mn in 2004 , and net sales totaled EUR 103.3 mn , up from EUR 96.4 mn .                                                                                           |163   |[finnish, talentum, reports, its, operating, profit, increased, to, eur, 20.5, mn, in, 2005, from, eur, 9.3, mn, in, 2004, ,, and, net, sales, totaled, eur, 103.3, mn, ,, up, from, eur, 96.4, mn, .]                                                                                                           |(11730,[1,2,4,5,6,9,14,16,24,26,29,33,34,41,67,103,107,254,288,446,890,3061,5010,5421,7231],[1.0,2.0,2.0,1.0,1.0,4.0,2.0,1.0,4.0,1.0,1.0,1.0,1.0,1.0,1.0,1.0,1.0,1.0,1.0,1.0,1.0,1.0,1.0,1.0,1.0])                                                                                                              |\n",
            "|positive|Clothing retail chain Sepp+�l+� 's sales increased by 8 % to EUR 155.2 mn , and operating profit rose to EUR 31.1 mn from EUR 17.1 mn in 2004 .                                                                                                               |143   |[clothing, retail, chain, sepp+�l+�, 's, sales, increased, by, 8, %, to, eur, 155.2, mn, ,, and, operating, profit, rose, to, eur, 31.1, mn, from, eur, 17.1, mn, in, 2004, .]                                                                                                                                   |(11730,[1,2,4,5,6,9,10,14,19,24,29,30,34,41,103,113,288,321,386,509,830,3095,4121,4665,5084],[1.0,1.0,1.0,1.0,2.0,3.0,1.0,1.0,1.0,3.0,1.0,1.0,1.0,1.0,1.0,1.0,1.0,1.0,1.0,1.0,1.0,1.0,1.0,1.0,1.0])                                                                                                             |\n",
            "|positive|Consolidated net sales increased 16 % to reach EUR74 .8 m , while operating profit amounted to EUR0 .9 m compared to a loss of EUR0 .7 m in the prior year period .                                                                                           |163   |[consolidated, net, sales, increased, 16, %, to, reach, eur74, .8, m, ,, while, operating, profit, amounted, to, eur0, .9, m, compared, to, a, loss, of, eur0, .7, m, in, the, prior, year, period, .]                                                                                                           |(11730,[0,1,2,3,4,6,7,29,30,33,34,41,46,47,50,73,76,103,167,197,334,456,598,711,809,1005,1067,1655,5648],[1.0,1.0,1.0,1.0,1.0,3.0,1.0,1.0,1.0,1.0,1.0,1.0,1.0,3.0,1.0,1.0,1.0,1.0,1.0,2.0,1.0,1.0,1.0,1.0,1.0,1.0,1.0,1.0,1.0])                                                                                 |\n",
            "|positive|Foundries division reports its sales increased by 9.7 % to EUR 63.1 mn from EUR 57.5 mn in the corresponding period in 2006 , and sales of the Machine Shop division increased by 16.4 % to EUR 41.2 mn from EUR 35.4 mn in the corresponding period in 2006 .|254   |[foundries, division, reports, its, sales, increased, by, 9.7, %, to, eur, 63.1, mn, from, eur, 57.5, mn, in, the, corresponding, period, in, 2006, ,, and, sales, of, the, machine, shop, division, increased, by, 16.4, %, to, eur, 41.2, mn, from, eur, 35.4, mn, in, the, corresponding, period, in, 2006, .]|(11730,[0,1,2,3,4,5,6,9,14,16,19,24,29,30,50,68,94,103,311,446,819,1661,2089,2372,2536,3552,5018,5995,9446],[3.0,1.0,1.0,1.0,4.0,1.0,2.0,4.0,2.0,1.0,2.0,4.0,2.0,2.0,2.0,2.0,2.0,2.0,2.0,1.0,1.0,1.0,1.0,1.0,1.0,1.0,1.0,1.0,1.0])                                                                              |\n",
            "|positive|HELSINKI ( AFX ) - Shares closed higher , led by Nokia after it announced plans to team up with Sanyo to manufacture 3G handsets , and by Nokian Tyres after its fourth-quarter earnings report beat analysts ' expectations , dealers said .                 |237   |[helsinki, (, afx, ), -, shares, closed, higher, ,, led, by, nokia, after, it, announced, plans, to, team, up, with, sanyo, to, manufacture, 3g, handsets, ,, and, by, nokian, tyres, after, its, fourth-quarter, earnings, report, beat, analysts, ', expectations, ,, dealers, said, .]                        |(11730,[1,2,5,6,16,18,19,20,23,25,28,40,64,67,71,78,99,137,168,194,244,306,493,532,652,752,885,974,1070,1114,1142,1922,2019,2042,2190,3174,5457,9273],[1.0,3.0,1.0,2.0,1.0,1.0,2.0,1.0,1.0,1.0,1.0,1.0,1.0,1.0,1.0,1.0,1.0,2.0,1.0,1.0,1.0,1.0,1.0,1.0,1.0,1.0,1.0,1.0,1.0,1.0,1.0,1.0,1.0,1.0,1.0,1.0,1.0,1.0])|\n",
            "|positive|Incap Contract Manufacturing Services Pvt Ltd , a subsidiary of Incap Corporation of Finland , plans to double its revenues by 2007-2008 .                                                                                                                    |138   |[incap, contract, manufacturing, services, pvt, ltd, ,, a, subsidiary, of, incap, corporation, of, finland, ,, plans, to, double, its, revenues, by, 2007-2008, .]                                                                                                                                               |(11730,[1,2,3,6,7,16,19,37,58,77,84,201,230,262,306,546,820,1278,3455,4282],[1.0,2.0,2.0,1.0,1.0,1.0,1.0,1.0,1.0,1.0,1.0,1.0,1.0,1.0,1.0,2.0,1.0,1.0,1.0,1.0])                                                                                                                                                  |\n",
            "|positive|Its board of directors will propose a dividend of EUR0 .12 per share for 2010 , up from the EUR0 .08 per share paid in 2009 .                                                                                                                                 |125   |[its, board, of, directors, will, propose, a, dividend, of, eur0, .12, per, share, for, 2010, ,, up, from, the, eur0, .08, per, share, paid, in, 2009, .]                                                                                                                                                        |(11730,[0,1,2,3,4,7,8,12,14,16,42,55,56,67,85,125,197,316,411,699,1230,2312,2545],[1.0,1.0,1.0,2.0,1.0,1.0,1.0,1.0,1.0,1.0,1.0,1.0,2.0,1.0,2.0,1.0,2.0,1.0,1.0,1.0,1.0,1.0,1.0])                                                                                                                                |\n",
            "+--------+--------------------------------------------------------------------------------------------------------------------------------------------------------------------------------------------------------------------------------------------------------------+------+-----------------------------------------------------------------------------------------------------------------------------------------------------------------------------------------------------------------------------------------------------------------------------------------------------------------+----------------------------------------------------------------------------------------------------------------------------------------------------------------------------------------------------------------------------------------------------------------------------------------------------------------+\n",
            "only showing top 20 rows\n",
            "\n"
          ]
        }
      ]
    },
    {
      "cell_type": "code",
      "metadata": {
        "id": "OC0U0xzcyrOT"
      },
      "source": [
        "# Remove stop words\n",
        "stopremove = StopWordsRemover(inputCol=\"Words\", outputCol=\"filtered\")"
      ],
      "id": "OC0U0xzcyrOT",
      "execution_count": null,
      "outputs": []
    },
    {
      "cell_type": "code",
      "metadata": {
        "colab": {
          "base_uri": "https://localhost:8080/"
        },
        "id": "e9kjg7Fvyvif",
        "outputId": "2b0ca484-397e-4529-da85-7e4eae1e6344"
      },
      "source": [
        "# Transform new DataFrame\n",
        "newFrame = stopremove.transform(reviewed)\n",
        "newFrame.show()"
      ],
      "id": "e9kjg7Fvyvif",
      "execution_count": null,
      "outputs": [
        {
          "output_type": "stream",
          "name": "stdout",
          "text": [
            "+--------+--------------------+------+--------------------+--------------------+\n",
            "|   class|                text|length|               Words|            filtered|\n",
            "+--------+--------------------+------+--------------------+--------------------+\n",
            "| neutral|According to Gran...|   127|[according, to, g...|[according, gran,...|\n",
            "| neutral|Technopolis plans...|   190|[technopolis, pla...|[technopolis, pla...|\n",
            "|negative|The international...|   228|[the, internation...|[international, e...|\n",
            "|positive|With the new prod...|   206|[with, the, new, ...|[new, production,...|\n",
            "|positive|According to the ...|   203|[according, to, t...|[according, compa...|\n",
            "|positive|FINANCING OF ASPO...|   178|[financing, of, a...|[financing, aspoc...|\n",
            "|positive|For the last quar...|   193|[for, the, last, ...|[last, quarter, 2...|\n",
            "|positive|In the third quar...|   125|[in, the, third, ...|[third, quarter, ...|\n",
            "|positive|Operating profit ...|   122|[operating, profi...|[operating, profi...|\n",
            "|positive|Operating profit ...|   103|[operating, profi...|[operating, profi...|\n",
            "|positive|TeliaSonera TLSN ...|   178|[teliasonera, tls...|[teliasonera, tls...|\n",
            "|positive|STORA ENSO , NORS...|   164|[stora, enso, ,, ...|[stora, enso, ,, ...|\n",
            "|positive|A purchase agreem...|   207|[a, purchase, agr...|[purchase, agreem...|\n",
            "|positive|Finnish Talentum ...|   163|[finnish, talentu...|[finnish, talentu...|\n",
            "|positive|Clothing retail c...|   143|[clothing, retail...|[clothing, retail...|\n",
            "|positive|Consolidated net ...|   163|[consolidated, ne...|[consolidated, ne...|\n",
            "|positive|Foundries divisio...|   254|[foundries, divis...|[foundries, divis...|\n",
            "|positive|HELSINKI ( AFX ) ...|   237|[helsinki, (, afx...|[helsinki, (, afx...|\n",
            "|positive|Incap Contract Ma...|   138|[incap, contract,...|[incap, contract,...|\n",
            "|positive|Its board of dire...|   125|[its, board, of, ...|[board, directors...|\n",
            "+--------+--------------------+------+--------------------+--------------------+\n",
            "only showing top 20 rows\n",
            "\n"
          ]
        }
      ]
    },
    {
      "cell_type": "code",
      "metadata": {
        "id": "59dwxefsNYCX"
      },
      "source": [
        "from pyspark.ml.feature import Tokenizer, StopWordsRemover, HashingTF, IDF, StringIndexer\n",
        "# Create all the features to the data set\n",
        "pos_neg_to_num = StringIndexer(inputCol='class',outputCol='label')\n",
        "# tokenizer = Tokenizer(inputCol=\"text\", outputCol=\"token_text\")\n",
        "# stopremove = StopWordsRemover(inputCol='token_text',outputCol='stop_tokens')\n",
        "# hashingTF = HashingTF(inputCol=\"filtered\", outputCol='hash_token')\n",
        "# idf = IDF(inputCol='hash_token', outputCol='idf_token')\n"
      ],
      "id": "59dwxefsNYCX",
      "execution_count": null,
      "outputs": []
    },
    {
      "cell_type": "code",
      "metadata": {
        "colab": {
          "base_uri": "https://localhost:8080/"
        },
        "id": "MEs8GDC7tHb-",
        "outputId": "3f417c90-3f2b-490d-a2c3-14edb63b4b67"
      },
      "source": [
        "reviewed.show()"
      ],
      "id": "MEs8GDC7tHb-",
      "execution_count": null,
      "outputs": [
        {
          "output_type": "stream",
          "name": "stdout",
          "text": [
            "+--------+--------------------+------+--------------------+\n",
            "|   class|                text|length|               Words|\n",
            "+--------+--------------------+------+--------------------+\n",
            "| neutral|According to Gran...|   127|[according, to, g...|\n",
            "| neutral|Technopolis plans...|   190|[technopolis, pla...|\n",
            "|negative|The international...|   228|[the, internation...|\n",
            "|positive|With the new prod...|   206|[with, the, new, ...|\n",
            "|positive|According to the ...|   203|[according, to, t...|\n",
            "|positive|FINANCING OF ASPO...|   178|[financing, of, a...|\n",
            "|positive|For the last quar...|   193|[for, the, last, ...|\n",
            "|positive|In the third quar...|   125|[in, the, third, ...|\n",
            "|positive|Operating profit ...|   122|[operating, profi...|\n",
            "|positive|Operating profit ...|   103|[operating, profi...|\n",
            "|positive|TeliaSonera TLSN ...|   178|[teliasonera, tls...|\n",
            "|positive|STORA ENSO , NORS...|   164|[stora, enso, ,, ...|\n",
            "|positive|A purchase agreem...|   207|[a, purchase, agr...|\n",
            "|positive|Finnish Talentum ...|   163|[finnish, talentu...|\n",
            "|positive|Clothing retail c...|   143|[clothing, retail...|\n",
            "|positive|Consolidated net ...|   163|[consolidated, ne...|\n",
            "|positive|Foundries divisio...|   254|[foundries, divis...|\n",
            "|positive|HELSINKI ( AFX ) ...|   237|[helsinki, (, afx...|\n",
            "|positive|Incap Contract Ma...|   138|[incap, contract,...|\n",
            "|positive|Its board of dire...|   125|[its, board, of, ...|\n",
            "+--------+--------------------+------+--------------------+\n",
            "only showing top 20 rows\n",
            "\n"
          ]
        }
      ]
    },
    {
      "cell_type": "code",
      "metadata": {
        "id": "yssO0_Q5NYCb"
      },
      "source": [
        "from pyspark.ml.feature import VectorAssembler\n",
        "from pyspark.ml.linalg import Vector\n",
        "\n",
        "# Create feature vectors\n",
        "clean_up = VectorAssembler(inputCols=['vectors', 'length'], outputCol='features')"
      ],
      "id": "yssO0_Q5NYCb",
      "execution_count": null,
      "outputs": []
    },
    {
      "cell_type": "code",
      "metadata": {
        "id": "E_YyUpR3NYCf"
      },
      "source": [
        "# Create a and run a data processing Pipeline\n",
        "from pyspark.ml import Pipeline\n",
        "data_prep_pipeline = Pipeline(stages=[pos_neg_to_num, tokenizer, cv, clean_up])"
      ],
      "id": "E_YyUpR3NYCf",
      "execution_count": null,
      "outputs": []
    },
    {
      "cell_type": "code",
      "metadata": {
        "id": "AzpTj5z1tuu0"
      },
      "source": [
        "# Fit and transform the pipeline\n",
        "cleaner = data_prep_pipeline.fit(df2)\n",
        "cleaned = cleaner.transform(df2)"
      ],
      "id": "AzpTj5z1tuu0",
      "execution_count": null,
      "outputs": []
    },
    {
      "cell_type": "code",
      "metadata": {
        "colab": {
          "base_uri": "https://localhost:8080/",
          "height": 370
        },
        "id": "kDODyxF7NYCn",
        "outputId": "3d9d360f-2cae-4f46-e082-215ec937d8f8"
      },
      "source": [
        "# Show label and resulting features\n",
        "cleaned.select(['label','features']).show()"
      ],
      "id": "kDODyxF7NYCn",
      "execution_count": null,
      "outputs": [
        {
          "output_type": "error",
          "ename": "AnalysisException",
          "evalue": "ignored",
          "traceback": [
            "\u001b[0;31m---------------------------------------------------------------------------\u001b[0m",
            "\u001b[0;31mAnalysisException\u001b[0m                         Traceback (most recent call last)",
            "\u001b[0;32m<ipython-input-16-95548753b61f>\u001b[0m in \u001b[0;36m<module>\u001b[0;34m()\u001b[0m\n\u001b[1;32m      1\u001b[0m \u001b[0;31m# Show label and resulting features\u001b[0m\u001b[0;34m\u001b[0m\u001b[0;34m\u001b[0m\u001b[0;34m\u001b[0m\u001b[0m\n\u001b[0;32m----> 2\u001b[0;31m \u001b[0mcleaned\u001b[0m\u001b[0;34m.\u001b[0m\u001b[0mselect\u001b[0m\u001b[0;34m(\u001b[0m\u001b[0;34m[\u001b[0m\u001b[0;34m'label'\u001b[0m\u001b[0;34m,\u001b[0m\u001b[0;34m'features'\u001b[0m\u001b[0;34m]\u001b[0m\u001b[0;34m)\u001b[0m\u001b[0;34m.\u001b[0m\u001b[0mshow\u001b[0m\u001b[0;34m(\u001b[0m\u001b[0;34m)\u001b[0m\u001b[0;34m\u001b[0m\u001b[0;34m\u001b[0m\u001b[0m\n\u001b[0m",
            "\u001b[0;32m/content/spark-3.0.3-bin-hadoop2.7/python/pyspark/sql/dataframe.py\u001b[0m in \u001b[0;36mselect\u001b[0;34m(self, *cols)\u001b[0m\n\u001b[1;32m   1419\u001b[0m         \u001b[0;34m[\u001b[0m\u001b[0mRow\u001b[0m\u001b[0;34m(\u001b[0m\u001b[0mname\u001b[0m\u001b[0;34m=\u001b[0m\u001b[0;34mu'Alice'\u001b[0m\u001b[0;34m,\u001b[0m \u001b[0mage\u001b[0m\u001b[0;34m=\u001b[0m\u001b[0;36m12\u001b[0m\u001b[0;34m)\u001b[0m\u001b[0;34m,\u001b[0m \u001b[0mRow\u001b[0m\u001b[0;34m(\u001b[0m\u001b[0mname\u001b[0m\u001b[0;34m=\u001b[0m\u001b[0;34mu'Bob'\u001b[0m\u001b[0;34m,\u001b[0m \u001b[0mage\u001b[0m\u001b[0;34m=\u001b[0m\u001b[0;36m15\u001b[0m\u001b[0;34m)\u001b[0m\u001b[0;34m]\u001b[0m\u001b[0;34m\u001b[0m\u001b[0;34m\u001b[0m\u001b[0m\n\u001b[1;32m   1420\u001b[0m         \"\"\"\n\u001b[0;32m-> 1421\u001b[0;31m         \u001b[0mjdf\u001b[0m \u001b[0;34m=\u001b[0m \u001b[0mself\u001b[0m\u001b[0;34m.\u001b[0m\u001b[0m_jdf\u001b[0m\u001b[0;34m.\u001b[0m\u001b[0mselect\u001b[0m\u001b[0;34m(\u001b[0m\u001b[0mself\u001b[0m\u001b[0;34m.\u001b[0m\u001b[0m_jcols\u001b[0m\u001b[0;34m(\u001b[0m\u001b[0;34m*\u001b[0m\u001b[0mcols\u001b[0m\u001b[0;34m)\u001b[0m\u001b[0;34m)\u001b[0m\u001b[0;34m\u001b[0m\u001b[0;34m\u001b[0m\u001b[0m\n\u001b[0m\u001b[1;32m   1422\u001b[0m         \u001b[0;32mreturn\u001b[0m \u001b[0mDataFrame\u001b[0m\u001b[0;34m(\u001b[0m\u001b[0mjdf\u001b[0m\u001b[0;34m,\u001b[0m \u001b[0mself\u001b[0m\u001b[0;34m.\u001b[0m\u001b[0msql_ctx\u001b[0m\u001b[0;34m)\u001b[0m\u001b[0;34m\u001b[0m\u001b[0;34m\u001b[0m\u001b[0m\n\u001b[1;32m   1423\u001b[0m \u001b[0;34m\u001b[0m\u001b[0m\n",
            "\u001b[0;32m/content/spark-3.0.3-bin-hadoop2.7/python/lib/py4j-0.10.9-src.zip/py4j/java_gateway.py\u001b[0m in \u001b[0;36m__call__\u001b[0;34m(self, *args)\u001b[0m\n\u001b[1;32m   1303\u001b[0m         \u001b[0manswer\u001b[0m \u001b[0;34m=\u001b[0m \u001b[0mself\u001b[0m\u001b[0;34m.\u001b[0m\u001b[0mgateway_client\u001b[0m\u001b[0;34m.\u001b[0m\u001b[0msend_command\u001b[0m\u001b[0;34m(\u001b[0m\u001b[0mcommand\u001b[0m\u001b[0;34m)\u001b[0m\u001b[0;34m\u001b[0m\u001b[0;34m\u001b[0m\u001b[0m\n\u001b[1;32m   1304\u001b[0m         return_value = get_return_value(\n\u001b[0;32m-> 1305\u001b[0;31m             answer, self.gateway_client, self.target_id, self.name)\n\u001b[0m\u001b[1;32m   1306\u001b[0m \u001b[0;34m\u001b[0m\u001b[0m\n\u001b[1;32m   1307\u001b[0m         \u001b[0;32mfor\u001b[0m \u001b[0mtemp_arg\u001b[0m \u001b[0;32min\u001b[0m \u001b[0mtemp_args\u001b[0m\u001b[0;34m:\u001b[0m\u001b[0;34m\u001b[0m\u001b[0;34m\u001b[0m\u001b[0m\n",
            "\u001b[0;32m/content/spark-3.0.3-bin-hadoop2.7/python/pyspark/sql/utils.py\u001b[0m in \u001b[0;36mdeco\u001b[0;34m(*a, **kw)\u001b[0m\n\u001b[1;32m    132\u001b[0m                 \u001b[0;31m# Hide where the exception came from that shows a non-Pythonic\u001b[0m\u001b[0;34m\u001b[0m\u001b[0;34m\u001b[0m\u001b[0;34m\u001b[0m\u001b[0m\n\u001b[1;32m    133\u001b[0m                 \u001b[0;31m# JVM exception message.\u001b[0m\u001b[0;34m\u001b[0m\u001b[0;34m\u001b[0m\u001b[0;34m\u001b[0m\u001b[0m\n\u001b[0;32m--> 134\u001b[0;31m                 \u001b[0mraise_from\u001b[0m\u001b[0;34m(\u001b[0m\u001b[0mconverted\u001b[0m\u001b[0;34m)\u001b[0m\u001b[0;34m\u001b[0m\u001b[0;34m\u001b[0m\u001b[0m\n\u001b[0m\u001b[1;32m    135\u001b[0m             \u001b[0;32melse\u001b[0m\u001b[0;34m:\u001b[0m\u001b[0;34m\u001b[0m\u001b[0;34m\u001b[0m\u001b[0m\n\u001b[1;32m    136\u001b[0m                 \u001b[0;32mraise\u001b[0m\u001b[0;34m\u001b[0m\u001b[0;34m\u001b[0m\u001b[0m\n",
            "\u001b[0;32m/content/spark-3.0.3-bin-hadoop2.7/python/pyspark/sql/utils.py\u001b[0m in \u001b[0;36mraise_from\u001b[0;34m(e)\u001b[0m\n",
            "\u001b[0;31mAnalysisException\u001b[0m: cannot resolve '`features`' given input columns: [Words, class, label, length, text, vectors];;\n'Project [label#211, 'features]\n+- Project [class#50, text#54, length#31, label#211, Words#218, UDF(Words#218) AS vectors#226]\n   +- Project [class#50, text#54, length#31, label#211, UDF(text#54) AS Words#218]\n      +- Project [class#50, text#54, length#31, UDF(cast(class#50 as string)) AS label#211]\n         +- Project [class#50, _c1#17 AS text#54, length#31]\n            +- Project [_c0#16 AS class#50, _c1#17, length#31]\n               +- Project [_c0#16, _c1#17, length(_c1#17) AS length#31]\n                  +- Relation[_c0#16,_c1#17] csv\n"
          ]
        }
      ]
    },
    {
      "cell_type": "code",
      "metadata": {
        "id": "WzfCQmrVNYCr"
      },
      "source": [
        "from pyspark.ml.classification import NaiveBayes\n",
        "# Break data down into a training set and a testing set\n",
        "training, testing = cleaned.randomSplit([0.7, 0.3])\n",
        "\n",
        "# Create a Naive Bayes model and fit training data\n",
        "nb = NaiveBayes()\n",
        "predictor = nb.fit(training)"
      ],
      "id": "WzfCQmrVNYCr",
      "execution_count": null,
      "outputs": []
    },
    {
      "cell_type": "code",
      "metadata": {
        "id": "zeckHhg5NYCv"
      },
      "source": [
        "# Tranform the model with the testing data\n",
        "test_results = predictor.transform(testing)\n",
        "test_results.show()"
      ],
      "id": "zeckHhg5NYCv",
      "execution_count": null,
      "outputs": []
    },
    {
      "cell_type": "code",
      "metadata": {
        "id": "OVFrWcHINYCz"
      },
      "source": [
        "# Use the Class Evaluator for a cleaner description\n",
        "from pyspark.ml.evaluation import MulticlassClassificationEvaluator\n",
        "\n",
        "acc_eval = MulticlassClassificationEvaluator()\n",
        "acc = acc_eval.evaluate(test_results)\n",
        "print(\"Accuracy of model at predicting reviews was: %f\" % acc)"
      ],
      "id": "OVFrWcHINYCz",
      "execution_count": null,
      "outputs": []
    },
    {
      "cell_type": "code",
      "metadata": {
        "id": "vcJDlyu1utyr"
      },
      "source": [
        ""
      ],
      "id": "vcJDlyu1utyr",
      "execution_count": null,
      "outputs": []
    }
  ]
}