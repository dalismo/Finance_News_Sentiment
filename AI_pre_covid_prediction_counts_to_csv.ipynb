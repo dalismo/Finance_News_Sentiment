{
  "nbformat": 4,
  "nbformat_minor": 5,
  "metadata": {
    "kernelspec": {
      "display_name": "Python 3",
      "language": "python",
      "name": "python3"
    },
    "language_info": {
      "codemirror_mode": {
        "name": "ipython",
        "version": 3
      },
      "file_extension": ".py",
      "mimetype": "text/x-python",
      "name": "python",
      "nbconvert_exporter": "python",
      "pygments_lexer": "ipython3",
      "version": "3.8.8"
    },
    "colab": {
      "name": "AI_pre-covid-prediction_counts.ipynb",
      "provenance": [],
      "collapsed_sections": [],
      "include_colab_link": true
    }
  },
  "cells": [
    {
      "cell_type": "markdown",
      "metadata": {
        "id": "view-in-github",
        "colab_type": "text"
      },
      "source": [
        "<a href=\"https://colab.research.google.com/github/dalismo/Finance_News_Sentiment/blob/ai%2Fsave_sentiment_count_to_csv/AI_pre_covid_prediction_counts_to_csv.ipynb\" target=\"_parent\"><img src=\"https://colab.research.google.com/assets/colab-badge.svg\" alt=\"Open In Colab\"/></a>"
      ]
    },
    {
      "cell_type": "code",
      "metadata": {
        "colab": {
          "base_uri": "https://localhost:8080/"
        },
        "id": "b7676daf",
        "outputId": "12cf5f08-002d-4acd-93ec-c608e175fdc3"
      },
      "source": [
        "import pandas as pd\n",
        "\n",
        "import os\n",
        "# Find the latest version of spark 3.0  from http://www.apache.org/dist/spark/ and enter as the spark version\n",
        "# For example:\n",
        "# spark_version = 'spark-3.0.3'\n",
        "spark_version = 'spark-3.0.3'\n",
        "os.environ['SPARK_VERSION']=spark_version\n",
        "\n",
        "# Install Spark and Java\n",
        "!apt-get update\n",
        "!apt-get install openjdk-11-jdk-headless -qq > /dev/null\n",
        "!wget -q http://www.apache.org/dist/spark/$SPARK_VERSION/$SPARK_VERSION-bin-hadoop2.7.tgz\n",
        "!tar xf $SPARK_VERSION-bin-hadoop2.7.tgz\n",
        "!pip install -q findspark\n",
        "\n",
        "# Set Environment Variables\n",
        "os.environ[\"JAVA_HOME\"] = \"/usr/lib/jvm/java-11-openjdk-amd64\"\n",
        "os.environ[\"SPARK_HOME\"] = f\"/content/{spark_version}-bin-hadoop2.7\"\n",
        "\n",
        "# Start a SparkSession\n",
        "import findspark\n",
        "findspark.init()"
      ],
      "id": "b7676daf",
      "execution_count": 1,
      "outputs": [
        {
          "output_type": "stream",
          "name": "stdout",
          "text": [
            "\r0% [Working]\r            \rGet:1 http://ppa.launchpad.net/c2d4u.team/c2d4u4.0+/ubuntu bionic InRelease [15.9 kB]\n",
            "\r0% [Connecting to archive.ubuntu.com (91.189.88.152)] [Connecting to security.u\r                                                                               \rHit:2 http://archive.ubuntu.com/ubuntu bionic InRelease\n",
            "\r0% [Waiting for headers] [Connecting to security.ubuntu.com (91.189.91.39)] [Co\r                                                                               \rGet:3 http://archive.ubuntu.com/ubuntu bionic-updates InRelease [88.7 kB]\n",
            "\r0% [3 InRelease 33.0 kB/88.7 kB 37%] [Connecting to security.ubuntu.com (91.189\r0% [2 InRelease gpgv 242 kB] [3 InRelease 33.0 kB/88.7 kB 37%] [Connecting to s\r                                                                               \rGet:4 https://cloud.r-project.org/bin/linux/ubuntu bionic-cran40/ InRelease [3,626 B]\n",
            "\r0% [2 InRelease gpgv 242 kB] [3 InRelease 47.5 kB/88.7 kB 54%] [Connecting to s\r                                                                               \rHit:5 http://ppa.launchpad.net/cran/libgit2/ubuntu bionic InRelease\n",
            "\r0% [2 InRelease gpgv 242 kB] [3 InRelease 47.5 kB/88.7 kB 54%] [Connecting to s\r0% [2 InRelease gpgv 242 kB] [Waiting for headers] [Connecting to security.ubun\r                                                                               \rGet:6 http://archive.ubuntu.com/ubuntu bionic-backports InRelease [74.6 kB]\n",
            "\r0% [2 InRelease gpgv 242 kB] [6 InRelease 9,842 B/74.6 kB 13%] [Connecting to s\r                                                                               \rGet:7 http://ppa.launchpad.net/deadsnakes/ppa/ubuntu bionic InRelease [15.9 kB]\n",
            "\r0% [2 InRelease gpgv 242 kB] [6 InRelease 54.7 kB/74.6 kB 73%] [Waiting for hea\r0% [2 InRelease gpgv 242 kB] [Waiting for headers] [7 InRelease 2,572 B/15.9 kB\r0% [2 InRelease gpgv 242 kB] [Waiting for headers] [Connecting to ppa.launchpad\r                                                                               \rHit:8 http://ppa.launchpad.net/graphics-drivers/ppa/ubuntu bionic InRelease\n",
            "Get:9 http://security.ubuntu.com/ubuntu bionic-security InRelease [88.7 kB]\n",
            "Ign:10 https://developer.download.nvidia.com/compute/cuda/repos/ubuntu1804/x86_64  InRelease\n",
            "Ign:11 https://developer.download.nvidia.com/compute/machine-learning/repos/ubuntu1804/x86_64  InRelease\n",
            "Get:12 https://developer.download.nvidia.com/compute/cuda/repos/ubuntu1804/x86_64  Release [696 B]\n",
            "Hit:13 https://developer.download.nvidia.com/compute/machine-learning/repos/ubuntu1804/x86_64  Release\n",
            "Get:14 https://developer.download.nvidia.com/compute/cuda/repos/ubuntu1804/x86_64  Release.gpg [836 B]\n",
            "Get:15 http://ppa.launchpad.net/c2d4u.team/c2d4u4.0+/ubuntu bionic/main Sources [1,799 kB]\n",
            "Get:16 http://ppa.launchpad.net/c2d4u.team/c2d4u4.0+/ubuntu bionic/main amd64 Packages [921 kB]\n",
            "Get:17 http://archive.ubuntu.com/ubuntu bionic-updates/universe amd64 Packages [2,202 kB]\n",
            "Get:18 http://archive.ubuntu.com/ubuntu bionic-updates/restricted amd64 Packages [600 kB]\n",
            "Get:19 http://archive.ubuntu.com/ubuntu bionic-updates/main amd64 Packages [2,760 kB]\n",
            "Get:20 http://ppa.launchpad.net/deadsnakes/ppa/ubuntu bionic/main amd64 Packages [40.8 kB]\n",
            "Get:22 https://developer.download.nvidia.com/compute/cuda/repos/ubuntu1804/x86_64  Packages [717 kB]\n",
            "Get:23 http://security.ubuntu.com/ubuntu bionic-security/restricted amd64 Packages [567 kB]\n",
            "Get:24 http://security.ubuntu.com/ubuntu bionic-security/universe amd64 Packages [1,428 kB]\n",
            "Get:25 http://security.ubuntu.com/ubuntu bionic-security/main amd64 Packages [2,324 kB]\n",
            "Fetched 13.6 MB in 3s (3,913 kB/s)\n",
            "Reading package lists... Done\n"
          ]
        }
      ]
    },
    {
      "cell_type": "code",
      "metadata": {
        "id": "CvoLwz9S0gwE"
      },
      "source": [
        "# Start Spark session\n",
        "from pyspark.sql import SparkSession\n",
        "# spark = SparkSession.builder.appName(\"StopWords\").getOrCreate()\n",
        "spark = SparkSession.builder.appName(\"Fin-sent-count-vector\").getOrCreate()"
      ],
      "id": "CvoLwz9S0gwE",
      "execution_count": 2,
      "outputs": []
    },
    {
      "cell_type": "code",
      "metadata": {
        "id": "69qSAC1R1EgS"
      },
      "source": [
        "from pyspark.ml.feature import Tokenizer, StopWordsRemover"
      ],
      "id": "69qSAC1R1EgS",
      "execution_count": 3,
      "outputs": []
    },
    {
      "cell_type": "code",
      "metadata": {
        "colab": {
          "base_uri": "https://localhost:8080/"
        },
        "id": "mODaD0re3ulm",
        "outputId": "e9847bbd-949e-441e-8392-64cb2401aedc"
      },
      "source": [
        "# Read in data from S3 Buckets\n",
        "from pyspark import SparkFiles\n",
        "\n",
        "url = 'https://raw.githubusercontent.com/dalismo/Finance_News_Sentiment/main/Resources/sentiment-train.csv'\n",
        "# df = pd.read_csv(url,encoding='latin-1', header=None)\n",
        "# url =\"https://s3.amazonaws.com/dataviz-curriculum/day_2/yelp_reviews.csv\"\n",
        "spark.sparkContext.addFile(url)\n",
        "df = spark.read.csv(SparkFiles.get(\"sentiment-train.csv\"), sep=\",\", header=None)\n",
        "\n",
        "\n",
        "\n",
        "# Show DataFrame\n",
        "df.show(5, truncate=False)\n"
      ],
      "id": "mODaD0re3ulm",
      "execution_count": 4,
      "outputs": [
        {
          "output_type": "stream",
          "name": "stdout",
          "text": [
            "+--------+-----------------------------------------------------------------------------------------------------+\n",
            "|_c0     |_c1                                                                                                  |\n",
            "+--------+-----------------------------------------------------------------------------------------------------+\n",
            "|Positive|Autodesk Is Down 15% After Q2 Earnings -- Is This a Buying Opportunity?                              |\n",
            "|Positive|Blue Shield of California, Walgreens Partner on Personalized Healthcare Solution                     |\n",
            "|Positive|RSX: Russian Equities Are Still Undervalued                                                          |\n",
            "|Positive|XLB: Hold Your Position                                                                              |\n",
            "|Positive|Musgrave Minerals broad, near-surface high-grade results open up further Cue gold discovery potential|\n",
            "+--------+-----------------------------------------------------------------------------------------------------+\n",
            "only showing top 5 rows\n",
            "\n"
          ]
        }
      ]
    },
    {
      "cell_type": "code",
      "metadata": {
        "colab": {
          "base_uri": "https://localhost:8080/"
        },
        "id": "4BbzYExyNYCR",
        "outputId": "7c3897e2-fa99-40e2-e8f7-bae0ce10ad41"
      },
      "source": [
        "from pyspark.sql.functions import length\n",
        "# Create a length column to be used as a future feature \n",
        "data_df = df.withColumn('length', length(df['_c1']))\n",
        "data_df.show()"
      ],
      "id": "4BbzYExyNYCR",
      "execution_count": 5,
      "outputs": [
        {
          "output_type": "stream",
          "name": "stdout",
          "text": [
            "+--------+--------------------+------+\n",
            "|     _c0|                 _c1|length|\n",
            "+--------+--------------------+------+\n",
            "|Positive|Autodesk Is Down ...|    71|\n",
            "|Positive|Blue Shield of Ca...|    80|\n",
            "|Positive|RSX: Russian Equi...|    43|\n",
            "|Positive|XLB: Hold Your Po...|    23|\n",
            "|Positive|Musgrave Minerals...|   101|\n",
            "|Positive|ViacomCBS to rest...|    49|\n",
            "|Positive|Oil climbs to one...|    51|\n",
            "|Negative|Australian regula...|    67|\n",
            "|Positive|The Wall Street J...|    90|\n",
            "|Positive|Ora Banda Mining ...|    50|\n",
            "|Positive|Google Pay Plans ...|    43|\n",
            "|Negative|Toyota, Honda Ang...|    69|\n",
            "| Neutral|ZY Investor Alert...|    44|\n",
            "| Neutral|Calima Energy spu...|    58|\n",
            "|Positive|These Marijuana S...|    56|\n",
            "|Positive|Moderna ETFs to R...|    61|\n",
            "| Neutral|MacroGenics Annou...|    72|\n",
            "| Neutral|Zymeworks Announc...|   173|\n",
            "| Neutral|BioXcel Therapeut...|   130|\n",
            "| Neutral|Merck to Present ...|    80|\n",
            "+--------+--------------------+------+\n",
            "only showing top 20 rows\n",
            "\n"
          ]
        }
      ]
    },
    {
      "cell_type": "code",
      "metadata": {
        "colab": {
          "base_uri": "https://localhost:8080/"
        },
        "id": "HiCnjIddrflT",
        "outputId": "fdb42586-2fe0-4b30-a1d2-ff2009f99674"
      },
      "source": [
        "df2 = data_df.withColumnRenamed(\"_c0\", \"class\").withColumnRenamed(\"_c1\", \"text\")\n",
        "df2.printSchema()\n",
        "df2.show(20, truncate = False)\n"
      ],
      "id": "HiCnjIddrflT",
      "execution_count": 6,
      "outputs": [
        {
          "output_type": "stream",
          "name": "stdout",
          "text": [
            "root\n",
            " |-- class: string (nullable = true)\n",
            " |-- text: string (nullable = true)\n",
            " |-- length: integer (nullable = true)\n",
            "\n",
            "+--------+-----------------------------------------------------------------------------------------------------------------------------------------------------------------------------+------+\n",
            "|class   |text                                                                                                                                                                         |length|\n",
            "+--------+-----------------------------------------------------------------------------------------------------------------------------------------------------------------------------+------+\n",
            "|Positive|Autodesk Is Down 15% After Q2 Earnings -- Is This a Buying Opportunity?                                                                                                      |71    |\n",
            "|Positive|Blue Shield of California, Walgreens Partner on Personalized Healthcare Solution                                                                                             |80    |\n",
            "|Positive|RSX: Russian Equities Are Still Undervalued                                                                                                                                  |43    |\n",
            "|Positive|XLB: Hold Your Position                                                                                                                                                      |23    |\n",
            "|Positive|Musgrave Minerals broad, near-surface high-grade results open up further Cue gold discovery potential                                                                        |101   |\n",
            "|Positive|ViacomCBS to restructure Paramount Pictures - WSJ                                                                                                                            |49    |\n",
            "|Positive|Oil climbs to one-week high on U.S. supply concerns                                                                                                                          |51    |\n",
            "|Negative|Australian regulator denies approval for Qantas-Japan Airlines deal                                                                                                          |67    |\n",
            "|Positive|The Wall Street Journal: ViacomCBS revamping Paramount operations, refocusing on streaming                                                                                   |90    |\n",
            "|Positive|Ora Banda Mining to receive $11 million for Mt Ida                                                                                                                           |50    |\n",
            "|Positive|Google Pay Plans Israel Debut by Year's End                                                                                                                                  |43    |\n",
            "|Negative|Toyota, Honda Angry After Getting Shut Out of Electric Car Tax Credit                                                                                                        |69    |\n",
            "|Neutral |ZY Investor Alert: Shareholder Lawsuit Filed                                                                                                                                 |44    |\n",
            "|Neutral |Calima Energy spuds Leo #3 with fracturing just weeks away                                                                                                                   |58    |\n",
            "|Positive|These Marijuana Stocks May Soon Start To Recover In 2021                                                                                                                     |56    |\n",
            "|Positive|Moderna ETFs to Rally on Two-in-One Vaccine Booster Shot News                                                                                                                |61    |\n",
            "|Neutral |MacroGenics Announces Presentations at ESMO 2021 Virtual Annual Congress                                                                                                     |72    |\n",
            "|Neutral |Zymeworks Announces Abstract for Zanidatamab in First-line HER2-Expressing Gastroesophageal Cancers (GEA) at the European Society for Medical Oncology (ESMO) Annual Congress|173   |\n",
            "|Neutral |BioXcel Therapeutics to Present Updates from Ongoing Trial of BXCL701 in Aggressive Forms of Prostate Cancer at 2021 ESMO Congress                                           |130   |\n",
            "|Neutral |Merck to Present Latest Highlights From Oncology Portfolio at WCLC and ESMO 2021                                                                                             |80    |\n",
            "+--------+-----------------------------------------------------------------------------------------------------------------------------------------------------------------------------+------+\n",
            "only showing top 20 rows\n",
            "\n"
          ]
        }
      ]
    },
    {
      "cell_type": "code",
      "metadata": {
        "colab": {
          "base_uri": "https://localhost:8080/"
        },
        "id": "8tMPNronWpK1",
        "outputId": "01ac3dc8-cb11-446b-8540-686517304b06"
      },
      "source": [
        "df2.createOrReplaceTempView('temp')\n",
        "df3 = spark.sql('select case class when \"Positive\" then 1.0  when \"Negative\" then 2.0 else 0 end as label, text from temp')\n",
        "df3.show(20, truncate = False)"
      ],
      "id": "8tMPNronWpK1",
      "execution_count": 7,
      "outputs": [
        {
          "output_type": "stream",
          "name": "stdout",
          "text": [
            "+-----+-----------------------------------------------------------------------------------------------------------------------------------------------------------------------------+\n",
            "|label|text                                                                                                                                                                         |\n",
            "+-----+-----------------------------------------------------------------------------------------------------------------------------------------------------------------------------+\n",
            "|1.0  |Autodesk Is Down 15% After Q2 Earnings -- Is This a Buying Opportunity?                                                                                                      |\n",
            "|1.0  |Blue Shield of California, Walgreens Partner on Personalized Healthcare Solution                                                                                             |\n",
            "|1.0  |RSX: Russian Equities Are Still Undervalued                                                                                                                                  |\n",
            "|1.0  |XLB: Hold Your Position                                                                                                                                                      |\n",
            "|1.0  |Musgrave Minerals broad, near-surface high-grade results open up further Cue gold discovery potential                                                                        |\n",
            "|1.0  |ViacomCBS to restructure Paramount Pictures - WSJ                                                                                                                            |\n",
            "|1.0  |Oil climbs to one-week high on U.S. supply concerns                                                                                                                          |\n",
            "|2.0  |Australian regulator denies approval for Qantas-Japan Airlines deal                                                                                                          |\n",
            "|1.0  |The Wall Street Journal: ViacomCBS revamping Paramount operations, refocusing on streaming                                                                                   |\n",
            "|1.0  |Ora Banda Mining to receive $11 million for Mt Ida                                                                                                                           |\n",
            "|1.0  |Google Pay Plans Israel Debut by Year's End                                                                                                                                  |\n",
            "|2.0  |Toyota, Honda Angry After Getting Shut Out of Electric Car Tax Credit                                                                                                        |\n",
            "|0.0  |ZY Investor Alert: Shareholder Lawsuit Filed                                                                                                                                 |\n",
            "|0.0  |Calima Energy spuds Leo #3 with fracturing just weeks away                                                                                                                   |\n",
            "|1.0  |These Marijuana Stocks May Soon Start To Recover In 2021                                                                                                                     |\n",
            "|1.0  |Moderna ETFs to Rally on Two-in-One Vaccine Booster Shot News                                                                                                                |\n",
            "|0.0  |MacroGenics Announces Presentations at ESMO 2021 Virtual Annual Congress                                                                                                     |\n",
            "|0.0  |Zymeworks Announces Abstract for Zanidatamab in First-line HER2-Expressing Gastroesophageal Cancers (GEA) at the European Society for Medical Oncology (ESMO) Annual Congress|\n",
            "|0.0  |BioXcel Therapeutics to Present Updates from Ongoing Trial of BXCL701 in Aggressive Forms of Prostate Cancer at 2021 ESMO Congress                                           |\n",
            "|0.0  |Merck to Present Latest Highlights From Oncology Portfolio at WCLC and ESMO 2021                                                                                             |\n",
            "+-----+-----------------------------------------------------------------------------------------------------------------------------------------------------------------------------+\n",
            "only showing top 20 rows\n",
            "\n"
          ]
        }
      ]
    },
    {
      "cell_type": "code",
      "metadata": {
        "colab": {
          "base_uri": "https://localhost:8080/"
        },
        "id": "j89il24uZ-s_",
        "outputId": "a68b5f9c-61d5-4446-c97e-7fbf4b4dbfaf"
      },
      "source": [
        "from pyspark.ml.feature import  Tokenizer\n",
        "tokenizer = Tokenizer(inputCol=\"text\", outputCol=\"words\")\n",
        "wordsData = tokenizer.transform(df3)\n",
        "wordsData.show()"
      ],
      "id": "j89il24uZ-s_",
      "execution_count": 8,
      "outputs": [
        {
          "output_type": "stream",
          "name": "stdout",
          "text": [
            "+-----+--------------------+--------------------+\n",
            "|label|                text|               words|\n",
            "+-----+--------------------+--------------------+\n",
            "|  1.0|Autodesk Is Down ...|[autodesk, is, do...|\n",
            "|  1.0|Blue Shield of Ca...|[blue, shield, of...|\n",
            "|  1.0|RSX: Russian Equi...|[rsx:, russian, e...|\n",
            "|  1.0|XLB: Hold Your Po...|[xlb:, hold, your...|\n",
            "|  1.0|Musgrave Minerals...|[musgrave, minera...|\n",
            "|  1.0|ViacomCBS to rest...|[viacomcbs, to, r...|\n",
            "|  1.0|Oil climbs to one...|[oil, climbs, to,...|\n",
            "|  2.0|Australian regula...|[australian, regu...|\n",
            "|  1.0|The Wall Street J...|[the, wall, stree...|\n",
            "|  1.0|Ora Banda Mining ...|[ora, banda, mini...|\n",
            "|  1.0|Google Pay Plans ...|[google, pay, pla...|\n",
            "|  2.0|Toyota, Honda Ang...|[toyota,, honda, ...|\n",
            "|  0.0|ZY Investor Alert...|[zy, investor, al...|\n",
            "|  0.0|Calima Energy spu...|[calima, energy, ...|\n",
            "|  1.0|These Marijuana S...|[these, marijuana...|\n",
            "|  1.0|Moderna ETFs to R...|[moderna, etfs, t...|\n",
            "|  0.0|MacroGenics Annou...|[macrogenics, ann...|\n",
            "|  0.0|Zymeworks Announc...|[zymeworks, annou...|\n",
            "|  0.0|BioXcel Therapeut...|[bioxcel, therape...|\n",
            "|  0.0|Merck to Present ...|[merck, to, prese...|\n",
            "+-----+--------------------+--------------------+\n",
            "only showing top 20 rows\n",
            "\n"
          ]
        }
      ]
    },
    {
      "cell_type": "code",
      "metadata": {
        "colab": {
          "base_uri": "https://localhost:8080/"
        },
        "id": "ZlhgmA2GaNHX",
        "outputId": "031320ad-0516-442e-860a-e3b453b0fdd6"
      },
      "source": [
        "from pyspark.ml.feature import CountVectorizer\n",
        "count = CountVectorizer (inputCol=\"words\", outputCol=\"rawFeatures\")\n",
        "model = count.fit(wordsData)\n",
        "featurizedData = model.transform(wordsData)\n",
        "featurizedData.show()"
      ],
      "id": "ZlhgmA2GaNHX",
      "execution_count": 9,
      "outputs": [
        {
          "output_type": "stream",
          "name": "stdout",
          "text": [
            "+-----+--------------------+--------------------+--------------------+\n",
            "|label|                text|               words|         rawFeatures|\n",
            "+-----+--------------------+--------------------+--------------------+\n",
            "|  1.0|Autodesk Is Down ...|[autodesk, is, do...|(11788,[6,9,19,37...|\n",
            "|  1.0|Blue Shield of Ca...|[blue, shield, of...|(11788,[2,7,177,5...|\n",
            "|  1.0|RSX: Russian Equi...|[rsx:, russian, e...|(11788,[48,262,63...|\n",
            "|  1.0|XLB: Hold Your Po...|[xlb:, hold, your...|(11788,[158,335,1...|\n",
            "|  1.0|Musgrave Minerals...|[musgrave, minera...|(11788,[26,49,89,...|\n",
            "|  1.0|ViacomCBS to rest...|[viacomcbs, to, r...|(11788,[0,34,1891...|\n",
            "|  1.0|Oil climbs to one...|[oil, climbs, to,...|(11788,[0,7,100,1...|\n",
            "|  2.0|Australian regula...|[australian, regu...|(11788,[5,175,179...|\n",
            "|  1.0|The Wall Street J...|[the, wall, stree...|(11788,[1,7,292,4...|\n",
            "|  1.0|Ora Banda Mining ...|[ora, banda, mini...|(11788,[0,5,72,32...|\n",
            "|  1.0|Google Pay Plans ...|[google, pay, pla...|(11788,[75,217,26...|\n",
            "|  2.0|Toyota, Honda Ang...|[toyota,, honda, ...|(11788,[2,65,230,...|\n",
            "|  0.0|ZY Investor Alert...|[zy, investor, al...|(11788,[43,44,63,...|\n",
            "|  0.0|Calima Energy spu...|[calima, energy, ...|(11788,[10,83,338...|\n",
            "|  1.0|These Marijuana S...|[these, marijuana...|(11788,[0,3,13,18...|\n",
            "|  1.0|Moderna ETFs to R...|[moderna, etfs, t...|(11788,[0,7,172,2...|\n",
            "|  0.0|MacroGenics Annou...|[macrogenics, ann...|(11788,[11,12,13,...|\n",
            "|  0.0|Zymeworks Announc...|[zymeworks, annou...|(11788,[1,3,5,11,...|\n",
            "|  0.0|BioXcel Therapeut...|[bioxcel, therape...|(11788,[0,2,3,12,...|\n",
            "|  0.0|Merck to Present ...|[merck, to, prese...|(11788,[0,4,12,13...|\n",
            "+-----+--------------------+--------------------+--------------------+\n",
            "only showing top 20 rows\n",
            "\n"
          ]
        }
      ]
    },
    {
      "cell_type": "code",
      "metadata": {
        "colab": {
          "base_uri": "https://localhost:8080/"
        },
        "id": "pj4m9hLsaV_G",
        "outputId": "14bae47f-3e9f-47b0-9e56-5f125c6c818a"
      },
      "source": [
        "from pyspark.ml.feature import  IDF\n",
        "#IDF down-weighs features which appear frequently in a corpus. This generally improves performance when using text as features since most frequent, and hence less important words, get down-weighed.\n",
        "idf = IDF(inputCol=\"rawFeatures\", outputCol=\"features\")\n",
        "idfModel = idf.fit(featurizedData)\n",
        "rescaledData = idfModel.transform(featurizedData)\n",
        "rescaledData.select(\"label\", \"features\").show()  \n",
        "# We want only the label and features columns for our machine learning models"
      ],
      "id": "pj4m9hLsaV_G",
      "execution_count": 10,
      "outputs": [
        {
          "output_type": "stream",
          "name": "stdout",
          "text": [
            "+-----+--------------------+\n",
            "|label|            features|\n",
            "+-----+--------------------+\n",
            "|  1.0|(11788,[6,9,19,37...|\n",
            "|  1.0|(11788,[2,7,177,5...|\n",
            "|  1.0|(11788,[48,262,63...|\n",
            "|  1.0|(11788,[158,335,1...|\n",
            "|  1.0|(11788,[26,49,89,...|\n",
            "|  1.0|(11788,[0,34,1891...|\n",
            "|  1.0|(11788,[0,7,100,1...|\n",
            "|  2.0|(11788,[5,175,179...|\n",
            "|  1.0|(11788,[1,7,292,4...|\n",
            "|  1.0|(11788,[0,5,72,32...|\n",
            "|  1.0|(11788,[75,217,26...|\n",
            "|  2.0|(11788,[2,65,230,...|\n",
            "|  0.0|(11788,[43,44,63,...|\n",
            "|  0.0|(11788,[10,83,338...|\n",
            "|  1.0|(11788,[0,3,13,18...|\n",
            "|  1.0|(11788,[0,7,172,2...|\n",
            "|  0.0|(11788,[11,12,13,...|\n",
            "|  0.0|(11788,[1,3,5,11,...|\n",
            "|  0.0|(11788,[0,2,3,12,...|\n",
            "|  0.0|(11788,[0,4,12,13...|\n",
            "+-----+--------------------+\n",
            "only showing top 20 rows\n",
            "\n"
          ]
        }
      ]
    },
    {
      "cell_type": "code",
      "metadata": {
        "id": "gvprtx9Vaed2"
      },
      "source": [
        "seed = 0  # set seed for reproducibility\n",
        "trainDF, testDF = rescaledData.randomSplit([0.8,0.2],seed)"
      ],
      "id": "gvprtx9Vaed2",
      "execution_count": 11,
      "outputs": []
    },
    {
      "cell_type": "code",
      "metadata": {
        "colab": {
          "base_uri": "https://localhost:8080/"
        },
        "id": "jx1mwMzJagt5",
        "outputId": "bb758b20-7b1e-4218-bcfc-74fa692fc511"
      },
      "source": [
        "trainDF.count()"
      ],
      "id": "jx1mwMzJagt5",
      "execution_count": 12,
      "outputs": [
        {
          "output_type": "execute_result",
          "data": {
            "text/plain": [
              "3965"
            ]
          },
          "metadata": {},
          "execution_count": 12
        }
      ]
    },
    {
      "cell_type": "code",
      "metadata": {
        "colab": {
          "base_uri": "https://localhost:8080/"
        },
        "id": "uPmhzGFBqCNC",
        "outputId": "e22f97a0-7001-4153-eb58-27fd104b9b9b"
      },
      "source": [
        "trainDF.show(truncate=False)"
      ],
      "id": "uPmhzGFBqCNC",
      "execution_count": 13,
      "outputs": [
        {
          "output_type": "stream",
          "name": "stdout",
          "text": [
            "+-----+--------------------------------------------------------------------------------------------------------------------------------------------------------------------------------+------------------------------------------------------------------------------------------------------------------------------------------------------------------------------------------------------------------+---------------------------------------------------------------------------------------------------------------------------------------------------------------------------------------------------------------------------------------------------------------------------+-----------------------------------------------------------------------------------------------------------------------------------------------------------------------------------------------------------------------------------------------------------------------------------------------------------------------------------------------------------------------------------------------------------------------------------------------------------------------------------------------------------------------------------------------------------------------------------------------------------------------------------------------------------------------------------------------------------------------------------+\n",
            "|label|text                                                                                                                                                                            |words                                                                                                                                                                                                             |rawFeatures                                                                                                                                                                                                                                                                |features                                                                                                                                                                                                                                                                                                                                                                                                                                                                                                                                                                                                                                                                                                                           |\n",
            "+-----+--------------------------------------------------------------------------------------------------------------------------------------------------------------------------------+------------------------------------------------------------------------------------------------------------------------------------------------------------------------------------------------------------------+---------------------------------------------------------------------------------------------------------------------------------------------------------------------------------------------------------------------------------------------------------------------------+-----------------------------------------------------------------------------------------------------------------------------------------------------------------------------------------------------------------------------------------------------------------------------------------------------------------------------------------------------------------------------------------------------------------------------------------------------------------------------------------------------------------------------------------------------------------------------------------------------------------------------------------------------------------------------------------------------------------------------------+\n",
            "|0.0  |\"ASSA ABLOY to acquire Hardware and Home Improvement (\"\"HHI\"\") division of Spectrum Brands\"                                                                                     |[\"assa, abloy, to, acquire, hardware, and, home, improvement, (\"\"hhi\"\"), division, of, spectrum, brands\"]                                                                                                         |(11788,[0,2,4,313,371,418,902,1337,1545,4656,5479,5495,7907],[1.0,1.0,1.0,1.0,1.0,1.0,1.0,1.0,1.0,1.0,1.0,1.0,1.0])                                                                                                                                                        |(11788,[0,2,4,313,371,418,902,1337,1545,4656,5479,5495,7907],[1.2271002889723068,1.755820402614848,1.939531813697857,5.298517346550703,5.472870733695481,5.572954192252463,6.214808078424858,6.571483022363591,6.725633702190849,7.418780882750794,7.824245990858959,7.824245990858959,7.824245990858959])                                                                                                                                                                                                                                                                                                                                                                                                                         |\n",
            "|0.0  |\"BofA Unveils \"\"VAM 2.0\"\"                                                                                                                                                       |[\"bofa, unveils, \"\"vam, 2.0\"\"]                                                                                                                                                                                    |(11788,[399,7222,9292,10963],[1.0,1.0,1.0,1.0])                                                                                                                                                                                                                            |(11788,[399,7222,9292,10963],[5.521660897864913,7.824245990858959,7.824245990858959,7.824245990858959])                                                                                                                                                                                                                                                                                                                                                                                                                                                                                                                                                                                                                            |\n",
            "|0.0  |\"CP Offer for KCS Declared \"\"Company Superior Proposal\"\" by KCS Board\"                                                                                                          |[\"cp, offer, for, kcs, declared, \"\"company, superior, proposal\"\", by, kcs, board\"]                                                                                                                                |(11788,[5,75,344,1400,2928,2994,5426,9691,10783,11221],[1.0,1.0,1.0,1.0,2.0,1.0,1.0,1.0,1.0,1.0])                                                                                                                                                                          |(11788,[5,75,344,1400,2928,2994,5426,9691,10783,11221],[2.002680480546374,4.017583501088638,5.381898955489754,6.725633702190849,14.837561765501588,7.418780882750794,7.824245990858959,7.824245990858959,7.824245990858959,7.824245990858959])                                                                                                                                                                                                                                                                                                                                                                                                                                                                                     |\n",
            "|0.0  |\"Cumulus Podcast Network's Just Getting Started With Rich Eisen To Feature Special Fall 2021 Series \"\"Voices Of Football\"\"\"                                                     |[\"cumulus, podcast, network's, just, getting, started, with, rich, eisen, to, feature, special, fall, 2021, series, \"\"voices, of, football\"\"\"]                                                                    |(11788,[0,2,10,13,338,364,710,821,891,1064,2134,2452,2465,5005,5760,5919,6472,10385],[1.0,1.0,1.0,1.0,1.0,1.0,1.0,1.0,1.0,1.0,1.0,1.0,1.0,1.0,1.0,1.0,1.0,1.0])                                                                                                            |(11788,[0,2,10,13,338,364,710,821,891,1064,2134,2452,2465,5005,5760,5919,6472,10385],[1.2271002889723068,1.755820402614848,2.423823401373768,2.5209410827998826,5.381898955489754,5.426350718060588,6.1194978986205335,6.1194978986205335,6.214808078424858,6.437951629739068,6.907955258984804,7.131098810299013,7.131098810299013,7.824245990858959,7.824245990858959,7.824245990858959,7.824245990858959,7.824245990858959])                                                                                                                                                                                                                                                                                                    |\n",
            "|0.0  |\"Epic Games asks Apple to allow \"\"Fortnite\"\" to return in South Korea\"                                                                                                          |[\"epic, games, asks, apple, to, allow, \"\"fortnite\"\", to, return, in, south, korea\"]                                                                                                                               |(11788,[0,3,86,278,397,978,1165,1388,4254,9735,10156],[2.0,1.0,1.0,1.0,1.0,1.0,1.0,1.0,1.0,1.0,1.0])                                                                                                                                                                       |(11788,[0,3,86,278,397,978,1165,1388,4254,9735,10156],[2.4542005779446137,1.8117540765589006,4.186659831132572,5.1851886612437,5.521660897864913,6.320168594082684,6.437951629739068,6.571483022363591,7.418780882750794,7.824245990858959,7.824245990858959])                                                                                                                                                                                                                                                                                                                                                                                                                                                                     |\n",
            "|0.0  |\"Great Bear Provides Complete Assays from Central LP Fault \"\"Auro2\"\" High-Grade Gold Domain and Update on Geological Modelling\"                                                 |[\"great, bear, provides, complete, assays, from, central, lp, fault, \"\"auro2\"\", high-grade, gold, domain, and, update, on, geological, modelling\"]                                                                |(11788,[4,7,45,89,121,161,1091,1381,1684,1779,1869,2231,2602,3701,5173,6681,9661,11091],[1.0,1.0,1.0,1.0,1.0,1.0,1.0,1.0,1.0,1.0,1.0,1.0,1.0,1.0,1.0,1.0,1.0,1.0])                                                                                                         |(11788,[4,7,45,89,121,161,1091,1381,1684,1779,1869,2231,2602,3701,5173,6681,9661,11091],[1.939531813697857,2.173512737292573,3.612118392980474,4.254713294377588,4.406519307245593,4.688751774929809,6.437951629739068,6.571483022363591,6.725633702190849,6.907955258984804,6.907955258984804,7.131098810299013,7.131098810299013,7.418780882750794,7.824245990858959,7.824245990858959,7.824245990858959,7.824245990858959])                                                                                                                                                                                                                                                                                                     |\n",
            "|0.0  |\"IDenta Corp Announces \"\"Touch&Know\"\" Brand Drug Detection Kits for Personal Use                                                                                                |[\"identa, corp, announces, \"\"touch&know\"\", brand, drug, detection, kits, for, personal, use]                                                                                                                      |(11788,[5,11,420,423,473,686,1902,2836,3958,9914,10670],[1.0,1.0,1.0,1.0,1.0,1.0,1.0,1.0,1.0,1.0,1.0])                                                                                                                                                                     |(11788,[5,11,420,423,473,686,1902,2836,3958,9914,10670],[2.002680480546374,2.4170742193988395,5.572954192252463,5.572954192252463,5.627021413522739,6.032486521630903,6.907955258984804,7.131098810299013,7.418780882750794,7.824245990858959,7.824245990858959])                                                                                                                                                                                                                                                                                                                                                                                                                                                                  |\n",
            "|0.0  |\"Kansas City Southern Receives Revised Proposal from Canadian Pacific That Board of Directors Determines is a \"\"Company Superior Proposal\"\"\"                                    |[\"kansas, city, southern, receives, revised, proposal, from, canadian, pacific, that, board, of, directors, determines, is, a, \"\"company, superior, proposal\"\"\"]                                                  |(11788,[2,6,9,45,110,159,266,382,443,514,642,725,1400,1960,2723,2994,4132,7609,9173],[1.0,1.0,1.0,1.0,1.0,1.0,1.0,1.0,1.0,1.0,1.0,1.0,1.0,1.0,1.0,1.0,1.0,1.0,1.0])                                                                                                        |(11788,[2,6,9,45,110,159,266,382,443,514,642,725,1400,1960,2723,2994,4132,7609,9173],[1.755820402614848,2.1665074547041643,2.3775086191926484,3.612118392980474,4.3430059015232665,4.667245569708845,5.15009734143243,5.472870733695481,5.627021413522739,5.744804449179123,5.952443813957367,6.032486521630903,6.725633702190849,6.907955258984804,7.131098810299013,7.418780882750794,7.418780882750794,7.824245990858959,7.824245990858959])                                                                                                                                                                                                                                                                                    |\n",
            "|0.0  |\"Loop Media, Inc. Launches New \"\"Movie Trailers+\"\" Streaming Channel\"                                                                                                           |[\"loop, media,, inc., launches, new, \"\"movie, trailers+\"\", streaming, channel\"]                                                                                                                                   |(11788,[14,22,111,786,915,6089,6210,6927,10108],[1.0,1.0,1.0,1.0,1.0,1.0,1.0,1.0,1.0])                                                                                                                                                                                     |(11788,[14,22,111,786,915,6089,6210,6927,10108],[2.5745937962922025,3.079313862495708,4.3430059015232665,6.1194978986205335,6.214808078424858,7.824245990858959,7.824245990858959,7.824245990858959,7.824245990858959])                                                                                                                                                                                                                                                                                                                                                                                                                                                                                                            |\n",
            "|0.0  |\"MindMed to Attend 8th Annual \"\"Mobile in Clinical Trials\"\" Conference\"                                                                                                         |[\"mindmed, to, attend, 8th, annual, \"\"mobile, in, clinical, trials\"\", conference\"]                                                                                                                                |(11788,[0,3,33,411,1066,1305,5582,6773,8372,11480],[1.0,1.0,1.0,1.0,1.0,1.0,1.0,1.0,1.0,1.0])                                                                                                                                                                              |(11788,[0,3,33,411,1066,1305,5582,6773,8372,11480],[1.2271002889723068,1.8117540765589006,3.3412434388450745,5.521660897864913,6.437951629739068,6.571483022363591,7.824245990858959,7.824245990858959,7.824245990858959,7.824245990858959])                                                                                                                                                                                                                                                                                                                                                                                                                                                                                       |\n",
            "|0.0  |\"OKYO Pharma Limited (\"\"OKYO\"\" or the \"\"Company\"\") - Notice of Annual General Meeting\"                                                                                          |[\"okyo, pharma, limited, (\"\"okyo\"\", or, the, \"\"company\"\"), -, notice, of, annual, general, meeting\"]                                                                                                              |(11788,[1,2,33,34,151,243,277,387,757,5042,5266,7072,9054],[1.0,1.0,1.0,1.0,1.0,1.0,1.0,1.0,1.0,1.0,1.0,1.0,1.0])                                                                                                                                                          |(11788,[1,2,33,34,151,243,277,387,757,5042,5266,7072,9054],[1.6546352583675024,1.755820402614848,3.3412434388450745,3.3583378722043746,4.605370165990758,5.116195789756748,5.1851886612437,5.472870733695481,6.1194978986205335,7.824245990858959,7.824245990858959,7.824245990858959,7.824245990858959])                                                                                                                                                                                                                                                                                                                                                                                                                          |\n",
            "|0.0  |\"Shutterstock Announced As Exclusive Sponsor Of \"\"Experience The Times Of Bill Cunningham\"\" Exhibit At New York Fashion Week\"                                                   |[\"shutterstock, announced, as, exclusive, sponsor, of, \"\"experience, the, times, of, bill, cunningham\"\", exhibit, at, new, york, fashion, week\"]                                                                  |(11788,[1,2,12,20,22,355,536,1223,1261,1306,1335,1801,4474,5013,5576,5723,10919],[1.0,2.0,1.0,1.0,1.0,1.0,1.0,1.0,1.0,1.0,1.0,1.0,1.0,1.0,1.0,1.0,1.0])                                                                                                                    |(11788,[1,2,12,20,22,355,536,1223,1261,1306,1335,1801,4474,5013,5576,5723,10919],[1.6546352583675024,3.511640805229696,2.4843069496201022,3.0284554452622174,3.079313862495708,5.426350718060588,5.744804449179123,6.571483022363591,6.907955258984804,6.571483022363591,6.571483022363591,6.907955258984804,7.418780882750794,7.824245990858959,7.824245990858959,7.824245990858959,7.824245990858959])                                                                                                                                                                                                                                                                                                                           |\n",
            "|0.0  |\"The Boston Beer Company Launches New \"\"Bevy Long Drink\"\"\"                                                                                                                      |[\"the, boston, beer, company, launches, new, \"\"bevy, long, drink\"\"\"]                                                                                                                                              |(11788,[22,69,111,302,312,554,5742,6658,7505],[1.0,1.0,1.0,1.0,1.0,1.0,1.0,1.0,1.0])                                                                                                                                                                                       |(11788,[22,69,111,302,312,554,5742,6658,7505],[3.079313862495708,3.942682192915521,4.3430059015232665,5.339339341070958,5.381898955489754,5.809342970316694,7.824245990858959,7.824245990858959,7.824245990858959])                                                                                                                                                                                                                                                                                                                                                                                                                                                                                                                |\n",
            "|0.0  |\"Welcome to the Tri \"\"Party\"\": Broadridge Launches Sponsored General Collateral Service\"                                                                                        |[\"welcome, to, the, tri, \"\"party\"\":, broadridge, launches, sponsored, general, collateral, service\"]                                                                                                              |(11788,[0,1,111,277,3953,8276,8644,8991,9126,9276,10552],[1.0,1.0,1.0,1.0,1.0,1.0,1.0,1.0,1.0,1.0,1.0])                                                                                                                                                                    |(11788,[0,1,111,277,3953,8276,8644,8991,9126,9276,10552],[1.2271002889723068,1.6546352583675024,4.3430059015232665,5.1851886612437,7.418780882750794,7.824245990858959,7.824245990858959,7.824245990858959,7.824245990858959,7.824245990858959,7.824245990858959])                                                                                                                                                                                                                                                                                                                                                                                                                                                                 |\n",
            "|0.0  |/R E P E A T -- Chris Ryan PhD., New York Times Best Selling Author, and Featured TED Talk Speaker To Appear At Meet Delic: The World's Premiere Psychedelic and Wellness Event/|[/r, e, p, e, a, t, --, chris, ryan, phd.,, new, york, times, best, selling, author,, and, featured, ted, talk, speaker, to, appear, at, meet, delic:, the, world's, premiere, psychedelic, and, wellness, event/]|(11788,[0,1,4,6,12,22,104,355,720,810,849,882,960,1306,1425,1800,1840,1887,2440,2756,2787,2883,3040,3263,3308,3688,4650,7963,8039,8156,8820],[1.0,1.0,2.0,1.0,1.0,1.0,1.0,1.0,1.0,1.0,1.0,1.0,1.0,1.0,1.0,1.0,1.0,1.0,1.0,1.0,2.0,1.0,1.0,1.0,1.0,1.0,1.0,1.0,1.0,1.0,1.0])|(11788,[0,1,4,6,12,22,104,355,720,810,849,882,960,1306,1425,1800,1840,1887,2440,2756,2787,2883,3040,3263,3308,3688,4650,7963,8039,8156,8820],[1.2271002889723068,1.6546352583675024,3.879063627395714,2.1665074547041643,2.4843069496201022,3.079313862495708,4.327738429392478,5.426350718060588,6.032486521630903,6.1194978986205335,6.214808078424858,6.214808078424858,6.320168594082684,6.571483022363591,6.725633702190849,6.907955258984804,6.907955258984804,6.907955258984804,7.131098810299013,7.131098810299013,14.837561765501588,7.131098810299013,7.418780882750794,7.418780882750794,7.418780882750794,7.418780882750794,7.418780882750794,7.824245990858959,7.824245990858959,7.824245990858959,7.824245990858959])|\n",
            "|0.0  |01 Communique Provides Quarterly Update on Business Developments and Third Quarter Fiscal 2021 Results                                                                          |[01, communique, provides, quarterly, update, on, business, developments, and, third, quarter, fiscal, 2021, results]                                                                                             |(11788,[4,7,13,26,50,121,123,129,161,162,211,4083,10871,11608],[1.0,1.0,1.0,1.0,1.0,1.0,1.0,1.0,1.0,1.0,1.0,1.0,1.0,1.0])                                                                                                                                                  |(11788,[4,7,13,26,50,121,123,129,161,162,211,4083,10871,11608],[1.939531813697857,2.173512737292573,2.5209410827998826,3.179855091717586,3.7216026258221624,4.406519307245593,4.423048609196803,4.456950160872484,4.688751774929809,4.688751774929809,4.96204510992949,7.418780882750794,7.824245990858959,7.824245990858959])                                                                                                                                                                                                                                                                                                                                                                                                     |\n",
            "|0.0  |10 Personal Finance Experts To Follow On Twitter                                                                                                                                |[10, personal, finance, experts, to, follow, on, twitter]                                                                                                                                                         |(11788,[0,7,724,897,899,1902,4499,6481],[1.0,1.0,1.0,1.0,1.0,1.0,1.0,1.0])                                                                                                                                                                                                 |(11788,[0,7,724,897,899,1902,4499,6481],[1.2271002889723068,2.173512737292573,6.032486521630903,6.214808078424858,6.214808078424858,6.907955258984804,7.418780882750794,7.824245990858959])                                                                                                                                                                                                                                                                                                                                                                                                                                                                                                                                        |\n",
            "|0.0  |10X Capital Leadership Purchases Additional Shares In REE Automotive                                                                                                            |[10x, capital, leadership, purchases, additional, shares, in, ree, automotive]                                                                                                                                    |(11788,[3,41,147,487,743,1214,1493,3917,9504],[1.0,1.0,1.0,1.0,1.0,1.0,1.0,1.0,1.0])                                                                                                                                                                                       |(11788,[3,41,147,487,743,1214,1493,3917,9504],[1.8117540765589006,3.5269605846401673,4.585567538694578,5.684179827362688,6.1194978986205335,6.571483022363591,6.725633702190849,7.418780882750794,7.824245990858959])                                                                                                                                                                                                                                                                                                                                                                                                                                                                                                              |\n",
            "|0.0  |15 Words From President Biden That Could Equal Billions for Pfizer and Moderna                                                                                                  |[15, words, from, president, biden, that, could, equal, billions, for, pfizer, and, moderna]                                                                                                                      |(11788,[4,5,45,84,110,304,469,672,927,2018,3217,6887,10926],[1.0,1.0,1.0,1.0,1.0,1.0,1.0,1.0,1.0,1.0,1.0,1.0,1.0])                                                                                                                                                         |(11788,[4,5,45,84,110,304,469,672,927,2018,3217,6887,10926],[1.939531813697857,2.002680480546374,3.612118392980474,4.08657637257559,4.3430059015232665,5.259296633397422,5.627021413522739,5.952443813957367,6.320168594082684,6.907955258984804,7.418780882750794,7.824245990858959,7.824245990858959])                                                                                                                                                                                                                                                                                                                                                                                                                           |\n",
            "|0.0  |16 Northern Illinois Arts Organizations Awarded Grants from ComEd and League of Chicago Theatres                                                                                |[16, northern, illinois, arts, organizations, awarded, grants, from, comed, and, league, of, chicago, theatres]                                                                                                   |(11788,[2,4,45,459,1135,1252,1742,2331,3228,4005,6317,7209,7534,11425],[1.0,1.0,1.0,1.0,1.0,1.0,1.0,1.0,1.0,1.0,1.0,1.0,1.0,1.0])                                                                                                                                          |(11788,[2,4,45,459,1135,1252,1742,2331,3228,4005,6317,7209,7534,11425],[1.755820402614848,1.939531813697857,3.612118392980474,5.627021413522739,6.437951629739068,6.571483022363591,6.907955258984804,7.131098810299013,7.418780882750794,7.418780882750794,7.824245990858959,7.824245990858959,7.824245990858959,7.824245990858959])                                                                                                                                                                                                                                                                                                                                                                                              |\n",
            "+-----+--------------------------------------------------------------------------------------------------------------------------------------------------------------------------------+------------------------------------------------------------------------------------------------------------------------------------------------------------------------------------------------------------------+---------------------------------------------------------------------------------------------------------------------------------------------------------------------------------------------------------------------------------------------------------------------------+-----------------------------------------------------------------------------------------------------------------------------------------------------------------------------------------------------------------------------------------------------------------------------------------------------------------------------------------------------------------------------------------------------------------------------------------------------------------------------------------------------------------------------------------------------------------------------------------------------------------------------------------------------------------------------------------------------------------------------------+\n",
            "only showing top 20 rows\n",
            "\n"
          ]
        }
      ]
    },
    {
      "cell_type": "code",
      "metadata": {
        "colab": {
          "base_uri": "https://localhost:8080/"
        },
        "id": "8HwaguEFajq2",
        "outputId": "75b91543-060d-49b8-f443-2997668ecd6b"
      },
      "source": [
        "testDF.count()"
      ],
      "id": "8HwaguEFajq2",
      "execution_count": 14,
      "outputs": [
        {
          "output_type": "execute_result",
          "data": {
            "text/plain": [
              "1035"
            ]
          },
          "metadata": {},
          "execution_count": 14
        }
      ]
    },
    {
      "cell_type": "code",
      "metadata": {
        "colab": {
          "base_uri": "https://localhost:8080/"
        },
        "id": "mLabWeJqNf8K",
        "outputId": "e5109dcf-122c-475e-ca30-429347e8995d"
      },
      "source": [
        "testDF.show()"
      ],
      "id": "mLabWeJqNf8K",
      "execution_count": 15,
      "outputs": [
        {
          "output_type": "stream",
          "name": "stdout",
          "text": [
            "+-----+--------------------+--------------------+--------------------+--------------------+\n",
            "|label|                text|               words|         rawFeatures|            features|\n",
            "+-----+--------------------+--------------------+--------------------+--------------------+\n",
            "|  0.0|180 Life Sciences...|[180, life, scien...|(11788,[10,12,197...|(11788,[10,12,197...|\n",
            "|  0.0|1847 Goedeker Iss...|[1847, goedeker, ...|(11788,[45,87,474...|(11788,[45,87,474...|\n",
            "|  0.0|3 Reasons to Buy ...|[3, reasons, to, ...|(11788,[0,4,23,54...|(11788,[0,4,23,54...|\n",
            "|  0.0|3 Things to Watch...|[3, things, to, w...|(11788,[0,1,3,8,3...|(11788,[0,1,3,8,3...|\n",
            "|  0.0|3 Upcoming Earnin...|[3, upcoming, ear...|(11788,[0,19,54,6...|(11788,[0,19,54,6...|\n",
            "|  0.0|4 Diversified Che...|[4, diversified, ...|(11788,[0,5,18,17...|(11788,[0,5,18,17...|\n",
            "|  0.0|4 Outstanding Sto...|[4, outstanding, ...|(11788,[0,18,20,2...|(11788,[0,18,20,2...|\n",
            "|  0.0|4 Top Stock Trade...|[4, top, stock, t...|(11788,[5,8,61,17...|(11788,[5,8,61,17...|\n",
            "|  0.0|A Body Camera Com...|[a, body, camera,...|(11788,[4,6,69,13...|(11788,[4,6,69,13...|\n",
            "|  0.0|A Nick to Apple's...|[a, nick, to, app...|(11788,[0,5,6,67,...|(11788,[0,5,6,67,...|\n",
            "|  0.0|ABC and Procore A...|[abc, and, procor...|(11788,[0,4,5,87,...|(11788,[0,4,5,87,...|\n",
            "|  0.0|ABM Delivers Infr...|[abm, delivers, i...|(11788,[5,22,281,...|(11788,[5,22,281,...|\n",
            "|  0.0|ABM Industries An...|[abm, industries,...|(11788,[5,11,13,2...|(11788,[5,11,13,2...|\n",
            "|  0.0|ADC Therapeutics ...|[adc, therapeutic...|(11788,[0,3,17,21...|(11788,[0,3,17,21...|\n",
            "|  0.0|AIG names CEO Zaf...|[aig, names, ceo,...|(11788,[20,35,307...|(11788,[20,35,307...|\n",
            "|  0.0|ALERT: Spectrum P...|[alert:, spectrum...|(11788,[0,10,14,1...|(11788,[0,10,14,1...|\n",
            "|  0.0|AMOT or WTS: Whic...|[amot, or, wts:, ...|(11788,[1,8,9,62,...|(11788,[1,8,9,62,...|\n",
            "|  0.0|ANVS CLASS ACTION...|[anvs, class, act...|(11788,[0,1,2,3,6...|(11788,[0,1,2,3,6...|\n",
            "|  0.0|ANVS Investor Ale...|[anvs, investor, ...|(11788,[27,32,43,...|(11788,[27,32,43,...|\n",
            "|  0.0|AXIS Insurance Ex...|[axis, insurance,...|(11788,[10,22,193...|(11788,[10,22,193...|\n",
            "+-----+--------------------+--------------------+--------------------+--------------------+\n",
            "only showing top 20 rows\n",
            "\n"
          ]
        }
      ]
    },
    {
      "cell_type": "code",
      "metadata": {
        "colab": {
          "base_uri": "https://localhost:8080/"
        },
        "id": "422KCtKsapc2",
        "outputId": "b633e787-bbe3-4b48-ae71-7073c4e6d36e"
      },
      "source": [
        "#Logistic Regression Classifier\n",
        "#Cross validator different classification to  \n",
        "#Param Grid apply different parameters, testing which param is best\n",
        "from pyspark.ml.classification import LogisticRegression\n",
        "from pyspark.ml.evaluation import BinaryClassificationEvaluator\n",
        "from pyspark.ml.tuning import CrossValidator, ParamGridBuilder\n",
        "from pyspark.ml.evaluation import MulticlassClassificationEvaluator\n",
        "import numpy as np\n",
        "lr = LogisticRegression(maxIter = 10)\n",
        "\n",
        "paramGrid_lr = ParamGridBuilder() \\\n",
        "    .addGrid(lr.regParam, np.linspace(0.3, 0.01, 10)) \\\n",
        "    .addGrid(lr.elasticNetParam, np.linspace(0.3, 0.8, 6)) \\\n",
        "    .build()\n",
        "crossval_lr = CrossValidator(estimator=lr,\n",
        "                          estimatorParamMaps=paramGrid_lr,\n",
        "                          evaluator=MulticlassClassificationEvaluator(),\n",
        "                          numFolds= 5)  \n",
        "cvModel_lr = crossval_lr.fit(trainDF)\n",
        "best_model_lr = cvModel_lr.bestModel.summary\n",
        "best_model_lr.predictions.columns"
      ],
      "id": "422KCtKsapc2",
      "execution_count": 16,
      "outputs": [
        {
          "output_type": "execute_result",
          "data": {
            "text/plain": [
              "['label',\n",
              " 'text',\n",
              " 'words',\n",
              " 'rawFeatures',\n",
              " 'features',\n",
              " 'rawPrediction',\n",
              " 'probability',\n",
              " 'prediction']"
            ]
          },
          "metadata": {},
          "execution_count": 16
        }
      ]
    },
    {
      "cell_type": "code",
      "metadata": {
        "colab": {
          "base_uri": "https://localhost:8080/"
        },
        "id": "oXHKusiWqkUf",
        "outputId": "e8e2980d-c3f0-4de8-b10c-81a7956311df"
      },
      "source": [
        "best_model_lr.predictions.show()"
      ],
      "id": "oXHKusiWqkUf",
      "execution_count": 17,
      "outputs": [
        {
          "output_type": "stream",
          "name": "stdout",
          "text": [
            "+-----+--------------------+--------------------+--------------------+--------------------+--------------------+--------------------+----------+\n",
            "|label|                text|               words|         rawFeatures|            features|       rawPrediction|         probability|prediction|\n",
            "+-----+--------------------+--------------------+--------------------+--------------------+--------------------+--------------------+----------+\n",
            "|  0.0|\"ASSA ABLOY to ac...|[\"assa, abloy, to...|(11788,[0,2,4,313...|(11788,[0,2,4,313...|[1.64517033979983...|[0.79824527096704...|       0.0|\n",
            "|  0.0|\"BofA Unveils \"\"V...|[\"bofa, unveils, ...|(11788,[399,7222,...|(11788,[399,7222,...|[2.08263253514879...|[0.81353218445965...|       0.0|\n",
            "|  0.0|\"CP Offer for KCS...|[\"cp, offer, for,...|(11788,[5,75,344,...|(11788,[5,75,344,...|[1.76665185080529...|[0.80250194367115...|       0.0|\n",
            "|  0.0|\"Cumulus Podcast ...|[\"cumulus, podcas...|(11788,[0,2,10,13...|(11788,[0,2,10,13...|[2.90273855393937...|[0.82680486923848...|       0.0|\n",
            "|  0.0|\"Epic Games asks ...|[\"epic, games, as...|(11788,[0,3,86,27...|(11788,[0,3,86,27...|[2.09792024134109...|[0.81603872333805...|       0.0|\n",
            "|  0.0|\"Great Bear Provi...|[\"great, bear, pr...|(11788,[4,7,45,89...|(11788,[4,7,45,89...|[2.94665682581161...|[0.90948610283230...|       0.0|\n",
            "|  0.0|\"IDenta Corp Anno...|[\"identa, corp, a...|(11788,[5,11,420,...|(11788,[5,11,420,...|[3.56896814148348...|[0.97779067717069...|       0.0|\n",
            "|  0.0|\"Kansas City Sout...|[\"kansas, city, s...|(11788,[2,6,9,45,...|(11788,[2,6,9,45,...|[3.22718434354480...|[0.90895805501500...|       0.0|\n",
            "|  0.0|\"Loop Media, Inc....|[\"loop, media,, i...|(11788,[14,22,111...|(11788,[14,22,111...|[2.33973687535765...|[0.89552795168378...|       0.0|\n",
            "|  0.0|\"MindMed to Atten...|[\"mindmed, to, at...|(11788,[0,3,33,41...|(11788,[0,3,33,41...|[2.07768982704509...|[0.81878217245896...|       0.0|\n",
            "|  0.0|\"OKYO Pharma Limi...|[\"okyo, pharma, l...|(11788,[1,2,33,34...|(11788,[1,2,33,34...|[3.80564366842772...|[0.98118289490334...|       0.0|\n",
            "|  0.0|\"Shutterstock Ann...|[\"shutterstock, a...|(11788,[1,2,12,20...|(11788,[1,2,12,20...|[2.57621364401873...|[0.93262478261950...|       0.0|\n",
            "|  0.0|\"The Boston Beer ...|[\"the, boston, be...|(11788,[22,69,111...|(11788,[22,69,111...|[1.73130663408599...|[0.80820447850714...|       0.0|\n",
            "|  0.0|\"Welcome to the T...|[\"welcome, to, th...|(11788,[0,1,111,2...|(11788,[0,1,111,2...|[1.88564533264297...|[0.79630822775370...|       0.0|\n",
            "|  0.0|/R E P E A T -- C...|[/r, e, p, e, a, ...|(11788,[0,1,4,6,1...|(11788,[0,1,4,6,1...|[2.40885075381025...|[0.92773316250976...|       0.0|\n",
            "|  0.0|01 Communique Pro...|[01, communique, ...|(11788,[4,7,13,26...|(11788,[4,7,13,26...|[4.84712029218164...|[0.99511153032502...|       0.0|\n",
            "|  0.0|10 Personal Finan...|[10, personal, fi...|(11788,[0,7,724,8...|(11788,[0,7,724,8...|[2.04750313406582...|[0.84370818115239...|       0.0|\n",
            "|  0.0|10X Capital Leade...|[10x, capital, le...|(11788,[3,41,147,...|(11788,[3,41,147,...|[2.02839483259698...|[0.79457234951477...|       0.0|\n",
            "|  0.0|15 Words From Pre...|[15, words, from,...|(11788,[4,5,45,84...|(11788,[4,5,45,84...|[2.15535084508549...|[0.81618842411757...|       0.0|\n",
            "|  0.0|16 Northern Illin...|[16, northern, il...|(11788,[2,4,45,45...|(11788,[2,4,45,45...|[2.78267504727440...|[0.92983574469491...|       0.0|\n",
            "+-----+--------------------+--------------------+--------------------+--------------------+--------------------+--------------------+----------+\n",
            "only showing top 20 rows\n",
            "\n"
          ]
        }
      ]
    },
    {
      "cell_type": "code",
      "metadata": {
        "colab": {
          "base_uri": "https://localhost:8080/"
        },
        "id": "Ns8T13S_dZ2I",
        "outputId": "0d5f9c91-8693-48ff-d0bc-89c527bff908"
      },
      "source": [
        "#import pre-covid test data\n",
        "url1 = 'https://raw.githubusercontent.com/dalismo/Finance_News_Sentiment/main/Resources/pre-covid-test-data.csv'\n",
        "spark.sparkContext.addFile(url1)\n",
        "pre_covid_df = spark.read.csv(SparkFiles.get(\"pre-covid-test-data.csv\"), sep=\",\", header=None)\n",
        "\n",
        "pre_covid_df.show(5, truncate=False)"
      ],
      "id": "Ns8T13S_dZ2I",
      "execution_count": 18,
      "outputs": [
        {
          "output_type": "stream",
          "name": "stdout",
          "text": [
            "+--------------------------------------------------------------------------------------+\n",
            "|_c0                                                                                   |\n",
            "+--------------------------------------------------------------------------------------+\n",
            "|Stitch Fix, Inc. (SFIX) CEO Katrina Lake on Q4 2019 Results - Earnings Call Transcript|\n",
            "|Goldman Sachs reshuffles Asia M&A leadership as John Kim retires - memo               |\n",
            "|What We Learned From Amazon's Big Hardware Announcements                              |\n",
            "|Cerner: A Great Stock To Add To Your Portfolio In 2020                                |\n",
            "|Johnson & Johnson settles Ohio lawsuits to avoid federal trial                        |\n",
            "+--------------------------------------------------------------------------------------+\n",
            "only showing top 5 rows\n",
            "\n"
          ]
        }
      ]
    },
    {
      "cell_type": "code",
      "metadata": {
        "colab": {
          "base_uri": "https://localhost:8080/"
        },
        "id": "nfTw_8oEhB4x",
        "outputId": "00810e68-fdfa-405e-f511-91c77f53428f"
      },
      "source": [
        "#Rename column\n",
        "pre_covid_df2 = pre_covid_df.withColumnRenamed(\"_c0\", \"text\")\n",
        "pre_covid_df2.printSchema()\n",
        "pre_covid_df2.show(20, truncate = False)"
      ],
      "id": "nfTw_8oEhB4x",
      "execution_count": 19,
      "outputs": [
        {
          "output_type": "stream",
          "name": "stdout",
          "text": [
            "root\n",
            " |-- text: string (nullable = true)\n",
            "\n",
            "+--------------------------------------------------------------------------------------+\n",
            "|text                                                                                  |\n",
            "+--------------------------------------------------------------------------------------+\n",
            "|Stitch Fix, Inc. (SFIX) CEO Katrina Lake on Q4 2019 Results - Earnings Call Transcript|\n",
            "|Goldman Sachs reshuffles Asia M&A leadership as John Kim retires - memo               |\n",
            "|What We Learned From Amazon's Big Hardware Announcements                              |\n",
            "|Cerner: A Great Stock To Add To Your Portfolio In 2020                                |\n",
            "|Johnson & Johnson settles Ohio lawsuits to avoid federal trial                        |\n",
            "|5 Key Conclusions From United Technologies' Latest Presentation                       |\n",
            "|Foot Locker: Worth The Gamble                                                         |\n",
            "|The Stock Market Dived Today, but These 2 Stocks Blasted Higher                       |\n",
            "|These High-Yield Stocks Are Adding to Their Appeal                                    |\n",
            "|This High-Yield Stock Could Generate Massive Returns Over the Next 5 Years            |\n",
            "|New Oriental Education Sees Recurring Revenues and Multi-Generational Demand          |\n",
            "|J&J to pay $20.4 million to settle opioid lawsuits with two Ohio counties             |\n",
            "|Pharma Giant J&J Avoids Opioid Trial In Ohio With $10 Million Settlement              |\n",
            "|Brokerage Stocks Plunge As Schwab Eliminates Commissions                              |\n",
            "|Johnson & Johnson settles with Ohio counties ahead of opioid trial                    |\n",
            "|Visa, Mastercard reconsider backing Facebook's Libra, report says                     |\n",
            "|Apple Looking For New High                                                            |\n",
            "|Why Cloud Computing Will be a Key Revenue Driver for Alibaba                          |\n",
            "|Micron: Back To Reality                                                               |\n",
            "|The New Ireland Fund, Inc. Monthly Portfolio Update.                                  |\n",
            "+--------------------------------------------------------------------------------------+\n",
            "only showing top 20 rows\n",
            "\n"
          ]
        }
      ]
    },
    {
      "cell_type": "code",
      "metadata": {
        "colab": {
          "base_uri": "https://localhost:8080/"
        },
        "id": "osHj5TgUg4YR",
        "outputId": "ddcb53e3-81a5-455d-82c7-407c900cf1b5"
      },
      "source": [
        "#tokenize text\n",
        "# from pyspark.ml.feature import  Tokenizer\n",
        "tokenizer = Tokenizer(inputCol=\"text\", outputCol=\"words\")\n",
        "wordsData = tokenizer.transform(pre_covid_df2)\n",
        "wordsData.show()"
      ],
      "id": "osHj5TgUg4YR",
      "execution_count": 20,
      "outputs": [
        {
          "output_type": "stream",
          "name": "stdout",
          "text": [
            "+--------------------+--------------------+\n",
            "|                text|               words|\n",
            "+--------------------+--------------------+\n",
            "|Stitch Fix, Inc. ...|[stitch, fix,, in...|\n",
            "|Goldman Sachs res...|[goldman, sachs, ...|\n",
            "|What We Learned F...|[what, we, learne...|\n",
            "|Cerner: A Great S...|[cerner:, a, grea...|\n",
            "|Johnson & Johnson...|[johnson, &, john...|\n",
            "|5 Key Conclusions...|[5, key, conclusi...|\n",
            "|Foot Locker: Wort...|[foot, locker:, w...|\n",
            "|The Stock Market ...|[the, stock, mark...|\n",
            "|These High-Yield ...|[these, high-yiel...|\n",
            "|This High-Yield S...|[this, high-yield...|\n",
            "|New Oriental Educ...|[new, oriental, e...|\n",
            "|J&J to pay $20.4 ...|[j&j, to, pay, $2...|\n",
            "|Pharma Giant J&J ...|[pharma, giant, j...|\n",
            "|Brokerage Stocks ...|[brokerage, stock...|\n",
            "|Johnson & Johnson...|[johnson, &, john...|\n",
            "|Visa, Mastercard ...|[visa,, mastercar...|\n",
            "|Apple Looking For...|[apple, looking, ...|\n",
            "|Why Cloud Computi...|[why, cloud, comp...|\n",
            "|Micron: Back To R...|[micron:, back, t...|\n",
            "|The New Ireland F...|[the, new, irelan...|\n",
            "+--------------------+--------------------+\n",
            "only showing top 20 rows\n",
            "\n"
          ]
        }
      ]
    },
    {
      "cell_type": "code",
      "metadata": {
        "colab": {
          "base_uri": "https://localhost:8080/"
        },
        "id": "HPSwYmrehRlF",
        "outputId": "8b0b65f0-2fb9-47c5-d947-0aecf75147e2"
      },
      "source": [
        "#count vectorize \n",
        "# from pyspark.ml.feature import CountVectorizer\n",
        "# count = CountVectorizer (inputCol=\"words\", outputCol=\"rawFeatures\")\n",
        "# model = count.fit(wordsData)\n",
        "featurizedData = model.transform(wordsData)\n",
        "featurizedData.show()"
      ],
      "id": "HPSwYmrehRlF",
      "execution_count": 21,
      "outputs": [
        {
          "output_type": "stream",
          "name": "stdout",
          "text": [
            "+--------------------+--------------------+--------------------+\n",
            "|                text|               words|         rawFeatures|\n",
            "+--------------------+--------------------+--------------------+\n",
            "|Stitch Fix, Inc. ...|[stitch, fix,, in...|(11788,[7,14,19,2...|\n",
            "|Goldman Sachs res...|[goldman, sachs, ...|(11788,[20,34,487...|\n",
            "|What We Learned F...|[what, we, learne...|(11788,[29,45,187...|\n",
            "|Cerner: A Great S...|[cerner:, a, grea...|(11788,[0,3,6,8,1...|\n",
            "|Johnson & Johnson...|[johnson, &, john...|(11788,[0,28,269,...|\n",
            "|5 Key Conclusions...|[5, key, conclusi...|(11788,[45,155,25...|\n",
            "|Foot Locker: Wort...|[foot, locker:, w...|(11788,[1,320,177...|\n",
            "|The Stock Market ...|[the, stock, mark...|(11788,[1,8,18,55...|\n",
            "|These High-Yield ...|[these, high-yiel...|(11788,[0,18,48,2...|\n",
            "|This High-Yield S...|[this, high-yield...|(11788,[1,8,37,84...|\n",
            "|New Oriental Educ...|[new, oriental, e...|(11788,[4,22,276,...|\n",
            "|J&J to pay $20.4 ...|[j&j, to, pay, $2...|(11788,[0,10,72,2...|\n",
            "|Pharma Giant J&J ...|[pharma, giant, j...|(11788,[3,10,72,2...|\n",
            "|Brokerage Stocks ...|[brokerage, stock...|(11788,[18,20,421...|\n",
            "|Johnson & Johnson...|[johnson, &, john...|(11788,[2,10,28,2...|\n",
            "|Visa, Mastercard ...|[visa,, mastercar...|(11788,[102,192,8...|\n",
            "|Apple Looking For...|[apple, looking, ...|(11788,[5,22,86,1...|\n",
            "|Why Cloud Computi...|[why, cloud, comp...|(11788,[5,6,15,67...|\n",
            "|Micron: Back To R...|[micron:, back, t...|(11788,[0,408,261...|\n",
            "|The New Ireland F...|[the, new, irelan...|(11788,[1,14,22,2...|\n",
            "+--------------------+--------------------+--------------------+\n",
            "only showing top 20 rows\n",
            "\n"
          ]
        }
      ]
    },
    {
      "cell_type": "code",
      "metadata": {
        "colab": {
          "base_uri": "https://localhost:8080/"
        },
        "id": "JAMPcf9uhcKO",
        "outputId": "ddd02cb4-9b30-4a62-c18e-433e111adc46"
      },
      "source": [
        "from pyspark.ml.feature import  IDF\n",
        "#IDF down-weighs features which appear frequently in a corpus. This generally improves performance when using text as features since most frequent, and hence less important words, get down-weighed.\n",
        "idf = IDF(inputCol=\"rawFeatures\", outputCol=\"features\")\n",
        "idfModel = idf.fit(featurizedData)\n",
        "rescaledData = idfModel.transform(featurizedData)\n",
        "rescaledData.select(\"features\").show()  \n",
        "# We want only the label and features columns for our machine learning models"
      ],
      "id": "JAMPcf9uhcKO",
      "execution_count": 22,
      "outputs": [
        {
          "output_type": "stream",
          "name": "stdout",
          "text": [
            "+--------------------+\n",
            "|            features|\n",
            "+--------------------+\n",
            "|(11788,[7,14,19,2...|\n",
            "|(11788,[20,34,487...|\n",
            "|(11788,[29,45,187...|\n",
            "|(11788,[0,3,6,8,1...|\n",
            "|(11788,[0,28,269,...|\n",
            "|(11788,[45,155,25...|\n",
            "|(11788,[1,320,177...|\n",
            "|(11788,[1,8,18,55...|\n",
            "|(11788,[0,18,48,2...|\n",
            "|(11788,[1,8,37,84...|\n",
            "|(11788,[4,22,276,...|\n",
            "|(11788,[0,10,72,2...|\n",
            "|(11788,[3,10,72,2...|\n",
            "|(11788,[18,20,421...|\n",
            "|(11788,[2,10,28,2...|\n",
            "|(11788,[102,192,8...|\n",
            "|(11788,[5,22,86,1...|\n",
            "|(11788,[5,6,15,67...|\n",
            "|(11788,[0,408,261...|\n",
            "|(11788,[1,14,22,2...|\n",
            "+--------------------+\n",
            "only showing top 20 rows\n",
            "\n"
          ]
        }
      ]
    },
    {
      "cell_type": "code",
      "metadata": {
        "colab": {
          "base_uri": "https://localhost:8080/"
        },
        "id": "l2mwc-1WNsOJ",
        "outputId": "eb87e3d9-ae25-4686-fd7d-51ce2554dac6"
      },
      "source": [
        "#Predict using the test data and evaluate the predictions\n",
        "predictions_lr = cvModel_lr.transform(rescaledData)\n",
        "predictions_lr.columns"
      ],
      "id": "l2mwc-1WNsOJ",
      "execution_count": 23,
      "outputs": [
        {
          "output_type": "execute_result",
          "data": {
            "text/plain": [
              "['text',\n",
              " 'words',\n",
              " 'rawFeatures',\n",
              " 'features',\n",
              " 'rawPrediction',\n",
              " 'probability',\n",
              " 'prediction']"
            ]
          },
          "metadata": {},
          "execution_count": 23
        }
      ]
    },
    {
      "cell_type": "code",
      "metadata": {
        "colab": {
          "base_uri": "https://localhost:8080/"
        },
        "id": "yRpIdd3Iw0bK",
        "outputId": "ee542ff7-eaa4-4e0a-c4a3-38d775fd64f7"
      },
      "source": [
        "predictions_lr.show()"
      ],
      "id": "yRpIdd3Iw0bK",
      "execution_count": 24,
      "outputs": [
        {
          "output_type": "stream",
          "name": "stdout",
          "text": [
            "+--------------------+--------------------+--------------------+--------------------+--------------------+--------------------+----------+\n",
            "|                text|               words|         rawFeatures|            features|       rawPrediction|         probability|prediction|\n",
            "+--------------------+--------------------+--------------------+--------------------+--------------------+--------------------+----------+\n",
            "|Stitch Fix, Inc. ...|[stitch, fix,, in...|(11788,[7,14,19,2...|(11788,[7,14,19,2...|[2.08322052305687...|[0.84237043688124...|       0.0|\n",
            "|Goldman Sachs res...|[goldman, sachs, ...|(11788,[20,34,487...|(11788,[20,34,487...|[0.92630830116202...|[0.57996042993183...|       0.0|\n",
            "|What We Learned F...|[what, we, learne...|(11788,[29,45,187...|(11788,[29,45,187...|[0.08253225562549...|[0.27277684409562...|       1.0|\n",
            "|Cerner: A Great S...|[cerner:, a, grea...|(11788,[0,3,6,8,1...|(11788,[0,3,6,8,1...|[0.83831042548183...|[0.10348075011153...|       1.0|\n",
            "|Johnson & Johnson...|[johnson, &, john...|(11788,[0,28,269,...|(11788,[0,28,269,...|[0.87619418511570...|[0.51682663721496...|       0.0|\n",
            "|5 Key Conclusions...|[5, key, conclusi...|(11788,[45,155,25...|(11788,[45,155,25...|[1.51123808135012...|[0.76053864736614...|       0.0|\n",
            "|Foot Locker: Wort...|[foot, locker:, w...|(11788,[1,320,177...|(11788,[1,320,177...|[0.69472335820757...|[0.60412524209597...|       0.0|\n",
            "|The Stock Market ...|[the, stock, mark...|(11788,[1,8,18,55...|(11788,[1,8,18,55...|[-1.4491644302490...|[0.01054391603046...|       1.0|\n",
            "|These High-Yield ...|[these, high-yiel...|(11788,[0,18,48,2...|(11788,[0,18,48,2...|[-0.7371327977198...|[0.11551119505645...|       1.0|\n",
            "|This High-Yield S...|[this, high-yield...|(11788,[1,8,37,84...|(11788,[1,8,37,84...|[-0.6616513516646...|[0.00865794649917...|       1.0|\n",
            "|New Oriental Educ...|[new, oriental, e...|(11788,[4,22,276,...|(11788,[4,22,276,...|[0.95324834360568...|[0.52025611982300...|       0.0|\n",
            "|J&J to pay $20.4 ...|[j&j, to, pay, $2...|(11788,[0,10,72,2...|(11788,[0,10,72,2...|[1.24415724266630...|[0.28865941495908...|       1.0|\n",
            "|Pharma Giant J&J ...|[pharma, giant, j...|(11788,[3,10,72,2...|(11788,[3,10,72,2...|[1.19782524676454...|[0.75558048775837...|       0.0|\n",
            "|Brokerage Stocks ...|[brokerage, stock...|(11788,[18,20,421...|(11788,[18,20,421...|[-0.6258407610435...|[0.06551731824157...|       2.0|\n",
            "|Johnson & Johnson...|[johnson, &, john...|(11788,[2,10,28,2...|(11788,[2,10,28,2...|[0.68564382726747...|[0.47274268508746...|       0.0|\n",
            "|Visa, Mastercard ...|[visa,, mastercar...|(11788,[102,192,8...|(11788,[102,192,8...|[0.57543150964422...|[0.34174905835735...|       1.0|\n",
            "|Apple Looking For...|[apple, looking, ...|(11788,[5,22,86,1...|(11788,[5,22,86,1...|[0.60084866443870...|[0.44670772246469...|       1.0|\n",
            "|Why Cloud Computi...|[why, cloud, comp...|(11788,[5,6,15,67...|(11788,[5,6,15,67...|[-0.5725098319611...|[0.10532004995944...|       1.0|\n",
            "|Micron: Back To R...|[micron:, back, t...|(11788,[0,408,261...|(11788,[0,408,261...|[0.87619418511570...|[0.42333652772576...|       1.0|\n",
            "|The New Ireland F...|[the, new, irelan...|(11788,[1,14,22,2...|(11788,[1,14,22,2...|[2.24839815647698...|[0.84962788282560...|       0.0|\n",
            "+--------------------+--------------------+--------------------+--------------------+--------------------+--------------------+----------+\n",
            "only showing top 20 rows\n",
            "\n"
          ]
        }
      ]
    },
    {
      "cell_type": "code",
      "metadata": {
        "colab": {
          "base_uri": "https://localhost:8080/"
        },
        "id": "8zSmgjhtZWd9",
        "outputId": "30694e7a-658d-497a-d684-f234dfc4a56b"
      },
      "source": [
        "predictions_lr_df = predictions_lr.select('prediction', 'text')\n",
        "predictions_lr_df.show(5)"
      ],
      "id": "8zSmgjhtZWd9",
      "execution_count": 31,
      "outputs": [
        {
          "output_type": "stream",
          "name": "stdout",
          "text": [
            "+----------+--------------------+\n",
            "|prediction|                text|\n",
            "+----------+--------------------+\n",
            "|       0.0|Stitch Fix, Inc. ...|\n",
            "|       0.0|Goldman Sachs res...|\n",
            "|       1.0|What We Learned F...|\n",
            "|       1.0|Cerner: A Great S...|\n",
            "|       0.0|Johnson & Johnson...|\n",
            "+----------+--------------------+\n",
            "only showing top 5 rows\n",
            "\n"
          ]
        }
      ]
    },
    {
      "cell_type": "code",
      "metadata": {
        "colab": {
          "base_uri": "https://localhost:8080/"
        },
        "id": "EgXODWPQZQTV",
        "outputId": "b2ad90d3-5116-413f-e916-5f0b4f592d55"
      },
      "source": [
        "predictions_lr_df.createOrReplaceTempView('temp')\n",
        "predictions_lr_df1 = spark.sql('select case prediction when \"1.0\" then \"Positive\"  when \"2.0\" then \"Negative\" else \"Neutral\" end as predicted_label, text from temp')\n",
        "predictions_lr_df1.show(20, truncate = False)"
      ],
      "id": "EgXODWPQZQTV",
      "execution_count": 32,
      "outputs": [
        {
          "output_type": "stream",
          "name": "stdout",
          "text": [
            "+---------------+--------------------------------------------------------------------------------------+\n",
            "|predicted_label|text                                                                                  |\n",
            "+---------------+--------------------------------------------------------------------------------------+\n",
            "|Neutral        |Stitch Fix, Inc. (SFIX) CEO Katrina Lake on Q4 2019 Results - Earnings Call Transcript|\n",
            "|Neutral        |Goldman Sachs reshuffles Asia M&A leadership as John Kim retires - memo               |\n",
            "|Positive       |What We Learned From Amazon's Big Hardware Announcements                              |\n",
            "|Positive       |Cerner: A Great Stock To Add To Your Portfolio In 2020                                |\n",
            "|Neutral        |Johnson & Johnson settles Ohio lawsuits to avoid federal trial                        |\n",
            "|Neutral        |5 Key Conclusions From United Technologies' Latest Presentation                       |\n",
            "|Neutral        |Foot Locker: Worth The Gamble                                                         |\n",
            "|Positive       |The Stock Market Dived Today, but These 2 Stocks Blasted Higher                       |\n",
            "|Positive       |These High-Yield Stocks Are Adding to Their Appeal                                    |\n",
            "|Positive       |This High-Yield Stock Could Generate Massive Returns Over the Next 5 Years            |\n",
            "|Neutral        |New Oriental Education Sees Recurring Revenues and Multi-Generational Demand          |\n",
            "|Positive       |J&J to pay $20.4 million to settle opioid lawsuits with two Ohio counties             |\n",
            "|Neutral        |Pharma Giant J&J Avoids Opioid Trial In Ohio With $10 Million Settlement              |\n",
            "|Negative       |Brokerage Stocks Plunge As Schwab Eliminates Commissions                              |\n",
            "|Neutral        |Johnson & Johnson settles with Ohio counties ahead of opioid trial                    |\n",
            "|Positive       |Visa, Mastercard reconsider backing Facebook's Libra, report says                     |\n",
            "|Positive       |Apple Looking For New High                                                            |\n",
            "|Positive       |Why Cloud Computing Will be a Key Revenue Driver for Alibaba                          |\n",
            "|Positive       |Micron: Back To Reality                                                               |\n",
            "|Neutral        |The New Ireland Fund, Inc. Monthly Portfolio Update.                                  |\n",
            "+---------------+--------------------------------------------------------------------------------------+\n",
            "only showing top 20 rows\n",
            "\n"
          ]
        }
      ]
    },
    {
      "cell_type": "code",
      "metadata": {
        "colab": {
          "base_uri": "https://localhost:8080/"
        },
        "id": "q6YzwjMxZy_8",
        "outputId": "78e90064-8d52-4273-9323-ce3f6e4be189"
      },
      "source": [
        "predictions_lr_df1.groupBy('predicted_label').count().show()"
      ],
      "id": "q6YzwjMxZy_8",
      "execution_count": 33,
      "outputs": [
        {
          "output_type": "stream",
          "name": "stdout",
          "text": [
            "+---------------+-----+\n",
            "|predicted_label|count|\n",
            "+---------------+-----+\n",
            "|        Neutral| 4785|\n",
            "|       Positive| 3850|\n",
            "|       Negative|  515|\n",
            "+---------------+-----+\n",
            "\n"
          ]
        }
      ]
    },
    {
      "cell_type": "code",
      "metadata": {
        "id": "g-7kZGy0a7R-"
      },
      "source": [
        "predictions_lr_df1.toPandas().to_csv('pre_covid_predictions_count_vector_logistic_reg_model.csv')"
      ],
      "id": "g-7kZGy0a7R-",
      "execution_count": 35,
      "outputs": []
    },
    {
      "cell_type": "code",
      "metadata": {
        "id": "gJZewrHOEbCu"
      },
      "source": [
        "#Naive Bayes using MulticlassClassificationEval\n",
        "from pyspark.ml.classification import NaiveBayes\n",
        "from pyspark.ml.evaluation import BinaryClassificationEvaluator\n",
        "from pyspark.ml.tuning import CrossValidator, ParamGridBuilder\n",
        "from pyspark.ml.evaluation import MulticlassClassificationEvaluator\n",
        "nb = NaiveBayes()\n",
        "paramGrid_nb = ParamGridBuilder() \\\n",
        "    .addGrid(nb.smoothing, np.linspace(0.3, 10, 10)) \\\n",
        "    .build()\n",
        "crossval_nb = CrossValidator(estimator=nb,\n",
        "                          estimatorParamMaps=paramGrid_nb,\n",
        "                          evaluator=MulticlassClassificationEvaluator(),\n",
        "                          numFolds= 5) \n",
        "cvModel_nb = crossval_nb.fit(trainDF)"
      ],
      "id": "gJZewrHOEbCu",
      "execution_count": 25,
      "outputs": []
    },
    {
      "cell_type": "code",
      "metadata": {
        "colab": {
          "base_uri": "https://localhost:8080/"
        },
        "id": "plAaMl_tmFcl",
        "outputId": "2ea0da36-ccb1-4dde-b9f7-84b85daa5e44"
      },
      "source": [
        "#Make predictions:\n",
        "predictions_nb = cvModel_nb.transform(rescaledData)\n",
        "predictions_nb.select('text','prediction').show(truncate = False)"
      ],
      "id": "plAaMl_tmFcl",
      "execution_count": 26,
      "outputs": [
        {
          "output_type": "stream",
          "name": "stdout",
          "text": [
            "+--------------------------------------------------------------------------------------+----------+\n",
            "|text                                                                                  |prediction|\n",
            "+--------------------------------------------------------------------------------------+----------+\n",
            "|Stitch Fix, Inc. (SFIX) CEO Katrina Lake on Q4 2019 Results - Earnings Call Transcript|0.0       |\n",
            "|Goldman Sachs reshuffles Asia M&A leadership as John Kim retires - memo               |0.0       |\n",
            "|What We Learned From Amazon's Big Hardware Announcements                              |1.0       |\n",
            "|Cerner: A Great Stock To Add To Your Portfolio In 2020                                |1.0       |\n",
            "|Johnson & Johnson settles Ohio lawsuits to avoid federal trial                        |1.0       |\n",
            "|5 Key Conclusions From United Technologies' Latest Presentation                       |0.0       |\n",
            "|Foot Locker: Worth The Gamble                                                         |1.0       |\n",
            "|The Stock Market Dived Today, but These 2 Stocks Blasted Higher                       |1.0       |\n",
            "|These High-Yield Stocks Are Adding to Their Appeal                                    |1.0       |\n",
            "|This High-Yield Stock Could Generate Massive Returns Over the Next 5 Years            |1.0       |\n",
            "|New Oriental Education Sees Recurring Revenues and Multi-Generational Demand          |1.0       |\n",
            "|J&J to pay $20.4 million to settle opioid lawsuits with two Ohio counties             |1.0       |\n",
            "|Pharma Giant J&J Avoids Opioid Trial In Ohio With $10 Million Settlement              |1.0       |\n",
            "|Brokerage Stocks Plunge As Schwab Eliminates Commissions                              |2.0       |\n",
            "|Johnson & Johnson settles with Ohio counties ahead of opioid trial                    |1.0       |\n",
            "|Visa, Mastercard reconsider backing Facebook's Libra, report says                     |1.0       |\n",
            "|Apple Looking For New High                                                            |1.0       |\n",
            "|Why Cloud Computing Will be a Key Revenue Driver for Alibaba                          |1.0       |\n",
            "|Micron: Back To Reality                                                               |1.0       |\n",
            "|The New Ireland Fund, Inc. Monthly Portfolio Update.                                  |0.0       |\n",
            "+--------------------------------------------------------------------------------------+----------+\n",
            "only showing top 20 rows\n",
            "\n"
          ]
        }
      ]
    },
    {
      "cell_type": "code",
      "metadata": {
        "colab": {
          "base_uri": "https://localhost:8080/"
        },
        "id": "yz-CYcdaSMWc",
        "outputId": "72562df8-ed62-453d-a85e-ee81a3e14ca7"
      },
      "source": [
        "predictions_nb.show()"
      ],
      "id": "yz-CYcdaSMWc",
      "execution_count": 27,
      "outputs": [
        {
          "output_type": "stream",
          "name": "stdout",
          "text": [
            "+--------------------+--------------------+--------------------+--------------------+--------------------+--------------------+----------+\n",
            "|                text|               words|         rawFeatures|            features|       rawPrediction|         probability|prediction|\n",
            "+--------------------+--------------------+--------------------+--------------------+--------------------+--------------------+----------+\n",
            "|Stitch Fix, Inc. ...|[stitch, fix,, in...|(11788,[7,14,19,2...|(11788,[7,14,19,2...|[-165.68705440150...|[0.99999999999999...|       0.0|\n",
            "|Goldman Sachs res...|[goldman, sachs, ...|(11788,[20,34,487...|(11788,[20,34,487...|[-548.93349725436...|[0.99982321779231...|       0.0|\n",
            "|What We Learned F...|[what, we, learne...|(11788,[29,45,187...|(11788,[29,45,187...|[-341.84573945065...|[1.70025858083132...|       1.0|\n",
            "|Cerner: A Great S...|[cerner:, a, grea...|(11788,[0,3,6,8,1...|(11788,[0,3,6,8,1...|[-283.22484111393...|[3.70202785851974...|       1.0|\n",
            "|Johnson & Johnson...|[johnson, &, john...|(11788,[0,28,269,...|(11788,[0,28,269,...|[-446.06681986051...|[2.52754746454556...|       1.0|\n",
            "|5 Key Conclusions...|[5, key, conclusi...|(11788,[45,155,25...|(11788,[45,155,25...|[-351.79217050865...|[0.99984719598600...|       0.0|\n",
            "|Foot Locker: Wort...|[foot, locker:, w...|(11788,[1,320,177...|(11788,[1,320,177...|[-199.86071262879...|[0.11006134293008...|       1.0|\n",
            "|The Stock Market ...|[the, stock, mark...|(11788,[1,8,18,55...|(11788,[1,8,18,55...|[-479.89642550526...|[2.21612668323721...|       1.0|\n",
            "|These High-Yield ...|[these, high-yiel...|(11788,[0,18,48,2...|(11788,[0,18,48,2...|[-351.03810430068...|[3.89196622334430...|       1.0|\n",
            "|This High-Yield S...|[this, high-yield...|(11788,[1,8,37,84...|(11788,[1,8,37,84...|[-523.68434254321...|[4.18349798615977...|       1.0|\n",
            "|New Oriental Educ...|[new, oriental, e...|(11788,[4,22,276,...|(11788,[4,22,276,...|[-338.35426231712...|[1.70249641370854...|       1.0|\n",
            "|J&J to pay $20.4 ...|[j&j, to, pay, $2...|(11788,[0,10,72,2...|(11788,[0,10,72,2...|[-513.96591021549...|[1.76840861034347...|       1.0|\n",
            "|Pharma Giant J&J ...|[pharma, giant, j...|(11788,[3,10,72,2...|(11788,[3,10,72,2...|[-552.51099229839...|[0.15246589697967...|       1.0|\n",
            "|Brokerage Stocks ...|[brokerage, stock...|(11788,[18,20,421...|(11788,[18,20,421...|[-119.03140608531...|[4.11955901595821...|       2.0|\n",
            "|Johnson & Johnson...|[johnson, &, john...|(11788,[2,10,28,2...|(11788,[2,10,28,2...|[-532.87779243597...|[0.01850918193902...|       1.0|\n",
            "|Visa, Mastercard ...|[visa,, mastercar...|(11788,[102,192,8...|(11788,[102,192,8...|[-270.34454497606...|[5.02982839509052...|       1.0|\n",
            "|Apple Looking For...|[apple, looking, ...|(11788,[5,22,86,1...|(11788,[5,22,86,1...|[-161.93474768753...|[6.09548053330659...|       1.0|\n",
            "|Why Cloud Computi...|[why, cloud, comp...|(11788,[5,6,15,67...|(11788,[5,6,15,67...|[-423.12936999019...|[3.12835885769885...|       1.0|\n",
            "|Micron: Back To R...|[micron:, back, t...|(11788,[0,408,261...|(11788,[0,408,261...|[-208.09688975224...|[1.27643319945021...|       1.0|\n",
            "|The New Ireland F...|[the, new, irelan...|(11788,[1,14,22,2...|(11788,[1,14,22,2...|[-284.60564171270...|[0.99999970081834...|       0.0|\n",
            "+--------------------+--------------------+--------------------+--------------------+--------------------+--------------------+----------+\n",
            "only showing top 20 rows\n",
            "\n"
          ]
        }
      ]
    },
    {
      "cell_type": "code",
      "metadata": {
        "colab": {
          "base_uri": "https://localhost:8080/"
        },
        "id": "CcrYLPB4TVV7",
        "outputId": "ff71e6b6-6519-4b69-d091-22d618087248"
      },
      "source": [
        "predictions_nb_df = predictions_nb.select('prediction', 'text')\n",
        "predictions_nb_df.show(5)"
      ],
      "id": "CcrYLPB4TVV7",
      "execution_count": 28,
      "outputs": [
        {
          "output_type": "stream",
          "name": "stdout",
          "text": [
            "+----------+--------------------+\n",
            "|prediction|                text|\n",
            "+----------+--------------------+\n",
            "|       0.0|Stitch Fix, Inc. ...|\n",
            "|       0.0|Goldman Sachs res...|\n",
            "|       1.0|What We Learned F...|\n",
            "|       1.0|Cerner: A Great S...|\n",
            "|       1.0|Johnson & Johnson...|\n",
            "+----------+--------------------+\n",
            "only showing top 5 rows\n",
            "\n"
          ]
        }
      ]
    },
    {
      "cell_type": "code",
      "metadata": {
        "colab": {
          "base_uri": "https://localhost:8080/"
        },
        "id": "x3LNZIg_Q18L",
        "outputId": "011e7756-30aa-407f-e988-1c993a43d144"
      },
      "source": [
        "predictions_nb_df.createOrReplaceTempView('temp')\n",
        "predictions_nb_df1 = spark.sql('select case prediction when \"1.0\" then \"Positive\"  when \"2.0\" then \"Negative\" else \"Neutral\" end as predicted_label, text from temp')\n",
        "predictions_nb_df1.show(20, truncate = False)"
      ],
      "id": "x3LNZIg_Q18L",
      "execution_count": 29,
      "outputs": [
        {
          "output_type": "stream",
          "name": "stdout",
          "text": [
            "+---------------+--------------------------------------------------------------------------------------+\n",
            "|predicted_label|text                                                                                  |\n",
            "+---------------+--------------------------------------------------------------------------------------+\n",
            "|Neutral        |Stitch Fix, Inc. (SFIX) CEO Katrina Lake on Q4 2019 Results - Earnings Call Transcript|\n",
            "|Neutral        |Goldman Sachs reshuffles Asia M&A leadership as John Kim retires - memo               |\n",
            "|Positive       |What We Learned From Amazon's Big Hardware Announcements                              |\n",
            "|Positive       |Cerner: A Great Stock To Add To Your Portfolio In 2020                                |\n",
            "|Positive       |Johnson & Johnson settles Ohio lawsuits to avoid federal trial                        |\n",
            "|Neutral        |5 Key Conclusions From United Technologies' Latest Presentation                       |\n",
            "|Positive       |Foot Locker: Worth The Gamble                                                         |\n",
            "|Positive       |The Stock Market Dived Today, but These 2 Stocks Blasted Higher                       |\n",
            "|Positive       |These High-Yield Stocks Are Adding to Their Appeal                                    |\n",
            "|Positive       |This High-Yield Stock Could Generate Massive Returns Over the Next 5 Years            |\n",
            "|Positive       |New Oriental Education Sees Recurring Revenues and Multi-Generational Demand          |\n",
            "|Positive       |J&J to pay $20.4 million to settle opioid lawsuits with two Ohio counties             |\n",
            "|Positive       |Pharma Giant J&J Avoids Opioid Trial In Ohio With $10 Million Settlement              |\n",
            "|Negative       |Brokerage Stocks Plunge As Schwab Eliminates Commissions                              |\n",
            "|Positive       |Johnson & Johnson settles with Ohio counties ahead of opioid trial                    |\n",
            "|Positive       |Visa, Mastercard reconsider backing Facebook's Libra, report says                     |\n",
            "|Positive       |Apple Looking For New High                                                            |\n",
            "|Positive       |Why Cloud Computing Will be a Key Revenue Driver for Alibaba                          |\n",
            "|Positive       |Micron: Back To Reality                                                               |\n",
            "|Neutral        |The New Ireland Fund, Inc. Monthly Portfolio Update.                                  |\n",
            "+---------------+--------------------------------------------------------------------------------------+\n",
            "only showing top 20 rows\n",
            "\n"
          ]
        }
      ]
    },
    {
      "cell_type": "code",
      "metadata": {
        "id": "OeMfDuqTTVUv",
        "colab": {
          "base_uri": "https://localhost:8080/"
        },
        "outputId": "c242b368-cb9e-4519-c3dc-e22082160af7"
      },
      "source": [
        "predictions_nb_df1.groupBy('predicted_label').count().show()"
      ],
      "id": "OeMfDuqTTVUv",
      "execution_count": 30,
      "outputs": [
        {
          "output_type": "stream",
          "name": "stdout",
          "text": [
            "+---------------+-----+\n",
            "|predicted_label|count|\n",
            "+---------------+-----+\n",
            "|        Neutral| 3777|\n",
            "|       Positive| 4590|\n",
            "|       Negative|  783|\n",
            "+---------------+-----+\n",
            "\n"
          ]
        }
      ]
    },
    {
      "cell_type": "code",
      "metadata": {
        "id": "nkv7BDfeQ19Z"
      },
      "source": [
        "predictions_nb_df1.toPandas().to_csv('pre_covid_predictions_count_vector_naive_bayes_model.csv')"
      ],
      "id": "nkv7BDfeQ19Z",
      "execution_count": 34,
      "outputs": []
    }
  ]
}